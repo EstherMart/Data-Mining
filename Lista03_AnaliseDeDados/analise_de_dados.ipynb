{
 "cells": [
  {
   "cell_type": "markdown",
   "id": "94270a21",
   "metadata": {},
   "source": [
    "# CK0223 - Mineração de Dados"
   ]
  },
  {
   "cell_type": "markdown",
   "id": "3312b2cd",
   "metadata": {},
   "source": [
    "## Lista 03 - Análise de Dados"
   ]
  },
  {
   "cell_type": "markdown",
   "id": "55540cb3",
   "metadata": {},
   "source": [
    "### Dados do discente:\n",
    "**Nome**: Luiza Esther Martins Pessoa\n",
    "**Matrícula**: 555516\n",
    "\n",
    "### Vídeo Youtube:\n",
    "[Mineração de Dados: Lista 03 - Análise de Dados (Explicando o código)]()\n",
    "\n",
    "### GitHub:\n",
    "[EstherMart - Análise de Dados](https://github.com/EstherMart/Data-Mining/blob/main/Lista03_AnaliseDeDados/analise_de_dados.ipynb)\n",
    "\n",
    "---"
   ]
  },
  {
   "cell_type": "markdown",
   "id": "637cd9b6",
   "metadata": {},
   "source": [
    "### **(a)** Ler o dataset *fakeTelegram.BR_2022.csv*"
   ]
  },
  {
   "cell_type": "markdown",
   "id": "5397f4ab",
   "metadata": {},
   "source": [
    "Como realizado na [Lista 01 - Tratamento de Dados](https://github.com/EstherMart/Data-Mining/blob/main/Lista01_TratamentoDeDados/tratamento.ipynb) e na [Lista 02 - Extração de Dados](https://github.com/EstherMart/Data-Mining/tree/main/Lista02_ExtracaoDeDados), ler o dataset é o primeiro passo para iniciarmos a extraçãa, manipulação e tratamento dos dados. \n",
    "\n",
    "Para fazer isso, começamos importando as bibliotecas necessárias para leitura (`pandas`) e para download local da base de dados (`gdown`). Além disso, vale ressaltar que existem outras formas de realizar o upload para o repositório local, mas decidi seguir a lógica de puxar e realizar o download de base utilizando apenas o link disponibilizado pelo professor.\n",
    "\n",
    "**Importante**: Alguns trechos de código serão reutilizados, visto que são as mesmas exigências em ambas as listas e tal solicitação já foi realizada nas listas anteriores."
   ]
  },
  {
   "cell_type": "code",
   "execution_count": 1,
   "id": "c87a93e6",
   "metadata": {},
   "outputs": [],
   "source": [
    "# IMPORTAÇÃO DE BIBLIOTECAS\n",
    "import gdown\n",
    "import pandas as pd"
   ]
  },
  {
   "cell_type": "markdown",
   "id": "ea0040aa",
   "metadata": {},
   "source": [
    "Fazendo o download do dataset para o repositório local"
   ]
  },
  {
   "cell_type": "code",
   "execution_count": 2,
   "id": "886133cf",
   "metadata": {},
   "outputs": [
    {
     "name": "stderr",
     "output_type": "stream",
     "text": [
      "Downloading...\n",
      "From (original): https://drive.google.com/uc?id=1c_hLzk85pYw-huHSnFYZM_gn-dUsYRDm\n",
      "From (redirected): https://drive.google.com/uc?id=1c_hLzk85pYw-huHSnFYZM_gn-dUsYRDm&confirm=t&uuid=7447e205-7eec-4349-8b15-0863e2988e4a\n",
      "To: c:\\Users\\esthe\\Downloads\\Data-Mining\\Lista03_AnaliseDeDados\\fakeTelegram.BR_2022.csv\n",
      "100%|██████████| 224M/224M [00:49<00:00, 4.50MB/s] \n"
     ]
    },
    {
     "data": {
      "text/plain": [
       "'fakeTelegram.BR_2022.csv'"
      ]
     },
     "execution_count": 2,
     "metadata": {},
     "output_type": "execute_result"
    }
   ],
   "source": [
    "origem_url = 'https://drive.google.com/file/d/1c_hLzk85pYw-huHSnFYZM_gn-dUsYRDm/view'\n",
    "\n",
    "# O ID do arquivo (necessário para fazer o download direto) está entre os últimos elementos da URL.\n",
    "# Fazemos um split na URL usando '/' como separador e pegamos o penúltimo elemento da lista.\n",
    "# Isso funciona porque a estrutura da URL é:\n",
    "# https://drive.google.com/file/d/ID_DO_ARQUIVO/view\n",
    "# E ao aplicar url.split('/'), o resultado será:\n",
    "# ['https:', '', 'drive.google.com', 'file', 'd', 'ID_DO_ARQUIVO', 'view?...']\n",
    "# Portanto, o ID está na posição -2 (penúltima).\n",
    "\n",
    "file_id = origem_url.split('/')[-2]\n",
    "\n",
    "# URL do arquivo no formato aceito pelo gdown\n",
    "url = f'https://drive.google.com/uc?id={file_id}'\n",
    "\n",
    "# Nome local do arquivo que será baixado\n",
    "output = 'fakeTelegram.BR_2022.csv'\n",
    "\n",
    "# Baixando o arquivo com gdown\n",
    "gdown.download(url, output, quiet=False)"
   ]
  },
  {
   "cell_type": "markdown",
   "id": "8568f39e",
   "metadata": {},
   "source": [
    "Leitura do dataset utilizando o método `.read_csv()`, pois permite carregar dados estruturados a partir de arquivos *CSV* para um DataFrame do pandas, sendo uma estrutura tabular extremamente versátil para análise de dados e visualmente intuitiva."
   ]
  },
  {
   "cell_type": "code",
   "execution_count": 2,
   "id": "39e6a674",
   "metadata": {},
   "outputs": [],
   "source": [
    "df_inicial = pd.read_csv(\"fakeTelegram.BR_2022.csv\")"
   ]
  },
  {
   "cell_type": "markdown",
   "id": "3424d8d9",
   "metadata": {},
   "source": [
    "Os códigos abaixo foram implementados apenas para fins de **visualização e verificação inicial dos dados carregados**, com o objetivo de:\n",
    "- Obter uma compreensão rápida da dimensão do dataset\n",
    "- Identificar os nomes das colunas disponíveis\n",
    "- Realizar uma primeira checagem da integridade básica da estrutura de dados"
   ]
  },
  {
   "cell_type": "code",
   "execution_count": 3,
   "id": "d158bc6b",
   "metadata": {},
   "outputs": [
    {
     "name": "stdout",
     "output_type": "stream",
     "text": [
      "Número de linhas: 557586\n",
      "Número de colunas: 19\n",
      "\n",
      "Colunas disponíveis:\n",
      "1. date_message\n",
      "2. id_member_anonymous\n",
      "3. id_group_anonymous\n",
      "4. media\n",
      "5. media_type\n",
      "6. media_url\n",
      "7. has_media\n",
      "8. has_media_url\n",
      "9. trava_zap\n",
      "10. text_content_anonymous\n",
      "11. dataset_info_id\n",
      "12. date_system\n",
      "13. score_sentiment\n",
      "14. score_misinformation\n",
      "15. id_message\n",
      "16. message_type\n",
      "17. messenger\n",
      "18. media_name\n",
      "19. media_md5\n"
     ]
    }
   ],
   "source": [
    "# PARA MELHOR VISUALIZAÇÃO\n",
    "print(\"Número de linhas:\", df_inicial.shape[0])\n",
    "print(\"Número de colunas:\", df_inicial.shape[1])\n",
    "print(\"\\nColunas disponíveis:\")\n",
    "for i, col in enumerate(df_inicial.columns, 1):\n",
    "    print(f\"{i}. {col}\")"
   ]
  },
  {
   "cell_type": "code",
   "execution_count": 4,
   "id": "1e3ec9d7",
   "metadata": {},
   "outputs": [
    {
     "data": {
      "text/html": [
       "<style type=\"text/css\">\n",
       "#T_03341_row0_col0, #T_03341_row0_col1, #T_03341_row0_col2, #T_03341_row0_col3, #T_03341_row0_col4, #T_03341_row0_col5, #T_03341_row0_col6, #T_03341_row0_col7, #T_03341_row0_col8, #T_03341_row0_col9, #T_03341_row0_col10, #T_03341_row0_col11, #T_03341_row0_col12, #T_03341_row0_col13, #T_03341_row0_col14, #T_03341_row0_col15, #T_03341_row0_col16, #T_03341_row0_col17, #T_03341_row0_col18, #T_03341_row1_col0, #T_03341_row1_col1, #T_03341_row1_col2, #T_03341_row1_col3, #T_03341_row1_col4, #T_03341_row1_col5, #T_03341_row1_col6, #T_03341_row1_col7, #T_03341_row1_col8, #T_03341_row1_col9, #T_03341_row1_col10, #T_03341_row1_col11, #T_03341_row1_col12, #T_03341_row1_col13, #T_03341_row1_col14, #T_03341_row1_col15, #T_03341_row1_col16, #T_03341_row1_col17, #T_03341_row1_col18, #T_03341_row2_col0, #T_03341_row2_col1, #T_03341_row2_col2, #T_03341_row2_col3, #T_03341_row2_col4, #T_03341_row2_col5, #T_03341_row2_col6, #T_03341_row2_col7, #T_03341_row2_col8, #T_03341_row2_col9, #T_03341_row2_col10, #T_03341_row2_col11, #T_03341_row2_col12, #T_03341_row2_col13, #T_03341_row2_col14, #T_03341_row2_col15, #T_03341_row2_col16, #T_03341_row2_col17, #T_03341_row2_col18, #T_03341_row3_col0, #T_03341_row3_col1, #T_03341_row3_col2, #T_03341_row3_col3, #T_03341_row3_col4, #T_03341_row3_col5, #T_03341_row3_col6, #T_03341_row3_col7, #T_03341_row3_col8, #T_03341_row3_col9, #T_03341_row3_col10, #T_03341_row3_col11, #T_03341_row3_col12, #T_03341_row3_col13, #T_03341_row3_col14, #T_03341_row3_col15, #T_03341_row3_col16, #T_03341_row3_col17, #T_03341_row3_col18, #T_03341_row4_col0, #T_03341_row4_col1, #T_03341_row4_col2, #T_03341_row4_col3, #T_03341_row4_col4, #T_03341_row4_col5, #T_03341_row4_col6, #T_03341_row4_col7, #T_03341_row4_col8, #T_03341_row4_col9, #T_03341_row4_col10, #T_03341_row4_col11, #T_03341_row4_col12, #T_03341_row4_col13, #T_03341_row4_col14, #T_03341_row4_col15, #T_03341_row4_col16, #T_03341_row4_col17, #T_03341_row4_col18 {\n",
       "  background-color: #f8f9fa;\n",
       "  border: 1px solid #dee2e6;\n",
       "  color: #212529;\n",
       "  max-width: 300px;\n",
       "  overflow: hidden;\n",
       "  text-overflow: ellipsis;\n",
       "  white-space: nowrap;\n",
       "}\n",
       "</style>\n",
       "<table id=\"T_03341\">\n",
       "  <caption>Primeiros Registros</caption>\n",
       "  <thead>\n",
       "    <tr>\n",
       "      <th class=\"blank level0\" >&nbsp;</th>\n",
       "      <th id=\"T_03341_level0_col0\" class=\"col_heading level0 col0\" >date_message</th>\n",
       "      <th id=\"T_03341_level0_col1\" class=\"col_heading level0 col1\" >id_member_anonymous</th>\n",
       "      <th id=\"T_03341_level0_col2\" class=\"col_heading level0 col2\" >id_group_anonymous</th>\n",
       "      <th id=\"T_03341_level0_col3\" class=\"col_heading level0 col3\" >media</th>\n",
       "      <th id=\"T_03341_level0_col4\" class=\"col_heading level0 col4\" >media_type</th>\n",
       "      <th id=\"T_03341_level0_col5\" class=\"col_heading level0 col5\" >media_url</th>\n",
       "      <th id=\"T_03341_level0_col6\" class=\"col_heading level0 col6\" >has_media</th>\n",
       "      <th id=\"T_03341_level0_col7\" class=\"col_heading level0 col7\" >has_media_url</th>\n",
       "      <th id=\"T_03341_level0_col8\" class=\"col_heading level0 col8\" >trava_zap</th>\n",
       "      <th id=\"T_03341_level0_col9\" class=\"col_heading level0 col9\" >text_content_anonymous</th>\n",
       "      <th id=\"T_03341_level0_col10\" class=\"col_heading level0 col10\" >dataset_info_id</th>\n",
       "      <th id=\"T_03341_level0_col11\" class=\"col_heading level0 col11\" >date_system</th>\n",
       "      <th id=\"T_03341_level0_col12\" class=\"col_heading level0 col12\" >score_sentiment</th>\n",
       "      <th id=\"T_03341_level0_col13\" class=\"col_heading level0 col13\" >score_misinformation</th>\n",
       "      <th id=\"T_03341_level0_col14\" class=\"col_heading level0 col14\" >id_message</th>\n",
       "      <th id=\"T_03341_level0_col15\" class=\"col_heading level0 col15\" >message_type</th>\n",
       "      <th id=\"T_03341_level0_col16\" class=\"col_heading level0 col16\" >messenger</th>\n",
       "      <th id=\"T_03341_level0_col17\" class=\"col_heading level0 col17\" >media_name</th>\n",
       "      <th id=\"T_03341_level0_col18\" class=\"col_heading level0 col18\" >media_md5</th>\n",
       "    </tr>\n",
       "  </thead>\n",
       "  <tbody>\n",
       "    <tr>\n",
       "      <th id=\"T_03341_level0_row0\" class=\"row_heading level0 row0\" >0</th>\n",
       "      <td id=\"T_03341_row0_col0\" class=\"data row0 col0\" >2022-10-05 06:25:04</td>\n",
       "      <td id=\"T_03341_row0_col1\" class=\"data row0 col1\" >1078cc958f0febe28f4d03207660715f</td>\n",
       "      <td id=\"T_03341_row0_col2\" class=\"data row0 col2\" >12283e08a2eb5789201e105b34489ee7</td>\n",
       "      <td id=\"T_03341_row0_col3\" class=\"data row0 col3\" >nan</td>\n",
       "      <td id=\"T_03341_row0_col4\" class=\"data row0 col4\" >nan</td>\n",
       "      <td id=\"T_03341_row0_col5\" class=\"data row0 col5\" >nan</td>\n",
       "      <td id=\"T_03341_row0_col6\" class=\"data row0 col6\" >False</td>\n",
       "      <td id=\"T_03341_row0_col7\" class=\"data row0 col7\" >False</td>\n",
       "      <td id=\"T_03341_row0_col8\" class=\"data row0 col8\" >False</td>\n",
       "      <td id=\"T_03341_row0_col9\" class=\"data row0 col9\" >Então é Fato Renato o áudio que eu ouvi no whatsapp isso ocorreu em Niterói principalmente no bairro Fonseca ?</td>\n",
       "      <td id=\"T_03341_row0_col10\" class=\"data row0 col10\" >5</td>\n",
       "      <td id=\"T_03341_row0_col11\" class=\"data row0 col11\" >2022-10-05 06:25:28.863641</td>\n",
       "      <td id=\"T_03341_row0_col12\" class=\"data row0 col12\" >0.000000</td>\n",
       "      <td id=\"T_03341_row0_col13\" class=\"data row0 col13\" >nan</td>\n",
       "      <td id=\"T_03341_row0_col14\" class=\"data row0 col14\" >16385</td>\n",
       "      <td id=\"T_03341_row0_col15\" class=\"data row0 col15\" >Texto</td>\n",
       "      <td id=\"T_03341_row0_col16\" class=\"data row0 col16\" >telegram</td>\n",
       "      <td id=\"T_03341_row0_col17\" class=\"data row0 col17\" >nan</td>\n",
       "      <td id=\"T_03341_row0_col18\" class=\"data row0 col18\" >nan</td>\n",
       "    </tr>\n",
       "    <tr>\n",
       "      <th id=\"T_03341_level0_row1\" class=\"row_heading level0 row1\" >1</th>\n",
       "      <td id=\"T_03341_row1_col0\" class=\"data row1 col0\" >2022-10-05 06:25:08</td>\n",
       "      <td id=\"T_03341_row1_col1\" class=\"data row1 col1\" >nan</td>\n",
       "      <td id=\"T_03341_row1_col2\" class=\"data row1 col2\" >12283e08a2eb5789201e105b34489ee7</td>\n",
       "      <td id=\"T_03341_row1_col3\" class=\"data row1 col3\" >nan</td>\n",
       "      <td id=\"T_03341_row1_col4\" class=\"data row1 col4\" >nan</td>\n",
       "      <td id=\"T_03341_row1_col5\" class=\"data row1 col5\" >nan</td>\n",
       "      <td id=\"T_03341_row1_col6\" class=\"data row1 col6\" >False</td>\n",
       "      <td id=\"T_03341_row1_col7\" class=\"data row1 col7\" >False</td>\n",
       "      <td id=\"T_03341_row1_col8\" class=\"data row1 col8\" >False</td>\n",
       "      <td id=\"T_03341_row1_col9\" class=\"data row1 col9\" >Saiu no YouTube do presidente a 8 horas atrás, infelizmente não consigo enviar para cá, mas é facilmente verificável no YouTube do presidente</td>\n",
       "      <td id=\"T_03341_row1_col10\" class=\"data row1 col10\" >5</td>\n",
       "      <td id=\"T_03341_row1_col11\" class=\"data row1 col11\" >2022-10-05 06:25:28.926311</td>\n",
       "      <td id=\"T_03341_row1_col12\" class=\"data row1 col12\" >0.064400</td>\n",
       "      <td id=\"T_03341_row1_col13\" class=\"data row1 col13\" >nan</td>\n",
       "      <td id=\"T_03341_row1_col14\" class=\"data row1 col14\" >16386</td>\n",
       "      <td id=\"T_03341_row1_col15\" class=\"data row1 col15\" >Texto</td>\n",
       "      <td id=\"T_03341_row1_col16\" class=\"data row1 col16\" >telegram</td>\n",
       "      <td id=\"T_03341_row1_col17\" class=\"data row1 col17\" >nan</td>\n",
       "      <td id=\"T_03341_row1_col18\" class=\"data row1 col18\" >nan</td>\n",
       "    </tr>\n",
       "    <tr>\n",
       "      <th id=\"T_03341_level0_row2\" class=\"row_heading level0 row2\" >2</th>\n",
       "      <td id=\"T_03341_row2_col0\" class=\"data row2 col0\" >2022-10-05 06:26:28</td>\n",
       "      <td id=\"T_03341_row2_col1\" class=\"data row2 col1\" >92a2d8fd7144074f659d1d29dc3751da</td>\n",
       "      <td id=\"T_03341_row2_col2\" class=\"data row2 col2\" >9f2d7394334eb224c061c9740b5748fc</td>\n",
       "      <td id=\"T_03341_row2_col3\" class=\"data row2 col3\" >nan</td>\n",
       "      <td id=\"T_03341_row2_col4\" class=\"data row2 col4\" >nan</td>\n",
       "      <td id=\"T_03341_row2_col5\" class=\"data row2 col5\" >nan</td>\n",
       "      <td id=\"T_03341_row2_col6\" class=\"data row2 col6\" >False</td>\n",
       "      <td id=\"T_03341_row2_col7\" class=\"data row2 col7\" >False</td>\n",
       "      <td id=\"T_03341_row2_col8\" class=\"data row2 col8\" >False</td>\n",
       "      <td id=\"T_03341_row2_col9\" class=\"data row2 col9\" >É isso, nossa parte já foi quase toda feita. No segundo turno completamos nossa parte desse teatro. Essa é uma guerra de 4* geração na dimensão humana e uma guerra espiritual do bem contra o mal na dimensão do Universo. Pensamento positivo é fundamental, pensem sempre em algo bom. Deus continua nos abençoando, nosso livre arbítrio completa o curso.</td>\n",
       "      <td id=\"T_03341_row2_col10\" class=\"data row2 col10\" >5</td>\n",
       "      <td id=\"T_03341_row2_col11\" class=\"data row2 col11\" >2022-10-05 06:26:29.361949</td>\n",
       "      <td id=\"T_03341_row2_col12\" class=\"data row2 col12\" >-0.355100</td>\n",
       "      <td id=\"T_03341_row2_col13\" class=\"data row2 col13\" >0.157242</td>\n",
       "      <td id=\"T_03341_row2_col14\" class=\"data row2 col14\" >16366</td>\n",
       "      <td id=\"T_03341_row2_col15\" class=\"data row2 col15\" >Texto</td>\n",
       "      <td id=\"T_03341_row2_col16\" class=\"data row2 col16\" >telegram</td>\n",
       "      <td id=\"T_03341_row2_col17\" class=\"data row2 col17\" >nan</td>\n",
       "      <td id=\"T_03341_row2_col18\" class=\"data row2 col18\" >nan</td>\n",
       "    </tr>\n",
       "    <tr>\n",
       "      <th id=\"T_03341_level0_row3\" class=\"row_heading level0 row3\" >3</th>\n",
       "      <td id=\"T_03341_row3_col0\" class=\"data row3 col0\" >2022-10-05 06:27:28</td>\n",
       "      <td id=\"T_03341_row3_col1\" class=\"data row3 col1\" >d60aa38f62b4977426b70944af4aff72</td>\n",
       "      <td id=\"T_03341_row3_col2\" class=\"data row3 col2\" >c8f2de56550ed0bf85249608b7ead93d</td>\n",
       "      <td id=\"T_03341_row3_col3\" class=\"data row3 col3\" >94dca4cda503100ebfda7ce2bcc060eb.jpg</td>\n",
       "      <td id=\"T_03341_row3_col4\" class=\"data row3 col4\" >image/jpg</td>\n",
       "      <td id=\"T_03341_row3_col5\" class=\"data row3 col5\" >nan</td>\n",
       "      <td id=\"T_03341_row3_col6\" class=\"data row3 col6\" >True</td>\n",
       "      <td id=\"T_03341_row3_col7\" class=\"data row3 col7\" >False</td>\n",
       "      <td id=\"T_03341_row3_col8\" class=\"data row3 col8\" >False</td>\n",
       "      <td id=\"T_03341_row3_col9\" class=\"data row3 col9\" >GENTE ACHEI ELES EM UMA SEITA MAÇONÁRICA</td>\n",
       "      <td id=\"T_03341_row3_col10\" class=\"data row3 col10\" >5</td>\n",
       "      <td id=\"T_03341_row3_col11\" class=\"data row3 col11\" >2022-10-05 06:27:29.935624</td>\n",
       "      <td id=\"T_03341_row3_col12\" class=\"data row3 col12\" >0.000000</td>\n",
       "      <td id=\"T_03341_row3_col13\" class=\"data row3 col13\" >nan</td>\n",
       "      <td id=\"T_03341_row3_col14\" class=\"data row3 col14\" >19281</td>\n",
       "      <td id=\"T_03341_row3_col15\" class=\"data row3 col15\" >Imagem</td>\n",
       "      <td id=\"T_03341_row3_col16\" class=\"data row3 col16\" >telegram</td>\n",
       "      <td id=\"T_03341_row3_col17\" class=\"data row3 col17\" >nan</td>\n",
       "      <td id=\"T_03341_row3_col18\" class=\"data row3 col18\" >94dca4cda503100ebfda7ce2bcc060eb</td>\n",
       "    </tr>\n",
       "    <tr>\n",
       "      <th id=\"T_03341_level0_row4\" class=\"row_heading level0 row4\" >4</th>\n",
       "      <td id=\"T_03341_row4_col0\" class=\"data row4 col0\" >2022-10-05 06:27:44</td>\n",
       "      <td id=\"T_03341_row4_col1\" class=\"data row4 col1\" >cd6979b0b5265f08468fa1689b6300ce</td>\n",
       "      <td id=\"T_03341_row4_col2\" class=\"data row4 col2\" >e56ec342fc599ebb4ed89655eb6f03aa</td>\n",
       "      <td id=\"T_03341_row4_col3\" class=\"data row4 col3\" >5ad5c8bbe9da93a37fecf3e5aa5b0637.jpg</td>\n",
       "      <td id=\"T_03341_row4_col4\" class=\"data row4 col4\" >image/jpg</td>\n",
       "      <td id=\"T_03341_row4_col5\" class=\"data row4 col5\" >nan</td>\n",
       "      <td id=\"T_03341_row4_col6\" class=\"data row4 col6\" >True</td>\n",
       "      <td id=\"T_03341_row4_col7\" class=\"data row4 col7\" >False</td>\n",
       "      <td id=\"T_03341_row4_col8\" class=\"data row4 col8\" >False</td>\n",
       "      <td id=\"T_03341_row4_col9\" class=\"data row4 col9\" >nan</td>\n",
       "      <td id=\"T_03341_row4_col10\" class=\"data row4 col10\" >5</td>\n",
       "      <td id=\"T_03341_row4_col11\" class=\"data row4 col11\" >2022-10-05 06:28:29.316325</td>\n",
       "      <td id=\"T_03341_row4_col12\" class=\"data row4 col12\" >nan</td>\n",
       "      <td id=\"T_03341_row4_col13\" class=\"data row4 col13\" >nan</td>\n",
       "      <td id=\"T_03341_row4_col14\" class=\"data row4 col14\" >507185</td>\n",
       "      <td id=\"T_03341_row4_col15\" class=\"data row4 col15\" >Imagem</td>\n",
       "      <td id=\"T_03341_row4_col16\" class=\"data row4 col16\" >telegram</td>\n",
       "      <td id=\"T_03341_row4_col17\" class=\"data row4 col17\" >nan</td>\n",
       "      <td id=\"T_03341_row4_col18\" class=\"data row4 col18\" >5ad5c8bbe9da93a37fecf3e5aa5b0637</td>\n",
       "    </tr>\n",
       "  </tbody>\n",
       "</table>\n"
      ],
      "text/plain": [
       "<pandas.io.formats.style.Styler at 0x2299a3f0f20>"
      ]
     },
     "metadata": {},
     "output_type": "display_data"
    },
    {
     "data": {
      "text/html": [
       "<style type=\"text/css\">\n",
       "#T_177b3_row0_col0, #T_177b3_row0_col1, #T_177b3_row0_col2, #T_177b3_row0_col3, #T_177b3_row0_col4, #T_177b3_row0_col5, #T_177b3_row0_col6, #T_177b3_row0_col7, #T_177b3_row0_col8, #T_177b3_row0_col9, #T_177b3_row0_col10, #T_177b3_row0_col11, #T_177b3_row0_col12, #T_177b3_row0_col13, #T_177b3_row0_col14, #T_177b3_row0_col15, #T_177b3_row0_col16, #T_177b3_row0_col17, #T_177b3_row0_col18, #T_177b3_row1_col0, #T_177b3_row1_col1, #T_177b3_row1_col2, #T_177b3_row1_col3, #T_177b3_row1_col4, #T_177b3_row1_col5, #T_177b3_row1_col6, #T_177b3_row1_col7, #T_177b3_row1_col8, #T_177b3_row1_col9, #T_177b3_row1_col10, #T_177b3_row1_col11, #T_177b3_row1_col12, #T_177b3_row1_col13, #T_177b3_row1_col14, #T_177b3_row1_col15, #T_177b3_row1_col16, #T_177b3_row1_col17, #T_177b3_row1_col18, #T_177b3_row2_col0, #T_177b3_row2_col1, #T_177b3_row2_col2, #T_177b3_row2_col3, #T_177b3_row2_col4, #T_177b3_row2_col5, #T_177b3_row2_col6, #T_177b3_row2_col7, #T_177b3_row2_col8, #T_177b3_row2_col9, #T_177b3_row2_col10, #T_177b3_row2_col11, #T_177b3_row2_col12, #T_177b3_row2_col13, #T_177b3_row2_col14, #T_177b3_row2_col15, #T_177b3_row2_col16, #T_177b3_row2_col17, #T_177b3_row2_col18, #T_177b3_row3_col0, #T_177b3_row3_col1, #T_177b3_row3_col2, #T_177b3_row3_col3, #T_177b3_row3_col4, #T_177b3_row3_col5, #T_177b3_row3_col6, #T_177b3_row3_col7, #T_177b3_row3_col8, #T_177b3_row3_col9, #T_177b3_row3_col10, #T_177b3_row3_col11, #T_177b3_row3_col12, #T_177b3_row3_col13, #T_177b3_row3_col14, #T_177b3_row3_col15, #T_177b3_row3_col16, #T_177b3_row3_col17, #T_177b3_row3_col18, #T_177b3_row4_col0, #T_177b3_row4_col1, #T_177b3_row4_col2, #T_177b3_row4_col3, #T_177b3_row4_col4, #T_177b3_row4_col5, #T_177b3_row4_col6, #T_177b3_row4_col7, #T_177b3_row4_col8, #T_177b3_row4_col9, #T_177b3_row4_col10, #T_177b3_row4_col11, #T_177b3_row4_col12, #T_177b3_row4_col13, #T_177b3_row4_col14, #T_177b3_row4_col15, #T_177b3_row4_col16, #T_177b3_row4_col17, #T_177b3_row4_col18 {\n",
       "  background-color: #f8f9fa;\n",
       "  border: 1px solid #dee2e6;\n",
       "  color: #212529;\n",
       "  max-width: 300px;\n",
       "  overflow: hidden;\n",
       "  text-overflow: ellipsis;\n",
       "  white-space: nowrap;\n",
       "}\n",
       "</style>\n",
       "<table id=\"T_177b3\">\n",
       "  <caption>Últimos Registros</caption>\n",
       "  <thead>\n",
       "    <tr>\n",
       "      <th class=\"blank level0\" >&nbsp;</th>\n",
       "      <th id=\"T_177b3_level0_col0\" class=\"col_heading level0 col0\" >date_message</th>\n",
       "      <th id=\"T_177b3_level0_col1\" class=\"col_heading level0 col1\" >id_member_anonymous</th>\n",
       "      <th id=\"T_177b3_level0_col2\" class=\"col_heading level0 col2\" >id_group_anonymous</th>\n",
       "      <th id=\"T_177b3_level0_col3\" class=\"col_heading level0 col3\" >media</th>\n",
       "      <th id=\"T_177b3_level0_col4\" class=\"col_heading level0 col4\" >media_type</th>\n",
       "      <th id=\"T_177b3_level0_col5\" class=\"col_heading level0 col5\" >media_url</th>\n",
       "      <th id=\"T_177b3_level0_col6\" class=\"col_heading level0 col6\" >has_media</th>\n",
       "      <th id=\"T_177b3_level0_col7\" class=\"col_heading level0 col7\" >has_media_url</th>\n",
       "      <th id=\"T_177b3_level0_col8\" class=\"col_heading level0 col8\" >trava_zap</th>\n",
       "      <th id=\"T_177b3_level0_col9\" class=\"col_heading level0 col9\" >text_content_anonymous</th>\n",
       "      <th id=\"T_177b3_level0_col10\" class=\"col_heading level0 col10\" >dataset_info_id</th>\n",
       "      <th id=\"T_177b3_level0_col11\" class=\"col_heading level0 col11\" >date_system</th>\n",
       "      <th id=\"T_177b3_level0_col12\" class=\"col_heading level0 col12\" >score_sentiment</th>\n",
       "      <th id=\"T_177b3_level0_col13\" class=\"col_heading level0 col13\" >score_misinformation</th>\n",
       "      <th id=\"T_177b3_level0_col14\" class=\"col_heading level0 col14\" >id_message</th>\n",
       "      <th id=\"T_177b3_level0_col15\" class=\"col_heading level0 col15\" >message_type</th>\n",
       "      <th id=\"T_177b3_level0_col16\" class=\"col_heading level0 col16\" >messenger</th>\n",
       "      <th id=\"T_177b3_level0_col17\" class=\"col_heading level0 col17\" >media_name</th>\n",
       "      <th id=\"T_177b3_level0_col18\" class=\"col_heading level0 col18\" >media_md5</th>\n",
       "    </tr>\n",
       "  </thead>\n",
       "  <tbody>\n",
       "    <tr>\n",
       "      <th id=\"T_177b3_level0_row0\" class=\"row_heading level0 row0\" >557581</th>\n",
       "      <td id=\"T_177b3_row0_col0\" class=\"data row0 col0\" >2022-11-11 12:06:15</td>\n",
       "      <td id=\"T_177b3_row0_col1\" class=\"data row0 col1\" >333e9869f23dbd4682d1be382d9c1e59</td>\n",
       "      <td id=\"T_177b3_row0_col2\" class=\"data row0 col2\" >e56ec342fc599ebb4ed89655eb6f03aa</td>\n",
       "      <td id=\"T_177b3_row0_col3\" class=\"data row0 col3\" >25e43b6a58b848c43ad5b5f9e979822a.jpg</td>\n",
       "      <td id=\"T_177b3_row0_col4\" class=\"data row0 col4\" >url</td>\n",
       "      <td id=\"T_177b3_row0_col5\" class=\"data row0 col5\" >https://terrabrasilnoticias.com/2022/11/bndes-tem-lucro-de-r-96-bilhoes-no-terceiro-trimestre/</td>\n",
       "      <td id=\"T_177b3_row0_col6\" class=\"data row0 col6\" >True</td>\n",
       "      <td id=\"T_177b3_row0_col7\" class=\"data row0 col7\" >True</td>\n",
       "      <td id=\"T_177b3_row0_col8\" class=\"data row0 col8\" >False</td>\n",
       "      <td id=\"T_177b3_row0_col9\" class=\"data row0 col9\" >BNDES tem lucro de R$ 9,6 bilhões no terceiro trimestre ☛ https://terrabrasilnoticias.com/2022/11/bndes-tem-lucro-de-r-96-bilhoes-no-terceiro-trimestre/</td>\n",
       "      <td id=\"T_177b3_row0_col10\" class=\"data row0 col10\" >5</td>\n",
       "      <td id=\"T_177b3_row0_col11\" class=\"data row0 col11\" >2022-11-16 14:49:39.146502</td>\n",
       "      <td id=\"T_177b3_row0_col12\" class=\"data row0 col12\" >0.102700</td>\n",
       "      <td id=\"T_177b3_row0_col13\" class=\"data row0 col13\" >nan</td>\n",
       "      <td id=\"T_177b3_row0_col14\" class=\"data row0 col14\" >575796</td>\n",
       "      <td id=\"T_177b3_row0_col15\" class=\"data row0 col15\" >Url</td>\n",
       "      <td id=\"T_177b3_row0_col16\" class=\"data row0 col16\" >telegram</td>\n",
       "      <td id=\"T_177b3_row0_col17\" class=\"data row0 col17\" >nan</td>\n",
       "      <td id=\"T_177b3_row0_col18\" class=\"data row0 col18\" >25e43b6a58b848c43ad5b5f9e979822a</td>\n",
       "    </tr>\n",
       "    <tr>\n",
       "      <th id=\"T_177b3_level0_row1\" class=\"row_heading level0 row1\" >557582</th>\n",
       "      <td id=\"T_177b3_row1_col0\" class=\"data row1 col0\" >2022-11-11 12:09:08</td>\n",
       "      <td id=\"T_177b3_row1_col1\" class=\"data row1 col1\" >nan</td>\n",
       "      <td id=\"T_177b3_row1_col2\" class=\"data row1 col2\" >5b10d7739171149be6d9961e3350c071</td>\n",
       "      <td id=\"T_177b3_row1_col3\" class=\"data row1 col3\" >657949d03e4088f6b332e2686ccd3221.jpg</td>\n",
       "      <td id=\"T_177b3_row1_col4\" class=\"data row1 col4\" >url</td>\n",
       "      <td id=\"T_177b3_row1_col5\" class=\"data row1 col5\" >https://youtu.be/8g1Vz9_0xVk</td>\n",
       "      <td id=\"T_177b3_row1_col6\" class=\"data row1 col6\" >True</td>\n",
       "      <td id=\"T_177b3_row1_col7\" class=\"data row1 col7\" >True</td>\n",
       "      <td id=\"T_177b3_row1_col8\" class=\"data row1 col8\" >False</td>\n",
       "      <td id=\"T_177b3_row1_col9\" class=\"data row1 col9\" >https://youtu.be/8g1Vz9_0xVk</td>\n",
       "      <td id=\"T_177b3_row1_col10\" class=\"data row1 col10\" >5</td>\n",
       "      <td id=\"T_177b3_row1_col11\" class=\"data row1 col11\" >2022-11-16 14:49:39.847434</td>\n",
       "      <td id=\"T_177b3_row1_col12\" class=\"data row1 col12\" >0.000000</td>\n",
       "      <td id=\"T_177b3_row1_col13\" class=\"data row1 col13\" >nan</td>\n",
       "      <td id=\"T_177b3_row1_col14\" class=\"data row1 col14\" >1286443</td>\n",
       "      <td id=\"T_177b3_row1_col15\" class=\"data row1 col15\" >Url</td>\n",
       "      <td id=\"T_177b3_row1_col16\" class=\"data row1 col16\" >telegram</td>\n",
       "      <td id=\"T_177b3_row1_col17\" class=\"data row1 col17\" >nan</td>\n",
       "      <td id=\"T_177b3_row1_col18\" class=\"data row1 col18\" >657949d03e4088f6b332e2686ccd3221</td>\n",
       "    </tr>\n",
       "    <tr>\n",
       "      <th id=\"T_177b3_level0_row2\" class=\"row_heading level0 row2\" >557583</th>\n",
       "      <td id=\"T_177b3_row2_col0\" class=\"data row2 col0\" >2022-11-11 12:09:47</td>\n",
       "      <td id=\"T_177b3_row2_col1\" class=\"data row2 col1\" >nan</td>\n",
       "      <td id=\"T_177b3_row2_col2\" class=\"data row2 col2\" >1590a03f43b5ba4b6147a1c5e1dd357b</td>\n",
       "      <td id=\"T_177b3_row2_col3\" class=\"data row2 col3\" >a21848a61045380a6483866daed0ca0e.jpg</td>\n",
       "      <td id=\"T_177b3_row2_col4\" class=\"data row2 col4\" >image/jpg</td>\n",
       "      <td id=\"T_177b3_row2_col5\" class=\"data row2 col5\" >https://t.me/vemprasruas</td>\n",
       "      <td id=\"T_177b3_row2_col6\" class=\"data row2 col6\" >True</td>\n",
       "      <td id=\"T_177b3_row2_col7\" class=\"data row2 col7\" >True</td>\n",
       "      <td id=\"T_177b3_row2_col8\" class=\"data row2 col8\" >False</td>\n",
       "      <td id=\"T_177b3_row2_col9\" class=\"data row2 col9\" >Empresários, demitam os petistas primeiro.\n",
       "\n",
       "https://t.me/vemprasruas</td>\n",
       "      <td id=\"T_177b3_row2_col10\" class=\"data row2 col10\" >5</td>\n",
       "      <td id=\"T_177b3_row2_col11\" class=\"data row2 col11\" >2022-11-16 14:49:39.922279</td>\n",
       "      <td id=\"T_177b3_row2_col12\" class=\"data row2 col12\" >0.000000</td>\n",
       "      <td id=\"T_177b3_row2_col13\" class=\"data row2 col13\" >nan</td>\n",
       "      <td id=\"T_177b3_row2_col14\" class=\"data row2 col14\" >13294</td>\n",
       "      <td id=\"T_177b3_row2_col15\" class=\"data row2 col15\" >Imagem</td>\n",
       "      <td id=\"T_177b3_row2_col16\" class=\"data row2 col16\" >telegram</td>\n",
       "      <td id=\"T_177b3_row2_col17\" class=\"data row2 col17\" >nan</td>\n",
       "      <td id=\"T_177b3_row2_col18\" class=\"data row2 col18\" >a21848a61045380a6483866daed0ca0e</td>\n",
       "    </tr>\n",
       "    <tr>\n",
       "      <th id=\"T_177b3_level0_row3\" class=\"row_heading level0 row3\" >557584</th>\n",
       "      <td id=\"T_177b3_row3_col0\" class=\"data row3 col0\" >2022-11-11 12:09:46</td>\n",
       "      <td id=\"T_177b3_row3_col1\" class=\"data row3 col1\" >nan</td>\n",
       "      <td id=\"T_177b3_row3_col2\" class=\"data row3 col2\" >5b10d7739171149be6d9961e3350c071</td>\n",
       "      <td id=\"T_177b3_row3_col3\" class=\"data row3 col3\" >a21848a61045380a6483866daed0ca0e.jpg</td>\n",
       "      <td id=\"T_177b3_row3_col4\" class=\"data row3 col4\" >image/jpg</td>\n",
       "      <td id=\"T_177b3_row3_col5\" class=\"data row3 col5\" >https://t.me/vemprasruas</td>\n",
       "      <td id=\"T_177b3_row3_col6\" class=\"data row3 col6\" >True</td>\n",
       "      <td id=\"T_177b3_row3_col7\" class=\"data row3 col7\" >True</td>\n",
       "      <td id=\"T_177b3_row3_col8\" class=\"data row3 col8\" >False</td>\n",
       "      <td id=\"T_177b3_row3_col9\" class=\"data row3 col9\" >Empresários, demitam os petistas primeiro.\n",
       "\n",
       "https://t.me/vemprasruas</td>\n",
       "      <td id=\"T_177b3_row3_col10\" class=\"data row3 col10\" >5</td>\n",
       "      <td id=\"T_177b3_row3_col11\" class=\"data row3 col11\" >2022-11-16 14:49:39.992932</td>\n",
       "      <td id=\"T_177b3_row3_col12\" class=\"data row3 col12\" >0.000000</td>\n",
       "      <td id=\"T_177b3_row3_col13\" class=\"data row3 col13\" >nan</td>\n",
       "      <td id=\"T_177b3_row3_col14\" class=\"data row3 col14\" >1286444</td>\n",
       "      <td id=\"T_177b3_row3_col15\" class=\"data row3 col15\" >Imagem</td>\n",
       "      <td id=\"T_177b3_row3_col16\" class=\"data row3 col16\" >telegram</td>\n",
       "      <td id=\"T_177b3_row3_col17\" class=\"data row3 col17\" >nan</td>\n",
       "      <td id=\"T_177b3_row3_col18\" class=\"data row3 col18\" >a21848a61045380a6483866daed0ca0e</td>\n",
       "    </tr>\n",
       "    <tr>\n",
       "      <th id=\"T_177b3_level0_row4\" class=\"row_heading level0 row4\" >557585</th>\n",
       "      <td id=\"T_177b3_row4_col0\" class=\"data row4 col0\" >2022-11-11 12:09:48</td>\n",
       "      <td id=\"T_177b3_row4_col1\" class=\"data row4 col1\" >nan</td>\n",
       "      <td id=\"T_177b3_row4_col2\" class=\"data row4 col2\" >b11f2df64ac19aad47a50accf32052d6</td>\n",
       "      <td id=\"T_177b3_row4_col3\" class=\"data row4 col3\" >a21848a61045380a6483866daed0ca0e.jpg</td>\n",
       "      <td id=\"T_177b3_row4_col4\" class=\"data row4 col4\" >image/jpg</td>\n",
       "      <td id=\"T_177b3_row4_col5\" class=\"data row4 col5\" >https://t.me/vemprasruas</td>\n",
       "      <td id=\"T_177b3_row4_col6\" class=\"data row4 col6\" >True</td>\n",
       "      <td id=\"T_177b3_row4_col7\" class=\"data row4 col7\" >True</td>\n",
       "      <td id=\"T_177b3_row4_col8\" class=\"data row4 col8\" >False</td>\n",
       "      <td id=\"T_177b3_row4_col9\" class=\"data row4 col9\" >Empresários, demitam os petistas primeiro.\n",
       "\n",
       "https://t.me/vemprasruas</td>\n",
       "      <td id=\"T_177b3_row4_col10\" class=\"data row4 col10\" >5</td>\n",
       "      <td id=\"T_177b3_row4_col11\" class=\"data row4 col11\" >2022-11-16 14:49:40.064006</td>\n",
       "      <td id=\"T_177b3_row4_col12\" class=\"data row4 col12\" >0.000000</td>\n",
       "      <td id=\"T_177b3_row4_col13\" class=\"data row4 col13\" >nan</td>\n",
       "      <td id=\"T_177b3_row4_col14\" class=\"data row4 col14\" >192127</td>\n",
       "      <td id=\"T_177b3_row4_col15\" class=\"data row4 col15\" >Imagem</td>\n",
       "      <td id=\"T_177b3_row4_col16\" class=\"data row4 col16\" >telegram</td>\n",
       "      <td id=\"T_177b3_row4_col17\" class=\"data row4 col17\" >nan</td>\n",
       "      <td id=\"T_177b3_row4_col18\" class=\"data row4 col18\" >a21848a61045380a6483866daed0ca0e</td>\n",
       "    </tr>\n",
       "  </tbody>\n",
       "</table>\n"
      ],
      "text/plain": [
       "<pandas.io.formats.style.Styler at 0x2299ba36720>"
      ]
     },
     "metadata": {},
     "output_type": "display_data"
    }
   ],
   "source": [
    "# VISUALIZANDO AMOSTRAS INICIAIS E FINAIS DO DATASET\n",
    "display(df_inicial.head().style.set_caption(\"Primeiros Registros\").set_properties(**{\n",
    "    'background-color': '#f8f9fa',\n",
    "    'border': '1px solid #dee2e6',\n",
    "    'color': '#212529',\n",
    "    'max-width': '300px',\n",
    "    'overflow': 'hidden',\n",
    "    'text-overflow': 'ellipsis',\n",
    "    'white-space': 'nowrap'\n",
    "}))\n",
    "\n",
    "display(df_inicial.tail().style.set_caption(\"Últimos Registros\").set_properties(**{\n",
    "    'background-color': '#f8f9fa',\n",
    "    'border': '1px solid #dee2e6',\n",
    "    'color': '#212529',\n",
    "    'max-width': '300px',\n",
    "    'overflow': 'hidden',\n",
    "    'text-overflow': 'ellipsis',\n",
    "    'white-space': 'nowrap'\n",
    "}))"
   ]
  },
  {
   "cell_type": "markdown",
   "id": "c70ff8b9",
   "metadata": {},
   "source": [
    "---"
   ]
  },
  {
   "cell_type": "markdown",
   "id": "e24236d3",
   "metadata": {},
   "source": [
    "### **(b)** Remova os trava-zaps."
   ]
  },
  {
   "cell_type": "markdown",
   "id": "4b745420",
   "metadata": {},
   "source": [
    "Este item será resolvido através da manipulação da coluna `trava_zap`, previamente identificada na análise inicial. A estratégia adotada considera o tamanho do dataset (557.586 registros) e segue um fluxo estruturado:\n",
    "\n",
    "1. **Análise Preliminar**\n",
    "    - Verificação do tipo de dado (dtype) e valores únicos na coluna `trava_zap`\n",
    "    - Confirmação da proporção True/False/NaN (se aplicável)"
   ]
  },
  {
   "cell_type": "code",
   "execution_count": 5,
   "id": "1b83fce3",
   "metadata": {},
   "outputs": [
    {
     "name": "stdout",
     "output_type": "stream",
     "text": [
      "Tipo de dado: bool\n"
     ]
    },
    {
     "data": {
      "text/html": [
       "<style type=\"text/css\">\n",
       "</style>\n",
       "<table id=\"T_b1d42\">\n",
       "  <caption>Contagem de valores distintos em trava_zap</caption>\n",
       "  <thead>\n",
       "    <tr>\n",
       "      <th class=\"blank level0\" >&nbsp;</th>\n",
       "      <th id=\"T_b1d42_level0_col0\" class=\"col_heading level0 col0\" >count</th>\n",
       "    </tr>\n",
       "    <tr>\n",
       "      <th class=\"index_name level0\" >trava_zap</th>\n",
       "      <th class=\"blank col0\" >&nbsp;</th>\n",
       "    </tr>\n",
       "  </thead>\n",
       "  <tbody>\n",
       "    <tr>\n",
       "      <th id=\"T_b1d42_level0_row0\" class=\"row_heading level0 row0\" >False</th>\n",
       "      <td id=\"T_b1d42_row0_col0\" class=\"data row0 col0\" >557570</td>\n",
       "    </tr>\n",
       "    <tr>\n",
       "      <th id=\"T_b1d42_level0_row1\" class=\"row_heading level0 row1\" >True</th>\n",
       "      <td id=\"T_b1d42_row1_col0\" class=\"data row1 col0\" >16</td>\n",
       "    </tr>\n",
       "  </tbody>\n",
       "</table>\n"
      ],
      "text/plain": [
       "<pandas.io.formats.style.Styler at 0x2299bd35cd0>"
      ]
     },
     "metadata": {},
     "output_type": "display_data"
    },
    {
     "name": "stdout",
     "output_type": "stream",
     "text": [
      "Registros com trava_zap que precisam ser removidos: 16\n"
     ]
    }
   ],
   "source": [
    "# ANÁLISE PRELIMINAR\n",
    "# Verificação do tipo e valores únicos\n",
    "print(f\"Tipo de dado: {df_inicial['trava_zap'].dtype}\")\n",
    "trava_dist = df_inicial['trava_zap'].value_counts(dropna=False)\n",
    "display(trava_dist.to_frame().style.set_caption(\"Contagem de valores distintos em trava_zap\"))\n",
    "\n",
    "# Verificação de linhas que devem ser removidas\n",
    "print(f\"Registros com trava_zap que precisam ser removidos: {trava_dist.get(True, 0):,}\")"
   ]
  },
  {
   "cell_type": "markdown",
   "id": "e7df72ab",
   "metadata": {},
   "source": [
    "2. **Processamento por Chunks**\n",
    "    - Divisão do dataset em blocos de 1.000 linhas para:\n",
    "        - Otimização de memória\n",
    "        - Facilidade de debug\n",
    "        - Monitoramento do progresso"
   ]
  },
  {
   "cell_type": "code",
   "execution_count": 6,
   "id": "ed549dde",
   "metadata": {},
   "outputs": [],
   "source": [
    "import numpy as np"
   ]
  },
  {
   "cell_type": "code",
   "execution_count": 7,
   "id": "a6520cdb",
   "metadata": {},
   "outputs": [
    {
     "name": "stdout",
     "output_type": "stream",
     "text": [
      "\u001b[1mProcessando 558 chunks de 1000 registros cada:\u001b[0m\n"
     ]
    },
    {
     "name": "stderr",
     "output_type": "stream",
     "text": [
      "c:\\Users\\esthe\\AppData\\Local\\Programs\\Python\\Python312\\Lib\\site-packages\\numpy\\core\\fromnumeric.py:59: FutureWarning: 'DataFrame.swapaxes' is deprecated and will be removed in a future version. Please use 'DataFrame.transpose' instead.\n",
      "  return bound(*args, **kwds)\n"
     ]
    },
    {
     "name": "stdout",
     "output_type": "stream",
     "text": [
      "Processado chunk 10/558 | Registros retidos: 10,000\n",
      "Processado chunk 20/558 | Registros retidos: 20,000\n",
      "Processado chunk 30/558 | Registros retidos: 29,999\n",
      "Processado chunk 40/558 | Registros retidos: 39,999\n",
      "Processado chunk 50/558 | Registros retidos: 49,999\n",
      "Processado chunk 60/558 | Registros retidos: 59,999\n",
      "Processado chunk 70/558 | Registros retidos: 69,999\n",
      "Processado chunk 80/558 | Registros retidos: 79,999\n",
      "Processado chunk 90/558 | Registros retidos: 89,998\n",
      "Processado chunk 100/558 | Registros retidos: 99,998\n",
      "Processado chunk 110/558 | Registros retidos: 109,998\n",
      "Processado chunk 120/558 | Registros retidos: 119,998\n",
      "Processado chunk 130/558 | Registros retidos: 129,998\n",
      "Processado chunk 140/558 | Registros retidos: 139,998\n",
      "Processado chunk 150/558 | Registros retidos: 149,992\n",
      "Processado chunk 160/558 | Registros retidos: 159,982\n",
      "Processado chunk 170/558 | Registros retidos: 169,972\n",
      "Processado chunk 180/558 | Registros retidos: 179,962\n",
      "Processado chunk 190/558 | Registros retidos: 189,952\n",
      "Processado chunk 200/558 | Registros retidos: 199,942\n",
      "Processado chunk 210/558 | Registros retidos: 209,932\n",
      "Processado chunk 220/558 | Registros retidos: 219,922\n",
      "Processado chunk 230/558 | Registros retidos: 229,912\n",
      "Processado chunk 240/558 | Registros retidos: 239,902\n",
      "Processado chunk 250/558 | Registros retidos: 249,892\n",
      "Processado chunk 260/558 | Registros retidos: 259,882\n",
      "Processado chunk 270/558 | Registros retidos: 269,872\n",
      "Processado chunk 280/558 | Registros retidos: 279,862\n",
      "Processado chunk 290/558 | Registros retidos: 289,852\n",
      "Processado chunk 300/558 | Registros retidos: 299,841\n",
      "Processado chunk 310/558 | Registros retidos: 309,831\n",
      "Processado chunk 320/558 | Registros retidos: 319,821\n",
      "Processado chunk 330/558 | Registros retidos: 329,810\n",
      "Processado chunk 340/558 | Registros retidos: 339,800\n",
      "Processado chunk 350/558 | Registros retidos: 349,790\n",
      "Processado chunk 360/558 | Registros retidos: 359,780\n",
      "Processado chunk 370/558 | Registros retidos: 369,770\n",
      "Processado chunk 380/558 | Registros retidos: 379,760\n",
      "Processado chunk 390/558 | Registros retidos: 389,749\n",
      "Processado chunk 400/558 | Registros retidos: 399,739\n",
      "Processado chunk 410/558 | Registros retidos: 409,729\n",
      "Processado chunk 420/558 | Registros retidos: 419,719\n",
      "Processado chunk 430/558 | Registros retidos: 429,708\n",
      "Processado chunk 440/558 | Registros retidos: 439,698\n",
      "Processado chunk 450/558 | Registros retidos: 449,688\n",
      "Processado chunk 460/558 | Registros retidos: 459,678\n",
      "Processado chunk 470/558 | Registros retidos: 469,666\n",
      "Processado chunk 480/558 | Registros retidos: 479,654\n",
      "Processado chunk 490/558 | Registros retidos: 489,643\n",
      "Processado chunk 500/558 | Registros retidos: 499,628\n",
      "Processado chunk 510/558 | Registros retidos: 509,618\n",
      "Processado chunk 520/558 | Registros retidos: 519,608\n",
      "Processado chunk 530/558 | Registros retidos: 529,598\n",
      "Processado chunk 540/558 | Registros retidos: 539,588\n",
      "Processado chunk 550/558 | Registros retidos: 549,578\n"
     ]
    }
   ],
   "source": [
    "# Parâmetros do chunk -- 1000 linhas \n",
    "CHUNK_SIZE = 1000\n",
    "total_chunks = (len(df_inicial) // CHUNK_SIZE) + 1\n",
    "df_sem_trava_zap = pd.DataFrame() # Criação de DataFrame Seguro para controle de variáveis.\n",
    "\n",
    "print(f\"\\033[1mProcessando {total_chunks} chunks de {CHUNK_SIZE} registros cada:\\033[0m\")\n",
    "\n",
    "for i, chunk in enumerate(np.array_split(df_inicial, total_chunks)):\n",
    "    # Filtro principal -- linhas que possuem trava zap, isto é, trava_zap = True\n",
    "    chunk_filtrado = chunk[chunk['trava_zap'] != True]\n",
    "    \n",
    "    # Concatenção segura -- recebendo apenas os blocos onde trava_zap = False\n",
    "    df_sem_trava_zap = pd.concat([df_sem_trava_zap, chunk_filtrado], ignore_index=True)\n",
    "    \n",
    "    # Log de progresso para controle da análise\n",
    "    if (i+1) % 10 == 0:\n",
    "        print(f\"Processado chunk {i+1}/{total_chunks} | Registros retidos: {len(df_sem_trava_zap):,}\")"
   ]
  },
  {
   "cell_type": "code",
   "execution_count": 8,
   "id": "c8dd87df",
   "metadata": {},
   "outputs": [
    {
     "name": "stdout",
     "output_type": "stream",
     "text": [
      "\u001b[1mRelatório de Remoção:\u001b[0m\n",
      "• Registros originais: 557,586\n",
      "• Registros removidos: 16\n",
      "• Registros restantes: 557,570\n"
     ]
    },
    {
     "data": {
      "application/vnd.microsoft.datawrangler.viewer.v0+json": {
       "columns": [
        {
         "name": "index",
         "rawType": "int64",
         "type": "integer"
        },
        {
         "name": "date_message",
         "rawType": "object",
         "type": "string"
        },
        {
         "name": "id_member_anonymous",
         "rawType": "object",
         "type": "unknown"
        },
        {
         "name": "id_group_anonymous",
         "rawType": "object",
         "type": "string"
        },
        {
         "name": "media",
         "rawType": "object",
         "type": "unknown"
        },
        {
         "name": "media_type",
         "rawType": "object",
         "type": "unknown"
        },
        {
         "name": "media_url",
         "rawType": "object",
         "type": "unknown"
        },
        {
         "name": "has_media",
         "rawType": "bool",
         "type": "boolean"
        },
        {
         "name": "has_media_url",
         "rawType": "bool",
         "type": "boolean"
        },
        {
         "name": "trava_zap",
         "rawType": "bool",
         "type": "boolean"
        },
        {
         "name": "text_content_anonymous",
         "rawType": "object",
         "type": "unknown"
        },
        {
         "name": "dataset_info_id",
         "rawType": "int64",
         "type": "integer"
        },
        {
         "name": "date_system",
         "rawType": "object",
         "type": "string"
        },
        {
         "name": "score_sentiment",
         "rawType": "float64",
         "type": "float"
        },
        {
         "name": "score_misinformation",
         "rawType": "float64",
         "type": "float"
        },
        {
         "name": "id_message",
         "rawType": "int64",
         "type": "integer"
        },
        {
         "name": "message_type",
         "rawType": "object",
         "type": "string"
        },
        {
         "name": "messenger",
         "rawType": "object",
         "type": "string"
        },
        {
         "name": "media_name",
         "rawType": "object",
         "type": "unknown"
        },
        {
         "name": "media_md5",
         "rawType": "object",
         "type": "unknown"
        }
       ],
       "ref": "c3e92f8d-4027-4d36-a2cc-057665eb44c6",
       "rows": [
        [
         "21944",
         "2022-10-07 07:46:52",
         null,
         "c712c1b704c22bd0cef50bc06125cdbd",
         null,
         null,
         null,
         "False",
         "False",
         "True",
         null,
         "5",
         "2022-10-07 07:47:00.355052",
         "0.0",
         "0.0673443875506272",
         "53260",
         "Texto",
         "telegram",
         null,
         null
        ],
        [
         "89109",
         "2022-10-16 00:45:02",
         "8a30ac374bc4b5930eaf0667a178546a",
         "e56ec342fc599ebb4ed89655eb6f03aa",
         null,
         null,
         null,
         "False",
         "False",
         "True",
         null,
         "5",
         "2022-10-16 00:45:04.064662",
         "0.0",
         "0.0566984914818194",
         "521324",
         "Texto",
         "telegram",
         null,
         null
        ],
        [
         "294541",
         "2022-10-04 14:22:47",
         "39ee10516124280a22f1798f2a41f9a7",
         "959f13e0079883060632c74ffc81c547",
         null,
         null,
         null,
         "False",
         "False",
         "True",
         null,
         "5",
         "2022-10-04 14:22:48.808572",
         "0.9734",
         "0.0104332864074612",
         "27241",
         "Texto",
         "telegram",
         null,
         null
        ],
        [
         "324567",
         "2022-10-25 14:55:55",
         "e003fbb6ffedb1838e42360d41cab314",
         "5b10d7739171149be6d9961e3350c071",
         null,
         null,
         null,
         "False",
         "False",
         "True",
         null,
         "5",
         "2022-10-25 14:56:11.604972",
         "0.946",
         "0.4039453952841913",
         "1182938",
         "Texto",
         "telegram",
         null,
         null
        ],
        [
         "389164",
         "2022-10-30 20:19:52",
         null,
         "c8f2de56550ed0bf85249608b7ead93d",
         null,
         null,
         null,
         "False",
         "False",
         "True",
         null,
         "5",
         "2022-10-30 20:19:54.183578",
         "0.0",
         null,
         "28330",
         "Texto",
         "telegram",
         null,
         null
        ],
        [
         "423083",
         "2022-11-03 00:40:23",
         null,
         "4d3712f5a117e36180d4b4cbd07c540e",
         null,
         null,
         null,
         "False",
         "False",
         "True",
         null,
         "5",
         "2022-11-03 00:40:48.993091",
         "0.0",
         "0.0670261132372049",
         "171104",
         "Texto",
         "telegram",
         null,
         null
        ],
        [
         "466735",
         "2022-11-07 20:47:35",
         "4a498818da925377eff2606a260cfa45",
         "f61777908059b318385882ff47b15c33",
         null,
         null,
         null,
         "False",
         "False",
         "True",
         null,
         "5",
         "2022-11-07 20:48:16.653321",
         "0.0",
         "0.0361731638514227",
         "88890",
         "Texto",
         "telegram",
         null,
         null
        ],
        [
         "467297",
         "2022-11-08 10:07:14",
         "4a498818da925377eff2606a260cfa45",
         "f61777908059b318385882ff47b15c33",
         null,
         null,
         null,
         "False",
         "False",
         "True",
         null,
         "5",
         "2022-11-08 10:07:25.260375",
         "0.0",
         "0.0726366073020412",
         "88977",
         "Texto",
         "telegram",
         null,
         null
        ],
        [
         "471273",
         "2022-11-08 20:37:52",
         "4a498818da925377eff2606a260cfa45",
         "f61777908059b318385882ff47b15c33",
         null,
         null,
         null,
         "False",
         "False",
         "True",
         null,
         "5",
         "2022-11-08 20:38:02.773746",
         "0.0",
         "0.0319726092884596",
         "89039",
         "Texto",
         "telegram",
         null,
         null
        ],
        [
         "478270",
         "2022-11-09 19:50:12",
         "4a498818da925377eff2606a260cfa45",
         "f61777908059b318385882ff47b15c33",
         null,
         null,
         null,
         "False",
         "False",
         "True",
         null,
         "5",
         "2022-11-09 19:50:36.039894",
         "0.0",
         "0.029650851225105",
         "89212",
         "Texto",
         "telegram",
         null,
         null
        ],
        [
         "483425",
         "2022-11-10 02:28:43",
         "4a498818da925377eff2606a260cfa45",
         "f61777908059b318385882ff47b15c33",
         null,
         null,
         null,
         "False",
         "False",
         "True",
         null,
         "5",
         "2022-11-10 02:28:52.927707",
         "0.0",
         "0.0699282385550075",
         "89295",
         "Texto",
         "telegram",
         null,
         null
        ],
        [
         "489757",
         "2022-11-10 20:55:00",
         "4a498818da925377eff2606a260cfa45",
         "f61777908059b318385882ff47b15c33",
         null,
         null,
         null,
         "False",
         "False",
         "True",
         null,
         "5",
         "2022-11-10 20:55:14.406143",
         "0.0",
         "0.2231615977977298",
         "89499",
         "Texto",
         "telegram",
         null,
         null
        ],
        [
         "489758",
         "2022-11-10 20:55:01",
         "4a498818da925377eff2606a260cfa45",
         "f61777908059b318385882ff47b15c33",
         null,
         null,
         null,
         "False",
         "False",
         "True",
         null,
         "5",
         "2022-11-10 20:55:14.483805",
         "0.0",
         null,
         "89500",
         "Texto",
         "telegram",
         null,
         null
        ],
        [
         "492781",
         "2022-11-11 09:50:37",
         "4a498818da925377eff2606a260cfa45",
         "f61777908059b318385882ff47b15c33",
         null,
         null,
         null,
         "False",
         "False",
         "True",
         null,
         "5",
         "2022-11-11 09:51:00.430983",
         "0.0",
         "0.0470488960541954",
         "89642",
         "Texto",
         "telegram",
         null,
         null
        ],
        [
         "493561",
         "2022-11-09 06:37:51",
         "4a498818da925377eff2606a260cfa45",
         "f61777908059b318385882ff47b15c33",
         null,
         null,
         null,
         "False",
         "False",
         "True",
         null,
         "5",
         "2022-11-09 06:38:01.682092",
         "0.0",
         "0.0957441387162458",
         "89154",
         "Texto",
         "telegram",
         null,
         null
        ],
        [
         "493663",
         "2022-11-09 07:48:24",
         null,
         "a26d427bec046513e600d165e98660ae",
         "d4c34e18a0d3fc82051327e81f0afa7a.jpg",
         "image/jpg",
         null,
         "True",
         "False",
         "True",
         null,
         "5",
         "2022-11-09 07:48:26.392779",
         "0.0",
         "0.1832856718543782",
         "6276",
         "Imagem",
         "telegram",
         null,
         "d4c34e18a0d3fc82051327e81f0afa7a"
        ]
       ],
       "shape": {
        "columns": 19,
        "rows": 16
       }
      },
      "text/html": [
       "<div>\n",
       "<style scoped>\n",
       "    .dataframe tbody tr th:only-of-type {\n",
       "        vertical-align: middle;\n",
       "    }\n",
       "\n",
       "    .dataframe tbody tr th {\n",
       "        vertical-align: top;\n",
       "    }\n",
       "\n",
       "    .dataframe thead th {\n",
       "        text-align: right;\n",
       "    }\n",
       "</style>\n",
       "<table border=\"1\" class=\"dataframe\">\n",
       "  <thead>\n",
       "    <tr style=\"text-align: right;\">\n",
       "      <th></th>\n",
       "      <th>date_message</th>\n",
       "      <th>id_member_anonymous</th>\n",
       "      <th>id_group_anonymous</th>\n",
       "      <th>media</th>\n",
       "      <th>media_type</th>\n",
       "      <th>media_url</th>\n",
       "      <th>has_media</th>\n",
       "      <th>has_media_url</th>\n",
       "      <th>trava_zap</th>\n",
       "      <th>text_content_anonymous</th>\n",
       "      <th>dataset_info_id</th>\n",
       "      <th>date_system</th>\n",
       "      <th>score_sentiment</th>\n",
       "      <th>score_misinformation</th>\n",
       "      <th>id_message</th>\n",
       "      <th>message_type</th>\n",
       "      <th>messenger</th>\n",
       "      <th>media_name</th>\n",
       "      <th>media_md5</th>\n",
       "    </tr>\n",
       "  </thead>\n",
       "  <tbody>\n",
       "    <tr>\n",
       "      <th>21944</th>\n",
       "      <td>2022-10-07 07:46:52</td>\n",
       "      <td>NaN</td>\n",
       "      <td>c712c1b704c22bd0cef50bc06125cdbd</td>\n",
       "      <td>NaN</td>\n",
       "      <td>NaN</td>\n",
       "      <td>NaN</td>\n",
       "      <td>False</td>\n",
       "      <td>False</td>\n",
       "      <td>True</td>\n",
       "      <td>NaN</td>\n",
       "      <td>5</td>\n",
       "      <td>2022-10-07 07:47:00.355052</td>\n",
       "      <td>0.0000</td>\n",
       "      <td>0.067344</td>\n",
       "      <td>53260</td>\n",
       "      <td>Texto</td>\n",
       "      <td>telegram</td>\n",
       "      <td>NaN</td>\n",
       "      <td>NaN</td>\n",
       "    </tr>\n",
       "    <tr>\n",
       "      <th>89109</th>\n",
       "      <td>2022-10-16 00:45:02</td>\n",
       "      <td>8a30ac374bc4b5930eaf0667a178546a</td>\n",
       "      <td>e56ec342fc599ebb4ed89655eb6f03aa</td>\n",
       "      <td>NaN</td>\n",
       "      <td>NaN</td>\n",
       "      <td>NaN</td>\n",
       "      <td>False</td>\n",
       "      <td>False</td>\n",
       "      <td>True</td>\n",
       "      <td>NaN</td>\n",
       "      <td>5</td>\n",
       "      <td>2022-10-16 00:45:04.064662</td>\n",
       "      <td>0.0000</td>\n",
       "      <td>0.056698</td>\n",
       "      <td>521324</td>\n",
       "      <td>Texto</td>\n",
       "      <td>telegram</td>\n",
       "      <td>NaN</td>\n",
       "      <td>NaN</td>\n",
       "    </tr>\n",
       "    <tr>\n",
       "      <th>294541</th>\n",
       "      <td>2022-10-04 14:22:47</td>\n",
       "      <td>39ee10516124280a22f1798f2a41f9a7</td>\n",
       "      <td>959f13e0079883060632c74ffc81c547</td>\n",
       "      <td>NaN</td>\n",
       "      <td>NaN</td>\n",
       "      <td>NaN</td>\n",
       "      <td>False</td>\n",
       "      <td>False</td>\n",
       "      <td>True</td>\n",
       "      <td>NaN</td>\n",
       "      <td>5</td>\n",
       "      <td>2022-10-04 14:22:48.808572</td>\n",
       "      <td>0.9734</td>\n",
       "      <td>0.010433</td>\n",
       "      <td>27241</td>\n",
       "      <td>Texto</td>\n",
       "      <td>telegram</td>\n",
       "      <td>NaN</td>\n",
       "      <td>NaN</td>\n",
       "    </tr>\n",
       "    <tr>\n",
       "      <th>324567</th>\n",
       "      <td>2022-10-25 14:55:55</td>\n",
       "      <td>e003fbb6ffedb1838e42360d41cab314</td>\n",
       "      <td>5b10d7739171149be6d9961e3350c071</td>\n",
       "      <td>NaN</td>\n",
       "      <td>NaN</td>\n",
       "      <td>NaN</td>\n",
       "      <td>False</td>\n",
       "      <td>False</td>\n",
       "      <td>True</td>\n",
       "      <td>NaN</td>\n",
       "      <td>5</td>\n",
       "      <td>2022-10-25 14:56:11.604972</td>\n",
       "      <td>0.9460</td>\n",
       "      <td>0.403945</td>\n",
       "      <td>1182938</td>\n",
       "      <td>Texto</td>\n",
       "      <td>telegram</td>\n",
       "      <td>NaN</td>\n",
       "      <td>NaN</td>\n",
       "    </tr>\n",
       "    <tr>\n",
       "      <th>389164</th>\n",
       "      <td>2022-10-30 20:19:52</td>\n",
       "      <td>NaN</td>\n",
       "      <td>c8f2de56550ed0bf85249608b7ead93d</td>\n",
       "      <td>NaN</td>\n",
       "      <td>NaN</td>\n",
       "      <td>NaN</td>\n",
       "      <td>False</td>\n",
       "      <td>False</td>\n",
       "      <td>True</td>\n",
       "      <td>NaN</td>\n",
       "      <td>5</td>\n",
       "      <td>2022-10-30 20:19:54.183578</td>\n",
       "      <td>0.0000</td>\n",
       "      <td>NaN</td>\n",
       "      <td>28330</td>\n",
       "      <td>Texto</td>\n",
       "      <td>telegram</td>\n",
       "      <td>NaN</td>\n",
       "      <td>NaN</td>\n",
       "    </tr>\n",
       "    <tr>\n",
       "      <th>423083</th>\n",
       "      <td>2022-11-03 00:40:23</td>\n",
       "      <td>NaN</td>\n",
       "      <td>4d3712f5a117e36180d4b4cbd07c540e</td>\n",
       "      <td>NaN</td>\n",
       "      <td>NaN</td>\n",
       "      <td>NaN</td>\n",
       "      <td>False</td>\n",
       "      <td>False</td>\n",
       "      <td>True</td>\n",
       "      <td>NaN</td>\n",
       "      <td>5</td>\n",
       "      <td>2022-11-03 00:40:48.993091</td>\n",
       "      <td>0.0000</td>\n",
       "      <td>0.067026</td>\n",
       "      <td>171104</td>\n",
       "      <td>Texto</td>\n",
       "      <td>telegram</td>\n",
       "      <td>NaN</td>\n",
       "      <td>NaN</td>\n",
       "    </tr>\n",
       "    <tr>\n",
       "      <th>466735</th>\n",
       "      <td>2022-11-07 20:47:35</td>\n",
       "      <td>4a498818da925377eff2606a260cfa45</td>\n",
       "      <td>f61777908059b318385882ff47b15c33</td>\n",
       "      <td>NaN</td>\n",
       "      <td>NaN</td>\n",
       "      <td>NaN</td>\n",
       "      <td>False</td>\n",
       "      <td>False</td>\n",
       "      <td>True</td>\n",
       "      <td>NaN</td>\n",
       "      <td>5</td>\n",
       "      <td>2022-11-07 20:48:16.653321</td>\n",
       "      <td>0.0000</td>\n",
       "      <td>0.036173</td>\n",
       "      <td>88890</td>\n",
       "      <td>Texto</td>\n",
       "      <td>telegram</td>\n",
       "      <td>NaN</td>\n",
       "      <td>NaN</td>\n",
       "    </tr>\n",
       "    <tr>\n",
       "      <th>467297</th>\n",
       "      <td>2022-11-08 10:07:14</td>\n",
       "      <td>4a498818da925377eff2606a260cfa45</td>\n",
       "      <td>f61777908059b318385882ff47b15c33</td>\n",
       "      <td>NaN</td>\n",
       "      <td>NaN</td>\n",
       "      <td>NaN</td>\n",
       "      <td>False</td>\n",
       "      <td>False</td>\n",
       "      <td>True</td>\n",
       "      <td>NaN</td>\n",
       "      <td>5</td>\n",
       "      <td>2022-11-08 10:07:25.260375</td>\n",
       "      <td>0.0000</td>\n",
       "      <td>0.072637</td>\n",
       "      <td>88977</td>\n",
       "      <td>Texto</td>\n",
       "      <td>telegram</td>\n",
       "      <td>NaN</td>\n",
       "      <td>NaN</td>\n",
       "    </tr>\n",
       "    <tr>\n",
       "      <th>471273</th>\n",
       "      <td>2022-11-08 20:37:52</td>\n",
       "      <td>4a498818da925377eff2606a260cfa45</td>\n",
       "      <td>f61777908059b318385882ff47b15c33</td>\n",
       "      <td>NaN</td>\n",
       "      <td>NaN</td>\n",
       "      <td>NaN</td>\n",
       "      <td>False</td>\n",
       "      <td>False</td>\n",
       "      <td>True</td>\n",
       "      <td>NaN</td>\n",
       "      <td>5</td>\n",
       "      <td>2022-11-08 20:38:02.773746</td>\n",
       "      <td>0.0000</td>\n",
       "      <td>0.031973</td>\n",
       "      <td>89039</td>\n",
       "      <td>Texto</td>\n",
       "      <td>telegram</td>\n",
       "      <td>NaN</td>\n",
       "      <td>NaN</td>\n",
       "    </tr>\n",
       "    <tr>\n",
       "      <th>478270</th>\n",
       "      <td>2022-11-09 19:50:12</td>\n",
       "      <td>4a498818da925377eff2606a260cfa45</td>\n",
       "      <td>f61777908059b318385882ff47b15c33</td>\n",
       "      <td>NaN</td>\n",
       "      <td>NaN</td>\n",
       "      <td>NaN</td>\n",
       "      <td>False</td>\n",
       "      <td>False</td>\n",
       "      <td>True</td>\n",
       "      <td>NaN</td>\n",
       "      <td>5</td>\n",
       "      <td>2022-11-09 19:50:36.039894</td>\n",
       "      <td>0.0000</td>\n",
       "      <td>0.029651</td>\n",
       "      <td>89212</td>\n",
       "      <td>Texto</td>\n",
       "      <td>telegram</td>\n",
       "      <td>NaN</td>\n",
       "      <td>NaN</td>\n",
       "    </tr>\n",
       "    <tr>\n",
       "      <th>483425</th>\n",
       "      <td>2022-11-10 02:28:43</td>\n",
       "      <td>4a498818da925377eff2606a260cfa45</td>\n",
       "      <td>f61777908059b318385882ff47b15c33</td>\n",
       "      <td>NaN</td>\n",
       "      <td>NaN</td>\n",
       "      <td>NaN</td>\n",
       "      <td>False</td>\n",
       "      <td>False</td>\n",
       "      <td>True</td>\n",
       "      <td>NaN</td>\n",
       "      <td>5</td>\n",
       "      <td>2022-11-10 02:28:52.927707</td>\n",
       "      <td>0.0000</td>\n",
       "      <td>0.069928</td>\n",
       "      <td>89295</td>\n",
       "      <td>Texto</td>\n",
       "      <td>telegram</td>\n",
       "      <td>NaN</td>\n",
       "      <td>NaN</td>\n",
       "    </tr>\n",
       "    <tr>\n",
       "      <th>489757</th>\n",
       "      <td>2022-11-10 20:55:00</td>\n",
       "      <td>4a498818da925377eff2606a260cfa45</td>\n",
       "      <td>f61777908059b318385882ff47b15c33</td>\n",
       "      <td>NaN</td>\n",
       "      <td>NaN</td>\n",
       "      <td>NaN</td>\n",
       "      <td>False</td>\n",
       "      <td>False</td>\n",
       "      <td>True</td>\n",
       "      <td>NaN</td>\n",
       "      <td>5</td>\n",
       "      <td>2022-11-10 20:55:14.406143</td>\n",
       "      <td>0.0000</td>\n",
       "      <td>0.223162</td>\n",
       "      <td>89499</td>\n",
       "      <td>Texto</td>\n",
       "      <td>telegram</td>\n",
       "      <td>NaN</td>\n",
       "      <td>NaN</td>\n",
       "    </tr>\n",
       "    <tr>\n",
       "      <th>489758</th>\n",
       "      <td>2022-11-10 20:55:01</td>\n",
       "      <td>4a498818da925377eff2606a260cfa45</td>\n",
       "      <td>f61777908059b318385882ff47b15c33</td>\n",
       "      <td>NaN</td>\n",
       "      <td>NaN</td>\n",
       "      <td>NaN</td>\n",
       "      <td>False</td>\n",
       "      <td>False</td>\n",
       "      <td>True</td>\n",
       "      <td>NaN</td>\n",
       "      <td>5</td>\n",
       "      <td>2022-11-10 20:55:14.483805</td>\n",
       "      <td>0.0000</td>\n",
       "      <td>NaN</td>\n",
       "      <td>89500</td>\n",
       "      <td>Texto</td>\n",
       "      <td>telegram</td>\n",
       "      <td>NaN</td>\n",
       "      <td>NaN</td>\n",
       "    </tr>\n",
       "    <tr>\n",
       "      <th>492781</th>\n",
       "      <td>2022-11-11 09:50:37</td>\n",
       "      <td>4a498818da925377eff2606a260cfa45</td>\n",
       "      <td>f61777908059b318385882ff47b15c33</td>\n",
       "      <td>NaN</td>\n",
       "      <td>NaN</td>\n",
       "      <td>NaN</td>\n",
       "      <td>False</td>\n",
       "      <td>False</td>\n",
       "      <td>True</td>\n",
       "      <td>NaN</td>\n",
       "      <td>5</td>\n",
       "      <td>2022-11-11 09:51:00.430983</td>\n",
       "      <td>0.0000</td>\n",
       "      <td>0.047049</td>\n",
       "      <td>89642</td>\n",
       "      <td>Texto</td>\n",
       "      <td>telegram</td>\n",
       "      <td>NaN</td>\n",
       "      <td>NaN</td>\n",
       "    </tr>\n",
       "    <tr>\n",
       "      <th>493561</th>\n",
       "      <td>2022-11-09 06:37:51</td>\n",
       "      <td>4a498818da925377eff2606a260cfa45</td>\n",
       "      <td>f61777908059b318385882ff47b15c33</td>\n",
       "      <td>NaN</td>\n",
       "      <td>NaN</td>\n",
       "      <td>NaN</td>\n",
       "      <td>False</td>\n",
       "      <td>False</td>\n",
       "      <td>True</td>\n",
       "      <td>NaN</td>\n",
       "      <td>5</td>\n",
       "      <td>2022-11-09 06:38:01.682092</td>\n",
       "      <td>0.0000</td>\n",
       "      <td>0.095744</td>\n",
       "      <td>89154</td>\n",
       "      <td>Texto</td>\n",
       "      <td>telegram</td>\n",
       "      <td>NaN</td>\n",
       "      <td>NaN</td>\n",
       "    </tr>\n",
       "    <tr>\n",
       "      <th>493663</th>\n",
       "      <td>2022-11-09 07:48:24</td>\n",
       "      <td>NaN</td>\n",
       "      <td>a26d427bec046513e600d165e98660ae</td>\n",
       "      <td>d4c34e18a0d3fc82051327e81f0afa7a.jpg</td>\n",
       "      <td>image/jpg</td>\n",
       "      <td>NaN</td>\n",
       "      <td>True</td>\n",
       "      <td>False</td>\n",
       "      <td>True</td>\n",
       "      <td>NaN</td>\n",
       "      <td>5</td>\n",
       "      <td>2022-11-09 07:48:26.392779</td>\n",
       "      <td>0.0000</td>\n",
       "      <td>0.183286</td>\n",
       "      <td>6276</td>\n",
       "      <td>Imagem</td>\n",
       "      <td>telegram</td>\n",
       "      <td>NaN</td>\n",
       "      <td>d4c34e18a0d3fc82051327e81f0afa7a</td>\n",
       "    </tr>\n",
       "  </tbody>\n",
       "</table>\n",
       "</div>"
      ],
      "text/plain": [
       "               date_message               id_member_anonymous  \\\n",
       "21944   2022-10-07 07:46:52                               NaN   \n",
       "89109   2022-10-16 00:45:02  8a30ac374bc4b5930eaf0667a178546a   \n",
       "294541  2022-10-04 14:22:47  39ee10516124280a22f1798f2a41f9a7   \n",
       "324567  2022-10-25 14:55:55  e003fbb6ffedb1838e42360d41cab314   \n",
       "389164  2022-10-30 20:19:52                               NaN   \n",
       "423083  2022-11-03 00:40:23                               NaN   \n",
       "466735  2022-11-07 20:47:35  4a498818da925377eff2606a260cfa45   \n",
       "467297  2022-11-08 10:07:14  4a498818da925377eff2606a260cfa45   \n",
       "471273  2022-11-08 20:37:52  4a498818da925377eff2606a260cfa45   \n",
       "478270  2022-11-09 19:50:12  4a498818da925377eff2606a260cfa45   \n",
       "483425  2022-11-10 02:28:43  4a498818da925377eff2606a260cfa45   \n",
       "489757  2022-11-10 20:55:00  4a498818da925377eff2606a260cfa45   \n",
       "489758  2022-11-10 20:55:01  4a498818da925377eff2606a260cfa45   \n",
       "492781  2022-11-11 09:50:37  4a498818da925377eff2606a260cfa45   \n",
       "493561  2022-11-09 06:37:51  4a498818da925377eff2606a260cfa45   \n",
       "493663  2022-11-09 07:48:24                               NaN   \n",
       "\n",
       "                      id_group_anonymous  \\\n",
       "21944   c712c1b704c22bd0cef50bc06125cdbd   \n",
       "89109   e56ec342fc599ebb4ed89655eb6f03aa   \n",
       "294541  959f13e0079883060632c74ffc81c547   \n",
       "324567  5b10d7739171149be6d9961e3350c071   \n",
       "389164  c8f2de56550ed0bf85249608b7ead93d   \n",
       "423083  4d3712f5a117e36180d4b4cbd07c540e   \n",
       "466735  f61777908059b318385882ff47b15c33   \n",
       "467297  f61777908059b318385882ff47b15c33   \n",
       "471273  f61777908059b318385882ff47b15c33   \n",
       "478270  f61777908059b318385882ff47b15c33   \n",
       "483425  f61777908059b318385882ff47b15c33   \n",
       "489757  f61777908059b318385882ff47b15c33   \n",
       "489758  f61777908059b318385882ff47b15c33   \n",
       "492781  f61777908059b318385882ff47b15c33   \n",
       "493561  f61777908059b318385882ff47b15c33   \n",
       "493663  a26d427bec046513e600d165e98660ae   \n",
       "\n",
       "                                       media media_type media_url  has_media  \\\n",
       "21944                                    NaN        NaN       NaN      False   \n",
       "89109                                    NaN        NaN       NaN      False   \n",
       "294541                                   NaN        NaN       NaN      False   \n",
       "324567                                   NaN        NaN       NaN      False   \n",
       "389164                                   NaN        NaN       NaN      False   \n",
       "423083                                   NaN        NaN       NaN      False   \n",
       "466735                                   NaN        NaN       NaN      False   \n",
       "467297                                   NaN        NaN       NaN      False   \n",
       "471273                                   NaN        NaN       NaN      False   \n",
       "478270                                   NaN        NaN       NaN      False   \n",
       "483425                                   NaN        NaN       NaN      False   \n",
       "489757                                   NaN        NaN       NaN      False   \n",
       "489758                                   NaN        NaN       NaN      False   \n",
       "492781                                   NaN        NaN       NaN      False   \n",
       "493561                                   NaN        NaN       NaN      False   \n",
       "493663  d4c34e18a0d3fc82051327e81f0afa7a.jpg  image/jpg       NaN       True   \n",
       "\n",
       "        has_media_url  trava_zap text_content_anonymous  dataset_info_id  \\\n",
       "21944           False       True                    NaN                5   \n",
       "89109           False       True                    NaN                5   \n",
       "294541          False       True                    NaN                5   \n",
       "324567          False       True                    NaN                5   \n",
       "389164          False       True                    NaN                5   \n",
       "423083          False       True                    NaN                5   \n",
       "466735          False       True                    NaN                5   \n",
       "467297          False       True                    NaN                5   \n",
       "471273          False       True                    NaN                5   \n",
       "478270          False       True                    NaN                5   \n",
       "483425          False       True                    NaN                5   \n",
       "489757          False       True                    NaN                5   \n",
       "489758          False       True                    NaN                5   \n",
       "492781          False       True                    NaN                5   \n",
       "493561          False       True                    NaN                5   \n",
       "493663          False       True                    NaN                5   \n",
       "\n",
       "                       date_system  score_sentiment  score_misinformation  \\\n",
       "21944   2022-10-07 07:47:00.355052           0.0000              0.067344   \n",
       "89109   2022-10-16 00:45:04.064662           0.0000              0.056698   \n",
       "294541  2022-10-04 14:22:48.808572           0.9734              0.010433   \n",
       "324567  2022-10-25 14:56:11.604972           0.9460              0.403945   \n",
       "389164  2022-10-30 20:19:54.183578           0.0000                   NaN   \n",
       "423083  2022-11-03 00:40:48.993091           0.0000              0.067026   \n",
       "466735  2022-11-07 20:48:16.653321           0.0000              0.036173   \n",
       "467297  2022-11-08 10:07:25.260375           0.0000              0.072637   \n",
       "471273  2022-11-08 20:38:02.773746           0.0000              0.031973   \n",
       "478270  2022-11-09 19:50:36.039894           0.0000              0.029651   \n",
       "483425  2022-11-10 02:28:52.927707           0.0000              0.069928   \n",
       "489757  2022-11-10 20:55:14.406143           0.0000              0.223162   \n",
       "489758  2022-11-10 20:55:14.483805           0.0000                   NaN   \n",
       "492781  2022-11-11 09:51:00.430983           0.0000              0.047049   \n",
       "493561  2022-11-09 06:38:01.682092           0.0000              0.095744   \n",
       "493663  2022-11-09 07:48:26.392779           0.0000              0.183286   \n",
       "\n",
       "        id_message message_type messenger media_name  \\\n",
       "21944        53260        Texto  telegram        NaN   \n",
       "89109       521324        Texto  telegram        NaN   \n",
       "294541       27241        Texto  telegram        NaN   \n",
       "324567     1182938        Texto  telegram        NaN   \n",
       "389164       28330        Texto  telegram        NaN   \n",
       "423083      171104        Texto  telegram        NaN   \n",
       "466735       88890        Texto  telegram        NaN   \n",
       "467297       88977        Texto  telegram        NaN   \n",
       "471273       89039        Texto  telegram        NaN   \n",
       "478270       89212        Texto  telegram        NaN   \n",
       "483425       89295        Texto  telegram        NaN   \n",
       "489757       89499        Texto  telegram        NaN   \n",
       "489758       89500        Texto  telegram        NaN   \n",
       "492781       89642        Texto  telegram        NaN   \n",
       "493561       89154        Texto  telegram        NaN   \n",
       "493663        6276       Imagem  telegram        NaN   \n",
       "\n",
       "                               media_md5  \n",
       "21944                                NaN  \n",
       "89109                                NaN  \n",
       "294541                               NaN  \n",
       "324567                               NaN  \n",
       "389164                               NaN  \n",
       "423083                               NaN  \n",
       "466735                               NaN  \n",
       "467297                               NaN  \n",
       "471273                               NaN  \n",
       "478270                               NaN  \n",
       "483425                               NaN  \n",
       "489757                               NaN  \n",
       "489758                               NaN  \n",
       "492781                               NaN  \n",
       "493561                               NaN  \n",
       "493663  d4c34e18a0d3fc82051327e81f0afa7a  "
      ]
     },
     "metadata": {},
     "output_type": "display_data"
    }
   ],
   "source": [
    "# Relatório final\n",
    "print(\"\\033[1mRelatório de Remoção:\\033[0m\")\n",
    "print(f\"• Registros originais: {len(df_inicial):,}\")\n",
    "print(f\"• Registros removidos: {trava_dist.get(True, 0):,}\")\n",
    "print(f\"• Registros restantes: {len(df_sem_trava_zap):,}\") \n",
    "\n",
    "# Visualização dos dados que foram removidos\n",
    "if trava_dist.get(True, 0) > 0:\n",
    "    display(\n",
    "        df_inicial[df_inicial['trava_zap'] == True].head(16)  \n",
    "    )"
   ]
  },
  {
   "cell_type": "markdown",
   "id": "e5eb797f",
   "metadata": {},
   "source": [
    "---"
   ]
  },
  {
   "cell_type": "markdown",
   "id": "32d1be45",
   "metadata": {},
   "source": [
    "### **(c)** Remover as linhas repetidas (duplicadas)."
   ]
  },
  {
   "cell_type": "markdown",
   "id": "edff7a17",
   "metadata": {},
   "source": [
    "Após realizar a filtragem das mensagens identificadas como \"trava-zaps\", é fundamental para garantir que análises estatísticas e inferências posteriores não sejam distorcidas por registros repetidos, que poderiam inflar contagens ou enviesar métricas como proporções, médias e distribuições.\n",
    "\n",
    "A remoção de linhas repetidas foi realizada utilizando o método `drop_duplicates()` do Pandas, aplicado diretamente sobre o `df_sem_trava_zap`. Esse método verifica todas as colunas do DataFrame e elimina quaisquer registros que sejam completamente idênticos em todas elas. Abaixo está o código utilizado:"
   ]
  },
  {
   "cell_type": "code",
   "execution_count": 9,
   "id": "0f13a050",
   "metadata": {},
   "outputs": [
    {
     "name": "stdout",
     "output_type": "stream",
     "text": [
      "\u001b[1mRelatório de Remoção de Duplicatas:\u001b[0m\n",
      "• Registros antes da remoção: 557,570\n",
      "• Duplicatas encontradas: 0\n",
      "• Registros únicos após remoção: 557,570\n"
     ]
    }
   ],
   "source": [
    "# Identificação das linhas duplicadas\n",
    "duplicatas = df_sem_trava_zap[df_sem_trava_zap.duplicated(keep=False)]\n",
    "\n",
    "# Relatório de remoção de duplicatas\n",
    "print(\"\\033[1mRelatório de Remoção de Duplicatas:\\033[0m\")\n",
    "print(f\"• Registros antes da remoção: {len(df_sem_trava_zap):,}\")\n",
    "print(f\"• Duplicatas encontradas: {len(duplicatas):,}\")\n",
    "print(f\"• Registros únicos após remoção: {len(df_sem_trava_zap.drop_duplicates()):,}\")\n",
    "\n",
    "# Visualização das linhas duplicadas que serão removidas\n",
    "if not duplicatas.empty:\n",
    "    display(duplicatas.sort_values(by='id_message').head(10))  # Mostra 10 duplicadas ordenadas por id_message"
   ]
  },
  {
   "cell_type": "markdown",
   "id": "36638955",
   "metadata": {},
   "source": [
    "---"
   ]
  },
  {
   "cell_type": "markdown",
   "id": "9b3b50a4",
   "metadata": {},
   "source": [
    "### **(d)** Remover textos com menos de 5 palavras. "
   ]
  },
  {
   "cell_type": "markdown",
   "id": "81e8917d",
   "metadata": {},
   "source": [
    "Nesta etapa, o objetivo foi eliminar mensagens com pouco conteúdo textual, mais especificamente aquelas com menos de 5 palavras. Isso se justifica pela baixa relevância semântica de mensagens muito curtas, que tendem a conter ruídos, emojis soltos, confirmações (\"sim\", \"ok\", \"não\") ou abreviações que pouco contribuem para análises mais profundas.\n",
    "\n",
    "Para isso, foi criada uma nova feature chamada `qtd_palavras`, responsável por contabilizar o número de palavras em cada mensagem da coluna `text_content_anonymous`. Com essa informação, filtramos o DataFrame mantendo apenas registros com 5 ou mais palavras.\n",
    "\n",
    "O relatório abaixo resume o resultado dessa filtragem.\n",
    "\n",
    "Além disso, uma amostra das mensagens descartadas foi exibida para inspeção manual e validação da decisão tomada."
   ]
  },
  {
   "cell_type": "code",
   "execution_count": 10,
   "id": "5570ba8a",
   "metadata": {},
   "outputs": [
    {
     "name": "stdout",
     "output_type": "stream",
     "text": [
      "\u001b[1mRelatório de Remoção de Mensagens Curtas:\u001b[0m\n",
      "• Registros antes da remoção: 557,570\n",
      "• Mensagens com menos de 5 palavras removidas: 218,284\n",
      "• Registros restantes: 339,286\n"
     ]
    },
    {
     "data": {
      "application/vnd.microsoft.datawrangler.viewer.v0+json": {
       "columns": [
        {
         "name": "index",
         "rawType": "int64",
         "type": "integer"
        },
        {
         "name": "text_content_anonymous",
         "rawType": "object",
         "type": "unknown"
        },
        {
         "name": "qtd_palavras",
         "rawType": "int64",
         "type": "integer"
        }
       ],
       "ref": "044e23f4-e2a2-49c6-9cbd-27cfa7806451",
       "rows": [
        [
         "4",
         null,
         "1"
        ],
        [
         "337292",
         null,
         "1"
        ],
        [
         "337293",
         null,
         "1"
        ],
        [
         "337294",
         null,
         "1"
        ],
        [
         "337295",
         null,
         "1"
        ],
        [
         "337296",
         null,
         "1"
        ],
        [
         "337298",
         "https://youtu.be/sOc-TRTh-7o",
         "1"
        ],
        [
         "337299",
         "https://www.youtube.com/watch?v=s4vdVj4VCvk",
         "1"
        ],
        [
         "337300",
         null,
         "1"
        ],
        [
         "337301",
         null,
         "1"
        ]
       ],
       "shape": {
        "columns": 2,
        "rows": 10
       }
      },
      "text/html": [
       "<div>\n",
       "<style scoped>\n",
       "    .dataframe tbody tr th:only-of-type {\n",
       "        vertical-align: middle;\n",
       "    }\n",
       "\n",
       "    .dataframe tbody tr th {\n",
       "        vertical-align: top;\n",
       "    }\n",
       "\n",
       "    .dataframe thead th {\n",
       "        text-align: right;\n",
       "    }\n",
       "</style>\n",
       "<table border=\"1\" class=\"dataframe\">\n",
       "  <thead>\n",
       "    <tr style=\"text-align: right;\">\n",
       "      <th></th>\n",
       "      <th>text_content_anonymous</th>\n",
       "      <th>qtd_palavras</th>\n",
       "    </tr>\n",
       "  </thead>\n",
       "  <tbody>\n",
       "    <tr>\n",
       "      <th>4</th>\n",
       "      <td>NaN</td>\n",
       "      <td>1</td>\n",
       "    </tr>\n",
       "    <tr>\n",
       "      <th>337292</th>\n",
       "      <td>NaN</td>\n",
       "      <td>1</td>\n",
       "    </tr>\n",
       "    <tr>\n",
       "      <th>337293</th>\n",
       "      <td>NaN</td>\n",
       "      <td>1</td>\n",
       "    </tr>\n",
       "    <tr>\n",
       "      <th>337294</th>\n",
       "      <td>NaN</td>\n",
       "      <td>1</td>\n",
       "    </tr>\n",
       "    <tr>\n",
       "      <th>337295</th>\n",
       "      <td>NaN</td>\n",
       "      <td>1</td>\n",
       "    </tr>\n",
       "    <tr>\n",
       "      <th>337296</th>\n",
       "      <td>NaN</td>\n",
       "      <td>1</td>\n",
       "    </tr>\n",
       "    <tr>\n",
       "      <th>337298</th>\n",
       "      <td>https://youtu.be/sOc-TRTh-7o</td>\n",
       "      <td>1</td>\n",
       "    </tr>\n",
       "    <tr>\n",
       "      <th>337299</th>\n",
       "      <td>https://www.youtube.com/watch?v=s4vdVj4VCvk</td>\n",
       "      <td>1</td>\n",
       "    </tr>\n",
       "    <tr>\n",
       "      <th>337300</th>\n",
       "      <td>NaN</td>\n",
       "      <td>1</td>\n",
       "    </tr>\n",
       "    <tr>\n",
       "      <th>337301</th>\n",
       "      <td>NaN</td>\n",
       "      <td>1</td>\n",
       "    </tr>\n",
       "  </tbody>\n",
       "</table>\n",
       "</div>"
      ],
      "text/plain": [
       "                             text_content_anonymous  qtd_palavras\n",
       "4                                               NaN             1\n",
       "337292                                          NaN             1\n",
       "337293                                          NaN             1\n",
       "337294                                          NaN             1\n",
       "337295                                          NaN             1\n",
       "337296                                          NaN             1\n",
       "337298                 https://youtu.be/sOc-TRTh-7o             1\n",
       "337299  https://www.youtube.com/watch?v=s4vdVj4VCvk             1\n",
       "337300                                          NaN             1\n",
       "337301                                          NaN             1"
      ]
     },
     "metadata": {},
     "output_type": "display_data"
    }
   ],
   "source": [
    "# Criação da feature 'qtd_palavras' com a contagem de palavras na mensagem\n",
    "df_sem_trava_zap['qtd_palavras'] = df_sem_trava_zap['text_content_anonymous'].astype(str).apply(lambda x: len(x.split()))\n",
    "\n",
    "# Identificação das mensagens com menos de 5 palavras\n",
    "mensagens_curta = df_sem_trava_zap[df_sem_trava_zap['qtd_palavras'] < 5]\n",
    "\n",
    "# Filtragem: apenas mensagens com 5 ou mais palavras\n",
    "df_sem_mensagens_curtas = df_sem_trava_zap[df_sem_trava_zap['qtd_palavras'] >= 5].reset_index(drop=True)\n",
    "\n",
    "# Relatório de remoção\n",
    "print(\"\\033[1mRelatório de Remoção de Mensagens Curtas:\\033[0m\")\n",
    "print(f\"• Registros antes da remoção: {len(df_sem_trava_zap):,}\")\n",
    "print(f\"• Mensagens com menos de 5 palavras removidas: {len(mensagens_curta):,}\")\n",
    "print(f\"• Registros restantes: {len(df_sem_mensagens_curtas):,}\")\n",
    "\n",
    "# Visualização das mensagens que foram removidas\n",
    "if not mensagens_curta.empty:\n",
    "    display(mensagens_curta[['text_content_anonymous', 'qtd_palavras']].sort_values(by='qtd_palavras').head(10)) # Apenas os 10 primeiros casos"
   ]
  },
  {
   "cell_type": "markdown",
   "id": "0377ab3a",
   "metadata": {},
   "source": [
    "---"
   ]
  },
  {
   "cell_type": "markdown",
   "id": "060a062c",
   "metadata": {},
   "source": [
    "### **(e)** Para cada atributo numérico apresente"
   ]
  },
  {
   "cell_type": "markdown",
   "id": "11098c3d",
   "metadata": {},
   "source": [
    "Antes de calcular as medidas e tabelas, foi realizada uma análise exploratória inicial para mapear os atributos numéricos disponíveis e avaliar possíveis valores ausentes, formatos incorretos e dispersões.\n",
    "\n",
    "O comando `.info()` permitiu inspecionar os tipos de dados presentes no DataFrame, enquanto o `.describe()` forneceu um resumo estatístico geral (contagem, média, desvio padrão, mínimo, percentis e máximo) das colunas numéricas.\n",
    "\n",
    "Essa etapa é fundamental para compreender a estrutura dos dados e orientar as análises estatísticas subsequentes de forma segura e eficiente."
   ]
  },
  {
   "cell_type": "code",
   "execution_count": 11,
   "id": "4fe662f6",
   "metadata": {},
   "outputs": [
    {
     "name": "stdout",
     "output_type": "stream",
     "text": [
      "\u001b[1mInformações do DataFrame:\u001b[0m\n",
      "<class 'pandas.core.frame.DataFrame'>\n",
      "RangeIndex: 339286 entries, 0 to 339285\n",
      "Data columns (total 20 columns):\n",
      " #   Column                  Non-Null Count   Dtype  \n",
      "---  ------                  --------------   -----  \n",
      " 0   date_message            339286 non-null  object \n",
      " 1   id_member_anonymous     142880 non-null  object \n",
      " 2   id_group_anonymous      339286 non-null  object \n",
      " 3   media                   126431 non-null  object \n",
      " 4   media_type              126431 non-null  object \n",
      " 5   media_url               82936 non-null   object \n",
      " 6   has_media               339286 non-null  bool   \n",
      " 7   has_media_url           339286 non-null  bool   \n",
      " 8   trava_zap               339286 non-null  bool   \n",
      " 9   text_content_anonymous  339286 non-null  object \n",
      " 10  dataset_info_id         339286 non-null  int64  \n",
      " 11  date_system             339286 non-null  object \n",
      " 12  score_sentiment         339239 non-null  float64\n",
      " 13  score_misinformation    167224 non-null  float64\n",
      " 14  id_message              339286 non-null  int64  \n",
      " 15  message_type            339286 non-null  object \n",
      " 16  messenger               339286 non-null  object \n",
      " 17  media_name              6625 non-null    object \n",
      " 18  media_md5               126431 non-null  object \n",
      " 19  qtd_palavras            339286 non-null  int64  \n",
      "dtypes: bool(3), float64(2), int64(3), object(12)\n",
      "memory usage: 45.0+ MB\n",
      "\n",
      "\u001b[1mResumo Estatístico das Colunas Numéricas:\u001b[0m\n"
     ]
    },
    {
     "data": {
      "application/vnd.microsoft.datawrangler.viewer.v0+json": {
       "columns": [
        {
         "name": "index",
         "rawType": "object",
         "type": "string"
        },
        {
         "name": "dataset_info_id",
         "rawType": "float64",
         "type": "float"
        },
        {
         "name": "score_sentiment",
         "rawType": "float64",
         "type": "float"
        },
        {
         "name": "score_misinformation",
         "rawType": "float64",
         "type": "float"
        },
        {
         "name": "id_message",
         "rawType": "float64",
         "type": "float"
        },
        {
         "name": "qtd_palavras",
         "rawType": "float64",
         "type": "float"
        }
       ],
       "ref": "c7c25128-5f94-40a5-9f0b-8444305411df",
       "rows": [
        [
         "count",
         "339286.0",
         "339239.0",
         "167224.0",
         "339286.0",
         "339286.0"
        ],
        [
         "mean",
         "5.0",
         "0.022024824975901948",
         "0.31226279277651897",
         "421909.07927530166",
         "42.02781723973285"
        ],
        [
         "std",
         "0.0",
         "0.5297243497104698",
         "0.29370295222330745",
         "484365.8863721016",
         "74.05052093814272"
        ],
        [
         "min",
         "5.0",
         "-1.0",
         "3.2731487153e-06",
         "2.0",
         "5.0"
        ],
        [
         "25%",
         "5.0",
         "-0.3818",
         "0.0784661869707542",
         "19919.0",
         "14.0"
        ],
        [
         "50%",
         "5.0",
         "0.0",
         "0.1975916828520037",
         "84909.5",
         "20.0"
        ],
        [
         "75%",
         "5.0",
         "0.5053",
         "0.49039632914583375",
         "973093.25",
         "40.0"
        ],
        [
         "max",
         "5.0",
         "0.9992",
         "0.9999999828564162",
         "1516436.0",
         "1261.0"
        ]
       ],
       "shape": {
        "columns": 5,
        "rows": 8
       }
      },
      "text/html": [
       "<div>\n",
       "<style scoped>\n",
       "    .dataframe tbody tr th:only-of-type {\n",
       "        vertical-align: middle;\n",
       "    }\n",
       "\n",
       "    .dataframe tbody tr th {\n",
       "        vertical-align: top;\n",
       "    }\n",
       "\n",
       "    .dataframe thead th {\n",
       "        text-align: right;\n",
       "    }\n",
       "</style>\n",
       "<table border=\"1\" class=\"dataframe\">\n",
       "  <thead>\n",
       "    <tr style=\"text-align: right;\">\n",
       "      <th></th>\n",
       "      <th>dataset_info_id</th>\n",
       "      <th>score_sentiment</th>\n",
       "      <th>score_misinformation</th>\n",
       "      <th>id_message</th>\n",
       "      <th>qtd_palavras</th>\n",
       "    </tr>\n",
       "  </thead>\n",
       "  <tbody>\n",
       "    <tr>\n",
       "      <th>count</th>\n",
       "      <td>339286.0</td>\n",
       "      <td>339239.000000</td>\n",
       "      <td>167224.000000</td>\n",
       "      <td>3.392860e+05</td>\n",
       "      <td>339286.000000</td>\n",
       "    </tr>\n",
       "    <tr>\n",
       "      <th>mean</th>\n",
       "      <td>5.0</td>\n",
       "      <td>0.022025</td>\n",
       "      <td>0.312263</td>\n",
       "      <td>4.219091e+05</td>\n",
       "      <td>42.027817</td>\n",
       "    </tr>\n",
       "    <tr>\n",
       "      <th>std</th>\n",
       "      <td>0.0</td>\n",
       "      <td>0.529724</td>\n",
       "      <td>0.293703</td>\n",
       "      <td>4.843659e+05</td>\n",
       "      <td>74.050521</td>\n",
       "    </tr>\n",
       "    <tr>\n",
       "      <th>min</th>\n",
       "      <td>5.0</td>\n",
       "      <td>-1.000000</td>\n",
       "      <td>0.000003</td>\n",
       "      <td>2.000000e+00</td>\n",
       "      <td>5.000000</td>\n",
       "    </tr>\n",
       "    <tr>\n",
       "      <th>25%</th>\n",
       "      <td>5.0</td>\n",
       "      <td>-0.381800</td>\n",
       "      <td>0.078466</td>\n",
       "      <td>1.991900e+04</td>\n",
       "      <td>14.000000</td>\n",
       "    </tr>\n",
       "    <tr>\n",
       "      <th>50%</th>\n",
       "      <td>5.0</td>\n",
       "      <td>0.000000</td>\n",
       "      <td>0.197592</td>\n",
       "      <td>8.490950e+04</td>\n",
       "      <td>20.000000</td>\n",
       "    </tr>\n",
       "    <tr>\n",
       "      <th>75%</th>\n",
       "      <td>5.0</td>\n",
       "      <td>0.505300</td>\n",
       "      <td>0.490396</td>\n",
       "      <td>9.730932e+05</td>\n",
       "      <td>40.000000</td>\n",
       "    </tr>\n",
       "    <tr>\n",
       "      <th>max</th>\n",
       "      <td>5.0</td>\n",
       "      <td>0.999200</td>\n",
       "      <td>1.000000</td>\n",
       "      <td>1.516436e+06</td>\n",
       "      <td>1261.000000</td>\n",
       "    </tr>\n",
       "  </tbody>\n",
       "</table>\n",
       "</div>"
      ],
      "text/plain": [
       "       dataset_info_id  score_sentiment  score_misinformation    id_message  \\\n",
       "count         339286.0    339239.000000         167224.000000  3.392860e+05   \n",
       "mean               5.0         0.022025              0.312263  4.219091e+05   \n",
       "std                0.0         0.529724              0.293703  4.843659e+05   \n",
       "min                5.0        -1.000000              0.000003  2.000000e+00   \n",
       "25%                5.0        -0.381800              0.078466  1.991900e+04   \n",
       "50%                5.0         0.000000              0.197592  8.490950e+04   \n",
       "75%                5.0         0.505300              0.490396  9.730932e+05   \n",
       "max                5.0         0.999200              1.000000  1.516436e+06   \n",
       "\n",
       "        qtd_palavras  \n",
       "count  339286.000000  \n",
       "mean       42.027817  \n",
       "std        74.050521  \n",
       "min         5.000000  \n",
       "25%        14.000000  \n",
       "50%        20.000000  \n",
       "75%        40.000000  \n",
       "max      1261.000000  "
      ]
     },
     "metadata": {},
     "output_type": "display_data"
    }
   ],
   "source": [
    "# Visualização geral das colunas e tipos\n",
    "print(\"\\033[1mInformações do DataFrame:\\033[0m\")\n",
    "df_sem_mensagens_curtas.info()\n",
    "\n",
    "# Estatísticas descritivas básicas para colunas numéricas\n",
    "print(\"\\n\\033[1mResumo Estatístico das Colunas Numéricas:\\033[0m\")\n",
    "display(df_sem_mensagens_curtas.describe())"
   ]
  },
  {
   "cell_type": "markdown",
   "id": "35914445",
   "metadata": {},
   "source": [
    "#### 1. **Medidas de Tendência Central**"
   ]
  },
  {
   "cell_type": "markdown",
   "id": "32f80d4d",
   "metadata": {},
   "source": [
    "Para cada atributo numérico identificado no dataset, foram calculadas as principais medidas de tendência central e de dispersão, sendo:\n",
    "\n",
    "- **Média**: valor médio da distribuição.\n",
    "- **Mediana**: valor central quando os dados estão ordenados.\n",
    "- **Moda**: valor que mais se repete.\n",
    "- **Desvio Padrão**: indica a dispersão dos dados em relação à média.\n",
    "- **Mínimo e Máximo**: ajudam a entender a amplitude da distribuição.\n",
    "- **Valores Nulos**: quantidade de registros ausentes (importante para avaliar a qualidade do dado).\n",
    "\n",
    "Essas medidas fornecem uma visão geral do comportamento central dos dados e ajudam a identificar possíveis distorções, outliers e padrões relevantes."
   ]
  },
  {
   "cell_type": "code",
   "execution_count": null,
   "id": "6ae1648c",
   "metadata": {},
   "outputs": [
    {
     "data": {
      "application/vnd.microsoft.datawrangler.viewer.v0+json": {
       "columns": [
        {
         "name": "index",
         "rawType": "int64",
         "type": "integer"
        },
        {
         "name": "Atributo",
         "rawType": "object",
         "type": "string"
        },
        {
         "name": "Média",
         "rawType": "float64",
         "type": "float"
        },
        {
         "name": "Mediana",
         "rawType": "float64",
         "type": "float"
        },
        {
         "name": "Moda",
         "rawType": "float64",
         "type": "float"
        },
        {
         "name": "Desvio Padrão",
         "rawType": "float64",
         "type": "float"
        },
        {
         "name": "Mínimo",
         "rawType": "float64",
         "type": "float"
        },
        {
         "name": "Máximo",
         "rawType": "float64",
         "type": "float"
        },
        {
         "name": "Valores Nulos",
         "rawType": "int64",
         "type": "integer"
        }
       ],
       "ref": "bb7bc891-06ad-40bb-ab11-707caead23ec",
       "rows": [
        [
         "0",
         "dataset_info_id",
         "5.0",
         "5.0",
         "5.0",
         "0.0",
         "5.0",
         "5.0",
         "0"
        ],
        [
         "3",
         "id_message",
         "421909.079",
         "84909.5",
         "1014.0",
         "484365.886",
         "2.0",
         "1516436.0",
         "0"
        ],
        [
         "4",
         "qtd_palavras",
         "42.028",
         "20.0",
         "15.0",
         "74.051",
         "5.0",
         "1261.0",
         "0"
        ],
        [
         "2",
         "score_misinformation",
         "0.312",
         "0.198",
         "0.1106282729517939",
         "0.294",
         "3.2731487153e-06",
         "0.9999999828564162",
         "172062"
        ],
        [
         "1",
         "score_sentiment",
         "0.022",
         "0.0",
         "0.0",
         "0.53",
         "-1.0",
         "0.9992",
         "47"
        ]
       ],
       "shape": {
        "columns": 8,
        "rows": 5
       }
      },
      "text/html": [
       "<div>\n",
       "<style scoped>\n",
       "    .dataframe tbody tr th:only-of-type {\n",
       "        vertical-align: middle;\n",
       "    }\n",
       "\n",
       "    .dataframe tbody tr th {\n",
       "        vertical-align: top;\n",
       "    }\n",
       "\n",
       "    .dataframe thead th {\n",
       "        text-align: right;\n",
       "    }\n",
       "</style>\n",
       "<table border=\"1\" class=\"dataframe\">\n",
       "  <thead>\n",
       "    <tr style=\"text-align: right;\">\n",
       "      <th></th>\n",
       "      <th>Atributo</th>\n",
       "      <th>Média</th>\n",
       "      <th>Mediana</th>\n",
       "      <th>Moda</th>\n",
       "      <th>Desvio Padrão</th>\n",
       "      <th>Mínimo</th>\n",
       "      <th>Máximo</th>\n",
       "      <th>Valores Nulos</th>\n",
       "    </tr>\n",
       "  </thead>\n",
       "  <tbody>\n",
       "    <tr>\n",
       "      <th>0</th>\n",
       "      <td>dataset_info_id</td>\n",
       "      <td>5.000</td>\n",
       "      <td>5.000</td>\n",
       "      <td>5.000000</td>\n",
       "      <td>0.000</td>\n",
       "      <td>5.000000</td>\n",
       "      <td>5.000000e+00</td>\n",
       "      <td>0</td>\n",
       "    </tr>\n",
       "    <tr>\n",
       "      <th>3</th>\n",
       "      <td>id_message</td>\n",
       "      <td>421909.079</td>\n",
       "      <td>84909.500</td>\n",
       "      <td>1014.000000</td>\n",
       "      <td>484365.886</td>\n",
       "      <td>2.000000</td>\n",
       "      <td>1.516436e+06</td>\n",
       "      <td>0</td>\n",
       "    </tr>\n",
       "    <tr>\n",
       "      <th>4</th>\n",
       "      <td>qtd_palavras</td>\n",
       "      <td>42.028</td>\n",
       "      <td>20.000</td>\n",
       "      <td>15.000000</td>\n",
       "      <td>74.051</td>\n",
       "      <td>5.000000</td>\n",
       "      <td>1.261000e+03</td>\n",
       "      <td>0</td>\n",
       "    </tr>\n",
       "    <tr>\n",
       "      <th>2</th>\n",
       "      <td>score_misinformation</td>\n",
       "      <td>0.312</td>\n",
       "      <td>0.198</td>\n",
       "      <td>0.110628</td>\n",
       "      <td>0.294</td>\n",
       "      <td>0.000003</td>\n",
       "      <td>1.000000e+00</td>\n",
       "      <td>172062</td>\n",
       "    </tr>\n",
       "    <tr>\n",
       "      <th>1</th>\n",
       "      <td>score_sentiment</td>\n",
       "      <td>0.022</td>\n",
       "      <td>0.000</td>\n",
       "      <td>0.000000</td>\n",
       "      <td>0.530</td>\n",
       "      <td>-1.000000</td>\n",
       "      <td>9.992000e-01</td>\n",
       "      <td>47</td>\n",
       "    </tr>\n",
       "  </tbody>\n",
       "</table>\n",
       "</div>"
      ],
      "text/plain": [
       "               Atributo       Média    Mediana         Moda  Desvio Padrão  \\\n",
       "0       dataset_info_id       5.000      5.000     5.000000          0.000   \n",
       "3            id_message  421909.079  84909.500  1014.000000     484365.886   \n",
       "4          qtd_palavras      42.028     20.000    15.000000         74.051   \n",
       "2  score_misinformation       0.312      0.198     0.110628          0.294   \n",
       "1       score_sentiment       0.022      0.000     0.000000          0.530   \n",
       "\n",
       "     Mínimo        Máximo  Valores Nulos  \n",
       "0  5.000000  5.000000e+00              0  \n",
       "3  2.000000  1.516436e+06              0  \n",
       "4  5.000000  1.261000e+03              0  \n",
       "2  0.000003  1.000000e+00         172062  \n",
       "1 -1.000000  9.992000e-01             47  "
      ]
     },
     "metadata": {},
     "output_type": "display_data"
    }
   ],
   "source": [
    "# Seleção das colunas numéricas com base nos tipos\n",
    "atributos_numericos = df_sem_mensagens_curtas.select_dtypes(include=['int64', 'float64']).columns\n",
    "\n",
    "# Lista para armazenar os resultados\n",
    "medidas_central = []\n",
    "\n",
    "# Loop pelas colunas numéricas\n",
    "for coluna in atributos_numericos:\n",
    "    serie = df_sem_mensagens_curtas[coluna].dropna()  # Ignora valores nulos\n",
    "    media = serie.mean()\n",
    "    mediana = serie.median()\n",
    "    moda = serie.mode().iloc[0] if not serie.mode().empty else 'N/A'\n",
    "    desvio = serie.std()\n",
    "    minimo = serie.min()\n",
    "    maximo = serie.max()\n",
    "    total_nulos = df_sem_mensagens_curtas[coluna].isna().sum()\n",
    "    \n",
    "    medidas_central.append({\n",
    "        'Atributo': coluna,\n",
    "        'Média': round(media, 3),\n",
    "        'Mediana': round(mediana, 3),\n",
    "        'Moda': moda,\n",
    "        'Desvio Padrão': round(desvio, 3),\n",
    "        'Mínimo': minimo,\n",
    "        'Máximo': maximo,\n",
    "        'Valores Nulos': total_nulos\n",
    "    })\n",
    "\n",
    "# Criação do DataFrame com os resultados\n",
    "df_medidas_central = pd.DataFrame(medidas_central)\n",
    "\n",
    "# Exibição formatada\n",
    "display(df_medidas_central.sort_values(by='Atributo'))\n"
   ]
  },
  {
   "cell_type": "markdown",
   "id": "ee489e50",
   "metadata": {},
   "source": [
    "#### 2. **Medidas de Variabilidade**\n"
   ]
  },
  {
   "cell_type": "markdown",
   "id": "c312d89e",
   "metadata": {},
   "source": [
    "Calcular as medidas de variabilidade permitem compreender o grau de dispersão das variáveis numéricas presentes no dataset. Esse tipo de análise é fundamental para avaliar a homogeneidade ou heterogeneidade dos dados, além de fornecer suporte para interpretações mais robustas nas etapas seguintes.\n",
    "\n",
    "As principais medidas utilizadas foram:\n",
    "\n",
    "- **Desvio padrão:** avalia o quanto, em média, os valores se distanciam da média. (também calculada no item anterior)\n",
    "- **Variância:** representa o quadrado do desvio padrão, destacando a variabilidade dos dados.\n",
    "- **Amplitude:** diferença entre o valor máximo e o mínimo, mostrando a extensão total dos dados.\n",
    "- **Intervalo interquartílico (IQR):** mede a dispersão dos dados ao redor da mediana, sendo robusto contra outliers.\n",
    "\n",
    "\n",
    "Pontos levados em consideração\n",
    "- as variáveis **`score_sentiment`** e **`score_misinformation`** apresentam níveis distintos de variabilidade. \n",
    "- A análise do desvio padrão e da variância indica o quanto os escores se dispersam ao redor de suas médias, sendo que valores mais altos apontam para maior heterogeneidade.\n",
    "- A amplitude fornece uma visão geral do intervalo total observado nos dados, enquanto o intervalo interquartílico (IQR) permite avaliar a dispersão ao redor da mediana, sendo uma métrica menos sensível a valores extremos."
   ]
  },
  {
   "cell_type": "code",
   "execution_count": 14,
   "id": "f644034f",
   "metadata": {},
   "outputs": [
    {
     "data": {
      "application/vnd.microsoft.datawrangler.viewer.v0+json": {
       "columns": [
        {
         "name": "index",
         "rawType": "int64",
         "type": "integer"
        },
        {
         "name": "Atributo",
         "rawType": "object",
         "type": "string"
        },
        {
         "name": "Desvio Padrão",
         "rawType": "float64",
         "type": "float"
        },
        {
         "name": "Variância",
         "rawType": "float64",
         "type": "float"
        },
        {
         "name": "Amplitude",
         "rawType": "float64",
         "type": "float"
        },
        {
         "name": "Intervalo Interquartílico (IQR)",
         "rawType": "float64",
         "type": "float"
        },
        {
         "name": "Valores Nulos",
         "rawType": "int64",
         "type": "integer"
        }
       ],
       "ref": "5f0e9acd-0aa5-455a-94ad-1e7c4323815e",
       "rows": [
        [
         "0",
         "dataset_info_id",
         "0.0",
         "0.0",
         "0.0",
         "0.0",
         "0"
        ],
        [
         "3",
         "id_message",
         "484365.886",
         "234610311881.032",
         "1516434.0",
         "953174.25",
         "0"
        ],
        [
         "4",
         "qtd_palavras",
         "74.051",
         "5483.48",
         "1256.0",
         "26.0",
         "0"
        ],
        [
         "2",
         "score_misinformation",
         "0.294",
         "0.086",
         "1.0",
         "0.412",
         "172062"
        ],
        [
         "1",
         "score_sentiment",
         "0.53",
         "0.281",
         "1.999",
         "0.887",
         "47"
        ]
       ],
       "shape": {
        "columns": 6,
        "rows": 5
       }
      },
      "text/html": [
       "<div>\n",
       "<style scoped>\n",
       "    .dataframe tbody tr th:only-of-type {\n",
       "        vertical-align: middle;\n",
       "    }\n",
       "\n",
       "    .dataframe tbody tr th {\n",
       "        vertical-align: top;\n",
       "    }\n",
       "\n",
       "    .dataframe thead th {\n",
       "        text-align: right;\n",
       "    }\n",
       "</style>\n",
       "<table border=\"1\" class=\"dataframe\">\n",
       "  <thead>\n",
       "    <tr style=\"text-align: right;\">\n",
       "      <th></th>\n",
       "      <th>Atributo</th>\n",
       "      <th>Desvio Padrão</th>\n",
       "      <th>Variância</th>\n",
       "      <th>Amplitude</th>\n",
       "      <th>Intervalo Interquartílico (IQR)</th>\n",
       "      <th>Valores Nulos</th>\n",
       "    </tr>\n",
       "  </thead>\n",
       "  <tbody>\n",
       "    <tr>\n",
       "      <th>0</th>\n",
       "      <td>dataset_info_id</td>\n",
       "      <td>0.000</td>\n",
       "      <td>0.000000e+00</td>\n",
       "      <td>0.000</td>\n",
       "      <td>0.000</td>\n",
       "      <td>0</td>\n",
       "    </tr>\n",
       "    <tr>\n",
       "      <th>3</th>\n",
       "      <td>id_message</td>\n",
       "      <td>484365.886</td>\n",
       "      <td>2.346103e+11</td>\n",
       "      <td>1516434.000</td>\n",
       "      <td>953174.250</td>\n",
       "      <td>0</td>\n",
       "    </tr>\n",
       "    <tr>\n",
       "      <th>4</th>\n",
       "      <td>qtd_palavras</td>\n",
       "      <td>74.051</td>\n",
       "      <td>5.483480e+03</td>\n",
       "      <td>1256.000</td>\n",
       "      <td>26.000</td>\n",
       "      <td>0</td>\n",
       "    </tr>\n",
       "    <tr>\n",
       "      <th>2</th>\n",
       "      <td>score_misinformation</td>\n",
       "      <td>0.294</td>\n",
       "      <td>8.600000e-02</td>\n",
       "      <td>1.000</td>\n",
       "      <td>0.412</td>\n",
       "      <td>172062</td>\n",
       "    </tr>\n",
       "    <tr>\n",
       "      <th>1</th>\n",
       "      <td>score_sentiment</td>\n",
       "      <td>0.530</td>\n",
       "      <td>2.810000e-01</td>\n",
       "      <td>1.999</td>\n",
       "      <td>0.887</td>\n",
       "      <td>47</td>\n",
       "    </tr>\n",
       "  </tbody>\n",
       "</table>\n",
       "</div>"
      ],
      "text/plain": [
       "               Atributo  Desvio Padrão     Variância    Amplitude  \\\n",
       "0       dataset_info_id          0.000  0.000000e+00        0.000   \n",
       "3            id_message     484365.886  2.346103e+11  1516434.000   \n",
       "4          qtd_palavras         74.051  5.483480e+03     1256.000   \n",
       "2  score_misinformation          0.294  8.600000e-02        1.000   \n",
       "1       score_sentiment          0.530  2.810000e-01        1.999   \n",
       "\n",
       "   Intervalo Interquartílico (IQR)  Valores Nulos  \n",
       "0                            0.000              0  \n",
       "3                       953174.250              0  \n",
       "4                           26.000              0  \n",
       "2                            0.412         172062  \n",
       "1                            0.887             47  "
      ]
     },
     "metadata": {},
     "output_type": "display_data"
    }
   ],
   "source": [
    "# Seleção das colunas numéricas com base nos tipos\n",
    "atributos_numericos = df_sem_mensagens_curtas.select_dtypes(include=['int64', 'float64']).columns\n",
    "\n",
    "# Lista para armazenar os resultados\n",
    "medidas_variabilidade = []\n",
    "\n",
    "# Loop pelas colunas numéricas\n",
    "for coluna in atributos_numericos:\n",
    "    serie = df_sem_mensagens_curtas[coluna].dropna()  # Ignora valores nulos\n",
    "    desvio = serie.std()\n",
    "    variancia = serie.var()\n",
    "    amplitude = serie.max() - serie.min()\n",
    "    iqr = serie.quantile(0.75) - serie.quantile(0.25)\n",
    "    total_nulos = df_sem_mensagens_curtas[coluna].isna().sum()\n",
    "    \n",
    "    medidas_variabilidade.append({\n",
    "        'Atributo': coluna,\n",
    "        'Desvio Padrão': round(desvio, 3),\n",
    "        'Variância': round(variancia, 3),\n",
    "        'Amplitude': round(amplitude, 3),\n",
    "        'Intervalo Interquartílico (IQR)': round(iqr, 3),\n",
    "        'Valores Nulos': total_nulos\n",
    "    })\n",
    "\n",
    "# Criação do DataFrame com os resultados\n",
    "df_medidas_variabilidade = pd.DataFrame(medidas_variabilidade)\n",
    "\n",
    "# Exibição formatada\n",
    "display(df_medidas_variabilidade.sort_values(by='Atributo'))\n"
   ]
  },
  {
   "cell_type": "markdown",
   "id": "d5738b34",
   "metadata": {},
   "source": [
    "#### 3. **Tabela de Frequência e Histograma**"
   ]
  },
  {
   "cell_type": "markdown",
   "id": "e1526266",
   "metadata": {},
   "source": [
    "- A **Tabela de Frequência** permite observar a distribuição discreta dos valores, identificando repetições, padrões ou lacunas nos dados.\n",
    "- O **Histograma** é uma representação gráfica que facilita a visualização da distribuição, assimetrias e presença de outliers. Além disso, adicionamos a linha de densidade (`kde`) para ilustrar a tendência de distribuição dos dados.\n",
    "\n",
    "Escolha das Bibliotecas:\n",
    "\n",
    "- **Matplotlib:** biblioteca base para geração de gráficos, oferecendo controle total sobre a estética e personalização das visualizações.\n",
    "- **Seaborn:** escolhido para criar histogramas com aparência mais elegante e informativa, integrando facilmente a curva de densidade (`kde=True`), o que facilita a interpretação da distribuição dos dados.\n"
   ]
  },
  {
   "cell_type": "code",
   "execution_count": 16,
   "id": "9102002d",
   "metadata": {},
   "outputs": [],
   "source": [
    "import matplotlib.pyplot as plt\n",
    "import seaborn as sns"
   ]
  },
  {
   "cell_type": "code",
   "execution_count": 23,
   "id": "3826976b",
   "metadata": {},
   "outputs": [
    {
     "name": "stdout",
     "output_type": "stream",
     "text": [
      "\n",
      "Tabela de Frequência para: dataset_info_id\n"
     ]
    },
    {
     "data": {
      "application/vnd.microsoft.datawrangler.viewer.v0+json": {
       "columns": [
        {
         "name": "dataset_info_id",
         "rawType": "int64",
         "type": "integer"
        },
        {
         "name": "count",
         "rawType": "int64",
         "type": "integer"
        }
       ],
       "ref": "92969353-8d4f-44a2-b148-8d9392fc4722",
       "rows": [
        [
         "5",
         "339286"
        ]
       ],
       "shape": {
        "columns": 1,
        "rows": 1
       }
      },
      "text/plain": [
       "dataset_info_id\n",
       "5    339286\n",
       "Name: count, dtype: int64"
      ]
     },
     "metadata": {},
     "output_type": "display_data"
    },
    {
     "data": {
      "image/png": "[encoded data removed]",
      "text/plain": [
       "<Figure size 800x400 with 1 Axes>"
      ]
     },
     "metadata": {},
     "output_type": "display_data"
    },
    {
     "name": "stdout",
     "output_type": "stream",
     "text": [
      "\n",
      "Tabela de Frequência para: score_sentiment\n"
     ]
    },
    {
     "data": {
      "application/vnd.microsoft.datawrangler.viewer.v0+json": {
       "columns": [
        {
         "name": "score_sentiment",
         "rawType": "float64",
         "type": "float"
        },
        {
         "name": "count",
         "rawType": "int64",
         "type": "integer"
        }
       ],
       "ref": "0cb2f107-6c2e-4781-bc54-5631e5d28dd8",
       "rows": [
        [
         "-1.0",
         "7"
        ],
        [
         "-0.9999",
         "57"
        ],
        [
         "-0.9998",
         "18"
        ],
        [
         "-0.9997",
         "2"
        ],
        [
         "-0.9996",
         "7"
        ],
        [
         "-0.9994",
         "2"
        ],
        [
         "-0.9993",
         "7"
        ],
        [
         "-0.9992",
         "13"
        ],
        [
         "-0.9991",
         "6"
        ],
        [
         "-0.999",
         "7"
        ],
        [
         "-0.9989",
         "4"
        ],
        [
         "-0.9988",
         "3"
        ],
        [
         "-0.9987",
         "6"
        ],
        [
         "-0.9986",
         "16"
        ],
        [
         "-0.9985",
         "15"
        ],
        [
         "-0.9984",
         "14"
        ],
        [
         "-0.9983",
         "26"
        ],
        [
         "-0.9982",
         "20"
        ],
        [
         "-0.9981",
         "10"
        ],
        [
         "-0.998",
         "28"
        ],
        [
         "-0.9979",
         "14"
        ],
        [
         "-0.9978",
         "13"
        ],
        [
         "-0.9977",
         "38"
        ],
        [
         "-0.9976",
         "35"
        ],
        [
         "-0.9975",
         "19"
        ],
        [
         "-0.9974",
         "2"
        ],
        [
         "-0.9973",
         "3"
        ],
        [
         "-0.9972",
         "3"
        ],
        [
         "-0.9971",
         "6"
        ],
        [
         "-0.997",
         "9"
        ],
        [
         "-0.9969",
         "4"
        ],
        [
         "-0.9968",
         "9"
        ],
        [
         "-0.9967",
         "25"
        ],
        [
         "-0.9966",
         "11"
        ],
        [
         "-0.9965",
         "3"
        ],
        [
         "-0.9964",
         "16"
        ],
        [
         "-0.9963",
         "10"
        ],
        [
         "-0.9962",
         "12"
        ],
        [
         "-0.9961",
         "12"
        ],
        [
         "-0.996",
         "5"
        ],
        [
         "-0.9959",
         "8"
        ],
        [
         "-0.9958",
         "52"
        ],
        [
         "-0.9957",
         "7"
        ],
        [
         "-0.9956",
         "13"
        ],
        [
         "-0.9955",
         "7"
        ],
        [
         "-0.9954",
         "12"
        ],
        [
         "-0.9953",
         "12"
        ],
        [
         "-0.9952",
         "6"
        ],
        [
         "-0.9951",
         "13"
        ],
        [
         "-0.995",
         "7"
        ]
       ],
       "shape": {
        "columns": 1,
        "rows": 7807
       }
      },
      "text/plain": [
       "score_sentiment\n",
       "-1.0000     7\n",
       "-0.9999    57\n",
       "-0.9998    18\n",
       "-0.9997     2\n",
       "-0.9996     7\n",
       "           ..\n",
       " 0.9987     3\n",
       " 0.9988     1\n",
       " 0.9989    11\n",
       " 0.9990     2\n",
       " 0.9992    11\n",
       "Name: count, Length: 7807, dtype: int64"
      ]
     },
     "metadata": {},
     "output_type": "display_data"
    },
    {
     "data": {
      "image/png": "[encoded data removed]",
      "text/plain": [
       "<Figure size 800x400 with 1 Axes>"
      ]
     },
     "metadata": {},
     "output_type": "display_data"
    },
    {
     "name": "stdout",
     "output_type": "stream",
     "text": [
      "\n",
      "Tabela de Frequência para: score_misinformation\n"
     ]
    },
    {
     "data": {
      "application/vnd.microsoft.datawrangler.viewer.v0+json": {
       "columns": [
        {
         "name": "score_misinformation",
         "rawType": "float64",
         "type": "float"
        },
        {
         "name": "count",
         "rawType": "int64",
         "type": "integer"
        }
       ],
       "ref": "67fd4e22-640b-45ca-a9e0-57c77d94a4f3",
       "rows": [
        [
         "3.2731487153e-06",
         "1"
        ],
        [
         "2.48241339655e-05",
         "1"
        ],
        [
         "4.21717034813e-05",
         "1"
        ],
        [
         "5.58448884411e-05",
         "1"
        ],
        [
         "6.69070218312e-05",
         "1"
        ],
        [
         "7.05218521623e-05",
         "1"
        ],
        [
         "7.37776338533e-05",
         "1"
        ],
        [
         "8.81993620618e-05",
         "1"
        ],
        [
         "0.0001081526069739",
         "1"
        ],
        [
         "0.0001088888011239",
         "1"
        ],
        [
         "0.000109654737767",
         "1"
        ],
        [
         "0.0001162758042696",
         "1"
        ],
        [
         "0.0001260927591956",
         "1"
        ],
        [
         "0.0001266725338092",
         "1"
        ],
        [
         "0.000135920037256",
         "25"
        ],
        [
         "0.0001415190227142",
         "1"
        ],
        [
         "0.0001669766529953",
         "1"
        ],
        [
         "0.0001725817227187",
         "1"
        ],
        [
         "0.000176542951614",
         "1"
        ],
        [
         "0.00017679860015",
         "3"
        ],
        [
         "0.0001815414182812",
         "1"
        ],
        [
         "0.000187105687986",
         "2"
        ],
        [
         "0.0001930650654256",
         "2"
        ],
        [
         "0.0002125280221704",
         "4"
        ],
        [
         "0.0002201503150683",
         "1"
        ],
        [
         "0.0002216443850631",
         "1"
        ],
        [
         "0.0002221213734589",
         "7"
        ],
        [
         "0.0002283460700795",
         "2"
        ],
        [
         "0.0002304068104421",
         "1"
        ],
        [
         "0.0002338416633043",
         "1"
        ],
        [
         "0.0002391782956382",
         "4"
        ],
        [
         "0.0002555043469004",
         "1"
        ],
        [
         "0.0002585516257133",
         "1"
        ],
        [
         "0.0002627989993012",
         "4"
        ],
        [
         "0.0002672929062209",
         "1"
        ],
        [
         "0.0002747464143561",
         "1"
        ],
        [
         "0.0002766375331673",
         "1"
        ],
        [
         "0.000284834329415",
         "2"
        ],
        [
         "0.0002920381227743",
         "2"
        ],
        [
         "0.0003009635958401",
         "2"
        ],
        [
         "0.0003094399646435",
         "2"
        ],
        [
         "0.0003150041361639",
         "3"
        ],
        [
         "0.0003310198498973",
         "1"
        ],
        [
         "0.0003349884965292",
         "1"
        ],
        [
         "0.0003352194307658",
         "1"
        ],
        [
         "0.0003389428912943",
         "1"
        ],
        [
         "0.0003391274354314",
         "3"
        ],
        [
         "0.0003412369404253",
         "2"
        ],
        [
         "0.000357186946673",
         "1"
        ],
        [
         "0.0003632945862277",
         "3"
        ]
       ],
       "shape": {
        "columns": 1,
        "rows": 100588
       }
      },
      "text/plain": [
       "score_misinformation\n",
       "0.000003    1\n",
       "0.000025    1\n",
       "0.000042    1\n",
       "0.000056    1\n",
       "0.000067    1\n",
       "           ..\n",
       "1.000000    3\n",
       "1.000000    1\n",
       "1.000000    6\n",
       "1.000000    1\n",
       "1.000000    2\n",
       "Name: count, Length: 100588, dtype: int64"
      ]
     },
     "metadata": {},
     "output_type": "display_data"
    },
    {
     "data": {
      "image/png": "[encoded data removed]",
      "text/plain": [
       "<Figure size 800x400 with 1 Axes>"
      ]
     },
     "metadata": {},
     "output_type": "display_data"
    },
    {
     "name": "stdout",
     "output_type": "stream",
     "text": [
      "\n",
      "Tabela de Frequência para: id_message\n"
     ]
    },
    {
     "data": {
      "application/vnd.microsoft.datawrangler.viewer.v0+json": {
       "columns": [
        {
         "name": "id_message",
         "rawType": "int64",
         "type": "integer"
        },
        {
         "name": "count",
         "rawType": "int64",
         "type": "integer"
        }
       ],
       "ref": "e4c78542-e5bb-43e0-8399-6da9d4bf83c8",
       "rows": [
        [
         "2",
         "1"
        ],
        [
         "3",
         "1"
        ],
        [
         "4",
         "1"
        ],
        [
         "5",
         "1"
        ],
        [
         "6",
         "1"
        ],
        [
         "8",
         "1"
        ],
        [
         "12",
         "1"
        ],
        [
         "14",
         "1"
        ],
        [
         "15",
         "1"
        ],
        [
         "16",
         "1"
        ],
        [
         "17",
         "1"
        ],
        [
         "18",
         "1"
        ],
        [
         "19",
         "1"
        ],
        [
         "22",
         "1"
        ],
        [
         "23",
         "1"
        ],
        [
         "24",
         "1"
        ],
        [
         "25",
         "1"
        ],
        [
         "26",
         "1"
        ],
        [
         "30",
         "1"
        ],
        [
         "32",
         "1"
        ],
        [
         "33",
         "1"
        ],
        [
         "34",
         "1"
        ],
        [
         "35",
         "1"
        ],
        [
         "36",
         "1"
        ],
        [
         "37",
         "1"
        ],
        [
         "38",
         "1"
        ],
        [
         "44",
         "1"
        ],
        [
         "47",
         "1"
        ],
        [
         "48",
         "1"
        ],
        [
         "52",
         "1"
        ],
        [
         "63",
         "1"
        ],
        [
         "67",
         "1"
        ],
        [
         "68",
         "1"
        ],
        [
         "82",
         "1"
        ],
        [
         "88",
         "1"
        ],
        [
         "89",
         "1"
        ],
        [
         "91",
         "1"
        ],
        [
         "103",
         "1"
        ],
        [
         "104",
         "1"
        ],
        [
         "106",
         "1"
        ],
        [
         "108",
         "1"
        ],
        [
         "109",
         "1"
        ],
        [
         "110",
         "1"
        ],
        [
         "111",
         "1"
        ],
        [
         "113",
         "1"
        ],
        [
         "114",
         "1"
        ],
        [
         "115",
         "1"
        ],
        [
         "116",
         "1"
        ],
        [
         "118",
         "1"
        ],
        [
         "119",
         "1"
        ]
       ],
       "shape": {
        "columns": 1,
        "rows": 232563
       }
      },
      "text/plain": [
       "id_message\n",
       "2          1\n",
       "3          1\n",
       "4          1\n",
       "5          1\n",
       "6          1\n",
       "          ..\n",
       "1516403    1\n",
       "1516410    1\n",
       "1516422    1\n",
       "1516427    1\n",
       "1516436    1\n",
       "Name: count, Length: 232563, dtype: int64"
      ]
     },
     "metadata": {},
     "output_type": "display_data"
    },
    {
     "data": {
      "image/png": "[encoded data removed]",
      "text/plain": [
       "<Figure size 800x400 with 1 Axes>"
      ]
     },
     "metadata": {},
     "output_type": "display_data"
    },
    {
     "name": "stdout",
     "output_type": "stream",
     "text": [
      "\n",
      "Tabela de Frequência para: qtd_palavras\n"
     ]
    },
    {
     "data": {
      "application/vnd.microsoft.datawrangler.viewer.v0+json": {
       "columns": [
        {
         "name": "qtd_palavras",
         "rawType": "int64",
         "type": "integer"
        },
        {
         "name": "count",
         "rawType": "int64",
         "type": "integer"
        }
       ],
       "ref": "e6c6e7cf-b0ab-482c-a7d8-f739efdf56ae",
       "rows": [
        [
         "5",
         "5480"
        ],
        [
         "6",
         "5286"
        ],
        [
         "7",
         "4140"
        ],
        [
         "8",
         "3251"
        ],
        [
         "9",
         "3810"
        ],
        [
         "10",
         "4465"
        ],
        [
         "11",
         "18502"
        ],
        [
         "12",
         "22542"
        ],
        [
         "13",
         "13980"
        ],
        [
         "14",
         "14436"
        ],
        [
         "15",
         "28896"
        ],
        [
         "16",
         "10209"
        ],
        [
         "17",
         "9651"
        ],
        [
         "18",
         "8851"
        ],
        [
         "19",
         "8620"
        ],
        [
         "20",
         "8175"
        ],
        [
         "21",
         "7464"
        ],
        [
         "22",
         "9094"
        ],
        [
         "23",
         "8247"
        ],
        [
         "24",
         "6215"
        ],
        [
         "25",
         "5989"
        ],
        [
         "26",
         "5579"
        ],
        [
         "27",
         "4798"
        ],
        [
         "28",
         "4021"
        ],
        [
         "29",
         "3838"
        ],
        [
         "30",
         "3583"
        ],
        [
         "31",
         "3761"
        ],
        [
         "32",
         "3351"
        ],
        [
         "33",
         "2961"
        ],
        [
         "34",
         "2785"
        ],
        [
         "35",
         "2729"
        ],
        [
         "36",
         "2419"
        ],
        [
         "37",
         "2427"
        ],
        [
         "38",
         "2224"
        ],
        [
         "39",
         "2332"
        ],
        [
         "40",
         "2257"
        ],
        [
         "41",
         "2176"
        ],
        [
         "42",
         "2097"
        ],
        [
         "43",
         "2205"
        ],
        [
         "44",
         "1967"
        ],
        [
         "45",
         "1730"
        ],
        [
         "46",
         "1779"
        ],
        [
         "47",
         "2725"
        ],
        [
         "48",
         "1763"
        ],
        [
         "49",
         "1638"
        ],
        [
         "50",
         "2111"
        ],
        [
         "51",
         "1377"
        ],
        [
         "52",
         "1221"
        ],
        [
         "53",
         "1063"
        ],
        [
         "54",
         "1106"
        ]
       ],
       "shape": {
        "columns": 1,
        "rows": 748
       }
      },
      "text/plain": [
       "qtd_palavras\n",
       "5       5480\n",
       "6       5286\n",
       "7       4140\n",
       "8       3251\n",
       "9       3810\n",
       "        ... \n",
       "926       24\n",
       "943        1\n",
       "993        8\n",
       "994        7\n",
       "1261       3\n",
       "Name: count, Length: 748, dtype: int64"
      ]
     },
     "metadata": {},
     "output_type": "display_data"
    },
    {
     "data": {
      "image/png": "[encoded data removed]",
      "text/plain": [
       "<Figure size 800x400 with 1 Axes>"
      ]
     },
     "metadata": {},
     "output_type": "display_data"
    }
   ],
   "source": [
    "# Seleção das colunas numéricas com base nos tipos\n",
    "atributos_numericos = df_sem_mensagens_curtas.select_dtypes(include=['int64', 'float64']).columns\n",
    "\n",
    "# Loop pelas colunas numéricas\n",
    "for coluna in atributos_numericos:\n",
    "    serie = df_sem_mensagens_curtas[coluna].dropna()\n",
    "    \n",
    "    # Tabela de Frequência\n",
    "    frequencia = serie.value_counts().sort_index()\n",
    "    print(f\"\\nTabela de Frequência para: {coluna}\")\n",
    "    display(frequencia)\n",
    "    \n",
    "    \n",
    "    # Seleciona uma cor da paleta BuGn\n",
    "    bu_gn_color = sns.color_palette(\"BuGn\", as_cmap=False)[2]  # Seleciona um tom intermediário\n",
    "\n",
    "    # Histograma\n",
    "    plt.figure(figsize=(8, 4))\n",
    "    sns.histplot(serie, bins=30, kde=True, color=bu_gn_color)\n",
    "    plt.title(f'Histograma de {coluna}')\n",
    "    plt.xlabel(coluna)\n",
    "    plt.ylabel('Frequência')\n",
    "    plt.grid(True)\n",
    "    plt.show()"
   ]
  },
  {
   "cell_type": "markdown",
   "id": "adfbbdc0",
   "metadata": {},
   "source": [
    "#### 4. **Boxplot**"
   ]
  },
  {
   "cell_type": "markdown",
   "id": "0e59c3f8",
   "metadata": {},
   "source": []
  },
  {
   "cell_type": "code",
   "execution_count": 26,
   "id": "5d5e372f",
   "metadata": {},
   "outputs": [
    {
     "name": "stdout",
     "output_type": "stream",
     "text": [
      "\n",
      "Tabela de Frequência para: dataset_info_id\n"
     ]
    },
    {
     "data": {
      "application/vnd.microsoft.datawrangler.viewer.v0+json": {
       "columns": [
        {
         "name": "dataset_info_id",
         "rawType": "int64",
         "type": "integer"
        },
        {
         "name": "count",
         "rawType": "int64",
         "type": "integer"
        }
       ],
       "ref": "dbdecfe8-2eb1-4002-9c57-c4999fcf7723",
       "rows": [
        [
         "5",
         "339286"
        ]
       ],
       "shape": {
        "columns": 1,
        "rows": 1
       }
      },
      "text/plain": [
       "dataset_info_id\n",
       "5    339286\n",
       "Name: count, dtype: int64"
      ]
     },
     "metadata": {},
     "output_type": "display_data"
    },
    {
     "data": {
      "image/png": "[encoded data removed]",
      "text/plain": [
       "<Figure size 800x200 with 1 Axes>"
      ]
     },
     "metadata": {},
     "output_type": "display_data"
    },
    {
     "name": "stdout",
     "output_type": "stream",
     "text": [
      "\n",
      "Tabela de Frequência para: score_sentiment\n"
     ]
    },
    {
     "data": {
      "application/vnd.microsoft.datawrangler.viewer.v0+json": {
       "columns": [
        {
         "name": "score_sentiment",
         "rawType": "float64",
         "type": "float"
        },
        {
         "name": "count",
         "rawType": "int64",
         "type": "integer"
        }
       ],
       "ref": "30cbf7c6-5645-4503-91f4-1f61f6294b42",
       "rows": [
        [
         "-1.0",
         "7"
        ],
        [
         "-0.9999",
         "57"
        ],
        [
         "-0.9998",
         "18"
        ],
        [
         "-0.9997",
         "2"
        ],
        [
         "-0.9996",
         "7"
        ],
        [
         "-0.9994",
         "2"
        ],
        [
         "-0.9993",
         "7"
        ],
        [
         "-0.9992",
         "13"
        ],
        [
         "-0.9991",
         "6"
        ],
        [
         "-0.999",
         "7"
        ],
        [
         "-0.9989",
         "4"
        ],
        [
         "-0.9988",
         "3"
        ],
        [
         "-0.9987",
         "6"
        ],
        [
         "-0.9986",
         "16"
        ],
        [
         "-0.9985",
         "15"
        ],
        [
         "-0.9984",
         "14"
        ],
        [
         "-0.9983",
         "26"
        ],
        [
         "-0.9982",
         "20"
        ],
        [
         "-0.9981",
         "10"
        ],
        [
         "-0.998",
         "28"
        ],
        [
         "-0.9979",
         "14"
        ],
        [
         "-0.9978",
         "13"
        ],
        [
         "-0.9977",
         "38"
        ],
        [
         "-0.9976",
         "35"
        ],
        [
         "-0.9975",
         "19"
        ],
        [
         "-0.9974",
         "2"
        ],
        [
         "-0.9973",
         "3"
        ],
        [
         "-0.9972",
         "3"
        ],
        [
         "-0.9971",
         "6"
        ],
        [
         "-0.997",
         "9"
        ],
        [
         "-0.9969",
         "4"
        ],
        [
         "-0.9968",
         "9"
        ],
        [
         "-0.9967",
         "25"
        ],
        [
         "-0.9966",
         "11"
        ],
        [
         "-0.9965",
         "3"
        ],
        [
         "-0.9964",
         "16"
        ],
        [
         "-0.9963",
         "10"
        ],
        [
         "-0.9962",
         "12"
        ],
        [
         "-0.9961",
         "12"
        ],
        [
         "-0.996",
         "5"
        ],
        [
         "-0.9959",
         "8"
        ],
        [
         "-0.9958",
         "52"
        ],
        [
         "-0.9957",
         "7"
        ],
        [
         "-0.9956",
         "13"
        ],
        [
         "-0.9955",
         "7"
        ],
        [
         "-0.9954",
         "12"
        ],
        [
         "-0.9953",
         "12"
        ],
        [
         "-0.9952",
         "6"
        ],
        [
         "-0.9951",
         "13"
        ],
        [
         "-0.995",
         "7"
        ]
       ],
       "shape": {
        "columns": 1,
        "rows": 7807
       }
      },
      "text/plain": [
       "score_sentiment\n",
       "-1.0000     7\n",
       "-0.9999    57\n",
       "-0.9998    18\n",
       "-0.9997     2\n",
       "-0.9996     7\n",
       "           ..\n",
       " 0.9987     3\n",
       " 0.9988     1\n",
       " 0.9989    11\n",
       " 0.9990     2\n",
       " 0.9992    11\n",
       "Name: count, Length: 7807, dtype: int64"
      ]
     },
     "metadata": {},
     "output_type": "display_data"
    },
    {
     "data": {
      "image/png": "[encoded data removed]",
      "text/plain": [
       "<Figure size 800x200 with 1 Axes>"
      ]
     },
     "metadata": {},
     "output_type": "display_data"
    },
    {
     "name": "stdout",
     "output_type": "stream",
     "text": [
      "\n",
      "Tabela de Frequência para: score_misinformation\n"
     ]
    },
    {
     "data": {
      "application/vnd.microsoft.datawrangler.viewer.v0+json": {
       "columns": [
        {
         "name": "score_misinformation",
         "rawType": "float64",
         "type": "float"
        },
        {
         "name": "count",
         "rawType": "int64",
         "type": "integer"
        }
       ],
       "ref": "d44238fe-e2e0-40c9-9b84-24339ce3b0ef",
       "rows": [
        [
         "3.2731487153e-06",
         "1"
        ],
        [
         "2.48241339655e-05",
         "1"
        ],
        [
         "4.21717034813e-05",
         "1"
        ],
        [
         "5.58448884411e-05",
         "1"
        ],
        [
         "6.69070218312e-05",
         "1"
        ],
        [
         "7.05218521623e-05",
         "1"
        ],
        [
         "7.37776338533e-05",
         "1"
        ],
        [
         "8.81993620618e-05",
         "1"
        ],
        [
         "0.0001081526069739",
         "1"
        ],
        [
         "0.0001088888011239",
         "1"
        ],
        [
         "0.000109654737767",
         "1"
        ],
        [
         "0.0001162758042696",
         "1"
        ],
        [
         "0.0001260927591956",
         "1"
        ],
        [
         "0.0001266725338092",
         "1"
        ],
        [
         "0.000135920037256",
         "25"
        ],
        [
         "0.0001415190227142",
         "1"
        ],
        [
         "0.0001669766529953",
         "1"
        ],
        [
         "0.0001725817227187",
         "1"
        ],
        [
         "0.000176542951614",
         "1"
        ],
        [
         "0.00017679860015",
         "3"
        ],
        [
         "0.0001815414182812",
         "1"
        ],
        [
         "0.000187105687986",
         "2"
        ],
        [
         "0.0001930650654256",
         "2"
        ],
        [
         "0.0002125280221704",
         "4"
        ],
        [
         "0.0002201503150683",
         "1"
        ],
        [
         "0.0002216443850631",
         "1"
        ],
        [
         "0.0002221213734589",
         "7"
        ],
        [
         "0.0002283460700795",
         "2"
        ],
        [
         "0.0002304068104421",
         "1"
        ],
        [
         "0.0002338416633043",
         "1"
        ],
        [
         "0.0002391782956382",
         "4"
        ],
        [
         "0.0002555043469004",
         "1"
        ],
        [
         "0.0002585516257133",
         "1"
        ],
        [
         "0.0002627989993012",
         "4"
        ],
        [
         "0.0002672929062209",
         "1"
        ],
        [
         "0.0002747464143561",
         "1"
        ],
        [
         "0.0002766375331673",
         "1"
        ],
        [
         "0.000284834329415",
         "2"
        ],
        [
         "0.0002920381227743",
         "2"
        ],
        [
         "0.0003009635958401",
         "2"
        ],
        [
         "0.0003094399646435",
         "2"
        ],
        [
         "0.0003150041361639",
         "3"
        ],
        [
         "0.0003310198498973",
         "1"
        ],
        [
         "0.0003349884965292",
         "1"
        ],
        [
         "0.0003352194307658",
         "1"
        ],
        [
         "0.0003389428912943",
         "1"
        ],
        [
         "0.0003391274354314",
         "3"
        ],
        [
         "0.0003412369404253",
         "2"
        ],
        [
         "0.000357186946673",
         "1"
        ],
        [
         "0.0003632945862277",
         "3"
        ]
       ],
       "shape": {
        "columns": 1,
        "rows": 100588
       }
      },
      "text/plain": [
       "score_misinformation\n",
       "0.000003    1\n",
       "0.000025    1\n",
       "0.000042    1\n",
       "0.000056    1\n",
       "0.000067    1\n",
       "           ..\n",
       "1.000000    3\n",
       "1.000000    1\n",
       "1.000000    6\n",
       "1.000000    1\n",
       "1.000000    2\n",
       "Name: count, Length: 100588, dtype: int64"
      ]
     },
     "metadata": {},
     "output_type": "display_data"
    },
    {
     "data": {
      "image/png": "[encoded data removed]",
      "text/plain": [
       "<Figure size 800x200 with 1 Axes>"
      ]
     },
     "metadata": {},
     "output_type": "display_data"
    },
    {
     "name": "stdout",
     "output_type": "stream",
     "text": [
      "\n",
      "Tabela de Frequência para: id_message\n"
     ]
    },
    {
     "data": {
      "application/vnd.microsoft.datawrangler.viewer.v0+json": {
       "columns": [
        {
         "name": "id_message",
         "rawType": "int64",
         "type": "integer"
        },
        {
         "name": "count",
         "rawType": "int64",
         "type": "integer"
        }
       ],
       "ref": "6b55b446-9046-4ff7-ba29-ba83a69c83c1",
       "rows": [
        [
         "2",
         "1"
        ],
        [
         "3",
         "1"
        ],
        [
         "4",
         "1"
        ],
        [
         "5",
         "1"
        ],
        [
         "6",
         "1"
        ],
        [
         "8",
         "1"
        ],
        [
         "12",
         "1"
        ],
        [
         "14",
         "1"
        ],
        [
         "15",
         "1"
        ],
        [
         "16",
         "1"
        ],
        [
         "17",
         "1"
        ],
        [
         "18",
         "1"
        ],
        [
         "19",
         "1"
        ],
        [
         "22",
         "1"
        ],
        [
         "23",
         "1"
        ],
        [
         "24",
         "1"
        ],
        [
         "25",
         "1"
        ],
        [
         "26",
         "1"
        ],
        [
         "30",
         "1"
        ],
        [
         "32",
         "1"
        ],
        [
         "33",
         "1"
        ],
        [
         "34",
         "1"
        ],
        [
         "35",
         "1"
        ],
        [
         "36",
         "1"
        ],
        [
         "37",
         "1"
        ],
        [
         "38",
         "1"
        ],
        [
         "44",
         "1"
        ],
        [
         "47",
         "1"
        ],
        [
         "48",
         "1"
        ],
        [
         "52",
         "1"
        ],
        [
         "63",
         "1"
        ],
        [
         "67",
         "1"
        ],
        [
         "68",
         "1"
        ],
        [
         "82",
         "1"
        ],
        [
         "88",
         "1"
        ],
        [
         "89",
         "1"
        ],
        [
         "91",
         "1"
        ],
        [
         "103",
         "1"
        ],
        [
         "104",
         "1"
        ],
        [
         "106",
         "1"
        ],
        [
         "108",
         "1"
        ],
        [
         "109",
         "1"
        ],
        [
         "110",
         "1"
        ],
        [
         "111",
         "1"
        ],
        [
         "113",
         "1"
        ],
        [
         "114",
         "1"
        ],
        [
         "115",
         "1"
        ],
        [
         "116",
         "1"
        ],
        [
         "118",
         "1"
        ],
        [
         "119",
         "1"
        ]
       ],
       "shape": {
        "columns": 1,
        "rows": 232563
       }
      },
      "text/plain": [
       "id_message\n",
       "2          1\n",
       "3          1\n",
       "4          1\n",
       "5          1\n",
       "6          1\n",
       "          ..\n",
       "1516403    1\n",
       "1516410    1\n",
       "1516422    1\n",
       "1516427    1\n",
       "1516436    1\n",
       "Name: count, Length: 232563, dtype: int64"
      ]
     },
     "metadata": {},
     "output_type": "display_data"
    },
    {
     "data": {
      "image/png": "[encoded data removed]",
      "text/plain": [
       "<Figure size 800x200 with 1 Axes>"
      ]
     },
     "metadata": {},
     "output_type": "display_data"
    },
    {
     "name": "stdout",
     "output_type": "stream",
     "text": [
      "\n",
      "Tabela de Frequência para: qtd_palavras\n"
     ]
    },
    {
     "data": {
      "application/vnd.microsoft.datawrangler.viewer.v0+json": {
       "columns": [
        {
         "name": "qtd_palavras",
         "rawType": "int64",
         "type": "integer"
        },
        {
         "name": "count",
         "rawType": "int64",
         "type": "integer"
        }
       ],
       "ref": "9ee1aaa4-3cd1-4285-8aab-48c2c6050cd3",
       "rows": [
        [
         "5",
         "5480"
        ],
        [
         "6",
         "5286"
        ],
        [
         "7",
         "4140"
        ],
        [
         "8",
         "3251"
        ],
        [
         "9",
         "3810"
        ],
        [
         "10",
         "4465"
        ],
        [
         "11",
         "18502"
        ],
        [
         "12",
         "22542"
        ],
        [
         "13",
         "13980"
        ],
        [
         "14",
         "14436"
        ],
        [
         "15",
         "28896"
        ],
        [
         "16",
         "10209"
        ],
        [
         "17",
         "9651"
        ],
        [
         "18",
         "8851"
        ],
        [
         "19",
         "8620"
        ],
        [
         "20",
         "8175"
        ],
        [
         "21",
         "7464"
        ],
        [
         "22",
         "9094"
        ],
        [
         "23",
         "8247"
        ],
        [
         "24",
         "6215"
        ],
        [
         "25",
         "5989"
        ],
        [
         "26",
         "5579"
        ],
        [
         "27",
         "4798"
        ],
        [
         "28",
         "4021"
        ],
        [
         "29",
         "3838"
        ],
        [
         "30",
         "3583"
        ],
        [
         "31",
         "3761"
        ],
        [
         "32",
         "3351"
        ],
        [
         "33",
         "2961"
        ],
        [
         "34",
         "2785"
        ],
        [
         "35",
         "2729"
        ],
        [
         "36",
         "2419"
        ],
        [
         "37",
         "2427"
        ],
        [
         "38",
         "2224"
        ],
        [
         "39",
         "2332"
        ],
        [
         "40",
         "2257"
        ],
        [
         "41",
         "2176"
        ],
        [
         "42",
         "2097"
        ],
        [
         "43",
         "2205"
        ],
        [
         "44",
         "1967"
        ],
        [
         "45",
         "1730"
        ],
        [
         "46",
         "1779"
        ],
        [
         "47",
         "2725"
        ],
        [
         "48",
         "1763"
        ],
        [
         "49",
         "1638"
        ],
        [
         "50",
         "2111"
        ],
        [
         "51",
         "1377"
        ],
        [
         "52",
         "1221"
        ],
        [
         "53",
         "1063"
        ],
        [
         "54",
         "1106"
        ]
       ],
       "shape": {
        "columns": 1,
        "rows": 748
       }
      },
      "text/plain": [
       "qtd_palavras\n",
       "5       5480\n",
       "6       5286\n",
       "7       4140\n",
       "8       3251\n",
       "9       3810\n",
       "        ... \n",
       "926       24\n",
       "943        1\n",
       "993        8\n",
       "994        7\n",
       "1261       3\n",
       "Name: count, Length: 748, dtype: int64"
      ]
     },
     "metadata": {},
     "output_type": "display_data"
    },
    {
     "data": {
      "image/png": "[encoded data removed]",
      "text/plain": [
       "<Figure size 800x200 with 1 Axes>"
      ]
     },
     "metadata": {},
     "output_type": "display_data"
    }
   ],
   "source": [
    "# Seleção das colunas numéricas com base nos tipos\n",
    "atributos_numericos = df_sem_mensagens_curtas.select_dtypes(include=['int64', 'float64']).columns\n",
    "\n",
    "# Loop pelas colunas numéricas\n",
    "for coluna in atributos_numericos:\n",
    "    serie = df_sem_mensagens_curtas[coluna].dropna()\n",
    "    \n",
    "    # Tabela de Frequência\n",
    "    frequencia = serie.value_counts().sort_index()\n",
    "    print(f\"\\nTabela de Frequência para: {coluna}\")\n",
    "    display(frequencia)\n",
    "\n",
    "    bu_gn_color = sns.color_palette(\"BuGn\", as_cmap=False)[2]  # Seleciona um tom intermediário\n",
    "\n",
    "    # Boxplot\n",
    "    plt.figure(figsize=(8, 2))\n",
    "    sns.boxplot(x=serie, color=bu_gn_color)\n",
    "    plt.title(f'Boxplot de {coluna}')\n",
    "    plt.xlabel(coluna)\n",
    "    plt.grid(True, axis='x')\n",
    "    plt.show()"
   ]
  },
  {
   "cell_type": "markdown",
   "id": "0800550e",
   "metadata": {},
   "source": [
    "#### 5. **QQ-Plot**"
   ]
  },
  {
   "cell_type": "markdown",
   "id": "6168136b",
   "metadata": {},
   "source": [
    "# Fontes\n",
    "\n",
    "- [Matplotlib 3.10.3 documentation](https://matplotlib.org/stable/index.html)\n",
    "- [Seaborn Documentation](seaborn.histplot)\n",
    "- [Statistical Data Visualization with Seaborn](https://seaborn.pydata.org/tutorial.html)"
   ]
  }
 ],
 "metadata": {
  "kernelspec": {
   "display_name": "Python 3",
   "language": "python",
   "name": "python3"
  },
  "language_info": {
   "codemirror_mode": {
    "name": "ipython",
    "version": 3
   },
   "file_extension": ".py",
   "mimetype": "text/x-python",
   "name": "python",
   "nbconvert_exporter": "python",
   "pygments_lexer": "ipython3",
   "version": "3.12.0"
  }
 },
 "nbformat": 4,
 "nbformat_minor": 5
}
