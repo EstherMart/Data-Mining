{
 "cells": [
  {
   "cell_type": "markdown",
   "id": "2d05e41e",
   "metadata": {},
   "source": [
    "# CK0223 - Mineração de Dados"
   ]
  },
  {
   "cell_type": "markdown",
   "id": "e0dd9a9e",
   "metadata": {},
   "source": [
    "## Lista 01 - Tratamento de Dados"
   ]
  },
  {
   "cell_type": "markdown",
   "id": "a4bb4e2e",
   "metadata": {},
   "source": [
    "### Dados do discente:\n",
    "**Nome**: Luiza Esther Martins Pessoa\n",
    "**Matrícula**: 555516\n",
    "\n",
    "---\n",
    "\n",
    "### Informações inicias:\n",
    "Esta tarefa busca exercitar os conceitos refrentes à manipulação, tratamento e limpeza de dados. Com isso, além de criar scripts que resolvam às solicitações de cada item da atividade, este notebook armazenará comentários adicionais referentes ao processo de desenvolvimento de ideias e fontes que foram consultadas."
   ]
  },
  {
   "cell_type": "markdown",
   "id": "7b63397d",
   "metadata": {},
   "source": [
    "### **(a)** Ler o dataset *fakeTelegram.BR_2022.csv*"
   ]
  },
  {
   "cell_type": "markdown",
   "id": "43b1f40a",
   "metadata": {},
   "source": [
    "Como estamos trabalhando com uma grande quantidade de dados, utilizar uma lista não é tão visualmente intuitivo e um dataframe consegue ser mais fácil de manipular dados, pois é como se estivessemos visualizando uma planilha.\n",
    "\n",
    "Além disso, vamos utilizar a biblioteca *pandas* para ler o arquivo `.csv` utilizando a chamada `read_csv`. Porém, antes de fazer isso, é importante analisar a origem da nossa base de dados, ou seja, onde essa base está armazenada. No caso da *fakeTelegram.BR_2022.csv* podemos fazer de duas formas, visto que sua origem vem do Google Drive:\n",
    "\n",
    "1. Usando apenas a biblioteca *pandas* -- Se o arquivo for público ou compartilhado com o link, você pode gerar uma URL direta de download. \n",
    "2. Usando a biblioteca *request* para transformar o link de compartilhamento em um link de download e depois utilizar *pandas* para ler o dataframe gerado. -- Basicamente, usamos o requests para baixar o conteúdo do arquivo primeiro como um binário (.content), e depois passa o conteúdo como um buffer para o pandas ler.\n",
    "\n",
    "Contudo, antes de fazer isso, como o arquivo é muito grande, foi necessário extrair o arquivo para a máquina local e para fazer isso, utiizei a biblioteca `gdown` que simula o comportamento de um navegador e lida automaticamente com o redirecionamento e o botão de \"Download mesmo assim\" que aparece para arquivos grandes no Google Drive."
   ]
  },
  {
   "cell_type": "markdown",
   "id": "a8948ccd",
   "metadata": {},
   "source": [
    "#### **Passo 01**\n",
    "Importando bibliotecas necessárias para leitura do dataset."
   ]
  },
  {
   "cell_type": "code",
   "execution_count": null,
   "id": "fc6a2251",
   "metadata": {},
   "outputs": [],
   "source": [
    "# IMPORTAÇÃO DE BIBLIOTECAS\n",
    "import gdown\n",
    "import pandas as pd\n",
    "import requests\n",
    "from io import StringIO"
   ]
  },
  {
   "cell_type": "markdown",
   "id": "03f32199",
   "metadata": {},
   "source": [
    "#### **Passo 02**\n",
    "Fazendo o download da base de dados para local."
   ]
  },
  {
   "cell_type": "code",
   "execution_count": null,
   "id": "7a57552b",
   "metadata": {},
   "outputs": [],
   "source": [
    "origem_url = 'https://drive.google.com/file/d/1c_hLzk85pYw-huHSnFYZM_gn-dUsYRDm/view'\n",
    "\n",
    "# O ID do arquivo (necessário para fazer o download direto) está entre os últimos elementos da URL.\n",
    "# Fazemos um split na URL usando '/' como separador e pegamos o penúltimo elemento da lista.\n",
    "# Isso funciona porque a estrutura da URL é:\n",
    "# https://drive.google.com/file/d/ID_DO_ARQUIVO/view\n",
    "# E ao aplicar url.split('/'), o resultado será:\n",
    "# ['https:', '', 'drive.google.com', 'file', 'd', 'ID_DO_ARQUIVO', 'view?...']\n",
    "# Portanto, o ID está na posição -2 (penúltima).\n",
    "\n",
    "file_id = origem_url.split('/')[-2]\n",
    "\n",
    "# URL do arquivo no formato aceito pelo gdown\n",
    "url = f'https://drive.google.com/uc?id={file_id}'\n",
    "\n",
    "# Nome local do arquivo que será baixado\n",
    "output = 'fakeTelegram.BR_2022.csv'\n",
    "\n",
    "# Baixando o arquivo com gdown\n",
    "gdown.download(url, output, quiet=False)"
   ]
  },
  {
   "cell_type": "markdown",
   "id": "9ae655b2",
   "metadata": {},
   "source": [
    "#### **Passo 02**\n",
    "Lendo utilizando apenas pandas."
   ]
  },
  {
   "cell_type": "code",
   "execution_count": 17,
   "id": "d1f45cc0",
   "metadata": {},
   "outputs": [],
   "source": [
    "df_inicial = pd.read_csv(output)"
   ]
  },
  {
   "cell_type": "markdown",
   "id": "ec1bea1e",
   "metadata": {},
   "source": [
    "#### **Passo 03**\n",
    "Conferindo informações iniciais após leitura da base de dados."
   ]
  },
  {
   "cell_type": "code",
   "execution_count": 19,
   "id": "a6a0580a",
   "metadata": {},
   "outputs": [
    {
     "name": "stdout",
     "output_type": "stream",
     "text": [
      "Número de linhas: 557586\n",
      "Número de colunas: 19\n"
     ]
    }
   ],
   "source": [
    "# PARA MELHOR VISUALIZAÇÃO\n",
    "print(\"Número de linhas:\", df_inicial.shape[0])\n",
    "print(\"Número de colunas:\", df_inicial.shape[1])"
   ]
  },
  {
   "cell_type": "code",
   "execution_count": null,
   "id": "16d5b256",
   "metadata": {},
   "outputs": [],
   "source": [
    "print(\"Primeiras 5 linhas do dataset:\")\n",
    "print(df_inicial.head())\n",
    "\n",
    "print(\"Últimas 5 linhas do dataset:\")\n",
    "print(df_inicial.tail())"
   ]
  },
  {
   "cell_type": "markdown",
   "id": "58f22785",
   "metadata": {},
   "source": [
    "---"
   ]
  },
  {
   "cell_type": "markdown",
   "id": "3d3a94ae",
   "metadata": {},
   "source": [
    "### **(b)** Identificar e listar as posições (células) contendo valores faltantes"
   ]
  },
  {
   "cell_type": "markdown",
   "id": "b9d42b2a",
   "metadata": {},
   "source": [
    "## Fontes\n",
    "- [StackOverflow - How to read CSV file from google drive public](https://stackoverflow.com/questions/56611698/pandas-how-to-read-csv-file-from-google-drive-public)"
   ]
  }
 ],
 "metadata": {
  "kernelspec": {
   "display_name": "Python 3",
   "language": "python",
   "name": "python3"
  },
  "language_info": {
   "codemirror_mode": {
    "name": "ipython",
    "version": 3
   },
   "file_extension": ".py",
   "mimetype": "text/x-python",
   "name": "python",
   "nbconvert_exporter": "python",
   "pygments_lexer": "ipython3",
   "version": "3.12.0"
  }
 },
 "nbformat": 4,
 "nbformat_minor": 5
}
