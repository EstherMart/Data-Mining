{
 "cells": [
  {
   "cell_type": "markdown",
   "id": "c80a527f",
   "metadata": {},
   "source": [
    "# CK0223 - Mineração de Dados"
   ]
  },
  {
   "cell_type": "markdown",
   "id": "601b7752",
   "metadata": {},
   "source": [
    "## Lista 02 - Extração de Dados"
   ]
  },
  {
   "cell_type": "markdown",
   "id": "4dbda6a0",
   "metadata": {},
   "source": [
    "### Dados do discente:\n",
    "**Nome**: Luiza Esther Martins Pessoa\n",
    "**Matrícula**: 555516\n",
    "\n",
    "### Vídeo Youtube:\n",
    "\n",
    "---"
   ]
  },
  {
   "cell_type": "markdown",
   "id": "3ecb7af0",
   "metadata": {},
   "source": [
    "### **(a)** Ler o dataset *fakeTelegram.BR_2022.csv*"
   ]
  },
  {
   "cell_type": "markdown",
   "id": "99aad7de",
   "metadata": {},
   "source": [
    "Como realizado na [Lista 01 - Tratamento de Dados](https://github.com/EstherMart/Data-Mining/blob/main/Lista01_TratamentoDeDados/tratamento.ipynb), ler o dataset é o primeiro passo para iniciarmos a extraçãa, manipulação e tratamento dos dados. \n",
    "\n",
    "Para fazer isso, começamos importando as bibliotecas necessárias para leitura (`pandas`) e para download local da base de dados (`gdown`). Além disso, vale ressaltar que existem outras formas de realizar o upload para o repositório local, mas decidi seguir a lógica de puxar e realizar o download de base utilizando apenas o link disponibilizado pelo professor.\n",
    "\n",
    "**Importante**: Alguns trechos de código serão reutilizados, visto que são as mesmas exigências em ambas as listas e tal solicitação já foi resolvida anteriormente."
   ]
  },
  {
   "cell_type": "code",
   "execution_count": 2,
   "id": "1cfb507d",
   "metadata": {},
   "outputs": [],
   "source": [
    "# IMPORTAÇÃO DE BIBLIOTECAS\n",
    "import gdown\n",
    "import pandas as pd\n",
    "import requests\n",
    "from io import StringIO"
   ]
  },
  {
   "cell_type": "markdown",
   "id": "9895a25c",
   "metadata": {},
   "source": [
    "Fazendo o download do dataset para o repositório local"
   ]
  },
  {
   "cell_type": "code",
   "execution_count": 2,
   "id": "30a92f3d",
   "metadata": {},
   "outputs": [
    {
     "name": "stderr",
     "output_type": "stream",
     "text": [
      "Downloading...\n",
      "From (original): https://drive.google.com/uc?id=1c_hLzk85pYw-huHSnFYZM_gn-dUsYRDm\n",
      "From (redirected): https://drive.google.com/uc?id=1c_hLzk85pYw-huHSnFYZM_gn-dUsYRDm&confirm=t&uuid=e1e74e96-6cfc-4915-abe2-f990edb6cf7b\n",
      "To: c:\\Users\\esthe\\Downloads\\Data-Mining\\Lista02_ExtracaoDeDados\\fakeTelegram.BR_2022.csv\n",
      "100%|██████████| 224M/224M [01:14<00:00, 3.02MB/s] \n"
     ]
    },
    {
     "data": {
      "text/plain": [
       "'fakeTelegram.BR_2022.csv'"
      ]
     },
     "execution_count": 2,
     "metadata": {},
     "output_type": "execute_result"
    }
   ],
   "source": [
    "origem_url = 'https://drive.google.com/file/d/1c_hLzk85pYw-huHSnFYZM_gn-dUsYRDm/view'\n",
    "\n",
    "# O ID do arquivo (necessário para fazer o download direto) está entre os últimos elementos da URL.\n",
    "# Fazemos um split na URL usando '/' como separador e pegamos o penúltimo elemento da lista.\n",
    "# Isso funciona porque a estrutura da URL é:\n",
    "# https://drive.google.com/file/d/ID_DO_ARQUIVO/view\n",
    "# E ao aplicar url.split('/'), o resultado será:\n",
    "# ['https:', '', 'drive.google.com', 'file', 'd', 'ID_DO_ARQUIVO', 'view?...']\n",
    "# Portanto, o ID está na posição -2 (penúltima).\n",
    "\n",
    "file_id = origem_url.split('/')[-2]\n",
    "\n",
    "# URL do arquivo no formato aceito pelo gdown\n",
    "url = f'https://drive.google.com/uc?id={file_id}'\n",
    "\n",
    "# Nome local do arquivo que será baixado\n",
    "output = 'fakeTelegram.BR_2022.csv'\n",
    "\n",
    "# Baixando o arquivo com gdown\n",
    "gdown.download(url, output, quiet=False)"
   ]
  },
  {
   "cell_type": "markdown",
   "id": "c1107e67",
   "metadata": {},
   "source": [
    "Leitura do dataset utilizando o método `.read_csv()`, pois permite carregar dados estruturados a partir de arquivos *CSV* para um DataFrame do pandas, sendo uma estrutura tabular extremamente versátil para análise de dados e visualmente intuitiva."
   ]
  },
  {
   "cell_type": "code",
   "execution_count": 3,
   "id": "b86ca85a",
   "metadata": {},
   "outputs": [],
   "source": [
    "df_inicial = pd.read_csv(\"fakeTelegram.BR_2022.csv\")"
   ]
  },
  {
   "cell_type": "markdown",
   "id": "a4c3755a",
   "metadata": {},
   "source": [
    "Os códigos abaixo foram implementados apenas para fins de **visualização e verificação inicial dos dados carregados**, com o objetivo de:\n",
    "- Obter uma compreensão rápida da dimensão do dataset\n",
    "- Identificar os nomes das colunas disponíveis\n",
    "- Realizar uma primeira checagem da integridade básica da estrutura de dados"
   ]
  },
  {
   "cell_type": "code",
   "execution_count": 4,
   "id": "269d00f5",
   "metadata": {},
   "outputs": [
    {
     "name": "stdout",
     "output_type": "stream",
     "text": [
      "Número de linhas: 557586\n",
      "Número de colunas: 19\n",
      "\n",
      "Colunas disponíveis:\n",
      "1. date_message\n",
      "2. id_member_anonymous\n",
      "3. id_group_anonymous\n",
      "4. media\n",
      "5. media_type\n",
      "6. media_url\n",
      "7. has_media\n",
      "8. has_media_url\n",
      "9. trava_zap\n",
      "10. text_content_anonymous\n",
      "11. dataset_info_id\n",
      "12. date_system\n",
      "13. score_sentiment\n",
      "14. score_misinformation\n",
      "15. id_message\n",
      "16. message_type\n",
      "17. messenger\n",
      "18. media_name\n",
      "19. media_md5\n"
     ]
    }
   ],
   "source": [
    "# PARA MELHOR VISUALIZAÇÃO\n",
    "print(\"Número de linhas:\", df_inicial.shape[0])\n",
    "print(\"Número de colunas:\", df_inicial.shape[1])\n",
    "print(\"\\nColunas disponíveis:\")\n",
    "for i, col in enumerate(df_inicial.columns, 1):\n",
    "    print(f\"{i}. {col}\")"
   ]
  },
  {
   "cell_type": "markdown",
   "id": "cbcab548",
   "metadata": {},
   "source": [
    "O método `display()` do IPython renderiza objetos como DataFrames de forma mais rica que print(), mantendo a formatação tabular. Combinado com `.style`, permite personalizar a aparência: `.set_caption()` adiciona títulos descritivos, enquanto `.set_properties()` aplica estilos CSS como cores de fundo suaves (#f8f9fa), bordas sutis, truncamento de texto longo (text-overflow: ellipsis) e limitação de largura (max-width), melhorando a legibilidade e organização dos dados exibidos.\n",
    "\n",
    "Essa abordagem foi utilizada, pois é importante ter em mente as primeiras e últimas amostras do dataset."
   ]
  },
  {
   "cell_type": "code",
   "execution_count": 5,
   "id": "4be807a2",
   "metadata": {},
   "outputs": [
    {
     "data": {
      "text/html": [
       "<style type=\"text/css\">\n",
       "#T_e788f_row0_col0, #T_e788f_row0_col1, #T_e788f_row0_col2, #T_e788f_row0_col3, #T_e788f_row0_col4, #T_e788f_row0_col5, #T_e788f_row0_col6, #T_e788f_row0_col7, #T_e788f_row0_col8, #T_e788f_row0_col9, #T_e788f_row0_col10, #T_e788f_row0_col11, #T_e788f_row0_col12, #T_e788f_row0_col13, #T_e788f_row0_col14, #T_e788f_row0_col15, #T_e788f_row0_col16, #T_e788f_row0_col17, #T_e788f_row0_col18, #T_e788f_row1_col0, #T_e788f_row1_col1, #T_e788f_row1_col2, #T_e788f_row1_col3, #T_e788f_row1_col4, #T_e788f_row1_col5, #T_e788f_row1_col6, #T_e788f_row1_col7, #T_e788f_row1_col8, #T_e788f_row1_col9, #T_e788f_row1_col10, #T_e788f_row1_col11, #T_e788f_row1_col12, #T_e788f_row1_col13, #T_e788f_row1_col14, #T_e788f_row1_col15, #T_e788f_row1_col16, #T_e788f_row1_col17, #T_e788f_row1_col18, #T_e788f_row2_col0, #T_e788f_row2_col1, #T_e788f_row2_col2, #T_e788f_row2_col3, #T_e788f_row2_col4, #T_e788f_row2_col5, #T_e788f_row2_col6, #T_e788f_row2_col7, #T_e788f_row2_col8, #T_e788f_row2_col9, #T_e788f_row2_col10, #T_e788f_row2_col11, #T_e788f_row2_col12, #T_e788f_row2_col13, #T_e788f_row2_col14, #T_e788f_row2_col15, #T_e788f_row2_col16, #T_e788f_row2_col17, #T_e788f_row2_col18, #T_e788f_row3_col0, #T_e788f_row3_col1, #T_e788f_row3_col2, #T_e788f_row3_col3, #T_e788f_row3_col4, #T_e788f_row3_col5, #T_e788f_row3_col6, #T_e788f_row3_col7, #T_e788f_row3_col8, #T_e788f_row3_col9, #T_e788f_row3_col10, #T_e788f_row3_col11, #T_e788f_row3_col12, #T_e788f_row3_col13, #T_e788f_row3_col14, #T_e788f_row3_col15, #T_e788f_row3_col16, #T_e788f_row3_col17, #T_e788f_row3_col18, #T_e788f_row4_col0, #T_e788f_row4_col1, #T_e788f_row4_col2, #T_e788f_row4_col3, #T_e788f_row4_col4, #T_e788f_row4_col5, #T_e788f_row4_col6, #T_e788f_row4_col7, #T_e788f_row4_col8, #T_e788f_row4_col9, #T_e788f_row4_col10, #T_e788f_row4_col11, #T_e788f_row4_col12, #T_e788f_row4_col13, #T_e788f_row4_col14, #T_e788f_row4_col15, #T_e788f_row4_col16, #T_e788f_row4_col17, #T_e788f_row4_col18 {\n",
       "  background-color: #f8f9fa;\n",
       "  border: 1px solid #dee2e6;\n",
       "  color: #212529;\n",
       "  max-width: 300px;\n",
       "  overflow: hidden;\n",
       "  text-overflow: ellipsis;\n",
       "  white-space: nowrap;\n",
       "}\n",
       "</style>\n",
       "<table id=\"T_e788f\">\n",
       "  <caption>Primeiros Registros</caption>\n",
       "  <thead>\n",
       "    <tr>\n",
       "      <th class=\"blank level0\" >&nbsp;</th>\n",
       "      <th id=\"T_e788f_level0_col0\" class=\"col_heading level0 col0\" >date_message</th>\n",
       "      <th id=\"T_e788f_level0_col1\" class=\"col_heading level0 col1\" >id_member_anonymous</th>\n",
       "      <th id=\"T_e788f_level0_col2\" class=\"col_heading level0 col2\" >id_group_anonymous</th>\n",
       "      <th id=\"T_e788f_level0_col3\" class=\"col_heading level0 col3\" >media</th>\n",
       "      <th id=\"T_e788f_level0_col4\" class=\"col_heading level0 col4\" >media_type</th>\n",
       "      <th id=\"T_e788f_level0_col5\" class=\"col_heading level0 col5\" >media_url</th>\n",
       "      <th id=\"T_e788f_level0_col6\" class=\"col_heading level0 col6\" >has_media</th>\n",
       "      <th id=\"T_e788f_level0_col7\" class=\"col_heading level0 col7\" >has_media_url</th>\n",
       "      <th id=\"T_e788f_level0_col8\" class=\"col_heading level0 col8\" >trava_zap</th>\n",
       "      <th id=\"T_e788f_level0_col9\" class=\"col_heading level0 col9\" >text_content_anonymous</th>\n",
       "      <th id=\"T_e788f_level0_col10\" class=\"col_heading level0 col10\" >dataset_info_id</th>\n",
       "      <th id=\"T_e788f_level0_col11\" class=\"col_heading level0 col11\" >date_system</th>\n",
       "      <th id=\"T_e788f_level0_col12\" class=\"col_heading level0 col12\" >score_sentiment</th>\n",
       "      <th id=\"T_e788f_level0_col13\" class=\"col_heading level0 col13\" >score_misinformation</th>\n",
       "      <th id=\"T_e788f_level0_col14\" class=\"col_heading level0 col14\" >id_message</th>\n",
       "      <th id=\"T_e788f_level0_col15\" class=\"col_heading level0 col15\" >message_type</th>\n",
       "      <th id=\"T_e788f_level0_col16\" class=\"col_heading level0 col16\" >messenger</th>\n",
       "      <th id=\"T_e788f_level0_col17\" class=\"col_heading level0 col17\" >media_name</th>\n",
       "      <th id=\"T_e788f_level0_col18\" class=\"col_heading level0 col18\" >media_md5</th>\n",
       "    </tr>\n",
       "  </thead>\n",
       "  <tbody>\n",
       "    <tr>\n",
       "      <th id=\"T_e788f_level0_row0\" class=\"row_heading level0 row0\" >0</th>\n",
       "      <td id=\"T_e788f_row0_col0\" class=\"data row0 col0\" >2022-10-05 06:25:04</td>\n",
       "      <td id=\"T_e788f_row0_col1\" class=\"data row0 col1\" >1078cc958f0febe28f4d03207660715f</td>\n",
       "      <td id=\"T_e788f_row0_col2\" class=\"data row0 col2\" >12283e08a2eb5789201e105b34489ee7</td>\n",
       "      <td id=\"T_e788f_row0_col3\" class=\"data row0 col3\" >nan</td>\n",
       "      <td id=\"T_e788f_row0_col4\" class=\"data row0 col4\" >nan</td>\n",
       "      <td id=\"T_e788f_row0_col5\" class=\"data row0 col5\" >nan</td>\n",
       "      <td id=\"T_e788f_row0_col6\" class=\"data row0 col6\" >False</td>\n",
       "      <td id=\"T_e788f_row0_col7\" class=\"data row0 col7\" >False</td>\n",
       "      <td id=\"T_e788f_row0_col8\" class=\"data row0 col8\" >False</td>\n",
       "      <td id=\"T_e788f_row0_col9\" class=\"data row0 col9\" >Então é Fato Renato o áudio que eu ouvi no whatsapp isso ocorreu em Niterói principalmente no bairro Fonseca ?</td>\n",
       "      <td id=\"T_e788f_row0_col10\" class=\"data row0 col10\" >5</td>\n",
       "      <td id=\"T_e788f_row0_col11\" class=\"data row0 col11\" >2022-10-05 06:25:28.863641</td>\n",
       "      <td id=\"T_e788f_row0_col12\" class=\"data row0 col12\" >0.000000</td>\n",
       "      <td id=\"T_e788f_row0_col13\" class=\"data row0 col13\" >nan</td>\n",
       "      <td id=\"T_e788f_row0_col14\" class=\"data row0 col14\" >16385</td>\n",
       "      <td id=\"T_e788f_row0_col15\" class=\"data row0 col15\" >Texto</td>\n",
       "      <td id=\"T_e788f_row0_col16\" class=\"data row0 col16\" >telegram</td>\n",
       "      <td id=\"T_e788f_row0_col17\" class=\"data row0 col17\" >nan</td>\n",
       "      <td id=\"T_e788f_row0_col18\" class=\"data row0 col18\" >nan</td>\n",
       "    </tr>\n",
       "    <tr>\n",
       "      <th id=\"T_e788f_level0_row1\" class=\"row_heading level0 row1\" >1</th>\n",
       "      <td id=\"T_e788f_row1_col0\" class=\"data row1 col0\" >2022-10-05 06:25:08</td>\n",
       "      <td id=\"T_e788f_row1_col1\" class=\"data row1 col1\" >nan</td>\n",
       "      <td id=\"T_e788f_row1_col2\" class=\"data row1 col2\" >12283e08a2eb5789201e105b34489ee7</td>\n",
       "      <td id=\"T_e788f_row1_col3\" class=\"data row1 col3\" >nan</td>\n",
       "      <td id=\"T_e788f_row1_col4\" class=\"data row1 col4\" >nan</td>\n",
       "      <td id=\"T_e788f_row1_col5\" class=\"data row1 col5\" >nan</td>\n",
       "      <td id=\"T_e788f_row1_col6\" class=\"data row1 col6\" >False</td>\n",
       "      <td id=\"T_e788f_row1_col7\" class=\"data row1 col7\" >False</td>\n",
       "      <td id=\"T_e788f_row1_col8\" class=\"data row1 col8\" >False</td>\n",
       "      <td id=\"T_e788f_row1_col9\" class=\"data row1 col9\" >Saiu no YouTube do presidente a 8 horas atrás, infelizmente não consigo enviar para cá, mas é facilmente verificável no YouTube do presidente</td>\n",
       "      <td id=\"T_e788f_row1_col10\" class=\"data row1 col10\" >5</td>\n",
       "      <td id=\"T_e788f_row1_col11\" class=\"data row1 col11\" >2022-10-05 06:25:28.926311</td>\n",
       "      <td id=\"T_e788f_row1_col12\" class=\"data row1 col12\" >0.064400</td>\n",
       "      <td id=\"T_e788f_row1_col13\" class=\"data row1 col13\" >nan</td>\n",
       "      <td id=\"T_e788f_row1_col14\" class=\"data row1 col14\" >16386</td>\n",
       "      <td id=\"T_e788f_row1_col15\" class=\"data row1 col15\" >Texto</td>\n",
       "      <td id=\"T_e788f_row1_col16\" class=\"data row1 col16\" >telegram</td>\n",
       "      <td id=\"T_e788f_row1_col17\" class=\"data row1 col17\" >nan</td>\n",
       "      <td id=\"T_e788f_row1_col18\" class=\"data row1 col18\" >nan</td>\n",
       "    </tr>\n",
       "    <tr>\n",
       "      <th id=\"T_e788f_level0_row2\" class=\"row_heading level0 row2\" >2</th>\n",
       "      <td id=\"T_e788f_row2_col0\" class=\"data row2 col0\" >2022-10-05 06:26:28</td>\n",
       "      <td id=\"T_e788f_row2_col1\" class=\"data row2 col1\" >92a2d8fd7144074f659d1d29dc3751da</td>\n",
       "      <td id=\"T_e788f_row2_col2\" class=\"data row2 col2\" >9f2d7394334eb224c061c9740b5748fc</td>\n",
       "      <td id=\"T_e788f_row2_col3\" class=\"data row2 col3\" >nan</td>\n",
       "      <td id=\"T_e788f_row2_col4\" class=\"data row2 col4\" >nan</td>\n",
       "      <td id=\"T_e788f_row2_col5\" class=\"data row2 col5\" >nan</td>\n",
       "      <td id=\"T_e788f_row2_col6\" class=\"data row2 col6\" >False</td>\n",
       "      <td id=\"T_e788f_row2_col7\" class=\"data row2 col7\" >False</td>\n",
       "      <td id=\"T_e788f_row2_col8\" class=\"data row2 col8\" >False</td>\n",
       "      <td id=\"T_e788f_row2_col9\" class=\"data row2 col9\" >É isso, nossa parte já foi quase toda feita. No segundo turno completamos nossa parte desse teatro. Essa é uma guerra de 4* geração na dimensão humana e uma guerra espiritual do bem contra o mal na dimensão do Universo. Pensamento positivo é fundamental, pensem sempre em algo bom. Deus continua nos abençoando, nosso livre arbítrio completa o curso.</td>\n",
       "      <td id=\"T_e788f_row2_col10\" class=\"data row2 col10\" >5</td>\n",
       "      <td id=\"T_e788f_row2_col11\" class=\"data row2 col11\" >2022-10-05 06:26:29.361949</td>\n",
       "      <td id=\"T_e788f_row2_col12\" class=\"data row2 col12\" >-0.355100</td>\n",
       "      <td id=\"T_e788f_row2_col13\" class=\"data row2 col13\" >0.157242</td>\n",
       "      <td id=\"T_e788f_row2_col14\" class=\"data row2 col14\" >16366</td>\n",
       "      <td id=\"T_e788f_row2_col15\" class=\"data row2 col15\" >Texto</td>\n",
       "      <td id=\"T_e788f_row2_col16\" class=\"data row2 col16\" >telegram</td>\n",
       "      <td id=\"T_e788f_row2_col17\" class=\"data row2 col17\" >nan</td>\n",
       "      <td id=\"T_e788f_row2_col18\" class=\"data row2 col18\" >nan</td>\n",
       "    </tr>\n",
       "    <tr>\n",
       "      <th id=\"T_e788f_level0_row3\" class=\"row_heading level0 row3\" >3</th>\n",
       "      <td id=\"T_e788f_row3_col0\" class=\"data row3 col0\" >2022-10-05 06:27:28</td>\n",
       "      <td id=\"T_e788f_row3_col1\" class=\"data row3 col1\" >d60aa38f62b4977426b70944af4aff72</td>\n",
       "      <td id=\"T_e788f_row3_col2\" class=\"data row3 col2\" >c8f2de56550ed0bf85249608b7ead93d</td>\n",
       "      <td id=\"T_e788f_row3_col3\" class=\"data row3 col3\" >94dca4cda503100ebfda7ce2bcc060eb.jpg</td>\n",
       "      <td id=\"T_e788f_row3_col4\" class=\"data row3 col4\" >image/jpg</td>\n",
       "      <td id=\"T_e788f_row3_col5\" class=\"data row3 col5\" >nan</td>\n",
       "      <td id=\"T_e788f_row3_col6\" class=\"data row3 col6\" >True</td>\n",
       "      <td id=\"T_e788f_row3_col7\" class=\"data row3 col7\" >False</td>\n",
       "      <td id=\"T_e788f_row3_col8\" class=\"data row3 col8\" >False</td>\n",
       "      <td id=\"T_e788f_row3_col9\" class=\"data row3 col9\" >GENTE ACHEI ELES EM UMA SEITA MAÇONÁRICA</td>\n",
       "      <td id=\"T_e788f_row3_col10\" class=\"data row3 col10\" >5</td>\n",
       "      <td id=\"T_e788f_row3_col11\" class=\"data row3 col11\" >2022-10-05 06:27:29.935624</td>\n",
       "      <td id=\"T_e788f_row3_col12\" class=\"data row3 col12\" >0.000000</td>\n",
       "      <td id=\"T_e788f_row3_col13\" class=\"data row3 col13\" >nan</td>\n",
       "      <td id=\"T_e788f_row3_col14\" class=\"data row3 col14\" >19281</td>\n",
       "      <td id=\"T_e788f_row3_col15\" class=\"data row3 col15\" >Imagem</td>\n",
       "      <td id=\"T_e788f_row3_col16\" class=\"data row3 col16\" >telegram</td>\n",
       "      <td id=\"T_e788f_row3_col17\" class=\"data row3 col17\" >nan</td>\n",
       "      <td id=\"T_e788f_row3_col18\" class=\"data row3 col18\" >94dca4cda503100ebfda7ce2bcc060eb</td>\n",
       "    </tr>\n",
       "    <tr>\n",
       "      <th id=\"T_e788f_level0_row4\" class=\"row_heading level0 row4\" >4</th>\n",
       "      <td id=\"T_e788f_row4_col0\" class=\"data row4 col0\" >2022-10-05 06:27:44</td>\n",
       "      <td id=\"T_e788f_row4_col1\" class=\"data row4 col1\" >cd6979b0b5265f08468fa1689b6300ce</td>\n",
       "      <td id=\"T_e788f_row4_col2\" class=\"data row4 col2\" >e56ec342fc599ebb4ed89655eb6f03aa</td>\n",
       "      <td id=\"T_e788f_row4_col3\" class=\"data row4 col3\" >5ad5c8bbe9da93a37fecf3e5aa5b0637.jpg</td>\n",
       "      <td id=\"T_e788f_row4_col4\" class=\"data row4 col4\" >image/jpg</td>\n",
       "      <td id=\"T_e788f_row4_col5\" class=\"data row4 col5\" >nan</td>\n",
       "      <td id=\"T_e788f_row4_col6\" class=\"data row4 col6\" >True</td>\n",
       "      <td id=\"T_e788f_row4_col7\" class=\"data row4 col7\" >False</td>\n",
       "      <td id=\"T_e788f_row4_col8\" class=\"data row4 col8\" >False</td>\n",
       "      <td id=\"T_e788f_row4_col9\" class=\"data row4 col9\" >nan</td>\n",
       "      <td id=\"T_e788f_row4_col10\" class=\"data row4 col10\" >5</td>\n",
       "      <td id=\"T_e788f_row4_col11\" class=\"data row4 col11\" >2022-10-05 06:28:29.316325</td>\n",
       "      <td id=\"T_e788f_row4_col12\" class=\"data row4 col12\" >nan</td>\n",
       "      <td id=\"T_e788f_row4_col13\" class=\"data row4 col13\" >nan</td>\n",
       "      <td id=\"T_e788f_row4_col14\" class=\"data row4 col14\" >507185</td>\n",
       "      <td id=\"T_e788f_row4_col15\" class=\"data row4 col15\" >Imagem</td>\n",
       "      <td id=\"T_e788f_row4_col16\" class=\"data row4 col16\" >telegram</td>\n",
       "      <td id=\"T_e788f_row4_col17\" class=\"data row4 col17\" >nan</td>\n",
       "      <td id=\"T_e788f_row4_col18\" class=\"data row4 col18\" >5ad5c8bbe9da93a37fecf3e5aa5b0637</td>\n",
       "    </tr>\n",
       "  </tbody>\n",
       "</table>\n"
      ],
      "text/plain": [
       "<pandas.io.formats.style.Styler at 0x21ed08b7a40>"
      ]
     },
     "metadata": {},
     "output_type": "display_data"
    },
    {
     "data": {
      "text/html": [
       "<style type=\"text/css\">\n",
       "#T_e0333_row0_col0, #T_e0333_row0_col1, #T_e0333_row0_col2, #T_e0333_row0_col3, #T_e0333_row0_col4, #T_e0333_row0_col5, #T_e0333_row0_col6, #T_e0333_row0_col7, #T_e0333_row0_col8, #T_e0333_row0_col9, #T_e0333_row0_col10, #T_e0333_row0_col11, #T_e0333_row0_col12, #T_e0333_row0_col13, #T_e0333_row0_col14, #T_e0333_row0_col15, #T_e0333_row0_col16, #T_e0333_row0_col17, #T_e0333_row0_col18, #T_e0333_row1_col0, #T_e0333_row1_col1, #T_e0333_row1_col2, #T_e0333_row1_col3, #T_e0333_row1_col4, #T_e0333_row1_col5, #T_e0333_row1_col6, #T_e0333_row1_col7, #T_e0333_row1_col8, #T_e0333_row1_col9, #T_e0333_row1_col10, #T_e0333_row1_col11, #T_e0333_row1_col12, #T_e0333_row1_col13, #T_e0333_row1_col14, #T_e0333_row1_col15, #T_e0333_row1_col16, #T_e0333_row1_col17, #T_e0333_row1_col18, #T_e0333_row2_col0, #T_e0333_row2_col1, #T_e0333_row2_col2, #T_e0333_row2_col3, #T_e0333_row2_col4, #T_e0333_row2_col5, #T_e0333_row2_col6, #T_e0333_row2_col7, #T_e0333_row2_col8, #T_e0333_row2_col9, #T_e0333_row2_col10, #T_e0333_row2_col11, #T_e0333_row2_col12, #T_e0333_row2_col13, #T_e0333_row2_col14, #T_e0333_row2_col15, #T_e0333_row2_col16, #T_e0333_row2_col17, #T_e0333_row2_col18, #T_e0333_row3_col0, #T_e0333_row3_col1, #T_e0333_row3_col2, #T_e0333_row3_col3, #T_e0333_row3_col4, #T_e0333_row3_col5, #T_e0333_row3_col6, #T_e0333_row3_col7, #T_e0333_row3_col8, #T_e0333_row3_col9, #T_e0333_row3_col10, #T_e0333_row3_col11, #T_e0333_row3_col12, #T_e0333_row3_col13, #T_e0333_row3_col14, #T_e0333_row3_col15, #T_e0333_row3_col16, #T_e0333_row3_col17, #T_e0333_row3_col18, #T_e0333_row4_col0, #T_e0333_row4_col1, #T_e0333_row4_col2, #T_e0333_row4_col3, #T_e0333_row4_col4, #T_e0333_row4_col5, #T_e0333_row4_col6, #T_e0333_row4_col7, #T_e0333_row4_col8, #T_e0333_row4_col9, #T_e0333_row4_col10, #T_e0333_row4_col11, #T_e0333_row4_col12, #T_e0333_row4_col13, #T_e0333_row4_col14, #T_e0333_row4_col15, #T_e0333_row4_col16, #T_e0333_row4_col17, #T_e0333_row4_col18 {\n",
       "  background-color: #f8f9fa;\n",
       "  border: 1px solid #dee2e6;\n",
       "  color: #212529;\n",
       "  max-width: 300px;\n",
       "  overflow: hidden;\n",
       "  text-overflow: ellipsis;\n",
       "  white-space: nowrap;\n",
       "}\n",
       "</style>\n",
       "<table id=\"T_e0333\">\n",
       "  <caption>Últimos Registros</caption>\n",
       "  <thead>\n",
       "    <tr>\n",
       "      <th class=\"blank level0\" >&nbsp;</th>\n",
       "      <th id=\"T_e0333_level0_col0\" class=\"col_heading level0 col0\" >date_message</th>\n",
       "      <th id=\"T_e0333_level0_col1\" class=\"col_heading level0 col1\" >id_member_anonymous</th>\n",
       "      <th id=\"T_e0333_level0_col2\" class=\"col_heading level0 col2\" >id_group_anonymous</th>\n",
       "      <th id=\"T_e0333_level0_col3\" class=\"col_heading level0 col3\" >media</th>\n",
       "      <th id=\"T_e0333_level0_col4\" class=\"col_heading level0 col4\" >media_type</th>\n",
       "      <th id=\"T_e0333_level0_col5\" class=\"col_heading level0 col5\" >media_url</th>\n",
       "      <th id=\"T_e0333_level0_col6\" class=\"col_heading level0 col6\" >has_media</th>\n",
       "      <th id=\"T_e0333_level0_col7\" class=\"col_heading level0 col7\" >has_media_url</th>\n",
       "      <th id=\"T_e0333_level0_col8\" class=\"col_heading level0 col8\" >trava_zap</th>\n",
       "      <th id=\"T_e0333_level0_col9\" class=\"col_heading level0 col9\" >text_content_anonymous</th>\n",
       "      <th id=\"T_e0333_level0_col10\" class=\"col_heading level0 col10\" >dataset_info_id</th>\n",
       "      <th id=\"T_e0333_level0_col11\" class=\"col_heading level0 col11\" >date_system</th>\n",
       "      <th id=\"T_e0333_level0_col12\" class=\"col_heading level0 col12\" >score_sentiment</th>\n",
       "      <th id=\"T_e0333_level0_col13\" class=\"col_heading level0 col13\" >score_misinformation</th>\n",
       "      <th id=\"T_e0333_level0_col14\" class=\"col_heading level0 col14\" >id_message</th>\n",
       "      <th id=\"T_e0333_level0_col15\" class=\"col_heading level0 col15\" >message_type</th>\n",
       "      <th id=\"T_e0333_level0_col16\" class=\"col_heading level0 col16\" >messenger</th>\n",
       "      <th id=\"T_e0333_level0_col17\" class=\"col_heading level0 col17\" >media_name</th>\n",
       "      <th id=\"T_e0333_level0_col18\" class=\"col_heading level0 col18\" >media_md5</th>\n",
       "    </tr>\n",
       "  </thead>\n",
       "  <tbody>\n",
       "    <tr>\n",
       "      <th id=\"T_e0333_level0_row0\" class=\"row_heading level0 row0\" >557581</th>\n",
       "      <td id=\"T_e0333_row0_col0\" class=\"data row0 col0\" >2022-11-11 12:06:15</td>\n",
       "      <td id=\"T_e0333_row0_col1\" class=\"data row0 col1\" >333e9869f23dbd4682d1be382d9c1e59</td>\n",
       "      <td id=\"T_e0333_row0_col2\" class=\"data row0 col2\" >e56ec342fc599ebb4ed89655eb6f03aa</td>\n",
       "      <td id=\"T_e0333_row0_col3\" class=\"data row0 col3\" >25e43b6a58b848c43ad5b5f9e979822a.jpg</td>\n",
       "      <td id=\"T_e0333_row0_col4\" class=\"data row0 col4\" >url</td>\n",
       "      <td id=\"T_e0333_row0_col5\" class=\"data row0 col5\" >https://terrabrasilnoticias.com/2022/11/bndes-tem-lucro-de-r-96-bilhoes-no-terceiro-trimestre/</td>\n",
       "      <td id=\"T_e0333_row0_col6\" class=\"data row0 col6\" >True</td>\n",
       "      <td id=\"T_e0333_row0_col7\" class=\"data row0 col7\" >True</td>\n",
       "      <td id=\"T_e0333_row0_col8\" class=\"data row0 col8\" >False</td>\n",
       "      <td id=\"T_e0333_row0_col9\" class=\"data row0 col9\" >BNDES tem lucro de R$ 9,6 bilhões no terceiro trimestre ☛ https://terrabrasilnoticias.com/2022/11/bndes-tem-lucro-de-r-96-bilhoes-no-terceiro-trimestre/</td>\n",
       "      <td id=\"T_e0333_row0_col10\" class=\"data row0 col10\" >5</td>\n",
       "      <td id=\"T_e0333_row0_col11\" class=\"data row0 col11\" >2022-11-16 14:49:39.146502</td>\n",
       "      <td id=\"T_e0333_row0_col12\" class=\"data row0 col12\" >0.102700</td>\n",
       "      <td id=\"T_e0333_row0_col13\" class=\"data row0 col13\" >nan</td>\n",
       "      <td id=\"T_e0333_row0_col14\" class=\"data row0 col14\" >575796</td>\n",
       "      <td id=\"T_e0333_row0_col15\" class=\"data row0 col15\" >Url</td>\n",
       "      <td id=\"T_e0333_row0_col16\" class=\"data row0 col16\" >telegram</td>\n",
       "      <td id=\"T_e0333_row0_col17\" class=\"data row0 col17\" >nan</td>\n",
       "      <td id=\"T_e0333_row0_col18\" class=\"data row0 col18\" >25e43b6a58b848c43ad5b5f9e979822a</td>\n",
       "    </tr>\n",
       "    <tr>\n",
       "      <th id=\"T_e0333_level0_row1\" class=\"row_heading level0 row1\" >557582</th>\n",
       "      <td id=\"T_e0333_row1_col0\" class=\"data row1 col0\" >2022-11-11 12:09:08</td>\n",
       "      <td id=\"T_e0333_row1_col1\" class=\"data row1 col1\" >nan</td>\n",
       "      <td id=\"T_e0333_row1_col2\" class=\"data row1 col2\" >5b10d7739171149be6d9961e3350c071</td>\n",
       "      <td id=\"T_e0333_row1_col3\" class=\"data row1 col3\" >657949d03e4088f6b332e2686ccd3221.jpg</td>\n",
       "      <td id=\"T_e0333_row1_col4\" class=\"data row1 col4\" >url</td>\n",
       "      <td id=\"T_e0333_row1_col5\" class=\"data row1 col5\" >https://youtu.be/8g1Vz9_0xVk</td>\n",
       "      <td id=\"T_e0333_row1_col6\" class=\"data row1 col6\" >True</td>\n",
       "      <td id=\"T_e0333_row1_col7\" class=\"data row1 col7\" >True</td>\n",
       "      <td id=\"T_e0333_row1_col8\" class=\"data row1 col8\" >False</td>\n",
       "      <td id=\"T_e0333_row1_col9\" class=\"data row1 col9\" >https://youtu.be/8g1Vz9_0xVk</td>\n",
       "      <td id=\"T_e0333_row1_col10\" class=\"data row1 col10\" >5</td>\n",
       "      <td id=\"T_e0333_row1_col11\" class=\"data row1 col11\" >2022-11-16 14:49:39.847434</td>\n",
       "      <td id=\"T_e0333_row1_col12\" class=\"data row1 col12\" >0.000000</td>\n",
       "      <td id=\"T_e0333_row1_col13\" class=\"data row1 col13\" >nan</td>\n",
       "      <td id=\"T_e0333_row1_col14\" class=\"data row1 col14\" >1286443</td>\n",
       "      <td id=\"T_e0333_row1_col15\" class=\"data row1 col15\" >Url</td>\n",
       "      <td id=\"T_e0333_row1_col16\" class=\"data row1 col16\" >telegram</td>\n",
       "      <td id=\"T_e0333_row1_col17\" class=\"data row1 col17\" >nan</td>\n",
       "      <td id=\"T_e0333_row1_col18\" class=\"data row1 col18\" >657949d03e4088f6b332e2686ccd3221</td>\n",
       "    </tr>\n",
       "    <tr>\n",
       "      <th id=\"T_e0333_level0_row2\" class=\"row_heading level0 row2\" >557583</th>\n",
       "      <td id=\"T_e0333_row2_col0\" class=\"data row2 col0\" >2022-11-11 12:09:47</td>\n",
       "      <td id=\"T_e0333_row2_col1\" class=\"data row2 col1\" >nan</td>\n",
       "      <td id=\"T_e0333_row2_col2\" class=\"data row2 col2\" >1590a03f43b5ba4b6147a1c5e1dd357b</td>\n",
       "      <td id=\"T_e0333_row2_col3\" class=\"data row2 col3\" >a21848a61045380a6483866daed0ca0e.jpg</td>\n",
       "      <td id=\"T_e0333_row2_col4\" class=\"data row2 col4\" >image/jpg</td>\n",
       "      <td id=\"T_e0333_row2_col5\" class=\"data row2 col5\" >https://t.me/vemprasruas</td>\n",
       "      <td id=\"T_e0333_row2_col6\" class=\"data row2 col6\" >True</td>\n",
       "      <td id=\"T_e0333_row2_col7\" class=\"data row2 col7\" >True</td>\n",
       "      <td id=\"T_e0333_row2_col8\" class=\"data row2 col8\" >False</td>\n",
       "      <td id=\"T_e0333_row2_col9\" class=\"data row2 col9\" >Empresários, demitam os petistas primeiro.\n",
       "\n",
       "https://t.me/vemprasruas</td>\n",
       "      <td id=\"T_e0333_row2_col10\" class=\"data row2 col10\" >5</td>\n",
       "      <td id=\"T_e0333_row2_col11\" class=\"data row2 col11\" >2022-11-16 14:49:39.922279</td>\n",
       "      <td id=\"T_e0333_row2_col12\" class=\"data row2 col12\" >0.000000</td>\n",
       "      <td id=\"T_e0333_row2_col13\" class=\"data row2 col13\" >nan</td>\n",
       "      <td id=\"T_e0333_row2_col14\" class=\"data row2 col14\" >13294</td>\n",
       "      <td id=\"T_e0333_row2_col15\" class=\"data row2 col15\" >Imagem</td>\n",
       "      <td id=\"T_e0333_row2_col16\" class=\"data row2 col16\" >telegram</td>\n",
       "      <td id=\"T_e0333_row2_col17\" class=\"data row2 col17\" >nan</td>\n",
       "      <td id=\"T_e0333_row2_col18\" class=\"data row2 col18\" >a21848a61045380a6483866daed0ca0e</td>\n",
       "    </tr>\n",
       "    <tr>\n",
       "      <th id=\"T_e0333_level0_row3\" class=\"row_heading level0 row3\" >557584</th>\n",
       "      <td id=\"T_e0333_row3_col0\" class=\"data row3 col0\" >2022-11-11 12:09:46</td>\n",
       "      <td id=\"T_e0333_row3_col1\" class=\"data row3 col1\" >nan</td>\n",
       "      <td id=\"T_e0333_row3_col2\" class=\"data row3 col2\" >5b10d7739171149be6d9961e3350c071</td>\n",
       "      <td id=\"T_e0333_row3_col3\" class=\"data row3 col3\" >a21848a61045380a6483866daed0ca0e.jpg</td>\n",
       "      <td id=\"T_e0333_row3_col4\" class=\"data row3 col4\" >image/jpg</td>\n",
       "      <td id=\"T_e0333_row3_col5\" class=\"data row3 col5\" >https://t.me/vemprasruas</td>\n",
       "      <td id=\"T_e0333_row3_col6\" class=\"data row3 col6\" >True</td>\n",
       "      <td id=\"T_e0333_row3_col7\" class=\"data row3 col7\" >True</td>\n",
       "      <td id=\"T_e0333_row3_col8\" class=\"data row3 col8\" >False</td>\n",
       "      <td id=\"T_e0333_row3_col9\" class=\"data row3 col9\" >Empresários, demitam os petistas primeiro.\n",
       "\n",
       "https://t.me/vemprasruas</td>\n",
       "      <td id=\"T_e0333_row3_col10\" class=\"data row3 col10\" >5</td>\n",
       "      <td id=\"T_e0333_row3_col11\" class=\"data row3 col11\" >2022-11-16 14:49:39.992932</td>\n",
       "      <td id=\"T_e0333_row3_col12\" class=\"data row3 col12\" >0.000000</td>\n",
       "      <td id=\"T_e0333_row3_col13\" class=\"data row3 col13\" >nan</td>\n",
       "      <td id=\"T_e0333_row3_col14\" class=\"data row3 col14\" >1286444</td>\n",
       "      <td id=\"T_e0333_row3_col15\" class=\"data row3 col15\" >Imagem</td>\n",
       "      <td id=\"T_e0333_row3_col16\" class=\"data row3 col16\" >telegram</td>\n",
       "      <td id=\"T_e0333_row3_col17\" class=\"data row3 col17\" >nan</td>\n",
       "      <td id=\"T_e0333_row3_col18\" class=\"data row3 col18\" >a21848a61045380a6483866daed0ca0e</td>\n",
       "    </tr>\n",
       "    <tr>\n",
       "      <th id=\"T_e0333_level0_row4\" class=\"row_heading level0 row4\" >557585</th>\n",
       "      <td id=\"T_e0333_row4_col0\" class=\"data row4 col0\" >2022-11-11 12:09:48</td>\n",
       "      <td id=\"T_e0333_row4_col1\" class=\"data row4 col1\" >nan</td>\n",
       "      <td id=\"T_e0333_row4_col2\" class=\"data row4 col2\" >b11f2df64ac19aad47a50accf32052d6</td>\n",
       "      <td id=\"T_e0333_row4_col3\" class=\"data row4 col3\" >a21848a61045380a6483866daed0ca0e.jpg</td>\n",
       "      <td id=\"T_e0333_row4_col4\" class=\"data row4 col4\" >image/jpg</td>\n",
       "      <td id=\"T_e0333_row4_col5\" class=\"data row4 col5\" >https://t.me/vemprasruas</td>\n",
       "      <td id=\"T_e0333_row4_col6\" class=\"data row4 col6\" >True</td>\n",
       "      <td id=\"T_e0333_row4_col7\" class=\"data row4 col7\" >True</td>\n",
       "      <td id=\"T_e0333_row4_col8\" class=\"data row4 col8\" >False</td>\n",
       "      <td id=\"T_e0333_row4_col9\" class=\"data row4 col9\" >Empresários, demitam os petistas primeiro.\n",
       "\n",
       "https://t.me/vemprasruas</td>\n",
       "      <td id=\"T_e0333_row4_col10\" class=\"data row4 col10\" >5</td>\n",
       "      <td id=\"T_e0333_row4_col11\" class=\"data row4 col11\" >2022-11-16 14:49:40.064006</td>\n",
       "      <td id=\"T_e0333_row4_col12\" class=\"data row4 col12\" >0.000000</td>\n",
       "      <td id=\"T_e0333_row4_col13\" class=\"data row4 col13\" >nan</td>\n",
       "      <td id=\"T_e0333_row4_col14\" class=\"data row4 col14\" >192127</td>\n",
       "      <td id=\"T_e0333_row4_col15\" class=\"data row4 col15\" >Imagem</td>\n",
       "      <td id=\"T_e0333_row4_col16\" class=\"data row4 col16\" >telegram</td>\n",
       "      <td id=\"T_e0333_row4_col17\" class=\"data row4 col17\" >nan</td>\n",
       "      <td id=\"T_e0333_row4_col18\" class=\"data row4 col18\" >a21848a61045380a6483866daed0ca0e</td>\n",
       "    </tr>\n",
       "  </tbody>\n",
       "</table>\n"
      ],
      "text/plain": [
       "<pandas.io.formats.style.Styler at 0x21ed1f81010>"
      ]
     },
     "metadata": {},
     "output_type": "display_data"
    }
   ],
   "source": [
    "# VISUALIZANDO AMOSTRAS INICIAIS E FINAIS DO DATASET\n",
    "display(df_inicial.head().style.set_caption(\"Primeiros Registros\").set_properties(**{\n",
    "    'background-color': '#f8f9fa',\n",
    "    'border': '1px solid #dee2e6',\n",
    "    'color': '#212529',\n",
    "    'max-width': '300px',\n",
    "    'overflow': 'hidden',\n",
    "    'text-overflow': 'ellipsis',\n",
    "    'white-space': 'nowrap'\n",
    "}))\n",
    "\n",
    "display(df_inicial.tail().style.set_caption(\"Últimos Registros\").set_properties(**{\n",
    "    'background-color': '#f8f9fa',\n",
    "    'border': '1px solid #dee2e6',\n",
    "    'color': '#212529',\n",
    "    'max-width': '300px',\n",
    "    'overflow': 'hidden',\n",
    "    'text-overflow': 'ellipsis',\n",
    "    'white-space': 'nowrap'\n",
    "}))"
   ]
  },
  {
   "cell_type": "markdown",
   "id": "f33fd9f6",
   "metadata": {},
   "source": [
    "---"
   ]
  },
  {
   "cell_type": "markdown",
   "id": "88dda68d",
   "metadata": {},
   "source": [
    "### **(b)** Remova os trava-zaps."
   ]
  },
  {
   "cell_type": "markdown",
   "id": "f82ed3ea",
   "metadata": {},
   "source": [
    "Este item será resolvido através da manipulação da coluna `trava_zap`, previamente identificada na análise inicial. A estratégia adotada considera o tamanho do dataset (557.586 registros) e segue um fluxo estruturado:\n",
    "\n",
    "1. **Análise Preliminar**\n",
    "    - Verificação do tipo de dado (dtype) e valores únicos na coluna `trava_zap`\n",
    "    - Confirmação da proporção True/False/NaN (se aplicável)"
   ]
  },
  {
   "cell_type": "code",
   "execution_count": 4,
   "id": "4ff80fbd",
   "metadata": {},
   "outputs": [
    {
     "name": "stdout",
     "output_type": "stream",
     "text": [
      "Tipo de dado: bool\n"
     ]
    },
    {
     "data": {
      "text/html": [
       "<style type=\"text/css\">\n",
       "</style>\n",
       "<table id=\"T_a9b8f\">\n",
       "  <caption>Contagem de valores distintos em trava_zap</caption>\n",
       "  <thead>\n",
       "    <tr>\n",
       "      <th class=\"blank level0\" >&nbsp;</th>\n",
       "      <th id=\"T_a9b8f_level0_col0\" class=\"col_heading level0 col0\" >count</th>\n",
       "    </tr>\n",
       "    <tr>\n",
       "      <th class=\"index_name level0\" >trava_zap</th>\n",
       "      <th class=\"blank col0\" >&nbsp;</th>\n",
       "    </tr>\n",
       "  </thead>\n",
       "  <tbody>\n",
       "    <tr>\n",
       "      <th id=\"T_a9b8f_level0_row0\" class=\"row_heading level0 row0\" >False</th>\n",
       "      <td id=\"T_a9b8f_row0_col0\" class=\"data row0 col0\" >557570</td>\n",
       "    </tr>\n",
       "    <tr>\n",
       "      <th id=\"T_a9b8f_level0_row1\" class=\"row_heading level0 row1\" >True</th>\n",
       "      <td id=\"T_a9b8f_row1_col0\" class=\"data row1 col0\" >16</td>\n",
       "    </tr>\n",
       "  </tbody>\n",
       "</table>\n"
      ],
      "text/plain": [
       "<pandas.io.formats.style.Styler at 0x14a873037a0>"
      ]
     },
     "metadata": {},
     "output_type": "display_data"
    },
    {
     "name": "stdout",
     "output_type": "stream",
     "text": [
      "Registros com trava_zap que precisam ser removidos: 16\n"
     ]
    }
   ],
   "source": [
    "# ANÁLISE PRELIMINAR\n",
    "# Verificação do tipo e valores únicos\n",
    "print(f\"Tipo de dado: {df_inicial['trava_zap'].dtype}\")\n",
    "trava_dist = df_inicial['trava_zap'].value_counts(dropna=False)\n",
    "display(trava_dist.to_frame().style.set_caption(\"Contagem de valores distintos em trava_zap\"))\n",
    "\n",
    "# Verificação de linhas que devem ser removidas\n",
    "print(f\"Registros com trava_zap que precisam ser removidos: {trava_dist.get(True, 0):,}\")"
   ]
  },
  {
   "cell_type": "markdown",
   "id": "90a96217",
   "metadata": {},
   "source": [
    "2. **Processamento por Chunks**\n",
    "    - Divisão do dataset em blocos de 1.000 linhas para:\n",
    "        - Otimização de memória\n",
    "        - Facilidade de debug\n",
    "        - Monitoramento do progresso"
   ]
  },
  {
   "cell_type": "code",
   "execution_count": 5,
   "id": "46fdaca9",
   "metadata": {},
   "outputs": [],
   "source": [
    "import numpy as np"
   ]
  },
  {
   "cell_type": "code",
   "execution_count": 6,
   "id": "8fd1f52c",
   "metadata": {},
   "outputs": [
    {
     "name": "stdout",
     "output_type": "stream",
     "text": [
      "\u001b[1mProcessando 558 chunks de 1000 registros cada:\u001b[0m\n"
     ]
    },
    {
     "name": "stderr",
     "output_type": "stream",
     "text": [
      "c:\\Users\\esthe\\AppData\\Local\\Programs\\Python\\Python312\\Lib\\site-packages\\numpy\\core\\fromnumeric.py:59: FutureWarning: 'DataFrame.swapaxes' is deprecated and will be removed in a future version. Please use 'DataFrame.transpose' instead.\n",
      "  return bound(*args, **kwds)\n"
     ]
    },
    {
     "name": "stdout",
     "output_type": "stream",
     "text": [
      "Processado chunk 10/558 | Registros retidos: 10,000\n",
      "Processado chunk 20/558 | Registros retidos: 20,000\n",
      "Processado chunk 30/558 | Registros retidos: 29,999\n",
      "Processado chunk 40/558 | Registros retidos: 39,999\n",
      "Processado chunk 50/558 | Registros retidos: 49,999\n",
      "Processado chunk 60/558 | Registros retidos: 59,999\n",
      "Processado chunk 70/558 | Registros retidos: 69,999\n",
      "Processado chunk 80/558 | Registros retidos: 79,999\n",
      "Processado chunk 90/558 | Registros retidos: 89,998\n",
      "Processado chunk 100/558 | Registros retidos: 99,998\n",
      "Processado chunk 110/558 | Registros retidos: 109,998\n",
      "Processado chunk 120/558 | Registros retidos: 119,998\n",
      "Processado chunk 130/558 | Registros retidos: 129,998\n",
      "Processado chunk 140/558 | Registros retidos: 139,998\n",
      "Processado chunk 150/558 | Registros retidos: 149,992\n",
      "Processado chunk 160/558 | Registros retidos: 159,982\n",
      "Processado chunk 170/558 | Registros retidos: 169,972\n",
      "Processado chunk 180/558 | Registros retidos: 179,962\n",
      "Processado chunk 190/558 | Registros retidos: 189,952\n",
      "Processado chunk 200/558 | Registros retidos: 199,942\n",
      "Processado chunk 210/558 | Registros retidos: 209,932\n",
      "Processado chunk 220/558 | Registros retidos: 219,922\n",
      "Processado chunk 230/558 | Registros retidos: 229,912\n",
      "Processado chunk 240/558 | Registros retidos: 239,902\n",
      "Processado chunk 250/558 | Registros retidos: 249,892\n",
      "Processado chunk 260/558 | Registros retidos: 259,882\n",
      "Processado chunk 270/558 | Registros retidos: 269,872\n",
      "Processado chunk 280/558 | Registros retidos: 279,862\n",
      "Processado chunk 290/558 | Registros retidos: 289,852\n",
      "Processado chunk 300/558 | Registros retidos: 299,841\n",
      "Processado chunk 310/558 | Registros retidos: 309,831\n",
      "Processado chunk 320/558 | Registros retidos: 319,821\n",
      "Processado chunk 330/558 | Registros retidos: 329,810\n",
      "Processado chunk 340/558 | Registros retidos: 339,800\n",
      "Processado chunk 350/558 | Registros retidos: 349,790\n",
      "Processado chunk 360/558 | Registros retidos: 359,780\n",
      "Processado chunk 370/558 | Registros retidos: 369,770\n",
      "Processado chunk 380/558 | Registros retidos: 379,760\n",
      "Processado chunk 390/558 | Registros retidos: 389,749\n",
      "Processado chunk 400/558 | Registros retidos: 399,739\n",
      "Processado chunk 410/558 | Registros retidos: 409,729\n",
      "Processado chunk 420/558 | Registros retidos: 419,719\n",
      "Processado chunk 430/558 | Registros retidos: 429,708\n",
      "Processado chunk 440/558 | Registros retidos: 439,698\n",
      "Processado chunk 450/558 | Registros retidos: 449,688\n",
      "Processado chunk 460/558 | Registros retidos: 459,678\n",
      "Processado chunk 470/558 | Registros retidos: 469,666\n",
      "Processado chunk 480/558 | Registros retidos: 479,654\n",
      "Processado chunk 490/558 | Registros retidos: 489,643\n",
      "Processado chunk 500/558 | Registros retidos: 499,628\n",
      "Processado chunk 510/558 | Registros retidos: 509,618\n",
      "Processado chunk 520/558 | Registros retidos: 519,608\n",
      "Processado chunk 530/558 | Registros retidos: 529,598\n",
      "Processado chunk 540/558 | Registros retidos: 539,588\n",
      "Processado chunk 550/558 | Registros retidos: 549,578\n"
     ]
    }
   ],
   "source": [
    "# Parâmetros do chunk -- 1000 linhas \n",
    "CHUNK_SIZE = 1000\n",
    "total_chunks = (len(df_inicial) // CHUNK_SIZE) + 1\n",
    "df_sem_trava_zap = pd.DataFrame() # Criação de DataFrame Seguro para controle de variáveis.\n",
    "\n",
    "print(f\"\\033[1mProcessando {total_chunks} chunks de {CHUNK_SIZE} registros cada:\\033[0m\")\n",
    "\n",
    "for i, chunk in enumerate(np.array_split(df_inicial, total_chunks)):\n",
    "    # Filtro principal -- linhas que possuem trava zap, isto é, trava_zap = True\n",
    "    chunk_filtrado = chunk[chunk['trava_zap'] != True]\n",
    "    \n",
    "    # Concatenção segura -- recebendo apenas os blocos onde trava_zap = False\n",
    "    df_sem_trava_zap = pd.concat([df_sem_trava_zap, chunk_filtrado], ignore_index=True)\n",
    "    \n",
    "    # Log de progresso para controle da análise\n",
    "    if (i+1) % 10 == 0:\n",
    "        print(f\"Processado chunk {i+1}/{total_chunks} | Registros retidos: {len(df_sem_trava_zap):,}\")"
   ]
  },
  {
   "cell_type": "markdown",
   "id": "cb040578",
   "metadata": {},
   "source": [
    "4. **Saída Controlada**\n",
    "    - Relatório pós-processamento mostrará:\n",
    "        - Número total de linhas removidas\n",
    "        - Porcentagem impactada\n",
    "        - Amostra das primeiras 5 linhas removidas (se relevante)"
   ]
  },
  {
   "cell_type": "code",
   "execution_count": 9,
   "id": "2af73d09",
   "metadata": {},
   "outputs": [
    {
     "name": "stdout",
     "output_type": "stream",
     "text": [
      "\u001b[1mRelatório de Remoção:\u001b[0m\n",
      "• Registros originais: 557,586\n",
      "• Registros removidos: 16\n",
      "• Registros restantes: 557,570\n"
     ]
    },
    {
     "data": {
      "application/vnd.microsoft.datawrangler.viewer.v0+json": {
       "columns": [
        {
         "name": "index",
         "rawType": "int64",
         "type": "integer"
        },
        {
         "name": "date_message",
         "rawType": "object",
         "type": "string"
        },
        {
         "name": "id_member_anonymous",
         "rawType": "object",
         "type": "unknown"
        },
        {
         "name": "id_group_anonymous",
         "rawType": "object",
         "type": "string"
        },
        {
         "name": "media",
         "rawType": "object",
         "type": "unknown"
        },
        {
         "name": "media_type",
         "rawType": "object",
         "type": "unknown"
        },
        {
         "name": "media_url",
         "rawType": "object",
         "type": "unknown"
        },
        {
         "name": "has_media",
         "rawType": "bool",
         "type": "boolean"
        },
        {
         "name": "has_media_url",
         "rawType": "bool",
         "type": "boolean"
        },
        {
         "name": "trava_zap",
         "rawType": "bool",
         "type": "boolean"
        },
        {
         "name": "text_content_anonymous",
         "rawType": "object",
         "type": "unknown"
        },
        {
         "name": "dataset_info_id",
         "rawType": "int64",
         "type": "integer"
        },
        {
         "name": "date_system",
         "rawType": "object",
         "type": "string"
        },
        {
         "name": "score_sentiment",
         "rawType": "float64",
         "type": "float"
        },
        {
         "name": "score_misinformation",
         "rawType": "float64",
         "type": "float"
        },
        {
         "name": "id_message",
         "rawType": "int64",
         "type": "integer"
        },
        {
         "name": "message_type",
         "rawType": "object",
         "type": "string"
        },
        {
         "name": "messenger",
         "rawType": "object",
         "type": "string"
        },
        {
         "name": "media_name",
         "rawType": "object",
         "type": "unknown"
        },
        {
         "name": "media_md5",
         "rawType": "object",
         "type": "unknown"
        }
       ],
       "conversionMethod": "pd.DataFrame",
       "ref": "59f27733-4410-4711-bf76-9d6e1a8a201f",
       "rows": [
        [
         "21944",
         "2022-10-07 07:46:52",
         null,
         "c712c1b704c22bd0cef50bc06125cdbd",
         null,
         null,
         null,
         "False",
         "False",
         "True",
         null,
         "5",
         "2022-10-07 07:47:00.355052",
         "0.0",
         "0.0673443875506272",
         "53260",
         "Texto",
         "telegram",
         null,
         null
        ],
        [
         "89109",
         "2022-10-16 00:45:02",
         "8a30ac374bc4b5930eaf0667a178546a",
         "e56ec342fc599ebb4ed89655eb6f03aa",
         null,
         null,
         null,
         "False",
         "False",
         "True",
         null,
         "5",
         "2022-10-16 00:45:04.064662",
         "0.0",
         "0.0566984914818194",
         "521324",
         "Texto",
         "telegram",
         null,
         null
        ],
        [
         "294541",
         "2022-10-04 14:22:47",
         "39ee10516124280a22f1798f2a41f9a7",
         "959f13e0079883060632c74ffc81c547",
         null,
         null,
         null,
         "False",
         "False",
         "True",
         null,
         "5",
         "2022-10-04 14:22:48.808572",
         "0.9734",
         "0.0104332864074612",
         "27241",
         "Texto",
         "telegram",
         null,
         null
        ],
        [
         "324567",
         "2022-10-25 14:55:55",
         "e003fbb6ffedb1838e42360d41cab314",
         "5b10d7739171149be6d9961e3350c071",
         null,
         null,
         null,
         "False",
         "False",
         "True",
         null,
         "5",
         "2022-10-25 14:56:11.604972",
         "0.946",
         "0.4039453952841913",
         "1182938",
         "Texto",
         "telegram",
         null,
         null
        ],
        [
         "389164",
         "2022-10-30 20:19:52",
         null,
         "c8f2de56550ed0bf85249608b7ead93d",
         null,
         null,
         null,
         "False",
         "False",
         "True",
         null,
         "5",
         "2022-10-30 20:19:54.183578",
         "0.0",
         null,
         "28330",
         "Texto",
         "telegram",
         null,
         null
        ],
        [
         "423083",
         "2022-11-03 00:40:23",
         null,
         "4d3712f5a117e36180d4b4cbd07c540e",
         null,
         null,
         null,
         "False",
         "False",
         "True",
         null,
         "5",
         "2022-11-03 00:40:48.993091",
         "0.0",
         "0.0670261132372049",
         "171104",
         "Texto",
         "telegram",
         null,
         null
        ],
        [
         "466735",
         "2022-11-07 20:47:35",
         "4a498818da925377eff2606a260cfa45",
         "f61777908059b318385882ff47b15c33",
         null,
         null,
         null,
         "False",
         "False",
         "True",
         null,
         "5",
         "2022-11-07 20:48:16.653321",
         "0.0",
         "0.0361731638514227",
         "88890",
         "Texto",
         "telegram",
         null,
         null
        ],
        [
         "467297",
         "2022-11-08 10:07:14",
         "4a498818da925377eff2606a260cfa45",
         "f61777908059b318385882ff47b15c33",
         null,
         null,
         null,
         "False",
         "False",
         "True",
         null,
         "5",
         "2022-11-08 10:07:25.260375",
         "0.0",
         "0.0726366073020412",
         "88977",
         "Texto",
         "telegram",
         null,
         null
        ],
        [
         "471273",
         "2022-11-08 20:37:52",
         "4a498818da925377eff2606a260cfa45",
         "f61777908059b318385882ff47b15c33",
         null,
         null,
         null,
         "False",
         "False",
         "True",
         null,
         "5",
         "2022-11-08 20:38:02.773746",
         "0.0",
         "0.0319726092884596",
         "89039",
         "Texto",
         "telegram",
         null,
         null
        ],
        [
         "478270",
         "2022-11-09 19:50:12",
         "4a498818da925377eff2606a260cfa45",
         "f61777908059b318385882ff47b15c33",
         null,
         null,
         null,
         "False",
         "False",
         "True",
         null,
         "5",
         "2022-11-09 19:50:36.039894",
         "0.0",
         "0.029650851225105",
         "89212",
         "Texto",
         "telegram",
         null,
         null
        ],
        [
         "483425",
         "2022-11-10 02:28:43",
         "4a498818da925377eff2606a260cfa45",
         "f61777908059b318385882ff47b15c33",
         null,
         null,
         null,
         "False",
         "False",
         "True",
         null,
         "5",
         "2022-11-10 02:28:52.927707",
         "0.0",
         "0.0699282385550075",
         "89295",
         "Texto",
         "telegram",
         null,
         null
        ],
        [
         "489757",
         "2022-11-10 20:55:00",
         "4a498818da925377eff2606a260cfa45",
         "f61777908059b318385882ff47b15c33",
         null,
         null,
         null,
         "False",
         "False",
         "True",
         null,
         "5",
         "2022-11-10 20:55:14.406143",
         "0.0",
         "0.2231615977977298",
         "89499",
         "Texto",
         "telegram",
         null,
         null
        ],
        [
         "489758",
         "2022-11-10 20:55:01",
         "4a498818da925377eff2606a260cfa45",
         "f61777908059b318385882ff47b15c33",
         null,
         null,
         null,
         "False",
         "False",
         "True",
         null,
         "5",
         "2022-11-10 20:55:14.483805",
         "0.0",
         null,
         "89500",
         "Texto",
         "telegram",
         null,
         null
        ],
        [
         "492781",
         "2022-11-11 09:50:37",
         "4a498818da925377eff2606a260cfa45",
         "f61777908059b318385882ff47b15c33",
         null,
         null,
         null,
         "False",
         "False",
         "True",
         null,
         "5",
         "2022-11-11 09:51:00.430983",
         "0.0",
         "0.0470488960541954",
         "89642",
         "Texto",
         "telegram",
         null,
         null
        ],
        [
         "493561",
         "2022-11-09 06:37:51",
         "4a498818da925377eff2606a260cfa45",
         "f61777908059b318385882ff47b15c33",
         null,
         null,
         null,
         "False",
         "False",
         "True",
         null,
         "5",
         "2022-11-09 06:38:01.682092",
         "0.0",
         "0.0957441387162458",
         "89154",
         "Texto",
         "telegram",
         null,
         null
        ],
        [
         "493663",
         "2022-11-09 07:48:24",
         null,
         "a26d427bec046513e600d165e98660ae",
         "d4c34e18a0d3fc82051327e81f0afa7a.jpg",
         "image/jpg",
         null,
         "True",
         "False",
         "True",
         null,
         "5",
         "2022-11-09 07:48:26.392779",
         "0.0",
         "0.1832856718543782",
         "6276",
         "Imagem",
         "telegram",
         null,
         "d4c34e18a0d3fc82051327e81f0afa7a"
        ]
       ],
       "shape": {
        "columns": 19,
        "rows": 16
       }
      },
      "text/html": [
       "<div>\n",
       "<style scoped>\n",
       "    .dataframe tbody tr th:only-of-type {\n",
       "        vertical-align: middle;\n",
       "    }\n",
       "\n",
       "    .dataframe tbody tr th {\n",
       "        vertical-align: top;\n",
       "    }\n",
       "\n",
       "    .dataframe thead th {\n",
       "        text-align: right;\n",
       "    }\n",
       "</style>\n",
       "<table border=\"1\" class=\"dataframe\">\n",
       "  <thead>\n",
       "    <tr style=\"text-align: right;\">\n",
       "      <th></th>\n",
       "      <th>date_message</th>\n",
       "      <th>id_member_anonymous</th>\n",
       "      <th>id_group_anonymous</th>\n",
       "      <th>media</th>\n",
       "      <th>media_type</th>\n",
       "      <th>media_url</th>\n",
       "      <th>has_media</th>\n",
       "      <th>has_media_url</th>\n",
       "      <th>trava_zap</th>\n",
       "      <th>text_content_anonymous</th>\n",
       "      <th>dataset_info_id</th>\n",
       "      <th>date_system</th>\n",
       "      <th>score_sentiment</th>\n",
       "      <th>score_misinformation</th>\n",
       "      <th>id_message</th>\n",
       "      <th>message_type</th>\n",
       "      <th>messenger</th>\n",
       "      <th>media_name</th>\n",
       "      <th>media_md5</th>\n",
       "    </tr>\n",
       "  </thead>\n",
       "  <tbody>\n",
       "    <tr>\n",
       "      <th>21944</th>\n",
       "      <td>2022-10-07 07:46:52</td>\n",
       "      <td>NaN</td>\n",
       "      <td>c712c1b704c22bd0cef50bc06125cdbd</td>\n",
       "      <td>NaN</td>\n",
       "      <td>NaN</td>\n",
       "      <td>NaN</td>\n",
       "      <td>False</td>\n",
       "      <td>False</td>\n",
       "      <td>True</td>\n",
       "      <td>NaN</td>\n",
       "      <td>5</td>\n",
       "      <td>2022-10-07 07:47:00.355052</td>\n",
       "      <td>0.0000</td>\n",
       "      <td>0.067344</td>\n",
       "      <td>53260</td>\n",
       "      <td>Texto</td>\n",
       "      <td>telegram</td>\n",
       "      <td>NaN</td>\n",
       "      <td>NaN</td>\n",
       "    </tr>\n",
       "    <tr>\n",
       "      <th>89109</th>\n",
       "      <td>2022-10-16 00:45:02</td>\n",
       "      <td>8a30ac374bc4b5930eaf0667a178546a</td>\n",
       "      <td>e56ec342fc599ebb4ed89655eb6f03aa</td>\n",
       "      <td>NaN</td>\n",
       "      <td>NaN</td>\n",
       "      <td>NaN</td>\n",
       "      <td>False</td>\n",
       "      <td>False</td>\n",
       "      <td>True</td>\n",
       "      <td>NaN</td>\n",
       "      <td>5</td>\n",
       "      <td>2022-10-16 00:45:04.064662</td>\n",
       "      <td>0.0000</td>\n",
       "      <td>0.056698</td>\n",
       "      <td>521324</td>\n",
       "      <td>Texto</td>\n",
       "      <td>telegram</td>\n",
       "      <td>NaN</td>\n",
       "      <td>NaN</td>\n",
       "    </tr>\n",
       "    <tr>\n",
       "      <th>294541</th>\n",
       "      <td>2022-10-04 14:22:47</td>\n",
       "      <td>39ee10516124280a22f1798f2a41f9a7</td>\n",
       "      <td>959f13e0079883060632c74ffc81c547</td>\n",
       "      <td>NaN</td>\n",
       "      <td>NaN</td>\n",
       "      <td>NaN</td>\n",
       "      <td>False</td>\n",
       "      <td>False</td>\n",
       "      <td>True</td>\n",
       "      <td>NaN</td>\n",
       "      <td>5</td>\n",
       "      <td>2022-10-04 14:22:48.808572</td>\n",
       "      <td>0.9734</td>\n",
       "      <td>0.010433</td>\n",
       "      <td>27241</td>\n",
       "      <td>Texto</td>\n",
       "      <td>telegram</td>\n",
       "      <td>NaN</td>\n",
       "      <td>NaN</td>\n",
       "    </tr>\n",
       "    <tr>\n",
       "      <th>324567</th>\n",
       "      <td>2022-10-25 14:55:55</td>\n",
       "      <td>e003fbb6ffedb1838e42360d41cab314</td>\n",
       "      <td>5b10d7739171149be6d9961e3350c071</td>\n",
       "      <td>NaN</td>\n",
       "      <td>NaN</td>\n",
       "      <td>NaN</td>\n",
       "      <td>False</td>\n",
       "      <td>False</td>\n",
       "      <td>True</td>\n",
       "      <td>NaN</td>\n",
       "      <td>5</td>\n",
       "      <td>2022-10-25 14:56:11.604972</td>\n",
       "      <td>0.9460</td>\n",
       "      <td>0.403945</td>\n",
       "      <td>1182938</td>\n",
       "      <td>Texto</td>\n",
       "      <td>telegram</td>\n",
       "      <td>NaN</td>\n",
       "      <td>NaN</td>\n",
       "    </tr>\n",
       "    <tr>\n",
       "      <th>389164</th>\n",
       "      <td>2022-10-30 20:19:52</td>\n",
       "      <td>NaN</td>\n",
       "      <td>c8f2de56550ed0bf85249608b7ead93d</td>\n",
       "      <td>NaN</td>\n",
       "      <td>NaN</td>\n",
       "      <td>NaN</td>\n",
       "      <td>False</td>\n",
       "      <td>False</td>\n",
       "      <td>True</td>\n",
       "      <td>NaN</td>\n",
       "      <td>5</td>\n",
       "      <td>2022-10-30 20:19:54.183578</td>\n",
       "      <td>0.0000</td>\n",
       "      <td>NaN</td>\n",
       "      <td>28330</td>\n",
       "      <td>Texto</td>\n",
       "      <td>telegram</td>\n",
       "      <td>NaN</td>\n",
       "      <td>NaN</td>\n",
       "    </tr>\n",
       "    <tr>\n",
       "      <th>423083</th>\n",
       "      <td>2022-11-03 00:40:23</td>\n",
       "      <td>NaN</td>\n",
       "      <td>4d3712f5a117e36180d4b4cbd07c540e</td>\n",
       "      <td>NaN</td>\n",
       "      <td>NaN</td>\n",
       "      <td>NaN</td>\n",
       "      <td>False</td>\n",
       "      <td>False</td>\n",
       "      <td>True</td>\n",
       "      <td>NaN</td>\n",
       "      <td>5</td>\n",
       "      <td>2022-11-03 00:40:48.993091</td>\n",
       "      <td>0.0000</td>\n",
       "      <td>0.067026</td>\n",
       "      <td>171104</td>\n",
       "      <td>Texto</td>\n",
       "      <td>telegram</td>\n",
       "      <td>NaN</td>\n",
       "      <td>NaN</td>\n",
       "    </tr>\n",
       "    <tr>\n",
       "      <th>466735</th>\n",
       "      <td>2022-11-07 20:47:35</td>\n",
       "      <td>4a498818da925377eff2606a260cfa45</td>\n",
       "      <td>f61777908059b318385882ff47b15c33</td>\n",
       "      <td>NaN</td>\n",
       "      <td>NaN</td>\n",
       "      <td>NaN</td>\n",
       "      <td>False</td>\n",
       "      <td>False</td>\n",
       "      <td>True</td>\n",
       "      <td>NaN</td>\n",
       "      <td>5</td>\n",
       "      <td>2022-11-07 20:48:16.653321</td>\n",
       "      <td>0.0000</td>\n",
       "      <td>0.036173</td>\n",
       "      <td>88890</td>\n",
       "      <td>Texto</td>\n",
       "      <td>telegram</td>\n",
       "      <td>NaN</td>\n",
       "      <td>NaN</td>\n",
       "    </tr>\n",
       "    <tr>\n",
       "      <th>467297</th>\n",
       "      <td>2022-11-08 10:07:14</td>\n",
       "      <td>4a498818da925377eff2606a260cfa45</td>\n",
       "      <td>f61777908059b318385882ff47b15c33</td>\n",
       "      <td>NaN</td>\n",
       "      <td>NaN</td>\n",
       "      <td>NaN</td>\n",
       "      <td>False</td>\n",
       "      <td>False</td>\n",
       "      <td>True</td>\n",
       "      <td>NaN</td>\n",
       "      <td>5</td>\n",
       "      <td>2022-11-08 10:07:25.260375</td>\n",
       "      <td>0.0000</td>\n",
       "      <td>0.072637</td>\n",
       "      <td>88977</td>\n",
       "      <td>Texto</td>\n",
       "      <td>telegram</td>\n",
       "      <td>NaN</td>\n",
       "      <td>NaN</td>\n",
       "    </tr>\n",
       "    <tr>\n",
       "      <th>471273</th>\n",
       "      <td>2022-11-08 20:37:52</td>\n",
       "      <td>4a498818da925377eff2606a260cfa45</td>\n",
       "      <td>f61777908059b318385882ff47b15c33</td>\n",
       "      <td>NaN</td>\n",
       "      <td>NaN</td>\n",
       "      <td>NaN</td>\n",
       "      <td>False</td>\n",
       "      <td>False</td>\n",
       "      <td>True</td>\n",
       "      <td>NaN</td>\n",
       "      <td>5</td>\n",
       "      <td>2022-11-08 20:38:02.773746</td>\n",
       "      <td>0.0000</td>\n",
       "      <td>0.031973</td>\n",
       "      <td>89039</td>\n",
       "      <td>Texto</td>\n",
       "      <td>telegram</td>\n",
       "      <td>NaN</td>\n",
       "      <td>NaN</td>\n",
       "    </tr>\n",
       "    <tr>\n",
       "      <th>478270</th>\n",
       "      <td>2022-11-09 19:50:12</td>\n",
       "      <td>4a498818da925377eff2606a260cfa45</td>\n",
       "      <td>f61777908059b318385882ff47b15c33</td>\n",
       "      <td>NaN</td>\n",
       "      <td>NaN</td>\n",
       "      <td>NaN</td>\n",
       "      <td>False</td>\n",
       "      <td>False</td>\n",
       "      <td>True</td>\n",
       "      <td>NaN</td>\n",
       "      <td>5</td>\n",
       "      <td>2022-11-09 19:50:36.039894</td>\n",
       "      <td>0.0000</td>\n",
       "      <td>0.029651</td>\n",
       "      <td>89212</td>\n",
       "      <td>Texto</td>\n",
       "      <td>telegram</td>\n",
       "      <td>NaN</td>\n",
       "      <td>NaN</td>\n",
       "    </tr>\n",
       "    <tr>\n",
       "      <th>483425</th>\n",
       "      <td>2022-11-10 02:28:43</td>\n",
       "      <td>4a498818da925377eff2606a260cfa45</td>\n",
       "      <td>f61777908059b318385882ff47b15c33</td>\n",
       "      <td>NaN</td>\n",
       "      <td>NaN</td>\n",
       "      <td>NaN</td>\n",
       "      <td>False</td>\n",
       "      <td>False</td>\n",
       "      <td>True</td>\n",
       "      <td>NaN</td>\n",
       "      <td>5</td>\n",
       "      <td>2022-11-10 02:28:52.927707</td>\n",
       "      <td>0.0000</td>\n",
       "      <td>0.069928</td>\n",
       "      <td>89295</td>\n",
       "      <td>Texto</td>\n",
       "      <td>telegram</td>\n",
       "      <td>NaN</td>\n",
       "      <td>NaN</td>\n",
       "    </tr>\n",
       "    <tr>\n",
       "      <th>489757</th>\n",
       "      <td>2022-11-10 20:55:00</td>\n",
       "      <td>4a498818da925377eff2606a260cfa45</td>\n",
       "      <td>f61777908059b318385882ff47b15c33</td>\n",
       "      <td>NaN</td>\n",
       "      <td>NaN</td>\n",
       "      <td>NaN</td>\n",
       "      <td>False</td>\n",
       "      <td>False</td>\n",
       "      <td>True</td>\n",
       "      <td>NaN</td>\n",
       "      <td>5</td>\n",
       "      <td>2022-11-10 20:55:14.406143</td>\n",
       "      <td>0.0000</td>\n",
       "      <td>0.223162</td>\n",
       "      <td>89499</td>\n",
       "      <td>Texto</td>\n",
       "      <td>telegram</td>\n",
       "      <td>NaN</td>\n",
       "      <td>NaN</td>\n",
       "    </tr>\n",
       "    <tr>\n",
       "      <th>489758</th>\n",
       "      <td>2022-11-10 20:55:01</td>\n",
       "      <td>4a498818da925377eff2606a260cfa45</td>\n",
       "      <td>f61777908059b318385882ff47b15c33</td>\n",
       "      <td>NaN</td>\n",
       "      <td>NaN</td>\n",
       "      <td>NaN</td>\n",
       "      <td>False</td>\n",
       "      <td>False</td>\n",
       "      <td>True</td>\n",
       "      <td>NaN</td>\n",
       "      <td>5</td>\n",
       "      <td>2022-11-10 20:55:14.483805</td>\n",
       "      <td>0.0000</td>\n",
       "      <td>NaN</td>\n",
       "      <td>89500</td>\n",
       "      <td>Texto</td>\n",
       "      <td>telegram</td>\n",
       "      <td>NaN</td>\n",
       "      <td>NaN</td>\n",
       "    </tr>\n",
       "    <tr>\n",
       "      <th>492781</th>\n",
       "      <td>2022-11-11 09:50:37</td>\n",
       "      <td>4a498818da925377eff2606a260cfa45</td>\n",
       "      <td>f61777908059b318385882ff47b15c33</td>\n",
       "      <td>NaN</td>\n",
       "      <td>NaN</td>\n",
       "      <td>NaN</td>\n",
       "      <td>False</td>\n",
       "      <td>False</td>\n",
       "      <td>True</td>\n",
       "      <td>NaN</td>\n",
       "      <td>5</td>\n",
       "      <td>2022-11-11 09:51:00.430983</td>\n",
       "      <td>0.0000</td>\n",
       "      <td>0.047049</td>\n",
       "      <td>89642</td>\n",
       "      <td>Texto</td>\n",
       "      <td>telegram</td>\n",
       "      <td>NaN</td>\n",
       "      <td>NaN</td>\n",
       "    </tr>\n",
       "    <tr>\n",
       "      <th>493561</th>\n",
       "      <td>2022-11-09 06:37:51</td>\n",
       "      <td>4a498818da925377eff2606a260cfa45</td>\n",
       "      <td>f61777908059b318385882ff47b15c33</td>\n",
       "      <td>NaN</td>\n",
       "      <td>NaN</td>\n",
       "      <td>NaN</td>\n",
       "      <td>False</td>\n",
       "      <td>False</td>\n",
       "      <td>True</td>\n",
       "      <td>NaN</td>\n",
       "      <td>5</td>\n",
       "      <td>2022-11-09 06:38:01.682092</td>\n",
       "      <td>0.0000</td>\n",
       "      <td>0.095744</td>\n",
       "      <td>89154</td>\n",
       "      <td>Texto</td>\n",
       "      <td>telegram</td>\n",
       "      <td>NaN</td>\n",
       "      <td>NaN</td>\n",
       "    </tr>\n",
       "    <tr>\n",
       "      <th>493663</th>\n",
       "      <td>2022-11-09 07:48:24</td>\n",
       "      <td>NaN</td>\n",
       "      <td>a26d427bec046513e600d165e98660ae</td>\n",
       "      <td>d4c34e18a0d3fc82051327e81f0afa7a.jpg</td>\n",
       "      <td>image/jpg</td>\n",
       "      <td>NaN</td>\n",
       "      <td>True</td>\n",
       "      <td>False</td>\n",
       "      <td>True</td>\n",
       "      <td>NaN</td>\n",
       "      <td>5</td>\n",
       "      <td>2022-11-09 07:48:26.392779</td>\n",
       "      <td>0.0000</td>\n",
       "      <td>0.183286</td>\n",
       "      <td>6276</td>\n",
       "      <td>Imagem</td>\n",
       "      <td>telegram</td>\n",
       "      <td>NaN</td>\n",
       "      <td>d4c34e18a0d3fc82051327e81f0afa7a</td>\n",
       "    </tr>\n",
       "  </tbody>\n",
       "</table>\n",
       "</div>"
      ],
      "text/plain": [
       "               date_message               id_member_anonymous  \\\n",
       "21944   2022-10-07 07:46:52                               NaN   \n",
       "89109   2022-10-16 00:45:02  8a30ac374bc4b5930eaf0667a178546a   \n",
       "294541  2022-10-04 14:22:47  39ee10516124280a22f1798f2a41f9a7   \n",
       "324567  2022-10-25 14:55:55  e003fbb6ffedb1838e42360d41cab314   \n",
       "389164  2022-10-30 20:19:52                               NaN   \n",
       "423083  2022-11-03 00:40:23                               NaN   \n",
       "466735  2022-11-07 20:47:35  4a498818da925377eff2606a260cfa45   \n",
       "467297  2022-11-08 10:07:14  4a498818da925377eff2606a260cfa45   \n",
       "471273  2022-11-08 20:37:52  4a498818da925377eff2606a260cfa45   \n",
       "478270  2022-11-09 19:50:12  4a498818da925377eff2606a260cfa45   \n",
       "483425  2022-11-10 02:28:43  4a498818da925377eff2606a260cfa45   \n",
       "489757  2022-11-10 20:55:00  4a498818da925377eff2606a260cfa45   \n",
       "489758  2022-11-10 20:55:01  4a498818da925377eff2606a260cfa45   \n",
       "492781  2022-11-11 09:50:37  4a498818da925377eff2606a260cfa45   \n",
       "493561  2022-11-09 06:37:51  4a498818da925377eff2606a260cfa45   \n",
       "493663  2022-11-09 07:48:24                               NaN   \n",
       "\n",
       "                      id_group_anonymous  \\\n",
       "21944   c712c1b704c22bd0cef50bc06125cdbd   \n",
       "89109   e56ec342fc599ebb4ed89655eb6f03aa   \n",
       "294541  959f13e0079883060632c74ffc81c547   \n",
       "324567  5b10d7739171149be6d9961e3350c071   \n",
       "389164  c8f2de56550ed0bf85249608b7ead93d   \n",
       "423083  4d3712f5a117e36180d4b4cbd07c540e   \n",
       "466735  f61777908059b318385882ff47b15c33   \n",
       "467297  f61777908059b318385882ff47b15c33   \n",
       "471273  f61777908059b318385882ff47b15c33   \n",
       "478270  f61777908059b318385882ff47b15c33   \n",
       "483425  f61777908059b318385882ff47b15c33   \n",
       "489757  f61777908059b318385882ff47b15c33   \n",
       "489758  f61777908059b318385882ff47b15c33   \n",
       "492781  f61777908059b318385882ff47b15c33   \n",
       "493561  f61777908059b318385882ff47b15c33   \n",
       "493663  a26d427bec046513e600d165e98660ae   \n",
       "\n",
       "                                       media media_type media_url  has_media  \\\n",
       "21944                                    NaN        NaN       NaN      False   \n",
       "89109                                    NaN        NaN       NaN      False   \n",
       "294541                                   NaN        NaN       NaN      False   \n",
       "324567                                   NaN        NaN       NaN      False   \n",
       "389164                                   NaN        NaN       NaN      False   \n",
       "423083                                   NaN        NaN       NaN      False   \n",
       "466735                                   NaN        NaN       NaN      False   \n",
       "467297                                   NaN        NaN       NaN      False   \n",
       "471273                                   NaN        NaN       NaN      False   \n",
       "478270                                   NaN        NaN       NaN      False   \n",
       "483425                                   NaN        NaN       NaN      False   \n",
       "489757                                   NaN        NaN       NaN      False   \n",
       "489758                                   NaN        NaN       NaN      False   \n",
       "492781                                   NaN        NaN       NaN      False   \n",
       "493561                                   NaN        NaN       NaN      False   \n",
       "493663  d4c34e18a0d3fc82051327e81f0afa7a.jpg  image/jpg       NaN       True   \n",
       "\n",
       "        has_media_url  trava_zap text_content_anonymous  dataset_info_id  \\\n",
       "21944           False       True                    NaN                5   \n",
       "89109           False       True                    NaN                5   \n",
       "294541          False       True                    NaN                5   \n",
       "324567          False       True                    NaN                5   \n",
       "389164          False       True                    NaN                5   \n",
       "423083          False       True                    NaN                5   \n",
       "466735          False       True                    NaN                5   \n",
       "467297          False       True                    NaN                5   \n",
       "471273          False       True                    NaN                5   \n",
       "478270          False       True                    NaN                5   \n",
       "483425          False       True                    NaN                5   \n",
       "489757          False       True                    NaN                5   \n",
       "489758          False       True                    NaN                5   \n",
       "492781          False       True                    NaN                5   \n",
       "493561          False       True                    NaN                5   \n",
       "493663          False       True                    NaN                5   \n",
       "\n",
       "                       date_system  score_sentiment  score_misinformation  \\\n",
       "21944   2022-10-07 07:47:00.355052           0.0000              0.067344   \n",
       "89109   2022-10-16 00:45:04.064662           0.0000              0.056698   \n",
       "294541  2022-10-04 14:22:48.808572           0.9734              0.010433   \n",
       "324567  2022-10-25 14:56:11.604972           0.9460              0.403945   \n",
       "389164  2022-10-30 20:19:54.183578           0.0000                   NaN   \n",
       "423083  2022-11-03 00:40:48.993091           0.0000              0.067026   \n",
       "466735  2022-11-07 20:48:16.653321           0.0000              0.036173   \n",
       "467297  2022-11-08 10:07:25.260375           0.0000              0.072637   \n",
       "471273  2022-11-08 20:38:02.773746           0.0000              0.031973   \n",
       "478270  2022-11-09 19:50:36.039894           0.0000              0.029651   \n",
       "483425  2022-11-10 02:28:52.927707           0.0000              0.069928   \n",
       "489757  2022-11-10 20:55:14.406143           0.0000              0.223162   \n",
       "489758  2022-11-10 20:55:14.483805           0.0000                   NaN   \n",
       "492781  2022-11-11 09:51:00.430983           0.0000              0.047049   \n",
       "493561  2022-11-09 06:38:01.682092           0.0000              0.095744   \n",
       "493663  2022-11-09 07:48:26.392779           0.0000              0.183286   \n",
       "\n",
       "        id_message message_type messenger media_name  \\\n",
       "21944        53260        Texto  telegram        NaN   \n",
       "89109       521324        Texto  telegram        NaN   \n",
       "294541       27241        Texto  telegram        NaN   \n",
       "324567     1182938        Texto  telegram        NaN   \n",
       "389164       28330        Texto  telegram        NaN   \n",
       "423083      171104        Texto  telegram        NaN   \n",
       "466735       88890        Texto  telegram        NaN   \n",
       "467297       88977        Texto  telegram        NaN   \n",
       "471273       89039        Texto  telegram        NaN   \n",
       "478270       89212        Texto  telegram        NaN   \n",
       "483425       89295        Texto  telegram        NaN   \n",
       "489757       89499        Texto  telegram        NaN   \n",
       "489758       89500        Texto  telegram        NaN   \n",
       "492781       89642        Texto  telegram        NaN   \n",
       "493561       89154        Texto  telegram        NaN   \n",
       "493663        6276       Imagem  telegram        NaN   \n",
       "\n",
       "                               media_md5  \n",
       "21944                                NaN  \n",
       "89109                                NaN  \n",
       "294541                               NaN  \n",
       "324567                               NaN  \n",
       "389164                               NaN  \n",
       "423083                               NaN  \n",
       "466735                               NaN  \n",
       "467297                               NaN  \n",
       "471273                               NaN  \n",
       "478270                               NaN  \n",
       "483425                               NaN  \n",
       "489757                               NaN  \n",
       "489758                               NaN  \n",
       "492781                               NaN  \n",
       "493561                               NaN  \n",
       "493663  d4c34e18a0d3fc82051327e81f0afa7a  "
      ]
     },
     "metadata": {},
     "output_type": "display_data"
    }
   ],
   "source": [
    "# Relatório final\n",
    "print(\"\\033[1mRelatório de Remoção:\\033[0m\")\n",
    "print(f\"• Registros originais: {len(df_inicial):,}\")\n",
    "print(f\"• Registros removidos: {trava_dist.get(True, 0):,}\")\n",
    "print(f\"• Registros restantes: {len(df_sem_trava_zap):,}\") \n",
    "\n",
    "# Visualização dos dados que foram removidos\n",
    "if trava_dist.get(True, 0) > 0:\n",
    "    display(\n",
    "        df_inicial[df_inicial['trava_zap'] == True].head(16)  \n",
    "    )"
   ]
  },
  {
   "cell_type": "markdown",
   "id": "56a44796",
   "metadata": {},
   "source": [
    "---"
   ]
  },
  {
   "cell_type": "markdown",
   "id": "68a7b840",
   "metadata": {},
   "source": [
    "### **(c)** Exportar os dados para um arquivo Parquet. "
   ]
  },
  {
   "cell_type": "markdown",
   "id": "8eef4cf0",
   "metadata": {},
   "source": [
    "Existe um método do pandas chamado `to_parquet`, sendo a forma mais eficiente de exportar DataFrames para o formato Parquet. Sua sintaxe básica inclui dois parâmetros essenciais:\n",
    "\n",
    "```bash\n",
    "df.to_parquet(\n",
    "    path='dados.parquet',  # Caminho do arquivo de saída\n",
    "    engine='auto'         # Motor de processamento (pyarrow/fastparquet)\n",
    ")\n",
    "```\n",
    "\n",
    "**Observação**: O `engine='auto'` deixa o Pandas escolher automaticamente o motor disponível (geralmente PyArrow ou Fastparquet), mas eu costumo usar o pyarrow explicitamente porque ele é mais estável e tem suporte a mais funcionalidades. Além disso, ele permite leitura e escrita super rápidas, e mantém os tipos de dados de forma mais fiel."
   ]
  },
  {
   "cell_type": "code",
   "execution_count": 10,
   "id": "1aa3607b",
   "metadata": {},
   "outputs": [],
   "source": [
    "df_sem_trava_zap.to_parquet('fakeTelegram.BR_2022_filtrado.parquet', engine='pyarrow')"
   ]
  },
  {
   "cell_type": "markdown",
   "id": "8a4557a1",
   "metadata": {},
   "source": [
    "---"
   ]
  },
  {
   "cell_type": "markdown",
   "id": "254f46dd",
   "metadata": {},
   "source": [
    "### **(d)** Exportar os dados para o DuckDB. "
   ]
  },
  {
   "cell_type": "markdown",
   "id": "c753dc55",
   "metadata": {},
   "source": [
    "Nesta etapa, exportei o DataFrame anterior para um banco de dados DuckDB, que é um sistema de gerenciamento de banco de dados analítico leve e embutido. Com isso, realizei alguns passos importantes.\n",
    "\n",
    "Primeiramente, fiz a instalação e a importação do DuckDB:"
   ]
  },
  {
   "cell_type": "code",
   "execution_count": 7,
   "id": "ce131db5",
   "metadata": {},
   "outputs": [],
   "source": [
    "# !pip install duckdb -- Apenas se ainda não estiver instalado\n",
    "import duckdb"
   ]
  },
  {
   "cell_type": "markdown",
   "id": "8160d57a",
   "metadata": {},
   "source": [
    "Criação (ou conexão) com o banco DuckDB:"
   ]
  },
  {
   "cell_type": "code",
   "execution_count": 8,
   "id": "45f602de",
   "metadata": {},
   "outputs": [],
   "source": [
    "conn = duckdb.connect(\"fakeTelegram.BR_2022_dados.duckdb\") "
   ]
  },
  {
   "cell_type": "markdown",
   "id": "ba50e464",
   "metadata": {},
   "source": [
    "Exportação do `df_sem_trava_zap` para uma tabela do banco:"
   ]
  },
  {
   "cell_type": "code",
   "execution_count": 9,
   "id": "0d44cdb4",
   "metadata": {},
   "outputs": [
    {
     "data": {
      "application/vnd.jupyter.widget-view+json": {
       "model_id": "3c9fc50af1504a5fb5d8e30a75e50561",
       "version_major": 2,
       "version_minor": 0
      },
      "text/plain": [
       "FloatProgress(value=0.0, layout=Layout(width='auto'), style=ProgressStyle(bar_color='black'))"
      ]
     },
     "metadata": {},
     "output_type": "display_data"
    },
    {
     "data": {
      "text/plain": [
       "<duckdb.duckdb.DuckDBPyConnection at 0x14a88e0f5b0>"
      ]
     },
     "execution_count": 9,
     "metadata": {},
     "output_type": "execute_result"
    }
   ],
   "source": [
    "conn.register(\"df_sem_trava_zap\", df_sem_trava_zap)  # Registra o DataFrame como uma \"tabela temporária\"\n",
    "conn.execute(\"CREATE TABLE IF NOT EXISTS tabela_dados AS SELECT * FROM df_sem_trava_zap\")  # Exporta os dados"
   ]
  },
  {
   "cell_type": "markdown",
   "id": "8e317edf",
   "metadata": {},
   "source": [
    "Verificação dos dados no banco:"
   ]
  },
  {
   "cell_type": "code",
   "execution_count": 14,
   "id": "35a7f718",
   "metadata": {},
   "outputs": [
    {
     "data": {
      "application/vnd.microsoft.datawrangler.viewer.v0+json": {
       "columns": [
        {
         "name": "index",
         "rawType": "int64",
         "type": "integer"
        },
        {
         "name": "date_message",
         "rawType": "object",
         "type": "string"
        },
        {
         "name": "id_member_anonymous",
         "rawType": "object",
         "type": "unknown"
        },
        {
         "name": "id_group_anonymous",
         "rawType": "object",
         "type": "string"
        },
        {
         "name": "media",
         "rawType": "object",
         "type": "unknown"
        },
        {
         "name": "media_type",
         "rawType": "object",
         "type": "unknown"
        },
        {
         "name": "media_url",
         "rawType": "object",
         "type": "unknown"
        },
        {
         "name": "has_media",
         "rawType": "bool",
         "type": "boolean"
        },
        {
         "name": "has_media_url",
         "rawType": "bool",
         "type": "boolean"
        },
        {
         "name": "trava_zap",
         "rawType": "bool",
         "type": "boolean"
        },
        {
         "name": "text_content_anonymous",
         "rawType": "object",
         "type": "unknown"
        },
        {
         "name": "dataset_info_id",
         "rawType": "int64",
         "type": "integer"
        },
        {
         "name": "date_system",
         "rawType": "object",
         "type": "string"
        },
        {
         "name": "score_sentiment",
         "rawType": "float64",
         "type": "float"
        },
        {
         "name": "score_misinformation",
         "rawType": "float64",
         "type": "float"
        },
        {
         "name": "id_message",
         "rawType": "int64",
         "type": "integer"
        },
        {
         "name": "message_type",
         "rawType": "object",
         "type": "string"
        },
        {
         "name": "messenger",
         "rawType": "object",
         "type": "string"
        },
        {
         "name": "media_name",
         "rawType": "object",
         "type": "unknown"
        },
        {
         "name": "media_md5",
         "rawType": "object",
         "type": "unknown"
        }
       ],
       "conversionMethod": "pd.DataFrame",
       "ref": "ba58098a-9d58-4253-801b-db6557ae1fda",
       "rows": [
        [
         "0",
         "2022-10-05 06:25:04",
         "1078cc958f0febe28f4d03207660715f",
         "12283e08a2eb5789201e105b34489ee7",
         null,
         null,
         null,
         "False",
         "False",
         "False",
         "Então é Fato Renato o áudio que eu ouvi no whatsapp isso ocorreu em Niterói principalmente no bairro Fonseca ?",
         "5",
         "2022-10-05 06:25:28.863641",
         "0.0",
         null,
         "16385",
         "Texto",
         "telegram",
         null,
         null
        ],
        [
         "1",
         "2022-10-05 06:25:08",
         null,
         "12283e08a2eb5789201e105b34489ee7",
         null,
         null,
         null,
         "False",
         "False",
         "False",
         "Saiu no YouTube do presidente a 8 horas atrás, infelizmente não consigo enviar para cá, mas é facilmente verificável no YouTube do presidente",
         "5",
         "2022-10-05 06:25:28.926311",
         "0.0644",
         null,
         "16386",
         "Texto",
         "telegram",
         null,
         null
        ],
        [
         "2",
         "2022-10-05 06:26:28",
         "92a2d8fd7144074f659d1d29dc3751da",
         "9f2d7394334eb224c061c9740b5748fc",
         null,
         null,
         null,
         "False",
         "False",
         "False",
         "É isso, nossa parte já foi quase toda feita. No segundo turno completamos nossa parte desse teatro. Essa é uma guerra de 4* geração na dimensão humana e uma guerra espiritual do bem contra o mal na dimensão do Universo. Pensamento positivo é fundamental, pensem sempre em algo bom. Deus continua nos abençoando, nosso livre arbítrio completa o curso.",
         "5",
         "2022-10-05 06:26:29.361949",
         "-0.3551",
         "0.1572422223558243",
         "16366",
         "Texto",
         "telegram",
         null,
         null
        ],
        [
         "3",
         "2022-10-05 06:27:28",
         "d60aa38f62b4977426b70944af4aff72",
         "c8f2de56550ed0bf85249608b7ead93d",
         "94dca4cda503100ebfda7ce2bcc060eb.jpg",
         "image/jpg",
         null,
         "True",
         "False",
         "False",
         "GENTE ACHEI ELES EM UMA SEITA MAÇONÁRICA",
         "5",
         "2022-10-05 06:27:29.935624",
         "0.0",
         null,
         "19281",
         "Imagem",
         "telegram",
         null,
         "94dca4cda503100ebfda7ce2bcc060eb"
        ],
        [
         "4",
         "2022-10-05 06:27:44",
         "cd6979b0b5265f08468fa1689b6300ce",
         "e56ec342fc599ebb4ed89655eb6f03aa",
         "5ad5c8bbe9da93a37fecf3e5aa5b0637.jpg",
         "image/jpg",
         null,
         "True",
         "False",
         "False",
         null,
         "5",
         "2022-10-05 06:28:29.316325",
         null,
         null,
         "507185",
         "Imagem",
         "telegram",
         null,
         "5ad5c8bbe9da93a37fecf3e5aa5b0637"
        ]
       ],
       "shape": {
        "columns": 19,
        "rows": 5
       }
      },
      "text/html": [
       "<div>\n",
       "<style scoped>\n",
       "    .dataframe tbody tr th:only-of-type {\n",
       "        vertical-align: middle;\n",
       "    }\n",
       "\n",
       "    .dataframe tbody tr th {\n",
       "        vertical-align: top;\n",
       "    }\n",
       "\n",
       "    .dataframe thead th {\n",
       "        text-align: right;\n",
       "    }\n",
       "</style>\n",
       "<table border=\"1\" class=\"dataframe\">\n",
       "  <thead>\n",
       "    <tr style=\"text-align: right;\">\n",
       "      <th></th>\n",
       "      <th>date_message</th>\n",
       "      <th>id_member_anonymous</th>\n",
       "      <th>id_group_anonymous</th>\n",
       "      <th>media</th>\n",
       "      <th>media_type</th>\n",
       "      <th>media_url</th>\n",
       "      <th>has_media</th>\n",
       "      <th>has_media_url</th>\n",
       "      <th>trava_zap</th>\n",
       "      <th>text_content_anonymous</th>\n",
       "      <th>dataset_info_id</th>\n",
       "      <th>date_system</th>\n",
       "      <th>score_sentiment</th>\n",
       "      <th>score_misinformation</th>\n",
       "      <th>id_message</th>\n",
       "      <th>message_type</th>\n",
       "      <th>messenger</th>\n",
       "      <th>media_name</th>\n",
       "      <th>media_md5</th>\n",
       "    </tr>\n",
       "  </thead>\n",
       "  <tbody>\n",
       "    <tr>\n",
       "      <th>0</th>\n",
       "      <td>2022-10-05 06:25:04</td>\n",
       "      <td>1078cc958f0febe28f4d03207660715f</td>\n",
       "      <td>12283e08a2eb5789201e105b34489ee7</td>\n",
       "      <td>None</td>\n",
       "      <td>None</td>\n",
       "      <td>None</td>\n",
       "      <td>False</td>\n",
       "      <td>False</td>\n",
       "      <td>False</td>\n",
       "      <td>Então é Fato Renato o áudio que eu ouvi no wha...</td>\n",
       "      <td>5</td>\n",
       "      <td>2022-10-05 06:25:28.863641</td>\n",
       "      <td>0.0000</td>\n",
       "      <td>NaN</td>\n",
       "      <td>16385</td>\n",
       "      <td>Texto</td>\n",
       "      <td>telegram</td>\n",
       "      <td>None</td>\n",
       "      <td>None</td>\n",
       "    </tr>\n",
       "    <tr>\n",
       "      <th>1</th>\n",
       "      <td>2022-10-05 06:25:08</td>\n",
       "      <td>None</td>\n",
       "      <td>12283e08a2eb5789201e105b34489ee7</td>\n",
       "      <td>None</td>\n",
       "      <td>None</td>\n",
       "      <td>None</td>\n",
       "      <td>False</td>\n",
       "      <td>False</td>\n",
       "      <td>False</td>\n",
       "      <td>Saiu no YouTube do presidente a 8 horas atrás,...</td>\n",
       "      <td>5</td>\n",
       "      <td>2022-10-05 06:25:28.926311</td>\n",
       "      <td>0.0644</td>\n",
       "      <td>NaN</td>\n",
       "      <td>16386</td>\n",
       "      <td>Texto</td>\n",
       "      <td>telegram</td>\n",
       "      <td>None</td>\n",
       "      <td>None</td>\n",
       "    </tr>\n",
       "    <tr>\n",
       "      <th>2</th>\n",
       "      <td>2022-10-05 06:26:28</td>\n",
       "      <td>92a2d8fd7144074f659d1d29dc3751da</td>\n",
       "      <td>9f2d7394334eb224c061c9740b5748fc</td>\n",
       "      <td>None</td>\n",
       "      <td>None</td>\n",
       "      <td>None</td>\n",
       "      <td>False</td>\n",
       "      <td>False</td>\n",
       "      <td>False</td>\n",
       "      <td>É isso, nossa parte já foi quase toda feita. N...</td>\n",
       "      <td>5</td>\n",
       "      <td>2022-10-05 06:26:29.361949</td>\n",
       "      <td>-0.3551</td>\n",
       "      <td>0.157242</td>\n",
       "      <td>16366</td>\n",
       "      <td>Texto</td>\n",
       "      <td>telegram</td>\n",
       "      <td>None</td>\n",
       "      <td>None</td>\n",
       "    </tr>\n",
       "    <tr>\n",
       "      <th>3</th>\n",
       "      <td>2022-10-05 06:27:28</td>\n",
       "      <td>d60aa38f62b4977426b70944af4aff72</td>\n",
       "      <td>c8f2de56550ed0bf85249608b7ead93d</td>\n",
       "      <td>94dca4cda503100ebfda7ce2bcc060eb.jpg</td>\n",
       "      <td>image/jpg</td>\n",
       "      <td>None</td>\n",
       "      <td>True</td>\n",
       "      <td>False</td>\n",
       "      <td>False</td>\n",
       "      <td>GENTE ACHEI ELES EM UMA SEITA MAÇONÁRICA</td>\n",
       "      <td>5</td>\n",
       "      <td>2022-10-05 06:27:29.935624</td>\n",
       "      <td>0.0000</td>\n",
       "      <td>NaN</td>\n",
       "      <td>19281</td>\n",
       "      <td>Imagem</td>\n",
       "      <td>telegram</td>\n",
       "      <td>None</td>\n",
       "      <td>94dca4cda503100ebfda7ce2bcc060eb</td>\n",
       "    </tr>\n",
       "    <tr>\n",
       "      <th>4</th>\n",
       "      <td>2022-10-05 06:27:44</td>\n",
       "      <td>cd6979b0b5265f08468fa1689b6300ce</td>\n",
       "      <td>e56ec342fc599ebb4ed89655eb6f03aa</td>\n",
       "      <td>5ad5c8bbe9da93a37fecf3e5aa5b0637.jpg</td>\n",
       "      <td>image/jpg</td>\n",
       "      <td>None</td>\n",
       "      <td>True</td>\n",
       "      <td>False</td>\n",
       "      <td>False</td>\n",
       "      <td>None</td>\n",
       "      <td>5</td>\n",
       "      <td>2022-10-05 06:28:29.316325</td>\n",
       "      <td>NaN</td>\n",
       "      <td>NaN</td>\n",
       "      <td>507185</td>\n",
       "      <td>Imagem</td>\n",
       "      <td>telegram</td>\n",
       "      <td>None</td>\n",
       "      <td>5ad5c8bbe9da93a37fecf3e5aa5b0637</td>\n",
       "    </tr>\n",
       "  </tbody>\n",
       "</table>\n",
       "</div>"
      ],
      "text/plain": [
       "          date_message               id_member_anonymous  \\\n",
       "0  2022-10-05 06:25:04  1078cc958f0febe28f4d03207660715f   \n",
       "1  2022-10-05 06:25:08                              None   \n",
       "2  2022-10-05 06:26:28  92a2d8fd7144074f659d1d29dc3751da   \n",
       "3  2022-10-05 06:27:28  d60aa38f62b4977426b70944af4aff72   \n",
       "4  2022-10-05 06:27:44  cd6979b0b5265f08468fa1689b6300ce   \n",
       "\n",
       "                 id_group_anonymous                                 media  \\\n",
       "0  12283e08a2eb5789201e105b34489ee7                                  None   \n",
       "1  12283e08a2eb5789201e105b34489ee7                                  None   \n",
       "2  9f2d7394334eb224c061c9740b5748fc                                  None   \n",
       "3  c8f2de56550ed0bf85249608b7ead93d  94dca4cda503100ebfda7ce2bcc060eb.jpg   \n",
       "4  e56ec342fc599ebb4ed89655eb6f03aa  5ad5c8bbe9da93a37fecf3e5aa5b0637.jpg   \n",
       "\n",
       "  media_type media_url  has_media  has_media_url  trava_zap  \\\n",
       "0       None      None      False          False      False   \n",
       "1       None      None      False          False      False   \n",
       "2       None      None      False          False      False   \n",
       "3  image/jpg      None       True          False      False   \n",
       "4  image/jpg      None       True          False      False   \n",
       "\n",
       "                              text_content_anonymous  dataset_info_id  \\\n",
       "0  Então é Fato Renato o áudio que eu ouvi no wha...                5   \n",
       "1  Saiu no YouTube do presidente a 8 horas atrás,...                5   \n",
       "2  É isso, nossa parte já foi quase toda feita. N...                5   \n",
       "3           GENTE ACHEI ELES EM UMA SEITA MAÇONÁRICA                5   \n",
       "4                                               None                5   \n",
       "\n",
       "                  date_system  score_sentiment  score_misinformation  \\\n",
       "0  2022-10-05 06:25:28.863641           0.0000                   NaN   \n",
       "1  2022-10-05 06:25:28.926311           0.0644                   NaN   \n",
       "2  2022-10-05 06:26:29.361949          -0.3551              0.157242   \n",
       "3  2022-10-05 06:27:29.935624           0.0000                   NaN   \n",
       "4  2022-10-05 06:28:29.316325              NaN                   NaN   \n",
       "\n",
       "   id_message message_type messenger media_name  \\\n",
       "0       16385        Texto  telegram       None   \n",
       "1       16386        Texto  telegram       None   \n",
       "2       16366        Texto  telegram       None   \n",
       "3       19281       Imagem  telegram       None   \n",
       "4      507185       Imagem  telegram       None   \n",
       "\n",
       "                          media_md5  \n",
       "0                              None  \n",
       "1                              None  \n",
       "2                              None  \n",
       "3  94dca4cda503100ebfda7ce2bcc060eb  \n",
       "4  5ad5c8bbe9da93a37fecf3e5aa5b0637  "
      ]
     },
     "execution_count": 14,
     "metadata": {},
     "output_type": "execute_result"
    }
   ],
   "source": [
    "conn.execute(\"SELECT * FROM tabela_dados LIMIT 5\").fetchdf()"
   ]
  },
  {
   "cell_type": "markdown",
   "id": "a5c57fdf",
   "metadata": {},
   "source": [
    "Como os próximos itens são de recuperação de dados utilizando o DuckDB, não vamos encerrar a conexão neste item, mas sim no final do processo.\n",
    "\n",
    "---"
   ]
  },
  {
   "cell_type": "markdown",
   "id": "c6c42e58",
   "metadata": {},
   "source": [
    "### **(e)** Utlizando o DuckDB recupere:"
   ]
  },
  {
   "cell_type": "markdown",
   "id": "5a38a7fd",
   "metadata": {},
   "source": [
    "#### **1**. A quantidade de mensagens"
   ]
  },
  {
   "cell_type": "markdown",
   "id": "b8a5f8ce",
   "metadata": {},
   "source": [
    "Para resolver este item, podemos utilizar de consultas SQL. A primeira consulta realizada foi para contar o total de mensagens armazenadas na tabela `tabela_dados` do banco DuckDB. Cada linha da tabela representa uma mensagem única, enviada em grupos do Telegram relacionados ao contexto do dataset analisado.\n",
    "> A tabela `tabela_dados` contém **557.570 mensagens** e **19 atributos**, entre eles: `date_message`, `id_group_anonymous`, `has_media`, `trava_zap`, `text_content_anonymous`, entre outros que serão úteis nas análises a seguir."
   ]
  },
  {
   "cell_type": "code",
   "execution_count": 39,
   "id": "b28709c3",
   "metadata": {},
   "outputs": [
    {
     "data": {
      "application/vnd.microsoft.datawrangler.viewer.v0+json": {
       "columns": [
        {
         "name": "index",
         "rawType": "int64",
         "type": "integer"
        },
        {
         "name": "total_mensagens",
         "rawType": "int64",
         "type": "integer"
        }
       ],
       "conversionMethod": "pd.DataFrame",
       "ref": "513ba609-0e1f-459d-a2aa-cbc1beb7b0eb",
       "rows": [
        [
         "0",
         "557570"
        ]
       ],
       "shape": {
        "columns": 1,
        "rows": 1
       }
      },
      "text/html": [
       "<div>\n",
       "<style scoped>\n",
       "    .dataframe tbody tr th:only-of-type {\n",
       "        vertical-align: middle;\n",
       "    }\n",
       "\n",
       "    .dataframe tbody tr th {\n",
       "        vertical-align: top;\n",
       "    }\n",
       "\n",
       "    .dataframe thead th {\n",
       "        text-align: right;\n",
       "    }\n",
       "</style>\n",
       "<table border=\"1\" class=\"dataframe\">\n",
       "  <thead>\n",
       "    <tr style=\"text-align: right;\">\n",
       "      <th></th>\n",
       "      <th>total_mensagens</th>\n",
       "    </tr>\n",
       "  </thead>\n",
       "  <tbody>\n",
       "    <tr>\n",
       "      <th>0</th>\n",
       "      <td>557570</td>\n",
       "    </tr>\n",
       "  </tbody>\n",
       "</table>\n",
       "</div>"
      ],
      "text/plain": [
       "   total_mensagens\n",
       "0           557570"
      ]
     },
     "metadata": {},
     "output_type": "display_data"
    }
   ],
   "source": [
    "qtd_mensagem = conn.execute(\"SELECT COUNT(*) AS total_mensagens FROM tabela_dados\").fetchdf()\n",
    "display(qtd_mensagem)"
   ]
  },
  {
   "cell_type": "markdown",
   "id": "5154a7a3",
   "metadata": {},
   "source": [
    "Esta consulta realiza uma contagem multidimensional das mensagens, fornecendo diferentes perspectivas sobre a composição do dataset:"
   ]
  },
  {
   "cell_type": "code",
   "execution_count": 41,
   "id": "756ef2a4",
   "metadata": {},
   "outputs": [
    {
     "data": {
      "application/vnd.microsoft.datawrangler.viewer.v0+json": {
       "columns": [
        {
         "name": "index",
         "rawType": "int64",
         "type": "integer"
        },
        {
         "name": "mensagens_com_id_valido",
         "rawType": "int64",
         "type": "integer"
        },
        {
         "name": "mensagens_unicas",
         "rawType": "int64",
         "type": "integer"
        },
        {
         "name": "mensagens_textuais",
         "rawType": "float64",
         "type": "float"
        },
        {
         "name": "mensagens_com_midia",
         "rawType": "float64",
         "type": "float"
        }
       ],
       "conversionMethod": "pd.DataFrame",
       "ref": "52417412-e5b6-48e4-8431-fa0380f8f7d9",
       "rows": [
        [
         "0",
         "557570",
         "364000",
         "444201.0",
         "332604.0"
        ]
       ],
       "shape": {
        "columns": 4,
        "rows": 1
       }
      },
      "text/html": [
       "<div>\n",
       "<style scoped>\n",
       "    .dataframe tbody tr th:only-of-type {\n",
       "        vertical-align: middle;\n",
       "    }\n",
       "\n",
       "    .dataframe tbody tr th {\n",
       "        vertical-align: top;\n",
       "    }\n",
       "\n",
       "    .dataframe thead th {\n",
       "        text-align: right;\n",
       "    }\n",
       "</style>\n",
       "<table border=\"1\" class=\"dataframe\">\n",
       "  <thead>\n",
       "    <tr style=\"text-align: right;\">\n",
       "      <th></th>\n",
       "      <th>mensagens_com_id_valido</th>\n",
       "      <th>mensagens_unicas</th>\n",
       "      <th>mensagens_textuais</th>\n",
       "      <th>mensagens_com_midia</th>\n",
       "    </tr>\n",
       "  </thead>\n",
       "  <tbody>\n",
       "    <tr>\n",
       "      <th>0</th>\n",
       "      <td>557570</td>\n",
       "      <td>364000</td>\n",
       "      <td>444201.0</td>\n",
       "      <td>332604.0</td>\n",
       "    </tr>\n",
       "  </tbody>\n",
       "</table>\n",
       "</div>"
      ],
      "text/plain": [
       "   mensagens_com_id_valido  mensagens_unicas  mensagens_textuais  \\\n",
       "0                   557570            364000            444201.0   \n",
       "\n",
       "   mensagens_com_midia  \n",
       "0             332604.0  "
      ]
     },
     "metadata": {},
     "output_type": "display_data"
    }
   ],
   "source": [
    "# text_content_anonymous leva em consideração apenas mensagem de texto\n",
    "qtd_mensagem_adicional = conn.execute(\"\"\"\n",
    "    SELECT \n",
    "    COUNT(id_message) AS mensagens_com_id_valido,\n",
    "    COUNT(DISTINCT id_message) AS mensagens_unicas,\n",
    "    SUM(CASE WHEN text_content_anonymous IS NOT NULL THEN 1 ELSE 0 END) AS mensagens_textuais,\n",
    "    SUM(CASE WHEN has_media = TRUE THEN 1 ELSE 0 END) AS mensagens_com_midia\n",
    "    FROM tabela_dados\n",
    "\"\"\").fetchdf()\n",
    "\n",
    "display(qtd_mensagem_adicional)"
   ]
  },
  {
   "cell_type": "markdown",
   "id": "db447afb",
   "metadata": {},
   "source": [
    "---"
   ]
  },
  {
   "cell_type": "markdown",
   "id": "72127bef",
   "metadata": {},
   "source": [
    "#### **2**. A quantidade de usuários"
   ]
  },
  {
   "cell_type": "markdown",
   "id": "ca8d7c8f",
   "metadata": {},
   "source": [
    "Para recuperar a quantidade de usuários únicos no dataset, utilizamos a coluna `id_member_anonymous`, que contém identificadores anônimos dos membros que enviaram mensagens nos grupos do Telegram. A consulta SQL no DuckDB foi a seguinte:"
   ]
  },
  {
   "cell_type": "code",
   "execution_count": 33,
   "id": "15886935",
   "metadata": {},
   "outputs": [
    {
     "data": {
      "application/vnd.microsoft.datawrangler.viewer.v0+json": {
       "columns": [
        {
         "name": "index",
         "rawType": "int64",
         "type": "integer"
        },
        {
         "name": "total_usuarios_unicos",
         "rawType": "int64",
         "type": "integer"
        },
        {
         "name": "total_registros",
         "rawType": "int64",
         "type": "integer"
        },
        {
         "name": "percentual_identificados",
         "rawType": "float64",
         "type": "float"
        }
       ],
       "conversionMethod": "pd.DataFrame",
       "ref": "0c588fb1-846e-4122-97de-d264095235ff",
       "rows": [
        [
         "0",
         "14809",
         "557570",
         "2.66"
        ]
       ],
       "shape": {
        "columns": 3,
        "rows": 1
       }
      },
      "text/html": [
       "<div>\n",
       "<style scoped>\n",
       "    .dataframe tbody tr th:only-of-type {\n",
       "        vertical-align: middle;\n",
       "    }\n",
       "\n",
       "    .dataframe tbody tr th {\n",
       "        vertical-align: top;\n",
       "    }\n",
       "\n",
       "    .dataframe thead th {\n",
       "        text-align: right;\n",
       "    }\n",
       "</style>\n",
       "<table border=\"1\" class=\"dataframe\">\n",
       "  <thead>\n",
       "    <tr style=\"text-align: right;\">\n",
       "      <th></th>\n",
       "      <th>total_usuarios_unicos</th>\n",
       "      <th>total_registros</th>\n",
       "      <th>percentual_identificados</th>\n",
       "    </tr>\n",
       "  </thead>\n",
       "  <tbody>\n",
       "    <tr>\n",
       "      <th>0</th>\n",
       "      <td>14809</td>\n",
       "      <td>557570</td>\n",
       "      <td>2.66</td>\n",
       "    </tr>\n",
       "  </tbody>\n",
       "</table>\n",
       "</div>"
      ],
      "text/plain": [
       "   total_usuarios_unicos  total_registros  percentual_identificados\n",
       "0                  14809           557570                      2.66"
      ]
     },
     "metadata": {},
     "output_type": "display_data"
    }
   ],
   "source": [
    "# Consulta para contar usuários únicos\n",
    "qtd_usuarios = conn.execute(\"\"\"\n",
    "    SELECT \n",
    "    COUNT(DISTINCT id_member_anonymous) AS total_usuarios_unicos,\n",
    "    COUNT(*) AS total_registros,\n",
    "    ROUND(COUNT(DISTINCT id_member_anonymous) * 100.0 / COUNT(*), 2) AS percentual_identificados\n",
    "    FROM tabela_dados\n",
    "\"\"\").fetchdf()\n",
    "\n",
    "display(qtd_usuarios)"
   ]
  },
  {
   "cell_type": "markdown",
   "id": "788fe149",
   "metadata": {},
   "source": [
    "**Observações importantes**\n",
    "\n",
    "- Algumas mensagens possuem `id_member_anonymous` como `NULL`, indicando que o remetente é anônimo ou não identificado.\n",
    "\n",
    "- O número de usuários únicos é menor que o total de mensagens, pois um mesmo usuário pode ter enviado múltiplas mensagens."
   ]
  },
  {
   "cell_type": "code",
   "execution_count": 34,
   "id": "e4b1edbd",
   "metadata": {},
   "outputs": [
    {
     "data": {
      "application/vnd.microsoft.datawrangler.viewer.v0+json": {
       "columns": [
        {
         "name": "index",
         "rawType": "int64",
         "type": "integer"
        },
        {
         "name": "mensagens_anonimas",
         "rawType": "int64",
         "type": "integer"
        },
        {
         "name": "mensagens_identificadas",
         "rawType": "int64",
         "type": "integer"
        },
        {
         "name": "usuarios_unicos_identificados",
         "rawType": "int64",
         "type": "integer"
        }
       ],
       "conversionMethod": "pd.DataFrame",
       "ref": "7c1b5650-8c0d-4fa7-aad3-10ab8d4d53fa",
       "rows": [
        [
         "0",
         "323337",
         "234233",
         "14809"
        ]
       ],
       "shape": {
        "columns": 3,
        "rows": 1
       }
      },
      "text/html": [
       "<div>\n",
       "<style scoped>\n",
       "    .dataframe tbody tr th:only-of-type {\n",
       "        vertical-align: middle;\n",
       "    }\n",
       "\n",
       "    .dataframe tbody tr th {\n",
       "        vertical-align: top;\n",
       "    }\n",
       "\n",
       "    .dataframe thead th {\n",
       "        text-align: right;\n",
       "    }\n",
       "</style>\n",
       "<table border=\"1\" class=\"dataframe\">\n",
       "  <thead>\n",
       "    <tr style=\"text-align: right;\">\n",
       "      <th></th>\n",
       "      <th>mensagens_anonimas</th>\n",
       "      <th>mensagens_identificadas</th>\n",
       "      <th>usuarios_unicos_identificados</th>\n",
       "    </tr>\n",
       "  </thead>\n",
       "  <tbody>\n",
       "    <tr>\n",
       "      <th>0</th>\n",
       "      <td>323337</td>\n",
       "      <td>234233</td>\n",
       "      <td>14809</td>\n",
       "    </tr>\n",
       "  </tbody>\n",
       "</table>\n",
       "</div>"
      ],
      "text/plain": [
       "   mensagens_anonimas  mensagens_identificadas  usuarios_unicos_identificados\n",
       "0              323337                   234233                          14809"
      ]
     },
     "metadata": {},
     "output_type": "display_data"
    }
   ],
   "source": [
    "qtd_sem_id = conn.execute(\"\"\"\n",
    "    SELECT \n",
    "    COUNT(CASE WHEN id_member_anonymous IS NULL THEN 1 END) AS mensagens_anonimas,\n",
    "    COUNT(CASE WHEN id_member_anonymous IS NOT NULL THEN 1 END) AS mensagens_identificadas,\n",
    "    COUNT(DISTINCT id_member_anonymous) AS usuarios_unicos_identificados\n",
    "FROM tabela_dados\n",
    "\"\"\").fetchdf()\n",
    "\n",
    "display(qtd_sem_id)"
   ]
  },
  {
   "cell_type": "markdown",
   "id": "d63ce677",
   "metadata": {},
   "source": [
    "**Relação quantitativa:**\n",
    "\n",
    "- Total de mensagens não nulas: 444.201\n",
    "\n",
    "- Usuários únicos: 14.809\n",
    "\n",
    "- Mensagens sem identificação: 323.337\n",
    "\n",
    "---"
   ]
  },
  {
   "cell_type": "markdown",
   "id": "b0948a82",
   "metadata": {},
   "source": [
    "#### **3**. A quantidade de grupos"
   ]
  },
  {
   "cell_type": "markdown",
   "id": "ca5b6ce0",
   "metadata": {},
   "source": [
    "Para identificar a quantidade de grupos únicos no dataset, utilizamos a coluna `id_group_anonymous` que contém identificadores únicos dos grupos do Telegram."
   ]
  },
  {
   "cell_type": "code",
   "execution_count": 43,
   "id": "d7c11da1",
   "metadata": {},
   "outputs": [
    {
     "data": {
      "application/vnd.microsoft.datawrangler.viewer.v0+json": {
       "columns": [
        {
         "name": "index",
         "rawType": "int64",
         "type": "integer"
        },
        {
         "name": "total_grupos_unicos",
         "rawType": "int64",
         "type": "integer"
        }
       ],
       "conversionMethod": "pd.DataFrame",
       "ref": "2326b83a-33b1-4c4d-a805-b2d94c535e64",
       "rows": [
        [
         "0",
         "178"
        ]
       ],
       "shape": {
        "columns": 1,
        "rows": 1
       }
      },
      "text/html": [
       "<div>\n",
       "<style scoped>\n",
       "    .dataframe tbody tr th:only-of-type {\n",
       "        vertical-align: middle;\n",
       "    }\n",
       "\n",
       "    .dataframe tbody tr th {\n",
       "        vertical-align: top;\n",
       "    }\n",
       "\n",
       "    .dataframe thead th {\n",
       "        text-align: right;\n",
       "    }\n",
       "</style>\n",
       "<table border=\"1\" class=\"dataframe\">\n",
       "  <thead>\n",
       "    <tr style=\"text-align: right;\">\n",
       "      <th></th>\n",
       "      <th>total_grupos_unicos</th>\n",
       "    </tr>\n",
       "  </thead>\n",
       "  <tbody>\n",
       "    <tr>\n",
       "      <th>0</th>\n",
       "      <td>178</td>\n",
       "    </tr>\n",
       "  </tbody>\n",
       "</table>\n",
       "</div>"
      ],
      "text/plain": [
       "   total_grupos_unicos\n",
       "0                  178"
      ]
     },
     "metadata": {},
     "output_type": "display_data"
    }
   ],
   "source": [
    "qtd_grupos = conn.execute(\"SELECT COUNT(DISTINCT id_group_anonymous) AS total_grupos_unicos FROM tabela_dados\").fetchdf()\n",
    "display(qtd_grupos)"
   ]
  },
  {
   "cell_type": "markdown",
   "id": "f9092978",
   "metadata": {},
   "source": [
    "Sobre a coluna `id_group_anonymous`:\n",
    "\n",
    "- **Valores**: São hashes MD5 únicos para cada grupo.\n",
    "- **NULL**: Indica grupos não identificados (raro em seu dataset).\n",
    "\n",
    "Relação com outras métricas:\n",
    "\n",
    "- Cada grupo contém múltiplos `id_member_anonymous` (membros).\n",
    "- Está relacionado com `message_type` (tipo de conteúdo predominante no grupo).\n",
    "\n",
    "Dados técnicos:\n",
    "\n",
    "- **Cardinalidade esperada**: Muito menor que o total de mensagens.\n",
    "- **Tipo de dado**: TEXT (32 caracteres hexadecimais)."
   ]
  },
  {
   "cell_type": "code",
   "execution_count": 45,
   "id": "56246247",
   "metadata": {},
   "outputs": [
    {
     "data": {
      "application/vnd.microsoft.datawrangler.viewer.v0+json": {
       "columns": [
        {
         "name": "index",
         "rawType": "int64",
         "type": "integer"
        },
        {
         "name": "grupos_unicos",
         "rawType": "int64",
         "type": "integer"
        },
        {
         "name": "total_mensagens",
         "rawType": "int64",
         "type": "integer"
        },
        {
         "name": "media_mensagens_por_grupo",
         "rawType": "float64",
         "type": "float"
        }
       ],
       "conversionMethod": "pd.DataFrame",
       "ref": "e9dd4ee3-77b9-44a7-b0f1-d35049df174b",
       "rows": [
        [
         "0",
         "178",
         "557570",
         "3132.42"
        ]
       ],
       "shape": {
        "columns": 3,
        "rows": 1
       }
      },
      "text/html": [
       "<div>\n",
       "<style scoped>\n",
       "    .dataframe tbody tr th:only-of-type {\n",
       "        vertical-align: middle;\n",
       "    }\n",
       "\n",
       "    .dataframe tbody tr th {\n",
       "        vertical-align: top;\n",
       "    }\n",
       "\n",
       "    .dataframe thead th {\n",
       "        text-align: right;\n",
       "    }\n",
       "</style>\n",
       "<table border=\"1\" class=\"dataframe\">\n",
       "  <thead>\n",
       "    <tr style=\"text-align: right;\">\n",
       "      <th></th>\n",
       "      <th>grupos_unicos</th>\n",
       "      <th>total_mensagens</th>\n",
       "      <th>media_mensagens_por_grupo</th>\n",
       "    </tr>\n",
       "  </thead>\n",
       "  <tbody>\n",
       "    <tr>\n",
       "      <th>0</th>\n",
       "      <td>178</td>\n",
       "      <td>557570</td>\n",
       "      <td>3132.42</td>\n",
       "    </tr>\n",
       "  </tbody>\n",
       "</table>\n",
       "</div>"
      ],
      "text/plain": [
       "   grupos_unicos  total_mensagens  media_mensagens_por_grupo\n",
       "0            178           557570                    3132.42"
      ]
     },
     "metadata": {},
     "output_type": "display_data"
    }
   ],
   "source": [
    "distribuicao_grupos = conn.execute(\"\"\"\n",
    "    SELECT \n",
    "    COUNT(DISTINCT id_group_anonymous) AS grupos_unicos,\n",
    "    COUNT(*) AS total_mensagens,\n",
    "    ROUND(COUNT(*) * 1.0 / COUNT(DISTINCT id_group_anonymous), 2) AS media_mensagens_por_grupo\n",
    "    FROM tabela_dados                                                        \n",
    "\"\"\").fetchdf()\n",
    "\n",
    "display(distribuicao_grupos)"
   ]
  },
  {
   "cell_type": "markdown",
   "id": "b8978bbb",
   "metadata": {},
   "source": [
    "---"
   ]
  },
  {
   "cell_type": "markdown",
   "id": "e75a99ce",
   "metadata": {},
   "source": [
    "#### **4**. Quantidade de mensagens que possuem apenas texto"
   ]
  },
  {
   "cell_type": "markdown",
   "id": "96e812da",
   "metadata": {},
   "source": [
    "Esta métrica identifica mensagens **exclusivamente textuais**, ou seja, que não contêm nenhum tipo de mídia anexada. Portanto, utilizei dados de duas colunas: `text_content_anonymous` e `has_media = FALSE`.\n",
    "\n",
    "```sql\n",
    "SELECT\n",
    "    COUNT(*) AS mensagens_apenas_texto\n",
    "FROM tabela_dados\n",
    "WHERE \n",
    "    text_content_anonymous IS NOT NULL  -- Possui conteúdo textual\n",
    "    AND has_media = FALSE               -- Não possui mídia anexada"
   ]
  },
  {
   "cell_type": "code",
   "execution_count": null,
   "id": "6990904a",
   "metadata": {},
   "outputs": [
    {
     "data": {
      "application/vnd.microsoft.datawrangler.viewer.v0+json": {
       "columns": [
        {
         "name": "index",
         "rawType": "int64",
         "type": "integer"
        },
        {
         "name": "total_mensagens",
         "rawType": "int64",
         "type": "integer"
        },
        {
         "name": "mensagens_apenas_texto",
         "rawType": "float64",
         "type": "float"
        },
        {
         "name": "percentual_apenas_texto",
         "rawType": "float64",
         "type": "float"
        }
       ],
       "conversionMethod": "pd.DataFrame",
       "ref": "f79166ef-a7e3-4d71-924a-6c01cf1c6258",
       "rows": [
        [
         "0",
         "557570",
         "224966.0",
         "40.35"
        ]
       ],
       "shape": {
        "columns": 3,
        "rows": 1
       }
      },
      "text/html": [
       "<div>\n",
       "<style scoped>\n",
       "    .dataframe tbody tr th:only-of-type {\n",
       "        vertical-align: middle;\n",
       "    }\n",
       "\n",
       "    .dataframe tbody tr th {\n",
       "        vertical-align: top;\n",
       "    }\n",
       "\n",
       "    .dataframe thead th {\n",
       "        text-align: right;\n",
       "    }\n",
       "</style>\n",
       "<table border=\"1\" class=\"dataframe\">\n",
       "  <thead>\n",
       "    <tr style=\"text-align: right;\">\n",
       "      <th></th>\n",
       "      <th>total_mensagens</th>\n",
       "      <th>mensagens_apenas_texto</th>\n",
       "      <th>percentual_apenas_texto</th>\n",
       "    </tr>\n",
       "  </thead>\n",
       "  <tbody>\n",
       "    <tr>\n",
       "      <th>0</th>\n",
       "      <td>557570</td>\n",
       "      <td>224966.0</td>\n",
       "      <td>40.35</td>\n",
       "    </tr>\n",
       "  </tbody>\n",
       "</table>\n",
       "</div>"
      ],
      "text/plain": [
       "   total_mensagens  mensagens_apenas_texto  percentual_apenas_texto\n",
       "0           557570                224966.0                    40.35"
      ]
     },
     "metadata": {},
     "output_type": "display_data"
    }
   ],
   "source": [
    "qtd_mensagem_texto = conn.execute(\"\"\"\n",
    "    SELECT\n",
    "    COUNT(*) AS total_mensagens,\n",
    "    SUM(CASE WHEN text_content_anonymous IS NOT NULL AND has_media = FALSE THEN 1 ELSE 0 END) AS mensagens_apenas_texto,\n",
    "    ROUND(SUM(CASE WHEN text_content_anonymous IS NOT NULL AND has_media = FALSE THEN 1 ELSE 0 END) * 100.0 / COUNT(*), 2) AS percentual_apenas_texto\n",
    "    FROM tabela_dados                             \n",
    "\"\"\").fetchdf()\n",
    "\n",
    "display(qtd_mensagem_texto)"
   ]
  },
  {
   "cell_type": "markdown",
   "id": "f102073d",
   "metadata": {},
   "source": [
    "#### **5**. Quantidade de mensagens contendo mídias"
   ]
  },
  {
   "cell_type": "markdown",
   "id": "32857b64",
   "metadata": {},
   "source": [
    "Utilizei a mesma lógica do item anterior para criar a consulta SQL, porém, agora estou pegando os dados com `has_media = TRUE` e `text_content_anonymous = NULL`, ou seja, não há mensagens de texto."
   ]
  },
  {
   "cell_type": "code",
   "execution_count": 14,
   "id": "07e14267",
   "metadata": {},
   "outputs": [
    {
     "data": {
      "application/vnd.microsoft.datawrangler.viewer.v0+json": {
       "columns": [
        {
         "name": "index",
         "rawType": "int64",
         "type": "integer"
        },
        {
         "name": "total_mensagens",
         "rawType": "int64",
         "type": "integer"
        },
        {
         "name": "mensagens_apenas_midia",
         "rawType": "float64",
         "type": "float"
        },
        {
         "name": "percentual_apenas_midia",
         "rawType": "float64",
         "type": "float"
        }
       ],
       "conversionMethod": "pd.DataFrame",
       "ref": "6ba2b170-996a-4458-8ede-777983555b17",
       "rows": [
        [
         "0",
         "557570",
         "113369.0",
         "20.33"
        ]
       ],
       "shape": {
        "columns": 3,
        "rows": 1
       }
      },
      "text/html": [
       "<div>\n",
       "<style scoped>\n",
       "    .dataframe tbody tr th:only-of-type {\n",
       "        vertical-align: middle;\n",
       "    }\n",
       "\n",
       "    .dataframe tbody tr th {\n",
       "        vertical-align: top;\n",
       "    }\n",
       "\n",
       "    .dataframe thead th {\n",
       "        text-align: right;\n",
       "    }\n",
       "</style>\n",
       "<table border=\"1\" class=\"dataframe\">\n",
       "  <thead>\n",
       "    <tr style=\"text-align: right;\">\n",
       "      <th></th>\n",
       "      <th>total_mensagens</th>\n",
       "      <th>mensagens_apenas_midia</th>\n",
       "      <th>percentual_apenas_midia</th>\n",
       "    </tr>\n",
       "  </thead>\n",
       "  <tbody>\n",
       "    <tr>\n",
       "      <th>0</th>\n",
       "      <td>557570</td>\n",
       "      <td>113369.0</td>\n",
       "      <td>20.33</td>\n",
       "    </tr>\n",
       "  </tbody>\n",
       "</table>\n",
       "</div>"
      ],
      "text/plain": [
       "   total_mensagens  mensagens_apenas_midia  percentual_apenas_midia\n",
       "0           557570                113369.0                    20.33"
      ]
     },
     "metadata": {},
     "output_type": "display_data"
    }
   ],
   "source": [
    "qtd_mensagem_midias = conn.execute(\"\"\"\n",
    "    SELECT\n",
    "    COUNT(*) AS total_mensagens,\n",
    "    SUM(CASE WHEN text_content_anonymous IS NULL AND has_media = TRUE THEN 1 ELSE 0 END) AS mensagens_apenas_midia,\n",
    "    ROUND(SUM(CASE WHEN text_content_anonymous IS NULL AND has_media = TRUE THEN 1 ELSE 0 END) * 100.0 / COUNT(*), 2) AS percentual_apenas_midia\n",
    "    FROM tabela_dados                             \n",
    "\"\"\").fetchdf()\n",
    "\n",
    "display(qtd_mensagem_midias)"
   ]
  },
  {
   "cell_type": "markdown",
   "id": "7605566c",
   "metadata": {},
   "source": [
    "---"
   ]
  },
  {
   "cell_type": "markdown",
   "id": "988ecb5a",
   "metadata": {},
   "source": [
    "#### **6**. Quantidade de mensagens por tipo de mídia (jpg, mp4 etc)"
   ]
  },
  {
   "cell_type": "markdown",
   "id": "b3e234c1",
   "metadata": {},
   "source": [
    "Para calcular essa métrica, segui os seguintes passos:\n",
    "\n",
    "1. Filtrar mensagens com `has_media = TRUE`.\n",
    "2. Ver quais valores únicos existem na coluna `media_type` (isso indica os tipos: 'jpg', 'mp4', 'pdf', etc.).\n",
    "3. Agrupar por `media_type` e contar a quantidade."
   ]
  },
  {
   "cell_type": "code",
   "execution_count": 15,
   "id": "e2a9af98",
   "metadata": {},
   "outputs": [
    {
     "data": {
      "application/vnd.microsoft.datawrangler.viewer.v0+json": {
       "columns": [
        {
         "name": "index",
         "rawType": "int64",
         "type": "integer"
        },
        {
         "name": "media_type",
         "rawType": "object",
         "type": "string"
        },
        {
         "name": "qtd_mensagens",
         "rawType": "int64",
         "type": "integer"
        }
       ],
       "conversionMethod": "pd.DataFrame",
       "ref": "04be526a-57cf-4d8a-8cd1-81b26ccdeaae",
       "rows": [
        [
         "0",
         "image/jpg",
         "200440"
        ],
        [
         "1",
         "url",
         "100856"
        ],
        [
         "2",
         "video/mp4",
         "18497"
        ],
        [
         "3",
         "application/vnd.android.package-archive",
         "7159"
        ],
        [
         "4",
         "application/pdf",
         "2850"
        ],
        [
         "5",
         "image/mp4",
         "1591"
        ],
        [
         "6",
         "image/apk",
         "234"
        ],
        [
         "7",
         "image/pdf",
         "230"
        ],
        [
         "8",
         "image/f4v",
         "83"
        ],
        [
         "9",
         "application/octet-stream",
         "69"
        ],
        [
         "10",
         "video/mpeg",
         "69"
        ],
        [
         "11",
         "audio/opus",
         "67"
        ],
        [
         "12",
         "image/jpeg",
         "65"
        ],
        [
         "13",
         "image/oga",
         "43"
        ],
        [
         "14",
         "audio/mpeg",
         "42"
        ],
        [
         "15",
         "audio/ogg",
         "38"
        ],
        [
         "16",
         "video/quicktime",
         "33"
        ],
        [
         "17",
         "image/mpv",
         "31"
        ],
        [
         "18",
         "application/vnd.openxmlformats-officedocument.spreadsheetml.sheet",
         "29"
        ],
        [
         "19",
         "application/x-ms-dos-executable",
         "23"
        ],
        [
         "20",
         "audio/aac",
         "19"
        ],
        [
         "21",
         "application/vnd.openxmlformats-officedocument.wordprocessingml.document",
         "11"
        ],
        [
         "22",
         "application/zip",
         "11"
        ],
        [
         "23",
         "video/3gpp",
         "10"
        ],
        [
         "24",
         "audio/x-wav",
         "9"
        ],
        [
         "25",
         "video/x-matroska",
         "7"
        ],
        [
         "26",
         "image/xlsx",
         "7"
        ],
        [
         "27",
         "image/mpeg",
         "6"
        ],
        [
         "28",
         "video/x-flv",
         "6"
        ],
        [
         "29",
         "video/x-ms-wmv",
         "6"
        ],
        [
         "30",
         "image/mov",
         "4"
        ],
        [
         "31",
         "image/mp3",
         "4"
        ],
        [
         "32",
         "application/vnd.openxmlformats-officedocument.presentationml.presentation",
         "4"
        ],
        [
         "33",
         "video/webm",
         "3"
        ],
        [
         "34",
         "image/adts",
         "3"
        ],
        [
         "35",
         "application/x-mimearchive",
         "2"
        ],
        [
         "36",
         "image/wav",
         "2"
        ],
        [
         "37",
         "image/msi",
         "2"
        ],
        [
         "38",
         "image/heic",
         "2"
        ],
        [
         "39",
         "image/02d0e99ce96591d1e3d354ebb0690607",
         "2"
        ],
        [
         "40",
         "application/sdoc",
         "2"
        ],
        [
         "41",
         "application/gzip",
         "2"
        ],
        [
         "42",
         "text/html",
         "2"
        ],
        [
         "43",
         "image/59da33c80babcbb29455fccb21329cae",
         "2"
        ],
        [
         "44",
         "image/wmv",
         "2"
        ],
        [
         "45",
         "image/webm",
         "2"
        ],
        [
         "46",
         "application/json",
         "2"
        ],
        [
         "47",
         "image/b39768873845aaea0f8ab41b2e9c0061",
         "2"
        ],
        [
         "48",
         "text/x-vcard",
         "1"
        ],
        [
         "49",
         "image/af75130da3b6516eb3c1eb9ab62b5219",
         "1"
        ]
       ],
       "shape": {
        "columns": 2,
        "rows": 67
       }
      },
      "text/html": [
       "<div>\n",
       "<style scoped>\n",
       "    .dataframe tbody tr th:only-of-type {\n",
       "        vertical-align: middle;\n",
       "    }\n",
       "\n",
       "    .dataframe tbody tr th {\n",
       "        vertical-align: top;\n",
       "    }\n",
       "\n",
       "    .dataframe thead th {\n",
       "        text-align: right;\n",
       "    }\n",
       "</style>\n",
       "<table border=\"1\" class=\"dataframe\">\n",
       "  <thead>\n",
       "    <tr style=\"text-align: right;\">\n",
       "      <th></th>\n",
       "      <th>media_type</th>\n",
       "      <th>qtd_mensagens</th>\n",
       "    </tr>\n",
       "  </thead>\n",
       "  <tbody>\n",
       "    <tr>\n",
       "      <th>0</th>\n",
       "      <td>image/jpg</td>\n",
       "      <td>200440</td>\n",
       "    </tr>\n",
       "    <tr>\n",
       "      <th>1</th>\n",
       "      <td>url</td>\n",
       "      <td>100856</td>\n",
       "    </tr>\n",
       "    <tr>\n",
       "      <th>2</th>\n",
       "      <td>video/mp4</td>\n",
       "      <td>18497</td>\n",
       "    </tr>\n",
       "    <tr>\n",
       "      <th>3</th>\n",
       "      <td>application/vnd.android.package-archive</td>\n",
       "      <td>7159</td>\n",
       "    </tr>\n",
       "    <tr>\n",
       "      <th>4</th>\n",
       "      <td>application/pdf</td>\n",
       "      <td>2850</td>\n",
       "    </tr>\n",
       "    <tr>\n",
       "      <th>...</th>\n",
       "      <td>...</td>\n",
       "      <td>...</td>\n",
       "    </tr>\n",
       "    <tr>\n",
       "      <th>62</th>\n",
       "      <td>image/xps</td>\n",
       "      <td>1</td>\n",
       "    </tr>\n",
       "    <tr>\n",
       "      <th>63</th>\n",
       "      <td>application/x-partial-download</td>\n",
       "      <td>1</td>\n",
       "    </tr>\n",
       "    <tr>\n",
       "      <th>64</th>\n",
       "      <td>application/vnd.ms-xpsdocument</td>\n",
       "      <td>1</td>\n",
       "    </tr>\n",
       "    <tr>\n",
       "      <th>65</th>\n",
       "      <td>image/m4a</td>\n",
       "      <td>1</td>\n",
       "    </tr>\n",
       "    <tr>\n",
       "      <th>66</th>\n",
       "      <td>image/wma</td>\n",
       "      <td>1</td>\n",
       "    </tr>\n",
       "  </tbody>\n",
       "</table>\n",
       "<p>67 rows × 2 columns</p>\n",
       "</div>"
      ],
      "text/plain": [
       "                                 media_type  qtd_mensagens\n",
       "0                                 image/jpg         200440\n",
       "1                                       url         100856\n",
       "2                                 video/mp4          18497\n",
       "3   application/vnd.android.package-archive           7159\n",
       "4                           application/pdf           2850\n",
       "..                                      ...            ...\n",
       "62                                image/xps              1\n",
       "63           application/x-partial-download              1\n",
       "64           application/vnd.ms-xpsdocument              1\n",
       "65                                image/m4a              1\n",
       "66                                image/wma              1\n",
       "\n",
       "[67 rows x 2 columns]"
      ]
     },
     "metadata": {},
     "output_type": "display_data"
    }
   ],
   "source": [
    "qtd_tipo_midia = conn.execute(\"\"\"\n",
    "    SELECT \n",
    "    media_type,\n",
    "    COUNT(*) AS qtd_mensagens\n",
    "    FROM tabela_dados\n",
    "    WHERE has_media = TRUE\n",
    "    GROUP BY media_type\n",
    "    ORDER BY qtd_mensagens DESC      \n",
    "\"\"\").fetchdf()\n",
    "\n",
    "display(qtd_tipo_midia)"
   ]
  },
  {
   "cell_type": "markdown",
   "id": "515e9d6b",
   "metadata": {},
   "source": [
    "---"
   ]
  },
  {
   "cell_type": "markdown",
   "id": "94fdcaf9",
   "metadata": {},
   "source": [
    "#### **12**. As 30 URLs que mais se repetem (mais compartilhadas)"
   ]
  },
  {
   "cell_type": "markdown",
   "id": "dadcdc77",
   "metadata": {},
   "source": [
    "É possível realizar esse cálculo pegando os dados da coluna `media_url`, pois essa feature provavelmente contém os links das mídias compartilhadas."
   ]
  },
  {
   "cell_type": "code",
   "execution_count": 19,
   "id": "24610e21",
   "metadata": {},
   "outputs": [
    {
     "data": {
      "application/vnd.microsoft.datawrangler.viewer.v0+json": {
       "columns": [
        {
         "name": "index",
         "rawType": "int64",
         "type": "integer"
        },
        {
         "name": "media_url",
         "rawType": "object",
         "type": "string"
        },
        {
         "name": "quantidade",
         "rawType": "int64",
         "type": "integer"
        }
       ],
       "conversionMethod": "pd.DataFrame",
       "ref": "aac57474-86a4-473c-b7f4-71521b426495",
       "rows": [
        [
         "0",
         "t.me/alexeconomia",
         "4159"
        ],
        [
         "1",
         "https://youtube.com/c/especulandoosfatosoficial",
         "1607"
        ],
        [
         "2",
         "t.me/fimtaproximo",
         "1581"
        ],
        [
         "3",
         "t.me/+EWlGMatRZGg3OTlh",
         "1419"
        ],
        [
         "4",
         "https://youtu.be/qbTzhB0akt8",
         "1160"
        ],
        [
         "5",
         "https://youtu.be/zDuOoyhyN-4",
         "1022"
        ],
        [
         "6",
         "t.me/+ewZIPdZ42vEyNzJh",
         "772"
        ],
        [
         "7",
         "https://t.me/canalselvabrasiloficial",
         "709"
        ],
        [
         "8",
         "https://youtu.be/4DHk9KZ01HM",
         "660"
        ],
        [
         "9",
         "T.me/Arthur_Senna_Trader2",
         "640"
        ],
        [
         "10",
         "https://youtu.be/x2uiakywcrI",
         "576"
        ],
        [
         "11",
         "t.me/+bseuTTFOO8c5YWFh",
         "515"
        ],
        [
         "12",
         "youtube.com/AlexEconomia",
         "445"
        ],
        [
         "13",
         "https://t.me/Ovetoroculto",
         "394"
        ],
        [
         "14",
         "https://t.me/+DnJpx-HxNCFkMmUx",
         "390"
        ],
        [
         "15",
         "https://noticias.uol.com.br/politica/ultimas-noticias/2022/08/30/patrimonio-familia-jair-bolsonaro-dinheiro-vivo.htm?utm_source=twitter&utm_medium=social-media&utm_campaign=noticias&utm_content=geral",
         "388"
        ],
        [
         "16",
         "https://t.me/ContagemDeVotosPRO_BOLSONARO",
         "375"
        ],
        [
         "17",
         "https://t.me/ipiranoticias",
         "358"
        ],
        [
         "18",
         "https://instagram.com/exercito_oficial?igshid=YmMyMTA2M2Y=",
         "355"
        ],
        [
         "19",
         "https://youtube.com/channel/UCVvPvyD-zdnTTapAbF6BbzA",
         "349"
        ],
        [
         "20",
         "https://youtu.be/wGpTY8GH568",
         "332"
        ],
        [
         "21",
         "https://youtu.be/u-ZGL90PfeI",
         "282"
        ],
        [
         "22",
         "t.me/+L987ddlsBJVkYzAx",
         "273"
        ],
        [
         "23",
         "t.me/direitologicoparatodos",
         "262"
        ],
        [
         "24",
         "https://scriptsamp.forumeiros.com/t16154-enquetecandidatos-a-presidencia-do-brasil",
         "260"
        ],
        [
         "25",
         "https://lulaflix.com.br/",
         "255"
        ],
        [
         "26",
         "https://youtu.be/aJ7uw_d-dUI",
         "250"
        ],
        [
         "27",
         "https://t.me/misteriosdomundobruno",
         "249"
        ],
        [
         "28",
         "http://ligapatriota.blogspot.com/",
         "244"
        ],
        [
         "29",
         "https://youtu.be/a4IjtAhIVbI",
         "222"
        ]
       ],
       "shape": {
        "columns": 2,
        "rows": 30
       }
      },
      "text/html": [
       "<div>\n",
       "<style scoped>\n",
       "    .dataframe tbody tr th:only-of-type {\n",
       "        vertical-align: middle;\n",
       "    }\n",
       "\n",
       "    .dataframe tbody tr th {\n",
       "        vertical-align: top;\n",
       "    }\n",
       "\n",
       "    .dataframe thead th {\n",
       "        text-align: right;\n",
       "    }\n",
       "</style>\n",
       "<table border=\"1\" class=\"dataframe\">\n",
       "  <thead>\n",
       "    <tr style=\"text-align: right;\">\n",
       "      <th></th>\n",
       "      <th>media_url</th>\n",
       "      <th>quantidade</th>\n",
       "    </tr>\n",
       "  </thead>\n",
       "  <tbody>\n",
       "    <tr>\n",
       "      <th>0</th>\n",
       "      <td>t.me/alexeconomia</td>\n",
       "      <td>4159</td>\n",
       "    </tr>\n",
       "    <tr>\n",
       "      <th>1</th>\n",
       "      <td>https://youtube.com/c/especulandoosfatosoficial</td>\n",
       "      <td>1607</td>\n",
       "    </tr>\n",
       "    <tr>\n",
       "      <th>2</th>\n",
       "      <td>t.me/fimtaproximo</td>\n",
       "      <td>1581</td>\n",
       "    </tr>\n",
       "    <tr>\n",
       "      <th>3</th>\n",
       "      <td>t.me/+EWlGMatRZGg3OTlh</td>\n",
       "      <td>1419</td>\n",
       "    </tr>\n",
       "    <tr>\n",
       "      <th>4</th>\n",
       "      <td>https://youtu.be/qbTzhB0akt8</td>\n",
       "      <td>1160</td>\n",
       "    </tr>\n",
       "    <tr>\n",
       "      <th>5</th>\n",
       "      <td>https://youtu.be/zDuOoyhyN-4</td>\n",
       "      <td>1022</td>\n",
       "    </tr>\n",
       "    <tr>\n",
       "      <th>6</th>\n",
       "      <td>t.me/+ewZIPdZ42vEyNzJh</td>\n",
       "      <td>772</td>\n",
       "    </tr>\n",
       "    <tr>\n",
       "      <th>7</th>\n",
       "      <td>https://t.me/canalselvabrasiloficial</td>\n",
       "      <td>709</td>\n",
       "    </tr>\n",
       "    <tr>\n",
       "      <th>8</th>\n",
       "      <td>https://youtu.be/4DHk9KZ01HM</td>\n",
       "      <td>660</td>\n",
       "    </tr>\n",
       "    <tr>\n",
       "      <th>9</th>\n",
       "      <td>T.me/Arthur_Senna_Trader2</td>\n",
       "      <td>640</td>\n",
       "    </tr>\n",
       "    <tr>\n",
       "      <th>10</th>\n",
       "      <td>https://youtu.be/x2uiakywcrI</td>\n",
       "      <td>576</td>\n",
       "    </tr>\n",
       "    <tr>\n",
       "      <th>11</th>\n",
       "      <td>t.me/+bseuTTFOO8c5YWFh</td>\n",
       "      <td>515</td>\n",
       "    </tr>\n",
       "    <tr>\n",
       "      <th>12</th>\n",
       "      <td>youtube.com/AlexEconomia</td>\n",
       "      <td>445</td>\n",
       "    </tr>\n",
       "    <tr>\n",
       "      <th>13</th>\n",
       "      <td>https://t.me/Ovetoroculto</td>\n",
       "      <td>394</td>\n",
       "    </tr>\n",
       "    <tr>\n",
       "      <th>14</th>\n",
       "      <td>https://t.me/+DnJpx-HxNCFkMmUx</td>\n",
       "      <td>390</td>\n",
       "    </tr>\n",
       "    <tr>\n",
       "      <th>15</th>\n",
       "      <td>https://noticias.uol.com.br/politica/ultimas-n...</td>\n",
       "      <td>388</td>\n",
       "    </tr>\n",
       "    <tr>\n",
       "      <th>16</th>\n",
       "      <td>https://t.me/ContagemDeVotosPRO_BOLSONARO</td>\n",
       "      <td>375</td>\n",
       "    </tr>\n",
       "    <tr>\n",
       "      <th>17</th>\n",
       "      <td>https://t.me/ipiranoticias</td>\n",
       "      <td>358</td>\n",
       "    </tr>\n",
       "    <tr>\n",
       "      <th>18</th>\n",
       "      <td>https://instagram.com/exercito_oficial?igshid=...</td>\n",
       "      <td>355</td>\n",
       "    </tr>\n",
       "    <tr>\n",
       "      <th>19</th>\n",
       "      <td>https://youtube.com/channel/UCVvPvyD-zdnTTapAb...</td>\n",
       "      <td>349</td>\n",
       "    </tr>\n",
       "    <tr>\n",
       "      <th>20</th>\n",
       "      <td>https://youtu.be/wGpTY8GH568</td>\n",
       "      <td>332</td>\n",
       "    </tr>\n",
       "    <tr>\n",
       "      <th>21</th>\n",
       "      <td>https://youtu.be/u-ZGL90PfeI</td>\n",
       "      <td>282</td>\n",
       "    </tr>\n",
       "    <tr>\n",
       "      <th>22</th>\n",
       "      <td>t.me/+L987ddlsBJVkYzAx</td>\n",
       "      <td>273</td>\n",
       "    </tr>\n",
       "    <tr>\n",
       "      <th>23</th>\n",
       "      <td>t.me/direitologicoparatodos</td>\n",
       "      <td>262</td>\n",
       "    </tr>\n",
       "    <tr>\n",
       "      <th>24</th>\n",
       "      <td>https://scriptsamp.forumeiros.com/t16154-enque...</td>\n",
       "      <td>260</td>\n",
       "    </tr>\n",
       "    <tr>\n",
       "      <th>25</th>\n",
       "      <td>https://lulaflix.com.br/</td>\n",
       "      <td>255</td>\n",
       "    </tr>\n",
       "    <tr>\n",
       "      <th>26</th>\n",
       "      <td>https://youtu.be/aJ7uw_d-dUI</td>\n",
       "      <td>250</td>\n",
       "    </tr>\n",
       "    <tr>\n",
       "      <th>27</th>\n",
       "      <td>https://t.me/misteriosdomundobruno</td>\n",
       "      <td>249</td>\n",
       "    </tr>\n",
       "    <tr>\n",
       "      <th>28</th>\n",
       "      <td>http://ligapatriota.blogspot.com/</td>\n",
       "      <td>244</td>\n",
       "    </tr>\n",
       "    <tr>\n",
       "      <th>29</th>\n",
       "      <td>https://youtu.be/a4IjtAhIVbI</td>\n",
       "      <td>222</td>\n",
       "    </tr>\n",
       "  </tbody>\n",
       "</table>\n",
       "</div>"
      ],
      "text/plain": [
       "                                            media_url  quantidade\n",
       "0                                   t.me/alexeconomia        4159\n",
       "1     https://youtube.com/c/especulandoosfatosoficial        1607\n",
       "2                                   t.me/fimtaproximo        1581\n",
       "3                              t.me/+EWlGMatRZGg3OTlh        1419\n",
       "4                        https://youtu.be/qbTzhB0akt8        1160\n",
       "5                        https://youtu.be/zDuOoyhyN-4        1022\n",
       "6                              t.me/+ewZIPdZ42vEyNzJh         772\n",
       "7                https://t.me/canalselvabrasiloficial         709\n",
       "8                        https://youtu.be/4DHk9KZ01HM         660\n",
       "9                           T.me/Arthur_Senna_Trader2         640\n",
       "10                       https://youtu.be/x2uiakywcrI         576\n",
       "11                             t.me/+bseuTTFOO8c5YWFh         515\n",
       "12                           youtube.com/AlexEconomia         445\n",
       "13                          https://t.me/Ovetoroculto         394\n",
       "14                     https://t.me/+DnJpx-HxNCFkMmUx         390\n",
       "15  https://noticias.uol.com.br/politica/ultimas-n...         388\n",
       "16          https://t.me/ContagemDeVotosPRO_BOLSONARO         375\n",
       "17                         https://t.me/ipiranoticias         358\n",
       "18  https://instagram.com/exercito_oficial?igshid=...         355\n",
       "19  https://youtube.com/channel/UCVvPvyD-zdnTTapAb...         349\n",
       "20                       https://youtu.be/wGpTY8GH568         332\n",
       "21                       https://youtu.be/u-ZGL90PfeI         282\n",
       "22                             t.me/+L987ddlsBJVkYzAx         273\n",
       "23                        t.me/direitologicoparatodos         262\n",
       "24  https://scriptsamp.forumeiros.com/t16154-enque...         260\n",
       "25                           https://lulaflix.com.br/         255\n",
       "26                       https://youtu.be/aJ7uw_d-dUI         250\n",
       "27                 https://t.me/misteriosdomundobruno         249\n",
       "28                  http://ligapatriota.blogspot.com/         244\n",
       "29                       https://youtu.be/a4IjtAhIVbI         222"
      ]
     },
     "metadata": {},
     "output_type": "display_data"
    }
   ],
   "source": [
    "urls_mais_compartilhadas = conn.execute(\"\"\"\n",
    "    SELECT \n",
    "    media_url,\n",
    "    COUNT(*) AS quantidade\n",
    "    FROM tabela_dados\n",
    "    WHERE media_url IS NOT NULL\n",
    "    GROUP BY media_url\n",
    "    ORDER BY quantidade DESC\n",
    "    LIMIT 30                        \n",
    "\"\"\").fetchdf()\n",
    "\n",
    "display(urls_mais_compartilhadas)"
   ]
  },
  {
   "cell_type": "markdown",
   "id": "2eda0f81",
   "metadata": {},
   "source": [
    "---"
   ]
  },
  {
   "cell_type": "markdown",
   "id": "e25b88c3",
   "metadata": {},
   "source": [
    "#### **13**. Os 30 domínios que mais se repetem (mais compartilhados)"
   ]
  },
  {
   "cell_type": "markdown",
   "id": "9c54b3c3",
   "metadata": {},
   "source": [
    "Para identificar os sites mais utilizados como fonte de mídia nas mensagens, foi realizada uma extração dos domínios contidos nas URLs presentes na coluna `media_url`.\n",
    "\n",
    "A base de dados não possui uma coluna explícita de localização ou domínio, mas como a coluna `media_url` armazena os links das mídias compartilhadas, foi possível utilizar expressões regulares (**regex**) para extrair o domínio principal (ex: youtube.com, t.me, wa.me) de cada URL."
   ]
  },
  {
   "cell_type": "code",
   "execution_count": 30,
   "id": "7c6ad4e6",
   "metadata": {},
   "outputs": [
    {
     "data": {
      "application/vnd.microsoft.datawrangler.viewer.v0+json": {
       "columns": [
        {
         "name": "index",
         "rawType": "int64",
         "type": "integer"
        },
        {
         "name": "dominio",
         "rawType": "object",
         "type": "string"
        },
        {
         "name": "quantidade",
         "rawType": "int64",
         "type": "integer"
        }
       ],
       "conversionMethod": "pd.DataFrame",
       "ref": "84d469b3-6299-47b7-a147-b990639ccae1",
       "rows": [
        [
         "0",
         "youtu.be",
         "52731"
        ],
        [
         "1",
         "t.me",
         "10712"
        ],
        [
         "2",
         "www.youtube.com",
         "8315"
        ],
        [
         "3",
         "terrabrasilnoticias.com",
         "8282"
        ],
        [
         "4",
         "youtube.com",
         "5967"
        ],
        [
         "5",
         "www.instagram.com",
         "5784"
        ],
        [
         "6",
         "www.jornaldacidadeonline.com.br",
         "4829"
        ],
        [
         "7",
         "twitter.com",
         "4390"
        ],
        [
         "8",
         "t.me/alexeconomia",
         "4159"
        ],
        [
         "9",
         "gazetabrasil.com.br",
         "1779"
        ],
        [
         "10",
         "pleno.news",
         "1601"
        ],
        [
         "11",
         "t.me/fimtaproximo",
         "1581"
        ],
        [
         "12",
         "t.me/+EWlGMatRZGg3OTlh",
         "1419"
        ],
        [
         "13",
         "www.facebook.com",
         "1356"
        ],
        [
         "14",
         "www.bitchute.com",
         "1178"
        ],
        [
         "15",
         "www.aliadosbrasiloficial.com.br",
         "945"
        ],
        [
         "16",
         "revistaoeste.com",
         "920"
        ],
        [
         "17",
         "kwai-video.com",
         "863"
        ],
        [
         "18",
         "gettr.com",
         "842"
        ],
        [
         "19",
         "vistapatria.com.br",
         "830"
        ],
        [
         "20",
         "verdadecensurada.com.br",
         "829"
        ],
        [
         "21",
         "instagram.com",
         "822"
        ],
        [
         "22",
         "t.me/+ewZIPdZ42vEyNzJh",
         "772"
        ],
        [
         "23",
         "www.conexaopolitica.com.br",
         "746"
        ],
        [
         "24",
         "vm.tiktok.com",
         "744"
        ],
        [
         "25",
         "m.youtube.com",
         "688"
        ],
        [
         "26",
         "T.me/Arthur_Senna_Trader2",
         "640"
        ],
        [
         "27",
         "noticias.uol.com.br",
         "627"
        ],
        [
         "28",
         "tribunanacional.com.br",
         "609"
        ],
        [
         "29",
         "fb.watch",
         "573"
        ]
       ],
       "shape": {
        "columns": 2,
        "rows": 30
       }
      },
      "text/html": [
       "<div>\n",
       "<style scoped>\n",
       "    .dataframe tbody tr th:only-of-type {\n",
       "        vertical-align: middle;\n",
       "    }\n",
       "\n",
       "    .dataframe tbody tr th {\n",
       "        vertical-align: top;\n",
       "    }\n",
       "\n",
       "    .dataframe thead th {\n",
       "        text-align: right;\n",
       "    }\n",
       "</style>\n",
       "<table border=\"1\" class=\"dataframe\">\n",
       "  <thead>\n",
       "    <tr style=\"text-align: right;\">\n",
       "      <th></th>\n",
       "      <th>dominio</th>\n",
       "      <th>quantidade</th>\n",
       "    </tr>\n",
       "  </thead>\n",
       "  <tbody>\n",
       "    <tr>\n",
       "      <th>0</th>\n",
       "      <td>youtu.be</td>\n",
       "      <td>52731</td>\n",
       "    </tr>\n",
       "    <tr>\n",
       "      <th>1</th>\n",
       "      <td>t.me</td>\n",
       "      <td>10712</td>\n",
       "    </tr>\n",
       "    <tr>\n",
       "      <th>2</th>\n",
       "      <td>www.youtube.com</td>\n",
       "      <td>8315</td>\n",
       "    </tr>\n",
       "    <tr>\n",
       "      <th>3</th>\n",
       "      <td>terrabrasilnoticias.com</td>\n",
       "      <td>8282</td>\n",
       "    </tr>\n",
       "    <tr>\n",
       "      <th>4</th>\n",
       "      <td>youtube.com</td>\n",
       "      <td>5967</td>\n",
       "    </tr>\n",
       "    <tr>\n",
       "      <th>5</th>\n",
       "      <td>www.instagram.com</td>\n",
       "      <td>5784</td>\n",
       "    </tr>\n",
       "    <tr>\n",
       "      <th>6</th>\n",
       "      <td>www.jornaldacidadeonline.com.br</td>\n",
       "      <td>4829</td>\n",
       "    </tr>\n",
       "    <tr>\n",
       "      <th>7</th>\n",
       "      <td>twitter.com</td>\n",
       "      <td>4390</td>\n",
       "    </tr>\n",
       "    <tr>\n",
       "      <th>8</th>\n",
       "      <td>t.me/alexeconomia</td>\n",
       "      <td>4159</td>\n",
       "    </tr>\n",
       "    <tr>\n",
       "      <th>9</th>\n",
       "      <td>gazetabrasil.com.br</td>\n",
       "      <td>1779</td>\n",
       "    </tr>\n",
       "    <tr>\n",
       "      <th>10</th>\n",
       "      <td>pleno.news</td>\n",
       "      <td>1601</td>\n",
       "    </tr>\n",
       "    <tr>\n",
       "      <th>11</th>\n",
       "      <td>t.me/fimtaproximo</td>\n",
       "      <td>1581</td>\n",
       "    </tr>\n",
       "    <tr>\n",
       "      <th>12</th>\n",
       "      <td>t.me/+EWlGMatRZGg3OTlh</td>\n",
       "      <td>1419</td>\n",
       "    </tr>\n",
       "    <tr>\n",
       "      <th>13</th>\n",
       "      <td>www.facebook.com</td>\n",
       "      <td>1356</td>\n",
       "    </tr>\n",
       "    <tr>\n",
       "      <th>14</th>\n",
       "      <td>www.bitchute.com</td>\n",
       "      <td>1178</td>\n",
       "    </tr>\n",
       "    <tr>\n",
       "      <th>15</th>\n",
       "      <td>www.aliadosbrasiloficial.com.br</td>\n",
       "      <td>945</td>\n",
       "    </tr>\n",
       "    <tr>\n",
       "      <th>16</th>\n",
       "      <td>revistaoeste.com</td>\n",
       "      <td>920</td>\n",
       "    </tr>\n",
       "    <tr>\n",
       "      <th>17</th>\n",
       "      <td>kwai-video.com</td>\n",
       "      <td>863</td>\n",
       "    </tr>\n",
       "    <tr>\n",
       "      <th>18</th>\n",
       "      <td>gettr.com</td>\n",
       "      <td>842</td>\n",
       "    </tr>\n",
       "    <tr>\n",
       "      <th>19</th>\n",
       "      <td>vistapatria.com.br</td>\n",
       "      <td>830</td>\n",
       "    </tr>\n",
       "    <tr>\n",
       "      <th>20</th>\n",
       "      <td>verdadecensurada.com.br</td>\n",
       "      <td>829</td>\n",
       "    </tr>\n",
       "    <tr>\n",
       "      <th>21</th>\n",
       "      <td>instagram.com</td>\n",
       "      <td>822</td>\n",
       "    </tr>\n",
       "    <tr>\n",
       "      <th>22</th>\n",
       "      <td>t.me/+ewZIPdZ42vEyNzJh</td>\n",
       "      <td>772</td>\n",
       "    </tr>\n",
       "    <tr>\n",
       "      <th>23</th>\n",
       "      <td>www.conexaopolitica.com.br</td>\n",
       "      <td>746</td>\n",
       "    </tr>\n",
       "    <tr>\n",
       "      <th>24</th>\n",
       "      <td>vm.tiktok.com</td>\n",
       "      <td>744</td>\n",
       "    </tr>\n",
       "    <tr>\n",
       "      <th>25</th>\n",
       "      <td>m.youtube.com</td>\n",
       "      <td>688</td>\n",
       "    </tr>\n",
       "    <tr>\n",
       "      <th>26</th>\n",
       "      <td>T.me/Arthur_Senna_Trader2</td>\n",
       "      <td>640</td>\n",
       "    </tr>\n",
       "    <tr>\n",
       "      <th>27</th>\n",
       "      <td>noticias.uol.com.br</td>\n",
       "      <td>627</td>\n",
       "    </tr>\n",
       "    <tr>\n",
       "      <th>28</th>\n",
       "      <td>tribunanacional.com.br</td>\n",
       "      <td>609</td>\n",
       "    </tr>\n",
       "    <tr>\n",
       "      <th>29</th>\n",
       "      <td>fb.watch</td>\n",
       "      <td>573</td>\n",
       "    </tr>\n",
       "  </tbody>\n",
       "</table>\n",
       "</div>"
      ],
      "text/plain": [
       "                            dominio  quantidade\n",
       "0                          youtu.be       52731\n",
       "1                              t.me       10712\n",
       "2                   www.youtube.com        8315\n",
       "3           terrabrasilnoticias.com        8282\n",
       "4                       youtube.com        5967\n",
       "5                 www.instagram.com        5784\n",
       "6   www.jornaldacidadeonline.com.br        4829\n",
       "7                       twitter.com        4390\n",
       "8                 t.me/alexeconomia        4159\n",
       "9               gazetabrasil.com.br        1779\n",
       "10                       pleno.news        1601\n",
       "11                t.me/fimtaproximo        1581\n",
       "12           t.me/+EWlGMatRZGg3OTlh        1419\n",
       "13                 www.facebook.com        1356\n",
       "14                 www.bitchute.com        1178\n",
       "15  www.aliadosbrasiloficial.com.br         945\n",
       "16                 revistaoeste.com         920\n",
       "17                   kwai-video.com         863\n",
       "18                        gettr.com         842\n",
       "19               vistapatria.com.br         830\n",
       "20          verdadecensurada.com.br         829\n",
       "21                    instagram.com         822\n",
       "22           t.me/+ewZIPdZ42vEyNzJh         772\n",
       "23       www.conexaopolitica.com.br         746\n",
       "24                    vm.tiktok.com         744\n",
       "25                    m.youtube.com         688\n",
       "26        T.me/Arthur_Senna_Trader2         640\n",
       "27              noticias.uol.com.br         627\n",
       "28           tribunanacional.com.br         609\n",
       "29                         fb.watch         573"
      ]
     },
     "metadata": {},
     "output_type": "display_data"
    }
   ],
   "source": [
    "dominios_mais_compartilhados = conn.execute(\"\"\"\n",
    "    SELECT\n",
    "    CASE\n",
    "        WHEN media_url LIKE 'http://%' THEN SUBSTRING(media_url, 8, POSITION('/' IN SUBSTRING(media_url, 8)) - 1)\n",
    "        WHEN media_url LIKE 'https://%' THEN SUBSTRING(media_url, 9, POSITION('/' IN SUBSTRING(media_url, 9)) - 1)\n",
    "        ELSE media_url\n",
    "    END AS dominio,\n",
    "    COUNT(*) AS quantidade\n",
    "FROM tabela_dados\n",
    "WHERE media_url IS NOT NULL\n",
    "GROUP BY dominio\n",
    "ORDER BY quantidade DESC\n",
    "LIMIT 30;                                   \n",
    "\"\"\").fetchdf()\n",
    "\n",
    "display(dominios_mais_compartilhados)"
   ]
  },
  {
   "cell_type": "markdown",
   "id": "c4bc611b",
   "metadata": {},
   "source": [
    "Também busquei realizar um tratamento adicional para unificar domínios que se referiam à mesma plataforma, por exemplo, `youtu.be` e `youtube.com`."
   ]
  },
  {
   "cell_type": "code",
   "execution_count": null,
   "id": "fdc853ba",
   "metadata": {},
   "outputs": [
    {
     "name": "stderr",
     "output_type": "stream",
     "text": [
      "<>:1: SyntaxWarning: invalid escape sequence '\\.'\n",
      "<>:1: SyntaxWarning: invalid escape sequence '\\.'\n",
      "C:\\Users\\esthe\\AppData\\Local\\Temp\\ipykernel_10320\\3980102472.py:1: SyntaxWarning: invalid escape sequence '\\.'\n",
      "  dominios_mais_compartilhados_update = conn.execute(\"\"\"\n"
     ]
    },
    {
     "data": {
      "application/vnd.microsoft.datawrangler.viewer.v0+json": {
       "columns": [
        {
         "name": "index",
         "rawType": "int64",
         "type": "integer"
        },
        {
         "name": "dominio",
         "rawType": "object",
         "type": "string"
        },
        {
         "name": "quantidade",
         "rawType": "int64",
         "type": "integer"
        },
        {
         "name": "percentagem",
         "rawType": "float64",
         "type": "float"
        }
       ],
       "conversionMethod": "pd.DataFrame",
       "ref": "b299ed8f-14bc-4589-8bc4-92b7c1d9a30f",
       "rows": [
        [
         "0",
         "youtube.com",
         "68312",
         "43.39"
        ],
        [
         "1",
         "\u0002",
         "55182",
         "35.05"
        ],
        [
         "2",
         "t.me",
         "21377",
         "13.58"
        ],
        [
         "3",
         "instagram.com",
         "6671",
         "4.24"
        ],
        [
         "4",
         "twitter.com",
         "4863",
         "3.09"
        ],
        [
         "5",
         "www.ceifadores.com.br",
         "77",
         "0.05"
        ],
        [
         "6",
         "www.marketingdigitalparavencer.com.br",
         "73",
         "0.05"
        ],
        [
         "7",
         "www.fiscaisdobolsonaro.com.br",
         "48",
         "0.03"
        ],
        [
         "8",
         "brazilwasstolen.com/pt/",
         "42",
         "0.03"
        ],
        [
         "9",
         "www.starday.com.br/crp",
         "39",
         "0.02"
        ],
        [
         "10",
         "Telegram.me/joinchat/omsNspWKN4dkNjk0",
         "32",
         "0.02"
        ],
        [
         "11",
         "www.starday.com.br/xx",
         "19",
         "0.01"
        ],
        [
         "12",
         "www.pvdeus.com.br",
         "17",
         "0.01"
        ],
        [
         "13",
         "is.gd/qu1FoK",
         "15",
         "0.01"
        ],
        [
         "14",
         "linktr.ee/PatriaAmadaBrasil",
         "15",
         "0.01"
        ],
        [
         "15",
         "is.gd/DRAD9d",
         "12",
         "0.01"
        ],
        [
         "16",
         "pt.org.br/blog-secretari…",
         "12",
         "0.01"
        ],
        [
         "17",
         "www12.senado.leg.br/radio/1/noticia/2022/08/15/conheca-as-regras-para-propaganda-eleitoral-nas-redes-sociais",
         "12",
         "0.01"
        ],
        [
         "18",
         "telegram.me/joinchat/18_vJXqRmV82OTA8",
         "11",
         "0.01"
        ],
        [
         "19",
         "noticias.r7.com/eleicoes-2022/…",
         "10",
         "0.01"
        ],
        [
         "20",
         "www.amaurizanforlin.com.br",
         "10",
         "0.01"
        ],
        [
         "21",
         "www.felipefolgosi.com",
         "10",
         "0.01"
        ],
        [
         "22",
         "revistaoeste.com/politica/eleic…",
         "10",
         "0.01"
        ],
        [
         "23",
         "www.carlazambelli.com.br",
         "10",
         "0.01"
        ],
        [
         "24",
         "bit.ly/3yB06p7",
         "9",
         "0.01"
        ],
        [
         "25",
         "www.ligadalealdade.com.br",
         "9",
         "0.01"
        ],
        [
         "26",
         "veja.abril.com.br/coluna/radar/b…",
         "9",
         "0.01"
        ],
        [
         "27",
         "valor.globo.com/politica/eleic…",
         "8",
         "0.01"
        ],
        [
         "28",
         "www.telegram.me/joinchat/rQ6F7B3vftBiY2E0",
         "8",
         "0.01"
        ],
        [
         "29",
         "poder360.com.br/congresso/saib…",
         "8",
         "0.01"
        ]
       ],
       "shape": {
        "columns": 3,
        "rows": 30
       }
      },
      "text/html": [
       "<div>\n",
       "<style scoped>\n",
       "    .dataframe tbody tr th:only-of-type {\n",
       "        vertical-align: middle;\n",
       "    }\n",
       "\n",
       "    .dataframe tbody tr th {\n",
       "        vertical-align: top;\n",
       "    }\n",
       "\n",
       "    .dataframe thead th {\n",
       "        text-align: right;\n",
       "    }\n",
       "</style>\n",
       "<table border=\"1\" class=\"dataframe\">\n",
       "  <thead>\n",
       "    <tr style=\"text-align: right;\">\n",
       "      <th></th>\n",
       "      <th>dominio</th>\n",
       "      <th>quantidade</th>\n",
       "      <th>percentagem</th>\n",
       "    </tr>\n",
       "  </thead>\n",
       "  <tbody>\n",
       "    <tr>\n",
       "      <th>0</th>\n",
       "      <td>youtube.com</td>\n",
       "      <td>68312</td>\n",
       "      <td>43.39</td>\n",
       "    </tr>\n",
       "    <tr>\n",
       "      <th>1</th>\n",
       "      <td>\u0002</td>\n",
       "      <td>55182</td>\n",
       "      <td>35.05</td>\n",
       "    </tr>\n",
       "    <tr>\n",
       "      <th>2</th>\n",
       "      <td>t.me</td>\n",
       "      <td>21377</td>\n",
       "      <td>13.58</td>\n",
       "    </tr>\n",
       "    <tr>\n",
       "      <th>3</th>\n",
       "      <td>instagram.com</td>\n",
       "      <td>6671</td>\n",
       "      <td>4.24</td>\n",
       "    </tr>\n",
       "    <tr>\n",
       "      <th>4</th>\n",
       "      <td>twitter.com</td>\n",
       "      <td>4863</td>\n",
       "      <td>3.09</td>\n",
       "    </tr>\n",
       "    <tr>\n",
       "      <th>5</th>\n",
       "      <td>www.ceifadores.com.br</td>\n",
       "      <td>77</td>\n",
       "      <td>0.05</td>\n",
       "    </tr>\n",
       "    <tr>\n",
       "      <th>6</th>\n",
       "      <td>www.marketingdigitalparavencer.com.br</td>\n",
       "      <td>73</td>\n",
       "      <td>0.05</td>\n",
       "    </tr>\n",
       "    <tr>\n",
       "      <th>7</th>\n",
       "      <td>www.fiscaisdobolsonaro.com.br</td>\n",
       "      <td>48</td>\n",
       "      <td>0.03</td>\n",
       "    </tr>\n",
       "    <tr>\n",
       "      <th>8</th>\n",
       "      <td>brazilwasstolen.com/pt/</td>\n",
       "      <td>42</td>\n",
       "      <td>0.03</td>\n",
       "    </tr>\n",
       "    <tr>\n",
       "      <th>9</th>\n",
       "      <td>www.starday.com.br/crp</td>\n",
       "      <td>39</td>\n",
       "      <td>0.02</td>\n",
       "    </tr>\n",
       "    <tr>\n",
       "      <th>10</th>\n",
       "      <td>Telegram.me/joinchat/omsNspWKN4dkNjk0</td>\n",
       "      <td>32</td>\n",
       "      <td>0.02</td>\n",
       "    </tr>\n",
       "    <tr>\n",
       "      <th>11</th>\n",
       "      <td>www.starday.com.br/xx</td>\n",
       "      <td>19</td>\n",
       "      <td>0.01</td>\n",
       "    </tr>\n",
       "    <tr>\n",
       "      <th>12</th>\n",
       "      <td>www.pvdeus.com.br</td>\n",
       "      <td>17</td>\n",
       "      <td>0.01</td>\n",
       "    </tr>\n",
       "    <tr>\n",
       "      <th>13</th>\n",
       "      <td>is.gd/qu1FoK</td>\n",
       "      <td>15</td>\n",
       "      <td>0.01</td>\n",
       "    </tr>\n",
       "    <tr>\n",
       "      <th>14</th>\n",
       "      <td>linktr.ee/PatriaAmadaBrasil</td>\n",
       "      <td>15</td>\n",
       "      <td>0.01</td>\n",
       "    </tr>\n",
       "    <tr>\n",
       "      <th>15</th>\n",
       "      <td>is.gd/DRAD9d</td>\n",
       "      <td>12</td>\n",
       "      <td>0.01</td>\n",
       "    </tr>\n",
       "    <tr>\n",
       "      <th>16</th>\n",
       "      <td>pt.org.br/blog-secretari…</td>\n",
       "      <td>12</td>\n",
       "      <td>0.01</td>\n",
       "    </tr>\n",
       "    <tr>\n",
       "      <th>17</th>\n",
       "      <td>www12.senado.leg.br/radio/1/noticia/2022/08/15...</td>\n",
       "      <td>12</td>\n",
       "      <td>0.01</td>\n",
       "    </tr>\n",
       "    <tr>\n",
       "      <th>18</th>\n",
       "      <td>telegram.me/joinchat/18_vJXqRmV82OTA8</td>\n",
       "      <td>11</td>\n",
       "      <td>0.01</td>\n",
       "    </tr>\n",
       "    <tr>\n",
       "      <th>19</th>\n",
       "      <td>noticias.r7.com/eleicoes-2022/…</td>\n",
       "      <td>10</td>\n",
       "      <td>0.01</td>\n",
       "    </tr>\n",
       "    <tr>\n",
       "      <th>20</th>\n",
       "      <td>www.amaurizanforlin.com.br</td>\n",
       "      <td>10</td>\n",
       "      <td>0.01</td>\n",
       "    </tr>\n",
       "    <tr>\n",
       "      <th>21</th>\n",
       "      <td>www.felipefolgosi.com</td>\n",
       "      <td>10</td>\n",
       "      <td>0.01</td>\n",
       "    </tr>\n",
       "    <tr>\n",
       "      <th>22</th>\n",
       "      <td>revistaoeste.com/politica/eleic…</td>\n",
       "      <td>10</td>\n",
       "      <td>0.01</td>\n",
       "    </tr>\n",
       "    <tr>\n",
       "      <th>23</th>\n",
       "      <td>www.carlazambelli.com.br</td>\n",
       "      <td>10</td>\n",
       "      <td>0.01</td>\n",
       "    </tr>\n",
       "    <tr>\n",
       "      <th>24</th>\n",
       "      <td>bit.ly/3yB06p7</td>\n",
       "      <td>9</td>\n",
       "      <td>0.01</td>\n",
       "    </tr>\n",
       "    <tr>\n",
       "      <th>25</th>\n",
       "      <td>www.ligadalealdade.com.br</td>\n",
       "      <td>9</td>\n",
       "      <td>0.01</td>\n",
       "    </tr>\n",
       "    <tr>\n",
       "      <th>26</th>\n",
       "      <td>veja.abril.com.br/coluna/radar/b…</td>\n",
       "      <td>9</td>\n",
       "      <td>0.01</td>\n",
       "    </tr>\n",
       "    <tr>\n",
       "      <th>27</th>\n",
       "      <td>valor.globo.com/politica/eleic…</td>\n",
       "      <td>8</td>\n",
       "      <td>0.01</td>\n",
       "    </tr>\n",
       "    <tr>\n",
       "      <th>28</th>\n",
       "      <td>www.telegram.me/joinchat/rQ6F7B3vftBiY2E0</td>\n",
       "      <td>8</td>\n",
       "      <td>0.01</td>\n",
       "    </tr>\n",
       "    <tr>\n",
       "      <th>29</th>\n",
       "      <td>poder360.com.br/congresso/saib…</td>\n",
       "      <td>8</td>\n",
       "      <td>0.01</td>\n",
       "    </tr>\n",
       "  </tbody>\n",
       "</table>\n",
       "</div>"
      ],
      "text/plain": [
       "                                              dominio  quantidade  percentagem\n",
       "0                                         youtube.com       68312        43.39\n",
       "1                                                   \u0002       55182        35.05\n",
       "2                                                t.me       21377        13.58\n",
       "3                                       instagram.com        6671         4.24\n",
       "4                                         twitter.com        4863         3.09\n",
       "5                               www.ceifadores.com.br          77         0.05\n",
       "6               www.marketingdigitalparavencer.com.br          73         0.05\n",
       "7                       www.fiscaisdobolsonaro.com.br          48         0.03\n",
       "8                             brazilwasstolen.com/pt/          42         0.03\n",
       "9                              www.starday.com.br/crp          39         0.02\n",
       "10              Telegram.me/joinchat/omsNspWKN4dkNjk0          32         0.02\n",
       "11                              www.starday.com.br/xx          19         0.01\n",
       "12                                  www.pvdeus.com.br          17         0.01\n",
       "13                                       is.gd/qu1FoK          15         0.01\n",
       "14                        linktr.ee/PatriaAmadaBrasil          15         0.01\n",
       "15                                       is.gd/DRAD9d          12         0.01\n",
       "16                          pt.org.br/blog-secretari…          12         0.01\n",
       "17  www12.senado.leg.br/radio/1/noticia/2022/08/15...          12         0.01\n",
       "18              telegram.me/joinchat/18_vJXqRmV82OTA8          11         0.01\n",
       "19                    noticias.r7.com/eleicoes-2022/…          10         0.01\n",
       "20                         www.amaurizanforlin.com.br          10         0.01\n",
       "21                              www.felipefolgosi.com          10         0.01\n",
       "22                   revistaoeste.com/politica/eleic…          10         0.01\n",
       "23                           www.carlazambelli.com.br          10         0.01\n",
       "24                                     bit.ly/3yB06p7           9         0.01\n",
       "25                          www.ligadalealdade.com.br           9         0.01\n",
       "26                  veja.abril.com.br/coluna/radar/b…           9         0.01\n",
       "27                    valor.globo.com/politica/eleic…           8         0.01\n",
       "28          www.telegram.me/joinchat/rQ6F7B3vftBiY2E0           8         0.01\n",
       "29                    poder360.com.br/congresso/saib…           8         0.01"
      ]
     },
     "metadata": {},
     "output_type": "display_data"
    }
   ],
   "source": [
    "dominios_mais_compartilhados_update = conn.execute(\"\"\"\n",
    "   WITH dominios_unificados AS (\n",
    "    SELECT\n",
    "        CASE\n",
    "            -- Unifica variações do YouTube\n",
    "            WHEN LOWER(media_url) LIKE '%youtube.com%' OR LOWER(media_url) LIKE '%youtu.be%' \n",
    "            THEN 'youtube.com'\n",
    "            \n",
    "            -- Unifica variações do Telegram\n",
    "            WHEN LOWER(media_url) LIKE '%t.me%' OR LOWER(media_url) LIKE '%T.me%'\n",
    "            THEN 't.me'\n",
    "            \n",
    "            -- Unifica variações do Instagram\n",
    "            WHEN LOWER(media_url) LIKE '%instagram.com%' \n",
    "            THEN 'instagram.com'\n",
    "            \n",
    "            -- Unifica variações do Twitter\n",
    "            WHEN LOWER(media_url) LIKE '%twitter.com%' OR LOWER(media_url) LIKE '%x.com%' \n",
    "            THEN 'twitter.com'\n",
    "            \n",
    "            -- Remove 'www.' e outros subdomínios para casos gerais\n",
    "            WHEN media_url LIKE 'http://%' OR media_url LIKE 'https://%' \n",
    "            THEN REGEXP_REPLACE(\n",
    "                REGEXP_REPLACE(media_url, '^https?://(www\\.)?([^/]+).*', '\\2'),\n",
    "                '^([^.]+\\.)?([a-z-]+\\.[a-z]{2,6})$', '\\2'\n",
    "            )\n",
    "            \n",
    "            ELSE media_url\n",
    "        END AS dominio_unificado,\n",
    "        media_url\n",
    "    FROM tabela_dados\n",
    "    WHERE media_url IS NOT NULL AND media_url != ''\n",
    "    )\n",
    "    SELECT\n",
    "        dominio_unificado AS dominio,\n",
    "        COUNT(*) AS quantidade,\n",
    "        ROUND(COUNT(*) * 100.0 / (SELECT COUNT(*) FROM dominios_unificados), 2) AS percentagem\n",
    "    FROM dominios_unificados\n",
    "    GROUP BY dominio_unificado\n",
    "    ORDER BY quantidade DESC\n",
    "    LIMIT 30;                            \n",
    "\"\"\").fetchdf()\n",
    "\n",
    "display(dominios_mais_compartilhados_update)"
   ]
  },
  {
   "cell_type": "markdown",
   "id": "9c758809",
   "metadata": {},
   "source": [
    "---"
   ]
  },
  {
   "cell_type": "markdown",
   "id": "9692d3d4",
   "metadata": {},
   "source": [
    "#### **14**. Os 30 usuários mais ativos"
   ]
  },
  {
   "cell_type": "markdown",
   "id": "2f5c8521",
   "metadata": {},
   "source": [
    "Essa consulta foi construída para descobrir quem são os 30 usuários mais ativos com base no volume de mensagens que enviaram. Eu dividi a análise em duas partes principais usando uma Common Table Expression (CTE), que é esse bloco `WITH atividade_usuarios AS (...)`. Além disso, a coluna `id_member_anonymous` é fundamental nessa consulta — e em qualquer análise de comportamento de usuários — porque ela representa o identificador único de cada usuário, mesmo que de forma anônima.\n",
    "\n",
    "Essa consulta me dá um retrato bem completo dos usuários mais ativos da base, não só em volume, mas em variedade de atividade (dias, grupos, tipos de mídia). E ainda consigo comparar o peso de cada um no total com esse percentual."
   ]
  },
  {
   "cell_type": "code",
   "execution_count": 38,
   "id": "9ff55620",
   "metadata": {},
   "outputs": [
    {
     "data": {
      "application/vnd.microsoft.datawrangler.viewer.v0+json": {
       "columns": [
        {
         "name": "index",
         "rawType": "int64",
         "type": "integer"
        },
        {
         "name": "usuario",
         "rawType": "object",
         "type": "string"
        },
        {
         "name": "total_mensagens",
         "rawType": "int64",
         "type": "integer"
        },
        {
         "name": "grupos_ativos",
         "rawType": "int64",
         "type": "integer"
        },
        {
         "name": "dias_ativos",
         "rawType": "int64",
         "type": "integer"
        },
        {
         "name": "primeira_atividade",
         "rawType": "object",
         "type": "string"
        },
        {
         "name": "ultima_atividade",
         "rawType": "object",
         "type": "string"
        },
        {
         "name": "tipos_conteudo",
         "rawType": "int64",
         "type": "integer"
        },
        {
         "name": "midias_enviadas",
         "rawType": "float64",
         "type": "float"
        },
        {
         "name": "percentual_total",
         "rawType": "float64",
         "type": "float"
        },
        {
         "name": "ranking",
         "rawType": "int64",
         "type": "integer"
        }
       ],
       "conversionMethod": "pd.DataFrame",
       "ref": "20fa48a0-90c1-4f5d-af82-651ad2d27a0f",
       "rows": [
        [
         "0",
         "abe534d581ec6d552243d6955d3c3cd8",
         "12289",
         "8",
         "44",
         "2022-09-29 00:00:15",
         "2022-11-11 11:16:39",
         "1",
         "0.0",
         "5.25",
         "1"
        ],
        [
         "1",
         "1665e22b0f564cd46d343f7677014821",
         "5452",
         "14",
         "44",
         "2022-09-29 00:34:32",
         "2022-11-11 11:58:44",
         "2",
         "2972.0",
         "2.33",
         "2"
        ],
        [
         "2",
         "1ac091b8ed5c4e42383f1b4ff4cc9b2d",
         "5060",
         "2",
         "36",
         "2022-09-29 00:49:50",
         "2022-11-03 19:43:48",
         "5",
         "4632.0",
         "2.16",
         "3"
        ],
        [
         "3",
         "c743967449a387ad2c1c7e03b2c45b36",
         "3019",
         "1",
         "38",
         "2022-10-05 15:00:20",
         "2022-11-11 11:00:40",
         "2",
         "152.0",
         "1.29",
         "4"
        ],
        [
         "4",
         "e7998863ac2a40086657fab4a6b463c9",
         "1928",
         "2",
         "39",
         "2022-10-04 22:27:13",
         "2022-11-11 12:01:04",
         "5",
         "1498.0",
         "0.82",
         "5"
        ],
        [
         "5",
         "e8fd8fee8c39342d37993775da7756d5",
         "1706",
         "1",
         "43",
         "2022-09-29 11:11:51",
         "2022-11-10 22:53:26",
         "3",
         "1007.0",
         "0.73",
         "6"
        ],
        [
         "6",
         "2f4be6244ede15b46e8329a2c975be30",
         "1620",
         "2",
         "44",
         "2022-09-29 00:19:30",
         "2022-11-11 03:52:55",
         "3",
         "1489.0",
         "0.69",
         "7"
        ],
        [
         "7",
         "d49f81df0c75d1d72bee6c5b2d707da0",
         "1571",
         "2",
         "44",
         "2022-09-29 01:02:26",
         "2022-11-11 10:01:23",
         "1",
         "0.0",
         "0.67",
         "8"
        ],
        [
         "8",
         "4f7d493f0f6222d56e5b19a4f7c336cc",
         "1447",
         "8",
         "41",
         "2022-09-29 02:52:53",
         "2022-11-11 01:32:21",
         "4",
         "1359.0",
         "0.62",
         "9"
        ],
        [
         "9",
         "773b9bd5b02a2e96f9d732c29bfcb663",
         "1411",
         "1",
         "43",
         "2022-09-29 09:26:19",
         "2022-11-11 09:43:53",
         "3",
         "1167.0",
         "0.6",
         "10"
        ],
        [
         "10",
         "c052c859b42c5a1923c22f5a201de746",
         "1386",
         "3",
         "26",
         "2022-10-05 04:58:52",
         "2022-11-09 23:23:47",
         "5",
         "1289.0",
         "0.59",
         "11"
        ],
        [
         "11",
         "f233cf8b1d4ede06f32199a7e0081bf5",
         "1273",
         "2",
         "10",
         "2022-11-01 07:32:10",
         "2022-11-10 20:40:29",
         "6",
         "251.0",
         "0.54",
         "12"
        ],
        [
         "12",
         "56b8359fd127312651b80b8ed8030085",
         "1206",
         "1",
         "43",
         "2022-09-29 04:14:55",
         "2022-11-11 11:41:08",
         "5",
         "1079.0",
         "0.51",
         "13"
        ],
        [
         "13",
         "e5e3e38d433016adf62ea34432853a3c",
         "1095",
         "3",
         "43",
         "2022-09-29 01:44:33",
         "2022-11-11 00:30:40",
         "5",
         "734.0",
         "0.47",
         "14"
        ],
        [
         "14",
         "fa582c9e95da255e44f4c198d0daf3df",
         "1031",
         "1",
         "31",
         "2022-09-29 11:40:21",
         "2022-10-31 22:04:20",
         "4",
         "914.0",
         "0.44",
         "15"
        ],
        [
         "15",
         "3e49fd40fd973ee1b8f1a6d58feb4a54",
         "990",
         "1",
         "41",
         "2022-09-29 01:03:46",
         "2022-11-11 12:05:56",
         "3",
         "965.0",
         "0.42",
         "16"
        ],
        [
         "16",
         "cf061f911f3df59fca0b3f084abe88cc",
         "981",
         "4",
         "43",
         "2022-09-29 00:33:23",
         "2022-11-11 11:21:29",
         "5",
         "802.0",
         "0.42",
         "17"
        ],
        [
         "17",
         "f4561a21fb26cfbebf48dcd5c557f82f",
         "952",
         "1",
         "41",
         "2022-09-29 08:03:56",
         "2022-11-11 11:53:17",
         "5",
         "650.0",
         "0.41",
         "18"
        ],
        [
         "18",
         "40743c2ea5139af088057763ab069b1a",
         "949",
         "4",
         "15",
         "2022-10-14 05:19:19",
         "2022-11-11 09:37:56",
         "4",
         "758.0",
         "0.41",
         "19"
        ],
        [
         "19",
         "bd7859770eef94f34d0344a5397c5443",
         "944",
         "6",
         "43",
         "2022-09-29 19:15:46",
         "2022-11-11 01:26:17",
         "4",
         "717.0",
         "0.4",
         "20"
        ],
        [
         "20",
         "beb77036ff26e78865da19310ac95169",
         "897",
         "2",
         "31",
         "2022-09-29 00:18:42",
         "2022-10-30 00:53:03",
         "4",
         "797.0",
         "0.38",
         "21"
        ],
        [
         "21",
         "50cc2b20a3c2c24ce68bb2c0554ddae1",
         "852",
         "1",
         "32",
         "2022-09-29 11:25:26",
         "2022-11-02 00:00:30",
         "3",
         "801.0",
         "0.36",
         "22"
        ],
        [
         "22",
         "fbbbfb737acb18812f7de2400841abc3",
         "847",
         "6",
         "14",
         "2022-09-30 15:17:23",
         "2022-10-13 16:42:03",
         "3",
         "605.0",
         "0.36",
         "23"
        ],
        [
         "23",
         "79fa510c3ab44548d903284ab9162c9d",
         "833",
         "1",
         "35",
         "2022-09-29 03:57:43",
         "2022-11-02 01:42:22",
         "6",
         "704.0",
         "0.36",
         "24"
        ],
        [
         "24",
         "566ba5c5eeeac2fc18b65965c3909a1f",
         "787",
         "1",
         "35",
         "2022-09-29 00:45:35",
         "2022-11-02 10:03:18",
         "4",
         "495.0",
         "0.34",
         "25"
        ],
        [
         "25",
         "27f5833380581fab3453c1acd26427d5",
         "750",
         "2",
         "43",
         "2022-09-29 02:13:42",
         "2022-11-11 00:12:06",
         "3",
         "420.0",
         "0.32",
         "26"
        ],
        [
         "26",
         "22da7e558d613074dc701f8a40bc955b",
         "735",
         "5",
         "33",
         "2022-09-29 00:16:25",
         "2022-11-02 10:24:58",
         "5",
         "672.0",
         "0.31",
         "27"
        ],
        [
         "27",
         "74ce4ba0ef6c0d51e6a508b0bb2d37b8",
         "730",
         "2",
         "36",
         "2022-09-29 00:16:45",
         "2022-11-05 13:12:10",
         "4",
         "615.0",
         "0.31",
         "28"
        ],
        [
         "28",
         "a378e9743fa3ca297df321cfa0e7cf6a",
         "714",
         "1",
         "32",
         "2022-09-29 22:10:25",
         "2022-11-09 03:06:21",
         "3",
         "116.0",
         "0.3",
         "29"
        ],
        [
         "29",
         "cb68fd028cfdfc837248144a18673ffb",
         "714",
         "1",
         "11",
         "2022-10-06 10:21:25",
         "2022-10-28 16:23:32",
         "4",
         "621.0",
         "0.3",
         "29"
        ]
       ],
       "shape": {
        "columns": 10,
        "rows": 30
       }
      },
      "text/html": [
       "<div>\n",
       "<style scoped>\n",
       "    .dataframe tbody tr th:only-of-type {\n",
       "        vertical-align: middle;\n",
       "    }\n",
       "\n",
       "    .dataframe tbody tr th {\n",
       "        vertical-align: top;\n",
       "    }\n",
       "\n",
       "    .dataframe thead th {\n",
       "        text-align: right;\n",
       "    }\n",
       "</style>\n",
       "<table border=\"1\" class=\"dataframe\">\n",
       "  <thead>\n",
       "    <tr style=\"text-align: right;\">\n",
       "      <th></th>\n",
       "      <th>usuario</th>\n",
       "      <th>total_mensagens</th>\n",
       "      <th>grupos_ativos</th>\n",
       "      <th>dias_ativos</th>\n",
       "      <th>primeira_atividade</th>\n",
       "      <th>ultima_atividade</th>\n",
       "      <th>tipos_conteudo</th>\n",
       "      <th>midias_enviadas</th>\n",
       "      <th>percentual_total</th>\n",
       "      <th>ranking</th>\n",
       "    </tr>\n",
       "  </thead>\n",
       "  <tbody>\n",
       "    <tr>\n",
       "      <th>0</th>\n",
       "      <td>abe534d581ec6d552243d6955d3c3cd8</td>\n",
       "      <td>12289</td>\n",
       "      <td>8</td>\n",
       "      <td>44</td>\n",
       "      <td>2022-09-29 00:00:15</td>\n",
       "      <td>2022-11-11 11:16:39</td>\n",
       "      <td>1</td>\n",
       "      <td>0.0</td>\n",
       "      <td>5.25</td>\n",
       "      <td>1</td>\n",
       "    </tr>\n",
       "    <tr>\n",
       "      <th>1</th>\n",
       "      <td>1665e22b0f564cd46d343f7677014821</td>\n",
       "      <td>5452</td>\n",
       "      <td>14</td>\n",
       "      <td>44</td>\n",
       "      <td>2022-09-29 00:34:32</td>\n",
       "      <td>2022-11-11 11:58:44</td>\n",
       "      <td>2</td>\n",
       "      <td>2972.0</td>\n",
       "      <td>2.33</td>\n",
       "      <td>2</td>\n",
       "    </tr>\n",
       "    <tr>\n",
       "      <th>2</th>\n",
       "      <td>1ac091b8ed5c4e42383f1b4ff4cc9b2d</td>\n",
       "      <td>5060</td>\n",
       "      <td>2</td>\n",
       "      <td>36</td>\n",
       "      <td>2022-09-29 00:49:50</td>\n",
       "      <td>2022-11-03 19:43:48</td>\n",
       "      <td>5</td>\n",
       "      <td>4632.0</td>\n",
       "      <td>2.16</td>\n",
       "      <td>3</td>\n",
       "    </tr>\n",
       "    <tr>\n",
       "      <th>3</th>\n",
       "      <td>c743967449a387ad2c1c7e03b2c45b36</td>\n",
       "      <td>3019</td>\n",
       "      <td>1</td>\n",
       "      <td>38</td>\n",
       "      <td>2022-10-05 15:00:20</td>\n",
       "      <td>2022-11-11 11:00:40</td>\n",
       "      <td>2</td>\n",
       "      <td>152.0</td>\n",
       "      <td>1.29</td>\n",
       "      <td>4</td>\n",
       "    </tr>\n",
       "    <tr>\n",
       "      <th>4</th>\n",
       "      <td>e7998863ac2a40086657fab4a6b463c9</td>\n",
       "      <td>1928</td>\n",
       "      <td>2</td>\n",
       "      <td>39</td>\n",
       "      <td>2022-10-04 22:27:13</td>\n",
       "      <td>2022-11-11 12:01:04</td>\n",
       "      <td>5</td>\n",
       "      <td>1498.0</td>\n",
       "      <td>0.82</td>\n",
       "      <td>5</td>\n",
       "    </tr>\n",
       "    <tr>\n",
       "      <th>5</th>\n",
       "      <td>e8fd8fee8c39342d37993775da7756d5</td>\n",
       "      <td>1706</td>\n",
       "      <td>1</td>\n",
       "      <td>43</td>\n",
       "      <td>2022-09-29 11:11:51</td>\n",
       "      <td>2022-11-10 22:53:26</td>\n",
       "      <td>3</td>\n",
       "      <td>1007.0</td>\n",
       "      <td>0.73</td>\n",
       "      <td>6</td>\n",
       "    </tr>\n",
       "    <tr>\n",
       "      <th>6</th>\n",
       "      <td>2f4be6244ede15b46e8329a2c975be30</td>\n",
       "      <td>1620</td>\n",
       "      <td>2</td>\n",
       "      <td>44</td>\n",
       "      <td>2022-09-29 00:19:30</td>\n",
       "      <td>2022-11-11 03:52:55</td>\n",
       "      <td>3</td>\n",
       "      <td>1489.0</td>\n",
       "      <td>0.69</td>\n",
       "      <td>7</td>\n",
       "    </tr>\n",
       "    <tr>\n",
       "      <th>7</th>\n",
       "      <td>d49f81df0c75d1d72bee6c5b2d707da0</td>\n",
       "      <td>1571</td>\n",
       "      <td>2</td>\n",
       "      <td>44</td>\n",
       "      <td>2022-09-29 01:02:26</td>\n",
       "      <td>2022-11-11 10:01:23</td>\n",
       "      <td>1</td>\n",
       "      <td>0.0</td>\n",
       "      <td>0.67</td>\n",
       "      <td>8</td>\n",
       "    </tr>\n",
       "    <tr>\n",
       "      <th>8</th>\n",
       "      <td>4f7d493f0f6222d56e5b19a4f7c336cc</td>\n",
       "      <td>1447</td>\n",
       "      <td>8</td>\n",
       "      <td>41</td>\n",
       "      <td>2022-09-29 02:52:53</td>\n",
       "      <td>2022-11-11 01:32:21</td>\n",
       "      <td>4</td>\n",
       "      <td>1359.0</td>\n",
       "      <td>0.62</td>\n",
       "      <td>9</td>\n",
       "    </tr>\n",
       "    <tr>\n",
       "      <th>9</th>\n",
       "      <td>773b9bd5b02a2e96f9d732c29bfcb663</td>\n",
       "      <td>1411</td>\n",
       "      <td>1</td>\n",
       "      <td>43</td>\n",
       "      <td>2022-09-29 09:26:19</td>\n",
       "      <td>2022-11-11 09:43:53</td>\n",
       "      <td>3</td>\n",
       "      <td>1167.0</td>\n",
       "      <td>0.60</td>\n",
       "      <td>10</td>\n",
       "    </tr>\n",
       "    <tr>\n",
       "      <th>10</th>\n",
       "      <td>c052c859b42c5a1923c22f5a201de746</td>\n",
       "      <td>1386</td>\n",
       "      <td>3</td>\n",
       "      <td>26</td>\n",
       "      <td>2022-10-05 04:58:52</td>\n",
       "      <td>2022-11-09 23:23:47</td>\n",
       "      <td>5</td>\n",
       "      <td>1289.0</td>\n",
       "      <td>0.59</td>\n",
       "      <td>11</td>\n",
       "    </tr>\n",
       "    <tr>\n",
       "      <th>11</th>\n",
       "      <td>f233cf8b1d4ede06f32199a7e0081bf5</td>\n",
       "      <td>1273</td>\n",
       "      <td>2</td>\n",
       "      <td>10</td>\n",
       "      <td>2022-11-01 07:32:10</td>\n",
       "      <td>2022-11-10 20:40:29</td>\n",
       "      <td>6</td>\n",
       "      <td>251.0</td>\n",
       "      <td>0.54</td>\n",
       "      <td>12</td>\n",
       "    </tr>\n",
       "    <tr>\n",
       "      <th>12</th>\n",
       "      <td>56b8359fd127312651b80b8ed8030085</td>\n",
       "      <td>1206</td>\n",
       "      <td>1</td>\n",
       "      <td>43</td>\n",
       "      <td>2022-09-29 04:14:55</td>\n",
       "      <td>2022-11-11 11:41:08</td>\n",
       "      <td>5</td>\n",
       "      <td>1079.0</td>\n",
       "      <td>0.51</td>\n",
       "      <td>13</td>\n",
       "    </tr>\n",
       "    <tr>\n",
       "      <th>13</th>\n",
       "      <td>e5e3e38d433016adf62ea34432853a3c</td>\n",
       "      <td>1095</td>\n",
       "      <td>3</td>\n",
       "      <td>43</td>\n",
       "      <td>2022-09-29 01:44:33</td>\n",
       "      <td>2022-11-11 00:30:40</td>\n",
       "      <td>5</td>\n",
       "      <td>734.0</td>\n",
       "      <td>0.47</td>\n",
       "      <td>14</td>\n",
       "    </tr>\n",
       "    <tr>\n",
       "      <th>14</th>\n",
       "      <td>fa582c9e95da255e44f4c198d0daf3df</td>\n",
       "      <td>1031</td>\n",
       "      <td>1</td>\n",
       "      <td>31</td>\n",
       "      <td>2022-09-29 11:40:21</td>\n",
       "      <td>2022-10-31 22:04:20</td>\n",
       "      <td>4</td>\n",
       "      <td>914.0</td>\n",
       "      <td>0.44</td>\n",
       "      <td>15</td>\n",
       "    </tr>\n",
       "    <tr>\n",
       "      <th>15</th>\n",
       "      <td>3e49fd40fd973ee1b8f1a6d58feb4a54</td>\n",
       "      <td>990</td>\n",
       "      <td>1</td>\n",
       "      <td>41</td>\n",
       "      <td>2022-09-29 01:03:46</td>\n",
       "      <td>2022-11-11 12:05:56</td>\n",
       "      <td>3</td>\n",
       "      <td>965.0</td>\n",
       "      <td>0.42</td>\n",
       "      <td>16</td>\n",
       "    </tr>\n",
       "    <tr>\n",
       "      <th>16</th>\n",
       "      <td>cf061f911f3df59fca0b3f084abe88cc</td>\n",
       "      <td>981</td>\n",
       "      <td>4</td>\n",
       "      <td>43</td>\n",
       "      <td>2022-09-29 00:33:23</td>\n",
       "      <td>2022-11-11 11:21:29</td>\n",
       "      <td>5</td>\n",
       "      <td>802.0</td>\n",
       "      <td>0.42</td>\n",
       "      <td>17</td>\n",
       "    </tr>\n",
       "    <tr>\n",
       "      <th>17</th>\n",
       "      <td>f4561a21fb26cfbebf48dcd5c557f82f</td>\n",
       "      <td>952</td>\n",
       "      <td>1</td>\n",
       "      <td>41</td>\n",
       "      <td>2022-09-29 08:03:56</td>\n",
       "      <td>2022-11-11 11:53:17</td>\n",
       "      <td>5</td>\n",
       "      <td>650.0</td>\n",
       "      <td>0.41</td>\n",
       "      <td>18</td>\n",
       "    </tr>\n",
       "    <tr>\n",
       "      <th>18</th>\n",
       "      <td>40743c2ea5139af088057763ab069b1a</td>\n",
       "      <td>949</td>\n",
       "      <td>4</td>\n",
       "      <td>15</td>\n",
       "      <td>2022-10-14 05:19:19</td>\n",
       "      <td>2022-11-11 09:37:56</td>\n",
       "      <td>4</td>\n",
       "      <td>758.0</td>\n",
       "      <td>0.41</td>\n",
       "      <td>19</td>\n",
       "    </tr>\n",
       "    <tr>\n",
       "      <th>19</th>\n",
       "      <td>bd7859770eef94f34d0344a5397c5443</td>\n",
       "      <td>944</td>\n",
       "      <td>6</td>\n",
       "      <td>43</td>\n",
       "      <td>2022-09-29 19:15:46</td>\n",
       "      <td>2022-11-11 01:26:17</td>\n",
       "      <td>4</td>\n",
       "      <td>717.0</td>\n",
       "      <td>0.40</td>\n",
       "      <td>20</td>\n",
       "    </tr>\n",
       "    <tr>\n",
       "      <th>20</th>\n",
       "      <td>beb77036ff26e78865da19310ac95169</td>\n",
       "      <td>897</td>\n",
       "      <td>2</td>\n",
       "      <td>31</td>\n",
       "      <td>2022-09-29 00:18:42</td>\n",
       "      <td>2022-10-30 00:53:03</td>\n",
       "      <td>4</td>\n",
       "      <td>797.0</td>\n",
       "      <td>0.38</td>\n",
       "      <td>21</td>\n",
       "    </tr>\n",
       "    <tr>\n",
       "      <th>21</th>\n",
       "      <td>50cc2b20a3c2c24ce68bb2c0554ddae1</td>\n",
       "      <td>852</td>\n",
       "      <td>1</td>\n",
       "      <td>32</td>\n",
       "      <td>2022-09-29 11:25:26</td>\n",
       "      <td>2022-11-02 00:00:30</td>\n",
       "      <td>3</td>\n",
       "      <td>801.0</td>\n",
       "      <td>0.36</td>\n",
       "      <td>22</td>\n",
       "    </tr>\n",
       "    <tr>\n",
       "      <th>22</th>\n",
       "      <td>fbbbfb737acb18812f7de2400841abc3</td>\n",
       "      <td>847</td>\n",
       "      <td>6</td>\n",
       "      <td>14</td>\n",
       "      <td>2022-09-30 15:17:23</td>\n",
       "      <td>2022-10-13 16:42:03</td>\n",
       "      <td>3</td>\n",
       "      <td>605.0</td>\n",
       "      <td>0.36</td>\n",
       "      <td>23</td>\n",
       "    </tr>\n",
       "    <tr>\n",
       "      <th>23</th>\n",
       "      <td>79fa510c3ab44548d903284ab9162c9d</td>\n",
       "      <td>833</td>\n",
       "      <td>1</td>\n",
       "      <td>35</td>\n",
       "      <td>2022-09-29 03:57:43</td>\n",
       "      <td>2022-11-02 01:42:22</td>\n",
       "      <td>6</td>\n",
       "      <td>704.0</td>\n",
       "      <td>0.36</td>\n",
       "      <td>24</td>\n",
       "    </tr>\n",
       "    <tr>\n",
       "      <th>24</th>\n",
       "      <td>566ba5c5eeeac2fc18b65965c3909a1f</td>\n",
       "      <td>787</td>\n",
       "      <td>1</td>\n",
       "      <td>35</td>\n",
       "      <td>2022-09-29 00:45:35</td>\n",
       "      <td>2022-11-02 10:03:18</td>\n",
       "      <td>4</td>\n",
       "      <td>495.0</td>\n",
       "      <td>0.34</td>\n",
       "      <td>25</td>\n",
       "    </tr>\n",
       "    <tr>\n",
       "      <th>25</th>\n",
       "      <td>27f5833380581fab3453c1acd26427d5</td>\n",
       "      <td>750</td>\n",
       "      <td>2</td>\n",
       "      <td>43</td>\n",
       "      <td>2022-09-29 02:13:42</td>\n",
       "      <td>2022-11-11 00:12:06</td>\n",
       "      <td>3</td>\n",
       "      <td>420.0</td>\n",
       "      <td>0.32</td>\n",
       "      <td>26</td>\n",
       "    </tr>\n",
       "    <tr>\n",
       "      <th>26</th>\n",
       "      <td>22da7e558d613074dc701f8a40bc955b</td>\n",
       "      <td>735</td>\n",
       "      <td>5</td>\n",
       "      <td>33</td>\n",
       "      <td>2022-09-29 00:16:25</td>\n",
       "      <td>2022-11-02 10:24:58</td>\n",
       "      <td>5</td>\n",
       "      <td>672.0</td>\n",
       "      <td>0.31</td>\n",
       "      <td>27</td>\n",
       "    </tr>\n",
       "    <tr>\n",
       "      <th>27</th>\n",
       "      <td>74ce4ba0ef6c0d51e6a508b0bb2d37b8</td>\n",
       "      <td>730</td>\n",
       "      <td>2</td>\n",
       "      <td>36</td>\n",
       "      <td>2022-09-29 00:16:45</td>\n",
       "      <td>2022-11-05 13:12:10</td>\n",
       "      <td>4</td>\n",
       "      <td>615.0</td>\n",
       "      <td>0.31</td>\n",
       "      <td>28</td>\n",
       "    </tr>\n",
       "    <tr>\n",
       "      <th>28</th>\n",
       "      <td>a378e9743fa3ca297df321cfa0e7cf6a</td>\n",
       "      <td>714</td>\n",
       "      <td>1</td>\n",
       "      <td>32</td>\n",
       "      <td>2022-09-29 22:10:25</td>\n",
       "      <td>2022-11-09 03:06:21</td>\n",
       "      <td>3</td>\n",
       "      <td>116.0</td>\n",
       "      <td>0.30</td>\n",
       "      <td>29</td>\n",
       "    </tr>\n",
       "    <tr>\n",
       "      <th>29</th>\n",
       "      <td>cb68fd028cfdfc837248144a18673ffb</td>\n",
       "      <td>714</td>\n",
       "      <td>1</td>\n",
       "      <td>11</td>\n",
       "      <td>2022-10-06 10:21:25</td>\n",
       "      <td>2022-10-28 16:23:32</td>\n",
       "      <td>4</td>\n",
       "      <td>621.0</td>\n",
       "      <td>0.30</td>\n",
       "      <td>29</td>\n",
       "    </tr>\n",
       "  </tbody>\n",
       "</table>\n",
       "</div>"
      ],
      "text/plain": [
       "                             usuario  total_mensagens  grupos_ativos  \\\n",
       "0   abe534d581ec6d552243d6955d3c3cd8            12289              8   \n",
       "1   1665e22b0f564cd46d343f7677014821             5452             14   \n",
       "2   1ac091b8ed5c4e42383f1b4ff4cc9b2d             5060              2   \n",
       "3   c743967449a387ad2c1c7e03b2c45b36             3019              1   \n",
       "4   e7998863ac2a40086657fab4a6b463c9             1928              2   \n",
       "5   e8fd8fee8c39342d37993775da7756d5             1706              1   \n",
       "6   2f4be6244ede15b46e8329a2c975be30             1620              2   \n",
       "7   d49f81df0c75d1d72bee6c5b2d707da0             1571              2   \n",
       "8   4f7d493f0f6222d56e5b19a4f7c336cc             1447              8   \n",
       "9   773b9bd5b02a2e96f9d732c29bfcb663             1411              1   \n",
       "10  c052c859b42c5a1923c22f5a201de746             1386              3   \n",
       "11  f233cf8b1d4ede06f32199a7e0081bf5             1273              2   \n",
       "12  56b8359fd127312651b80b8ed8030085             1206              1   \n",
       "13  e5e3e38d433016adf62ea34432853a3c             1095              3   \n",
       "14  fa582c9e95da255e44f4c198d0daf3df             1031              1   \n",
       "15  3e49fd40fd973ee1b8f1a6d58feb4a54              990              1   \n",
       "16  cf061f911f3df59fca0b3f084abe88cc              981              4   \n",
       "17  f4561a21fb26cfbebf48dcd5c557f82f              952              1   \n",
       "18  40743c2ea5139af088057763ab069b1a              949              4   \n",
       "19  bd7859770eef94f34d0344a5397c5443              944              6   \n",
       "20  beb77036ff26e78865da19310ac95169              897              2   \n",
       "21  50cc2b20a3c2c24ce68bb2c0554ddae1              852              1   \n",
       "22  fbbbfb737acb18812f7de2400841abc3              847              6   \n",
       "23  79fa510c3ab44548d903284ab9162c9d              833              1   \n",
       "24  566ba5c5eeeac2fc18b65965c3909a1f              787              1   \n",
       "25  27f5833380581fab3453c1acd26427d5              750              2   \n",
       "26  22da7e558d613074dc701f8a40bc955b              735              5   \n",
       "27  74ce4ba0ef6c0d51e6a508b0bb2d37b8              730              2   \n",
       "28  a378e9743fa3ca297df321cfa0e7cf6a              714              1   \n",
       "29  cb68fd028cfdfc837248144a18673ffb              714              1   \n",
       "\n",
       "    dias_ativos   primeira_atividade     ultima_atividade  tipos_conteudo  \\\n",
       "0            44  2022-09-29 00:00:15  2022-11-11 11:16:39               1   \n",
       "1            44  2022-09-29 00:34:32  2022-11-11 11:58:44               2   \n",
       "2            36  2022-09-29 00:49:50  2022-11-03 19:43:48               5   \n",
       "3            38  2022-10-05 15:00:20  2022-11-11 11:00:40               2   \n",
       "4            39  2022-10-04 22:27:13  2022-11-11 12:01:04               5   \n",
       "5            43  2022-09-29 11:11:51  2022-11-10 22:53:26               3   \n",
       "6            44  2022-09-29 00:19:30  2022-11-11 03:52:55               3   \n",
       "7            44  2022-09-29 01:02:26  2022-11-11 10:01:23               1   \n",
       "8            41  2022-09-29 02:52:53  2022-11-11 01:32:21               4   \n",
       "9            43  2022-09-29 09:26:19  2022-11-11 09:43:53               3   \n",
       "10           26  2022-10-05 04:58:52  2022-11-09 23:23:47               5   \n",
       "11           10  2022-11-01 07:32:10  2022-11-10 20:40:29               6   \n",
       "12           43  2022-09-29 04:14:55  2022-11-11 11:41:08               5   \n",
       "13           43  2022-09-29 01:44:33  2022-11-11 00:30:40               5   \n",
       "14           31  2022-09-29 11:40:21  2022-10-31 22:04:20               4   \n",
       "15           41  2022-09-29 01:03:46  2022-11-11 12:05:56               3   \n",
       "16           43  2022-09-29 00:33:23  2022-11-11 11:21:29               5   \n",
       "17           41  2022-09-29 08:03:56  2022-11-11 11:53:17               5   \n",
       "18           15  2022-10-14 05:19:19  2022-11-11 09:37:56               4   \n",
       "19           43  2022-09-29 19:15:46  2022-11-11 01:26:17               4   \n",
       "20           31  2022-09-29 00:18:42  2022-10-30 00:53:03               4   \n",
       "21           32  2022-09-29 11:25:26  2022-11-02 00:00:30               3   \n",
       "22           14  2022-09-30 15:17:23  2022-10-13 16:42:03               3   \n",
       "23           35  2022-09-29 03:57:43  2022-11-02 01:42:22               6   \n",
       "24           35  2022-09-29 00:45:35  2022-11-02 10:03:18               4   \n",
       "25           43  2022-09-29 02:13:42  2022-11-11 00:12:06               3   \n",
       "26           33  2022-09-29 00:16:25  2022-11-02 10:24:58               5   \n",
       "27           36  2022-09-29 00:16:45  2022-11-05 13:12:10               4   \n",
       "28           32  2022-09-29 22:10:25  2022-11-09 03:06:21               3   \n",
       "29           11  2022-10-06 10:21:25  2022-10-28 16:23:32               4   \n",
       "\n",
       "    midias_enviadas  percentual_total  ranking  \n",
       "0               0.0              5.25        1  \n",
       "1            2972.0              2.33        2  \n",
       "2            4632.0              2.16        3  \n",
       "3             152.0              1.29        4  \n",
       "4            1498.0              0.82        5  \n",
       "5            1007.0              0.73        6  \n",
       "6            1489.0              0.69        7  \n",
       "7               0.0              0.67        8  \n",
       "8            1359.0              0.62        9  \n",
       "9            1167.0              0.60       10  \n",
       "10           1289.0              0.59       11  \n",
       "11            251.0              0.54       12  \n",
       "12           1079.0              0.51       13  \n",
       "13            734.0              0.47       14  \n",
       "14            914.0              0.44       15  \n",
       "15            965.0              0.42       16  \n",
       "16            802.0              0.42       17  \n",
       "17            650.0              0.41       18  \n",
       "18            758.0              0.41       19  \n",
       "19            717.0              0.40       20  \n",
       "20            797.0              0.38       21  \n",
       "21            801.0              0.36       22  \n",
       "22            605.0              0.36       23  \n",
       "23            704.0              0.36       24  \n",
       "24            495.0              0.34       25  \n",
       "25            420.0              0.32       26  \n",
       "26            672.0              0.31       27  \n",
       "27            615.0              0.31       28  \n",
       "28            116.0              0.30       29  \n",
       "29            621.0              0.30       29  "
      ]
     },
     "metadata": {},
     "output_type": "display_data"
    }
   ],
   "source": [
    "users_mais_ativos = conn.execute(\"\"\"\n",
    "    WITH atividade_usuarios AS (\n",
    "    SELECT\n",
    "        id_member_anonymous AS usuario,\n",
    "        COUNT(*) AS total_mensagens,\n",
    "        COUNT(DISTINCT id_group_anonymous) AS grupos_ativos,\n",
    "        COUNT(DISTINCT CAST(date_message AS DATE)) AS dias_ativos,\n",
    "        MIN(date_message) AS primeira_atividade,\n",
    "        MAX(date_message) AS ultima_atividade,\n",
    "        COUNT(DISTINCT message_type) AS tipos_conteudo,\n",
    "        SUM(CASE WHEN has_media = TRUE THEN 1 ELSE 0 END) AS midias_enviadas\n",
    "    FROM tabela_dados\n",
    "    WHERE id_member_anonymous IS NOT NULL\n",
    "    GROUP BY id_member_anonymous\n",
    "    )\n",
    "    SELECT\n",
    "        usuario,\n",
    "        total_mensagens,\n",
    "        grupos_ativos,\n",
    "        dias_ativos,\n",
    "        primeira_atividade,\n",
    "        ultima_atividade,\n",
    "        tipos_conteudo,\n",
    "        midias_enviadas,\n",
    "        ROUND(total_mensagens * 100.0 / (SELECT SUM(total_mensagens) FROM atividade_usuarios), 2) AS percentual_total,\n",
    "        RANK() OVER (ORDER BY total_mensagens DESC) AS ranking\n",
    "    FROM atividade_usuarios\n",
    "    ORDER BY total_mensagens DESC\n",
    "    LIMIT 30;\n",
    "\"\"\").fetchdf()\n",
    "\n",
    "display(users_mais_ativos)"
   ]
  },
  {
   "cell_type": "markdown",
   "id": "d22b3079",
   "metadata": {},
   "source": [
    "---"
   ]
  },
  {
   "cell_type": "markdown",
   "id": "0e0ebc53",
   "metadata": {},
   "source": [
    "#### **15**. Os 30 usuários que mais compartilharam texto"
   ]
  },
  {
   "cell_type": "markdown",
   "id": "74229310",
   "metadata": {},
   "source": [
    "Essa consulta conta quantas mensagens de texto puro cada usuário enviou, ignorando as que têm mídia. Usei `has_media = FALSE` pra garantir que são só textos, e também filtrei pra que o campo de texto não esteja vazio. Depois agrupei tudo por usuário e ordenei pra pegar os 30 que mais mandaram texto."
   ]
  },
  {
   "cell_type": "code",
   "execution_count": 39,
   "id": "2cf34ee3",
   "metadata": {},
   "outputs": [
    {
     "data": {
      "application/vnd.microsoft.datawrangler.viewer.v0+json": {
       "columns": [
        {
         "name": "index",
         "rawType": "int64",
         "type": "integer"
        },
        {
         "name": "usuario",
         "rawType": "object",
         "type": "string"
        },
        {
         "name": "total_textos",
         "rawType": "int64",
         "type": "integer"
        }
       ],
       "conversionMethod": "pd.DataFrame",
       "ref": "2ea293e3-6537-4fd9-8a25-6f459ae39ee8",
       "rows": [
        [
         "0",
         "abe534d581ec6d552243d6955d3c3cd8",
         "12289"
        ],
        [
         "1",
         "c743967449a387ad2c1c7e03b2c45b36",
         "2867"
        ],
        [
         "2",
         "1665e22b0f564cd46d343f7677014821",
         "2480"
        ],
        [
         "3",
         "d49f81df0c75d1d72bee6c5b2d707da0",
         "1571"
        ],
        [
         "4",
         "f233cf8b1d4ede06f32199a7e0081bf5",
         "1022"
        ],
        [
         "5",
         "e8fd8fee8c39342d37993775da7756d5",
         "699"
        ],
        [
         "6",
         "a378e9743fa3ca297df321cfa0e7cf6a",
         "598"
        ],
        [
         "7",
         "7696d5103cdb8ac352d748a1db1126b0",
         "560"
        ],
        [
         "8",
         "26b496125c8b6773bce453e14f172430",
         "502"
        ],
        [
         "9",
         "7d41f1a2df245b0cc870f546c2aead0b",
         "483"
        ],
        [
         "10",
         "b4ce87d44421ef3d2c4710051df5fe40",
         "478"
        ],
        [
         "11",
         "e7998863ac2a40086657fab4a6b463c9",
         "430"
        ],
        [
         "12",
         "1ac091b8ed5c4e42383f1b4ff4cc9b2d",
         "428"
        ],
        [
         "13",
         "22722eeb9ae4be8f45581e69eb707be4",
         "409"
        ],
        [
         "14",
         "a398999c55f8d6f0c65760522ae12e45",
         "402"
        ],
        [
         "15",
         "065039508ed6e276e5f092dd22eaef94",
         "373"
        ],
        [
         "16",
         "39ee10516124280a22f1798f2a41f9a7",
         "372"
        ],
        [
         "17",
         "e5e3e38d433016adf62ea34432853a3c",
         "361"
        ],
        [
         "18",
         "8e72a8fbc76263914ed485ab068396fd",
         "335"
        ],
        [
         "19",
         "8294d1400a9c3b268b23bb3047185101",
         "331"
        ],
        [
         "20",
         "27f5833380581fab3453c1acd26427d5",
         "330"
        ],
        [
         "21",
         "3bc8b1ec90f8f23e38a6d953e8faab61",
         "328"
        ],
        [
         "22",
         "f4561a21fb26cfbebf48dcd5c557f82f",
         "302"
        ],
        [
         "23",
         "7eeb43c85fe3d87c2de509828d213d80",
         "298"
        ],
        [
         "24",
         "566ba5c5eeeac2fc18b65965c3909a1f",
         "292"
        ],
        [
         "25",
         "2e08ae4c6ec1973e7ec515d3b0ba50d0",
         "265"
        ],
        [
         "26",
         "b97ba0dcff3661f08b46de507fa3d5f6",
         "258"
        ],
        [
         "27",
         "9b34f45b5f8af4c37ba9ec1ebe2e3606",
         "249"
        ],
        [
         "28",
         "4a498818da925377eff2606a260cfa45",
         "248"
        ],
        [
         "29",
         "773b9bd5b02a2e96f9d732c29bfcb663",
         "244"
        ]
       ],
       "shape": {
        "columns": 2,
        "rows": 30
       }
      },
      "text/html": [
       "<div>\n",
       "<style scoped>\n",
       "    .dataframe tbody tr th:only-of-type {\n",
       "        vertical-align: middle;\n",
       "    }\n",
       "\n",
       "    .dataframe tbody tr th {\n",
       "        vertical-align: top;\n",
       "    }\n",
       "\n",
       "    .dataframe thead th {\n",
       "        text-align: right;\n",
       "    }\n",
       "</style>\n",
       "<table border=\"1\" class=\"dataframe\">\n",
       "  <thead>\n",
       "    <tr style=\"text-align: right;\">\n",
       "      <th></th>\n",
       "      <th>usuario</th>\n",
       "      <th>total_textos</th>\n",
       "    </tr>\n",
       "  </thead>\n",
       "  <tbody>\n",
       "    <tr>\n",
       "      <th>0</th>\n",
       "      <td>abe534d581ec6d552243d6955d3c3cd8</td>\n",
       "      <td>12289</td>\n",
       "    </tr>\n",
       "    <tr>\n",
       "      <th>1</th>\n",
       "      <td>c743967449a387ad2c1c7e03b2c45b36</td>\n",
       "      <td>2867</td>\n",
       "    </tr>\n",
       "    <tr>\n",
       "      <th>2</th>\n",
       "      <td>1665e22b0f564cd46d343f7677014821</td>\n",
       "      <td>2480</td>\n",
       "    </tr>\n",
       "    <tr>\n",
       "      <th>3</th>\n",
       "      <td>d49f81df0c75d1d72bee6c5b2d707da0</td>\n",
       "      <td>1571</td>\n",
       "    </tr>\n",
       "    <tr>\n",
       "      <th>4</th>\n",
       "      <td>f233cf8b1d4ede06f32199a7e0081bf5</td>\n",
       "      <td>1022</td>\n",
       "    </tr>\n",
       "    <tr>\n",
       "      <th>5</th>\n",
       "      <td>e8fd8fee8c39342d37993775da7756d5</td>\n",
       "      <td>699</td>\n",
       "    </tr>\n",
       "    <tr>\n",
       "      <th>6</th>\n",
       "      <td>a378e9743fa3ca297df321cfa0e7cf6a</td>\n",
       "      <td>598</td>\n",
       "    </tr>\n",
       "    <tr>\n",
       "      <th>7</th>\n",
       "      <td>7696d5103cdb8ac352d748a1db1126b0</td>\n",
       "      <td>560</td>\n",
       "    </tr>\n",
       "    <tr>\n",
       "      <th>8</th>\n",
       "      <td>26b496125c8b6773bce453e14f172430</td>\n",
       "      <td>502</td>\n",
       "    </tr>\n",
       "    <tr>\n",
       "      <th>9</th>\n",
       "      <td>7d41f1a2df245b0cc870f546c2aead0b</td>\n",
       "      <td>483</td>\n",
       "    </tr>\n",
       "    <tr>\n",
       "      <th>10</th>\n",
       "      <td>b4ce87d44421ef3d2c4710051df5fe40</td>\n",
       "      <td>478</td>\n",
       "    </tr>\n",
       "    <tr>\n",
       "      <th>11</th>\n",
       "      <td>e7998863ac2a40086657fab4a6b463c9</td>\n",
       "      <td>430</td>\n",
       "    </tr>\n",
       "    <tr>\n",
       "      <th>12</th>\n",
       "      <td>1ac091b8ed5c4e42383f1b4ff4cc9b2d</td>\n",
       "      <td>428</td>\n",
       "    </tr>\n",
       "    <tr>\n",
       "      <th>13</th>\n",
       "      <td>22722eeb9ae4be8f45581e69eb707be4</td>\n",
       "      <td>409</td>\n",
       "    </tr>\n",
       "    <tr>\n",
       "      <th>14</th>\n",
       "      <td>a398999c55f8d6f0c65760522ae12e45</td>\n",
       "      <td>402</td>\n",
       "    </tr>\n",
       "    <tr>\n",
       "      <th>15</th>\n",
       "      <td>065039508ed6e276e5f092dd22eaef94</td>\n",
       "      <td>373</td>\n",
       "    </tr>\n",
       "    <tr>\n",
       "      <th>16</th>\n",
       "      <td>39ee10516124280a22f1798f2a41f9a7</td>\n",
       "      <td>372</td>\n",
       "    </tr>\n",
       "    <tr>\n",
       "      <th>17</th>\n",
       "      <td>e5e3e38d433016adf62ea34432853a3c</td>\n",
       "      <td>361</td>\n",
       "    </tr>\n",
       "    <tr>\n",
       "      <th>18</th>\n",
       "      <td>8e72a8fbc76263914ed485ab068396fd</td>\n",
       "      <td>335</td>\n",
       "    </tr>\n",
       "    <tr>\n",
       "      <th>19</th>\n",
       "      <td>8294d1400a9c3b268b23bb3047185101</td>\n",
       "      <td>331</td>\n",
       "    </tr>\n",
       "    <tr>\n",
       "      <th>20</th>\n",
       "      <td>27f5833380581fab3453c1acd26427d5</td>\n",
       "      <td>330</td>\n",
       "    </tr>\n",
       "    <tr>\n",
       "      <th>21</th>\n",
       "      <td>3bc8b1ec90f8f23e38a6d953e8faab61</td>\n",
       "      <td>328</td>\n",
       "    </tr>\n",
       "    <tr>\n",
       "      <th>22</th>\n",
       "      <td>f4561a21fb26cfbebf48dcd5c557f82f</td>\n",
       "      <td>302</td>\n",
       "    </tr>\n",
       "    <tr>\n",
       "      <th>23</th>\n",
       "      <td>7eeb43c85fe3d87c2de509828d213d80</td>\n",
       "      <td>298</td>\n",
       "    </tr>\n",
       "    <tr>\n",
       "      <th>24</th>\n",
       "      <td>566ba5c5eeeac2fc18b65965c3909a1f</td>\n",
       "      <td>292</td>\n",
       "    </tr>\n",
       "    <tr>\n",
       "      <th>25</th>\n",
       "      <td>2e08ae4c6ec1973e7ec515d3b0ba50d0</td>\n",
       "      <td>265</td>\n",
       "    </tr>\n",
       "    <tr>\n",
       "      <th>26</th>\n",
       "      <td>b97ba0dcff3661f08b46de507fa3d5f6</td>\n",
       "      <td>258</td>\n",
       "    </tr>\n",
       "    <tr>\n",
       "      <th>27</th>\n",
       "      <td>9b34f45b5f8af4c37ba9ec1ebe2e3606</td>\n",
       "      <td>249</td>\n",
       "    </tr>\n",
       "    <tr>\n",
       "      <th>28</th>\n",
       "      <td>4a498818da925377eff2606a260cfa45</td>\n",
       "      <td>248</td>\n",
       "    </tr>\n",
       "    <tr>\n",
       "      <th>29</th>\n",
       "      <td>773b9bd5b02a2e96f9d732c29bfcb663</td>\n",
       "      <td>244</td>\n",
       "    </tr>\n",
       "  </tbody>\n",
       "</table>\n",
       "</div>"
      ],
      "text/plain": [
       "                             usuario  total_textos\n",
       "0   abe534d581ec6d552243d6955d3c3cd8         12289\n",
       "1   c743967449a387ad2c1c7e03b2c45b36          2867\n",
       "2   1665e22b0f564cd46d343f7677014821          2480\n",
       "3   d49f81df0c75d1d72bee6c5b2d707da0          1571\n",
       "4   f233cf8b1d4ede06f32199a7e0081bf5          1022\n",
       "5   e8fd8fee8c39342d37993775da7756d5           699\n",
       "6   a378e9743fa3ca297df321cfa0e7cf6a           598\n",
       "7   7696d5103cdb8ac352d748a1db1126b0           560\n",
       "8   26b496125c8b6773bce453e14f172430           502\n",
       "9   7d41f1a2df245b0cc870f546c2aead0b           483\n",
       "10  b4ce87d44421ef3d2c4710051df5fe40           478\n",
       "11  e7998863ac2a40086657fab4a6b463c9           430\n",
       "12  1ac091b8ed5c4e42383f1b4ff4cc9b2d           428\n",
       "13  22722eeb9ae4be8f45581e69eb707be4           409\n",
       "14  a398999c55f8d6f0c65760522ae12e45           402\n",
       "15  065039508ed6e276e5f092dd22eaef94           373\n",
       "16  39ee10516124280a22f1798f2a41f9a7           372\n",
       "17  e5e3e38d433016adf62ea34432853a3c           361\n",
       "18  8e72a8fbc76263914ed485ab068396fd           335\n",
       "19  8294d1400a9c3b268b23bb3047185101           331\n",
       "20  27f5833380581fab3453c1acd26427d5           330\n",
       "21  3bc8b1ec90f8f23e38a6d953e8faab61           328\n",
       "22  f4561a21fb26cfbebf48dcd5c557f82f           302\n",
       "23  7eeb43c85fe3d87c2de509828d213d80           298\n",
       "24  566ba5c5eeeac2fc18b65965c3909a1f           292\n",
       "25  2e08ae4c6ec1973e7ec515d3b0ba50d0           265\n",
       "26  b97ba0dcff3661f08b46de507fa3d5f6           258\n",
       "27  9b34f45b5f8af4c37ba9ec1ebe2e3606           249\n",
       "28  4a498818da925377eff2606a260cfa45           248\n",
       "29  773b9bd5b02a2e96f9d732c29bfcb663           244"
      ]
     },
     "metadata": {},
     "output_type": "display_data"
    }
   ],
   "source": [
    "users_mais_texto = conn.execute(\"\"\"\n",
    "    SELECT\n",
    "    id_member_anonymous AS usuario,\n",
    "    COUNT(*) AS total_textos\n",
    "    FROM tabela_dados\n",
    "    WHERE\n",
    "        id_member_anonymous IS NOT NULL\n",
    "        AND has_media = FALSE\n",
    "        AND text_content_anonymous IS NOT NULL\n",
    "        AND TRIM(text_content_anonymous) <> ''\n",
    "    GROUP BY id_member_anonymous\n",
    "    ORDER BY total_textos DESC\n",
    "    LIMIT 30;            \n",
    "\"\"\").fetchdf()\n",
    "\n",
    "display(users_mais_texto)"
   ]
  },
  {
   "cell_type": "markdown",
   "id": "5c3b6b31",
   "metadata": {},
   "source": [
    "---"
   ]
  },
  {
   "cell_type": "markdown",
   "id": "afff6027",
   "metadata": {},
   "source": [
    "#### **16**. Os 30 usuários que mais compartilharam mídias"
   ]
  },
  {
   "cell_type": "markdown",
   "id": "727ca658",
   "metadata": {},
   "source": [
    "Aqui eu filtrei só as mensagens que têm mídia (`has_media = TRUE`) e agrupei por usuário. Depois contei quantas mídias cada um compartilhou, ordenei do maior pro menor e peguei os 30 mais ativos nesse tipo de conteúdo."
   ]
  },
  {
   "cell_type": "code",
   "execution_count": 41,
   "id": "f0c995ef",
   "metadata": {},
   "outputs": [
    {
     "data": {
      "application/vnd.microsoft.datawrangler.viewer.v0+json": {
       "columns": [
        {
         "name": "index",
         "rawType": "int64",
         "type": "integer"
        },
        {
         "name": "usuario",
         "rawType": "object",
         "type": "string"
        },
        {
         "name": "total_midias",
         "rawType": "int64",
         "type": "integer"
        }
       ],
       "conversionMethod": "pd.DataFrame",
       "ref": "6daa47c4-1a7c-4d01-9db5-01ee001cdd2e",
       "rows": [
        [
         "0",
         "1ac091b8ed5c4e42383f1b4ff4cc9b2d",
         "4632"
        ],
        [
         "1",
         "1665e22b0f564cd46d343f7677014821",
         "2972"
        ],
        [
         "2",
         "e7998863ac2a40086657fab4a6b463c9",
         "1498"
        ],
        [
         "3",
         "2f4be6244ede15b46e8329a2c975be30",
         "1489"
        ],
        [
         "4",
         "4f7d493f0f6222d56e5b19a4f7c336cc",
         "1359"
        ],
        [
         "5",
         "c052c859b42c5a1923c22f5a201de746",
         "1289"
        ],
        [
         "6",
         "773b9bd5b02a2e96f9d732c29bfcb663",
         "1167"
        ],
        [
         "7",
         "56b8359fd127312651b80b8ed8030085",
         "1079"
        ],
        [
         "8",
         "e8fd8fee8c39342d37993775da7756d5",
         "1007"
        ],
        [
         "9",
         "3e49fd40fd973ee1b8f1a6d58feb4a54",
         "965"
        ],
        [
         "10",
         "fa582c9e95da255e44f4c198d0daf3df",
         "914"
        ],
        [
         "11",
         "cf061f911f3df59fca0b3f084abe88cc",
         "802"
        ],
        [
         "12",
         "50cc2b20a3c2c24ce68bb2c0554ddae1",
         "801"
        ],
        [
         "13",
         "beb77036ff26e78865da19310ac95169",
         "797"
        ],
        [
         "14",
         "40743c2ea5139af088057763ab069b1a",
         "758"
        ],
        [
         "15",
         "e5e3e38d433016adf62ea34432853a3c",
         "734"
        ],
        [
         "16",
         "bd7859770eef94f34d0344a5397c5443",
         "717"
        ],
        [
         "17",
         "79fa510c3ab44548d903284ab9162c9d",
         "704"
        ],
        [
         "18",
         "22da7e558d613074dc701f8a40bc955b",
         "672"
        ],
        [
         "19",
         "c923ed78ee5cf2ecbd55ab500f19a5d4",
         "664"
        ],
        [
         "20",
         "f4561a21fb26cfbebf48dcd5c557f82f",
         "650"
        ],
        [
         "21",
         "aed9b55fd26f99a58a11c11fa2af80ef",
         "644"
        ],
        [
         "22",
         "cb68fd028cfdfc837248144a18673ffb",
         "621"
        ],
        [
         "23",
         "74ce4ba0ef6c0d51e6a508b0bb2d37b8",
         "615"
        ],
        [
         "24",
         "fbbbfb737acb18812f7de2400841abc3",
         "605"
        ],
        [
         "25",
         "51110a75091ae9ede718a0b434227368",
         "596"
        ],
        [
         "26",
         "cd6979b0b5265f08468fa1689b6300ce",
         "584"
        ],
        [
         "27",
         "38e1ca63cd9f9c6ad762d833bcb1b118",
         "580"
        ],
        [
         "28",
         "fb4a5f8c3319aa373d868e69589481f9",
         "570"
        ],
        [
         "29",
         "d36c39da7c9705400e5056e033363b65",
         "555"
        ]
       ],
       "shape": {
        "columns": 2,
        "rows": 30
       }
      },
      "text/html": [
       "<div>\n",
       "<style scoped>\n",
       "    .dataframe tbody tr th:only-of-type {\n",
       "        vertical-align: middle;\n",
       "    }\n",
       "\n",
       "    .dataframe tbody tr th {\n",
       "        vertical-align: top;\n",
       "    }\n",
       "\n",
       "    .dataframe thead th {\n",
       "        text-align: right;\n",
       "    }\n",
       "</style>\n",
       "<table border=\"1\" class=\"dataframe\">\n",
       "  <thead>\n",
       "    <tr style=\"text-align: right;\">\n",
       "      <th></th>\n",
       "      <th>usuario</th>\n",
       "      <th>total_midias</th>\n",
       "    </tr>\n",
       "  </thead>\n",
       "  <tbody>\n",
       "    <tr>\n",
       "      <th>0</th>\n",
       "      <td>1ac091b8ed5c4e42383f1b4ff4cc9b2d</td>\n",
       "      <td>4632</td>\n",
       "    </tr>\n",
       "    <tr>\n",
       "      <th>1</th>\n",
       "      <td>1665e22b0f564cd46d343f7677014821</td>\n",
       "      <td>2972</td>\n",
       "    </tr>\n",
       "    <tr>\n",
       "      <th>2</th>\n",
       "      <td>e7998863ac2a40086657fab4a6b463c9</td>\n",
       "      <td>1498</td>\n",
       "    </tr>\n",
       "    <tr>\n",
       "      <th>3</th>\n",
       "      <td>2f4be6244ede15b46e8329a2c975be30</td>\n",
       "      <td>1489</td>\n",
       "    </tr>\n",
       "    <tr>\n",
       "      <th>4</th>\n",
       "      <td>4f7d493f0f6222d56e5b19a4f7c336cc</td>\n",
       "      <td>1359</td>\n",
       "    </tr>\n",
       "    <tr>\n",
       "      <th>5</th>\n",
       "      <td>c052c859b42c5a1923c22f5a201de746</td>\n",
       "      <td>1289</td>\n",
       "    </tr>\n",
       "    <tr>\n",
       "      <th>6</th>\n",
       "      <td>773b9bd5b02a2e96f9d732c29bfcb663</td>\n",
       "      <td>1167</td>\n",
       "    </tr>\n",
       "    <tr>\n",
       "      <th>7</th>\n",
       "      <td>56b8359fd127312651b80b8ed8030085</td>\n",
       "      <td>1079</td>\n",
       "    </tr>\n",
       "    <tr>\n",
       "      <th>8</th>\n",
       "      <td>e8fd8fee8c39342d37993775da7756d5</td>\n",
       "      <td>1007</td>\n",
       "    </tr>\n",
       "    <tr>\n",
       "      <th>9</th>\n",
       "      <td>3e49fd40fd973ee1b8f1a6d58feb4a54</td>\n",
       "      <td>965</td>\n",
       "    </tr>\n",
       "    <tr>\n",
       "      <th>10</th>\n",
       "      <td>fa582c9e95da255e44f4c198d0daf3df</td>\n",
       "      <td>914</td>\n",
       "    </tr>\n",
       "    <tr>\n",
       "      <th>11</th>\n",
       "      <td>cf061f911f3df59fca0b3f084abe88cc</td>\n",
       "      <td>802</td>\n",
       "    </tr>\n",
       "    <tr>\n",
       "      <th>12</th>\n",
       "      <td>50cc2b20a3c2c24ce68bb2c0554ddae1</td>\n",
       "      <td>801</td>\n",
       "    </tr>\n",
       "    <tr>\n",
       "      <th>13</th>\n",
       "      <td>beb77036ff26e78865da19310ac95169</td>\n",
       "      <td>797</td>\n",
       "    </tr>\n",
       "    <tr>\n",
       "      <th>14</th>\n",
       "      <td>40743c2ea5139af088057763ab069b1a</td>\n",
       "      <td>758</td>\n",
       "    </tr>\n",
       "    <tr>\n",
       "      <th>15</th>\n",
       "      <td>e5e3e38d433016adf62ea34432853a3c</td>\n",
       "      <td>734</td>\n",
       "    </tr>\n",
       "    <tr>\n",
       "      <th>16</th>\n",
       "      <td>bd7859770eef94f34d0344a5397c5443</td>\n",
       "      <td>717</td>\n",
       "    </tr>\n",
       "    <tr>\n",
       "      <th>17</th>\n",
       "      <td>79fa510c3ab44548d903284ab9162c9d</td>\n",
       "      <td>704</td>\n",
       "    </tr>\n",
       "    <tr>\n",
       "      <th>18</th>\n",
       "      <td>22da7e558d613074dc701f8a40bc955b</td>\n",
       "      <td>672</td>\n",
       "    </tr>\n",
       "    <tr>\n",
       "      <th>19</th>\n",
       "      <td>c923ed78ee5cf2ecbd55ab500f19a5d4</td>\n",
       "      <td>664</td>\n",
       "    </tr>\n",
       "    <tr>\n",
       "      <th>20</th>\n",
       "      <td>f4561a21fb26cfbebf48dcd5c557f82f</td>\n",
       "      <td>650</td>\n",
       "    </tr>\n",
       "    <tr>\n",
       "      <th>21</th>\n",
       "      <td>aed9b55fd26f99a58a11c11fa2af80ef</td>\n",
       "      <td>644</td>\n",
       "    </tr>\n",
       "    <tr>\n",
       "      <th>22</th>\n",
       "      <td>cb68fd028cfdfc837248144a18673ffb</td>\n",
       "      <td>621</td>\n",
       "    </tr>\n",
       "    <tr>\n",
       "      <th>23</th>\n",
       "      <td>74ce4ba0ef6c0d51e6a508b0bb2d37b8</td>\n",
       "      <td>615</td>\n",
       "    </tr>\n",
       "    <tr>\n",
       "      <th>24</th>\n",
       "      <td>fbbbfb737acb18812f7de2400841abc3</td>\n",
       "      <td>605</td>\n",
       "    </tr>\n",
       "    <tr>\n",
       "      <th>25</th>\n",
       "      <td>51110a75091ae9ede718a0b434227368</td>\n",
       "      <td>596</td>\n",
       "    </tr>\n",
       "    <tr>\n",
       "      <th>26</th>\n",
       "      <td>cd6979b0b5265f08468fa1689b6300ce</td>\n",
       "      <td>584</td>\n",
       "    </tr>\n",
       "    <tr>\n",
       "      <th>27</th>\n",
       "      <td>38e1ca63cd9f9c6ad762d833bcb1b118</td>\n",
       "      <td>580</td>\n",
       "    </tr>\n",
       "    <tr>\n",
       "      <th>28</th>\n",
       "      <td>fb4a5f8c3319aa373d868e69589481f9</td>\n",
       "      <td>570</td>\n",
       "    </tr>\n",
       "    <tr>\n",
       "      <th>29</th>\n",
       "      <td>d36c39da7c9705400e5056e033363b65</td>\n",
       "      <td>555</td>\n",
       "    </tr>\n",
       "  </tbody>\n",
       "</table>\n",
       "</div>"
      ],
      "text/plain": [
       "                             usuario  total_midias\n",
       "0   1ac091b8ed5c4e42383f1b4ff4cc9b2d          4632\n",
       "1   1665e22b0f564cd46d343f7677014821          2972\n",
       "2   e7998863ac2a40086657fab4a6b463c9          1498\n",
       "3   2f4be6244ede15b46e8329a2c975be30          1489\n",
       "4   4f7d493f0f6222d56e5b19a4f7c336cc          1359\n",
       "5   c052c859b42c5a1923c22f5a201de746          1289\n",
       "6   773b9bd5b02a2e96f9d732c29bfcb663          1167\n",
       "7   56b8359fd127312651b80b8ed8030085          1079\n",
       "8   e8fd8fee8c39342d37993775da7756d5          1007\n",
       "9   3e49fd40fd973ee1b8f1a6d58feb4a54           965\n",
       "10  fa582c9e95da255e44f4c198d0daf3df           914\n",
       "11  cf061f911f3df59fca0b3f084abe88cc           802\n",
       "12  50cc2b20a3c2c24ce68bb2c0554ddae1           801\n",
       "13  beb77036ff26e78865da19310ac95169           797\n",
       "14  40743c2ea5139af088057763ab069b1a           758\n",
       "15  e5e3e38d433016adf62ea34432853a3c           734\n",
       "16  bd7859770eef94f34d0344a5397c5443           717\n",
       "17  79fa510c3ab44548d903284ab9162c9d           704\n",
       "18  22da7e558d613074dc701f8a40bc955b           672\n",
       "19  c923ed78ee5cf2ecbd55ab500f19a5d4           664\n",
       "20  f4561a21fb26cfbebf48dcd5c557f82f           650\n",
       "21  aed9b55fd26f99a58a11c11fa2af80ef           644\n",
       "22  cb68fd028cfdfc837248144a18673ffb           621\n",
       "23  74ce4ba0ef6c0d51e6a508b0bb2d37b8           615\n",
       "24  fbbbfb737acb18812f7de2400841abc3           605\n",
       "25  51110a75091ae9ede718a0b434227368           596\n",
       "26  cd6979b0b5265f08468fa1689b6300ce           584\n",
       "27  38e1ca63cd9f9c6ad762d833bcb1b118           580\n",
       "28  fb4a5f8c3319aa373d868e69589481f9           570\n",
       "29  d36c39da7c9705400e5056e033363b65           555"
      ]
     },
     "metadata": {},
     "output_type": "display_data"
    }
   ],
   "source": [
    "users_mais_midias = conn.execute(\"\"\"\n",
    "    SELECT\n",
    "    id_member_anonymous AS usuario,\n",
    "    COUNT(*) AS total_midias\n",
    "    FROM tabela_dados\n",
    "    WHERE\n",
    "        id_member_anonymous IS NOT NULL\n",
    "        AND has_media = TRUE\n",
    "    GROUP BY id_member_anonymous\n",
    "    ORDER BY total_midias DESC\n",
    "    LIMIT 30;            \n",
    "\"\"\").fetchdf()\n",
    "\n",
    "display(users_mais_midias)"
   ]
  },
  {
   "cell_type": "markdown",
   "id": "18ccff5e",
   "metadata": {},
   "source": [
    "---"
   ]
  },
  {
   "cell_type": "markdown",
   "id": "b2179787",
   "metadata": {},
   "source": [
    "#### **17**. As 30 mensagens mais compartilhadas"
   ]
  },
  {
   "cell_type": "markdown",
   "id": "c3197c61",
   "metadata": {},
   "source": [
    "Nessa consulta, agrupei as mensagens textuais que aparecem repetidas na base e contei quantas vezes cada uma foi compartilhada. Filtrei mensagens vazias ou nulas e ordenei pra ver quais conteúdos circularam mais vezes. O resultado mostra as 30 mensagens mais replicadas pelos usuários."
   ]
  },
  {
   "cell_type": "code",
   "execution_count": 42,
   "id": "901caa30",
   "metadata": {},
   "outputs": [
    {
     "data": {
      "application/vnd.microsoft.datawrangler.viewer.v0+json": {
       "columns": [
        {
         "name": "index",
         "rawType": "int64",
         "type": "integer"
        },
        {
         "name": "mensagem",
         "rawType": "object",
         "type": "string"
        },
        {
         "name": "total_compartilhamentos",
         "rawType": "int64",
         "type": "integer"
        }
       ],
       "conversionMethod": "pd.DataFrame",
       "ref": "a2f05308-a3ce-44d2-bb04-d4f9431c6f6d",
       "rows": [
        [
         "0",
         "This community was blocked in Brazil following a decision of the Superior Electoral Court (TSE).",
         "17422"
        ],
        [
         "1",
         "Rough_sex🙈",
         "1134"
        ],
        [
         "2",
         "Anal sex🙈",
         "1118"
        ],
        [
         "3",
         "سکس مردان ازبک با زن انگلیسی با این vpn از سایتهای ممنوعه ببینید🙈\n\nشاهد الرجال الأوزبكيين يمارسون الجنس مع النساء الإنجليزيات باستخدام VPN هذا من المواقع المحظورة🚫\n\nTaqiqlangan saytlardan bu vpn orqali o'zbek erkaklari ingliz ayollari bilan jinsiy aloqa qilishlarini ko'ring\n\nSee Uzbek men having sex with English women with this vpn from banned sites",
         "1019"
        ],
        [
         "4",
         "https://youtu.be/qbTzhB0akt8",
         "758"
        ],
        [
         "5",
         "https://youtu.be/zDuOoyhyN-4",
         "712"
        ],
        [
         "6",
         "فیلم سوپر با زیرنویس فارسی ببین😍😍\nبا این فیلترشکن میتونی هروقت دلت خواست فیلم سوپر ببینی😍\n\nAmerikalik ayolni arab erkaklari tomonidan zo'rlanganini ushbu vpn bilan tomosha qiling\nFaqat 18 yoshdan oshganlar\n\nWatch the rape of an American woman by Arab men with this vpn\nOnly people over 18 years old",
         "632"
        ],
        [
         "7",
         "Rough😱",
         "570"
        ],
        [
         "8",
         "Foto de Nélia Barros",
         "548"
        ],
        [
         "9",
         "We had no choice but to remain in the shadows.  \nThey intended to eliminate [us].  \nThey wish to destroy what they are unable to control. \nWe are ready to emerge from the shadows. THE TIME HAS COME! \n \nYou only have a few hours to join this channel before it goes private! After that, only those who are invited will be able to see what I have to [REVEAL] – tonight - midnight. \n \nYou have a choice. Take a look around! \n \n❗️ТYРЕ lN ЅЕАRСН ВАR: theQwakening17",
         "480"
        ],
        [
         "10",
         "Rough😨💦",
         "471"
        ],
        [
         "11",
         "https://t.me/canalselvabrasiloficial\nSELVA BRASIL OFICIAL 🇧🇷🇧🇷",
         "461"
        ],
        [
         "12",
         "Foto de Marcelo Rossi",
         "421"
        ],
        [
         "13",
         "HD (1080p) sex🙈",
         "418"
        ],
        [
         "14",
         "🇮🇷 سکس با دختر 14 ساله را در سایتهای پورن\nبیینید با این vpn 😍😍😍\n\n🇺🇸 Watch sex with a 14-year-old girl on 😱😱porn sites with this vpn\n\n🇹🇷 Ushbu vpn orqali porno saytlarda 14 yoshli qiz bilan jinsiy aloqani tomosha 🤩🤩qiling\n\n🇸🇦 شاهد الجنس مع فتاة تبلغ من العمر 14 عامًا على المواقع الإباحية باستخدام VPN هذا🥰",
         "400"
        ],
        [
         "15",
         "https://youtu.be/x2uiakywcrI",
         "395"
        ],
        [
         "16",
         "A.n.a.l🙈",
         "390"
        ],
        [
         "17",
         "Vídeo de Rosa",
         "384"
        ],
        [
         "18",
         "https://noticias.uol.com.br/politica/ultimas-noticias/2022/08/30/patrimonio-familia-jair-bolsonaro-dinheiro-vivo.htm",
         "378"
        ],
        [
         "19",
         "\"E conhecereis a verdade, e a verdade vos libertará.\"\nJoão 8:32\n\nSe inscreva em nosso CANAL e compartilhe a nossa RED PILL.\n\nCanal [USER]\nGrupo [USER]",
         "367"
        ],
        [
         "20",
         "Lesbian👩‍❤‍👩",
         "359"
        ],
        [
         "21",
         "Bem vindo(a) ao grupo Ipirá Notícias. \n\nCompartilhe nosso link. https://t.me/ipiranoticias",
         "358"
        ],
        [
         "22",
         "Vaginall sex🙈",
         "354"
        ],
        [
         "23",
         "https://youtu.be/4DHk9KZ01HM",
         "341"
        ],
        [
         "24",
         "https://youtu.be/wGpTY8GH568",
         "234"
        ],
        [
         "25",
         "Vaginal sex🙈",
         "233"
        ],
        [
         "26",
         "Foto de susy silva",
         "202"
        ],
        [
         "27",
         "https://youtu.be/u-ZGL90PfeI",
         "202"
        ],
        [
         "28",
         "Vídeo de AVANY FERREIRA MULLER",
         "195"
        ],
        [
         "29",
         "https://youtu.be/aJ7uw_d-dUI",
         "191"
        ]
       ],
       "shape": {
        "columns": 2,
        "rows": 30
       }
      },
      "text/html": [
       "<div>\n",
       "<style scoped>\n",
       "    .dataframe tbody tr th:only-of-type {\n",
       "        vertical-align: middle;\n",
       "    }\n",
       "\n",
       "    .dataframe tbody tr th {\n",
       "        vertical-align: top;\n",
       "    }\n",
       "\n",
       "    .dataframe thead th {\n",
       "        text-align: right;\n",
       "    }\n",
       "</style>\n",
       "<table border=\"1\" class=\"dataframe\">\n",
       "  <thead>\n",
       "    <tr style=\"text-align: right;\">\n",
       "      <th></th>\n",
       "      <th>mensagem</th>\n",
       "      <th>total_compartilhamentos</th>\n",
       "    </tr>\n",
       "  </thead>\n",
       "  <tbody>\n",
       "    <tr>\n",
       "      <th>0</th>\n",
       "      <td>This community was blocked in Brazil following...</td>\n",
       "      <td>17422</td>\n",
       "    </tr>\n",
       "    <tr>\n",
       "      <th>1</th>\n",
       "      <td>Rough_sex🙈</td>\n",
       "      <td>1134</td>\n",
       "    </tr>\n",
       "    <tr>\n",
       "      <th>2</th>\n",
       "      <td>Anal sex🙈</td>\n",
       "      <td>1118</td>\n",
       "    </tr>\n",
       "    <tr>\n",
       "      <th>3</th>\n",
       "      <td>سکس مردان ازبک با زن انگلیسی با این vpn از سای...</td>\n",
       "      <td>1019</td>\n",
       "    </tr>\n",
       "    <tr>\n",
       "      <th>4</th>\n",
       "      <td>https://youtu.be/qbTzhB0akt8</td>\n",
       "      <td>758</td>\n",
       "    </tr>\n",
       "    <tr>\n",
       "      <th>5</th>\n",
       "      <td>https://youtu.be/zDuOoyhyN-4</td>\n",
       "      <td>712</td>\n",
       "    </tr>\n",
       "    <tr>\n",
       "      <th>6</th>\n",
       "      <td>فیلم سوپر با زیرنویس فارسی ببین😍😍\\nبا این فیلت...</td>\n",
       "      <td>632</td>\n",
       "    </tr>\n",
       "    <tr>\n",
       "      <th>7</th>\n",
       "      <td>Rough😱</td>\n",
       "      <td>570</td>\n",
       "    </tr>\n",
       "    <tr>\n",
       "      <th>8</th>\n",
       "      <td>Foto de Nélia Barros</td>\n",
       "      <td>548</td>\n",
       "    </tr>\n",
       "    <tr>\n",
       "      <th>9</th>\n",
       "      <td>We had no choice but to remain in the shadows....</td>\n",
       "      <td>480</td>\n",
       "    </tr>\n",
       "    <tr>\n",
       "      <th>10</th>\n",
       "      <td>Rough😨💦</td>\n",
       "      <td>471</td>\n",
       "    </tr>\n",
       "    <tr>\n",
       "      <th>11</th>\n",
       "      <td>https://t.me/canalselvabrasiloficial\\nSELVA BR...</td>\n",
       "      <td>461</td>\n",
       "    </tr>\n",
       "    <tr>\n",
       "      <th>12</th>\n",
       "      <td>Foto de Marcelo Rossi</td>\n",
       "      <td>421</td>\n",
       "    </tr>\n",
       "    <tr>\n",
       "      <th>13</th>\n",
       "      <td>HD (1080p) sex🙈</td>\n",
       "      <td>418</td>\n",
       "    </tr>\n",
       "    <tr>\n",
       "      <th>14</th>\n",
       "      <td>🇮🇷 سکس با دختر 14 ساله را در سایتهای پورن\\nبیی...</td>\n",
       "      <td>400</td>\n",
       "    </tr>\n",
       "    <tr>\n",
       "      <th>15</th>\n",
       "      <td>https://youtu.be/x2uiakywcrI</td>\n",
       "      <td>395</td>\n",
       "    </tr>\n",
       "    <tr>\n",
       "      <th>16</th>\n",
       "      <td>A.n.a.l🙈</td>\n",
       "      <td>390</td>\n",
       "    </tr>\n",
       "    <tr>\n",
       "      <th>17</th>\n",
       "      <td>Vídeo de Rosa</td>\n",
       "      <td>384</td>\n",
       "    </tr>\n",
       "    <tr>\n",
       "      <th>18</th>\n",
       "      <td>https://noticias.uol.com.br/politica/ultimas-n...</td>\n",
       "      <td>378</td>\n",
       "    </tr>\n",
       "    <tr>\n",
       "      <th>19</th>\n",
       "      <td>\"E conhecereis a verdade, e a verdade vos libe...</td>\n",
       "      <td>367</td>\n",
       "    </tr>\n",
       "    <tr>\n",
       "      <th>20</th>\n",
       "      <td>Lesbian👩‍❤‍👩</td>\n",
       "      <td>359</td>\n",
       "    </tr>\n",
       "    <tr>\n",
       "      <th>21</th>\n",
       "      <td>Bem vindo(a) ao grupo Ipirá Notícias. \\n\\nComp...</td>\n",
       "      <td>358</td>\n",
       "    </tr>\n",
       "    <tr>\n",
       "      <th>22</th>\n",
       "      <td>Vaginall sex🙈</td>\n",
       "      <td>354</td>\n",
       "    </tr>\n",
       "    <tr>\n",
       "      <th>23</th>\n",
       "      <td>https://youtu.be/4DHk9KZ01HM</td>\n",
       "      <td>341</td>\n",
       "    </tr>\n",
       "    <tr>\n",
       "      <th>24</th>\n",
       "      <td>https://youtu.be/wGpTY8GH568</td>\n",
       "      <td>234</td>\n",
       "    </tr>\n",
       "    <tr>\n",
       "      <th>25</th>\n",
       "      <td>Vaginal sex🙈</td>\n",
       "      <td>233</td>\n",
       "    </tr>\n",
       "    <tr>\n",
       "      <th>26</th>\n",
       "      <td>Foto de susy silva</td>\n",
       "      <td>202</td>\n",
       "    </tr>\n",
       "    <tr>\n",
       "      <th>27</th>\n",
       "      <td>https://youtu.be/u-ZGL90PfeI</td>\n",
       "      <td>202</td>\n",
       "    </tr>\n",
       "    <tr>\n",
       "      <th>28</th>\n",
       "      <td>Vídeo de AVANY FERREIRA MULLER</td>\n",
       "      <td>195</td>\n",
       "    </tr>\n",
       "    <tr>\n",
       "      <th>29</th>\n",
       "      <td>https://youtu.be/aJ7uw_d-dUI</td>\n",
       "      <td>191</td>\n",
       "    </tr>\n",
       "  </tbody>\n",
       "</table>\n",
       "</div>"
      ],
      "text/plain": [
       "                                             mensagem  total_compartilhamentos\n",
       "0   This community was blocked in Brazil following...                    17422\n",
       "1                                          Rough_sex🙈                     1134\n",
       "2                                           Anal sex🙈                     1118\n",
       "3   سکس مردان ازبک با زن انگلیسی با این vpn از سای...                     1019\n",
       "4                        https://youtu.be/qbTzhB0akt8                      758\n",
       "5                        https://youtu.be/zDuOoyhyN-4                      712\n",
       "6   فیلم سوپر با زیرنویس فارسی ببین😍😍\\nبا این فیلت...                      632\n",
       "7                                              Rough😱                      570\n",
       "8                                Foto de Nélia Barros                      548\n",
       "9   We had no choice but to remain in the shadows....                      480\n",
       "10                                            Rough😨💦                      471\n",
       "11  https://t.me/canalselvabrasiloficial\\nSELVA BR...                      461\n",
       "12                              Foto de Marcelo Rossi                      421\n",
       "13                                    HD (1080p) sex🙈                      418\n",
       "14  🇮🇷 سکس با دختر 14 ساله را در سایتهای پورن\\nبیی...                      400\n",
       "15                       https://youtu.be/x2uiakywcrI                      395\n",
       "16                                           A.n.a.l🙈                      390\n",
       "17                                      Vídeo de Rosa                      384\n",
       "18  https://noticias.uol.com.br/politica/ultimas-n...                      378\n",
       "19  \"E conhecereis a verdade, e a verdade vos libe...                      367\n",
       "20                                       Lesbian👩‍❤‍👩                      359\n",
       "21  Bem vindo(a) ao grupo Ipirá Notícias. \\n\\nComp...                      358\n",
       "22                                      Vaginall sex🙈                      354\n",
       "23                       https://youtu.be/4DHk9KZ01HM                      341\n",
       "24                       https://youtu.be/wGpTY8GH568                      234\n",
       "25                                       Vaginal sex🙈                      233\n",
       "26                                 Foto de susy silva                      202\n",
       "27                       https://youtu.be/u-ZGL90PfeI                      202\n",
       "28                     Vídeo de AVANY FERREIRA MULLER                      195\n",
       "29                       https://youtu.be/aJ7uw_d-dUI                      191"
      ]
     },
     "metadata": {},
     "output_type": "display_data"
    }
   ],
   "source": [
    "mensagens_mais_compartilhadas = conn.execute(\"\"\"\n",
    "    SELECT\n",
    "    text_content_anonymous AS mensagem,\n",
    "    COUNT(*) AS total_compartilhamentos\n",
    "    FROM tabela_dados\n",
    "    WHERE\n",
    "        text_content_anonymous IS NOT NULL\n",
    "        AND TRIM(text_content_anonymous) <> ''\n",
    "    GROUP BY text_content_anonymous\n",
    "    ORDER BY total_compartilhamentos DESC\n",
    "    LIMIT 30;         \n",
    "\"\"\").fetchdf()\n",
    "\n",
    "display(mensagens_mais_compartilhadas)"
   ]
  },
  {
   "cell_type": "markdown",
   "id": "27033e47",
   "metadata": {},
   "source": [
    "---"
   ]
  },
  {
   "cell_type": "markdown",
   "id": "eb3f6758",
   "metadata": {},
   "source": [
    "#### **18**. As 30 mensagens mais compartilhadas em grupos diferentes"
   ]
  },
  {
   "cell_type": "markdown",
   "id": "67bb6165",
   "metadata": {},
   "source": [
    "Essa consulta identifica as mensagens textuais que apareceram em mais grupos diferentes. Isso mostra quais conteúdos se espalharam mais pela rede, não só por número de envios, mas em quantidade de grupos distintos. Também incluí a contagem total de vezes que cada mensagem apareceu, só como referência."
   ]
  },
  {
   "cell_type": "code",
   "execution_count": 43,
   "id": "3c8aa6ff",
   "metadata": {},
   "outputs": [
    {
     "data": {
      "application/vnd.microsoft.datawrangler.viewer.v0+json": {
       "columns": [
        {
         "name": "index",
         "rawType": "int64",
         "type": "integer"
        },
        {
         "name": "mensagem",
         "rawType": "object",
         "type": "string"
        },
        {
         "name": "total_grupos_diferentes",
         "rawType": "int64",
         "type": "integer"
        },
        {
         "name": "total_ocorrencias",
         "rawType": "int64",
         "type": "integer"
        }
       ],
       "conversionMethod": "pd.DataFrame",
       "ref": "59f674b9-7dd1-4851-9f33-d60ffe4a8cb7",
       "rows": [
        [
         "0",
         "This community was blocked in Brazil following a decision of the Superior Electoral Court (TSE).",
         "59",
         "17422"
        ],
        [
         "1",
         "BOA NOITE A TODOS. O QUE EU VOU DIZER É SÉRIO A ESQUERDA ESTA AGINDO NOS GRUPOS DE WHATSAPP POSTANDO LINKS NAS REDES SOCIAIS DIRECIONADOS AO TELEGRAN. \n\nO NOME DO GRUPO É \n\nMEU VOTO É BOLSONARO 22\n\nTEM DE VÁRIOS ESTADOS.\nELES ESTÃO PEDINDO A FOTO DO COMPROVANTE DE VOTAÇÃO E ATÉ TÍTULOS DE ELEITOR. \nE AS PESSOAS MUITAS DELAS ESTÃO POSTANDO. \n\nELES VEM COM ALEGAÇÃO QUE QUEREM CHEGAR A 60 MILHÕES DE COMPROVANTES PRA MOVER UMA AÇÃO CONTRA FRAUDE. ISSO É MENTIRA. É FALSO. \nPEÇO AJUDA DE VCS POIS ESTOU DESDE ONTEM TENTANDO ABRIR OS OLHOS DAS PESSOAS QUE ESTÃO NOS GRUPOS POSTANDO SEUS COMPROVANTES.  POIS NO SEGUNDO TURNO VÃO VOTAR NO LUGAR DESSAS PESSOAS. E NÃO VAI ADIANTAR RECLAMAR.\n\nPEÇO AJUDA DE VCS PARA VCS ENTRAREM NO BUSCADOR DO TELEGRAN DESSES GRUPOS E DENUNCIAR. COM A OPÇÃO DOCUMENTOS PESSOAIS.\n\nPAREM DE POSTAR ISSO É SÉRIO.\n\nO GRUPO DELES ESTA CONFIGURADO PRA POSTAGEM DE MENSAGENS DE 1H EM 1HORA. EVITANDO ASSIM ALERTAR AS PESSOAS DO GRUPO. EU FUI DELETADO DO GRUPO DO RIO DE JANEIRO PQ ESTAVA INCOMODANDO.\n\nSE NÃO AGIRMOS AGORA PERDEREMOS A ELEIÇÃO.\n\nELES ESTÃO AGINDO EM TODO O PAÍS.\n\nACORDEM NÃO É BRINCADEIRA",
         "36",
         "127"
        ],
        [
         "2",
         "Hoje às 18 horas no canal Inteligência Ltda do YouTube \nhttps://youtube.com/c/Intelig%C3%AAnciaLtda",
         "35",
         "37"
        ],
        [
         "3",
         "[USER]",
         "32",
         "170"
        ],
        [
         "4",
         "https://youtu.be/zDuOoyhyN-4",
         "31",
         "712"
        ],
        [
         "5",
         "https://youtu.be/qbTzhB0akt8",
         "30",
         "758"
        ],
        [
         "6",
         "DE NADA IRÁ ADIANTAR FISCALIZAR AS URNAS, SE NÃO ELIMINAR O QUE CAUSOU A FRAUDE. TUDO SE REPETIRÁ NOVAMENTE NO SEGUNDO TURNO!",
         "29",
         "30"
        ],
        [
         "7",
         "*ATENÇÃO* \n🚨🚨🚨🚨🚨🚨🚨🚨🚨\n\n*CHAMADA URGENTE* Patriotas do BRASIL 🇧🇷 dias de maiores concentrações.\n\nDias ; 12/11/2022 Sábado.\n           13/11/2022 Domingo.\n           15/11/2022 Terça feira.\n\n*Lembrando que dia 15/11/2022 e feriado da proclamação da República*\n\nEntão vc não tem desculpa pra não estar na porta do *Quartéis* juntamente com toda população se manifestando lá.\n\nEspalha essa chamada pra todos seus amigos e faça chegar ao máximo de pessoas.\n\n*Convocação urgente*\n🚨🚨🚨🚨🚨🚨🚨🚨 \n\n*Deus*\n*Pátria*\n*Família*\n*Liberdade*\n\nRepassem ao máximo 💪🏾",
         "29",
         "33"
        ],
        [
         "8",
         "OS PTISTAS NÃO QUER QUE AGENTE MOSTRE QUE VOTOU NO BOLSONARO!\n\nNão é crime eleitoral fotografar ou rasurar comprovante de votação\n\nFotografar o comprovante de votação com o número do candidato por escrito não configura crime eleitoral, de acordo com o TSE (Tribunal Superior Eleitoral). A falsa hipótese foi levantada em corrente que circula no WhatsApp neste domingo (28).\n\nNo comprovante não constam informações sobre os candidatos escolhidos na votação, servindo apenas para indicar que a pessoa compareceu ao pleito e votou. O TSE afirmou ainda que nada impede que o próprio eleitor manifeste \"espontaneamente sua preferência, indicando em quem pretenda votar ou em que tenha votado\". A permissão a tipo de manifestação está, inclusive, prevista na legislação eleitoral.\n\nA resolução 23.399/13 do TSE veta ao eleitor o porte de “aparelho de telefonia celular, máquinas fotográficas, filmadoras, equipamento de radiocomunicação, ou qualquer instrumento que possa comprometer o sigilo do voto” na cabine de votação. Quem desrespeita a regra pode ser enquadrado no artigo 347, do Código Eleitoral, por desobedecer ordens da Justiça Eleitoral, estando sujeito à multa e à detenção por três meses a um ano, e no artigo 312, por violar o sigilo do voto, sujeito à detenção por até dois anos. Ou seja, quem fotografa o voto na urna e posta nas redes sociais está cometendo crime eleitoral.\n\nEnviar a foto do comprovante, PODE SIM!\nSó não pode enviar para o e-mail do presidente.\n\nOS PTISTAS COMUNISTA ESTÃO COM MEDO DE SER DESMACARADOS. DA FRAUDE!",
         "29",
         "33"
        ],
        [
         "9",
         "Ajudem a subir a #JanonesAmigoDePedofilo\n\nPor favor!!!!",
         "29",
         "43"
        ],
        [
         "10",
         "OS ELEITORES QUE JA ENVIOU, NÃO PRECISA MAIS ENVIAR!\n\nCAROS ELEITORORES DO BOLSONARO, AS IMAGENS DO COMPROVANTE DE VOTO, AGORA DEVERÁ SER ENVIADA PARA O GRUPO DE BRASILIA. \n\nOS ELEITORES QUE JA ENVIOU, NÃO PRECISA MAIS ENVIAR!\n\n \nCONCENTRAMOS TODA A APURAÇÃO NO LINK ABAIXO:\nVotei Bolsonaro 22 (Distrito Federal - DF)💚💛\n✅Entre no grupo\n📎https://t.me/Votei_Bolsonaro_22_Distrito_Fede",
         "28",
         "30"
        ],
        [
         "11",
         "BRASILEIROS, PIOR DE QUE VOCÊS PERDEREM SEUS COMPROVANTES DE VOTO (O QUE NÃO IRA PERDER), É PERDER SUA LIBERDADE PARA A DITADURA!\n\nPENSE NISSO!\n\nOS VENEZUELANOS ESTÃO FUJINDO PARA O BRASIL, E SE A DITADURA TOMAR CONTA DO BRASIL, OS BRASILEIROS NÃO TEM MAIS PARA ONDE FUJIR!\n\nPENSE NISSO!\n\nA FRAUDE JÁ ESTAVA FEITA, POR ISSO O MOTIVO DESSE GRUPO \"MEU VOTO É BOLSONARO22\" JA ESTAVA PRONTO E ESPERANDO PARA OS BRASILEIROS PATRIOTAS REVERTER!\n\nhttps://t.me/Votei_Bolsonaro_22_Distrito_Fede\n\nNOSSO TERMPO É CURTO.\n\nPENSE NISSO!",
         "28",
         "28"
        ],
        [
         "12",
         "Lançaram o Lulaflix, uma coletânea com o que de mais criminoso o Desencarcerado fez ou falou\nVou deixar abaixo algumas sugestões de filmes ⤵️\nhttps://lulaflix.com.br",
         "27",
         "28"
        ],
        [
         "13",
         "Vídeo de Maurício",
         "27",
         "93"
        ],
        [
         "14",
         "Prezados Brasileiros Patriotas, \nSaudações,\n\nINSCRITO NOS GRUPOS:   \n 123.032\n\nCOMPROVANTES DE VOTO POSTADOS: \n 25.847 \n\n - Não obtivemos comprovantes de votos suficiente pra comprovar que nosso Presidente Bolsonaro foi eleito no primeiro turno.\n\n - É com imenso pesar, que nossa equipe dos grupos \"Meu voto é Bolsonaro22\", encerramos aqui o nosso trabalho em prol do nosso Presidente Bolsonaro, em prol das famílias Brasileiras, em prol da nossa nação e em prol da nossa liberdade!.\n\n - Primeiramente, queremos agradecer aos que acreditaram em nosso trabalho e lamentamos pelos que acreditaram nas mentiras dos PTista Comunistas dizendo que nosso grupo era FAKE e acreditaram em um vídeo de 2018 da Boa Cicks dizendo para não enviar os comprovantes DE voto para o Presidente, onde iria caracterizar crime eleitoral para o Presidente.\n\n - Detalhe: não era para enviar para o e-mail do presidente, poruqe ai caracterizaria crime para o Presidente, e SIM enviar para o TELEGRAM dos GRUPOS !Meu voto é Bolsonar22\"\n\n- Infelizmente a maioria dos Brasileiros acabam de entregar de mãos beijada a nossa nação para o comunismo.\n\n* Tirar Foto do comprovante de voto NÂO é crime!*\n* O comprovante é seu e você pode fazer dele o que bem desejar!*\n\n - Crime, é entregar a nação para o comunismo!\n - Crime, é entregar sua liberdade ao comunismo!\n - Crime, é entregar seus familiares para o comunismo!\n\n - Se preocupar com um comprovante que de nada irá servir daqui pra frente, mais que poderia salvar a sua liberdade, e assim a maioria não o fizeram.\n\n - A luta agora não é mais de nossa equipe. A luta agora é de todos os brasileiros que ainda acredita que pode fazer algo por sua liberdade.\n\n - Ou teremos o voto impresso em cédulas ou teremos possibilidade nova fraude no segundo turno.\n\n - Sugerimos que vá as ruas e lute pelo pouco que ainda vos resta!\n\n - Amém suas famílias e se preparem que dias difíceis, estão por vir!",
         "27",
         "27"
        ],
        [
         "15",
         "Queridos amigos Patriotas, \n\nSegue o sentimento de nossa equipe,\n\nConseguimos reunir mais de 123 mil membros Patriotas nos grupo do 1⁰ TURNO. \nInfelizmente, a maioria dos membros Patriotas deram ouvido as baboseiras dos PTistas e muitos não enviaram seus comprovantes, impossibilitando assim a comprovação da Reeleição do nosso Presidente Bolsonaro.\n\nDecidimos deixar as divulgações por conta de vocês afim de ver se realmente tem o real interesse da Reeleição do nosso Presidente Bolsonaro. Porém, não temos visto em nenhuma rede social e também não temos visto nos grupos do telegram. Com excessão de umas três divulgação em uns três grupos do telegram. \n\nOu os Patriotas acredita na Reeleição do nosso Presidente Bolsonaro e divulga o grupo, para que possamos fazer nossa Contagem paralelamente. Ou iremos ter que engolir calados o resultado das urna contando o seu e o nosso voto SECRETAMENTE!\n\nPedimos desculpas se nós expressamos desta forma e esperamos que nos entenda!",
         "27",
         "27"
        ],
        [
         "16",
         "Enviando por email Habeas corpus - STJ - POVO- assinado.pdf",
         "27",
         "27"
        ],
        [
         "17",
         "Enviando por email REPRESENTAÇÃO - Prisão Min.Alexandre de Moraes-as.pdf",
         "27",
         "27"
        ],
        [
         "18",
         "PESSOAL, POSTE SEU COMPROVANTE DE VOTO.\n\nSERÁ DISPONIBILIZADO EM MÍDIACOM TODOS OS COMPROVANTES DE VOTO JUNTO COM RELATÓRIO, PARA NOSSO PRESIDENTE BOLSONARO TOMAR AS ACÕES CABÍVEIS PARA SUA REELEIÇÃO!  \n\nhttps://t.me/Votei_Bolsonaro_22_Distrito_Fede\n📎",
         "27",
         "27"
        ],
        [
         "19",
         "SE VOCÊ ACREDITA QUE BOLSONARO GANHOU NO PRIMEIRO TURNO, CONVOCAMOS VOCÊ, A PARTICIPAR DO GRUPO DE BRASÍLIA PARA ACOMPANHAR A APURAÇÃO!\n\nOS ELEITORES QUE JA ENVIOU, NÃO PRECISA MAIS ENVIAR!\n\nCAROS ELEITORORES DO BOLSONARO, AS IMAGENS DO COMPROVANTE DE VOTO, AGORA DEVERÁ SER ENVIADA PARA O GRUPO DE BRASÍLIA. \n\nOS ELEITORES QUE JA ENVIOU, NÃO PRECISA MAIS ENVIAR!\n \nCONCENTRAMOS TODA A APURAÇÃO NO LINK ABAIXO:\nVotei Bolsonaro 22 (Distrito Federal - DF)💚💛\n✅Entre no grupo\n📎https://t.me/Votei_Bolsonaro_22_Distrito_Fede\n\n🇧🇷🇧🇷🇧🇷",
         "27",
         "27"
        ],
        [
         "20",
         "Enviando por email requerimento GSI.pdf",
         "27",
         "27"
        ],
        [
         "21",
         "https://t.me/ContagemDeVotosPRO_BOLSONARO",
         "27",
         "52"
        ],
        [
         "22",
         "Os grupos 'MEU VOTO É BOLSONARO 22' ficaram abertos até o dia 10/10/2022, onde faremos a CONTAGEM PÚBLICA DE VOTOS total.\n\nSomos uma equipe estamos trabalhando prol do nosso presidente Bolsonaro, em defesa de nossas famílias e salvando nossa nação dessa esquerda comunista.\n\nEstamos divididos por Estados e nosso trabalho é de graça para nosso presidente e se é bom para ele também será bom para você e para todos nós.\n\nNós acreditamos que nosso presidente ganhou em primeiro turno por isso estamos fazendo esse trabalho. Com a quantidade de comprovante em prol do bolsonaro ele será declarado REELEITO!\n\nQueremos ver o Bolsonaro vencer estas eleições e continuar dirigindo o nosso Brasil.\n\nConfiamos em nosso presidente Bolsonaro, acreditamos em Deus, nossas famílias e lutaremos por nossa nação.\n\nPedimos a todos que voltou no nosso presidente bolsonaro não dê crédito a estes petistas malditos. Foram BAN e se outros entrar, serão todos BANIDOS.\n\nO maior desespero dos PTISTAS, é se conseguirmos provar que o Bolsonaro foi reeleito no 1⁰ turno, por isso eles estão querendo atrapalhar nosso trabalho, mas em nome de Jesus, eles não irão conseguir e nós venceremos!\n\nPTISTA AQUI, NÃO TEM VEZ!",
         "27",
         "27"
        ],
        [
         "23",
         "QUANDO ESTIVER ZERO MEMBROAQUI, TEREMOS A CERTEZA QUE TODOS JA ESTARAM NO GRUPO CERTO QUE FICARÁ PERMANENTE, AI ENCERRAREMOS ESTE AQUI!",
         "26",
         "26"
        ],
        [
         "24",
         "CONTAGEM PÚBLICA DE VOTOS PRO BOLSONARO22 2⁰ TURNO BRASIL\n\nQUERIDOS AMIGOS PATRIOTAS,\n\n\nMUDEM TODOS PARA O GRUPO: \n\"CONTAGEM PÚBLICA DE VOTOS PRO BOLSONARO22 2⁰ TURNO BRASIL\" E VAMOS NOS UNIR EM UM SÓ GRUPO\n (NO LINK ABAIXO):\n\nhttps://t.me/ContagemDeVotosPRO_BOLSONARO\n\nVAMOS NOS UNIR EM UM SÓ GRUPO, PARA NOS TORNAR MAIS FORTE.\n\nA VITORIA SERÁ NOSSA\nBOLSONARO 22",
         "26",
         "27"
        ],
        [
         "25",
         "- Contra tudo e contra todos, tivemos no 1° turno de 2022 uma votação mais expressiva do que aquela que tivemos em 2018. Foram quase 2 milhões de votos a mais! Também elegemos as maiores bancadas da Câmara e do Senado, o que era a nossa maior prioridade neste primeiro momento.\n\n- Elegemos governadores no 1° turno em 8 estados e elegeremos nossos aliados em outros 8 estados neste 2° turno. Esta é a maior vitória dos patriotas na história do Brasil: 60% do território brasileiro será governado por quem defende nossos valores e luta por um país mais livre.\n\n- Muita gente se deixou levar pelas mentiras propagadas pelos institutos de pesquisas, que saíram do 1° turno completamente desmoralizados. Erraram todas as previsões e já são os maiores derrotados desta eleição. Vencemos essa mentira e agora vamos vencer a eleição!\n\n- Esta disputa não decidirá apenas quem assumirá um cargo nos próximos quatro anos. Esta disputa decidirá nossa identidade, nossos valores e a forma como seremos vistos pelo mundo e pelo próprio Deus. Lutemos pela liberdade, pela honestidade, por nossos filhos e pelo Brasil.\n\n- Sabemos do tamanho da nossa responsabilidade e dos desafios que vamos enfrentar. Mas sabemos aonde queremos chegar e como chegaremos lá. Pela graça de Deus, nunca perdi uma eleição e sei que não será agora, quando a liberdade do Brasil inteiro depende de nós, que iremos perder.\n\n- Nossos adversários só se prepararam para uma corrida de 100 metros. Nós estamos prontos para uma maratona. Vamos lutar com confiança e com força cada vez maior, certos de que vamos prevalecer pela pátria, pela família, pela vida, pela liberdade e pela vontade de Deus! 🇧🇷\n\nPresidente Jair Messias Bolsonaro",
         "26",
         "76"
        ],
        [
         "26",
         "Bolsonaro bate recorde de Lula em podcast!\n\nBOLSONARO\n1.762.435 assistiu AO VIVO\n\nLULA\n1.087.731 assistiu AO VIVO",
         "25",
         "25"
        ],
        [
         "27",
         ">IMPORTANTE<\n\nGOSTARIAMOS DE CONVIDAR VOCÊ A TRAZER MAIS TRÊS PESSOAS PARA SE JUNTAR A NÓS, PARA QUANDO ABRIR O GRUPO, ESTARMOS COM A QUANTIDADE DE PESSOAS SUFICIENTE PARA COMPROVAR A VIÓRIA DO BOLSONARO APÓS AS ELEIÇ~ES DO SEGUNDO TURNO!",
         "25",
         "25"
        ],
        [
         "28",
         "PNDH3\n\nPROGRAMA DO PT (UMA DESGRAÇA PARA O BRASIL)\n\nPrograma Nacional de Direitos Humanos (PNDH-3) / Secretaria Especial dos Direitos Humanos da Presidência da República\n\nhttps://direito.mppr.mp.br/arquivos/File/PNDH3.pdf",
         "25",
         "25"
        ],
        [
         "29",
         "1.466.497 assistindo agora  Transmissão iniciada há 62 minutos\n\nhttps://www.youtube.com/watch?v=qbTzhB0akt8",
         "25",
         "25"
        ]
       ],
       "shape": {
        "columns": 3,
        "rows": 30
       }
      },
      "text/html": [
       "<div>\n",
       "<style scoped>\n",
       "    .dataframe tbody tr th:only-of-type {\n",
       "        vertical-align: middle;\n",
       "    }\n",
       "\n",
       "    .dataframe tbody tr th {\n",
       "        vertical-align: top;\n",
       "    }\n",
       "\n",
       "    .dataframe thead th {\n",
       "        text-align: right;\n",
       "    }\n",
       "</style>\n",
       "<table border=\"1\" class=\"dataframe\">\n",
       "  <thead>\n",
       "    <tr style=\"text-align: right;\">\n",
       "      <th></th>\n",
       "      <th>mensagem</th>\n",
       "      <th>total_grupos_diferentes</th>\n",
       "      <th>total_ocorrencias</th>\n",
       "    </tr>\n",
       "  </thead>\n",
       "  <tbody>\n",
       "    <tr>\n",
       "      <th>0</th>\n",
       "      <td>This community was blocked in Brazil following...</td>\n",
       "      <td>59</td>\n",
       "      <td>17422</td>\n",
       "    </tr>\n",
       "    <tr>\n",
       "      <th>1</th>\n",
       "      <td>BOA NOITE A TODOS. O QUE EU VOU DIZER É SÉRIO ...</td>\n",
       "      <td>36</td>\n",
       "      <td>127</td>\n",
       "    </tr>\n",
       "    <tr>\n",
       "      <th>2</th>\n",
       "      <td>Hoje às 18 horas no canal Inteligência Ltda do...</td>\n",
       "      <td>35</td>\n",
       "      <td>37</td>\n",
       "    </tr>\n",
       "    <tr>\n",
       "      <th>3</th>\n",
       "      <td>[USER]</td>\n",
       "      <td>32</td>\n",
       "      <td>170</td>\n",
       "    </tr>\n",
       "    <tr>\n",
       "      <th>4</th>\n",
       "      <td>https://youtu.be/zDuOoyhyN-4</td>\n",
       "      <td>31</td>\n",
       "      <td>712</td>\n",
       "    </tr>\n",
       "    <tr>\n",
       "      <th>5</th>\n",
       "      <td>https://youtu.be/qbTzhB0akt8</td>\n",
       "      <td>30</td>\n",
       "      <td>758</td>\n",
       "    </tr>\n",
       "    <tr>\n",
       "      <th>6</th>\n",
       "      <td>DE NADA IRÁ ADIANTAR FISCALIZAR AS URNAS, SE N...</td>\n",
       "      <td>29</td>\n",
       "      <td>30</td>\n",
       "    </tr>\n",
       "    <tr>\n",
       "      <th>7</th>\n",
       "      <td>*ATENÇÃO* \\n🚨🚨🚨🚨🚨🚨🚨🚨🚨\\n\\n*CHAMADA URGENTE* Pat...</td>\n",
       "      <td>29</td>\n",
       "      <td>33</td>\n",
       "    </tr>\n",
       "    <tr>\n",
       "      <th>8</th>\n",
       "      <td>OS PTISTAS NÃO QUER QUE AGENTE MOSTRE QUE VOTO...</td>\n",
       "      <td>29</td>\n",
       "      <td>33</td>\n",
       "    </tr>\n",
       "    <tr>\n",
       "      <th>9</th>\n",
       "      <td>Ajudem a subir a #JanonesAmigoDePedofilo\\n\\nPo...</td>\n",
       "      <td>29</td>\n",
       "      <td>43</td>\n",
       "    </tr>\n",
       "    <tr>\n",
       "      <th>10</th>\n",
       "      <td>OS ELEITORES QUE JA ENVIOU, NÃO PRECISA MAIS E...</td>\n",
       "      <td>28</td>\n",
       "      <td>30</td>\n",
       "    </tr>\n",
       "    <tr>\n",
       "      <th>11</th>\n",
       "      <td>BRASILEIROS, PIOR DE QUE VOCÊS PERDEREM SEUS C...</td>\n",
       "      <td>28</td>\n",
       "      <td>28</td>\n",
       "    </tr>\n",
       "    <tr>\n",
       "      <th>12</th>\n",
       "      <td>Lançaram o Lulaflix, uma coletânea com o que d...</td>\n",
       "      <td>27</td>\n",
       "      <td>28</td>\n",
       "    </tr>\n",
       "    <tr>\n",
       "      <th>13</th>\n",
       "      <td>Vídeo de Maurício</td>\n",
       "      <td>27</td>\n",
       "      <td>93</td>\n",
       "    </tr>\n",
       "    <tr>\n",
       "      <th>14</th>\n",
       "      <td>Prezados Brasileiros Patriotas, \\nSaudações,\\n...</td>\n",
       "      <td>27</td>\n",
       "      <td>27</td>\n",
       "    </tr>\n",
       "    <tr>\n",
       "      <th>15</th>\n",
       "      <td>Queridos amigos Patriotas, \\n\\nSegue o sentime...</td>\n",
       "      <td>27</td>\n",
       "      <td>27</td>\n",
       "    </tr>\n",
       "    <tr>\n",
       "      <th>16</th>\n",
       "      <td>Enviando por email Habeas corpus - STJ - POVO-...</td>\n",
       "      <td>27</td>\n",
       "      <td>27</td>\n",
       "    </tr>\n",
       "    <tr>\n",
       "      <th>17</th>\n",
       "      <td>Enviando por email REPRESENTAÇÃO - Prisão M...</td>\n",
       "      <td>27</td>\n",
       "      <td>27</td>\n",
       "    </tr>\n",
       "    <tr>\n",
       "      <th>18</th>\n",
       "      <td>PESSOAL, POSTE SEU COMPROVANTE DE VOTO.\\n\\nSER...</td>\n",
       "      <td>27</td>\n",
       "      <td>27</td>\n",
       "    </tr>\n",
       "    <tr>\n",
       "      <th>19</th>\n",
       "      <td>SE VOCÊ ACREDITA QUE BOLSONARO GANHOU NO PRIME...</td>\n",
       "      <td>27</td>\n",
       "      <td>27</td>\n",
       "    </tr>\n",
       "    <tr>\n",
       "      <th>20</th>\n",
       "      <td>Enviando por email requerimento GSI.pdf</td>\n",
       "      <td>27</td>\n",
       "      <td>27</td>\n",
       "    </tr>\n",
       "    <tr>\n",
       "      <th>21</th>\n",
       "      <td>https://t.me/ContagemDeVotosPRO_BOLSONARO</td>\n",
       "      <td>27</td>\n",
       "      <td>52</td>\n",
       "    </tr>\n",
       "    <tr>\n",
       "      <th>22</th>\n",
       "      <td>Os grupos 'MEU VOTO É BOLSONARO 22' ficaram ab...</td>\n",
       "      <td>27</td>\n",
       "      <td>27</td>\n",
       "    </tr>\n",
       "    <tr>\n",
       "      <th>23</th>\n",
       "      <td>QUANDO ESTIVER ZERO MEMBROAQUI, TEREMOS A CERT...</td>\n",
       "      <td>26</td>\n",
       "      <td>26</td>\n",
       "    </tr>\n",
       "    <tr>\n",
       "      <th>24</th>\n",
       "      <td>CONTAGEM PÚBLICA DE VOTOS PRO BOLSONARO22 2⁰ T...</td>\n",
       "      <td>26</td>\n",
       "      <td>27</td>\n",
       "    </tr>\n",
       "    <tr>\n",
       "      <th>25</th>\n",
       "      <td>- Contra tudo e contra todos, tivemos no 1° tu...</td>\n",
       "      <td>26</td>\n",
       "      <td>76</td>\n",
       "    </tr>\n",
       "    <tr>\n",
       "      <th>26</th>\n",
       "      <td>Bolsonaro bate recorde de Lula em podcast!\\n\\n...</td>\n",
       "      <td>25</td>\n",
       "      <td>25</td>\n",
       "    </tr>\n",
       "    <tr>\n",
       "      <th>27</th>\n",
       "      <td>&gt;IMPORTANTE&lt;\\n\\nGOSTARIAMOS DE CONVIDAR VOCÊ A...</td>\n",
       "      <td>25</td>\n",
       "      <td>25</td>\n",
       "    </tr>\n",
       "    <tr>\n",
       "      <th>28</th>\n",
       "      <td>PNDH3\\n\\nPROGRAMA DO PT (UMA DESGRAÇA PARA O B...</td>\n",
       "      <td>25</td>\n",
       "      <td>25</td>\n",
       "    </tr>\n",
       "    <tr>\n",
       "      <th>29</th>\n",
       "      <td>1.466.497 assistindo agora  Transmissão inicia...</td>\n",
       "      <td>25</td>\n",
       "      <td>25</td>\n",
       "    </tr>\n",
       "  </tbody>\n",
       "</table>\n",
       "</div>"
      ],
      "text/plain": [
       "                                             mensagem  \\\n",
       "0   This community was blocked in Brazil following...   \n",
       "1   BOA NOITE A TODOS. O QUE EU VOU DIZER É SÉRIO ...   \n",
       "2   Hoje às 18 horas no canal Inteligência Ltda do...   \n",
       "3                                              [USER]   \n",
       "4                        https://youtu.be/zDuOoyhyN-4   \n",
       "5                        https://youtu.be/qbTzhB0akt8   \n",
       "6   DE NADA IRÁ ADIANTAR FISCALIZAR AS URNAS, SE N...   \n",
       "7   *ATENÇÃO* \\n🚨🚨🚨🚨🚨🚨🚨🚨🚨\\n\\n*CHAMADA URGENTE* Pat...   \n",
       "8   OS PTISTAS NÃO QUER QUE AGENTE MOSTRE QUE VOTO...   \n",
       "9   Ajudem a subir a #JanonesAmigoDePedofilo\\n\\nPo...   \n",
       "10  OS ELEITORES QUE JA ENVIOU, NÃO PRECISA MAIS E...   \n",
       "11  BRASILEIROS, PIOR DE QUE VOCÊS PERDEREM SEUS C...   \n",
       "12  Lançaram o Lulaflix, uma coletânea com o que d...   \n",
       "13                                  Vídeo de Maurício   \n",
       "14  Prezados Brasileiros Patriotas, \\nSaudações,\\n...   \n",
       "15  Queridos amigos Patriotas, \\n\\nSegue o sentime...   \n",
       "16  Enviando por email Habeas corpus - STJ - POVO-...   \n",
       "17  Enviando por email REPRESENTAÇÃO - Prisão M...   \n",
       "18  PESSOAL, POSTE SEU COMPROVANTE DE VOTO.\\n\\nSER...   \n",
       "19  SE VOCÊ ACREDITA QUE BOLSONARO GANHOU NO PRIME...   \n",
       "20            Enviando por email requerimento GSI.pdf   \n",
       "21          https://t.me/ContagemDeVotosPRO_BOLSONARO   \n",
       "22  Os grupos 'MEU VOTO É BOLSONARO 22' ficaram ab...   \n",
       "23  QUANDO ESTIVER ZERO MEMBROAQUI, TEREMOS A CERT...   \n",
       "24  CONTAGEM PÚBLICA DE VOTOS PRO BOLSONARO22 2⁰ T...   \n",
       "25  - Contra tudo e contra todos, tivemos no 1° tu...   \n",
       "26  Bolsonaro bate recorde de Lula em podcast!\\n\\n...   \n",
       "27  >IMPORTANTE<\\n\\nGOSTARIAMOS DE CONVIDAR VOCÊ A...   \n",
       "28  PNDH3\\n\\nPROGRAMA DO PT (UMA DESGRAÇA PARA O B...   \n",
       "29  1.466.497 assistindo agora  Transmissão inicia...   \n",
       "\n",
       "    total_grupos_diferentes  total_ocorrencias  \n",
       "0                        59              17422  \n",
       "1                        36                127  \n",
       "2                        35                 37  \n",
       "3                        32                170  \n",
       "4                        31                712  \n",
       "5                        30                758  \n",
       "6                        29                 30  \n",
       "7                        29                 33  \n",
       "8                        29                 33  \n",
       "9                        29                 43  \n",
       "10                       28                 30  \n",
       "11                       28                 28  \n",
       "12                       27                 28  \n",
       "13                       27                 93  \n",
       "14                       27                 27  \n",
       "15                       27                 27  \n",
       "16                       27                 27  \n",
       "17                       27                 27  \n",
       "18                       27                 27  \n",
       "19                       27                 27  \n",
       "20                       27                 27  \n",
       "21                       27                 52  \n",
       "22                       27                 27  \n",
       "23                       26                 26  \n",
       "24                       26                 27  \n",
       "25                       26                 76  \n",
       "26                       25                 25  \n",
       "27                       25                 25  \n",
       "28                       25                 25  \n",
       "29                       25                 25  "
      ]
     },
     "metadata": {},
     "output_type": "display_data"
    }
   ],
   "source": [
    "mensagems_grupos = conn.execute(\"\"\"\n",
    "    SELECT\n",
    "    text_content_anonymous AS mensagem,\n",
    "    COUNT(DISTINCT id_group_anonymous) AS total_grupos_diferentes,\n",
    "    COUNT(*) AS total_ocorrencias\n",
    "    FROM tabela_dados\n",
    "    WHERE\n",
    "        text_content_anonymous IS NOT NULL\n",
    "        AND TRIM(text_content_anonymous) <> ''\n",
    "    GROUP BY text_content_anonymous\n",
    "    ORDER BY total_grupos_diferentes DESC\n",
    "    LIMIT 30;\n",
    "\"\"\").fetchdf()\n",
    "\n",
    "display(mensagems_grupos)"
   ]
  },
  {
   "cell_type": "markdown",
   "id": "2599d5e7",
   "metadata": {},
   "source": [
    "---"
   ]
  },
  {
   "cell_type": "markdown",
   "id": "a1fe383a",
   "metadata": {},
   "source": [
    "#### **19**. Mensagens idênticas compartilhadas pelo mesmo usuário (e suas quantidades) "
   ]
  },
  {
   "cell_type": "markdown",
   "id": "c0c4618b",
   "metadata": {},
   "source": [
    "Essa consulta mostra os casos em que um mesmo usuário compartilhou exatamente a mesma mensagem mais de uma vez. Agrupei por usuário e texto, contei as repetições e usei `HAVING COUNT(*) > 1` pra filtrar só as duplicações. O resultado revela comportamentos de possível spam ou insistência no mesmo conteúdo"
   ]
  },
  {
   "cell_type": "code",
   "execution_count": 44,
   "id": "d891bda7",
   "metadata": {},
   "outputs": [
    {
     "data": {
      "application/vnd.microsoft.datawrangler.viewer.v0+json": {
       "columns": [
        {
         "name": "index",
         "rawType": "int64",
         "type": "integer"
        },
        {
         "name": "usuario",
         "rawType": "object",
         "type": "string"
        },
        {
         "name": "mensagem",
         "rawType": "object",
         "type": "string"
        },
        {
         "name": "quantidade_envios",
         "rawType": "int64",
         "type": "integer"
        }
       ],
       "conversionMethod": "pd.DataFrame",
       "ref": "5ac02a22-de0f-4634-a2bf-77c1c4d768ce",
       "rows": [
        [
         "0",
         "f233cf8b1d4ede06f32199a7e0081bf5",
         "This community was blocked in Brazil following a decision of the Superior Electoral Court (TSE).",
         "838"
        ],
        [
         "1",
         "c743967449a387ad2c1c7e03b2c45b36",
         "This community was blocked in Brazil following a decision of the Superior Electoral Court (TSE).",
         "532"
        ],
        [
         "2",
         "7696d5103cdb8ac352d748a1db1126b0",
         "This community was blocked in Brazil following a decision of the Superior Electoral Court (TSE).",
         "530"
        ],
        [
         "3",
         "1665e22b0f564cd46d343f7677014821",
         "Bem vindo(a) ao grupo Ipirá Notícias. \n\nCompartilhe nosso link. https://t.me/ipiranoticias",
         "357"
        ],
        [
         "4",
         "a398999c55f8d6f0c65760522ae12e45",
         "This community was blocked in Brazil following a decision of the Superior Electoral Court (TSE).",
         "308"
        ],
        [
         "5",
         "9b371a7d40877606e49d03281c8ba0f4",
         "Anal sex🙈",
         "272"
        ],
        [
         "6",
         "f3a914b5f81379cdf1689f202fe5ccd9",
         "Anal sex🙈",
         "270"
        ],
        [
         "7",
         "f48d327d4d2e0542af2d0d6e47503ad2",
         "Rough_sex🙈",
         "245"
        ],
        [
         "8",
         "bbfbcf36aa8384a943aa8928f98e5b99",
         "Rough_sex🙈",
         "233"
        ],
        [
         "9",
         "6908364802e043e85b1f2bff313e0926",
         "Rough_sex🙈",
         "195"
        ],
        [
         "10",
         "2a4827f1d9ac158e15c1db59c038bea8",
         "This community was blocked in Brazil following a decision of the Superior Electoral Court (TSE).",
         "193"
        ],
        [
         "11",
         "729e5594ec58c1e89ca10c8cee073bdf",
         "Vaginall sex🙈",
         "190"
        ],
        [
         "12",
         "e7998863ac2a40086657fab4a6b463c9",
         "Vídeo de Maria Teresa D  Valente",
         "187"
        ],
        [
         "13",
         "14d6d666bec8fb0ea9a66fc1aa0ef5a0",
         "HD (1080p) sex🙈",
         "183"
        ],
        [
         "14",
         "e7998863ac2a40086657fab4a6b463c9",
         "Foto de Maria Teresa D  Valente",
         "175"
        ],
        [
         "15",
         "00f84f574e0b22419dc4ea6b703dc30e",
         "Rough_sex🙈",
         "173"
        ],
        [
         "16",
         "fba2e18e4328fe3d8029e44c542fe988",
         "This community was blocked in Brazil following a decision of the Superior Electoral Court (TSE).",
         "171"
        ],
        [
         "17",
         "8c5e8ef2c1b1fc8f3edead5c2bc66857",
         "Anal sex🙈",
         "164"
        ],
        [
         "18",
         "ff641ad3b925b40c4183a929ddea8c1a",
         "HD (1080p) sex🙈",
         "159"
        ],
        [
         "19",
         "c743967449a387ad2c1c7e03b2c45b36",
         "Grupo Para Organizar 200 MIL Eleitores do Bolsonaro, Que Comprovará a Maioria Dos Eleitores Que Votarão no Bolsonaro 22.\n\nSe Você Apoia o PRESIDENTE JAIR MESSIAS BOLSONARO, só Divulgue Suas Realizações, Programas e Pronunciamentos Que Nos Interessam.\n\nNão Daremos Voz ou Notoriedade a Nenhum Outro Presidenciável.\n\nO GRUPO NÃO se Responsabiliza Pela Postagem de Nenhum Membro, o Autor da Publicação Será o Responsável.\n\nNÃO Publique NEM Compartilhe NADA Sem a Fonte Confirmada ou Conteúdo Que Contenha FAKE NEWS.\n\n✔️ Se Ver Algo de Errado no Grupo, Como Mensagens Impróprias de Infiltrados, Digite: [USER] Que um Administrador Será Chamado.\n\n\n⚠️ Copie o Texto Abaixo e Divulgue o Para Todos:\n\nGrupo: 🇧🇷 EXÉRCITO PATRIOTA 🇧🇷\n\nLink:👉 https://t.me/+DnJpx-HxNCFkMmUx\n\nOu Whatsapp: https://baixaogratis.blogspot.com/p/entrar-para-o-grupo.html\n\nCOMPARTILHE O GRUPO PARA TODOS !!\n\n\nE Conhecereis a Verdade, e a Verdade Vos Libertará. João 8:32\n\nA Verdade Será Inevitável 🕊\n\nO BRASIL É DE JESUS!\n\n\n👇🏻👇🏻 MAIS NOS LINKS ABAIXO 👇🏻👇🏻",
         "152"
        ],
        [
         "20",
         "e3b2ad172093d30591063f71344cf177",
         "Anal sex🙈",
         "148"
        ],
        [
         "21",
         "6adfedbb5ebea15b89d785ce436f6bc0",
         "This community was blocked in Brazil following a decision of the Superior Electoral Court (TSE).",
         "134"
        ],
        [
         "22",
         "e5e3e38d433016adf62ea34432853a3c",
         "Foto de Marcelo Rossi",
         "131"
        ],
        [
         "23",
         "3f4ca971a4e468405d92d7b34416d60e",
         "Foto de Gláucio Souza",
         "130"
        ],
        [
         "24",
         "1665e22b0f564cd46d343f7677014821",
         "Regras do Grupo \n\n1° Regra do grupo é respeito aos integrantes e moderadores.\n\n▪️ Somos o 1° grupo que representamos genuinamente a população sem interesses escusos.\n\n▪️Não temos partidos políticos ou políticos de estimações, mas obviamente quem é oposição ao establishment representa a população.\n\n▪️Somos o único grupo contra todos os regimes coletivistas que levam a ditadura.\n\n▪️ Somos contra socialismo, socialismo fabiano, comunismo, nazismo, fascismo, globalismo, ou seja, somos contra o totalitarismo.\n\n▪️Somos contra as seitas satânicas (\"maçonaria, rosa cruz, \ndemolay, Illuminati...\"\n\n▪️Somos contra monopólios, oligopólios e cartéis.\n\n▪️Somos contra as agendas 21, 2030 da ONU, fórum econômico mundial (NOM).\n\n▪️Somos a favor do cristianismo, legítima defesa (porte/posse), livre mercado, destatização, menos políticos, mordomias e privilégios das elites política e do funcionalismo público.\n\n▪️ Infelizmente a maioria dos grupos contra o sistema são alunos do comunista Paulo Freire, somos à exceção.\n\n▪️Somos contra qualquer grupo que fazem propagandas de soluções para o Brasil, mas as evidências de comprovantes de transferências bancárias e conversas divulgadas, mostram os recursos adquiridos sendo distribuídos entre os \"organizadores\".\n\n▪️Não faça refutações sem apresentar evidências. Caso contrário serão banidos, devido atrapalhar o despertar.\n\n▪️ Proibido vendas, bitcoins ou similares.",
         "127"
        ],
        [
         "25",
         "17916aca7f2d50e4f30761dd76986ff6",
         "سکس مردان ازبک با زن انگلیسی با این vpn از سایتهای ممنوعه ببینید🙈\n\nشاهد الرجال الأوزبكيين يمارسون الجنس مع النساء الإنجليزيات باستخدام VPN هذا من المواقع المحظورة🚫\n\nTaqiqlangan saytlardan bu vpn orqali o'zbek erkaklari ingliz ayollari bilan jinsiy aloqa qilishlarini ko'ring\n\nSee Uzbek men having sex with English women with this vpn from banned sites",
         "127"
        ],
        [
         "26",
         "566ba5c5eeeac2fc18b65965c3909a1f",
         "https://t.me/canalselvabrasiloficial\nSELVA BRASIL OFICIAL 🇧🇷🇧🇷",
         "125"
        ],
        [
         "27",
         "653febf2475e940cae6567f8f6c9102a",
         "A.n.a.l🙈",
         "124"
        ],
        [
         "28",
         "f32fb55955515e8a98429f9089df960f",
         "سکس مردان ازبک با زن انگلیسی با این vpn از سایتهای ممنوعه ببینید🙈\n\nشاهد الرجال الأوزبكيين يمارسون الجنس مع النساء الإنجليزيات باستخدام VPN هذا من المواقع المحظورة🚫\n\nTaqiqlangan saytlardan bu vpn orqali o'zbek erkaklari ingliz ayollari bilan jinsiy aloqa qilishlarini ko'ring\n\nSee Uzbek men having sex with English women with this vpn from banned sites",
         "124"
        ],
        [
         "29",
         "1665e22b0f564cd46d343f7677014821",
         "🌒 ENCERRAR MODO NOTURNO\n\n✅ De agora em diante, os usuários podem enviar novamente mídia (fotos, vídeos, arquivos...) e links no grupo.",
         "117"
        ],
        [
         "30",
         "691ec9ff5769680d6debb56d2fe5e62e",
         "Rough_sex🙈",
         "116"
        ],
        [
         "31",
         "5428d7add9f8e29dc2bbdcc85f75f9d6",
         "Rough😱",
         "116"
        ],
        [
         "32",
         "773b9bd5b02a2e96f9d732c29bfcb663",
         "https://t.me/canalselvabrasiloficial\nSELVA BRASIL OFICIAL 🇧🇷🇧🇷",
         "114"
        ],
        [
         "33",
         "5c5bbff6e0b2b7d4abb0aa5b9ae8f8b0",
         "Rough😨💦",
         "113"
        ],
        [
         "34",
         "e1976c56bc0662c60e0161fc79b94e34",
         "Rough😱",
         "112"
        ],
        [
         "35",
         "e12cd087a297593d24f7c92d6309f105",
         "Rough😨💦",
         "112"
        ],
        [
         "36",
         "b4f036ff7f9596869c16255630ea1a72",
         "Vídeo de Marcelo Massote",
         "111"
        ],
        [
         "37",
         "167db5613cd8235c443146d086ef40aa",
         "فیلم سوپر با زیرنویس فارسی ببین😍😍\nبا این فیلترشکن میتونی هروقت دلت خواست فیلم سوپر ببینی😍\n\nAmerikalik ayolni arab erkaklari tomonidan zo'rlanganini ushbu vpn bilan tomosha qiling\nFaqat 18 yoshdan oshganlar\n\nWatch the rape of an American woman by Arab men with this vpn\nOnly people over 18 years old",
         "110"
        ],
        [
         "38",
         "b1143aaa0fed123a4f6af9200df8d02b",
         "Lesbian👩‍❤‍👩",
         "108"
        ],
        [
         "39",
         "a56c3098383c741719f222fbd807ccdb",
         "Vaginal sex🙈",
         "107"
        ],
        [
         "40",
         "773b9bd5b02a2e96f9d732c29bfcb663",
         "This community was blocked in Brazil following a decision of the Superior Electoral Court (TSE).",
         "107"
        ],
        [
         "41",
         "55a14665c42142001c5145ad315f0e19",
         "Lesbian👩‍❤‍👩",
         "107"
        ],
        [
         "42",
         "5f47c8d650969393e25000a927219611",
         "Vídeo de Jane M.A.Coletti ☺️🇧🇷🇧🇷🇧🇷",
         "104"
        ],
        [
         "43",
         "23d14a50cb82952a04645e779f48206a",
         "سکس مردان ازبک با زن انگلیسی با این vpn از سایتهای ممنوعه ببینید🙈\n\nشاهد الرجال الأوزبكيين يمارسون الجنس مع النساء الإنجليزيات باستخدام VPN هذا من المواقع المحظورة🚫\n\nTaqiqlangan saytlardan bu vpn orqali o'zbek erkaklari ingliz ayollari bilan jinsiy aloqa qilishlarini ko'ring\n\nSee Uzbek men having sex with English women with this vpn from banned sites",
         "104"
        ],
        [
         "44",
         "400ff18531c9aa277eadfd78d5a54a1e",
         "This community was blocked in Brazil following a decision of the Superior Electoral Court (TSE).",
         "98"
        ],
        [
         "45",
         "441fd1aad6d5d5fb355ec50f5b2b07cf",
         "Anal sex🙈",
         "98"
        ],
        [
         "46",
         "b931bad9b759d8f473fc8eb65ed22426",
         "Vídeo de Flavio",
         "96"
        ],
        [
         "47",
         "37eee205efaacd6dc3b079e0f5bed817",
         "Rough_sex🙈",
         "96"
        ],
        [
         "48",
         "1665e22b0f564cd46d343f7677014821",
         "🌒 MODO NOTURNO INICIADO\n\n❌ A partir deste momento, até 8 NENHUM USUÁRIO poderá enviar mídia (fotos, vídeos, arquivos...) e links no grupo.",
         "94"
        ],
        [
         "49",
         "8b890330b9d851d740d3536ac1567432",
         "This community was blocked in Brazil following a decision of the Superior Electoral Court (TSE).",
         "94"
        ]
       ],
       "shape": {
        "columns": 3,
        "rows": 18776
       }
      },
      "text/html": [
       "<div>\n",
       "<style scoped>\n",
       "    .dataframe tbody tr th:only-of-type {\n",
       "        vertical-align: middle;\n",
       "    }\n",
       "\n",
       "    .dataframe tbody tr th {\n",
       "        vertical-align: top;\n",
       "    }\n",
       "\n",
       "    .dataframe thead th {\n",
       "        text-align: right;\n",
       "    }\n",
       "</style>\n",
       "<table border=\"1\" class=\"dataframe\">\n",
       "  <thead>\n",
       "    <tr style=\"text-align: right;\">\n",
       "      <th></th>\n",
       "      <th>usuario</th>\n",
       "      <th>mensagem</th>\n",
       "      <th>quantidade_envios</th>\n",
       "    </tr>\n",
       "  </thead>\n",
       "  <tbody>\n",
       "    <tr>\n",
       "      <th>0</th>\n",
       "      <td>f233cf8b1d4ede06f32199a7e0081bf5</td>\n",
       "      <td>This community was blocked in Brazil following...</td>\n",
       "      <td>838</td>\n",
       "    </tr>\n",
       "    <tr>\n",
       "      <th>1</th>\n",
       "      <td>c743967449a387ad2c1c7e03b2c45b36</td>\n",
       "      <td>This community was blocked in Brazil following...</td>\n",
       "      <td>532</td>\n",
       "    </tr>\n",
       "    <tr>\n",
       "      <th>2</th>\n",
       "      <td>7696d5103cdb8ac352d748a1db1126b0</td>\n",
       "      <td>This community was blocked in Brazil following...</td>\n",
       "      <td>530</td>\n",
       "    </tr>\n",
       "    <tr>\n",
       "      <th>3</th>\n",
       "      <td>1665e22b0f564cd46d343f7677014821</td>\n",
       "      <td>Bem vindo(a) ao grupo Ipirá Notícias. \\n\\nComp...</td>\n",
       "      <td>357</td>\n",
       "    </tr>\n",
       "    <tr>\n",
       "      <th>4</th>\n",
       "      <td>a398999c55f8d6f0c65760522ae12e45</td>\n",
       "      <td>This community was blocked in Brazil following...</td>\n",
       "      <td>308</td>\n",
       "    </tr>\n",
       "    <tr>\n",
       "      <th>...</th>\n",
       "      <td>...</td>\n",
       "      <td>...</td>\n",
       "      <td>...</td>\n",
       "    </tr>\n",
       "    <tr>\n",
       "      <th>18771</th>\n",
       "      <td>fb4a5f8c3319aa373d868e69589481f9</td>\n",
       "      <td>ISSO NÃO É UMA PIADA!\\n\\nPAREM DE BRINCAR COM ...</td>\n",
       "      <td>2</td>\n",
       "    </tr>\n",
       "    <tr>\n",
       "      <th>18772</th>\n",
       "      <td>56b8359fd127312651b80b8ed8030085</td>\n",
       "      <td>Forte dos Andradas Guarujá  10/11/22 às  16:00...</td>\n",
       "      <td>2</td>\n",
       "    </tr>\n",
       "    <tr>\n",
       "      <th>18773</th>\n",
       "      <td>0b890ee1f25ce39fb283c6ddef47f3fd</td>\n",
       "      <td>Precisamos de ajuda no QG, chuva muito forte d...</td>\n",
       "      <td>2</td>\n",
       "    </tr>\n",
       "    <tr>\n",
       "      <th>18774</th>\n",
       "      <td>20329e6934259b1e018a518208bad4ce</td>\n",
       "      <td>URGENTE\\n\\nPresidente Bolsonaro convoca reuniã...</td>\n",
       "      <td>2</td>\n",
       "    </tr>\n",
       "    <tr>\n",
       "      <th>18775</th>\n",
       "      <td>fed389afd2e15b29c98a5c6f56d15b75</td>\n",
       "      <td>https://www.camara.leg.br/noticias/918904-comi...</td>\n",
       "      <td>2</td>\n",
       "    </tr>\n",
       "  </tbody>\n",
       "</table>\n",
       "<p>18776 rows × 3 columns</p>\n",
       "</div>"
      ],
      "text/plain": [
       "                                usuario  \\\n",
       "0      f233cf8b1d4ede06f32199a7e0081bf5   \n",
       "1      c743967449a387ad2c1c7e03b2c45b36   \n",
       "2      7696d5103cdb8ac352d748a1db1126b0   \n",
       "3      1665e22b0f564cd46d343f7677014821   \n",
       "4      a398999c55f8d6f0c65760522ae12e45   \n",
       "...                                 ...   \n",
       "18771  fb4a5f8c3319aa373d868e69589481f9   \n",
       "18772  56b8359fd127312651b80b8ed8030085   \n",
       "18773  0b890ee1f25ce39fb283c6ddef47f3fd   \n",
       "18774  20329e6934259b1e018a518208bad4ce   \n",
       "18775  fed389afd2e15b29c98a5c6f56d15b75   \n",
       "\n",
       "                                                mensagem  quantidade_envios  \n",
       "0      This community was blocked in Brazil following...                838  \n",
       "1      This community was blocked in Brazil following...                532  \n",
       "2      This community was blocked in Brazil following...                530  \n",
       "3      Bem vindo(a) ao grupo Ipirá Notícias. \\n\\nComp...                357  \n",
       "4      This community was blocked in Brazil following...                308  \n",
       "...                                                  ...                ...  \n",
       "18771  ISSO NÃO É UMA PIADA!\\n\\nPAREM DE BRINCAR COM ...                  2  \n",
       "18772  Forte dos Andradas Guarujá  10/11/22 às  16:00...                  2  \n",
       "18773  Precisamos de ajuda no QG, chuva muito forte d...                  2  \n",
       "18774  URGENTE\\n\\nPresidente Bolsonaro convoca reuniã...                  2  \n",
       "18775  https://www.camara.leg.br/noticias/918904-comi...                  2  \n",
       "\n",
       "[18776 rows x 3 columns]"
      ]
     },
     "metadata": {},
     "output_type": "display_data"
    }
   ],
   "source": [
    "qtd_mensagens_identicas = conn.execute(\"\"\"\n",
    "    SELECT\n",
    "    id_member_anonymous AS usuario,\n",
    "    text_content_anonymous AS mensagem,\n",
    "    COUNT(*) AS quantidade_envios\n",
    "    FROM tabela_dados\n",
    "    WHERE\n",
    "        id_member_anonymous IS NOT NULL\n",
    "        AND text_content_anonymous IS NOT NULL\n",
    "        AND TRIM(text_content_anonymous) <> ''\n",
    "    GROUP BY id_member_anonymous, text_content_anonymous\n",
    "    HAVING COUNT(*) > 1\n",
    "    ORDER BY quantidade_envios DESC;\n",
    "\"\"\").fetchdf()\n",
    "\n",
    "display(qtd_mensagens_identicas)"
   ]
  },
  {
   "cell_type": "markdown",
   "id": "e081c605",
   "metadata": {},
   "source": [
    "---"
   ]
  },
  {
   "cell_type": "markdown",
   "id": "fc2d0f72",
   "metadata": {},
   "source": [
    "#### **20**. Mensagens idênticas compartilhadas pelo mesmo usuário em grupos distintos (e suas quantidades)"
   ]
  },
  {
   "cell_type": "markdown",
   "id": "e5dfffee",
   "metadata": {},
   "source": [
    "Essa consulta mostra quais mensagens foram compartilhadas pelo mesmo usuário em mais de um grupo. Isso ajuda a identificar comportamentos de distribuição ativa de conteúdo, como quando alguém 'espalha' uma mensagem por vários grupos. Filtrei só os casos com mais de um grupo distinto pra focar nos casos relevantes. O fluxo da consulta segue a estrutura abaixo:\n",
    "\n",
    "- Agrupar por:\n",
    "    - id_member_anonymous → quem enviou,\n",
    "    - text_content_anonymous → o conteúdo da mensagem,\n",
    "    - id_group_anonymous → o grupo onde foi enviada.\n",
    "\n",
    "- Em seguida, recontar quantos grupos distintos receberam a mesma mensagem do mesmo usuário.\n",
    "\n",
    "- Filtrar apenas os casos com mais de 1 grupo.\n",
    "\n"
   ]
  },
  {
   "cell_type": "code",
   "execution_count": 45,
   "id": "be06b2d6",
   "metadata": {},
   "outputs": [
    {
     "data": {
      "application/vnd.microsoft.datawrangler.viewer.v0+json": {
       "columns": [
        {
         "name": "index",
         "rawType": "int64",
         "type": "integer"
        },
        {
         "name": "usuario",
         "rawType": "object",
         "type": "string"
        },
        {
         "name": "mensagem",
         "rawType": "object",
         "type": "string"
        },
        {
         "name": "grupos_distintos",
         "rawType": "int64",
         "type": "integer"
        }
       ],
       "conversionMethod": "pd.DataFrame",
       "ref": "cabb6a86-7d2c-4a72-a021-3bf5fb35433d",
       "rows": [
        [
         "0",
         "a7840e7844020149e197272748965862",
         "ALERTA\nESSE GRUPO FOI CRIADO PELA ESQUERDA COM NOME DE BOLSONARO E ESTA PEDINDO FOTO DO COMPROVANTE, PRA FRAUDAR AS URNAS COMO JÁ FIZERAM, Ñ MANDEM MAIS FOTO ALGUMA, E TEM VÁRIOS AQUI TENTANDO DENEGRIR A IMAGEM E CARATER DO PRESIDENTE, TENTANDO GERAR DUVIDA EM VCS, SAIAM RÁPIDO DESSE CANAL E Ñ ENTREM E NEM COMPARTILHEM COM MAIS NINGUÉM ESSE LINK AQUI QUE ELES MESMO COMPARTILHAM, ESTÃO TENTANDO TE ENGANAR SAIAM DAQUI E PERMANEÇAM COM VOTO NO BOLSONARO ELE TEM VALORES QUE A ESQUERDA JAMAIS VAI SABER O QUE É VALOR EM UMA PESSOA, DEUS ABENÇOE",
         "16"
        ],
        [
         "1",
         "326d0a2f1bc5a1ede446fcf5dc31ff2e",
         "💣💥((((( URGENTÍSSIMO )))))💥💣\nESSE GRUPO É UMA FRAUDE 💥 SAIAM DESSE GRUPO É UM GRUPO DE ESQUERDA QUERENDO COLOCARMOS CONTRA O NOSSO PRESIDENTE 💥💣 SAIM SAIM SAIM... E QUEM POSTOU SEU COMPROVANTE DE VOTAÇÃO, APAGUEM URGENTE, NAO CAIAM NESSE GOLPE... SAIAM SAIAM!!! 💣💥💥💥 GRUPO ESQUERDISTA 💥💥💥💥",
         "14"
        ],
        [
         "2",
         "326d0a2f1bc5a1ede446fcf5dc31ff2e",
         "💣💣💣💥💥🔰BOMBA BOMBA🔰💥💥💣💣💣\nVCS ESTÃO ACHANDO QUE IRÃO CONSEGUIR DESESTABILIZAR OS BOLSONARISTAS, VCS NÃO PASSAM DE ESTRUME, A ESCÓRIA DA SOCIEDADE, SEM VALOR ALGUM, LIXO HUMANO, ISSO Q VCS SÃO, GRUPO DE LIXO, TERÃO QUE CHUPAR ESSA MANGA MAIS 4 ANOS KKKKK CHUPAAA SEUS ESQUERDOPATAS.. Q DESESPERO HEIN PRA FAZER UM GRUPINHO MEQUETREFE DESSE KKKKK\n\n⏰🖐️💦🌊💧🐯🐆🐅\n\nBOA NOITE A TODOS. O QUE EU VOU DIZER É SÉRIO A ESQUERDA ESTA AGINDO NOS GRUPOS DE WHATSAPP POSTANDO LINKS NAS REDES SOCIAIS DIRECIONADOS AO TELEGRAN. \n\nO NOME DO GRUPO É \n\nMEU VOTO É BOLSONARO 22\n\nTEM DE VÁRIOS ESTADOS.\nELES ESTÃO PEDINDO A FOTO DO COMPROVANTE DE VOTAÇÃO E ATÉ TÍTULOS DE ELEITOR. \nE AS PESSOAS MUITAS DELAS ESTÃO POSTANDO. \n\nELES VEM COM ALEGAÇÃO QUE QUEREM CHEGAR A 60 MILHÕES DE COMPROVANTES PRA MOVER UMA AÇÃO CONTRA FRAUDE. ISSO É MENTIRA. É FALSO. \nPEÇO AJUDA DE VCS POIS ESTOU DESDE ONTEM TENTANDO ABRIR OS OLHOS DAS PESSOAS QUE ESTÃO NOS GRUPOS POSTANDO SEUS COMPROVANTES.  POIS NO SEGUNDO TURNO VÃO VOTAR NO LUGAR DESSAS PESSOAS. E NÃO VAI ADIANTAR RECLAMAR.\n\nPEÇO AJUDA DE VCS PARA VCS ENTRAREM NO BUSCADOR DO TELEGRAN DESSES GRUPOS E DENUNCIAR. COM A OPÇÃO DOCUMENTOS PESSOAIS.\n\nPAREM DE POSTAR ISSO É SÉRIO.\n\nO GRUPO DELES ESTA CONFIGURADO PRA POSTAGEM DE MENSAGENS DE 1H EM 1HORA. EVITANDO ASSIM ALERTAR AS PESSOAS DO GRUPO. EU FUI DELETADO DO GRUPO DO RIO DE JANEIRO PQ ESTAVA INCOMODANDO.\n\nSE NÃO AGIRMOS AGORA PERDEREMOS A ELEIÇÃO.\n\nELES ESTÃO AGINDO EM TODO O PAÍS.\n\nACORDEM NÃO É BRINCADEIRA",
         "12"
        ],
        [
         "3",
         "29dda76df3384c28a07e8bad1ee9ceed",
         "BOA NOITE A TODOS. O QUE EU VOU DIZER É SÉRIO A ESQUERDA ESTA AGINDO NOS GRUPOS DE WHATSAPP POSTANDO LINKS NAS REDES SOCIAIS DIRECIONADOS AO TELEGRAN. \n\nO NOME DO GRUPO É \n\nMEU VOTO É BOLSONARO 22\n\nTEM DE VÁRIOS ESTADOS.\nELES ESTÃO PEDINDO A FOTO DO COMPROVANTE DE VOTAÇÃO E ATÉ TÍTULOS DE ELEITOR. \nE AS PESSOAS MUITAS DELAS ESTÃO POSTANDO. \n\nELES VEM COM ALEGAÇÃO QUE QUEREM CHEGAR A 60 MILHÕES DE COMPROVANTES PRA MOVER UMA AÇÃO CONTRA FRAUDE. ISSO É MENTIRA. É FALSO. \nPEÇO AJUDA DE VCS POIS ESTOU DESDE ONTEM TENTANDO ABRIR OS OLHOS DAS PESSOAS QUE ESTÃO NOS GRUPOS POSTANDO SEUS COMPROVANTES.  POIS NO SEGUNDO TURNO VÃO VOTAR NO LUGAR DESSAS PESSOAS. E NÃO VAI ADIANTAR RECLAMAR.\n\nPEÇO AJUDA DE VCS PARA VCS ENTRAREM NO BUSCADOR DO TELEGRAN DESSES GRUPOS E DENUNCIAR. COM A OPÇÃO DOCUMENTOS PESSOAIS.\n\nPAREM DE POSTAR ISSO É SÉRIO.\n\nO GRUPO DELES ESTA CONFIGURADO PRA POSTAGEM DE MENSAGENS DE 1H EM 1HORA. EVITANDO ASSIM ALERTAR AS PESSOAS DO GRUPO. EU FUI DELETADO DO GRUPO DO RIO DE JANEIRO PQ ESTAVA INCOMODANDO.\n\nSE NÃO AGIRMOS AGORA PERDEREMOS A ELEIÇÃO.\n\nELES ESTÃO AGINDO EM TODO O PAÍS.\n\nACORDEM NÃO É BRINCADEIRA",
         "11"
        ],
        [
         "4",
         "4e93f1d3c83fd6041314517363b14ed5",
         "Pessoal não envie seus comprovantes de votação pra esse grupo,  tão colhendo seus dados pra fraudar nas eleições do segundo turno, não é grupo de Patriota não entre em nenhum aplicativo e mentiras. DENUNCIE ESSE GRUPO E SAIAM E COMPARTILHEM , VCS TÃO SENDO ENGANADOS!!! Não tem administradores são Rackeres colhendo informações,  saiam denunciam e compartilham ...Grupo esquerdista 👆👆👆👆",
         "10"
        ],
        [
         "5",
         "dc60c84ed8dec03b667c577e124c5540",
         "INTERCESSÃO PELO BRASIL!!\n\nChegou a hora da Igreja se unir em CONSCIÊNCIA e em INTERCESSÃO a favor da nossa Nação. Levantando um grande clamor a Deus para que a vontade Dele seja estabelecida:\n\nJAIR MESSIAS BOLSONARO\n\nEntre em nosso grupo de Intercessão pelo Brasil através do link:\n\nhttps://t.me/intercessaobrasil",
         "10"
        ],
        [
         "6",
         "67aef6d8321facd89b2f5ebbb0825b77",
         "https://t.me/+hXARlf2UnEEwOTVh\nESTÃO QUERENDO FRAUDAR AS URNAS PRECISAMOS COLOCAR 70 MILHÕES DE ELEITORES DO BOLSONARO NO GRUPO \n\nCOMPARTILHA PRA TODOS ESSE LINK \nTODOS QUE VÃO VOTAR NO BOLSONARO \nBAIXE O TELEGRAM  E ENTRE NO GRUPO \nASSIM PROVAREMOS A VITÓRIA DO BOLSONARO\nENTRA NO GRUPO E COMPARTILHA O MÁXIMO QUE VOCÊ PUDER",
         "9"
        ],
        [
         "7",
         "8aefec38fba2426877f7fccbfbd9846f",
         "MEU PRESIDENTE MAÇOM SATÂNICO E DEFENSOR DO ABORTO. DECEPCIONADO, IRMÃOS 😭😭😭😭😭😭😭",
         "9"
        ],
        [
         "8",
         "96d3fa497dc935a2b1dd3da9da7aba7d",
         "https://youtu.be/GVYTit753qs",
         "8"
        ],
        [
         "9",
         "2f1f74f54c07fa852f6526ff10d4bab6",
         "https://youtu.be/jMs7JyIoGlc",
         "8"
        ],
        [
         "10",
         "170c5c5b240f668bca7b25e677283c06",
         "Orem pela nação!!!!",
         "8"
        ],
        [
         "11",
         "170c5c5b240f668bca7b25e677283c06",
         "Acabei de receber  a informação que esse grupo não é pra apoiadores do Bolsonaro e sim foi formado por petistas para tentar descobrir nossos planos e roubar dados tanto que eles ficam pedindo pra compartilhar os comprovantes de votação, eles estão juntando os dados vazados dos comprovantes, com esses dados eles vão conseguir implantar o comunismo a força \n tomem cuidado patriotas \nJair messias Bolsonaro nosso Salvador!!!!",
         "8"
        ],
        [
         "12",
         "2f1f74f54c07fa852f6526ff10d4bab6",
         "https://youtu.be/9G3NUBnrtQs",
         "8"
        ],
        [
         "13",
         "b3489cb73e571d03d359a79ca41e1c9c",
         "ESSE GRUPO PODE SER DE ESQUERDA CUIDADO🚫🚫🚫🚫🚫🚫🚫🚫🚫🚫🚫\n\n🚫🚫 VAMOS DENUNCIAR🚫🚫\nTODOS OS GRUPOS USANDO A FOTO DE BOLSONARO 🇧🇷🇧🇷 PRA ESPALHAR FAKE NEWS \nSÃO O POVO DO PT😡😡😡😡\nESSA DESGRAÇA QUEREM CONFUNDIR VOCÊS. ❌❌\nNAO MANDEM COMPROVANTE🚫🚫🚫🚫🚫🚫🚫🚫🚫🚫🚫\nELES VÃO USAR SEU TÍTULO NO 2° TURNO PRA VOTAR NO LULA\n❌❌❌❌❌❌❌❌❌\nELES SÃO PIOR QUE CORONA VÍRUS, QUEREM ROER SUA MENTE E DESGRAÇAR NOSSA PAÍS \n🙏🙏🙏ACORDEM🙏🙏🙏\n\nCOPIE COLA E TODOS OS GRUPOS",
         "8"
        ],
        [
         "14",
         "6af5166069b463db5980d6f68eaac7a5",
         "Desculpa, pessoal, eu sei que esse pode não ser objetivo do grupo, mas desejo muito passar essa informação. Até porque as pessoas estão muito doentes! Se os adms discordarem podem apagar a postagem. \n\n\nPara quem gosta de MEDICINA NATURAL, esse é, SEM DÚVIDA, um dos melhores canais que apareceram nos últimos meses no YouTube. Vale muito a pena se inscrever, seguir e compartilhar! \n\n\n\n\n\n\n\n\n\nhttps://youtube.com/channel/UCVvPvyD-zdnTTapAbF6BbzA",
         "7"
        ],
        [
         "15",
         "fd91a031b77ce4f2ce42756e891774ad",
         "Gazeta do Povo: Alexandre de Moraes obriga Jovem Pan a informar que Lula é inocente\nhttps://www.gazetadopovo.com.br/eleicoes/2022/alexandre-de-moraes-obriga-jovem-pan-a-informar-que-lula-e-inocente/",
         "7"
        ],
        [
         "16",
         "fd91a031b77ce4f2ce42756e891774ad",
         "- É daqui a pouco! LINK: youtu.be/qbTzhB0akt8",
         "7"
        ],
        [
         "17",
         "96d3fa497dc935a2b1dd3da9da7aba7d",
         "https://youtu.be/x2uiakywcrI",
         "7"
        ],
        [
         "18",
         "fd91a031b77ce4f2ce42756e891774ad",
         "LulaFlix – Conheça a verdade sobre o ex-presidiário\nhttps://lulaflix.com.br/",
         "7"
        ],
        [
         "19",
         "fd91a031b77ce4f2ce42756e891774ad",
         "https://youtu.be/zDuOoyhyN-4",
         "7"
        ],
        [
         "20",
         "fd91a031b77ce4f2ce42756e891774ad",
         "https://youtu.be/Sb2_qB3iit4",
         "7"
        ],
        [
         "21",
         "29dda76df3384c28a07e8bad1ee9ceed",
         "*“E aí?”: Malafaia resgata vídeo de Alckmin na maçonaria*\n\nhttps://pleno.news/brasil/politica-nacional/e-ai-malafaia-resgata-video-de-alckmin-na-maconaria.html\n\n\n https://terrabrasilnoticias.com/2022/10/malafaia-nao-vao-manipular-evangelicos-com-video-de-bolsonaro-na-maconaria-veja-video/",
         "7"
        ],
        [
         "22",
         "5358e8926f7faebab66b09a87945f2a9",
         "🔴🔴🔴Alerta para salafrário se fingindo de conservador para te enganar 🔴🔴🔴\n\nQuem ainda está aqui está atrapalhando o nosso PRESIDENTE BOLSONARO saia deste grupo. \n\nEste grupo não tem adm é um grupo criado pela esquerda para pegar seus dados e atrapalhar a reeleição do nosso presidente BOLSONARO .\n\n\n⚠️⚠️⚠️ATENÇÃO ⚠️⚠️⚠️\n\n ESSE GRUPO É FAKE NÃO É PRO BOLSONARO, ESTÃO AQUI PARA DIFAMAR O NOSSO PRESIDENTE  E DESENFORMAR OS CONSERVADORES, PEÇO QUE COPIE E COLE ESTA MENSAGEM AQUI NOVAMENTE E SAIA IMEDIATAMENTE DESTE GRUPO\n\n\nPEÇO QUE COPIE E COLE ESTA MENSAGEM AQUI NOVAMENTE PARA INFORMAR OUTROS CONSERVADORES ⚠️⚠️⚠️⚠️\n\n✅👉 Acompanhe o presidente BOLSONARO no canal oficial acesse :\n\n https://t.me/jairbolsonarobrasil",
         "7"
        ],
        [
         "23",
         "fd91a031b77ce4f2ce42756e891774ad",
         "Diário do Poder: Marco Aurélio: ‘homens de bem precisam reagir’ à censura do TSE\nhttps://diariodopoder.com.br/justica/marco-aurelio-afirma-que-homens-de-bem-precisam-reagir-a-censura-do-tse",
         "7"
        ],
        [
         "24",
         "fd91a031b77ce4f2ce42756e891774ad",
         "https://youtu.be/RahB38Rgd6w",
         "7"
        ],
        [
         "25",
         "823d50d70391d543ef35dfa7f6737610",
         "ATENÇÃO A TODOS OS PATRIOTAS CRISTÃOS!!!! \nBolsonaro está pagando pessoas para informar que os cidadãos devem IGNORAR as informações de que ele é maçom! \nAdmins dos grupos te removem assim que vc questiona o fato do presidente maçom!!! Estão dizendo que ele só foi \"visitar\", cristão que é cristão não pisa os pés em templo maçom MUITO MENOS FAZ O CUMPRIMENTO DESSA CEITA! \nEste homem fez pacto para atrair eleitores, por isso tem muitos fãs!!! NÃO ACREDITEM EM QUEM DIZ QUE É FAKE!! estão comprados e provavelmente compactuam com este ser satânico!",
         "7"
        ],
        [
         "26",
         "96d3fa497dc935a2b1dd3da9da7aba7d",
         "https://youtu.be/lL72SAS_jrk",
         "7"
        ],
        [
         "27",
         "fd91a031b77ce4f2ce42756e891774ad",
         "https://youtu.be/xbVOdbHtb0c",
         "7"
        ],
        [
         "28",
         "d846b401cb960c00a22af5697cabf015",
         "Esse video da maçonaria foi a pá de cal meus irmãos. Infelizmente no grupo da minha igreja, nosso pastor já passou a instrução a toda a congregação para não votar no nosso capitão. Acredito que isso vá gerar uma onda em outras igrejas. Muito triste irmãos, nao estava esperando esse golpe.   💔",
         "7"
        ],
        [
         "29",
         "4e93f1d3c83fd6041314517363b14ed5",
         "🚫🚫 VAMOS DENUNCIAR🚫🚫\nTODOS OS GRUPOS USANDO A FOTO DE BOLSONARO 🇧🇷🇧🇷 PRA ESPALHAR FAKE NEWS \nSÃO O POVO DO PT😡😡😡😡\nESSA DESGRAÇA QUEREM CONFUNDIR VOCÊS. ❌❌\nNAO MANDEM COMPROVANTE🚫🚫🚫🚫🚫🚫🚫🚫🚫🚫🚫\nELES VÃO USAR SEU TÍTULO NO 2° TURNO PRA VOTAR NO LULA\n❌❌❌❌❌❌❌❌❌\nELES SÃO PIOR QUE CORONA VÍRUS, QUEREM ROER SUA MENTE E DESGRAÇAR NOSSA PAÍS \n🙏🙏🙏ACORDEM🙏🙏🙏\n\nCOPIE COLA E TODOS OS GRUPOS\nSAIAM DESSE GRUPO AQUI NAO MANDE COMPROVANTE E DE ESQUERDA , VAO USAR SEUS COMPROVANTE PRA FRAUDE NO SEGUNDO TURNO ...",
         "7"
        ],
        [
         "30",
         "fd91a031b77ce4f2ce42756e891774ad",
         "https://youtu.be/WHSuc1xjucQ",
         "7"
        ],
        [
         "31",
         "fd91a031b77ce4f2ce42756e891774ad",
         "O caso de desvio de dinheiro destinado a respiradores, citado por Bolsonaro no último debate, tem uma sequência de eventos perturbadora https://veja.abril.com.br/politica/os-detalhes-do-escandalo-de-r-48-mi-que-envolveu-nomes-do-pt-na-pandemia/",
         "7"
        ],
        [
         "32",
         "cdafe8bef79fe7104e4c893f2c0b8e40",
         "Voto confirmado! ✌️😎✌️\n\nPatriotas, agora vamos fiscalizar as urnas. \n\najudem a fazer a totalização paralela! \nEsteja as 17h na seção eleitoral mais próxima da sua casa!\n\nhttps://app.totalizacaoparalela.com.br\n\nSem o voto impresso, é só isso e esse grupo que temos!",
         "7"
        ],
        [
         "33",
         "fd91a031b77ce4f2ce42756e891774ad",
         "https://youtu.be/wGpTY8GH568",
         "7"
        ],
        [
         "34",
         "fd91a031b77ce4f2ce42756e891774ad",
         "A expectativa dos auxiliares do presidente é de que ele vá para cima de Alexandre de Moraes e do TSE https://veja.abril.com.br/brasil/bolsonaro-chama-reuniao-no-alvorada-e-guerra-diz-aliado/",
         "7"
        ],
        [
         "35",
         "fd91a031b77ce4f2ce42756e891774ad",
         "https://youtu.be/4KQDQP5LsoI",
         "7"
        ],
        [
         "36",
         "fd91a031b77ce4f2ce42756e891774ad",
         "Rádios confirmam que não receberam do TSE materiais de campanha de Bolsonaro ☛ https://terrabrasilnoticias.com/2022/10/radios-confirmam-que-nao-receberam-do-tse-materiais-de-campanha-de-bolsonaro/",
         "7"
        ],
        [
         "37",
         "fd91a031b77ce4f2ce42756e891774ad",
         "https://youtu.be/4PUsnihNiXw",
         "7"
        ],
        [
         "38",
         "a49d88be9798210cb06f9171b4d7317c",
         "Conheça a Aloe Vera, conhecida como a \"planta da eternidade\". Show!!!!!!\n\n\n\n\n\n\n\n\n\n\n\n\n\n\nhttps://youtu.be/w6qCX_nin_U",
         "7"
        ],
        [
         "39",
         "fd91a031b77ce4f2ce42756e891774ad",
         "Em relação a reunião do Presidente Bolsonaro com a alto cúpula das FFAA. Paulo Figueiredo: Certas coisas não são ditas, são feitas. \n\nhttps://youtu.be/Rp6KbsTejc0",
         "7"
        ],
        [
         "40",
         "96d3fa497dc935a2b1dd3da9da7aba7d",
         "https://youtu.be/CFnO4YIiyiI",
         "7"
        ],
        [
         "41",
         "fd91a031b77ce4f2ce42756e891774ad",
         "https://youtu.be/Bnn1Wl1uETI",
         "7"
        ],
        [
         "42",
         "fd91a031b77ce4f2ce42756e891774ad",
         "https://youtu.be/909FQUeKxig",
         "7"
        ],
        [
         "43",
         "fd91a031b77ce4f2ce42756e891774ad",
         "R7: Campanha de Bolsonaro diz que Lula teve 154.085 inserções de rádio a mais do que o presidente\nhttps://noticias.r7.com/eleicoes-2022/campanha-de-bolsonaro-diz-que-lula-teve-154085-insercoes-de-radio-a-mais-do-que-o-presidente-24102022",
         "7"
        ],
        [
         "44",
         "fd91a031b77ce4f2ce42756e891774ad",
         "https://youtu.be/4Wn-cz5Rq7I",
         "7"
        ],
        [
         "45",
         "fd91a031b77ce4f2ce42756e891774ad",
         "Lula é a favor do Aborto \nhttps://youtu.be/stvviE7eIm8\n\nLula defende Ladroes de celular \nhttps://youtu.be/QOm91IkIsq0\n\nLula defende regime político da China \nhttps://youtu.be/5yLh3XQtmEs\n\nLula é a favor de regular as redes sociais \nhttps://youtu.be/WkmJ6g-eZGc\n\nLula disse que vai tomar as armas da população \nhttps://youtu.be/eq5z-vTEPEo\n\n\nLula diz que quem quiser bater em mulher que vá bater fora de casa \nhttps://youtu.be/qSuR-DjIuSo\n\nLula diz que quer implantar o comunismo no Brasil \nhttps://youtu.be/9o-zCoSOqp0\n\nLula quer controlar a classe média no Brasil \nhttps://youtu.be/AadTy-2jQH0\n\nLula defende Ditaduras como Cuba \nhttps://youtu.be/EaZR6ufywfc\n\nLula se compara a Jesus Cristo e ao próprio Deus \nhttps://youtu.be/eLJ6HlzzajM\n\nLula assume que engana o povo \nhttps://youtu.be/kN8zFriAH7Q\n\nLula agradece Petista por tentativa de homicídio de empresário. \nhttps://youtu.be/xPL-XdzUIe0\n\nLula disse colocar os pastores no seu devido lugar \nhttps://youtu.be/WlMrwVcwgP8\n\nLula desrespeita uma das maiores autoridades médicas no Brasil \nhttps://youtu.be/QDNxJNZiV90\n\nLula admite que mente sobre a miséria no Brasil \nhttps://youtu.be/vgpe6noLf-E\n\nLula diz que o papel do pobre é esperar ajuda do governo \nhttps://youtu.be/eYFA2sSXRhU\n\nLula diz que se der 10 reais para o pobre ele vira consumidor \nhttps://youtu.be/upuMygW9U30\n\nLula diz que pobre pensa com o estômago e não com a cabeça \nhttps://youtu.be/CTMckO9i53A\n\nLula diz que pobre é como papel higiênico \nhttps://youtube.com/shorts/xjYNitLcmks?feature=share\n\nO Brasil financiou ditaduras no governo PT \nhttps://youtu.be/ZQzrCwU8_Jg\n\nComo o PT multiplicou a pobreza no Brasil \nhttps://youtu.be/-jcH8bk5CeI\n\nProvas contra Lula \nhttps://youtu.be/xiVitlBgNGA\n\nPT diz que PT vai fazer aliança até com o Diabo\nhttps://youtu.be/PiWKS8fWIKY\n\nLula defende política liberal sobre drogas \nhttps://youtu.be/dwlFbPkiYU0\n\nCrise na Petrobras põe fim da era PT no Brasil \nhttps://youtu.be/cEQHXEtCIzk\n\nLula reconhece que nunca foi considerado mito \nhttps://youtu.be/9PkAFz59hZI",
         "7"
        ],
        [
         "46",
         "96d3fa497dc935a2b1dd3da9da7aba7d",
         "https://youtu.be/l0OWJy2RVWo",
         "7"
        ],
        [
         "47",
         "fd91a031b77ce4f2ce42756e891774ad",
         "https://www.r7.com/p1ci",
         "7"
        ],
        [
         "48",
         "fd91a031b77ce4f2ce42756e891774ad",
         "https://youtu.be/pUjx0dOunYs",
         "7"
        ],
        [
         "49",
         "96d3fa497dc935a2b1dd3da9da7aba7d",
         "https://youtu.be/HPVj2J18Am8",
         "7"
        ]
       ],
       "shape": {
        "columns": 3,
        "rows": 13209
       }
      },
      "text/html": [
       "<div>\n",
       "<style scoped>\n",
       "    .dataframe tbody tr th:only-of-type {\n",
       "        vertical-align: middle;\n",
       "    }\n",
       "\n",
       "    .dataframe tbody tr th {\n",
       "        vertical-align: top;\n",
       "    }\n",
       "\n",
       "    .dataframe thead th {\n",
       "        text-align: right;\n",
       "    }\n",
       "</style>\n",
       "<table border=\"1\" class=\"dataframe\">\n",
       "  <thead>\n",
       "    <tr style=\"text-align: right;\">\n",
       "      <th></th>\n",
       "      <th>usuario</th>\n",
       "      <th>mensagem</th>\n",
       "      <th>grupos_distintos</th>\n",
       "    </tr>\n",
       "  </thead>\n",
       "  <tbody>\n",
       "    <tr>\n",
       "      <th>0</th>\n",
       "      <td>a7840e7844020149e197272748965862</td>\n",
       "      <td>ALERTA\\nESSE GRUPO FOI CRIADO PELA ESQUERDA CO...</td>\n",
       "      <td>16</td>\n",
       "    </tr>\n",
       "    <tr>\n",
       "      <th>1</th>\n",
       "      <td>326d0a2f1bc5a1ede446fcf5dc31ff2e</td>\n",
       "      <td>💣💥((((( URGENTÍSSIMO )))))💥💣\\nESSE GRUPO É UMA...</td>\n",
       "      <td>14</td>\n",
       "    </tr>\n",
       "    <tr>\n",
       "      <th>2</th>\n",
       "      <td>326d0a2f1bc5a1ede446fcf5dc31ff2e</td>\n",
       "      <td>💣💣💣💥💥🔰BOMBA BOMBA🔰💥💥💣💣💣\\nVCS ESTÃO ACHANDO QUE...</td>\n",
       "      <td>12</td>\n",
       "    </tr>\n",
       "    <tr>\n",
       "      <th>3</th>\n",
       "      <td>29dda76df3384c28a07e8bad1ee9ceed</td>\n",
       "      <td>BOA NOITE A TODOS. O QUE EU VOU DIZER É SÉRIO ...</td>\n",
       "      <td>11</td>\n",
       "    </tr>\n",
       "    <tr>\n",
       "      <th>4</th>\n",
       "      <td>4e93f1d3c83fd6041314517363b14ed5</td>\n",
       "      <td>Pessoal não envie seus comprovantes de votação...</td>\n",
       "      <td>10</td>\n",
       "    </tr>\n",
       "    <tr>\n",
       "      <th>...</th>\n",
       "      <td>...</td>\n",
       "      <td>...</td>\n",
       "      <td>...</td>\n",
       "    </tr>\n",
       "    <tr>\n",
       "      <th>13204</th>\n",
       "      <td>4fdffb11daaa552b541ad38aaeb8f6b7</td>\n",
       "      <td>https://decasanews.wixsite.com/my-site/post/v%...</td>\n",
       "      <td>2</td>\n",
       "    </tr>\n",
       "    <tr>\n",
       "      <th>13205</th>\n",
       "      <td>b880d6ba3c5285002897fe3b1ffbc011</td>\n",
       "      <td>OS PETISTAS SÃO OS ÚNICOS ANIMAIS RACIONAIS, Q...</td>\n",
       "      <td>2</td>\n",
       "    </tr>\n",
       "    <tr>\n",
       "      <th>13206</th>\n",
       "      <td>a7e85072244cae15446c9d517dc01a1a</td>\n",
       "      <td>O Exército do Bem continua crescendo para venc...</td>\n",
       "      <td>2</td>\n",
       "    </tr>\n",
       "    <tr>\n",
       "      <th>13207</th>\n",
       "      <td>89ac6eac049d0a9f2432f7fa23b38132</td>\n",
       "      <td>Nao quero te chatear, apenas te fazer enxergar...</td>\n",
       "      <td>2</td>\n",
       "    </tr>\n",
       "    <tr>\n",
       "      <th>13208</th>\n",
       "      <td>7ed87d4f4ca651fa79ac2e66e645522d</td>\n",
       "      <td>Bom dia irmaos paz peço a atenção dos irmaos,d...</td>\n",
       "      <td>2</td>\n",
       "    </tr>\n",
       "  </tbody>\n",
       "</table>\n",
       "<p>13209 rows × 3 columns</p>\n",
       "</div>"
      ],
      "text/plain": [
       "                                usuario  \\\n",
       "0      a7840e7844020149e197272748965862   \n",
       "1      326d0a2f1bc5a1ede446fcf5dc31ff2e   \n",
       "2      326d0a2f1bc5a1ede446fcf5dc31ff2e   \n",
       "3      29dda76df3384c28a07e8bad1ee9ceed   \n",
       "4      4e93f1d3c83fd6041314517363b14ed5   \n",
       "...                                 ...   \n",
       "13204  4fdffb11daaa552b541ad38aaeb8f6b7   \n",
       "13205  b880d6ba3c5285002897fe3b1ffbc011   \n",
       "13206  a7e85072244cae15446c9d517dc01a1a   \n",
       "13207  89ac6eac049d0a9f2432f7fa23b38132   \n",
       "13208  7ed87d4f4ca651fa79ac2e66e645522d   \n",
       "\n",
       "                                                mensagem  grupos_distintos  \n",
       "0      ALERTA\\nESSE GRUPO FOI CRIADO PELA ESQUERDA CO...                16  \n",
       "1      💣💥((((( URGENTÍSSIMO )))))💥💣\\nESSE GRUPO É UMA...                14  \n",
       "2      💣💣💣💥💥🔰BOMBA BOMBA🔰💥💥💣💣💣\\nVCS ESTÃO ACHANDO QUE...                12  \n",
       "3      BOA NOITE A TODOS. O QUE EU VOU DIZER É SÉRIO ...                11  \n",
       "4      Pessoal não envie seus comprovantes de votação...                10  \n",
       "...                                                  ...               ...  \n",
       "13204  https://decasanews.wixsite.com/my-site/post/v%...                 2  \n",
       "13205  OS PETISTAS SÃO OS ÚNICOS ANIMAIS RACIONAIS, Q...                 2  \n",
       "13206  O Exército do Bem continua crescendo para venc...                 2  \n",
       "13207  Nao quero te chatear, apenas te fazer enxergar...                 2  \n",
       "13208  Bom dia irmaos paz peço a atenção dos irmaos,d...                 2  \n",
       "\n",
       "[13209 rows x 3 columns]"
      ]
     },
     "metadata": {},
     "output_type": "display_data"
    }
   ],
   "source": [
    "qtd_msg_identicas_grupos_distintos = conn.execute(\"\"\"\n",
    "    SELECT\n",
    "    id_member_anonymous AS usuario,\n",
    "    text_content_anonymous AS mensagem,\n",
    "    COUNT(DISTINCT id_group_anonymous) AS grupos_distintos\n",
    "    FROM tabela_dados\n",
    "    WHERE\n",
    "        id_member_anonymous IS NOT NULL\n",
    "        AND text_content_anonymous IS NOT NULL\n",
    "        AND TRIM(text_content_anonymous) <> ''\n",
    "    GROUP BY id_member_anonymous, text_content_anonymous\n",
    "    HAVING COUNT(DISTINCT id_group_anonymous) > 1\n",
    "    ORDER BY grupos_distintos DESC;\n",
    "\"\"\").fetchdf()\n",
    "\n",
    "display(qtd_msg_identicas_grupos_distintos)"
   ]
  },
  {
   "cell_type": "markdown",
   "id": "f5c3fa9f",
   "metadata": {},
   "source": [
    "---"
   ]
  },
  {
   "cell_type": "markdown",
   "id": "87246613",
   "metadata": {},
   "source": [
    "#### **21**. Os 30 unigramas, bigramas e trigramas mais compartilhados"
   ]
  },
  {
   "cell_type": "markdown",
   "id": "58ca46dd",
   "metadata": {},
   "source": [
    "#### **22**. As 30 mensagens mais positivas (distintas)"
   ]
  },
  {
   "cell_type": "markdown",
   "id": "0b98f7db",
   "metadata": {},
   "source": [
    "## Fontes\n",
    "- [DuckDB Documentation](https://duckdb.org/docs/stable/)\n",
    "- [Convert csv to parquet file using python](https://stackoverflow.com/questions/50604133/convert-csv-to-parquet-file-using-python)\n",
    "- [Extract hostname from a URL](https://stackoverflow.com/questions/13266534/extract-hostname-from-a-url)"
   ]
  }
 ],
 "metadata": {
  "kernelspec": {
   "display_name": "Python 3",
   "language": "python",
   "name": "python3"
  },
  "language_info": {
   "codemirror_mode": {
    "name": "ipython",
    "version": 3
   },
   "file_extension": ".py",
   "mimetype": "text/x-python",
   "name": "python",
   "nbconvert_exporter": "python",
   "pygments_lexer": "ipython3",
   "version": "3.12.0"
  }
 },
 "nbformat": 4,
 "nbformat_minor": 5
}
