{
 "cells": [
  {
   "cell_type": "markdown",
   "id": "c80a527f",
   "metadata": {},
   "source": [
    "# CK0223 - Mineração de Dados"
   ]
  },
  {
   "cell_type": "markdown",
   "id": "601b7752",
   "metadata": {},
   "source": [
    "## Lista 02 - Extração de Dados"
   ]
  },
  {
   "cell_type": "markdown",
   "id": "4dbda6a0",
   "metadata": {},
   "source": [
    "### Dados do discente:\n",
    "**Nome**: Luiza Esther Martins Pessoa\n",
    "**Matrícula**: 555516\n",
    "\n",
    "### Vídeo Youtube:\n",
    "[Mineração de Dados: Lista 02 - Extração de Dados (Explicando o código)](https://youtu.be/G3_uYOBh5VU)\n",
    "\n",
    "### GitHub:\n",
    "[EstherMart - Extração de Dados](https://github.com/EstherMart/Data-Mining/blob/main/Lista02_ExtracaoDeDados/extracao.ipynb)\n",
    "\n",
    "---"
   ]
  },
  {
   "cell_type": "markdown",
   "id": "3ecb7af0",
   "metadata": {},
   "source": [
    "### **(a)** Ler o dataset *fakeTelegram.BR_2022.csv*"
   ]
  },
  {
   "cell_type": "markdown",
   "id": "99aad7de",
   "metadata": {},
   "source": [
    "Como realizado na [Lista 01 - Tratamento de Dados](https://github.com/EstherMart/Data-Mining/blob/main/Lista01_TratamentoDeDados/tratamento.ipynb), ler o dataset é o primeiro passo para iniciarmos a extraçãa, manipulação e tratamento dos dados. \n",
    "\n",
    "Para fazer isso, começamos importando as bibliotecas necessárias para leitura (`pandas`) e para download local da base de dados (`gdown`). Além disso, vale ressaltar que existem outras formas de realizar o upload para o repositório local, mas decidi seguir a lógica de puxar e realizar o download de base utilizando apenas o link disponibilizado pelo professor.\n",
    "\n",
    "**Importante**: Alguns trechos de código serão reutilizados, visto que são as mesmas exigências em ambas as listas e tal solicitação já foi resolvida anteriormente."
   ]
  },
  {
   "cell_type": "code",
   "execution_count": 2,
   "id": "1cfb507d",
   "metadata": {},
   "outputs": [],
   "source": [
    "# IMPORTAÇÃO DE BIBLIOTECAS\n",
    "import gdown\n",
    "import pandas as pd\n",
    "import requests\n",
    "from io import StringIO"
   ]
  },
  {
   "cell_type": "markdown",
   "id": "9895a25c",
   "metadata": {},
   "source": [
    "Fazendo o download do dataset para o repositório local"
   ]
  },
  {
   "cell_type": "code",
   "execution_count": null,
   "id": "30a92f3d",
   "metadata": {},
   "outputs": [],
   "source": [
    "origem_url = 'https://drive.google.com/file/d/1c_hLzk85pYw-huHSnFYZM_gn-dUsYRDm/view'\n",
    "\n",
    "# O ID do arquivo (necessário para fazer o download direto) está entre os últimos elementos da URL.\n",
    "# Fazemos um split na URL usando '/' como separador e pegamos o penúltimo elemento da lista.\n",
    "# Isso funciona porque a estrutura da URL é:\n",
    "# https://drive.google.com/file/d/ID_DO_ARQUIVO/view\n",
    "# E ao aplicar url.split('/'), o resultado será:\n",
    "# ['https:', '', 'drive.google.com', 'file', 'd', 'ID_DO_ARQUIVO', 'view?...']\n",
    "# Portanto, o ID está na posição -2 (penúltima).\n",
    "\n",
    "file_id = origem_url.split('/')[-2]\n",
    "\n",
    "# URL do arquivo no formato aceito pelo gdown\n",
    "url = f'https://drive.google.com/uc?id={file_id}'\n",
    "\n",
    "# Nome local do arquivo que será baixado\n",
    "output = 'fakeTelegram.BR_2022.csv'\n",
    "\n",
    "# Baixando o arquivo com gdown\n",
    "gdown.download(url, output, quiet=False)"
   ]
  },
  {
   "cell_type": "markdown",
   "id": "c1107e67",
   "metadata": {},
   "source": [
    "Leitura do dataset utilizando o método `.read_csv()`, pois permite carregar dados estruturados a partir de arquivos *CSV* para um DataFrame do pandas, sendo uma estrutura tabular extremamente versátil para análise de dados e visualmente intuitiva."
   ]
  },
  {
   "cell_type": "code",
   "execution_count": 3,
   "id": "b86ca85a",
   "metadata": {},
   "outputs": [],
   "source": [
    "df_inicial = pd.read_csv(\"fakeTelegram.BR_2022.csv\")"
   ]
  },
  {
   "cell_type": "markdown",
   "id": "a4c3755a",
   "metadata": {},
   "source": [
    "Os códigos abaixo foram implementados apenas para fins de **visualização e verificação inicial dos dados carregados**, com o objetivo de:\n",
    "- Obter uma compreensão rápida da dimensão do dataset\n",
    "- Identificar os nomes das colunas disponíveis\n",
    "- Realizar uma primeira checagem da integridade básica da estrutura de dados"
   ]
  },
  {
   "cell_type": "code",
   "execution_count": 4,
   "id": "269d00f5",
   "metadata": {},
   "outputs": [
    {
     "name": "stdout",
     "output_type": "stream",
     "text": [
      "Número de linhas: 557586\n",
      "Número de colunas: 19\n",
      "\n",
      "Colunas disponíveis:\n",
      "1. date_message\n",
      "2. id_member_anonymous\n",
      "3. id_group_anonymous\n",
      "4. media\n",
      "5. media_type\n",
      "6. media_url\n",
      "7. has_media\n",
      "8. has_media_url\n",
      "9. trava_zap\n",
      "10. text_content_anonymous\n",
      "11. dataset_info_id\n",
      "12. date_system\n",
      "13. score_sentiment\n",
      "14. score_misinformation\n",
      "15. id_message\n",
      "16. message_type\n",
      "17. messenger\n",
      "18. media_name\n",
      "19. media_md5\n"
     ]
    }
   ],
   "source": [
    "# PARA MELHOR VISUALIZAÇÃO\n",
    "print(\"Número de linhas:\", df_inicial.shape[0])\n",
    "print(\"Número de colunas:\", df_inicial.shape[1])\n",
    "print(\"\\nColunas disponíveis:\")\n",
    "for i, col in enumerate(df_inicial.columns, 1):\n",
    "    print(f\"{i}. {col}\")"
   ]
  },
  {
   "cell_type": "markdown",
   "id": "cbcab548",
   "metadata": {},
   "source": [
    "O método `display()` do IPython renderiza objetos como DataFrames de forma mais rica que print(), mantendo a formatação tabular. Combinado com `.style`, permite personalizar a aparência: `.set_caption()` adiciona títulos descritivos, enquanto `.set_properties()` aplica estilos CSS como cores de fundo suaves (#f8f9fa), bordas sutis, truncamento de texto longo (text-overflow: ellipsis) e limitação de largura (max-width), melhorando a legibilidade e organização dos dados exibidos.\n",
    "\n",
    "Essa abordagem foi utilizada, pois é importante ter em mente as primeiras e últimas amostras do dataset."
   ]
  },
  {
   "cell_type": "code",
   "execution_count": 5,
   "id": "4be807a2",
   "metadata": {},
   "outputs": [
    {
     "data": {
      "text/html": [
       "<style type=\"text/css\">\n",
       "#T_a0157_row0_col0, #T_a0157_row0_col1, #T_a0157_row0_col2, #T_a0157_row0_col3, #T_a0157_row0_col4, #T_a0157_row0_col5, #T_a0157_row0_col6, #T_a0157_row0_col7, #T_a0157_row0_col8, #T_a0157_row0_col9, #T_a0157_row0_col10, #T_a0157_row0_col11, #T_a0157_row0_col12, #T_a0157_row0_col13, #T_a0157_row0_col14, #T_a0157_row0_col15, #T_a0157_row0_col16, #T_a0157_row0_col17, #T_a0157_row0_col18, #T_a0157_row1_col0, #T_a0157_row1_col1, #T_a0157_row1_col2, #T_a0157_row1_col3, #T_a0157_row1_col4, #T_a0157_row1_col5, #T_a0157_row1_col6, #T_a0157_row1_col7, #T_a0157_row1_col8, #T_a0157_row1_col9, #T_a0157_row1_col10, #T_a0157_row1_col11, #T_a0157_row1_col12, #T_a0157_row1_col13, #T_a0157_row1_col14, #T_a0157_row1_col15, #T_a0157_row1_col16, #T_a0157_row1_col17, #T_a0157_row1_col18, #T_a0157_row2_col0, #T_a0157_row2_col1, #T_a0157_row2_col2, #T_a0157_row2_col3, #T_a0157_row2_col4, #T_a0157_row2_col5, #T_a0157_row2_col6, #T_a0157_row2_col7, #T_a0157_row2_col8, #T_a0157_row2_col9, #T_a0157_row2_col10, #T_a0157_row2_col11, #T_a0157_row2_col12, #T_a0157_row2_col13, #T_a0157_row2_col14, #T_a0157_row2_col15, #T_a0157_row2_col16, #T_a0157_row2_col17, #T_a0157_row2_col18, #T_a0157_row3_col0, #T_a0157_row3_col1, #T_a0157_row3_col2, #T_a0157_row3_col3, #T_a0157_row3_col4, #T_a0157_row3_col5, #T_a0157_row3_col6, #T_a0157_row3_col7, #T_a0157_row3_col8, #T_a0157_row3_col9, #T_a0157_row3_col10, #T_a0157_row3_col11, #T_a0157_row3_col12, #T_a0157_row3_col13, #T_a0157_row3_col14, #T_a0157_row3_col15, #T_a0157_row3_col16, #T_a0157_row3_col17, #T_a0157_row3_col18, #T_a0157_row4_col0, #T_a0157_row4_col1, #T_a0157_row4_col2, #T_a0157_row4_col3, #T_a0157_row4_col4, #T_a0157_row4_col5, #T_a0157_row4_col6, #T_a0157_row4_col7, #T_a0157_row4_col8, #T_a0157_row4_col9, #T_a0157_row4_col10, #T_a0157_row4_col11, #T_a0157_row4_col12, #T_a0157_row4_col13, #T_a0157_row4_col14, #T_a0157_row4_col15, #T_a0157_row4_col16, #T_a0157_row4_col17, #T_a0157_row4_col18 {\n",
       "  background-color: #f8f9fa;\n",
       "  border: 1px solid #dee2e6;\n",
       "  color: #212529;\n",
       "  max-width: 300px;\n",
       "  overflow: hidden;\n",
       "  text-overflow: ellipsis;\n",
       "  white-space: nowrap;\n",
       "}\n",
       "</style>\n",
       "<table id=\"T_a0157\">\n",
       "  <caption>Primeiros Registros</caption>\n",
       "  <thead>\n",
       "    <tr>\n",
       "      <th class=\"blank level0\" >&nbsp;</th>\n",
       "      <th id=\"T_a0157_level0_col0\" class=\"col_heading level0 col0\" >date_message</th>\n",
       "      <th id=\"T_a0157_level0_col1\" class=\"col_heading level0 col1\" >id_member_anonymous</th>\n",
       "      <th id=\"T_a0157_level0_col2\" class=\"col_heading level0 col2\" >id_group_anonymous</th>\n",
       "      <th id=\"T_a0157_level0_col3\" class=\"col_heading level0 col3\" >media</th>\n",
       "      <th id=\"T_a0157_level0_col4\" class=\"col_heading level0 col4\" >media_type</th>\n",
       "      <th id=\"T_a0157_level0_col5\" class=\"col_heading level0 col5\" >media_url</th>\n",
       "      <th id=\"T_a0157_level0_col6\" class=\"col_heading level0 col6\" >has_media</th>\n",
       "      <th id=\"T_a0157_level0_col7\" class=\"col_heading level0 col7\" >has_media_url</th>\n",
       "      <th id=\"T_a0157_level0_col8\" class=\"col_heading level0 col8\" >trava_zap</th>\n",
       "      <th id=\"T_a0157_level0_col9\" class=\"col_heading level0 col9\" >text_content_anonymous</th>\n",
       "      <th id=\"T_a0157_level0_col10\" class=\"col_heading level0 col10\" >dataset_info_id</th>\n",
       "      <th id=\"T_a0157_level0_col11\" class=\"col_heading level0 col11\" >date_system</th>\n",
       "      <th id=\"T_a0157_level0_col12\" class=\"col_heading level0 col12\" >score_sentiment</th>\n",
       "      <th id=\"T_a0157_level0_col13\" class=\"col_heading level0 col13\" >score_misinformation</th>\n",
       "      <th id=\"T_a0157_level0_col14\" class=\"col_heading level0 col14\" >id_message</th>\n",
       "      <th id=\"T_a0157_level0_col15\" class=\"col_heading level0 col15\" >message_type</th>\n",
       "      <th id=\"T_a0157_level0_col16\" class=\"col_heading level0 col16\" >messenger</th>\n",
       "      <th id=\"T_a0157_level0_col17\" class=\"col_heading level0 col17\" >media_name</th>\n",
       "      <th id=\"T_a0157_level0_col18\" class=\"col_heading level0 col18\" >media_md5</th>\n",
       "    </tr>\n",
       "  </thead>\n",
       "  <tbody>\n",
       "    <tr>\n",
       "      <th id=\"T_a0157_level0_row0\" class=\"row_heading level0 row0\" >0</th>\n",
       "      <td id=\"T_a0157_row0_col0\" class=\"data row0 col0\" >2022-10-05 06:25:04</td>\n",
       "      <td id=\"T_a0157_row0_col1\" class=\"data row0 col1\" >1078cc958f0febe28f4d03207660715f</td>\n",
       "      <td id=\"T_a0157_row0_col2\" class=\"data row0 col2\" >12283e08a2eb5789201e105b34489ee7</td>\n",
       "      <td id=\"T_a0157_row0_col3\" class=\"data row0 col3\" >nan</td>\n",
       "      <td id=\"T_a0157_row0_col4\" class=\"data row0 col4\" >nan</td>\n",
       "      <td id=\"T_a0157_row0_col5\" class=\"data row0 col5\" >nan</td>\n",
       "      <td id=\"T_a0157_row0_col6\" class=\"data row0 col6\" >False</td>\n",
       "      <td id=\"T_a0157_row0_col7\" class=\"data row0 col7\" >False</td>\n",
       "      <td id=\"T_a0157_row0_col8\" class=\"data row0 col8\" >False</td>\n",
       "      <td id=\"T_a0157_row0_col9\" class=\"data row0 col9\" >Então é Fato Renato o áudio que eu ouvi no whatsapp isso ocorreu em Niterói principalmente no bairro Fonseca ?</td>\n",
       "      <td id=\"T_a0157_row0_col10\" class=\"data row0 col10\" >5</td>\n",
       "      <td id=\"T_a0157_row0_col11\" class=\"data row0 col11\" >2022-10-05 06:25:28.863641</td>\n",
       "      <td id=\"T_a0157_row0_col12\" class=\"data row0 col12\" >0.000000</td>\n",
       "      <td id=\"T_a0157_row0_col13\" class=\"data row0 col13\" >nan</td>\n",
       "      <td id=\"T_a0157_row0_col14\" class=\"data row0 col14\" >16385</td>\n",
       "      <td id=\"T_a0157_row0_col15\" class=\"data row0 col15\" >Texto</td>\n",
       "      <td id=\"T_a0157_row0_col16\" class=\"data row0 col16\" >telegram</td>\n",
       "      <td id=\"T_a0157_row0_col17\" class=\"data row0 col17\" >nan</td>\n",
       "      <td id=\"T_a0157_row0_col18\" class=\"data row0 col18\" >nan</td>\n",
       "    </tr>\n",
       "    <tr>\n",
       "      <th id=\"T_a0157_level0_row1\" class=\"row_heading level0 row1\" >1</th>\n",
       "      <td id=\"T_a0157_row1_col0\" class=\"data row1 col0\" >2022-10-05 06:25:08</td>\n",
       "      <td id=\"T_a0157_row1_col1\" class=\"data row1 col1\" >nan</td>\n",
       "      <td id=\"T_a0157_row1_col2\" class=\"data row1 col2\" >12283e08a2eb5789201e105b34489ee7</td>\n",
       "      <td id=\"T_a0157_row1_col3\" class=\"data row1 col3\" >nan</td>\n",
       "      <td id=\"T_a0157_row1_col4\" class=\"data row1 col4\" >nan</td>\n",
       "      <td id=\"T_a0157_row1_col5\" class=\"data row1 col5\" >nan</td>\n",
       "      <td id=\"T_a0157_row1_col6\" class=\"data row1 col6\" >False</td>\n",
       "      <td id=\"T_a0157_row1_col7\" class=\"data row1 col7\" >False</td>\n",
       "      <td id=\"T_a0157_row1_col8\" class=\"data row1 col8\" >False</td>\n",
       "      <td id=\"T_a0157_row1_col9\" class=\"data row1 col9\" >Saiu no YouTube do presidente a 8 horas atrás, infelizmente não consigo enviar para cá, mas é facilmente verificável no YouTube do presidente</td>\n",
       "      <td id=\"T_a0157_row1_col10\" class=\"data row1 col10\" >5</td>\n",
       "      <td id=\"T_a0157_row1_col11\" class=\"data row1 col11\" >2022-10-05 06:25:28.926311</td>\n",
       "      <td id=\"T_a0157_row1_col12\" class=\"data row1 col12\" >0.064400</td>\n",
       "      <td id=\"T_a0157_row1_col13\" class=\"data row1 col13\" >nan</td>\n",
       "      <td id=\"T_a0157_row1_col14\" class=\"data row1 col14\" >16386</td>\n",
       "      <td id=\"T_a0157_row1_col15\" class=\"data row1 col15\" >Texto</td>\n",
       "      <td id=\"T_a0157_row1_col16\" class=\"data row1 col16\" >telegram</td>\n",
       "      <td id=\"T_a0157_row1_col17\" class=\"data row1 col17\" >nan</td>\n",
       "      <td id=\"T_a0157_row1_col18\" class=\"data row1 col18\" >nan</td>\n",
       "    </tr>\n",
       "    <tr>\n",
       "      <th id=\"T_a0157_level0_row2\" class=\"row_heading level0 row2\" >2</th>\n",
       "      <td id=\"T_a0157_row2_col0\" class=\"data row2 col0\" >2022-10-05 06:26:28</td>\n",
       "      <td id=\"T_a0157_row2_col1\" class=\"data row2 col1\" >92a2d8fd7144074f659d1d29dc3751da</td>\n",
       "      <td id=\"T_a0157_row2_col2\" class=\"data row2 col2\" >9f2d7394334eb224c061c9740b5748fc</td>\n",
       "      <td id=\"T_a0157_row2_col3\" class=\"data row2 col3\" >nan</td>\n",
       "      <td id=\"T_a0157_row2_col4\" class=\"data row2 col4\" >nan</td>\n",
       "      <td id=\"T_a0157_row2_col5\" class=\"data row2 col5\" >nan</td>\n",
       "      <td id=\"T_a0157_row2_col6\" class=\"data row2 col6\" >False</td>\n",
       "      <td id=\"T_a0157_row2_col7\" class=\"data row2 col7\" >False</td>\n",
       "      <td id=\"T_a0157_row2_col8\" class=\"data row2 col8\" >False</td>\n",
       "      <td id=\"T_a0157_row2_col9\" class=\"data row2 col9\" >É isso, nossa parte já foi quase toda feita. No segundo turno completamos nossa parte desse teatro. Essa é uma guerra de 4* geração na dimensão humana e uma guerra espiritual do bem contra o mal na dimensão do Universo. Pensamento positivo é fundamental, pensem sempre em algo bom. Deus continua nos abençoando, nosso livre arbítrio completa o curso.</td>\n",
       "      <td id=\"T_a0157_row2_col10\" class=\"data row2 col10\" >5</td>\n",
       "      <td id=\"T_a0157_row2_col11\" class=\"data row2 col11\" >2022-10-05 06:26:29.361949</td>\n",
       "      <td id=\"T_a0157_row2_col12\" class=\"data row2 col12\" >-0.355100</td>\n",
       "      <td id=\"T_a0157_row2_col13\" class=\"data row2 col13\" >0.157242</td>\n",
       "      <td id=\"T_a0157_row2_col14\" class=\"data row2 col14\" >16366</td>\n",
       "      <td id=\"T_a0157_row2_col15\" class=\"data row2 col15\" >Texto</td>\n",
       "      <td id=\"T_a0157_row2_col16\" class=\"data row2 col16\" >telegram</td>\n",
       "      <td id=\"T_a0157_row2_col17\" class=\"data row2 col17\" >nan</td>\n",
       "      <td id=\"T_a0157_row2_col18\" class=\"data row2 col18\" >nan</td>\n",
       "    </tr>\n",
       "    <tr>\n",
       "      <th id=\"T_a0157_level0_row3\" class=\"row_heading level0 row3\" >3</th>\n",
       "      <td id=\"T_a0157_row3_col0\" class=\"data row3 col0\" >2022-10-05 06:27:28</td>\n",
       "      <td id=\"T_a0157_row3_col1\" class=\"data row3 col1\" >d60aa38f62b4977426b70944af4aff72</td>\n",
       "      <td id=\"T_a0157_row3_col2\" class=\"data row3 col2\" >c8f2de56550ed0bf85249608b7ead93d</td>\n",
       "      <td id=\"T_a0157_row3_col3\" class=\"data row3 col3\" >94dca4cda503100ebfda7ce2bcc060eb.jpg</td>\n",
       "      <td id=\"T_a0157_row3_col4\" class=\"data row3 col4\" >image/jpg</td>\n",
       "      <td id=\"T_a0157_row3_col5\" class=\"data row3 col5\" >nan</td>\n",
       "      <td id=\"T_a0157_row3_col6\" class=\"data row3 col6\" >True</td>\n",
       "      <td id=\"T_a0157_row3_col7\" class=\"data row3 col7\" >False</td>\n",
       "      <td id=\"T_a0157_row3_col8\" class=\"data row3 col8\" >False</td>\n",
       "      <td id=\"T_a0157_row3_col9\" class=\"data row3 col9\" >GENTE ACHEI ELES EM UMA SEITA MAÇONÁRICA</td>\n",
       "      <td id=\"T_a0157_row3_col10\" class=\"data row3 col10\" >5</td>\n",
       "      <td id=\"T_a0157_row3_col11\" class=\"data row3 col11\" >2022-10-05 06:27:29.935624</td>\n",
       "      <td id=\"T_a0157_row3_col12\" class=\"data row3 col12\" >0.000000</td>\n",
       "      <td id=\"T_a0157_row3_col13\" class=\"data row3 col13\" >nan</td>\n",
       "      <td id=\"T_a0157_row3_col14\" class=\"data row3 col14\" >19281</td>\n",
       "      <td id=\"T_a0157_row3_col15\" class=\"data row3 col15\" >Imagem</td>\n",
       "      <td id=\"T_a0157_row3_col16\" class=\"data row3 col16\" >telegram</td>\n",
       "      <td id=\"T_a0157_row3_col17\" class=\"data row3 col17\" >nan</td>\n",
       "      <td id=\"T_a0157_row3_col18\" class=\"data row3 col18\" >94dca4cda503100ebfda7ce2bcc060eb</td>\n",
       "    </tr>\n",
       "    <tr>\n",
       "      <th id=\"T_a0157_level0_row4\" class=\"row_heading level0 row4\" >4</th>\n",
       "      <td id=\"T_a0157_row4_col0\" class=\"data row4 col0\" >2022-10-05 06:27:44</td>\n",
       "      <td id=\"T_a0157_row4_col1\" class=\"data row4 col1\" >cd6979b0b5265f08468fa1689b6300ce</td>\n",
       "      <td id=\"T_a0157_row4_col2\" class=\"data row4 col2\" >e56ec342fc599ebb4ed89655eb6f03aa</td>\n",
       "      <td id=\"T_a0157_row4_col3\" class=\"data row4 col3\" >5ad5c8bbe9da93a37fecf3e5aa5b0637.jpg</td>\n",
       "      <td id=\"T_a0157_row4_col4\" class=\"data row4 col4\" >image/jpg</td>\n",
       "      <td id=\"T_a0157_row4_col5\" class=\"data row4 col5\" >nan</td>\n",
       "      <td id=\"T_a0157_row4_col6\" class=\"data row4 col6\" >True</td>\n",
       "      <td id=\"T_a0157_row4_col7\" class=\"data row4 col7\" >False</td>\n",
       "      <td id=\"T_a0157_row4_col8\" class=\"data row4 col8\" >False</td>\n",
       "      <td id=\"T_a0157_row4_col9\" class=\"data row4 col9\" >nan</td>\n",
       "      <td id=\"T_a0157_row4_col10\" class=\"data row4 col10\" >5</td>\n",
       "      <td id=\"T_a0157_row4_col11\" class=\"data row4 col11\" >2022-10-05 06:28:29.316325</td>\n",
       "      <td id=\"T_a0157_row4_col12\" class=\"data row4 col12\" >nan</td>\n",
       "      <td id=\"T_a0157_row4_col13\" class=\"data row4 col13\" >nan</td>\n",
       "      <td id=\"T_a0157_row4_col14\" class=\"data row4 col14\" >507185</td>\n",
       "      <td id=\"T_a0157_row4_col15\" class=\"data row4 col15\" >Imagem</td>\n",
       "      <td id=\"T_a0157_row4_col16\" class=\"data row4 col16\" >telegram</td>\n",
       "      <td id=\"T_a0157_row4_col17\" class=\"data row4 col17\" >nan</td>\n",
       "      <td id=\"T_a0157_row4_col18\" class=\"data row4 col18\" >5ad5c8bbe9da93a37fecf3e5aa5b0637</td>\n",
       "    </tr>\n",
       "  </tbody>\n",
       "</table>\n"
      ],
      "text/plain": [
       "<pandas.io.formats.style.Styler at 0x1da0c487bf0>"
      ]
     },
     "metadata": {},
     "output_type": "display_data"
    },
    {
     "data": {
      "text/html": [
       "<style type=\"text/css\">\n",
       "#T_54fe5_row0_col0, #T_54fe5_row0_col1, #T_54fe5_row0_col2, #T_54fe5_row0_col3, #T_54fe5_row0_col4, #T_54fe5_row0_col5, #T_54fe5_row0_col6, #T_54fe5_row0_col7, #T_54fe5_row0_col8, #T_54fe5_row0_col9, #T_54fe5_row0_col10, #T_54fe5_row0_col11, #T_54fe5_row0_col12, #T_54fe5_row0_col13, #T_54fe5_row0_col14, #T_54fe5_row0_col15, #T_54fe5_row0_col16, #T_54fe5_row0_col17, #T_54fe5_row0_col18, #T_54fe5_row1_col0, #T_54fe5_row1_col1, #T_54fe5_row1_col2, #T_54fe5_row1_col3, #T_54fe5_row1_col4, #T_54fe5_row1_col5, #T_54fe5_row1_col6, #T_54fe5_row1_col7, #T_54fe5_row1_col8, #T_54fe5_row1_col9, #T_54fe5_row1_col10, #T_54fe5_row1_col11, #T_54fe5_row1_col12, #T_54fe5_row1_col13, #T_54fe5_row1_col14, #T_54fe5_row1_col15, #T_54fe5_row1_col16, #T_54fe5_row1_col17, #T_54fe5_row1_col18, #T_54fe5_row2_col0, #T_54fe5_row2_col1, #T_54fe5_row2_col2, #T_54fe5_row2_col3, #T_54fe5_row2_col4, #T_54fe5_row2_col5, #T_54fe5_row2_col6, #T_54fe5_row2_col7, #T_54fe5_row2_col8, #T_54fe5_row2_col9, #T_54fe5_row2_col10, #T_54fe5_row2_col11, #T_54fe5_row2_col12, #T_54fe5_row2_col13, #T_54fe5_row2_col14, #T_54fe5_row2_col15, #T_54fe5_row2_col16, #T_54fe5_row2_col17, #T_54fe5_row2_col18, #T_54fe5_row3_col0, #T_54fe5_row3_col1, #T_54fe5_row3_col2, #T_54fe5_row3_col3, #T_54fe5_row3_col4, #T_54fe5_row3_col5, #T_54fe5_row3_col6, #T_54fe5_row3_col7, #T_54fe5_row3_col8, #T_54fe5_row3_col9, #T_54fe5_row3_col10, #T_54fe5_row3_col11, #T_54fe5_row3_col12, #T_54fe5_row3_col13, #T_54fe5_row3_col14, #T_54fe5_row3_col15, #T_54fe5_row3_col16, #T_54fe5_row3_col17, #T_54fe5_row3_col18, #T_54fe5_row4_col0, #T_54fe5_row4_col1, #T_54fe5_row4_col2, #T_54fe5_row4_col3, #T_54fe5_row4_col4, #T_54fe5_row4_col5, #T_54fe5_row4_col6, #T_54fe5_row4_col7, #T_54fe5_row4_col8, #T_54fe5_row4_col9, #T_54fe5_row4_col10, #T_54fe5_row4_col11, #T_54fe5_row4_col12, #T_54fe5_row4_col13, #T_54fe5_row4_col14, #T_54fe5_row4_col15, #T_54fe5_row4_col16, #T_54fe5_row4_col17, #T_54fe5_row4_col18 {\n",
       "  background-color: #f8f9fa;\n",
       "  border: 1px solid #dee2e6;\n",
       "  color: #212529;\n",
       "  max-width: 300px;\n",
       "  overflow: hidden;\n",
       "  text-overflow: ellipsis;\n",
       "  white-space: nowrap;\n",
       "}\n",
       "</style>\n",
       "<table id=\"T_54fe5\">\n",
       "  <caption>Últimos Registros</caption>\n",
       "  <thead>\n",
       "    <tr>\n",
       "      <th class=\"blank level0\" >&nbsp;</th>\n",
       "      <th id=\"T_54fe5_level0_col0\" class=\"col_heading level0 col0\" >date_message</th>\n",
       "      <th id=\"T_54fe5_level0_col1\" class=\"col_heading level0 col1\" >id_member_anonymous</th>\n",
       "      <th id=\"T_54fe5_level0_col2\" class=\"col_heading level0 col2\" >id_group_anonymous</th>\n",
       "      <th id=\"T_54fe5_level0_col3\" class=\"col_heading level0 col3\" >media</th>\n",
       "      <th id=\"T_54fe5_level0_col4\" class=\"col_heading level0 col4\" >media_type</th>\n",
       "      <th id=\"T_54fe5_level0_col5\" class=\"col_heading level0 col5\" >media_url</th>\n",
       "      <th id=\"T_54fe5_level0_col6\" class=\"col_heading level0 col6\" >has_media</th>\n",
       "      <th id=\"T_54fe5_level0_col7\" class=\"col_heading level0 col7\" >has_media_url</th>\n",
       "      <th id=\"T_54fe5_level0_col8\" class=\"col_heading level0 col8\" >trava_zap</th>\n",
       "      <th id=\"T_54fe5_level0_col9\" class=\"col_heading level0 col9\" >text_content_anonymous</th>\n",
       "      <th id=\"T_54fe5_level0_col10\" class=\"col_heading level0 col10\" >dataset_info_id</th>\n",
       "      <th id=\"T_54fe5_level0_col11\" class=\"col_heading level0 col11\" >date_system</th>\n",
       "      <th id=\"T_54fe5_level0_col12\" class=\"col_heading level0 col12\" >score_sentiment</th>\n",
       "      <th id=\"T_54fe5_level0_col13\" class=\"col_heading level0 col13\" >score_misinformation</th>\n",
       "      <th id=\"T_54fe5_level0_col14\" class=\"col_heading level0 col14\" >id_message</th>\n",
       "      <th id=\"T_54fe5_level0_col15\" class=\"col_heading level0 col15\" >message_type</th>\n",
       "      <th id=\"T_54fe5_level0_col16\" class=\"col_heading level0 col16\" >messenger</th>\n",
       "      <th id=\"T_54fe5_level0_col17\" class=\"col_heading level0 col17\" >media_name</th>\n",
       "      <th id=\"T_54fe5_level0_col18\" class=\"col_heading level0 col18\" >media_md5</th>\n",
       "    </tr>\n",
       "  </thead>\n",
       "  <tbody>\n",
       "    <tr>\n",
       "      <th id=\"T_54fe5_level0_row0\" class=\"row_heading level0 row0\" >557581</th>\n",
       "      <td id=\"T_54fe5_row0_col0\" class=\"data row0 col0\" >2022-11-11 12:06:15</td>\n",
       "      <td id=\"T_54fe5_row0_col1\" class=\"data row0 col1\" >333e9869f23dbd4682d1be382d9c1e59</td>\n",
       "      <td id=\"T_54fe5_row0_col2\" class=\"data row0 col2\" >e56ec342fc599ebb4ed89655eb6f03aa</td>\n",
       "      <td id=\"T_54fe5_row0_col3\" class=\"data row0 col3\" >25e43b6a58b848c43ad5b5f9e979822a.jpg</td>\n",
       "      <td id=\"T_54fe5_row0_col4\" class=\"data row0 col4\" >url</td>\n",
       "      <td id=\"T_54fe5_row0_col5\" class=\"data row0 col5\" >https://terrabrasilnoticias.com/2022/11/bndes-tem-lucro-de-r-96-bilhoes-no-terceiro-trimestre/</td>\n",
       "      <td id=\"T_54fe5_row0_col6\" class=\"data row0 col6\" >True</td>\n",
       "      <td id=\"T_54fe5_row0_col7\" class=\"data row0 col7\" >True</td>\n",
       "      <td id=\"T_54fe5_row0_col8\" class=\"data row0 col8\" >False</td>\n",
       "      <td id=\"T_54fe5_row0_col9\" class=\"data row0 col9\" >BNDES tem lucro de R$ 9,6 bilhões no terceiro trimestre ☛ https://terrabrasilnoticias.com/2022/11/bndes-tem-lucro-de-r-96-bilhoes-no-terceiro-trimestre/</td>\n",
       "      <td id=\"T_54fe5_row0_col10\" class=\"data row0 col10\" >5</td>\n",
       "      <td id=\"T_54fe5_row0_col11\" class=\"data row0 col11\" >2022-11-16 14:49:39.146502</td>\n",
       "      <td id=\"T_54fe5_row0_col12\" class=\"data row0 col12\" >0.102700</td>\n",
       "      <td id=\"T_54fe5_row0_col13\" class=\"data row0 col13\" >nan</td>\n",
       "      <td id=\"T_54fe5_row0_col14\" class=\"data row0 col14\" >575796</td>\n",
       "      <td id=\"T_54fe5_row0_col15\" class=\"data row0 col15\" >Url</td>\n",
       "      <td id=\"T_54fe5_row0_col16\" class=\"data row0 col16\" >telegram</td>\n",
       "      <td id=\"T_54fe5_row0_col17\" class=\"data row0 col17\" >nan</td>\n",
       "      <td id=\"T_54fe5_row0_col18\" class=\"data row0 col18\" >25e43b6a58b848c43ad5b5f9e979822a</td>\n",
       "    </tr>\n",
       "    <tr>\n",
       "      <th id=\"T_54fe5_level0_row1\" class=\"row_heading level0 row1\" >557582</th>\n",
       "      <td id=\"T_54fe5_row1_col0\" class=\"data row1 col0\" >2022-11-11 12:09:08</td>\n",
       "      <td id=\"T_54fe5_row1_col1\" class=\"data row1 col1\" >nan</td>\n",
       "      <td id=\"T_54fe5_row1_col2\" class=\"data row1 col2\" >5b10d7739171149be6d9961e3350c071</td>\n",
       "      <td id=\"T_54fe5_row1_col3\" class=\"data row1 col3\" >657949d03e4088f6b332e2686ccd3221.jpg</td>\n",
       "      <td id=\"T_54fe5_row1_col4\" class=\"data row1 col4\" >url</td>\n",
       "      <td id=\"T_54fe5_row1_col5\" class=\"data row1 col5\" >https://youtu.be/8g1Vz9_0xVk</td>\n",
       "      <td id=\"T_54fe5_row1_col6\" class=\"data row1 col6\" >True</td>\n",
       "      <td id=\"T_54fe5_row1_col7\" class=\"data row1 col7\" >True</td>\n",
       "      <td id=\"T_54fe5_row1_col8\" class=\"data row1 col8\" >False</td>\n",
       "      <td id=\"T_54fe5_row1_col9\" class=\"data row1 col9\" >https://youtu.be/8g1Vz9_0xVk</td>\n",
       "      <td id=\"T_54fe5_row1_col10\" class=\"data row1 col10\" >5</td>\n",
       "      <td id=\"T_54fe5_row1_col11\" class=\"data row1 col11\" >2022-11-16 14:49:39.847434</td>\n",
       "      <td id=\"T_54fe5_row1_col12\" class=\"data row1 col12\" >0.000000</td>\n",
       "      <td id=\"T_54fe5_row1_col13\" class=\"data row1 col13\" >nan</td>\n",
       "      <td id=\"T_54fe5_row1_col14\" class=\"data row1 col14\" >1286443</td>\n",
       "      <td id=\"T_54fe5_row1_col15\" class=\"data row1 col15\" >Url</td>\n",
       "      <td id=\"T_54fe5_row1_col16\" class=\"data row1 col16\" >telegram</td>\n",
       "      <td id=\"T_54fe5_row1_col17\" class=\"data row1 col17\" >nan</td>\n",
       "      <td id=\"T_54fe5_row1_col18\" class=\"data row1 col18\" >657949d03e4088f6b332e2686ccd3221</td>\n",
       "    </tr>\n",
       "    <tr>\n",
       "      <th id=\"T_54fe5_level0_row2\" class=\"row_heading level0 row2\" >557583</th>\n",
       "      <td id=\"T_54fe5_row2_col0\" class=\"data row2 col0\" >2022-11-11 12:09:47</td>\n",
       "      <td id=\"T_54fe5_row2_col1\" class=\"data row2 col1\" >nan</td>\n",
       "      <td id=\"T_54fe5_row2_col2\" class=\"data row2 col2\" >1590a03f43b5ba4b6147a1c5e1dd357b</td>\n",
       "      <td id=\"T_54fe5_row2_col3\" class=\"data row2 col3\" >a21848a61045380a6483866daed0ca0e.jpg</td>\n",
       "      <td id=\"T_54fe5_row2_col4\" class=\"data row2 col4\" >image/jpg</td>\n",
       "      <td id=\"T_54fe5_row2_col5\" class=\"data row2 col5\" >https://t.me/vemprasruas</td>\n",
       "      <td id=\"T_54fe5_row2_col6\" class=\"data row2 col6\" >True</td>\n",
       "      <td id=\"T_54fe5_row2_col7\" class=\"data row2 col7\" >True</td>\n",
       "      <td id=\"T_54fe5_row2_col8\" class=\"data row2 col8\" >False</td>\n",
       "      <td id=\"T_54fe5_row2_col9\" class=\"data row2 col9\" >Empresários, demitam os petistas primeiro.\n",
       "\n",
       "https://t.me/vemprasruas</td>\n",
       "      <td id=\"T_54fe5_row2_col10\" class=\"data row2 col10\" >5</td>\n",
       "      <td id=\"T_54fe5_row2_col11\" class=\"data row2 col11\" >2022-11-16 14:49:39.922279</td>\n",
       "      <td id=\"T_54fe5_row2_col12\" class=\"data row2 col12\" >0.000000</td>\n",
       "      <td id=\"T_54fe5_row2_col13\" class=\"data row2 col13\" >nan</td>\n",
       "      <td id=\"T_54fe5_row2_col14\" class=\"data row2 col14\" >13294</td>\n",
       "      <td id=\"T_54fe5_row2_col15\" class=\"data row2 col15\" >Imagem</td>\n",
       "      <td id=\"T_54fe5_row2_col16\" class=\"data row2 col16\" >telegram</td>\n",
       "      <td id=\"T_54fe5_row2_col17\" class=\"data row2 col17\" >nan</td>\n",
       "      <td id=\"T_54fe5_row2_col18\" class=\"data row2 col18\" >a21848a61045380a6483866daed0ca0e</td>\n",
       "    </tr>\n",
       "    <tr>\n",
       "      <th id=\"T_54fe5_level0_row3\" class=\"row_heading level0 row3\" >557584</th>\n",
       "      <td id=\"T_54fe5_row3_col0\" class=\"data row3 col0\" >2022-11-11 12:09:46</td>\n",
       "      <td id=\"T_54fe5_row3_col1\" class=\"data row3 col1\" >nan</td>\n",
       "      <td id=\"T_54fe5_row3_col2\" class=\"data row3 col2\" >5b10d7739171149be6d9961e3350c071</td>\n",
       "      <td id=\"T_54fe5_row3_col3\" class=\"data row3 col3\" >a21848a61045380a6483866daed0ca0e.jpg</td>\n",
       "      <td id=\"T_54fe5_row3_col4\" class=\"data row3 col4\" >image/jpg</td>\n",
       "      <td id=\"T_54fe5_row3_col5\" class=\"data row3 col5\" >https://t.me/vemprasruas</td>\n",
       "      <td id=\"T_54fe5_row3_col6\" class=\"data row3 col6\" >True</td>\n",
       "      <td id=\"T_54fe5_row3_col7\" class=\"data row3 col7\" >True</td>\n",
       "      <td id=\"T_54fe5_row3_col8\" class=\"data row3 col8\" >False</td>\n",
       "      <td id=\"T_54fe5_row3_col9\" class=\"data row3 col9\" >Empresários, demitam os petistas primeiro.\n",
       "\n",
       "https://t.me/vemprasruas</td>\n",
       "      <td id=\"T_54fe5_row3_col10\" class=\"data row3 col10\" >5</td>\n",
       "      <td id=\"T_54fe5_row3_col11\" class=\"data row3 col11\" >2022-11-16 14:49:39.992932</td>\n",
       "      <td id=\"T_54fe5_row3_col12\" class=\"data row3 col12\" >0.000000</td>\n",
       "      <td id=\"T_54fe5_row3_col13\" class=\"data row3 col13\" >nan</td>\n",
       "      <td id=\"T_54fe5_row3_col14\" class=\"data row3 col14\" >1286444</td>\n",
       "      <td id=\"T_54fe5_row3_col15\" class=\"data row3 col15\" >Imagem</td>\n",
       "      <td id=\"T_54fe5_row3_col16\" class=\"data row3 col16\" >telegram</td>\n",
       "      <td id=\"T_54fe5_row3_col17\" class=\"data row3 col17\" >nan</td>\n",
       "      <td id=\"T_54fe5_row3_col18\" class=\"data row3 col18\" >a21848a61045380a6483866daed0ca0e</td>\n",
       "    </tr>\n",
       "    <tr>\n",
       "      <th id=\"T_54fe5_level0_row4\" class=\"row_heading level0 row4\" >557585</th>\n",
       "      <td id=\"T_54fe5_row4_col0\" class=\"data row4 col0\" >2022-11-11 12:09:48</td>\n",
       "      <td id=\"T_54fe5_row4_col1\" class=\"data row4 col1\" >nan</td>\n",
       "      <td id=\"T_54fe5_row4_col2\" class=\"data row4 col2\" >b11f2df64ac19aad47a50accf32052d6</td>\n",
       "      <td id=\"T_54fe5_row4_col3\" class=\"data row4 col3\" >a21848a61045380a6483866daed0ca0e.jpg</td>\n",
       "      <td id=\"T_54fe5_row4_col4\" class=\"data row4 col4\" >image/jpg</td>\n",
       "      <td id=\"T_54fe5_row4_col5\" class=\"data row4 col5\" >https://t.me/vemprasruas</td>\n",
       "      <td id=\"T_54fe5_row4_col6\" class=\"data row4 col6\" >True</td>\n",
       "      <td id=\"T_54fe5_row4_col7\" class=\"data row4 col7\" >True</td>\n",
       "      <td id=\"T_54fe5_row4_col8\" class=\"data row4 col8\" >False</td>\n",
       "      <td id=\"T_54fe5_row4_col9\" class=\"data row4 col9\" >Empresários, demitam os petistas primeiro.\n",
       "\n",
       "https://t.me/vemprasruas</td>\n",
       "      <td id=\"T_54fe5_row4_col10\" class=\"data row4 col10\" >5</td>\n",
       "      <td id=\"T_54fe5_row4_col11\" class=\"data row4 col11\" >2022-11-16 14:49:40.064006</td>\n",
       "      <td id=\"T_54fe5_row4_col12\" class=\"data row4 col12\" >0.000000</td>\n",
       "      <td id=\"T_54fe5_row4_col13\" class=\"data row4 col13\" >nan</td>\n",
       "      <td id=\"T_54fe5_row4_col14\" class=\"data row4 col14\" >192127</td>\n",
       "      <td id=\"T_54fe5_row4_col15\" class=\"data row4 col15\" >Imagem</td>\n",
       "      <td id=\"T_54fe5_row4_col16\" class=\"data row4 col16\" >telegram</td>\n",
       "      <td id=\"T_54fe5_row4_col17\" class=\"data row4 col17\" >nan</td>\n",
       "      <td id=\"T_54fe5_row4_col18\" class=\"data row4 col18\" >a21848a61045380a6483866daed0ca0e</td>\n",
       "    </tr>\n",
       "  </tbody>\n",
       "</table>\n"
      ],
      "text/plain": [
       "<pandas.io.formats.style.Styler at 0x1da0c487bf0>"
      ]
     },
     "metadata": {},
     "output_type": "display_data"
    }
   ],
   "source": [
    "# VISUALIZANDO AMOSTRAS INICIAIS E FINAIS DO DATASET\n",
    "display(df_inicial.head().style.set_caption(\"Primeiros Registros\").set_properties(**{\n",
    "    'background-color': '#f8f9fa',\n",
    "    'border': '1px solid #dee2e6',\n",
    "    'color': '#212529',\n",
    "    'max-width': '300px',\n",
    "    'overflow': 'hidden',\n",
    "    'text-overflow': 'ellipsis',\n",
    "    'white-space': 'nowrap'\n",
    "}))\n",
    "\n",
    "display(df_inicial.tail().style.set_caption(\"Últimos Registros\").set_properties(**{\n",
    "    'background-color': '#f8f9fa',\n",
    "    'border': '1px solid #dee2e6',\n",
    "    'color': '#212529',\n",
    "    'max-width': '300px',\n",
    "    'overflow': 'hidden',\n",
    "    'text-overflow': 'ellipsis',\n",
    "    'white-space': 'nowrap'\n",
    "}))"
   ]
  },
  {
   "cell_type": "markdown",
   "id": "f33fd9f6",
   "metadata": {},
   "source": [
    "---"
   ]
  },
  {
   "cell_type": "markdown",
   "id": "88dda68d",
   "metadata": {},
   "source": [
    "### **(b)** Remova os trava-zaps."
   ]
  },
  {
   "cell_type": "markdown",
   "id": "f82ed3ea",
   "metadata": {},
   "source": [
    "Este item será resolvido através da manipulação da coluna `trava_zap`, previamente identificada na análise inicial. A estratégia adotada considera o tamanho do dataset (557.586 registros) e segue um fluxo estruturado:\n",
    "\n",
    "1. **Análise Preliminar**\n",
    "    - Verificação do tipo de dado (dtype) e valores únicos na coluna `trava_zap`\n",
    "    - Confirmação da proporção True/False/NaN (se aplicável)"
   ]
  },
  {
   "cell_type": "code",
   "execution_count": 6,
   "id": "4ff80fbd",
   "metadata": {},
   "outputs": [
    {
     "name": "stdout",
     "output_type": "stream",
     "text": [
      "Tipo de dado: bool\n"
     ]
    },
    {
     "data": {
      "text/html": [
       "<style type=\"text/css\">\n",
       "</style>\n",
       "<table id=\"T_8bb17\">\n",
       "  <caption>Contagem de valores distintos em trava_zap</caption>\n",
       "  <thead>\n",
       "    <tr>\n",
       "      <th class=\"blank level0\" >&nbsp;</th>\n",
       "      <th id=\"T_8bb17_level0_col0\" class=\"col_heading level0 col0\" >count</th>\n",
       "    </tr>\n",
       "    <tr>\n",
       "      <th class=\"index_name level0\" >trava_zap</th>\n",
       "      <th class=\"blank col0\" >&nbsp;</th>\n",
       "    </tr>\n",
       "  </thead>\n",
       "  <tbody>\n",
       "    <tr>\n",
       "      <th id=\"T_8bb17_level0_row0\" class=\"row_heading level0 row0\" >False</th>\n",
       "      <td id=\"T_8bb17_row0_col0\" class=\"data row0 col0\" >557570</td>\n",
       "    </tr>\n",
       "    <tr>\n",
       "      <th id=\"T_8bb17_level0_row1\" class=\"row_heading level0 row1\" >True</th>\n",
       "      <td id=\"T_8bb17_row1_col0\" class=\"data row1 col0\" >16</td>\n",
       "    </tr>\n",
       "  </tbody>\n",
       "</table>\n"
      ],
      "text/plain": [
       "<pandas.io.formats.style.Styler at 0x1da2422e960>"
      ]
     },
     "metadata": {},
     "output_type": "display_data"
    },
    {
     "name": "stdout",
     "output_type": "stream",
     "text": [
      "Registros com trava_zap que precisam ser removidos: 16\n"
     ]
    }
   ],
   "source": [
    "# ANÁLISE PRELIMINAR\n",
    "# Verificação do tipo e valores únicos\n",
    "print(f\"Tipo de dado: {df_inicial['trava_zap'].dtype}\")\n",
    "trava_dist = df_inicial['trava_zap'].value_counts(dropna=False)\n",
    "display(trava_dist.to_frame().style.set_caption(\"Contagem de valores distintos em trava_zap\"))\n",
    "\n",
    "# Verificação de linhas que devem ser removidas\n",
    "print(f\"Registros com trava_zap que precisam ser removidos: {trava_dist.get(True, 0):,}\")"
   ]
  },
  {
   "cell_type": "markdown",
   "id": "90a96217",
   "metadata": {},
   "source": [
    "2. **Processamento por Chunks**\n",
    "    - Divisão do dataset em blocos de 1.000 linhas para:\n",
    "        - Otimização de memória\n",
    "        - Facilidade de debug\n",
    "        - Monitoramento do progresso"
   ]
  },
  {
   "cell_type": "code",
   "execution_count": 7,
   "id": "46fdaca9",
   "metadata": {},
   "outputs": [],
   "source": [
    "import numpy as np"
   ]
  },
  {
   "cell_type": "code",
   "execution_count": 8,
   "id": "8fd1f52c",
   "metadata": {},
   "outputs": [
    {
     "name": "stdout",
     "output_type": "stream",
     "text": [
      "\u001b[1mProcessando 558 chunks de 1000 registros cada:\u001b[0m\n"
     ]
    },
    {
     "name": "stderr",
     "output_type": "stream",
     "text": [
      "c:\\Users\\esthe\\AppData\\Local\\Programs\\Python\\Python312\\Lib\\site-packages\\numpy\\core\\fromnumeric.py:59: FutureWarning: 'DataFrame.swapaxes' is deprecated and will be removed in a future version. Please use 'DataFrame.transpose' instead.\n",
      "  return bound(*args, **kwds)\n"
     ]
    },
    {
     "name": "stdout",
     "output_type": "stream",
     "text": [
      "Processado chunk 10/558 | Registros retidos: 10,000\n",
      "Processado chunk 20/558 | Registros retidos: 20,000\n",
      "Processado chunk 30/558 | Registros retidos: 29,999\n",
      "Processado chunk 40/558 | Registros retidos: 39,999\n",
      "Processado chunk 50/558 | Registros retidos: 49,999\n",
      "Processado chunk 60/558 | Registros retidos: 59,999\n",
      "Processado chunk 70/558 | Registros retidos: 69,999\n",
      "Processado chunk 80/558 | Registros retidos: 79,999\n",
      "Processado chunk 90/558 | Registros retidos: 89,998\n",
      "Processado chunk 100/558 | Registros retidos: 99,998\n",
      "Processado chunk 110/558 | Registros retidos: 109,998\n",
      "Processado chunk 120/558 | Registros retidos: 119,998\n",
      "Processado chunk 130/558 | Registros retidos: 129,998\n",
      "Processado chunk 140/558 | Registros retidos: 139,998\n",
      "Processado chunk 150/558 | Registros retidos: 149,992\n",
      "Processado chunk 160/558 | Registros retidos: 159,982\n",
      "Processado chunk 170/558 | Registros retidos: 169,972\n",
      "Processado chunk 180/558 | Registros retidos: 179,962\n",
      "Processado chunk 190/558 | Registros retidos: 189,952\n",
      "Processado chunk 200/558 | Registros retidos: 199,942\n",
      "Processado chunk 210/558 | Registros retidos: 209,932\n",
      "Processado chunk 220/558 | Registros retidos: 219,922\n",
      "Processado chunk 230/558 | Registros retidos: 229,912\n",
      "Processado chunk 240/558 | Registros retidos: 239,902\n",
      "Processado chunk 250/558 | Registros retidos: 249,892\n",
      "Processado chunk 260/558 | Registros retidos: 259,882\n",
      "Processado chunk 270/558 | Registros retidos: 269,872\n",
      "Processado chunk 280/558 | Registros retidos: 279,862\n",
      "Processado chunk 290/558 | Registros retidos: 289,852\n",
      "Processado chunk 300/558 | Registros retidos: 299,841\n",
      "Processado chunk 310/558 | Registros retidos: 309,831\n",
      "Processado chunk 320/558 | Registros retidos: 319,821\n",
      "Processado chunk 330/558 | Registros retidos: 329,810\n",
      "Processado chunk 340/558 | Registros retidos: 339,800\n",
      "Processado chunk 350/558 | Registros retidos: 349,790\n",
      "Processado chunk 360/558 | Registros retidos: 359,780\n",
      "Processado chunk 370/558 | Registros retidos: 369,770\n",
      "Processado chunk 380/558 | Registros retidos: 379,760\n",
      "Processado chunk 390/558 | Registros retidos: 389,749\n",
      "Processado chunk 400/558 | Registros retidos: 399,739\n",
      "Processado chunk 410/558 | Registros retidos: 409,729\n",
      "Processado chunk 420/558 | Registros retidos: 419,719\n",
      "Processado chunk 430/558 | Registros retidos: 429,708\n",
      "Processado chunk 440/558 | Registros retidos: 439,698\n",
      "Processado chunk 450/558 | Registros retidos: 449,688\n",
      "Processado chunk 460/558 | Registros retidos: 459,678\n",
      "Processado chunk 470/558 | Registros retidos: 469,666\n",
      "Processado chunk 480/558 | Registros retidos: 479,654\n",
      "Processado chunk 490/558 | Registros retidos: 489,643\n",
      "Processado chunk 500/558 | Registros retidos: 499,628\n",
      "Processado chunk 510/558 | Registros retidos: 509,618\n",
      "Processado chunk 520/558 | Registros retidos: 519,608\n",
      "Processado chunk 530/558 | Registros retidos: 529,598\n",
      "Processado chunk 540/558 | Registros retidos: 539,588\n",
      "Processado chunk 550/558 | Registros retidos: 549,578\n"
     ]
    }
   ],
   "source": [
    "# Parâmetros do chunk -- 1000 linhas \n",
    "CHUNK_SIZE = 1000\n",
    "total_chunks = (len(df_inicial) // CHUNK_SIZE) + 1\n",
    "df_sem_trava_zap = pd.DataFrame() # Criação de DataFrame Seguro para controle de variáveis.\n",
    "\n",
    "print(f\"\\033[1mProcessando {total_chunks} chunks de {CHUNK_SIZE} registros cada:\\033[0m\")\n",
    "\n",
    "for i, chunk in enumerate(np.array_split(df_inicial, total_chunks)):\n",
    "    # Filtro principal -- linhas que possuem trava zap, isto é, trava_zap = True\n",
    "    chunk_filtrado = chunk[chunk['trava_zap'] != True]\n",
    "    \n",
    "    # Concatenção segura -- recebendo apenas os blocos onde trava_zap = False\n",
    "    df_sem_trava_zap = pd.concat([df_sem_trava_zap, chunk_filtrado], ignore_index=True)\n",
    "    \n",
    "    # Log de progresso para controle da análise\n",
    "    if (i+1) % 10 == 0:\n",
    "        print(f\"Processado chunk {i+1}/{total_chunks} | Registros retidos: {len(df_sem_trava_zap):,}\")"
   ]
  },
  {
   "cell_type": "markdown",
   "id": "cb040578",
   "metadata": {},
   "source": [
    "4. **Saída Controlada**\n",
    "    - Relatório pós-processamento mostrará:\n",
    "        - Número total de linhas removidas\n",
    "        - Porcentagem impactada\n",
    "        - Amostra das primeiras 5 linhas removidas (se relevante)"
   ]
  },
  {
   "cell_type": "code",
   "execution_count": 9,
   "id": "2af73d09",
   "metadata": {},
   "outputs": [
    {
     "name": "stdout",
     "output_type": "stream",
     "text": [
      "\u001b[1mRelatório de Remoção:\u001b[0m\n",
      "• Registros originais: 557,586\n",
      "• Registros removidos: 16\n",
      "• Registros restantes: 557,570\n"
     ]
    },
    {
     "data": {
      "application/vnd.microsoft.datawrangler.viewer.v0+json": {
       "columns": [
        {
         "name": "index",
         "rawType": "int64",
         "type": "integer"
        },
        {
         "name": "date_message",
         "rawType": "object",
         "type": "string"
        },
        {
         "name": "id_member_anonymous",
         "rawType": "object",
         "type": "unknown"
        },
        {
         "name": "id_group_anonymous",
         "rawType": "object",
         "type": "string"
        },
        {
         "name": "media",
         "rawType": "object",
         "type": "unknown"
        },
        {
         "name": "media_type",
         "rawType": "object",
         "type": "unknown"
        },
        {
         "name": "media_url",
         "rawType": "object",
         "type": "unknown"
        },
        {
         "name": "has_media",
         "rawType": "bool",
         "type": "boolean"
        },
        {
         "name": "has_media_url",
         "rawType": "bool",
         "type": "boolean"
        },
        {
         "name": "trava_zap",
         "rawType": "bool",
         "type": "boolean"
        },
        {
         "name": "text_content_anonymous",
         "rawType": "object",
         "type": "unknown"
        },
        {
         "name": "dataset_info_id",
         "rawType": "int64",
         "type": "integer"
        },
        {
         "name": "date_system",
         "rawType": "object",
         "type": "string"
        },
        {
         "name": "score_sentiment",
         "rawType": "float64",
         "type": "float"
        },
        {
         "name": "score_misinformation",
         "rawType": "float64",
         "type": "float"
        },
        {
         "name": "id_message",
         "rawType": "int64",
         "type": "integer"
        },
        {
         "name": "message_type",
         "rawType": "object",
         "type": "string"
        },
        {
         "name": "messenger",
         "rawType": "object",
         "type": "string"
        },
        {
         "name": "media_name",
         "rawType": "object",
         "type": "unknown"
        },
        {
         "name": "media_md5",
         "rawType": "object",
         "type": "unknown"
        }
       ],
       "conversionMethod": "pd.DataFrame",
       "ref": "f51ef869-71bd-4d73-8bda-9965f359f15c",
       "rows": [
        [
         "21944",
         "2022-10-07 07:46:52",
         null,
         "c712c1b704c22bd0cef50bc06125cdbd",
         null,
         null,
         null,
         "False",
         "False",
         "True",
         null,
         "5",
         "2022-10-07 07:47:00.355052",
         "0.0",
         "0.0673443875506272",
         "53260",
         "Texto",
         "telegram",
         null,
         null
        ],
        [
         "89109",
         "2022-10-16 00:45:02",
         "8a30ac374bc4b5930eaf0667a178546a",
         "e56ec342fc599ebb4ed89655eb6f03aa",
         null,
         null,
         null,
         "False",
         "False",
         "True",
         null,
         "5",
         "2022-10-16 00:45:04.064662",
         "0.0",
         "0.0566984914818194",
         "521324",
         "Texto",
         "telegram",
         null,
         null
        ],
        [
         "294541",
         "2022-10-04 14:22:47",
         "39ee10516124280a22f1798f2a41f9a7",
         "959f13e0079883060632c74ffc81c547",
         null,
         null,
         null,
         "False",
         "False",
         "True",
         null,
         "5",
         "2022-10-04 14:22:48.808572",
         "0.9734",
         "0.0104332864074612",
         "27241",
         "Texto",
         "telegram",
         null,
         null
        ],
        [
         "324567",
         "2022-10-25 14:55:55",
         "e003fbb6ffedb1838e42360d41cab314",
         "5b10d7739171149be6d9961e3350c071",
         null,
         null,
         null,
         "False",
         "False",
         "True",
         null,
         "5",
         "2022-10-25 14:56:11.604972",
         "0.946",
         "0.4039453952841913",
         "1182938",
         "Texto",
         "telegram",
         null,
         null
        ],
        [
         "389164",
         "2022-10-30 20:19:52",
         null,
         "c8f2de56550ed0bf85249608b7ead93d",
         null,
         null,
         null,
         "False",
         "False",
         "True",
         null,
         "5",
         "2022-10-30 20:19:54.183578",
         "0.0",
         null,
         "28330",
         "Texto",
         "telegram",
         null,
         null
        ],
        [
         "423083",
         "2022-11-03 00:40:23",
         null,
         "4d3712f5a117e36180d4b4cbd07c540e",
         null,
         null,
         null,
         "False",
         "False",
         "True",
         null,
         "5",
         "2022-11-03 00:40:48.993091",
         "0.0",
         "0.0670261132372049",
         "171104",
         "Texto",
         "telegram",
         null,
         null
        ],
        [
         "466735",
         "2022-11-07 20:47:35",
         "4a498818da925377eff2606a260cfa45",
         "f61777908059b318385882ff47b15c33",
         null,
         null,
         null,
         "False",
         "False",
         "True",
         null,
         "5",
         "2022-11-07 20:48:16.653321",
         "0.0",
         "0.0361731638514227",
         "88890",
         "Texto",
         "telegram",
         null,
         null
        ],
        [
         "467297",
         "2022-11-08 10:07:14",
         "4a498818da925377eff2606a260cfa45",
         "f61777908059b318385882ff47b15c33",
         null,
         null,
         null,
         "False",
         "False",
         "True",
         null,
         "5",
         "2022-11-08 10:07:25.260375",
         "0.0",
         "0.0726366073020412",
         "88977",
         "Texto",
         "telegram",
         null,
         null
        ],
        [
         "471273",
         "2022-11-08 20:37:52",
         "4a498818da925377eff2606a260cfa45",
         "f61777908059b318385882ff47b15c33",
         null,
         null,
         null,
         "False",
         "False",
         "True",
         null,
         "5",
         "2022-11-08 20:38:02.773746",
         "0.0",
         "0.0319726092884596",
         "89039",
         "Texto",
         "telegram",
         null,
         null
        ],
        [
         "478270",
         "2022-11-09 19:50:12",
         "4a498818da925377eff2606a260cfa45",
         "f61777908059b318385882ff47b15c33",
         null,
         null,
         null,
         "False",
         "False",
         "True",
         null,
         "5",
         "2022-11-09 19:50:36.039894",
         "0.0",
         "0.029650851225105",
         "89212",
         "Texto",
         "telegram",
         null,
         null
        ],
        [
         "483425",
         "2022-11-10 02:28:43",
         "4a498818da925377eff2606a260cfa45",
         "f61777908059b318385882ff47b15c33",
         null,
         null,
         null,
         "False",
         "False",
         "True",
         null,
         "5",
         "2022-11-10 02:28:52.927707",
         "0.0",
         "0.0699282385550075",
         "89295",
         "Texto",
         "telegram",
         null,
         null
        ],
        [
         "489757",
         "2022-11-10 20:55:00",
         "4a498818da925377eff2606a260cfa45",
         "f61777908059b318385882ff47b15c33",
         null,
         null,
         null,
         "False",
         "False",
         "True",
         null,
         "5",
         "2022-11-10 20:55:14.406143",
         "0.0",
         "0.2231615977977298",
         "89499",
         "Texto",
         "telegram",
         null,
         null
        ],
        [
         "489758",
         "2022-11-10 20:55:01",
         "4a498818da925377eff2606a260cfa45",
         "f61777908059b318385882ff47b15c33",
         null,
         null,
         null,
         "False",
         "False",
         "True",
         null,
         "5",
         "2022-11-10 20:55:14.483805",
         "0.0",
         null,
         "89500",
         "Texto",
         "telegram",
         null,
         null
        ],
        [
         "492781",
         "2022-11-11 09:50:37",
         "4a498818da925377eff2606a260cfa45",
         "f61777908059b318385882ff47b15c33",
         null,
         null,
         null,
         "False",
         "False",
         "True",
         null,
         "5",
         "2022-11-11 09:51:00.430983",
         "0.0",
         "0.0470488960541954",
         "89642",
         "Texto",
         "telegram",
         null,
         null
        ],
        [
         "493561",
         "2022-11-09 06:37:51",
         "4a498818da925377eff2606a260cfa45",
         "f61777908059b318385882ff47b15c33",
         null,
         null,
         null,
         "False",
         "False",
         "True",
         null,
         "5",
         "2022-11-09 06:38:01.682092",
         "0.0",
         "0.0957441387162458",
         "89154",
         "Texto",
         "telegram",
         null,
         null
        ],
        [
         "493663",
         "2022-11-09 07:48:24",
         null,
         "a26d427bec046513e600d165e98660ae",
         "d4c34e18a0d3fc82051327e81f0afa7a.jpg",
         "image/jpg",
         null,
         "True",
         "False",
         "True",
         null,
         "5",
         "2022-11-09 07:48:26.392779",
         "0.0",
         "0.1832856718543782",
         "6276",
         "Imagem",
         "telegram",
         null,
         "d4c34e18a0d3fc82051327e81f0afa7a"
        ]
       ],
       "shape": {
        "columns": 19,
        "rows": 16
       }
      },
      "text/html": [
       "<div>\n",
       "<style scoped>\n",
       "    .dataframe tbody tr th:only-of-type {\n",
       "        vertical-align: middle;\n",
       "    }\n",
       "\n",
       "    .dataframe tbody tr th {\n",
       "        vertical-align: top;\n",
       "    }\n",
       "\n",
       "    .dataframe thead th {\n",
       "        text-align: right;\n",
       "    }\n",
       "</style>\n",
       "<table border=\"1\" class=\"dataframe\">\n",
       "  <thead>\n",
       "    <tr style=\"text-align: right;\">\n",
       "      <th></th>\n",
       "      <th>date_message</th>\n",
       "      <th>id_member_anonymous</th>\n",
       "      <th>id_group_anonymous</th>\n",
       "      <th>media</th>\n",
       "      <th>media_type</th>\n",
       "      <th>media_url</th>\n",
       "      <th>has_media</th>\n",
       "      <th>has_media_url</th>\n",
       "      <th>trava_zap</th>\n",
       "      <th>text_content_anonymous</th>\n",
       "      <th>dataset_info_id</th>\n",
       "      <th>date_system</th>\n",
       "      <th>score_sentiment</th>\n",
       "      <th>score_misinformation</th>\n",
       "      <th>id_message</th>\n",
       "      <th>message_type</th>\n",
       "      <th>messenger</th>\n",
       "      <th>media_name</th>\n",
       "      <th>media_md5</th>\n",
       "    </tr>\n",
       "  </thead>\n",
       "  <tbody>\n",
       "    <tr>\n",
       "      <th>21944</th>\n",
       "      <td>2022-10-07 07:46:52</td>\n",
       "      <td>NaN</td>\n",
       "      <td>c712c1b704c22bd0cef50bc06125cdbd</td>\n",
       "      <td>NaN</td>\n",
       "      <td>NaN</td>\n",
       "      <td>NaN</td>\n",
       "      <td>False</td>\n",
       "      <td>False</td>\n",
       "      <td>True</td>\n",
       "      <td>NaN</td>\n",
       "      <td>5</td>\n",
       "      <td>2022-10-07 07:47:00.355052</td>\n",
       "      <td>0.0000</td>\n",
       "      <td>0.067344</td>\n",
       "      <td>53260</td>\n",
       "      <td>Texto</td>\n",
       "      <td>telegram</td>\n",
       "      <td>NaN</td>\n",
       "      <td>NaN</td>\n",
       "    </tr>\n",
       "    <tr>\n",
       "      <th>89109</th>\n",
       "      <td>2022-10-16 00:45:02</td>\n",
       "      <td>8a30ac374bc4b5930eaf0667a178546a</td>\n",
       "      <td>e56ec342fc599ebb4ed89655eb6f03aa</td>\n",
       "      <td>NaN</td>\n",
       "      <td>NaN</td>\n",
       "      <td>NaN</td>\n",
       "      <td>False</td>\n",
       "      <td>False</td>\n",
       "      <td>True</td>\n",
       "      <td>NaN</td>\n",
       "      <td>5</td>\n",
       "      <td>2022-10-16 00:45:04.064662</td>\n",
       "      <td>0.0000</td>\n",
       "      <td>0.056698</td>\n",
       "      <td>521324</td>\n",
       "      <td>Texto</td>\n",
       "      <td>telegram</td>\n",
       "      <td>NaN</td>\n",
       "      <td>NaN</td>\n",
       "    </tr>\n",
       "    <tr>\n",
       "      <th>294541</th>\n",
       "      <td>2022-10-04 14:22:47</td>\n",
       "      <td>39ee10516124280a22f1798f2a41f9a7</td>\n",
       "      <td>959f13e0079883060632c74ffc81c547</td>\n",
       "      <td>NaN</td>\n",
       "      <td>NaN</td>\n",
       "      <td>NaN</td>\n",
       "      <td>False</td>\n",
       "      <td>False</td>\n",
       "      <td>True</td>\n",
       "      <td>NaN</td>\n",
       "      <td>5</td>\n",
       "      <td>2022-10-04 14:22:48.808572</td>\n",
       "      <td>0.9734</td>\n",
       "      <td>0.010433</td>\n",
       "      <td>27241</td>\n",
       "      <td>Texto</td>\n",
       "      <td>telegram</td>\n",
       "      <td>NaN</td>\n",
       "      <td>NaN</td>\n",
       "    </tr>\n",
       "    <tr>\n",
       "      <th>324567</th>\n",
       "      <td>2022-10-25 14:55:55</td>\n",
       "      <td>e003fbb6ffedb1838e42360d41cab314</td>\n",
       "      <td>5b10d7739171149be6d9961e3350c071</td>\n",
       "      <td>NaN</td>\n",
       "      <td>NaN</td>\n",
       "      <td>NaN</td>\n",
       "      <td>False</td>\n",
       "      <td>False</td>\n",
       "      <td>True</td>\n",
       "      <td>NaN</td>\n",
       "      <td>5</td>\n",
       "      <td>2022-10-25 14:56:11.604972</td>\n",
       "      <td>0.9460</td>\n",
       "      <td>0.403945</td>\n",
       "      <td>1182938</td>\n",
       "      <td>Texto</td>\n",
       "      <td>telegram</td>\n",
       "      <td>NaN</td>\n",
       "      <td>NaN</td>\n",
       "    </tr>\n",
       "    <tr>\n",
       "      <th>389164</th>\n",
       "      <td>2022-10-30 20:19:52</td>\n",
       "      <td>NaN</td>\n",
       "      <td>c8f2de56550ed0bf85249608b7ead93d</td>\n",
       "      <td>NaN</td>\n",
       "      <td>NaN</td>\n",
       "      <td>NaN</td>\n",
       "      <td>False</td>\n",
       "      <td>False</td>\n",
       "      <td>True</td>\n",
       "      <td>NaN</td>\n",
       "      <td>5</td>\n",
       "      <td>2022-10-30 20:19:54.183578</td>\n",
       "      <td>0.0000</td>\n",
       "      <td>NaN</td>\n",
       "      <td>28330</td>\n",
       "      <td>Texto</td>\n",
       "      <td>telegram</td>\n",
       "      <td>NaN</td>\n",
       "      <td>NaN</td>\n",
       "    </tr>\n",
       "    <tr>\n",
       "      <th>423083</th>\n",
       "      <td>2022-11-03 00:40:23</td>\n",
       "      <td>NaN</td>\n",
       "      <td>4d3712f5a117e36180d4b4cbd07c540e</td>\n",
       "      <td>NaN</td>\n",
       "      <td>NaN</td>\n",
       "      <td>NaN</td>\n",
       "      <td>False</td>\n",
       "      <td>False</td>\n",
       "      <td>True</td>\n",
       "      <td>NaN</td>\n",
       "      <td>5</td>\n",
       "      <td>2022-11-03 00:40:48.993091</td>\n",
       "      <td>0.0000</td>\n",
       "      <td>0.067026</td>\n",
       "      <td>171104</td>\n",
       "      <td>Texto</td>\n",
       "      <td>telegram</td>\n",
       "      <td>NaN</td>\n",
       "      <td>NaN</td>\n",
       "    </tr>\n",
       "    <tr>\n",
       "      <th>466735</th>\n",
       "      <td>2022-11-07 20:47:35</td>\n",
       "      <td>4a498818da925377eff2606a260cfa45</td>\n",
       "      <td>f61777908059b318385882ff47b15c33</td>\n",
       "      <td>NaN</td>\n",
       "      <td>NaN</td>\n",
       "      <td>NaN</td>\n",
       "      <td>False</td>\n",
       "      <td>False</td>\n",
       "      <td>True</td>\n",
       "      <td>NaN</td>\n",
       "      <td>5</td>\n",
       "      <td>2022-11-07 20:48:16.653321</td>\n",
       "      <td>0.0000</td>\n",
       "      <td>0.036173</td>\n",
       "      <td>88890</td>\n",
       "      <td>Texto</td>\n",
       "      <td>telegram</td>\n",
       "      <td>NaN</td>\n",
       "      <td>NaN</td>\n",
       "    </tr>\n",
       "    <tr>\n",
       "      <th>467297</th>\n",
       "      <td>2022-11-08 10:07:14</td>\n",
       "      <td>4a498818da925377eff2606a260cfa45</td>\n",
       "      <td>f61777908059b318385882ff47b15c33</td>\n",
       "      <td>NaN</td>\n",
       "      <td>NaN</td>\n",
       "      <td>NaN</td>\n",
       "      <td>False</td>\n",
       "      <td>False</td>\n",
       "      <td>True</td>\n",
       "      <td>NaN</td>\n",
       "      <td>5</td>\n",
       "      <td>2022-11-08 10:07:25.260375</td>\n",
       "      <td>0.0000</td>\n",
       "      <td>0.072637</td>\n",
       "      <td>88977</td>\n",
       "      <td>Texto</td>\n",
       "      <td>telegram</td>\n",
       "      <td>NaN</td>\n",
       "      <td>NaN</td>\n",
       "    </tr>\n",
       "    <tr>\n",
       "      <th>471273</th>\n",
       "      <td>2022-11-08 20:37:52</td>\n",
       "      <td>4a498818da925377eff2606a260cfa45</td>\n",
       "      <td>f61777908059b318385882ff47b15c33</td>\n",
       "      <td>NaN</td>\n",
       "      <td>NaN</td>\n",
       "      <td>NaN</td>\n",
       "      <td>False</td>\n",
       "      <td>False</td>\n",
       "      <td>True</td>\n",
       "      <td>NaN</td>\n",
       "      <td>5</td>\n",
       "      <td>2022-11-08 20:38:02.773746</td>\n",
       "      <td>0.0000</td>\n",
       "      <td>0.031973</td>\n",
       "      <td>89039</td>\n",
       "      <td>Texto</td>\n",
       "      <td>telegram</td>\n",
       "      <td>NaN</td>\n",
       "      <td>NaN</td>\n",
       "    </tr>\n",
       "    <tr>\n",
       "      <th>478270</th>\n",
       "      <td>2022-11-09 19:50:12</td>\n",
       "      <td>4a498818da925377eff2606a260cfa45</td>\n",
       "      <td>f61777908059b318385882ff47b15c33</td>\n",
       "      <td>NaN</td>\n",
       "      <td>NaN</td>\n",
       "      <td>NaN</td>\n",
       "      <td>False</td>\n",
       "      <td>False</td>\n",
       "      <td>True</td>\n",
       "      <td>NaN</td>\n",
       "      <td>5</td>\n",
       "      <td>2022-11-09 19:50:36.039894</td>\n",
       "      <td>0.0000</td>\n",
       "      <td>0.029651</td>\n",
       "      <td>89212</td>\n",
       "      <td>Texto</td>\n",
       "      <td>telegram</td>\n",
       "      <td>NaN</td>\n",
       "      <td>NaN</td>\n",
       "    </tr>\n",
       "    <tr>\n",
       "      <th>483425</th>\n",
       "      <td>2022-11-10 02:28:43</td>\n",
       "      <td>4a498818da925377eff2606a260cfa45</td>\n",
       "      <td>f61777908059b318385882ff47b15c33</td>\n",
       "      <td>NaN</td>\n",
       "      <td>NaN</td>\n",
       "      <td>NaN</td>\n",
       "      <td>False</td>\n",
       "      <td>False</td>\n",
       "      <td>True</td>\n",
       "      <td>NaN</td>\n",
       "      <td>5</td>\n",
       "      <td>2022-11-10 02:28:52.927707</td>\n",
       "      <td>0.0000</td>\n",
       "      <td>0.069928</td>\n",
       "      <td>89295</td>\n",
       "      <td>Texto</td>\n",
       "      <td>telegram</td>\n",
       "      <td>NaN</td>\n",
       "      <td>NaN</td>\n",
       "    </tr>\n",
       "    <tr>\n",
       "      <th>489757</th>\n",
       "      <td>2022-11-10 20:55:00</td>\n",
       "      <td>4a498818da925377eff2606a260cfa45</td>\n",
       "      <td>f61777908059b318385882ff47b15c33</td>\n",
       "      <td>NaN</td>\n",
       "      <td>NaN</td>\n",
       "      <td>NaN</td>\n",
       "      <td>False</td>\n",
       "      <td>False</td>\n",
       "      <td>True</td>\n",
       "      <td>NaN</td>\n",
       "      <td>5</td>\n",
       "      <td>2022-11-10 20:55:14.406143</td>\n",
       "      <td>0.0000</td>\n",
       "      <td>0.223162</td>\n",
       "      <td>89499</td>\n",
       "      <td>Texto</td>\n",
       "      <td>telegram</td>\n",
       "      <td>NaN</td>\n",
       "      <td>NaN</td>\n",
       "    </tr>\n",
       "    <tr>\n",
       "      <th>489758</th>\n",
       "      <td>2022-11-10 20:55:01</td>\n",
       "      <td>4a498818da925377eff2606a260cfa45</td>\n",
       "      <td>f61777908059b318385882ff47b15c33</td>\n",
       "      <td>NaN</td>\n",
       "      <td>NaN</td>\n",
       "      <td>NaN</td>\n",
       "      <td>False</td>\n",
       "      <td>False</td>\n",
       "      <td>True</td>\n",
       "      <td>NaN</td>\n",
       "      <td>5</td>\n",
       "      <td>2022-11-10 20:55:14.483805</td>\n",
       "      <td>0.0000</td>\n",
       "      <td>NaN</td>\n",
       "      <td>89500</td>\n",
       "      <td>Texto</td>\n",
       "      <td>telegram</td>\n",
       "      <td>NaN</td>\n",
       "      <td>NaN</td>\n",
       "    </tr>\n",
       "    <tr>\n",
       "      <th>492781</th>\n",
       "      <td>2022-11-11 09:50:37</td>\n",
       "      <td>4a498818da925377eff2606a260cfa45</td>\n",
       "      <td>f61777908059b318385882ff47b15c33</td>\n",
       "      <td>NaN</td>\n",
       "      <td>NaN</td>\n",
       "      <td>NaN</td>\n",
       "      <td>False</td>\n",
       "      <td>False</td>\n",
       "      <td>True</td>\n",
       "      <td>NaN</td>\n",
       "      <td>5</td>\n",
       "      <td>2022-11-11 09:51:00.430983</td>\n",
       "      <td>0.0000</td>\n",
       "      <td>0.047049</td>\n",
       "      <td>89642</td>\n",
       "      <td>Texto</td>\n",
       "      <td>telegram</td>\n",
       "      <td>NaN</td>\n",
       "      <td>NaN</td>\n",
       "    </tr>\n",
       "    <tr>\n",
       "      <th>493561</th>\n",
       "      <td>2022-11-09 06:37:51</td>\n",
       "      <td>4a498818da925377eff2606a260cfa45</td>\n",
       "      <td>f61777908059b318385882ff47b15c33</td>\n",
       "      <td>NaN</td>\n",
       "      <td>NaN</td>\n",
       "      <td>NaN</td>\n",
       "      <td>False</td>\n",
       "      <td>False</td>\n",
       "      <td>True</td>\n",
       "      <td>NaN</td>\n",
       "      <td>5</td>\n",
       "      <td>2022-11-09 06:38:01.682092</td>\n",
       "      <td>0.0000</td>\n",
       "      <td>0.095744</td>\n",
       "      <td>89154</td>\n",
       "      <td>Texto</td>\n",
       "      <td>telegram</td>\n",
       "      <td>NaN</td>\n",
       "      <td>NaN</td>\n",
       "    </tr>\n",
       "    <tr>\n",
       "      <th>493663</th>\n",
       "      <td>2022-11-09 07:48:24</td>\n",
       "      <td>NaN</td>\n",
       "      <td>a26d427bec046513e600d165e98660ae</td>\n",
       "      <td>d4c34e18a0d3fc82051327e81f0afa7a.jpg</td>\n",
       "      <td>image/jpg</td>\n",
       "      <td>NaN</td>\n",
       "      <td>True</td>\n",
       "      <td>False</td>\n",
       "      <td>True</td>\n",
       "      <td>NaN</td>\n",
       "      <td>5</td>\n",
       "      <td>2022-11-09 07:48:26.392779</td>\n",
       "      <td>0.0000</td>\n",
       "      <td>0.183286</td>\n",
       "      <td>6276</td>\n",
       "      <td>Imagem</td>\n",
       "      <td>telegram</td>\n",
       "      <td>NaN</td>\n",
       "      <td>d4c34e18a0d3fc82051327e81f0afa7a</td>\n",
       "    </tr>\n",
       "  </tbody>\n",
       "</table>\n",
       "</div>"
      ],
      "text/plain": [
       "               date_message               id_member_anonymous  \\\n",
       "21944   2022-10-07 07:46:52                               NaN   \n",
       "89109   2022-10-16 00:45:02  8a30ac374bc4b5930eaf0667a178546a   \n",
       "294541  2022-10-04 14:22:47  39ee10516124280a22f1798f2a41f9a7   \n",
       "324567  2022-10-25 14:55:55  e003fbb6ffedb1838e42360d41cab314   \n",
       "389164  2022-10-30 20:19:52                               NaN   \n",
       "423083  2022-11-03 00:40:23                               NaN   \n",
       "466735  2022-11-07 20:47:35  4a498818da925377eff2606a260cfa45   \n",
       "467297  2022-11-08 10:07:14  4a498818da925377eff2606a260cfa45   \n",
       "471273  2022-11-08 20:37:52  4a498818da925377eff2606a260cfa45   \n",
       "478270  2022-11-09 19:50:12  4a498818da925377eff2606a260cfa45   \n",
       "483425  2022-11-10 02:28:43  4a498818da925377eff2606a260cfa45   \n",
       "489757  2022-11-10 20:55:00  4a498818da925377eff2606a260cfa45   \n",
       "489758  2022-11-10 20:55:01  4a498818da925377eff2606a260cfa45   \n",
       "492781  2022-11-11 09:50:37  4a498818da925377eff2606a260cfa45   \n",
       "493561  2022-11-09 06:37:51  4a498818da925377eff2606a260cfa45   \n",
       "493663  2022-11-09 07:48:24                               NaN   \n",
       "\n",
       "                      id_group_anonymous  \\\n",
       "21944   c712c1b704c22bd0cef50bc06125cdbd   \n",
       "89109   e56ec342fc599ebb4ed89655eb6f03aa   \n",
       "294541  959f13e0079883060632c74ffc81c547   \n",
       "324567  5b10d7739171149be6d9961e3350c071   \n",
       "389164  c8f2de56550ed0bf85249608b7ead93d   \n",
       "423083  4d3712f5a117e36180d4b4cbd07c540e   \n",
       "466735  f61777908059b318385882ff47b15c33   \n",
       "467297  f61777908059b318385882ff47b15c33   \n",
       "471273  f61777908059b318385882ff47b15c33   \n",
       "478270  f61777908059b318385882ff47b15c33   \n",
       "483425  f61777908059b318385882ff47b15c33   \n",
       "489757  f61777908059b318385882ff47b15c33   \n",
       "489758  f61777908059b318385882ff47b15c33   \n",
       "492781  f61777908059b318385882ff47b15c33   \n",
       "493561  f61777908059b318385882ff47b15c33   \n",
       "493663  a26d427bec046513e600d165e98660ae   \n",
       "\n",
       "                                       media media_type media_url  has_media  \\\n",
       "21944                                    NaN        NaN       NaN      False   \n",
       "89109                                    NaN        NaN       NaN      False   \n",
       "294541                                   NaN        NaN       NaN      False   \n",
       "324567                                   NaN        NaN       NaN      False   \n",
       "389164                                   NaN        NaN       NaN      False   \n",
       "423083                                   NaN        NaN       NaN      False   \n",
       "466735                                   NaN        NaN       NaN      False   \n",
       "467297                                   NaN        NaN       NaN      False   \n",
       "471273                                   NaN        NaN       NaN      False   \n",
       "478270                                   NaN        NaN       NaN      False   \n",
       "483425                                   NaN        NaN       NaN      False   \n",
       "489757                                   NaN        NaN       NaN      False   \n",
       "489758                                   NaN        NaN       NaN      False   \n",
       "492781                                   NaN        NaN       NaN      False   \n",
       "493561                                   NaN        NaN       NaN      False   \n",
       "493663  d4c34e18a0d3fc82051327e81f0afa7a.jpg  image/jpg       NaN       True   \n",
       "\n",
       "        has_media_url  trava_zap text_content_anonymous  dataset_info_id  \\\n",
       "21944           False       True                    NaN                5   \n",
       "89109           False       True                    NaN                5   \n",
       "294541          False       True                    NaN                5   \n",
       "324567          False       True                    NaN                5   \n",
       "389164          False       True                    NaN                5   \n",
       "423083          False       True                    NaN                5   \n",
       "466735          False       True                    NaN                5   \n",
       "467297          False       True                    NaN                5   \n",
       "471273          False       True                    NaN                5   \n",
       "478270          False       True                    NaN                5   \n",
       "483425          False       True                    NaN                5   \n",
       "489757          False       True                    NaN                5   \n",
       "489758          False       True                    NaN                5   \n",
       "492781          False       True                    NaN                5   \n",
       "493561          False       True                    NaN                5   \n",
       "493663          False       True                    NaN                5   \n",
       "\n",
       "                       date_system  score_sentiment  score_misinformation  \\\n",
       "21944   2022-10-07 07:47:00.355052           0.0000              0.067344   \n",
       "89109   2022-10-16 00:45:04.064662           0.0000              0.056698   \n",
       "294541  2022-10-04 14:22:48.808572           0.9734              0.010433   \n",
       "324567  2022-10-25 14:56:11.604972           0.9460              0.403945   \n",
       "389164  2022-10-30 20:19:54.183578           0.0000                   NaN   \n",
       "423083  2022-11-03 00:40:48.993091           0.0000              0.067026   \n",
       "466735  2022-11-07 20:48:16.653321           0.0000              0.036173   \n",
       "467297  2022-11-08 10:07:25.260375           0.0000              0.072637   \n",
       "471273  2022-11-08 20:38:02.773746           0.0000              0.031973   \n",
       "478270  2022-11-09 19:50:36.039894           0.0000              0.029651   \n",
       "483425  2022-11-10 02:28:52.927707           0.0000              0.069928   \n",
       "489757  2022-11-10 20:55:14.406143           0.0000              0.223162   \n",
       "489758  2022-11-10 20:55:14.483805           0.0000                   NaN   \n",
       "492781  2022-11-11 09:51:00.430983           0.0000              0.047049   \n",
       "493561  2022-11-09 06:38:01.682092           0.0000              0.095744   \n",
       "493663  2022-11-09 07:48:26.392779           0.0000              0.183286   \n",
       "\n",
       "        id_message message_type messenger media_name  \\\n",
       "21944        53260        Texto  telegram        NaN   \n",
       "89109       521324        Texto  telegram        NaN   \n",
       "294541       27241        Texto  telegram        NaN   \n",
       "324567     1182938        Texto  telegram        NaN   \n",
       "389164       28330        Texto  telegram        NaN   \n",
       "423083      171104        Texto  telegram        NaN   \n",
       "466735       88890        Texto  telegram        NaN   \n",
       "467297       88977        Texto  telegram        NaN   \n",
       "471273       89039        Texto  telegram        NaN   \n",
       "478270       89212        Texto  telegram        NaN   \n",
       "483425       89295        Texto  telegram        NaN   \n",
       "489757       89499        Texto  telegram        NaN   \n",
       "489758       89500        Texto  telegram        NaN   \n",
       "492781       89642        Texto  telegram        NaN   \n",
       "493561       89154        Texto  telegram        NaN   \n",
       "493663        6276       Imagem  telegram        NaN   \n",
       "\n",
       "                               media_md5  \n",
       "21944                                NaN  \n",
       "89109                                NaN  \n",
       "294541                               NaN  \n",
       "324567                               NaN  \n",
       "389164                               NaN  \n",
       "423083                               NaN  \n",
       "466735                               NaN  \n",
       "467297                               NaN  \n",
       "471273                               NaN  \n",
       "478270                               NaN  \n",
       "483425                               NaN  \n",
       "489757                               NaN  \n",
       "489758                               NaN  \n",
       "492781                               NaN  \n",
       "493561                               NaN  \n",
       "493663  d4c34e18a0d3fc82051327e81f0afa7a  "
      ]
     },
     "metadata": {},
     "output_type": "display_data"
    }
   ],
   "source": [
    "# Relatório final\n",
    "print(\"\\033[1mRelatório de Remoção:\\033[0m\")\n",
    "print(f\"• Registros originais: {len(df_inicial):,}\")\n",
    "print(f\"• Registros removidos: {trava_dist.get(True, 0):,}\")\n",
    "print(f\"• Registros restantes: {len(df_sem_trava_zap):,}\") \n",
    "\n",
    "# Visualização dos dados que foram removidos\n",
    "if trava_dist.get(True, 0) > 0:\n",
    "    display(\n",
    "        df_inicial[df_inicial['trava_zap'] == True].head(16)  \n",
    "    )"
   ]
  },
  {
   "cell_type": "markdown",
   "id": "56a44796",
   "metadata": {},
   "source": [
    "---"
   ]
  },
  {
   "cell_type": "markdown",
   "id": "68a7b840",
   "metadata": {},
   "source": [
    "### **(c)** Exportar os dados para um arquivo Parquet. "
   ]
  },
  {
   "cell_type": "markdown",
   "id": "8eef4cf0",
   "metadata": {},
   "source": [
    "Existe um método do pandas chamado `to_parquet`, sendo a forma mais eficiente de exportar DataFrames para o formato Parquet. Sua sintaxe básica inclui dois parâmetros essenciais:\n",
    "\n",
    "```bash\n",
    "df.to_parquet(\n",
    "    path='dados.parquet',  # Caminho do arquivo de saída\n",
    "    engine='auto'         # Motor de processamento (pyarrow/fastparquet)\n",
    ")\n",
    "```\n",
    "\n",
    "**Observação**: O `engine='auto'` deixa o Pandas escolher automaticamente o motor disponível (geralmente PyArrow ou Fastparquet), mas eu costumo usar o pyarrow explicitamente porque ele é mais estável e tem suporte a mais funcionalidades. Além disso, ele permite leitura e escrita super rápidas, e mantém os tipos de dados de forma mais fiel."
   ]
  },
  {
   "cell_type": "code",
   "execution_count": null,
   "id": "1aa3607b",
   "metadata": {},
   "outputs": [],
   "source": [
    "df_sem_trava_zap.to_parquet('fakeTelegram.BR_2022_filtrado.parquet', engine='pyarrow')"
   ]
  },
  {
   "cell_type": "markdown",
   "id": "8a4557a1",
   "metadata": {},
   "source": [
    "---"
   ]
  },
  {
   "cell_type": "markdown",
   "id": "254f46dd",
   "metadata": {},
   "source": [
    "### **(d)** Exportar os dados para o DuckDB. "
   ]
  },
  {
   "cell_type": "markdown",
   "id": "c753dc55",
   "metadata": {},
   "source": [
    "Nesta etapa, exportei o DataFrame anterior para um banco de dados DuckDB, que é um sistema de gerenciamento de banco de dados analítico leve e embutido. Com isso, realizei alguns passos importantes.\n",
    "\n",
    "Primeiramente, fiz a instalação e a importação do DuckDB:"
   ]
  },
  {
   "cell_type": "code",
   "execution_count": 10,
   "id": "ce131db5",
   "metadata": {},
   "outputs": [],
   "source": [
    "# !pip install duckdb -- Apenas se ainda não estiver instalado\n",
    "import duckdb"
   ]
  },
  {
   "cell_type": "markdown",
   "id": "8160d57a",
   "metadata": {},
   "source": [
    "Criação (ou conexão) com o banco DuckDB:"
   ]
  },
  {
   "cell_type": "code",
   "execution_count": 11,
   "id": "45f602de",
   "metadata": {},
   "outputs": [],
   "source": [
    "conn = duckdb.connect(\"fakeTelegram.BR_2022_dados.duckdb\") "
   ]
  },
  {
   "cell_type": "markdown",
   "id": "ba50e464",
   "metadata": {},
   "source": [
    "Exportação do `df_sem_trava_zap` para uma tabela do banco:"
   ]
  },
  {
   "cell_type": "code",
   "execution_count": 12,
   "id": "0d44cdb4",
   "metadata": {},
   "outputs": [
    {
     "data": {
      "text/plain": [
       "<duckdb.duckdb.DuckDBPyConnection at 0x1da2c7521f0>"
      ]
     },
     "execution_count": 12,
     "metadata": {},
     "output_type": "execute_result"
    }
   ],
   "source": [
    "conn.register(\"df_sem_trava_zap\", df_sem_trava_zap)  # Registra o DataFrame como uma \"tabela temporária\"\n",
    "conn.execute(\"CREATE TABLE IF NOT EXISTS tabela_dados AS SELECT * FROM df_sem_trava_zap\")  # Exporta os dados"
   ]
  },
  {
   "cell_type": "markdown",
   "id": "8e317edf",
   "metadata": {},
   "source": [
    "Verificação dos dados no banco:"
   ]
  },
  {
   "cell_type": "code",
   "execution_count": 13,
   "id": "35a7f718",
   "metadata": {},
   "outputs": [
    {
     "data": {
      "application/vnd.microsoft.datawrangler.viewer.v0+json": {
       "columns": [
        {
         "name": "index",
         "rawType": "int64",
         "type": "integer"
        },
        {
         "name": "date_message",
         "rawType": "object",
         "type": "string"
        },
        {
         "name": "id_member_anonymous",
         "rawType": "object",
         "type": "unknown"
        },
        {
         "name": "id_group_anonymous",
         "rawType": "object",
         "type": "string"
        },
        {
         "name": "media",
         "rawType": "object",
         "type": "unknown"
        },
        {
         "name": "media_type",
         "rawType": "object",
         "type": "unknown"
        },
        {
         "name": "media_url",
         "rawType": "object",
         "type": "unknown"
        },
        {
         "name": "has_media",
         "rawType": "bool",
         "type": "boolean"
        },
        {
         "name": "has_media_url",
         "rawType": "bool",
         "type": "boolean"
        },
        {
         "name": "trava_zap",
         "rawType": "bool",
         "type": "boolean"
        },
        {
         "name": "text_content_anonymous",
         "rawType": "object",
         "type": "unknown"
        },
        {
         "name": "dataset_info_id",
         "rawType": "int64",
         "type": "integer"
        },
        {
         "name": "date_system",
         "rawType": "object",
         "type": "string"
        },
        {
         "name": "score_sentiment",
         "rawType": "float64",
         "type": "float"
        },
        {
         "name": "score_misinformation",
         "rawType": "float64",
         "type": "float"
        },
        {
         "name": "id_message",
         "rawType": "int64",
         "type": "integer"
        },
        {
         "name": "message_type",
         "rawType": "object",
         "type": "string"
        },
        {
         "name": "messenger",
         "rawType": "object",
         "type": "string"
        },
        {
         "name": "media_name",
         "rawType": "object",
         "type": "unknown"
        },
        {
         "name": "media_md5",
         "rawType": "object",
         "type": "unknown"
        }
       ],
       "conversionMethod": "pd.DataFrame",
       "ref": "43dee16e-2603-4bd5-886a-ab7030f7bba5",
       "rows": [
        [
         "0",
         "2022-10-05 06:25:04",
         "1078cc958f0febe28f4d03207660715f",
         "12283e08a2eb5789201e105b34489ee7",
         null,
         null,
         null,
         "False",
         "False",
         "False",
         "Então é Fato Renato o áudio que eu ouvi no whatsapp isso ocorreu em Niterói principalmente no bairro Fonseca ?",
         "5",
         "2022-10-05 06:25:28.863641",
         "0.0",
         null,
         "16385",
         "Texto",
         "telegram",
         null,
         null
        ],
        [
         "1",
         "2022-10-05 06:25:08",
         null,
         "12283e08a2eb5789201e105b34489ee7",
         null,
         null,
         null,
         "False",
         "False",
         "False",
         "Saiu no YouTube do presidente a 8 horas atrás, infelizmente não consigo enviar para cá, mas é facilmente verificável no YouTube do presidente",
         "5",
         "2022-10-05 06:25:28.926311",
         "0.0644",
         null,
         "16386",
         "Texto",
         "telegram",
         null,
         null
        ],
        [
         "2",
         "2022-10-05 06:26:28",
         "92a2d8fd7144074f659d1d29dc3751da",
         "9f2d7394334eb224c061c9740b5748fc",
         null,
         null,
         null,
         "False",
         "False",
         "False",
         "É isso, nossa parte já foi quase toda feita. No segundo turno completamos nossa parte desse teatro. Essa é uma guerra de 4* geração na dimensão humana e uma guerra espiritual do bem contra o mal na dimensão do Universo. Pensamento positivo é fundamental, pensem sempre em algo bom. Deus continua nos abençoando, nosso livre arbítrio completa o curso.",
         "5",
         "2022-10-05 06:26:29.361949",
         "-0.3551",
         "0.1572422223558243",
         "16366",
         "Texto",
         "telegram",
         null,
         null
        ],
        [
         "3",
         "2022-10-05 06:27:28",
         "d60aa38f62b4977426b70944af4aff72",
         "c8f2de56550ed0bf85249608b7ead93d",
         "94dca4cda503100ebfda7ce2bcc060eb.jpg",
         "image/jpg",
         null,
         "True",
         "False",
         "False",
         "GENTE ACHEI ELES EM UMA SEITA MAÇONÁRICA",
         "5",
         "2022-10-05 06:27:29.935624",
         "0.0",
         null,
         "19281",
         "Imagem",
         "telegram",
         null,
         "94dca4cda503100ebfda7ce2bcc060eb"
        ],
        [
         "4",
         "2022-10-05 06:27:44",
         "cd6979b0b5265f08468fa1689b6300ce",
         "e56ec342fc599ebb4ed89655eb6f03aa",
         "5ad5c8bbe9da93a37fecf3e5aa5b0637.jpg",
         "image/jpg",
         null,
         "True",
         "False",
         "False",
         null,
         "5",
         "2022-10-05 06:28:29.316325",
         null,
         null,
         "507185",
         "Imagem",
         "telegram",
         null,
         "5ad5c8bbe9da93a37fecf3e5aa5b0637"
        ]
       ],
       "shape": {
        "columns": 19,
        "rows": 5
       }
      },
      "text/html": [
       "<div>\n",
       "<style scoped>\n",
       "    .dataframe tbody tr th:only-of-type {\n",
       "        vertical-align: middle;\n",
       "    }\n",
       "\n",
       "    .dataframe tbody tr th {\n",
       "        vertical-align: top;\n",
       "    }\n",
       "\n",
       "    .dataframe thead th {\n",
       "        text-align: right;\n",
       "    }\n",
       "</style>\n",
       "<table border=\"1\" class=\"dataframe\">\n",
       "  <thead>\n",
       "    <tr style=\"text-align: right;\">\n",
       "      <th></th>\n",
       "      <th>date_message</th>\n",
       "      <th>id_member_anonymous</th>\n",
       "      <th>id_group_anonymous</th>\n",
       "      <th>media</th>\n",
       "      <th>media_type</th>\n",
       "      <th>media_url</th>\n",
       "      <th>has_media</th>\n",
       "      <th>has_media_url</th>\n",
       "      <th>trava_zap</th>\n",
       "      <th>text_content_anonymous</th>\n",
       "      <th>dataset_info_id</th>\n",
       "      <th>date_system</th>\n",
       "      <th>score_sentiment</th>\n",
       "      <th>score_misinformation</th>\n",
       "      <th>id_message</th>\n",
       "      <th>message_type</th>\n",
       "      <th>messenger</th>\n",
       "      <th>media_name</th>\n",
       "      <th>media_md5</th>\n",
       "    </tr>\n",
       "  </thead>\n",
       "  <tbody>\n",
       "    <tr>\n",
       "      <th>0</th>\n",
       "      <td>2022-10-05 06:25:04</td>\n",
       "      <td>1078cc958f0febe28f4d03207660715f</td>\n",
       "      <td>12283e08a2eb5789201e105b34489ee7</td>\n",
       "      <td>None</td>\n",
       "      <td>None</td>\n",
       "      <td>None</td>\n",
       "      <td>False</td>\n",
       "      <td>False</td>\n",
       "      <td>False</td>\n",
       "      <td>Então é Fato Renato o áudio que eu ouvi no wha...</td>\n",
       "      <td>5</td>\n",
       "      <td>2022-10-05 06:25:28.863641</td>\n",
       "      <td>0.0000</td>\n",
       "      <td>NaN</td>\n",
       "      <td>16385</td>\n",
       "      <td>Texto</td>\n",
       "      <td>telegram</td>\n",
       "      <td>None</td>\n",
       "      <td>None</td>\n",
       "    </tr>\n",
       "    <tr>\n",
       "      <th>1</th>\n",
       "      <td>2022-10-05 06:25:08</td>\n",
       "      <td>None</td>\n",
       "      <td>12283e08a2eb5789201e105b34489ee7</td>\n",
       "      <td>None</td>\n",
       "      <td>None</td>\n",
       "      <td>None</td>\n",
       "      <td>False</td>\n",
       "      <td>False</td>\n",
       "      <td>False</td>\n",
       "      <td>Saiu no YouTube do presidente a 8 horas atrás,...</td>\n",
       "      <td>5</td>\n",
       "      <td>2022-10-05 06:25:28.926311</td>\n",
       "      <td>0.0644</td>\n",
       "      <td>NaN</td>\n",
       "      <td>16386</td>\n",
       "      <td>Texto</td>\n",
       "      <td>telegram</td>\n",
       "      <td>None</td>\n",
       "      <td>None</td>\n",
       "    </tr>\n",
       "    <tr>\n",
       "      <th>2</th>\n",
       "      <td>2022-10-05 06:26:28</td>\n",
       "      <td>92a2d8fd7144074f659d1d29dc3751da</td>\n",
       "      <td>9f2d7394334eb224c061c9740b5748fc</td>\n",
       "      <td>None</td>\n",
       "      <td>None</td>\n",
       "      <td>None</td>\n",
       "      <td>False</td>\n",
       "      <td>False</td>\n",
       "      <td>False</td>\n",
       "      <td>É isso, nossa parte já foi quase toda feita. N...</td>\n",
       "      <td>5</td>\n",
       "      <td>2022-10-05 06:26:29.361949</td>\n",
       "      <td>-0.3551</td>\n",
       "      <td>0.157242</td>\n",
       "      <td>16366</td>\n",
       "      <td>Texto</td>\n",
       "      <td>telegram</td>\n",
       "      <td>None</td>\n",
       "      <td>None</td>\n",
       "    </tr>\n",
       "    <tr>\n",
       "      <th>3</th>\n",
       "      <td>2022-10-05 06:27:28</td>\n",
       "      <td>d60aa38f62b4977426b70944af4aff72</td>\n",
       "      <td>c8f2de56550ed0bf85249608b7ead93d</td>\n",
       "      <td>94dca4cda503100ebfda7ce2bcc060eb.jpg</td>\n",
       "      <td>image/jpg</td>\n",
       "      <td>None</td>\n",
       "      <td>True</td>\n",
       "      <td>False</td>\n",
       "      <td>False</td>\n",
       "      <td>GENTE ACHEI ELES EM UMA SEITA MAÇONÁRICA</td>\n",
       "      <td>5</td>\n",
       "      <td>2022-10-05 06:27:29.935624</td>\n",
       "      <td>0.0000</td>\n",
       "      <td>NaN</td>\n",
       "      <td>19281</td>\n",
       "      <td>Imagem</td>\n",
       "      <td>telegram</td>\n",
       "      <td>None</td>\n",
       "      <td>94dca4cda503100ebfda7ce2bcc060eb</td>\n",
       "    </tr>\n",
       "    <tr>\n",
       "      <th>4</th>\n",
       "      <td>2022-10-05 06:27:44</td>\n",
       "      <td>cd6979b0b5265f08468fa1689b6300ce</td>\n",
       "      <td>e56ec342fc599ebb4ed89655eb6f03aa</td>\n",
       "      <td>5ad5c8bbe9da93a37fecf3e5aa5b0637.jpg</td>\n",
       "      <td>image/jpg</td>\n",
       "      <td>None</td>\n",
       "      <td>True</td>\n",
       "      <td>False</td>\n",
       "      <td>False</td>\n",
       "      <td>None</td>\n",
       "      <td>5</td>\n",
       "      <td>2022-10-05 06:28:29.316325</td>\n",
       "      <td>NaN</td>\n",
       "      <td>NaN</td>\n",
       "      <td>507185</td>\n",
       "      <td>Imagem</td>\n",
       "      <td>telegram</td>\n",
       "      <td>None</td>\n",
       "      <td>5ad5c8bbe9da93a37fecf3e5aa5b0637</td>\n",
       "    </tr>\n",
       "  </tbody>\n",
       "</table>\n",
       "</div>"
      ],
      "text/plain": [
       "          date_message               id_member_anonymous  \\\n",
       "0  2022-10-05 06:25:04  1078cc958f0febe28f4d03207660715f   \n",
       "1  2022-10-05 06:25:08                              None   \n",
       "2  2022-10-05 06:26:28  92a2d8fd7144074f659d1d29dc3751da   \n",
       "3  2022-10-05 06:27:28  d60aa38f62b4977426b70944af4aff72   \n",
       "4  2022-10-05 06:27:44  cd6979b0b5265f08468fa1689b6300ce   \n",
       "\n",
       "                 id_group_anonymous                                 media  \\\n",
       "0  12283e08a2eb5789201e105b34489ee7                                  None   \n",
       "1  12283e08a2eb5789201e105b34489ee7                                  None   \n",
       "2  9f2d7394334eb224c061c9740b5748fc                                  None   \n",
       "3  c8f2de56550ed0bf85249608b7ead93d  94dca4cda503100ebfda7ce2bcc060eb.jpg   \n",
       "4  e56ec342fc599ebb4ed89655eb6f03aa  5ad5c8bbe9da93a37fecf3e5aa5b0637.jpg   \n",
       "\n",
       "  media_type media_url  has_media  has_media_url  trava_zap  \\\n",
       "0       None      None      False          False      False   \n",
       "1       None      None      False          False      False   \n",
       "2       None      None      False          False      False   \n",
       "3  image/jpg      None       True          False      False   \n",
       "4  image/jpg      None       True          False      False   \n",
       "\n",
       "                              text_content_anonymous  dataset_info_id  \\\n",
       "0  Então é Fato Renato o áudio que eu ouvi no wha...                5   \n",
       "1  Saiu no YouTube do presidente a 8 horas atrás,...                5   \n",
       "2  É isso, nossa parte já foi quase toda feita. N...                5   \n",
       "3           GENTE ACHEI ELES EM UMA SEITA MAÇONÁRICA                5   \n",
       "4                                               None                5   \n",
       "\n",
       "                  date_system  score_sentiment  score_misinformation  \\\n",
       "0  2022-10-05 06:25:28.863641           0.0000                   NaN   \n",
       "1  2022-10-05 06:25:28.926311           0.0644                   NaN   \n",
       "2  2022-10-05 06:26:29.361949          -0.3551              0.157242   \n",
       "3  2022-10-05 06:27:29.935624           0.0000                   NaN   \n",
       "4  2022-10-05 06:28:29.316325              NaN                   NaN   \n",
       "\n",
       "   id_message message_type messenger media_name  \\\n",
       "0       16385        Texto  telegram       None   \n",
       "1       16386        Texto  telegram       None   \n",
       "2       16366        Texto  telegram       None   \n",
       "3       19281       Imagem  telegram       None   \n",
       "4      507185       Imagem  telegram       None   \n",
       "\n",
       "                          media_md5  \n",
       "0                              None  \n",
       "1                              None  \n",
       "2                              None  \n",
       "3  94dca4cda503100ebfda7ce2bcc060eb  \n",
       "4  5ad5c8bbe9da93a37fecf3e5aa5b0637  "
      ]
     },
     "execution_count": 13,
     "metadata": {},
     "output_type": "execute_result"
    }
   ],
   "source": [
    "conn.execute(\"SELECT * FROM tabela_dados LIMIT 5\").fetchdf()"
   ]
  },
  {
   "cell_type": "markdown",
   "id": "a5c57fdf",
   "metadata": {},
   "source": [
    "Como os próximos itens são de recuperação de dados utilizando o DuckDB, não vamos encerrar a conexão neste item, mas sim no final do processo.\n",
    "\n",
    "---"
   ]
  },
  {
   "cell_type": "markdown",
   "id": "c6c42e58",
   "metadata": {},
   "source": [
    "### **(e)** Utlizando o DuckDB recupere:"
   ]
  },
  {
   "cell_type": "markdown",
   "id": "5a38a7fd",
   "metadata": {},
   "source": [
    "#### **1**. A quantidade de mensagens"
   ]
  },
  {
   "cell_type": "markdown",
   "id": "b8a5f8ce",
   "metadata": {},
   "source": [
    "Para resolver este item, podemos utilizar de consultas SQL. A primeira consulta realizada foi para contar o total de mensagens armazenadas na tabela `tabela_dados` do banco DuckDB. Cada linha da tabela representa uma mensagem única, enviada em grupos do Telegram relacionados ao contexto do dataset analisado.\n",
    "> A tabela `tabela_dados` contém **557.570 mensagens** e **19 atributos**, entre eles: `date_message`, `id_group_anonymous`, `has_media`, `trava_zap`, `text_content_anonymous`, entre outros que serão úteis nas análises a seguir."
   ]
  },
  {
   "cell_type": "code",
   "execution_count": 14,
   "id": "b28709c3",
   "metadata": {},
   "outputs": [
    {
     "data": {
      "application/vnd.microsoft.datawrangler.viewer.v0+json": {
       "columns": [
        {
         "name": "index",
         "rawType": "int64",
         "type": "integer"
        },
        {
         "name": "total_mensagens",
         "rawType": "int64",
         "type": "integer"
        }
       ],
       "conversionMethod": "pd.DataFrame",
       "ref": "ddfcbd0b-e803-41b8-bd49-75a50958e1b6",
       "rows": [
        [
         "0",
         "557570"
        ]
       ],
       "shape": {
        "columns": 1,
        "rows": 1
       }
      },
      "text/html": [
       "<div>\n",
       "<style scoped>\n",
       "    .dataframe tbody tr th:only-of-type {\n",
       "        vertical-align: middle;\n",
       "    }\n",
       "\n",
       "    .dataframe tbody tr th {\n",
       "        vertical-align: top;\n",
       "    }\n",
       "\n",
       "    .dataframe thead th {\n",
       "        text-align: right;\n",
       "    }\n",
       "</style>\n",
       "<table border=\"1\" class=\"dataframe\">\n",
       "  <thead>\n",
       "    <tr style=\"text-align: right;\">\n",
       "      <th></th>\n",
       "      <th>total_mensagens</th>\n",
       "    </tr>\n",
       "  </thead>\n",
       "  <tbody>\n",
       "    <tr>\n",
       "      <th>0</th>\n",
       "      <td>557570</td>\n",
       "    </tr>\n",
       "  </tbody>\n",
       "</table>\n",
       "</div>"
      ],
      "text/plain": [
       "   total_mensagens\n",
       "0           557570"
      ]
     },
     "metadata": {},
     "output_type": "display_data"
    }
   ],
   "source": [
    "qtd_mensagem = conn.execute(\"SELECT COUNT(*) AS total_mensagens FROM tabela_dados\").fetchdf()\n",
    "display(qtd_mensagem)"
   ]
  },
  {
   "cell_type": "markdown",
   "id": "5154a7a3",
   "metadata": {},
   "source": [
    "Esta consulta realiza uma contagem multidimensional das mensagens, fornecendo diferentes perspectivas sobre a composição do dataset:"
   ]
  },
  {
   "cell_type": "code",
   "execution_count": 15,
   "id": "756ef2a4",
   "metadata": {},
   "outputs": [
    {
     "data": {
      "application/vnd.jupyter.widget-view+json": {
       "model_id": "c57658cf19b54bf8b28563f5f6bc635d",
       "version_major": 2,
       "version_minor": 0
      },
      "text/plain": [
       "FloatProgress(value=0.0, layout=Layout(width='auto'), style=ProgressStyle(bar_color='black'))"
      ]
     },
     "metadata": {},
     "output_type": "display_data"
    },
    {
     "data": {
      "application/vnd.microsoft.datawrangler.viewer.v0+json": {
       "columns": [
        {
         "name": "index",
         "rawType": "int64",
         "type": "integer"
        },
        {
         "name": "mensagens_com_id_valido",
         "rawType": "int64",
         "type": "integer"
        },
        {
         "name": "mensagens_unicas",
         "rawType": "int64",
         "type": "integer"
        },
        {
         "name": "mensagens_textuais",
         "rawType": "float64",
         "type": "float"
        },
        {
         "name": "mensagens_com_midia",
         "rawType": "float64",
         "type": "float"
        }
       ],
       "conversionMethod": "pd.DataFrame",
       "ref": "2fe9ba45-d4c0-41b5-b3dc-8f0aa1e6450a",
       "rows": [
        [
         "0",
         "557570",
         "364000",
         "444201.0",
         "332604.0"
        ]
       ],
       "shape": {
        "columns": 4,
        "rows": 1
       }
      },
      "text/html": [
       "<div>\n",
       "<style scoped>\n",
       "    .dataframe tbody tr th:only-of-type {\n",
       "        vertical-align: middle;\n",
       "    }\n",
       "\n",
       "    .dataframe tbody tr th {\n",
       "        vertical-align: top;\n",
       "    }\n",
       "\n",
       "    .dataframe thead th {\n",
       "        text-align: right;\n",
       "    }\n",
       "</style>\n",
       "<table border=\"1\" class=\"dataframe\">\n",
       "  <thead>\n",
       "    <tr style=\"text-align: right;\">\n",
       "      <th></th>\n",
       "      <th>mensagens_com_id_valido</th>\n",
       "      <th>mensagens_unicas</th>\n",
       "      <th>mensagens_textuais</th>\n",
       "      <th>mensagens_com_midia</th>\n",
       "    </tr>\n",
       "  </thead>\n",
       "  <tbody>\n",
       "    <tr>\n",
       "      <th>0</th>\n",
       "      <td>557570</td>\n",
       "      <td>364000</td>\n",
       "      <td>444201.0</td>\n",
       "      <td>332604.0</td>\n",
       "    </tr>\n",
       "  </tbody>\n",
       "</table>\n",
       "</div>"
      ],
      "text/plain": [
       "   mensagens_com_id_valido  mensagens_unicas  mensagens_textuais  \\\n",
       "0                   557570            364000            444201.0   \n",
       "\n",
       "   mensagens_com_midia  \n",
       "0             332604.0  "
      ]
     },
     "metadata": {},
     "output_type": "display_data"
    }
   ],
   "source": [
    "# text_content_anonymous leva em consideração apenas mensagem de texto\n",
    "qtd_mensagem_adicional = conn.execute(\"\"\"\n",
    "    SELECT \n",
    "    COUNT(id_message) AS mensagens_com_id_valido,\n",
    "    COUNT(DISTINCT id_message) AS mensagens_unicas,\n",
    "    SUM(CASE WHEN text_content_anonymous IS NOT NULL THEN 1 ELSE 0 END) AS mensagens_textuais,\n",
    "    SUM(CASE WHEN has_media = TRUE THEN 1 ELSE 0 END) AS mensagens_com_midia\n",
    "    FROM tabela_dados\n",
    "\"\"\").fetchdf()\n",
    "\n",
    "display(qtd_mensagem_adicional)"
   ]
  },
  {
   "cell_type": "markdown",
   "id": "db447afb",
   "metadata": {},
   "source": [
    "---"
   ]
  },
  {
   "cell_type": "markdown",
   "id": "72127bef",
   "metadata": {},
   "source": [
    "#### **2**. A quantidade de usuários"
   ]
  },
  {
   "cell_type": "markdown",
   "id": "ca8d7c8f",
   "metadata": {},
   "source": [
    "Para recuperar a quantidade de usuários únicos no dataset, utilizamos a coluna `id_member_anonymous`, que contém identificadores anônimos dos membros que enviaram mensagens nos grupos do Telegram. A consulta SQL no DuckDB foi a seguinte:"
   ]
  },
  {
   "cell_type": "code",
   "execution_count": 16,
   "id": "15886935",
   "metadata": {},
   "outputs": [
    {
     "data": {
      "application/vnd.microsoft.datawrangler.viewer.v0+json": {
       "columns": [
        {
         "name": "index",
         "rawType": "int64",
         "type": "integer"
        },
        {
         "name": "total_usuarios_unicos",
         "rawType": "int64",
         "type": "integer"
        },
        {
         "name": "total_registros",
         "rawType": "int64",
         "type": "integer"
        },
        {
         "name": "percentual_identificados",
         "rawType": "float64",
         "type": "float"
        }
       ],
       "conversionMethod": "pd.DataFrame",
       "ref": "61b29906-c7fe-484b-a144-433744078048",
       "rows": [
        [
         "0",
         "14809",
         "557570",
         "2.66"
        ]
       ],
       "shape": {
        "columns": 3,
        "rows": 1
       }
      },
      "text/html": [
       "<div>\n",
       "<style scoped>\n",
       "    .dataframe tbody tr th:only-of-type {\n",
       "        vertical-align: middle;\n",
       "    }\n",
       "\n",
       "    .dataframe tbody tr th {\n",
       "        vertical-align: top;\n",
       "    }\n",
       "\n",
       "    .dataframe thead th {\n",
       "        text-align: right;\n",
       "    }\n",
       "</style>\n",
       "<table border=\"1\" class=\"dataframe\">\n",
       "  <thead>\n",
       "    <tr style=\"text-align: right;\">\n",
       "      <th></th>\n",
       "      <th>total_usuarios_unicos</th>\n",
       "      <th>total_registros</th>\n",
       "      <th>percentual_identificados</th>\n",
       "    </tr>\n",
       "  </thead>\n",
       "  <tbody>\n",
       "    <tr>\n",
       "      <th>0</th>\n",
       "      <td>14809</td>\n",
       "      <td>557570</td>\n",
       "      <td>2.66</td>\n",
       "    </tr>\n",
       "  </tbody>\n",
       "</table>\n",
       "</div>"
      ],
      "text/plain": [
       "   total_usuarios_unicos  total_registros  percentual_identificados\n",
       "0                  14809           557570                      2.66"
      ]
     },
     "metadata": {},
     "output_type": "display_data"
    }
   ],
   "source": [
    "# Consulta para contar usuários únicos\n",
    "qtd_usuarios = conn.execute(\"\"\"\n",
    "    SELECT \n",
    "    COUNT(DISTINCT id_member_anonymous) AS total_usuarios_unicos,\n",
    "    COUNT(*) AS total_registros,\n",
    "    ROUND(COUNT(DISTINCT id_member_anonymous) * 100.0 / COUNT(*), 2) AS percentual_identificados\n",
    "    FROM tabela_dados\n",
    "\"\"\").fetchdf()\n",
    "\n",
    "display(qtd_usuarios)"
   ]
  },
  {
   "cell_type": "markdown",
   "id": "788fe149",
   "metadata": {},
   "source": [
    "**Observações importantes**\n",
    "\n",
    "- Algumas mensagens possuem `id_member_anonymous` como `NULL`, indicando que o remetente é anônimo ou não identificado.\n",
    "\n",
    "- O número de usuários únicos é menor que o total de mensagens, pois um mesmo usuário pode ter enviado múltiplas mensagens."
   ]
  },
  {
   "cell_type": "code",
   "execution_count": 17,
   "id": "e4b1edbd",
   "metadata": {},
   "outputs": [
    {
     "data": {
      "application/vnd.microsoft.datawrangler.viewer.v0+json": {
       "columns": [
        {
         "name": "index",
         "rawType": "int64",
         "type": "integer"
        },
        {
         "name": "mensagens_anonimas",
         "rawType": "int64",
         "type": "integer"
        },
        {
         "name": "mensagens_identificadas",
         "rawType": "int64",
         "type": "integer"
        },
        {
         "name": "usuarios_unicos_identificados",
         "rawType": "int64",
         "type": "integer"
        }
       ],
       "conversionMethod": "pd.DataFrame",
       "ref": "12492c64-fa1c-48f3-a7ef-823aa9292bb5",
       "rows": [
        [
         "0",
         "323337",
         "234233",
         "14809"
        ]
       ],
       "shape": {
        "columns": 3,
        "rows": 1
       }
      },
      "text/html": [
       "<div>\n",
       "<style scoped>\n",
       "    .dataframe tbody tr th:only-of-type {\n",
       "        vertical-align: middle;\n",
       "    }\n",
       "\n",
       "    .dataframe tbody tr th {\n",
       "        vertical-align: top;\n",
       "    }\n",
       "\n",
       "    .dataframe thead th {\n",
       "        text-align: right;\n",
       "    }\n",
       "</style>\n",
       "<table border=\"1\" class=\"dataframe\">\n",
       "  <thead>\n",
       "    <tr style=\"text-align: right;\">\n",
       "      <th></th>\n",
       "      <th>mensagens_anonimas</th>\n",
       "      <th>mensagens_identificadas</th>\n",
       "      <th>usuarios_unicos_identificados</th>\n",
       "    </tr>\n",
       "  </thead>\n",
       "  <tbody>\n",
       "    <tr>\n",
       "      <th>0</th>\n",
       "      <td>323337</td>\n",
       "      <td>234233</td>\n",
       "      <td>14809</td>\n",
       "    </tr>\n",
       "  </tbody>\n",
       "</table>\n",
       "</div>"
      ],
      "text/plain": [
       "   mensagens_anonimas  mensagens_identificadas  usuarios_unicos_identificados\n",
       "0              323337                   234233                          14809"
      ]
     },
     "metadata": {},
     "output_type": "display_data"
    }
   ],
   "source": [
    "qtd_sem_id = conn.execute(\"\"\"\n",
    "    SELECT \n",
    "    COUNT(CASE WHEN id_member_anonymous IS NULL THEN 1 END) AS mensagens_anonimas,\n",
    "    COUNT(CASE WHEN id_member_anonymous IS NOT NULL THEN 1 END) AS mensagens_identificadas,\n",
    "    COUNT(DISTINCT id_member_anonymous) AS usuarios_unicos_identificados\n",
    "FROM tabela_dados\n",
    "\"\"\").fetchdf()\n",
    "\n",
    "display(qtd_sem_id)"
   ]
  },
  {
   "cell_type": "markdown",
   "id": "d63ce677",
   "metadata": {},
   "source": [
    "**Relação quantitativa:**\n",
    "\n",
    "- Total de mensagens não nulas: 444.201\n",
    "\n",
    "- Usuários únicos: 14.809\n",
    "\n",
    "- Mensagens sem identificação: 323.337\n",
    "\n",
    "---"
   ]
  },
  {
   "cell_type": "markdown",
   "id": "b0948a82",
   "metadata": {},
   "source": [
    "#### **3**. A quantidade de grupos"
   ]
  },
  {
   "cell_type": "markdown",
   "id": "ca5b6ce0",
   "metadata": {},
   "source": [
    "Para identificar a quantidade de grupos únicos no dataset, utilizamos a coluna `id_group_anonymous` que contém identificadores únicos dos grupos do Telegram."
   ]
  },
  {
   "cell_type": "code",
   "execution_count": 18,
   "id": "d7c11da1",
   "metadata": {},
   "outputs": [
    {
     "data": {
      "application/vnd.microsoft.datawrangler.viewer.v0+json": {
       "columns": [
        {
         "name": "index",
         "rawType": "int64",
         "type": "integer"
        },
        {
         "name": "total_grupos_unicos",
         "rawType": "int64",
         "type": "integer"
        }
       ],
       "conversionMethod": "pd.DataFrame",
       "ref": "8a9bf2d2-0345-4deb-aa6d-960b6d7c5992",
       "rows": [
        [
         "0",
         "178"
        ]
       ],
       "shape": {
        "columns": 1,
        "rows": 1
       }
      },
      "text/html": [
       "<div>\n",
       "<style scoped>\n",
       "    .dataframe tbody tr th:only-of-type {\n",
       "        vertical-align: middle;\n",
       "    }\n",
       "\n",
       "    .dataframe tbody tr th {\n",
       "        vertical-align: top;\n",
       "    }\n",
       "\n",
       "    .dataframe thead th {\n",
       "        text-align: right;\n",
       "    }\n",
       "</style>\n",
       "<table border=\"1\" class=\"dataframe\">\n",
       "  <thead>\n",
       "    <tr style=\"text-align: right;\">\n",
       "      <th></th>\n",
       "      <th>total_grupos_unicos</th>\n",
       "    </tr>\n",
       "  </thead>\n",
       "  <tbody>\n",
       "    <tr>\n",
       "      <th>0</th>\n",
       "      <td>178</td>\n",
       "    </tr>\n",
       "  </tbody>\n",
       "</table>\n",
       "</div>"
      ],
      "text/plain": [
       "   total_grupos_unicos\n",
       "0                  178"
      ]
     },
     "metadata": {},
     "output_type": "display_data"
    }
   ],
   "source": [
    "qtd_grupos = conn.execute(\"SELECT COUNT(DISTINCT id_group_anonymous) AS total_grupos_unicos FROM tabela_dados\").fetchdf()\n",
    "display(qtd_grupos)"
   ]
  },
  {
   "cell_type": "markdown",
   "id": "f9092978",
   "metadata": {},
   "source": [
    "Sobre a coluna `id_group_anonymous`:\n",
    "\n",
    "- **Valores**: São hashes MD5 únicos para cada grupo.\n",
    "- **NULL**: Indica grupos não identificados (raro em seu dataset).\n",
    "\n",
    "Relação com outras métricas:\n",
    "\n",
    "- Cada grupo contém múltiplos `id_member_anonymous` (membros).\n",
    "- Está relacionado com `message_type` (tipo de conteúdo predominante no grupo).\n",
    "\n",
    "Dados técnicos:\n",
    "\n",
    "- **Cardinalidade esperada**: Muito menor que o total de mensagens.\n",
    "- **Tipo de dado**: TEXT (32 caracteres hexadecimais)."
   ]
  },
  {
   "cell_type": "code",
   "execution_count": 19,
   "id": "56246247",
   "metadata": {},
   "outputs": [
    {
     "data": {
      "application/vnd.microsoft.datawrangler.viewer.v0+json": {
       "columns": [
        {
         "name": "index",
         "rawType": "int64",
         "type": "integer"
        },
        {
         "name": "grupos_unicos",
         "rawType": "int64",
         "type": "integer"
        },
        {
         "name": "total_mensagens",
         "rawType": "int64",
         "type": "integer"
        },
        {
         "name": "media_mensagens_por_grupo",
         "rawType": "float64",
         "type": "float"
        }
       ],
       "conversionMethod": "pd.DataFrame",
       "ref": "96ab883e-7b1a-49d1-b645-adb10db93e3f",
       "rows": [
        [
         "0",
         "178",
         "557570",
         "3132.42"
        ]
       ],
       "shape": {
        "columns": 3,
        "rows": 1
       }
      },
      "text/html": [
       "<div>\n",
       "<style scoped>\n",
       "    .dataframe tbody tr th:only-of-type {\n",
       "        vertical-align: middle;\n",
       "    }\n",
       "\n",
       "    .dataframe tbody tr th {\n",
       "        vertical-align: top;\n",
       "    }\n",
       "\n",
       "    .dataframe thead th {\n",
       "        text-align: right;\n",
       "    }\n",
       "</style>\n",
       "<table border=\"1\" class=\"dataframe\">\n",
       "  <thead>\n",
       "    <tr style=\"text-align: right;\">\n",
       "      <th></th>\n",
       "      <th>grupos_unicos</th>\n",
       "      <th>total_mensagens</th>\n",
       "      <th>media_mensagens_por_grupo</th>\n",
       "    </tr>\n",
       "  </thead>\n",
       "  <tbody>\n",
       "    <tr>\n",
       "      <th>0</th>\n",
       "      <td>178</td>\n",
       "      <td>557570</td>\n",
       "      <td>3132.42</td>\n",
       "    </tr>\n",
       "  </tbody>\n",
       "</table>\n",
       "</div>"
      ],
      "text/plain": [
       "   grupos_unicos  total_mensagens  media_mensagens_por_grupo\n",
       "0            178           557570                    3132.42"
      ]
     },
     "metadata": {},
     "output_type": "display_data"
    }
   ],
   "source": [
    "distribuicao_grupos = conn.execute(\"\"\"\n",
    "    SELECT \n",
    "    COUNT(DISTINCT id_group_anonymous) AS grupos_unicos,\n",
    "    COUNT(*) AS total_mensagens,\n",
    "    ROUND(COUNT(*) * 1.0 / COUNT(DISTINCT id_group_anonymous), 2) AS media_mensagens_por_grupo\n",
    "    FROM tabela_dados                                                        \n",
    "\"\"\").fetchdf()\n",
    "\n",
    "display(distribuicao_grupos)"
   ]
  },
  {
   "cell_type": "markdown",
   "id": "b8978bbb",
   "metadata": {},
   "source": [
    "---"
   ]
  },
  {
   "cell_type": "markdown",
   "id": "e75a99ce",
   "metadata": {},
   "source": [
    "#### **4**. Quantidade de mensagens que possuem apenas texto"
   ]
  },
  {
   "cell_type": "markdown",
   "id": "96e812da",
   "metadata": {},
   "source": [
    "Esta métrica identifica mensagens **exclusivamente textuais**, ou seja, que não contêm nenhum tipo de mídia anexada. Portanto, utilizei dados de duas colunas: `text_content_anonymous` e `has_media = FALSE`.\n",
    "\n",
    "```sql\n",
    "SELECT\n",
    "    COUNT(*) AS mensagens_apenas_texto\n",
    "FROM tabela_dados\n",
    "WHERE \n",
    "    text_content_anonymous IS NOT NULL  -- Possui conteúdo textual\n",
    "    AND has_media = FALSE               -- Não possui mídia anexada"
   ]
  },
  {
   "cell_type": "code",
   "execution_count": 20,
   "id": "6990904a",
   "metadata": {},
   "outputs": [
    {
     "data": {
      "application/vnd.microsoft.datawrangler.viewer.v0+json": {
       "columns": [
        {
         "name": "index",
         "rawType": "int64",
         "type": "integer"
        },
        {
         "name": "total_mensagens",
         "rawType": "int64",
         "type": "integer"
        },
        {
         "name": "mensagens_apenas_texto",
         "rawType": "float64",
         "type": "float"
        },
        {
         "name": "percentual_apenas_texto",
         "rawType": "float64",
         "type": "float"
        }
       ],
       "conversionMethod": "pd.DataFrame",
       "ref": "d1a026dc-2a51-499d-971e-3725bcc679ab",
       "rows": [
        [
         "0",
         "557570",
         "224966.0",
         "40.35"
        ]
       ],
       "shape": {
        "columns": 3,
        "rows": 1
       }
      },
      "text/html": [
       "<div>\n",
       "<style scoped>\n",
       "    .dataframe tbody tr th:only-of-type {\n",
       "        vertical-align: middle;\n",
       "    }\n",
       "\n",
       "    .dataframe tbody tr th {\n",
       "        vertical-align: top;\n",
       "    }\n",
       "\n",
       "    .dataframe thead th {\n",
       "        text-align: right;\n",
       "    }\n",
       "</style>\n",
       "<table border=\"1\" class=\"dataframe\">\n",
       "  <thead>\n",
       "    <tr style=\"text-align: right;\">\n",
       "      <th></th>\n",
       "      <th>total_mensagens</th>\n",
       "      <th>mensagens_apenas_texto</th>\n",
       "      <th>percentual_apenas_texto</th>\n",
       "    </tr>\n",
       "  </thead>\n",
       "  <tbody>\n",
       "    <tr>\n",
       "      <th>0</th>\n",
       "      <td>557570</td>\n",
       "      <td>224966.0</td>\n",
       "      <td>40.35</td>\n",
       "    </tr>\n",
       "  </tbody>\n",
       "</table>\n",
       "</div>"
      ],
      "text/plain": [
       "   total_mensagens  mensagens_apenas_texto  percentual_apenas_texto\n",
       "0           557570                224966.0                    40.35"
      ]
     },
     "metadata": {},
     "output_type": "display_data"
    }
   ],
   "source": [
    "qtd_mensagem_texto = conn.execute(\"\"\"\n",
    "    SELECT\n",
    "    COUNT(*) AS total_mensagens,\n",
    "    SUM(CASE WHEN text_content_anonymous IS NOT NULL AND has_media = FALSE THEN 1 ELSE 0 END) AS mensagens_apenas_texto,\n",
    "    ROUND(SUM(CASE WHEN text_content_anonymous IS NOT NULL AND has_media = FALSE THEN 1 ELSE 0 END) * 100.0 / COUNT(*), 2) AS percentual_apenas_texto\n",
    "    FROM tabela_dados                             \n",
    "\"\"\").fetchdf()\n",
    "\n",
    "display(qtd_mensagem_texto)"
   ]
  },
  {
   "cell_type": "markdown",
   "id": "f102073d",
   "metadata": {},
   "source": [
    "#### **5**. Quantidade de mensagens contendo mídias"
   ]
  },
  {
   "cell_type": "markdown",
   "id": "32857b64",
   "metadata": {},
   "source": [
    "Utilizei a mesma lógica do item anterior para criar a consulta SQL, porém, agora estou pegando os dados com `has_media = TRUE` e `text_content_anonymous = NULL`, ou seja, não há mensagens de texto."
   ]
  },
  {
   "cell_type": "code",
   "execution_count": 21,
   "id": "07e14267",
   "metadata": {},
   "outputs": [
    {
     "data": {
      "application/vnd.microsoft.datawrangler.viewer.v0+json": {
       "columns": [
        {
         "name": "index",
         "rawType": "int64",
         "type": "integer"
        },
        {
         "name": "total_mensagens",
         "rawType": "int64",
         "type": "integer"
        },
        {
         "name": "mensagens_apenas_midia",
         "rawType": "float64",
         "type": "float"
        },
        {
         "name": "percentual_apenas_midia",
         "rawType": "float64",
         "type": "float"
        }
       ],
       "conversionMethod": "pd.DataFrame",
       "ref": "d60ddc40-0cd5-4c59-bfa2-940e57de29d2",
       "rows": [
        [
         "0",
         "557570",
         "113369.0",
         "20.33"
        ]
       ],
       "shape": {
        "columns": 3,
        "rows": 1
       }
      },
      "text/html": [
       "<div>\n",
       "<style scoped>\n",
       "    .dataframe tbody tr th:only-of-type {\n",
       "        vertical-align: middle;\n",
       "    }\n",
       "\n",
       "    .dataframe tbody tr th {\n",
       "        vertical-align: top;\n",
       "    }\n",
       "\n",
       "    .dataframe thead th {\n",
       "        text-align: right;\n",
       "    }\n",
       "</style>\n",
       "<table border=\"1\" class=\"dataframe\">\n",
       "  <thead>\n",
       "    <tr style=\"text-align: right;\">\n",
       "      <th></th>\n",
       "      <th>total_mensagens</th>\n",
       "      <th>mensagens_apenas_midia</th>\n",
       "      <th>percentual_apenas_midia</th>\n",
       "    </tr>\n",
       "  </thead>\n",
       "  <tbody>\n",
       "    <tr>\n",
       "      <th>0</th>\n",
       "      <td>557570</td>\n",
       "      <td>113369.0</td>\n",
       "      <td>20.33</td>\n",
       "    </tr>\n",
       "  </tbody>\n",
       "</table>\n",
       "</div>"
      ],
      "text/plain": [
       "   total_mensagens  mensagens_apenas_midia  percentual_apenas_midia\n",
       "0           557570                113369.0                    20.33"
      ]
     },
     "metadata": {},
     "output_type": "display_data"
    }
   ],
   "source": [
    "qtd_mensagem_midias = conn.execute(\"\"\"\n",
    "    SELECT\n",
    "    COUNT(*) AS total_mensagens,\n",
    "    SUM(CASE WHEN text_content_anonymous IS NULL AND has_media = TRUE THEN 1 ELSE 0 END) AS mensagens_apenas_midia,\n",
    "    ROUND(SUM(CASE WHEN text_content_anonymous IS NULL AND has_media = TRUE THEN 1 ELSE 0 END) * 100.0 / COUNT(*), 2) AS percentual_apenas_midia\n",
    "    FROM tabela_dados                             \n",
    "\"\"\").fetchdf()\n",
    "\n",
    "display(qtd_mensagem_midias)"
   ]
  },
  {
   "cell_type": "markdown",
   "id": "7605566c",
   "metadata": {},
   "source": [
    "---"
   ]
  },
  {
   "cell_type": "markdown",
   "id": "988ecb5a",
   "metadata": {},
   "source": [
    "#### **6**. Quantidade de mensagens por tipo de mídia (jpg, mp4 etc)"
   ]
  },
  {
   "cell_type": "markdown",
   "id": "b3e234c1",
   "metadata": {},
   "source": [
    "Para calcular essa métrica, segui os seguintes passos:\n",
    "\n",
    "1. Filtrar mensagens com `has_media = TRUE`.\n",
    "2. Ver quais valores únicos existem na coluna `media_type` (isso indica os tipos: 'jpg', 'mp4', 'pdf', etc.).\n",
    "3. Agrupar por `media_type` e contar a quantidade."
   ]
  },
  {
   "cell_type": "code",
   "execution_count": 22,
   "id": "e2a9af98",
   "metadata": {},
   "outputs": [
    {
     "data": {
      "application/vnd.microsoft.datawrangler.viewer.v0+json": {
       "columns": [
        {
         "name": "index",
         "rawType": "int64",
         "type": "integer"
        },
        {
         "name": "media_type",
         "rawType": "object",
         "type": "string"
        },
        {
         "name": "qtd_mensagens",
         "rawType": "int64",
         "type": "integer"
        }
       ],
       "conversionMethod": "pd.DataFrame",
       "ref": "afb44e44-b9a1-469e-a332-8311494ee33c",
       "rows": [
        [
         "0",
         "image/jpg",
         "200440"
        ],
        [
         "1",
         "url",
         "100856"
        ],
        [
         "2",
         "video/mp4",
         "18497"
        ],
        [
         "3",
         "application/vnd.android.package-archive",
         "7159"
        ],
        [
         "4",
         "application/pdf",
         "2850"
        ],
        [
         "5",
         "image/mp4",
         "1591"
        ],
        [
         "6",
         "image/apk",
         "234"
        ],
        [
         "7",
         "image/pdf",
         "230"
        ],
        [
         "8",
         "image/f4v",
         "83"
        ],
        [
         "9",
         "video/mpeg",
         "69"
        ],
        [
         "10",
         "application/octet-stream",
         "69"
        ],
        [
         "11",
         "audio/opus",
         "67"
        ],
        [
         "12",
         "image/jpeg",
         "65"
        ],
        [
         "13",
         "image/oga",
         "43"
        ],
        [
         "14",
         "audio/mpeg",
         "42"
        ],
        [
         "15",
         "audio/ogg",
         "38"
        ],
        [
         "16",
         "video/quicktime",
         "33"
        ],
        [
         "17",
         "image/mpv",
         "31"
        ],
        [
         "18",
         "application/vnd.openxmlformats-officedocument.spreadsheetml.sheet",
         "29"
        ],
        [
         "19",
         "application/x-ms-dos-executable",
         "23"
        ],
        [
         "20",
         "audio/aac",
         "19"
        ],
        [
         "21",
         "application/zip",
         "11"
        ],
        [
         "22",
         "application/vnd.openxmlformats-officedocument.wordprocessingml.document",
         "11"
        ],
        [
         "23",
         "video/3gpp",
         "10"
        ],
        [
         "24",
         "audio/x-wav",
         "9"
        ],
        [
         "25",
         "image/xlsx",
         "7"
        ],
        [
         "26",
         "video/x-matroska",
         "7"
        ],
        [
         "27",
         "video/x-ms-wmv",
         "6"
        ],
        [
         "28",
         "video/x-flv",
         "6"
        ],
        [
         "29",
         "image/mpeg",
         "6"
        ],
        [
         "30",
         "application/vnd.openxmlformats-officedocument.presentationml.presentation",
         "4"
        ],
        [
         "31",
         "image/mov",
         "4"
        ],
        [
         "32",
         "image/mp3",
         "4"
        ],
        [
         "33",
         "image/adts",
         "3"
        ],
        [
         "34",
         "video/webm",
         "3"
        ],
        [
         "35",
         "application/json",
         "2"
        ],
        [
         "36",
         "text/html",
         "2"
        ],
        [
         "37",
         "image/59da33c80babcbb29455fccb21329cae",
         "2"
        ],
        [
         "38",
         "application/gzip",
         "2"
        ],
        [
         "39",
         "image/wmv",
         "2"
        ],
        [
         "40",
         "application/x-mimearchive",
         "2"
        ],
        [
         "41",
         "application/sdoc",
         "2"
        ],
        [
         "42",
         "image/b39768873845aaea0f8ab41b2e9c0061",
         "2"
        ],
        [
         "43",
         "image/wav",
         "2"
        ],
        [
         "44",
         "image/heic",
         "2"
        ],
        [
         "45",
         "image/02d0e99ce96591d1e3d354ebb0690607",
         "2"
        ],
        [
         "46",
         "image/webm",
         "2"
        ],
        [
         "47",
         "image/msi",
         "2"
        ],
        [
         "48",
         "text/x-vcard",
         "1"
        ],
        [
         "49",
         "audio/x-ms-wma",
         "1"
        ]
       ],
       "shape": {
        "columns": 2,
        "rows": 67
       }
      },
      "text/html": [
       "<div>\n",
       "<style scoped>\n",
       "    .dataframe tbody tr th:only-of-type {\n",
       "        vertical-align: middle;\n",
       "    }\n",
       "\n",
       "    .dataframe tbody tr th {\n",
       "        vertical-align: top;\n",
       "    }\n",
       "\n",
       "    .dataframe thead th {\n",
       "        text-align: right;\n",
       "    }\n",
       "</style>\n",
       "<table border=\"1\" class=\"dataframe\">\n",
       "  <thead>\n",
       "    <tr style=\"text-align: right;\">\n",
       "      <th></th>\n",
       "      <th>media_type</th>\n",
       "      <th>qtd_mensagens</th>\n",
       "    </tr>\n",
       "  </thead>\n",
       "  <tbody>\n",
       "    <tr>\n",
       "      <th>0</th>\n",
       "      <td>image/jpg</td>\n",
       "      <td>200440</td>\n",
       "    </tr>\n",
       "    <tr>\n",
       "      <th>1</th>\n",
       "      <td>url</td>\n",
       "      <td>100856</td>\n",
       "    </tr>\n",
       "    <tr>\n",
       "      <th>2</th>\n",
       "      <td>video/mp4</td>\n",
       "      <td>18497</td>\n",
       "    </tr>\n",
       "    <tr>\n",
       "      <th>3</th>\n",
       "      <td>application/vnd.android.package-archive</td>\n",
       "      <td>7159</td>\n",
       "    </tr>\n",
       "    <tr>\n",
       "      <th>4</th>\n",
       "      <td>application/pdf</td>\n",
       "      <td>2850</td>\n",
       "    </tr>\n",
       "    <tr>\n",
       "      <th>...</th>\n",
       "      <td>...</td>\n",
       "      <td>...</td>\n",
       "    </tr>\n",
       "    <tr>\n",
       "      <th>62</th>\n",
       "      <td>application/x-msi</td>\n",
       "      <td>1</td>\n",
       "    </tr>\n",
       "    <tr>\n",
       "      <th>63</th>\n",
       "      <td>image/m4a</td>\n",
       "      <td>1</td>\n",
       "    </tr>\n",
       "    <tr>\n",
       "      <th>64</th>\n",
       "      <td>image/wma</td>\n",
       "      <td>1</td>\n",
       "    </tr>\n",
       "    <tr>\n",
       "      <th>65</th>\n",
       "      <td>image/af75130da3b6516eb3c1eb9ab62b5219</td>\n",
       "      <td>1</td>\n",
       "    </tr>\n",
       "    <tr>\n",
       "      <th>66</th>\n",
       "      <td>image/08e8201b6f32c358808c7ac89d8c8422</td>\n",
       "      <td>1</td>\n",
       "    </tr>\n",
       "  </tbody>\n",
       "</table>\n",
       "<p>67 rows × 2 columns</p>\n",
       "</div>"
      ],
      "text/plain": [
       "                                 media_type  qtd_mensagens\n",
       "0                                 image/jpg         200440\n",
       "1                                       url         100856\n",
       "2                                 video/mp4          18497\n",
       "3   application/vnd.android.package-archive           7159\n",
       "4                           application/pdf           2850\n",
       "..                                      ...            ...\n",
       "62                        application/x-msi              1\n",
       "63                                image/m4a              1\n",
       "64                                image/wma              1\n",
       "65   image/af75130da3b6516eb3c1eb9ab62b5219              1\n",
       "66   image/08e8201b6f32c358808c7ac89d8c8422              1\n",
       "\n",
       "[67 rows x 2 columns]"
      ]
     },
     "metadata": {},
     "output_type": "display_data"
    }
   ],
   "source": [
    "qtd_tipo_midia = conn.execute(\"\"\"\n",
    "    SELECT \n",
    "    media_type,\n",
    "    COUNT(*) AS qtd_mensagens\n",
    "    FROM tabela_dados\n",
    "    WHERE has_media = TRUE\n",
    "    GROUP BY media_type\n",
    "    ORDER BY qtd_mensagens DESC      \n",
    "\"\"\").fetchdf()\n",
    "\n",
    "display(qtd_tipo_midia)"
   ]
  },
  {
   "cell_type": "markdown",
   "id": "515e9d6b",
   "metadata": {},
   "source": [
    "---"
   ]
  },
  {
   "cell_type": "markdown",
   "id": "94fdcaf9",
   "metadata": {},
   "source": [
    "#### **12**. As 30 URLs que mais se repetem (mais compartilhadas)"
   ]
  },
  {
   "cell_type": "markdown",
   "id": "dadcdc77",
   "metadata": {},
   "source": [
    "É possível realizar esse cálculo pegando os dados da coluna `media_url`, pois essa feature provavelmente contém os links das mídias compartilhadas."
   ]
  },
  {
   "cell_type": "code",
   "execution_count": 23,
   "id": "24610e21",
   "metadata": {},
   "outputs": [
    {
     "data": {
      "application/vnd.microsoft.datawrangler.viewer.v0+json": {
       "columns": [
        {
         "name": "index",
         "rawType": "int64",
         "type": "integer"
        },
        {
         "name": "media_url",
         "rawType": "object",
         "type": "string"
        },
        {
         "name": "quantidade",
         "rawType": "int64",
         "type": "integer"
        }
       ],
       "conversionMethod": "pd.DataFrame",
       "ref": "ccce60a9-c4c5-4d20-8340-4efa276d9607",
       "rows": [
        [
         "0",
         "t.me/alexeconomia",
         "4159"
        ],
        [
         "1",
         "https://youtube.com/c/especulandoosfatosoficial",
         "1607"
        ],
        [
         "2",
         "t.me/fimtaproximo",
         "1581"
        ],
        [
         "3",
         "t.me/+EWlGMatRZGg3OTlh",
         "1419"
        ],
        [
         "4",
         "https://youtu.be/qbTzhB0akt8",
         "1160"
        ],
        [
         "5",
         "https://youtu.be/zDuOoyhyN-4",
         "1022"
        ],
        [
         "6",
         "t.me/+ewZIPdZ42vEyNzJh",
         "772"
        ],
        [
         "7",
         "https://t.me/canalselvabrasiloficial",
         "709"
        ],
        [
         "8",
         "https://youtu.be/4DHk9KZ01HM",
         "660"
        ],
        [
         "9",
         "T.me/Arthur_Senna_Trader2",
         "640"
        ],
        [
         "10",
         "https://youtu.be/x2uiakywcrI",
         "576"
        ],
        [
         "11",
         "t.me/+bseuTTFOO8c5YWFh",
         "515"
        ],
        [
         "12",
         "youtube.com/AlexEconomia",
         "445"
        ],
        [
         "13",
         "https://t.me/Ovetoroculto",
         "394"
        ],
        [
         "14",
         "https://t.me/+DnJpx-HxNCFkMmUx",
         "390"
        ],
        [
         "15",
         "https://noticias.uol.com.br/politica/ultimas-noticias/2022/08/30/patrimonio-familia-jair-bolsonaro-dinheiro-vivo.htm?utm_source=twitter&utm_medium=social-media&utm_campaign=noticias&utm_content=geral",
         "388"
        ],
        [
         "16",
         "https://t.me/ContagemDeVotosPRO_BOLSONARO",
         "375"
        ],
        [
         "17",
         "https://t.me/ipiranoticias",
         "358"
        ],
        [
         "18",
         "https://instagram.com/exercito_oficial?igshid=YmMyMTA2M2Y=",
         "355"
        ],
        [
         "19",
         "https://youtube.com/channel/UCVvPvyD-zdnTTapAbF6BbzA",
         "349"
        ],
        [
         "20",
         "https://youtu.be/wGpTY8GH568",
         "332"
        ],
        [
         "21",
         "https://youtu.be/u-ZGL90PfeI",
         "282"
        ],
        [
         "22",
         "t.me/+L987ddlsBJVkYzAx",
         "273"
        ],
        [
         "23",
         "t.me/direitologicoparatodos",
         "262"
        ],
        [
         "24",
         "https://scriptsamp.forumeiros.com/t16154-enquetecandidatos-a-presidencia-do-brasil",
         "260"
        ],
        [
         "25",
         "https://lulaflix.com.br/",
         "255"
        ],
        [
         "26",
         "https://youtu.be/aJ7uw_d-dUI",
         "250"
        ],
        [
         "27",
         "https://t.me/misteriosdomundobruno",
         "249"
        ],
        [
         "28",
         "http://ligapatriota.blogspot.com/",
         "244"
        ],
        [
         "29",
         "https://youtu.be/a4IjtAhIVbI",
         "222"
        ]
       ],
       "shape": {
        "columns": 2,
        "rows": 30
       }
      },
      "text/html": [
       "<div>\n",
       "<style scoped>\n",
       "    .dataframe tbody tr th:only-of-type {\n",
       "        vertical-align: middle;\n",
       "    }\n",
       "\n",
       "    .dataframe tbody tr th {\n",
       "        vertical-align: top;\n",
       "    }\n",
       "\n",
       "    .dataframe thead th {\n",
       "        text-align: right;\n",
       "    }\n",
       "</style>\n",
       "<table border=\"1\" class=\"dataframe\">\n",
       "  <thead>\n",
       "    <tr style=\"text-align: right;\">\n",
       "      <th></th>\n",
       "      <th>media_url</th>\n",
       "      <th>quantidade</th>\n",
       "    </tr>\n",
       "  </thead>\n",
       "  <tbody>\n",
       "    <tr>\n",
       "      <th>0</th>\n",
       "      <td>t.me/alexeconomia</td>\n",
       "      <td>4159</td>\n",
       "    </tr>\n",
       "    <tr>\n",
       "      <th>1</th>\n",
       "      <td>https://youtube.com/c/especulandoosfatosoficial</td>\n",
       "      <td>1607</td>\n",
       "    </tr>\n",
       "    <tr>\n",
       "      <th>2</th>\n",
       "      <td>t.me/fimtaproximo</td>\n",
       "      <td>1581</td>\n",
       "    </tr>\n",
       "    <tr>\n",
       "      <th>3</th>\n",
       "      <td>t.me/+EWlGMatRZGg3OTlh</td>\n",
       "      <td>1419</td>\n",
       "    </tr>\n",
       "    <tr>\n",
       "      <th>4</th>\n",
       "      <td>https://youtu.be/qbTzhB0akt8</td>\n",
       "      <td>1160</td>\n",
       "    </tr>\n",
       "    <tr>\n",
       "      <th>5</th>\n",
       "      <td>https://youtu.be/zDuOoyhyN-4</td>\n",
       "      <td>1022</td>\n",
       "    </tr>\n",
       "    <tr>\n",
       "      <th>6</th>\n",
       "      <td>t.me/+ewZIPdZ42vEyNzJh</td>\n",
       "      <td>772</td>\n",
       "    </tr>\n",
       "    <tr>\n",
       "      <th>7</th>\n",
       "      <td>https://t.me/canalselvabrasiloficial</td>\n",
       "      <td>709</td>\n",
       "    </tr>\n",
       "    <tr>\n",
       "      <th>8</th>\n",
       "      <td>https://youtu.be/4DHk9KZ01HM</td>\n",
       "      <td>660</td>\n",
       "    </tr>\n",
       "    <tr>\n",
       "      <th>9</th>\n",
       "      <td>T.me/Arthur_Senna_Trader2</td>\n",
       "      <td>640</td>\n",
       "    </tr>\n",
       "    <tr>\n",
       "      <th>10</th>\n",
       "      <td>https://youtu.be/x2uiakywcrI</td>\n",
       "      <td>576</td>\n",
       "    </tr>\n",
       "    <tr>\n",
       "      <th>11</th>\n",
       "      <td>t.me/+bseuTTFOO8c5YWFh</td>\n",
       "      <td>515</td>\n",
       "    </tr>\n",
       "    <tr>\n",
       "      <th>12</th>\n",
       "      <td>youtube.com/AlexEconomia</td>\n",
       "      <td>445</td>\n",
       "    </tr>\n",
       "    <tr>\n",
       "      <th>13</th>\n",
       "      <td>https://t.me/Ovetoroculto</td>\n",
       "      <td>394</td>\n",
       "    </tr>\n",
       "    <tr>\n",
       "      <th>14</th>\n",
       "      <td>https://t.me/+DnJpx-HxNCFkMmUx</td>\n",
       "      <td>390</td>\n",
       "    </tr>\n",
       "    <tr>\n",
       "      <th>15</th>\n",
       "      <td>https://noticias.uol.com.br/politica/ultimas-n...</td>\n",
       "      <td>388</td>\n",
       "    </tr>\n",
       "    <tr>\n",
       "      <th>16</th>\n",
       "      <td>https://t.me/ContagemDeVotosPRO_BOLSONARO</td>\n",
       "      <td>375</td>\n",
       "    </tr>\n",
       "    <tr>\n",
       "      <th>17</th>\n",
       "      <td>https://t.me/ipiranoticias</td>\n",
       "      <td>358</td>\n",
       "    </tr>\n",
       "    <tr>\n",
       "      <th>18</th>\n",
       "      <td>https://instagram.com/exercito_oficial?igshid=...</td>\n",
       "      <td>355</td>\n",
       "    </tr>\n",
       "    <tr>\n",
       "      <th>19</th>\n",
       "      <td>https://youtube.com/channel/UCVvPvyD-zdnTTapAb...</td>\n",
       "      <td>349</td>\n",
       "    </tr>\n",
       "    <tr>\n",
       "      <th>20</th>\n",
       "      <td>https://youtu.be/wGpTY8GH568</td>\n",
       "      <td>332</td>\n",
       "    </tr>\n",
       "    <tr>\n",
       "      <th>21</th>\n",
       "      <td>https://youtu.be/u-ZGL90PfeI</td>\n",
       "      <td>282</td>\n",
       "    </tr>\n",
       "    <tr>\n",
       "      <th>22</th>\n",
       "      <td>t.me/+L987ddlsBJVkYzAx</td>\n",
       "      <td>273</td>\n",
       "    </tr>\n",
       "    <tr>\n",
       "      <th>23</th>\n",
       "      <td>t.me/direitologicoparatodos</td>\n",
       "      <td>262</td>\n",
       "    </tr>\n",
       "    <tr>\n",
       "      <th>24</th>\n",
       "      <td>https://scriptsamp.forumeiros.com/t16154-enque...</td>\n",
       "      <td>260</td>\n",
       "    </tr>\n",
       "    <tr>\n",
       "      <th>25</th>\n",
       "      <td>https://lulaflix.com.br/</td>\n",
       "      <td>255</td>\n",
       "    </tr>\n",
       "    <tr>\n",
       "      <th>26</th>\n",
       "      <td>https://youtu.be/aJ7uw_d-dUI</td>\n",
       "      <td>250</td>\n",
       "    </tr>\n",
       "    <tr>\n",
       "      <th>27</th>\n",
       "      <td>https://t.me/misteriosdomundobruno</td>\n",
       "      <td>249</td>\n",
       "    </tr>\n",
       "    <tr>\n",
       "      <th>28</th>\n",
       "      <td>http://ligapatriota.blogspot.com/</td>\n",
       "      <td>244</td>\n",
       "    </tr>\n",
       "    <tr>\n",
       "      <th>29</th>\n",
       "      <td>https://youtu.be/a4IjtAhIVbI</td>\n",
       "      <td>222</td>\n",
       "    </tr>\n",
       "  </tbody>\n",
       "</table>\n",
       "</div>"
      ],
      "text/plain": [
       "                                            media_url  quantidade\n",
       "0                                   t.me/alexeconomia        4159\n",
       "1     https://youtube.com/c/especulandoosfatosoficial        1607\n",
       "2                                   t.me/fimtaproximo        1581\n",
       "3                              t.me/+EWlGMatRZGg3OTlh        1419\n",
       "4                        https://youtu.be/qbTzhB0akt8        1160\n",
       "5                        https://youtu.be/zDuOoyhyN-4        1022\n",
       "6                              t.me/+ewZIPdZ42vEyNzJh         772\n",
       "7                https://t.me/canalselvabrasiloficial         709\n",
       "8                        https://youtu.be/4DHk9KZ01HM         660\n",
       "9                           T.me/Arthur_Senna_Trader2         640\n",
       "10                       https://youtu.be/x2uiakywcrI         576\n",
       "11                             t.me/+bseuTTFOO8c5YWFh         515\n",
       "12                           youtube.com/AlexEconomia         445\n",
       "13                          https://t.me/Ovetoroculto         394\n",
       "14                     https://t.me/+DnJpx-HxNCFkMmUx         390\n",
       "15  https://noticias.uol.com.br/politica/ultimas-n...         388\n",
       "16          https://t.me/ContagemDeVotosPRO_BOLSONARO         375\n",
       "17                         https://t.me/ipiranoticias         358\n",
       "18  https://instagram.com/exercito_oficial?igshid=...         355\n",
       "19  https://youtube.com/channel/UCVvPvyD-zdnTTapAb...         349\n",
       "20                       https://youtu.be/wGpTY8GH568         332\n",
       "21                       https://youtu.be/u-ZGL90PfeI         282\n",
       "22                             t.me/+L987ddlsBJVkYzAx         273\n",
       "23                        t.me/direitologicoparatodos         262\n",
       "24  https://scriptsamp.forumeiros.com/t16154-enque...         260\n",
       "25                           https://lulaflix.com.br/         255\n",
       "26                       https://youtu.be/aJ7uw_d-dUI         250\n",
       "27                 https://t.me/misteriosdomundobruno         249\n",
       "28                  http://ligapatriota.blogspot.com/         244\n",
       "29                       https://youtu.be/a4IjtAhIVbI         222"
      ]
     },
     "metadata": {},
     "output_type": "display_data"
    }
   ],
   "source": [
    "urls_mais_compartilhadas = conn.execute(\"\"\"\n",
    "    SELECT \n",
    "    media_url,\n",
    "    COUNT(*) AS quantidade\n",
    "    FROM tabela_dados\n",
    "    WHERE media_url IS NOT NULL\n",
    "    GROUP BY media_url\n",
    "    ORDER BY quantidade DESC\n",
    "    LIMIT 30                        \n",
    "\"\"\").fetchdf()\n",
    "\n",
    "display(urls_mais_compartilhadas)"
   ]
  },
  {
   "cell_type": "markdown",
   "id": "2eda0f81",
   "metadata": {},
   "source": [
    "---"
   ]
  },
  {
   "cell_type": "markdown",
   "id": "e25b88c3",
   "metadata": {},
   "source": [
    "#### **13**. Os 30 domínios que mais se repetem (mais compartilhados)"
   ]
  },
  {
   "cell_type": "markdown",
   "id": "9c54b3c3",
   "metadata": {},
   "source": [
    "Para identificar os sites mais utilizados como fonte de mídia nas mensagens, foi realizada uma extração dos domínios contidos nas URLs presentes na coluna `media_url`.\n",
    "\n",
    "A base de dados não possui uma coluna explícita de localização ou domínio, mas como a coluna `media_url` armazena os links das mídias compartilhadas, foi possível utilizar expressões regulares (**regex**) para extrair o domínio principal (ex: youtube.com, t.me, wa.me) de cada URL."
   ]
  },
  {
   "cell_type": "code",
   "execution_count": 24,
   "id": "7c6ad4e6",
   "metadata": {},
   "outputs": [
    {
     "data": {
      "application/vnd.microsoft.datawrangler.viewer.v0+json": {
       "columns": [
        {
         "name": "index",
         "rawType": "int64",
         "type": "integer"
        },
        {
         "name": "dominio",
         "rawType": "object",
         "type": "string"
        },
        {
         "name": "quantidade",
         "rawType": "int64",
         "type": "integer"
        }
       ],
       "conversionMethod": "pd.DataFrame",
       "ref": "f75bdb8c-dd1f-4a6a-81ad-5d500f549c57",
       "rows": [
        [
         "0",
         "youtu.be",
         "52731"
        ],
        [
         "1",
         "t.me",
         "10712"
        ],
        [
         "2",
         "www.youtube.com",
         "8315"
        ],
        [
         "3",
         "terrabrasilnoticias.com",
         "8282"
        ],
        [
         "4",
         "youtube.com",
         "5967"
        ],
        [
         "5",
         "www.instagram.com",
         "5784"
        ],
        [
         "6",
         "www.jornaldacidadeonline.com.br",
         "4829"
        ],
        [
         "7",
         "twitter.com",
         "4390"
        ],
        [
         "8",
         "t.me/alexeconomia",
         "4159"
        ],
        [
         "9",
         "gazetabrasil.com.br",
         "1779"
        ],
        [
         "10",
         "pleno.news",
         "1601"
        ],
        [
         "11",
         "t.me/fimtaproximo",
         "1581"
        ],
        [
         "12",
         "t.me/+EWlGMatRZGg3OTlh",
         "1419"
        ],
        [
         "13",
         "www.facebook.com",
         "1356"
        ],
        [
         "14",
         "www.bitchute.com",
         "1178"
        ],
        [
         "15",
         "www.aliadosbrasiloficial.com.br",
         "945"
        ],
        [
         "16",
         "revistaoeste.com",
         "920"
        ],
        [
         "17",
         "kwai-video.com",
         "863"
        ],
        [
         "18",
         "gettr.com",
         "842"
        ],
        [
         "19",
         "vistapatria.com.br",
         "830"
        ],
        [
         "20",
         "verdadecensurada.com.br",
         "829"
        ],
        [
         "21",
         "instagram.com",
         "822"
        ],
        [
         "22",
         "t.me/+ewZIPdZ42vEyNzJh",
         "772"
        ],
        [
         "23",
         "www.conexaopolitica.com.br",
         "746"
        ],
        [
         "24",
         "vm.tiktok.com",
         "744"
        ],
        [
         "25",
         "m.youtube.com",
         "688"
        ],
        [
         "26",
         "T.me/Arthur_Senna_Trader2",
         "640"
        ],
        [
         "27",
         "noticias.uol.com.br",
         "627"
        ],
        [
         "28",
         "tribunanacional.com.br",
         "609"
        ],
        [
         "29",
         "fb.watch",
         "573"
        ]
       ],
       "shape": {
        "columns": 2,
        "rows": 30
       }
      },
      "text/html": [
       "<div>\n",
       "<style scoped>\n",
       "    .dataframe tbody tr th:only-of-type {\n",
       "        vertical-align: middle;\n",
       "    }\n",
       "\n",
       "    .dataframe tbody tr th {\n",
       "        vertical-align: top;\n",
       "    }\n",
       "\n",
       "    .dataframe thead th {\n",
       "        text-align: right;\n",
       "    }\n",
       "</style>\n",
       "<table border=\"1\" class=\"dataframe\">\n",
       "  <thead>\n",
       "    <tr style=\"text-align: right;\">\n",
       "      <th></th>\n",
       "      <th>dominio</th>\n",
       "      <th>quantidade</th>\n",
       "    </tr>\n",
       "  </thead>\n",
       "  <tbody>\n",
       "    <tr>\n",
       "      <th>0</th>\n",
       "      <td>youtu.be</td>\n",
       "      <td>52731</td>\n",
       "    </tr>\n",
       "    <tr>\n",
       "      <th>1</th>\n",
       "      <td>t.me</td>\n",
       "      <td>10712</td>\n",
       "    </tr>\n",
       "    <tr>\n",
       "      <th>2</th>\n",
       "      <td>www.youtube.com</td>\n",
       "      <td>8315</td>\n",
       "    </tr>\n",
       "    <tr>\n",
       "      <th>3</th>\n",
       "      <td>terrabrasilnoticias.com</td>\n",
       "      <td>8282</td>\n",
       "    </tr>\n",
       "    <tr>\n",
       "      <th>4</th>\n",
       "      <td>youtube.com</td>\n",
       "      <td>5967</td>\n",
       "    </tr>\n",
       "    <tr>\n",
       "      <th>5</th>\n",
       "      <td>www.instagram.com</td>\n",
       "      <td>5784</td>\n",
       "    </tr>\n",
       "    <tr>\n",
       "      <th>6</th>\n",
       "      <td>www.jornaldacidadeonline.com.br</td>\n",
       "      <td>4829</td>\n",
       "    </tr>\n",
       "    <tr>\n",
       "      <th>7</th>\n",
       "      <td>twitter.com</td>\n",
       "      <td>4390</td>\n",
       "    </tr>\n",
       "    <tr>\n",
       "      <th>8</th>\n",
       "      <td>t.me/alexeconomia</td>\n",
       "      <td>4159</td>\n",
       "    </tr>\n",
       "    <tr>\n",
       "      <th>9</th>\n",
       "      <td>gazetabrasil.com.br</td>\n",
       "      <td>1779</td>\n",
       "    </tr>\n",
       "    <tr>\n",
       "      <th>10</th>\n",
       "      <td>pleno.news</td>\n",
       "      <td>1601</td>\n",
       "    </tr>\n",
       "    <tr>\n",
       "      <th>11</th>\n",
       "      <td>t.me/fimtaproximo</td>\n",
       "      <td>1581</td>\n",
       "    </tr>\n",
       "    <tr>\n",
       "      <th>12</th>\n",
       "      <td>t.me/+EWlGMatRZGg3OTlh</td>\n",
       "      <td>1419</td>\n",
       "    </tr>\n",
       "    <tr>\n",
       "      <th>13</th>\n",
       "      <td>www.facebook.com</td>\n",
       "      <td>1356</td>\n",
       "    </tr>\n",
       "    <tr>\n",
       "      <th>14</th>\n",
       "      <td>www.bitchute.com</td>\n",
       "      <td>1178</td>\n",
       "    </tr>\n",
       "    <tr>\n",
       "      <th>15</th>\n",
       "      <td>www.aliadosbrasiloficial.com.br</td>\n",
       "      <td>945</td>\n",
       "    </tr>\n",
       "    <tr>\n",
       "      <th>16</th>\n",
       "      <td>revistaoeste.com</td>\n",
       "      <td>920</td>\n",
       "    </tr>\n",
       "    <tr>\n",
       "      <th>17</th>\n",
       "      <td>kwai-video.com</td>\n",
       "      <td>863</td>\n",
       "    </tr>\n",
       "    <tr>\n",
       "      <th>18</th>\n",
       "      <td>gettr.com</td>\n",
       "      <td>842</td>\n",
       "    </tr>\n",
       "    <tr>\n",
       "      <th>19</th>\n",
       "      <td>vistapatria.com.br</td>\n",
       "      <td>830</td>\n",
       "    </tr>\n",
       "    <tr>\n",
       "      <th>20</th>\n",
       "      <td>verdadecensurada.com.br</td>\n",
       "      <td>829</td>\n",
       "    </tr>\n",
       "    <tr>\n",
       "      <th>21</th>\n",
       "      <td>instagram.com</td>\n",
       "      <td>822</td>\n",
       "    </tr>\n",
       "    <tr>\n",
       "      <th>22</th>\n",
       "      <td>t.me/+ewZIPdZ42vEyNzJh</td>\n",
       "      <td>772</td>\n",
       "    </tr>\n",
       "    <tr>\n",
       "      <th>23</th>\n",
       "      <td>www.conexaopolitica.com.br</td>\n",
       "      <td>746</td>\n",
       "    </tr>\n",
       "    <tr>\n",
       "      <th>24</th>\n",
       "      <td>vm.tiktok.com</td>\n",
       "      <td>744</td>\n",
       "    </tr>\n",
       "    <tr>\n",
       "      <th>25</th>\n",
       "      <td>m.youtube.com</td>\n",
       "      <td>688</td>\n",
       "    </tr>\n",
       "    <tr>\n",
       "      <th>26</th>\n",
       "      <td>T.me/Arthur_Senna_Trader2</td>\n",
       "      <td>640</td>\n",
       "    </tr>\n",
       "    <tr>\n",
       "      <th>27</th>\n",
       "      <td>noticias.uol.com.br</td>\n",
       "      <td>627</td>\n",
       "    </tr>\n",
       "    <tr>\n",
       "      <th>28</th>\n",
       "      <td>tribunanacional.com.br</td>\n",
       "      <td>609</td>\n",
       "    </tr>\n",
       "    <tr>\n",
       "      <th>29</th>\n",
       "      <td>fb.watch</td>\n",
       "      <td>573</td>\n",
       "    </tr>\n",
       "  </tbody>\n",
       "</table>\n",
       "</div>"
      ],
      "text/plain": [
       "                            dominio  quantidade\n",
       "0                          youtu.be       52731\n",
       "1                              t.me       10712\n",
       "2                   www.youtube.com        8315\n",
       "3           terrabrasilnoticias.com        8282\n",
       "4                       youtube.com        5967\n",
       "5                 www.instagram.com        5784\n",
       "6   www.jornaldacidadeonline.com.br        4829\n",
       "7                       twitter.com        4390\n",
       "8                 t.me/alexeconomia        4159\n",
       "9               gazetabrasil.com.br        1779\n",
       "10                       pleno.news        1601\n",
       "11                t.me/fimtaproximo        1581\n",
       "12           t.me/+EWlGMatRZGg3OTlh        1419\n",
       "13                 www.facebook.com        1356\n",
       "14                 www.bitchute.com        1178\n",
       "15  www.aliadosbrasiloficial.com.br         945\n",
       "16                 revistaoeste.com         920\n",
       "17                   kwai-video.com         863\n",
       "18                        gettr.com         842\n",
       "19               vistapatria.com.br         830\n",
       "20          verdadecensurada.com.br         829\n",
       "21                    instagram.com         822\n",
       "22           t.me/+ewZIPdZ42vEyNzJh         772\n",
       "23       www.conexaopolitica.com.br         746\n",
       "24                    vm.tiktok.com         744\n",
       "25                    m.youtube.com         688\n",
       "26        T.me/Arthur_Senna_Trader2         640\n",
       "27              noticias.uol.com.br         627\n",
       "28           tribunanacional.com.br         609\n",
       "29                         fb.watch         573"
      ]
     },
     "metadata": {},
     "output_type": "display_data"
    }
   ],
   "source": [
    "dominios_mais_compartilhados = conn.execute(\"\"\"\n",
    "    SELECT\n",
    "    CASE\n",
    "        WHEN media_url LIKE 'http://%' THEN SUBSTRING(media_url, 8, POSITION('/' IN SUBSTRING(media_url, 8)) - 1)\n",
    "        WHEN media_url LIKE 'https://%' THEN SUBSTRING(media_url, 9, POSITION('/' IN SUBSTRING(media_url, 9)) - 1)\n",
    "        ELSE media_url\n",
    "    END AS dominio,\n",
    "    COUNT(*) AS quantidade\n",
    "FROM tabela_dados\n",
    "WHERE media_url IS NOT NULL\n",
    "GROUP BY dominio\n",
    "ORDER BY quantidade DESC\n",
    "LIMIT 30;                                   \n",
    "\"\"\").fetchdf()\n",
    "\n",
    "display(dominios_mais_compartilhados)"
   ]
  },
  {
   "cell_type": "markdown",
   "id": "c4bc611b",
   "metadata": {},
   "source": [
    "Também busquei realizar um tratamento adicional para unificar domínios que se referiam à mesma plataforma, por exemplo, `youtu.be` e `youtube.com`."
   ]
  },
  {
   "cell_type": "code",
   "execution_count": 25,
   "id": "fdc853ba",
   "metadata": {},
   "outputs": [
    {
     "name": "stderr",
     "output_type": "stream",
     "text": [
      "<>:1: SyntaxWarning: invalid escape sequence '\\.'\n",
      "<>:1: SyntaxWarning: invalid escape sequence '\\.'\n",
      "C:\\Users\\esthe\\AppData\\Local\\Temp\\ipykernel_16288\\3980102472.py:1: SyntaxWarning: invalid escape sequence '\\.'\n",
      "  dominios_mais_compartilhados_update = conn.execute(\"\"\"\n"
     ]
    },
    {
     "data": {
      "application/vnd.microsoft.datawrangler.viewer.v0+json": {
       "columns": [
        {
         "name": "index",
         "rawType": "int64",
         "type": "integer"
        },
        {
         "name": "dominio",
         "rawType": "object",
         "type": "string"
        },
        {
         "name": "quantidade",
         "rawType": "int64",
         "type": "integer"
        },
        {
         "name": "percentagem",
         "rawType": "float64",
         "type": "float"
        }
       ],
       "conversionMethod": "pd.DataFrame",
       "ref": "51b1025d-fb5d-44bb-9590-60ee7b08f48c",
       "rows": [
        [
         "0",
         "youtube.com",
         "68312",
         "43.39"
        ],
        [
         "1",
         "\u0002",
         "55182",
         "35.05"
        ],
        [
         "2",
         "t.me",
         "21377",
         "13.58"
        ],
        [
         "3",
         "instagram.com",
         "6671",
         "4.24"
        ],
        [
         "4",
         "twitter.com",
         "4863",
         "3.09"
        ],
        [
         "5",
         "www.ceifadores.com.br",
         "77",
         "0.05"
        ],
        [
         "6",
         "www.marketingdigitalparavencer.com.br",
         "73",
         "0.05"
        ],
        [
         "7",
         "www.fiscaisdobolsonaro.com.br",
         "48",
         "0.03"
        ],
        [
         "8",
         "brazilwasstolen.com/pt/",
         "42",
         "0.03"
        ],
        [
         "9",
         "www.starday.com.br/crp",
         "39",
         "0.02"
        ],
        [
         "10",
         "Telegram.me/joinchat/omsNspWKN4dkNjk0",
         "32",
         "0.02"
        ],
        [
         "11",
         "www.starday.com.br/xx",
         "19",
         "0.01"
        ],
        [
         "12",
         "www.pvdeus.com.br",
         "17",
         "0.01"
        ],
        [
         "13",
         "is.gd/qu1FoK",
         "15",
         "0.01"
        ],
        [
         "14",
         "linktr.ee/PatriaAmadaBrasil",
         "15",
         "0.01"
        ],
        [
         "15",
         "is.gd/DRAD9d",
         "12",
         "0.01"
        ],
        [
         "16",
         "www12.senado.leg.br/radio/1/noticia/2022/08/15/conheca-as-regras-para-propaganda-eleitoral-nas-redes-sociais",
         "12",
         "0.01"
        ],
        [
         "17",
         "pt.org.br/blog-secretari…",
         "12",
         "0.01"
        ],
        [
         "18",
         "telegram.me/joinchat/18_vJXqRmV82OTA8",
         "11",
         "0.01"
        ],
        [
         "19",
         "revistaoeste.com/politica/eleic…",
         "10",
         "0.01"
        ],
        [
         "20",
         "www.felipefolgosi.com",
         "10",
         "0.01"
        ],
        [
         "21",
         "www.carlazambelli.com.br",
         "10",
         "0.01"
        ],
        [
         "22",
         "noticias.r7.com/eleicoes-2022/…",
         "10",
         "0.01"
        ],
        [
         "23",
         "www.amaurizanforlin.com.br",
         "10",
         "0.01"
        ],
        [
         "24",
         "bit.ly/3yB06p7",
         "9",
         "0.01"
        ],
        [
         "25",
         "www.ligadalealdade.com.br",
         "9",
         "0.01"
        ],
        [
         "26",
         "veja.abril.com.br/coluna/radar/b…",
         "9",
         "0.01"
        ],
        [
         "27",
         "poder360.com.br/congresso/saib…",
         "8",
         "0.01"
        ],
        [
         "28",
         "valor.globo.com/politica/eleic…",
         "8",
         "0.01"
        ],
        [
         "29",
         "www.telegram.me/joinchat/rQ6F7B3vftBiY2E0",
         "8",
         "0.01"
        ]
       ],
       "shape": {
        "columns": 3,
        "rows": 30
       }
      },
      "text/html": [
       "<div>\n",
       "<style scoped>\n",
       "    .dataframe tbody tr th:only-of-type {\n",
       "        vertical-align: middle;\n",
       "    }\n",
       "\n",
       "    .dataframe tbody tr th {\n",
       "        vertical-align: top;\n",
       "    }\n",
       "\n",
       "    .dataframe thead th {\n",
       "        text-align: right;\n",
       "    }\n",
       "</style>\n",
       "<table border=\"1\" class=\"dataframe\">\n",
       "  <thead>\n",
       "    <tr style=\"text-align: right;\">\n",
       "      <th></th>\n",
       "      <th>dominio</th>\n",
       "      <th>quantidade</th>\n",
       "      <th>percentagem</th>\n",
       "    </tr>\n",
       "  </thead>\n",
       "  <tbody>\n",
       "    <tr>\n",
       "      <th>0</th>\n",
       "      <td>youtube.com</td>\n",
       "      <td>68312</td>\n",
       "      <td>43.39</td>\n",
       "    </tr>\n",
       "    <tr>\n",
       "      <th>1</th>\n",
       "      <td>\u0002</td>\n",
       "      <td>55182</td>\n",
       "      <td>35.05</td>\n",
       "    </tr>\n",
       "    <tr>\n",
       "      <th>2</th>\n",
       "      <td>t.me</td>\n",
       "      <td>21377</td>\n",
       "      <td>13.58</td>\n",
       "    </tr>\n",
       "    <tr>\n",
       "      <th>3</th>\n",
       "      <td>instagram.com</td>\n",
       "      <td>6671</td>\n",
       "      <td>4.24</td>\n",
       "    </tr>\n",
       "    <tr>\n",
       "      <th>4</th>\n",
       "      <td>twitter.com</td>\n",
       "      <td>4863</td>\n",
       "      <td>3.09</td>\n",
       "    </tr>\n",
       "    <tr>\n",
       "      <th>5</th>\n",
       "      <td>www.ceifadores.com.br</td>\n",
       "      <td>77</td>\n",
       "      <td>0.05</td>\n",
       "    </tr>\n",
       "    <tr>\n",
       "      <th>6</th>\n",
       "      <td>www.marketingdigitalparavencer.com.br</td>\n",
       "      <td>73</td>\n",
       "      <td>0.05</td>\n",
       "    </tr>\n",
       "    <tr>\n",
       "      <th>7</th>\n",
       "      <td>www.fiscaisdobolsonaro.com.br</td>\n",
       "      <td>48</td>\n",
       "      <td>0.03</td>\n",
       "    </tr>\n",
       "    <tr>\n",
       "      <th>8</th>\n",
       "      <td>brazilwasstolen.com/pt/</td>\n",
       "      <td>42</td>\n",
       "      <td>0.03</td>\n",
       "    </tr>\n",
       "    <tr>\n",
       "      <th>9</th>\n",
       "      <td>www.starday.com.br/crp</td>\n",
       "      <td>39</td>\n",
       "      <td>0.02</td>\n",
       "    </tr>\n",
       "    <tr>\n",
       "      <th>10</th>\n",
       "      <td>Telegram.me/joinchat/omsNspWKN4dkNjk0</td>\n",
       "      <td>32</td>\n",
       "      <td>0.02</td>\n",
       "    </tr>\n",
       "    <tr>\n",
       "      <th>11</th>\n",
       "      <td>www.starday.com.br/xx</td>\n",
       "      <td>19</td>\n",
       "      <td>0.01</td>\n",
       "    </tr>\n",
       "    <tr>\n",
       "      <th>12</th>\n",
       "      <td>www.pvdeus.com.br</td>\n",
       "      <td>17</td>\n",
       "      <td>0.01</td>\n",
       "    </tr>\n",
       "    <tr>\n",
       "      <th>13</th>\n",
       "      <td>is.gd/qu1FoK</td>\n",
       "      <td>15</td>\n",
       "      <td>0.01</td>\n",
       "    </tr>\n",
       "    <tr>\n",
       "      <th>14</th>\n",
       "      <td>linktr.ee/PatriaAmadaBrasil</td>\n",
       "      <td>15</td>\n",
       "      <td>0.01</td>\n",
       "    </tr>\n",
       "    <tr>\n",
       "      <th>15</th>\n",
       "      <td>is.gd/DRAD9d</td>\n",
       "      <td>12</td>\n",
       "      <td>0.01</td>\n",
       "    </tr>\n",
       "    <tr>\n",
       "      <th>16</th>\n",
       "      <td>www12.senado.leg.br/radio/1/noticia/2022/08/15...</td>\n",
       "      <td>12</td>\n",
       "      <td>0.01</td>\n",
       "    </tr>\n",
       "    <tr>\n",
       "      <th>17</th>\n",
       "      <td>pt.org.br/blog-secretari…</td>\n",
       "      <td>12</td>\n",
       "      <td>0.01</td>\n",
       "    </tr>\n",
       "    <tr>\n",
       "      <th>18</th>\n",
       "      <td>telegram.me/joinchat/18_vJXqRmV82OTA8</td>\n",
       "      <td>11</td>\n",
       "      <td>0.01</td>\n",
       "    </tr>\n",
       "    <tr>\n",
       "      <th>19</th>\n",
       "      <td>revistaoeste.com/politica/eleic…</td>\n",
       "      <td>10</td>\n",
       "      <td>0.01</td>\n",
       "    </tr>\n",
       "    <tr>\n",
       "      <th>20</th>\n",
       "      <td>www.felipefolgosi.com</td>\n",
       "      <td>10</td>\n",
       "      <td>0.01</td>\n",
       "    </tr>\n",
       "    <tr>\n",
       "      <th>21</th>\n",
       "      <td>www.carlazambelli.com.br</td>\n",
       "      <td>10</td>\n",
       "      <td>0.01</td>\n",
       "    </tr>\n",
       "    <tr>\n",
       "      <th>22</th>\n",
       "      <td>noticias.r7.com/eleicoes-2022/…</td>\n",
       "      <td>10</td>\n",
       "      <td>0.01</td>\n",
       "    </tr>\n",
       "    <tr>\n",
       "      <th>23</th>\n",
       "      <td>www.amaurizanforlin.com.br</td>\n",
       "      <td>10</td>\n",
       "      <td>0.01</td>\n",
       "    </tr>\n",
       "    <tr>\n",
       "      <th>24</th>\n",
       "      <td>bit.ly/3yB06p7</td>\n",
       "      <td>9</td>\n",
       "      <td>0.01</td>\n",
       "    </tr>\n",
       "    <tr>\n",
       "      <th>25</th>\n",
       "      <td>www.ligadalealdade.com.br</td>\n",
       "      <td>9</td>\n",
       "      <td>0.01</td>\n",
       "    </tr>\n",
       "    <tr>\n",
       "      <th>26</th>\n",
       "      <td>veja.abril.com.br/coluna/radar/b…</td>\n",
       "      <td>9</td>\n",
       "      <td>0.01</td>\n",
       "    </tr>\n",
       "    <tr>\n",
       "      <th>27</th>\n",
       "      <td>poder360.com.br/congresso/saib…</td>\n",
       "      <td>8</td>\n",
       "      <td>0.01</td>\n",
       "    </tr>\n",
       "    <tr>\n",
       "      <th>28</th>\n",
       "      <td>valor.globo.com/politica/eleic…</td>\n",
       "      <td>8</td>\n",
       "      <td>0.01</td>\n",
       "    </tr>\n",
       "    <tr>\n",
       "      <th>29</th>\n",
       "      <td>www.telegram.me/joinchat/rQ6F7B3vftBiY2E0</td>\n",
       "      <td>8</td>\n",
       "      <td>0.01</td>\n",
       "    </tr>\n",
       "  </tbody>\n",
       "</table>\n",
       "</div>"
      ],
      "text/plain": [
       "                                              dominio  quantidade  percentagem\n",
       "0                                         youtube.com       68312        43.39\n",
       "1                                                   \u0002       55182        35.05\n",
       "2                                                t.me       21377        13.58\n",
       "3                                       instagram.com        6671         4.24\n",
       "4                                         twitter.com        4863         3.09\n",
       "5                               www.ceifadores.com.br          77         0.05\n",
       "6               www.marketingdigitalparavencer.com.br          73         0.05\n",
       "7                       www.fiscaisdobolsonaro.com.br          48         0.03\n",
       "8                             brazilwasstolen.com/pt/          42         0.03\n",
       "9                              www.starday.com.br/crp          39         0.02\n",
       "10              Telegram.me/joinchat/omsNspWKN4dkNjk0          32         0.02\n",
       "11                              www.starday.com.br/xx          19         0.01\n",
       "12                                  www.pvdeus.com.br          17         0.01\n",
       "13                                       is.gd/qu1FoK          15         0.01\n",
       "14                        linktr.ee/PatriaAmadaBrasil          15         0.01\n",
       "15                                       is.gd/DRAD9d          12         0.01\n",
       "16  www12.senado.leg.br/radio/1/noticia/2022/08/15...          12         0.01\n",
       "17                          pt.org.br/blog-secretari…          12         0.01\n",
       "18              telegram.me/joinchat/18_vJXqRmV82OTA8          11         0.01\n",
       "19                   revistaoeste.com/politica/eleic…          10         0.01\n",
       "20                              www.felipefolgosi.com          10         0.01\n",
       "21                           www.carlazambelli.com.br          10         0.01\n",
       "22                    noticias.r7.com/eleicoes-2022/…          10         0.01\n",
       "23                         www.amaurizanforlin.com.br          10         0.01\n",
       "24                                     bit.ly/3yB06p7           9         0.01\n",
       "25                          www.ligadalealdade.com.br           9         0.01\n",
       "26                  veja.abril.com.br/coluna/radar/b…           9         0.01\n",
       "27                    poder360.com.br/congresso/saib…           8         0.01\n",
       "28                    valor.globo.com/politica/eleic…           8         0.01\n",
       "29          www.telegram.me/joinchat/rQ6F7B3vftBiY2E0           8         0.01"
      ]
     },
     "metadata": {},
     "output_type": "display_data"
    }
   ],
   "source": [
    "dominios_mais_compartilhados_update = conn.execute(\"\"\"\n",
    "   WITH dominios_unificados AS (\n",
    "    SELECT\n",
    "        CASE\n",
    "            -- Unifica variações do YouTube\n",
    "            WHEN LOWER(media_url) LIKE '%youtube.com%' OR LOWER(media_url) LIKE '%youtu.be%' \n",
    "            THEN 'youtube.com'\n",
    "            \n",
    "            -- Unifica variações do Telegram\n",
    "            WHEN LOWER(media_url) LIKE '%t.me%' OR LOWER(media_url) LIKE '%T.me%'\n",
    "            THEN 't.me'\n",
    "            \n",
    "            -- Unifica variações do Instagram\n",
    "            WHEN LOWER(media_url) LIKE '%instagram.com%' \n",
    "            THEN 'instagram.com'\n",
    "            \n",
    "            -- Unifica variações do Twitter\n",
    "            WHEN LOWER(media_url) LIKE '%twitter.com%' OR LOWER(media_url) LIKE '%x.com%' \n",
    "            THEN 'twitter.com'\n",
    "            \n",
    "            -- Remove 'www.' e outros subdomínios para casos gerais\n",
    "            WHEN media_url LIKE 'http://%' OR media_url LIKE 'https://%' \n",
    "            THEN REGEXP_REPLACE(\n",
    "                REGEXP_REPLACE(media_url, '^https?://(www\\.)?([^/]+).*', '\\2'),\n",
    "                '^([^.]+\\.)?([a-z-]+\\.[a-z]{2,6})$', '\\2'\n",
    "            )\n",
    "            \n",
    "            ELSE media_url\n",
    "        END AS dominio_unificado,\n",
    "        media_url\n",
    "    FROM tabela_dados\n",
    "    WHERE media_url IS NOT NULL AND media_url != ''\n",
    "    )\n",
    "    SELECT\n",
    "        dominio_unificado AS dominio,\n",
    "        COUNT(*) AS quantidade,\n",
    "        ROUND(COUNT(*) * 100.0 / (SELECT COUNT(*) FROM dominios_unificados), 2) AS percentagem\n",
    "    FROM dominios_unificados\n",
    "    GROUP BY dominio_unificado\n",
    "    ORDER BY quantidade DESC\n",
    "    LIMIT 30;                            \n",
    "\"\"\").fetchdf()\n",
    "\n",
    "display(dominios_mais_compartilhados_update)"
   ]
  },
  {
   "cell_type": "markdown",
   "id": "9c758809",
   "metadata": {},
   "source": [
    "---"
   ]
  },
  {
   "cell_type": "markdown",
   "id": "9692d3d4",
   "metadata": {},
   "source": [
    "#### **14**. Os 30 usuários mais ativos"
   ]
  },
  {
   "cell_type": "markdown",
   "id": "2f5c8521",
   "metadata": {},
   "source": [
    "Essa consulta foi construída para descobrir quem são os 30 usuários mais ativos com base no volume de mensagens que enviaram. Eu dividi a análise em duas partes principais usando uma Common Table Expression (CTE), que é esse bloco `WITH atividade_usuarios AS (...)`. Além disso, a coluna `id_member_anonymous` é fundamental nessa consulta — e em qualquer análise de comportamento de usuários — porque ela representa o identificador único de cada usuário, mesmo que de forma anônima.\n",
    "\n",
    "Essa consulta me dá um retrato bem completo dos usuários mais ativos da base, não só em volume, mas em variedade de atividade (dias, grupos, tipos de mídia). E ainda consigo comparar o peso de cada um no total com esse percentual."
   ]
  },
  {
   "cell_type": "code",
   "execution_count": 26,
   "id": "9ff55620",
   "metadata": {},
   "outputs": [
    {
     "data": {
      "application/vnd.microsoft.datawrangler.viewer.v0+json": {
       "columns": [
        {
         "name": "index",
         "rawType": "int64",
         "type": "integer"
        },
        {
         "name": "usuario",
         "rawType": "object",
         "type": "string"
        },
        {
         "name": "total_mensagens",
         "rawType": "int64",
         "type": "integer"
        },
        {
         "name": "grupos_ativos",
         "rawType": "int64",
         "type": "integer"
        },
        {
         "name": "dias_ativos",
         "rawType": "int64",
         "type": "integer"
        },
        {
         "name": "primeira_atividade",
         "rawType": "object",
         "type": "string"
        },
        {
         "name": "ultima_atividade",
         "rawType": "object",
         "type": "string"
        },
        {
         "name": "tipos_conteudo",
         "rawType": "int64",
         "type": "integer"
        },
        {
         "name": "midias_enviadas",
         "rawType": "float64",
         "type": "float"
        },
        {
         "name": "percentual_total",
         "rawType": "float64",
         "type": "float"
        },
        {
         "name": "ranking",
         "rawType": "int64",
         "type": "integer"
        }
       ],
       "conversionMethod": "pd.DataFrame",
       "ref": "30baad55-405e-4891-9356-235295b551ac",
       "rows": [
        [
         "0",
         "abe534d581ec6d552243d6955d3c3cd8",
         "12289",
         "8",
         "44",
         "2022-09-29 00:00:15",
         "2022-11-11 11:16:39",
         "1",
         "0.0",
         "5.25",
         "1"
        ],
        [
         "1",
         "1665e22b0f564cd46d343f7677014821",
         "5452",
         "14",
         "44",
         "2022-09-29 00:34:32",
         "2022-11-11 11:58:44",
         "2",
         "2972.0",
         "2.33",
         "2"
        ],
        [
         "2",
         "1ac091b8ed5c4e42383f1b4ff4cc9b2d",
         "5060",
         "2",
         "36",
         "2022-09-29 00:49:50",
         "2022-11-03 19:43:48",
         "5",
         "4632.0",
         "2.16",
         "3"
        ],
        [
         "3",
         "c743967449a387ad2c1c7e03b2c45b36",
         "3019",
         "1",
         "38",
         "2022-10-05 15:00:20",
         "2022-11-11 11:00:40",
         "2",
         "152.0",
         "1.29",
         "4"
        ],
        [
         "4",
         "e7998863ac2a40086657fab4a6b463c9",
         "1928",
         "2",
         "39",
         "2022-10-04 22:27:13",
         "2022-11-11 12:01:04",
         "5",
         "1498.0",
         "0.82",
         "5"
        ],
        [
         "5",
         "e8fd8fee8c39342d37993775da7756d5",
         "1706",
         "1",
         "43",
         "2022-09-29 11:11:51",
         "2022-11-10 22:53:26",
         "3",
         "1007.0",
         "0.73",
         "6"
        ],
        [
         "6",
         "2f4be6244ede15b46e8329a2c975be30",
         "1620",
         "2",
         "44",
         "2022-09-29 00:19:30",
         "2022-11-11 03:52:55",
         "3",
         "1489.0",
         "0.69",
         "7"
        ],
        [
         "7",
         "d49f81df0c75d1d72bee6c5b2d707da0",
         "1571",
         "2",
         "44",
         "2022-09-29 01:02:26",
         "2022-11-11 10:01:23",
         "1",
         "0.0",
         "0.67",
         "8"
        ],
        [
         "8",
         "4f7d493f0f6222d56e5b19a4f7c336cc",
         "1447",
         "8",
         "41",
         "2022-09-29 02:52:53",
         "2022-11-11 01:32:21",
         "4",
         "1359.0",
         "0.62",
         "9"
        ],
        [
         "9",
         "773b9bd5b02a2e96f9d732c29bfcb663",
         "1411",
         "1",
         "43",
         "2022-09-29 09:26:19",
         "2022-11-11 09:43:53",
         "3",
         "1167.0",
         "0.6",
         "10"
        ],
        [
         "10",
         "c052c859b42c5a1923c22f5a201de746",
         "1386",
         "3",
         "26",
         "2022-10-05 04:58:52",
         "2022-11-09 23:23:47",
         "5",
         "1289.0",
         "0.59",
         "11"
        ],
        [
         "11",
         "f233cf8b1d4ede06f32199a7e0081bf5",
         "1273",
         "2",
         "10",
         "2022-11-01 07:32:10",
         "2022-11-10 20:40:29",
         "6",
         "251.0",
         "0.54",
         "12"
        ],
        [
         "12",
         "56b8359fd127312651b80b8ed8030085",
         "1206",
         "1",
         "43",
         "2022-09-29 04:14:55",
         "2022-11-11 11:41:08",
         "5",
         "1079.0",
         "0.51",
         "13"
        ],
        [
         "13",
         "e5e3e38d433016adf62ea34432853a3c",
         "1095",
         "3",
         "43",
         "2022-09-29 01:44:33",
         "2022-11-11 00:30:40",
         "5",
         "734.0",
         "0.47",
         "14"
        ],
        [
         "14",
         "fa582c9e95da255e44f4c198d0daf3df",
         "1031",
         "1",
         "31",
         "2022-09-29 11:40:21",
         "2022-10-31 22:04:20",
         "4",
         "914.0",
         "0.44",
         "15"
        ],
        [
         "15",
         "3e49fd40fd973ee1b8f1a6d58feb4a54",
         "990",
         "1",
         "41",
         "2022-09-29 01:03:46",
         "2022-11-11 12:05:56",
         "3",
         "965.0",
         "0.42",
         "16"
        ],
        [
         "16",
         "cf061f911f3df59fca0b3f084abe88cc",
         "981",
         "4",
         "43",
         "2022-09-29 00:33:23",
         "2022-11-11 11:21:29",
         "5",
         "802.0",
         "0.42",
         "17"
        ],
        [
         "17",
         "f4561a21fb26cfbebf48dcd5c557f82f",
         "952",
         "1",
         "41",
         "2022-09-29 08:03:56",
         "2022-11-11 11:53:17",
         "5",
         "650.0",
         "0.41",
         "18"
        ],
        [
         "18",
         "40743c2ea5139af088057763ab069b1a",
         "949",
         "4",
         "15",
         "2022-10-14 05:19:19",
         "2022-11-11 09:37:56",
         "4",
         "758.0",
         "0.41",
         "19"
        ],
        [
         "19",
         "bd7859770eef94f34d0344a5397c5443",
         "944",
         "6",
         "43",
         "2022-09-29 19:15:46",
         "2022-11-11 01:26:17",
         "4",
         "717.0",
         "0.4",
         "20"
        ],
        [
         "20",
         "beb77036ff26e78865da19310ac95169",
         "897",
         "2",
         "31",
         "2022-09-29 00:18:42",
         "2022-10-30 00:53:03",
         "4",
         "797.0",
         "0.38",
         "21"
        ],
        [
         "21",
         "50cc2b20a3c2c24ce68bb2c0554ddae1",
         "852",
         "1",
         "32",
         "2022-09-29 11:25:26",
         "2022-11-02 00:00:30",
         "3",
         "801.0",
         "0.36",
         "22"
        ],
        [
         "22",
         "fbbbfb737acb18812f7de2400841abc3",
         "847",
         "6",
         "14",
         "2022-09-30 15:17:23",
         "2022-10-13 16:42:03",
         "3",
         "605.0",
         "0.36",
         "23"
        ],
        [
         "23",
         "79fa510c3ab44548d903284ab9162c9d",
         "833",
         "1",
         "35",
         "2022-09-29 03:57:43",
         "2022-11-02 01:42:22",
         "6",
         "704.0",
         "0.36",
         "24"
        ],
        [
         "24",
         "566ba5c5eeeac2fc18b65965c3909a1f",
         "787",
         "1",
         "35",
         "2022-09-29 00:45:35",
         "2022-11-02 10:03:18",
         "4",
         "495.0",
         "0.34",
         "25"
        ],
        [
         "25",
         "27f5833380581fab3453c1acd26427d5",
         "750",
         "2",
         "43",
         "2022-09-29 02:13:42",
         "2022-11-11 00:12:06",
         "3",
         "420.0",
         "0.32",
         "26"
        ],
        [
         "26",
         "22da7e558d613074dc701f8a40bc955b",
         "735",
         "5",
         "33",
         "2022-09-29 00:16:25",
         "2022-11-02 10:24:58",
         "5",
         "672.0",
         "0.31",
         "27"
        ],
        [
         "27",
         "74ce4ba0ef6c0d51e6a508b0bb2d37b8",
         "730",
         "2",
         "36",
         "2022-09-29 00:16:45",
         "2022-11-05 13:12:10",
         "4",
         "615.0",
         "0.31",
         "28"
        ],
        [
         "28",
         "a378e9743fa3ca297df321cfa0e7cf6a",
         "714",
         "1",
         "32",
         "2022-09-29 22:10:25",
         "2022-11-09 03:06:21",
         "3",
         "116.0",
         "0.3",
         "29"
        ],
        [
         "29",
         "cb68fd028cfdfc837248144a18673ffb",
         "714",
         "1",
         "11",
         "2022-10-06 10:21:25",
         "2022-10-28 16:23:32",
         "4",
         "621.0",
         "0.3",
         "29"
        ]
       ],
       "shape": {
        "columns": 10,
        "rows": 30
       }
      },
      "text/html": [
       "<div>\n",
       "<style scoped>\n",
       "    .dataframe tbody tr th:only-of-type {\n",
       "        vertical-align: middle;\n",
       "    }\n",
       "\n",
       "    .dataframe tbody tr th {\n",
       "        vertical-align: top;\n",
       "    }\n",
       "\n",
       "    .dataframe thead th {\n",
       "        text-align: right;\n",
       "    }\n",
       "</style>\n",
       "<table border=\"1\" class=\"dataframe\">\n",
       "  <thead>\n",
       "    <tr style=\"text-align: right;\">\n",
       "      <th></th>\n",
       "      <th>usuario</th>\n",
       "      <th>total_mensagens</th>\n",
       "      <th>grupos_ativos</th>\n",
       "      <th>dias_ativos</th>\n",
       "      <th>primeira_atividade</th>\n",
       "      <th>ultima_atividade</th>\n",
       "      <th>tipos_conteudo</th>\n",
       "      <th>midias_enviadas</th>\n",
       "      <th>percentual_total</th>\n",
       "      <th>ranking</th>\n",
       "    </tr>\n",
       "  </thead>\n",
       "  <tbody>\n",
       "    <tr>\n",
       "      <th>0</th>\n",
       "      <td>abe534d581ec6d552243d6955d3c3cd8</td>\n",
       "      <td>12289</td>\n",
       "      <td>8</td>\n",
       "      <td>44</td>\n",
       "      <td>2022-09-29 00:00:15</td>\n",
       "      <td>2022-11-11 11:16:39</td>\n",
       "      <td>1</td>\n",
       "      <td>0.0</td>\n",
       "      <td>5.25</td>\n",
       "      <td>1</td>\n",
       "    </tr>\n",
       "    <tr>\n",
       "      <th>1</th>\n",
       "      <td>1665e22b0f564cd46d343f7677014821</td>\n",
       "      <td>5452</td>\n",
       "      <td>14</td>\n",
       "      <td>44</td>\n",
       "      <td>2022-09-29 00:34:32</td>\n",
       "      <td>2022-11-11 11:58:44</td>\n",
       "      <td>2</td>\n",
       "      <td>2972.0</td>\n",
       "      <td>2.33</td>\n",
       "      <td>2</td>\n",
       "    </tr>\n",
       "    <tr>\n",
       "      <th>2</th>\n",
       "      <td>1ac091b8ed5c4e42383f1b4ff4cc9b2d</td>\n",
       "      <td>5060</td>\n",
       "      <td>2</td>\n",
       "      <td>36</td>\n",
       "      <td>2022-09-29 00:49:50</td>\n",
       "      <td>2022-11-03 19:43:48</td>\n",
       "      <td>5</td>\n",
       "      <td>4632.0</td>\n",
       "      <td>2.16</td>\n",
       "      <td>3</td>\n",
       "    </tr>\n",
       "    <tr>\n",
       "      <th>3</th>\n",
       "      <td>c743967449a387ad2c1c7e03b2c45b36</td>\n",
       "      <td>3019</td>\n",
       "      <td>1</td>\n",
       "      <td>38</td>\n",
       "      <td>2022-10-05 15:00:20</td>\n",
       "      <td>2022-11-11 11:00:40</td>\n",
       "      <td>2</td>\n",
       "      <td>152.0</td>\n",
       "      <td>1.29</td>\n",
       "      <td>4</td>\n",
       "    </tr>\n",
       "    <tr>\n",
       "      <th>4</th>\n",
       "      <td>e7998863ac2a40086657fab4a6b463c9</td>\n",
       "      <td>1928</td>\n",
       "      <td>2</td>\n",
       "      <td>39</td>\n",
       "      <td>2022-10-04 22:27:13</td>\n",
       "      <td>2022-11-11 12:01:04</td>\n",
       "      <td>5</td>\n",
       "      <td>1498.0</td>\n",
       "      <td>0.82</td>\n",
       "      <td>5</td>\n",
       "    </tr>\n",
       "    <tr>\n",
       "      <th>5</th>\n",
       "      <td>e8fd8fee8c39342d37993775da7756d5</td>\n",
       "      <td>1706</td>\n",
       "      <td>1</td>\n",
       "      <td>43</td>\n",
       "      <td>2022-09-29 11:11:51</td>\n",
       "      <td>2022-11-10 22:53:26</td>\n",
       "      <td>3</td>\n",
       "      <td>1007.0</td>\n",
       "      <td>0.73</td>\n",
       "      <td>6</td>\n",
       "    </tr>\n",
       "    <tr>\n",
       "      <th>6</th>\n",
       "      <td>2f4be6244ede15b46e8329a2c975be30</td>\n",
       "      <td>1620</td>\n",
       "      <td>2</td>\n",
       "      <td>44</td>\n",
       "      <td>2022-09-29 00:19:30</td>\n",
       "      <td>2022-11-11 03:52:55</td>\n",
       "      <td>3</td>\n",
       "      <td>1489.0</td>\n",
       "      <td>0.69</td>\n",
       "      <td>7</td>\n",
       "    </tr>\n",
       "    <tr>\n",
       "      <th>7</th>\n",
       "      <td>d49f81df0c75d1d72bee6c5b2d707da0</td>\n",
       "      <td>1571</td>\n",
       "      <td>2</td>\n",
       "      <td>44</td>\n",
       "      <td>2022-09-29 01:02:26</td>\n",
       "      <td>2022-11-11 10:01:23</td>\n",
       "      <td>1</td>\n",
       "      <td>0.0</td>\n",
       "      <td>0.67</td>\n",
       "      <td>8</td>\n",
       "    </tr>\n",
       "    <tr>\n",
       "      <th>8</th>\n",
       "      <td>4f7d493f0f6222d56e5b19a4f7c336cc</td>\n",
       "      <td>1447</td>\n",
       "      <td>8</td>\n",
       "      <td>41</td>\n",
       "      <td>2022-09-29 02:52:53</td>\n",
       "      <td>2022-11-11 01:32:21</td>\n",
       "      <td>4</td>\n",
       "      <td>1359.0</td>\n",
       "      <td>0.62</td>\n",
       "      <td>9</td>\n",
       "    </tr>\n",
       "    <tr>\n",
       "      <th>9</th>\n",
       "      <td>773b9bd5b02a2e96f9d732c29bfcb663</td>\n",
       "      <td>1411</td>\n",
       "      <td>1</td>\n",
       "      <td>43</td>\n",
       "      <td>2022-09-29 09:26:19</td>\n",
       "      <td>2022-11-11 09:43:53</td>\n",
       "      <td>3</td>\n",
       "      <td>1167.0</td>\n",
       "      <td>0.60</td>\n",
       "      <td>10</td>\n",
       "    </tr>\n",
       "    <tr>\n",
       "      <th>10</th>\n",
       "      <td>c052c859b42c5a1923c22f5a201de746</td>\n",
       "      <td>1386</td>\n",
       "      <td>3</td>\n",
       "      <td>26</td>\n",
       "      <td>2022-10-05 04:58:52</td>\n",
       "      <td>2022-11-09 23:23:47</td>\n",
       "      <td>5</td>\n",
       "      <td>1289.0</td>\n",
       "      <td>0.59</td>\n",
       "      <td>11</td>\n",
       "    </tr>\n",
       "    <tr>\n",
       "      <th>11</th>\n",
       "      <td>f233cf8b1d4ede06f32199a7e0081bf5</td>\n",
       "      <td>1273</td>\n",
       "      <td>2</td>\n",
       "      <td>10</td>\n",
       "      <td>2022-11-01 07:32:10</td>\n",
       "      <td>2022-11-10 20:40:29</td>\n",
       "      <td>6</td>\n",
       "      <td>251.0</td>\n",
       "      <td>0.54</td>\n",
       "      <td>12</td>\n",
       "    </tr>\n",
       "    <tr>\n",
       "      <th>12</th>\n",
       "      <td>56b8359fd127312651b80b8ed8030085</td>\n",
       "      <td>1206</td>\n",
       "      <td>1</td>\n",
       "      <td>43</td>\n",
       "      <td>2022-09-29 04:14:55</td>\n",
       "      <td>2022-11-11 11:41:08</td>\n",
       "      <td>5</td>\n",
       "      <td>1079.0</td>\n",
       "      <td>0.51</td>\n",
       "      <td>13</td>\n",
       "    </tr>\n",
       "    <tr>\n",
       "      <th>13</th>\n",
       "      <td>e5e3e38d433016adf62ea34432853a3c</td>\n",
       "      <td>1095</td>\n",
       "      <td>3</td>\n",
       "      <td>43</td>\n",
       "      <td>2022-09-29 01:44:33</td>\n",
       "      <td>2022-11-11 00:30:40</td>\n",
       "      <td>5</td>\n",
       "      <td>734.0</td>\n",
       "      <td>0.47</td>\n",
       "      <td>14</td>\n",
       "    </tr>\n",
       "    <tr>\n",
       "      <th>14</th>\n",
       "      <td>fa582c9e95da255e44f4c198d0daf3df</td>\n",
       "      <td>1031</td>\n",
       "      <td>1</td>\n",
       "      <td>31</td>\n",
       "      <td>2022-09-29 11:40:21</td>\n",
       "      <td>2022-10-31 22:04:20</td>\n",
       "      <td>4</td>\n",
       "      <td>914.0</td>\n",
       "      <td>0.44</td>\n",
       "      <td>15</td>\n",
       "    </tr>\n",
       "    <tr>\n",
       "      <th>15</th>\n",
       "      <td>3e49fd40fd973ee1b8f1a6d58feb4a54</td>\n",
       "      <td>990</td>\n",
       "      <td>1</td>\n",
       "      <td>41</td>\n",
       "      <td>2022-09-29 01:03:46</td>\n",
       "      <td>2022-11-11 12:05:56</td>\n",
       "      <td>3</td>\n",
       "      <td>965.0</td>\n",
       "      <td>0.42</td>\n",
       "      <td>16</td>\n",
       "    </tr>\n",
       "    <tr>\n",
       "      <th>16</th>\n",
       "      <td>cf061f911f3df59fca0b3f084abe88cc</td>\n",
       "      <td>981</td>\n",
       "      <td>4</td>\n",
       "      <td>43</td>\n",
       "      <td>2022-09-29 00:33:23</td>\n",
       "      <td>2022-11-11 11:21:29</td>\n",
       "      <td>5</td>\n",
       "      <td>802.0</td>\n",
       "      <td>0.42</td>\n",
       "      <td>17</td>\n",
       "    </tr>\n",
       "    <tr>\n",
       "      <th>17</th>\n",
       "      <td>f4561a21fb26cfbebf48dcd5c557f82f</td>\n",
       "      <td>952</td>\n",
       "      <td>1</td>\n",
       "      <td>41</td>\n",
       "      <td>2022-09-29 08:03:56</td>\n",
       "      <td>2022-11-11 11:53:17</td>\n",
       "      <td>5</td>\n",
       "      <td>650.0</td>\n",
       "      <td>0.41</td>\n",
       "      <td>18</td>\n",
       "    </tr>\n",
       "    <tr>\n",
       "      <th>18</th>\n",
       "      <td>40743c2ea5139af088057763ab069b1a</td>\n",
       "      <td>949</td>\n",
       "      <td>4</td>\n",
       "      <td>15</td>\n",
       "      <td>2022-10-14 05:19:19</td>\n",
       "      <td>2022-11-11 09:37:56</td>\n",
       "      <td>4</td>\n",
       "      <td>758.0</td>\n",
       "      <td>0.41</td>\n",
       "      <td>19</td>\n",
       "    </tr>\n",
       "    <tr>\n",
       "      <th>19</th>\n",
       "      <td>bd7859770eef94f34d0344a5397c5443</td>\n",
       "      <td>944</td>\n",
       "      <td>6</td>\n",
       "      <td>43</td>\n",
       "      <td>2022-09-29 19:15:46</td>\n",
       "      <td>2022-11-11 01:26:17</td>\n",
       "      <td>4</td>\n",
       "      <td>717.0</td>\n",
       "      <td>0.40</td>\n",
       "      <td>20</td>\n",
       "    </tr>\n",
       "    <tr>\n",
       "      <th>20</th>\n",
       "      <td>beb77036ff26e78865da19310ac95169</td>\n",
       "      <td>897</td>\n",
       "      <td>2</td>\n",
       "      <td>31</td>\n",
       "      <td>2022-09-29 00:18:42</td>\n",
       "      <td>2022-10-30 00:53:03</td>\n",
       "      <td>4</td>\n",
       "      <td>797.0</td>\n",
       "      <td>0.38</td>\n",
       "      <td>21</td>\n",
       "    </tr>\n",
       "    <tr>\n",
       "      <th>21</th>\n",
       "      <td>50cc2b20a3c2c24ce68bb2c0554ddae1</td>\n",
       "      <td>852</td>\n",
       "      <td>1</td>\n",
       "      <td>32</td>\n",
       "      <td>2022-09-29 11:25:26</td>\n",
       "      <td>2022-11-02 00:00:30</td>\n",
       "      <td>3</td>\n",
       "      <td>801.0</td>\n",
       "      <td>0.36</td>\n",
       "      <td>22</td>\n",
       "    </tr>\n",
       "    <tr>\n",
       "      <th>22</th>\n",
       "      <td>fbbbfb737acb18812f7de2400841abc3</td>\n",
       "      <td>847</td>\n",
       "      <td>6</td>\n",
       "      <td>14</td>\n",
       "      <td>2022-09-30 15:17:23</td>\n",
       "      <td>2022-10-13 16:42:03</td>\n",
       "      <td>3</td>\n",
       "      <td>605.0</td>\n",
       "      <td>0.36</td>\n",
       "      <td>23</td>\n",
       "    </tr>\n",
       "    <tr>\n",
       "      <th>23</th>\n",
       "      <td>79fa510c3ab44548d903284ab9162c9d</td>\n",
       "      <td>833</td>\n",
       "      <td>1</td>\n",
       "      <td>35</td>\n",
       "      <td>2022-09-29 03:57:43</td>\n",
       "      <td>2022-11-02 01:42:22</td>\n",
       "      <td>6</td>\n",
       "      <td>704.0</td>\n",
       "      <td>0.36</td>\n",
       "      <td>24</td>\n",
       "    </tr>\n",
       "    <tr>\n",
       "      <th>24</th>\n",
       "      <td>566ba5c5eeeac2fc18b65965c3909a1f</td>\n",
       "      <td>787</td>\n",
       "      <td>1</td>\n",
       "      <td>35</td>\n",
       "      <td>2022-09-29 00:45:35</td>\n",
       "      <td>2022-11-02 10:03:18</td>\n",
       "      <td>4</td>\n",
       "      <td>495.0</td>\n",
       "      <td>0.34</td>\n",
       "      <td>25</td>\n",
       "    </tr>\n",
       "    <tr>\n",
       "      <th>25</th>\n",
       "      <td>27f5833380581fab3453c1acd26427d5</td>\n",
       "      <td>750</td>\n",
       "      <td>2</td>\n",
       "      <td>43</td>\n",
       "      <td>2022-09-29 02:13:42</td>\n",
       "      <td>2022-11-11 00:12:06</td>\n",
       "      <td>3</td>\n",
       "      <td>420.0</td>\n",
       "      <td>0.32</td>\n",
       "      <td>26</td>\n",
       "    </tr>\n",
       "    <tr>\n",
       "      <th>26</th>\n",
       "      <td>22da7e558d613074dc701f8a40bc955b</td>\n",
       "      <td>735</td>\n",
       "      <td>5</td>\n",
       "      <td>33</td>\n",
       "      <td>2022-09-29 00:16:25</td>\n",
       "      <td>2022-11-02 10:24:58</td>\n",
       "      <td>5</td>\n",
       "      <td>672.0</td>\n",
       "      <td>0.31</td>\n",
       "      <td>27</td>\n",
       "    </tr>\n",
       "    <tr>\n",
       "      <th>27</th>\n",
       "      <td>74ce4ba0ef6c0d51e6a508b0bb2d37b8</td>\n",
       "      <td>730</td>\n",
       "      <td>2</td>\n",
       "      <td>36</td>\n",
       "      <td>2022-09-29 00:16:45</td>\n",
       "      <td>2022-11-05 13:12:10</td>\n",
       "      <td>4</td>\n",
       "      <td>615.0</td>\n",
       "      <td>0.31</td>\n",
       "      <td>28</td>\n",
       "    </tr>\n",
       "    <tr>\n",
       "      <th>28</th>\n",
       "      <td>a378e9743fa3ca297df321cfa0e7cf6a</td>\n",
       "      <td>714</td>\n",
       "      <td>1</td>\n",
       "      <td>32</td>\n",
       "      <td>2022-09-29 22:10:25</td>\n",
       "      <td>2022-11-09 03:06:21</td>\n",
       "      <td>3</td>\n",
       "      <td>116.0</td>\n",
       "      <td>0.30</td>\n",
       "      <td>29</td>\n",
       "    </tr>\n",
       "    <tr>\n",
       "      <th>29</th>\n",
       "      <td>cb68fd028cfdfc837248144a18673ffb</td>\n",
       "      <td>714</td>\n",
       "      <td>1</td>\n",
       "      <td>11</td>\n",
       "      <td>2022-10-06 10:21:25</td>\n",
       "      <td>2022-10-28 16:23:32</td>\n",
       "      <td>4</td>\n",
       "      <td>621.0</td>\n",
       "      <td>0.30</td>\n",
       "      <td>29</td>\n",
       "    </tr>\n",
       "  </tbody>\n",
       "</table>\n",
       "</div>"
      ],
      "text/plain": [
       "                             usuario  total_mensagens  grupos_ativos  \\\n",
       "0   abe534d581ec6d552243d6955d3c3cd8            12289              8   \n",
       "1   1665e22b0f564cd46d343f7677014821             5452             14   \n",
       "2   1ac091b8ed5c4e42383f1b4ff4cc9b2d             5060              2   \n",
       "3   c743967449a387ad2c1c7e03b2c45b36             3019              1   \n",
       "4   e7998863ac2a40086657fab4a6b463c9             1928              2   \n",
       "5   e8fd8fee8c39342d37993775da7756d5             1706              1   \n",
       "6   2f4be6244ede15b46e8329a2c975be30             1620              2   \n",
       "7   d49f81df0c75d1d72bee6c5b2d707da0             1571              2   \n",
       "8   4f7d493f0f6222d56e5b19a4f7c336cc             1447              8   \n",
       "9   773b9bd5b02a2e96f9d732c29bfcb663             1411              1   \n",
       "10  c052c859b42c5a1923c22f5a201de746             1386              3   \n",
       "11  f233cf8b1d4ede06f32199a7e0081bf5             1273              2   \n",
       "12  56b8359fd127312651b80b8ed8030085             1206              1   \n",
       "13  e5e3e38d433016adf62ea34432853a3c             1095              3   \n",
       "14  fa582c9e95da255e44f4c198d0daf3df             1031              1   \n",
       "15  3e49fd40fd973ee1b8f1a6d58feb4a54              990              1   \n",
       "16  cf061f911f3df59fca0b3f084abe88cc              981              4   \n",
       "17  f4561a21fb26cfbebf48dcd5c557f82f              952              1   \n",
       "18  40743c2ea5139af088057763ab069b1a              949              4   \n",
       "19  bd7859770eef94f34d0344a5397c5443              944              6   \n",
       "20  beb77036ff26e78865da19310ac95169              897              2   \n",
       "21  50cc2b20a3c2c24ce68bb2c0554ddae1              852              1   \n",
       "22  fbbbfb737acb18812f7de2400841abc3              847              6   \n",
       "23  79fa510c3ab44548d903284ab9162c9d              833              1   \n",
       "24  566ba5c5eeeac2fc18b65965c3909a1f              787              1   \n",
       "25  27f5833380581fab3453c1acd26427d5              750              2   \n",
       "26  22da7e558d613074dc701f8a40bc955b              735              5   \n",
       "27  74ce4ba0ef6c0d51e6a508b0bb2d37b8              730              2   \n",
       "28  a378e9743fa3ca297df321cfa0e7cf6a              714              1   \n",
       "29  cb68fd028cfdfc837248144a18673ffb              714              1   \n",
       "\n",
       "    dias_ativos   primeira_atividade     ultima_atividade  tipos_conteudo  \\\n",
       "0            44  2022-09-29 00:00:15  2022-11-11 11:16:39               1   \n",
       "1            44  2022-09-29 00:34:32  2022-11-11 11:58:44               2   \n",
       "2            36  2022-09-29 00:49:50  2022-11-03 19:43:48               5   \n",
       "3            38  2022-10-05 15:00:20  2022-11-11 11:00:40               2   \n",
       "4            39  2022-10-04 22:27:13  2022-11-11 12:01:04               5   \n",
       "5            43  2022-09-29 11:11:51  2022-11-10 22:53:26               3   \n",
       "6            44  2022-09-29 00:19:30  2022-11-11 03:52:55               3   \n",
       "7            44  2022-09-29 01:02:26  2022-11-11 10:01:23               1   \n",
       "8            41  2022-09-29 02:52:53  2022-11-11 01:32:21               4   \n",
       "9            43  2022-09-29 09:26:19  2022-11-11 09:43:53               3   \n",
       "10           26  2022-10-05 04:58:52  2022-11-09 23:23:47               5   \n",
       "11           10  2022-11-01 07:32:10  2022-11-10 20:40:29               6   \n",
       "12           43  2022-09-29 04:14:55  2022-11-11 11:41:08               5   \n",
       "13           43  2022-09-29 01:44:33  2022-11-11 00:30:40               5   \n",
       "14           31  2022-09-29 11:40:21  2022-10-31 22:04:20               4   \n",
       "15           41  2022-09-29 01:03:46  2022-11-11 12:05:56               3   \n",
       "16           43  2022-09-29 00:33:23  2022-11-11 11:21:29               5   \n",
       "17           41  2022-09-29 08:03:56  2022-11-11 11:53:17               5   \n",
       "18           15  2022-10-14 05:19:19  2022-11-11 09:37:56               4   \n",
       "19           43  2022-09-29 19:15:46  2022-11-11 01:26:17               4   \n",
       "20           31  2022-09-29 00:18:42  2022-10-30 00:53:03               4   \n",
       "21           32  2022-09-29 11:25:26  2022-11-02 00:00:30               3   \n",
       "22           14  2022-09-30 15:17:23  2022-10-13 16:42:03               3   \n",
       "23           35  2022-09-29 03:57:43  2022-11-02 01:42:22               6   \n",
       "24           35  2022-09-29 00:45:35  2022-11-02 10:03:18               4   \n",
       "25           43  2022-09-29 02:13:42  2022-11-11 00:12:06               3   \n",
       "26           33  2022-09-29 00:16:25  2022-11-02 10:24:58               5   \n",
       "27           36  2022-09-29 00:16:45  2022-11-05 13:12:10               4   \n",
       "28           32  2022-09-29 22:10:25  2022-11-09 03:06:21               3   \n",
       "29           11  2022-10-06 10:21:25  2022-10-28 16:23:32               4   \n",
       "\n",
       "    midias_enviadas  percentual_total  ranking  \n",
       "0               0.0              5.25        1  \n",
       "1            2972.0              2.33        2  \n",
       "2            4632.0              2.16        3  \n",
       "3             152.0              1.29        4  \n",
       "4            1498.0              0.82        5  \n",
       "5            1007.0              0.73        6  \n",
       "6            1489.0              0.69        7  \n",
       "7               0.0              0.67        8  \n",
       "8            1359.0              0.62        9  \n",
       "9            1167.0              0.60       10  \n",
       "10           1289.0              0.59       11  \n",
       "11            251.0              0.54       12  \n",
       "12           1079.0              0.51       13  \n",
       "13            734.0              0.47       14  \n",
       "14            914.0              0.44       15  \n",
       "15            965.0              0.42       16  \n",
       "16            802.0              0.42       17  \n",
       "17            650.0              0.41       18  \n",
       "18            758.0              0.41       19  \n",
       "19            717.0              0.40       20  \n",
       "20            797.0              0.38       21  \n",
       "21            801.0              0.36       22  \n",
       "22            605.0              0.36       23  \n",
       "23            704.0              0.36       24  \n",
       "24            495.0              0.34       25  \n",
       "25            420.0              0.32       26  \n",
       "26            672.0              0.31       27  \n",
       "27            615.0              0.31       28  \n",
       "28            116.0              0.30       29  \n",
       "29            621.0              0.30       29  "
      ]
     },
     "metadata": {},
     "output_type": "display_data"
    }
   ],
   "source": [
    "users_mais_ativos = conn.execute(\"\"\"\n",
    "    WITH atividade_usuarios AS (\n",
    "    SELECT\n",
    "        id_member_anonymous AS usuario,\n",
    "        COUNT(*) AS total_mensagens,\n",
    "        COUNT(DISTINCT id_group_anonymous) AS grupos_ativos,\n",
    "        COUNT(DISTINCT CAST(date_message AS DATE)) AS dias_ativos,\n",
    "        MIN(date_message) AS primeira_atividade,\n",
    "        MAX(date_message) AS ultima_atividade,\n",
    "        COUNT(DISTINCT message_type) AS tipos_conteudo,\n",
    "        SUM(CASE WHEN has_media = TRUE THEN 1 ELSE 0 END) AS midias_enviadas\n",
    "    FROM tabela_dados\n",
    "    WHERE id_member_anonymous IS NOT NULL\n",
    "    GROUP BY id_member_anonymous\n",
    "    )\n",
    "    SELECT\n",
    "        usuario,\n",
    "        total_mensagens,\n",
    "        grupos_ativos,\n",
    "        dias_ativos,\n",
    "        primeira_atividade,\n",
    "        ultima_atividade,\n",
    "        tipos_conteudo,\n",
    "        midias_enviadas,\n",
    "        ROUND(total_mensagens * 100.0 / (SELECT SUM(total_mensagens) FROM atividade_usuarios), 2) AS percentual_total,\n",
    "        RANK() OVER (ORDER BY total_mensagens DESC) AS ranking\n",
    "    FROM atividade_usuarios\n",
    "    ORDER BY total_mensagens DESC\n",
    "    LIMIT 30;\n",
    "\"\"\").fetchdf()\n",
    "\n",
    "display(users_mais_ativos)"
   ]
  },
  {
   "cell_type": "markdown",
   "id": "d22b3079",
   "metadata": {},
   "source": [
    "---"
   ]
  },
  {
   "cell_type": "markdown",
   "id": "0e0ebc53",
   "metadata": {},
   "source": [
    "#### **15**. Os 30 usuários que mais compartilharam texto"
   ]
  },
  {
   "cell_type": "markdown",
   "id": "74229310",
   "metadata": {},
   "source": [
    "Essa consulta conta quantas mensagens de texto puro cada usuário enviou, ignorando as que têm mídia. Usei `has_media = FALSE` pra garantir que são só textos, e também filtrei pra que o campo de texto não esteja vazio. Depois agrupei tudo por usuário e ordenei pra pegar os 30 que mais mandaram texto."
   ]
  },
  {
   "cell_type": "code",
   "execution_count": 27,
   "id": "2cf34ee3",
   "metadata": {},
   "outputs": [
    {
     "data": {
      "application/vnd.microsoft.datawrangler.viewer.v0+json": {
       "columns": [
        {
         "name": "index",
         "rawType": "int64",
         "type": "integer"
        },
        {
         "name": "usuario",
         "rawType": "object",
         "type": "string"
        },
        {
         "name": "total_textos",
         "rawType": "int64",
         "type": "integer"
        }
       ],
       "conversionMethod": "pd.DataFrame",
       "ref": "069356e5-6316-450f-938c-19c8d8bb2c07",
       "rows": [
        [
         "0",
         "abe534d581ec6d552243d6955d3c3cd8",
         "12289"
        ],
        [
         "1",
         "c743967449a387ad2c1c7e03b2c45b36",
         "2867"
        ],
        [
         "2",
         "1665e22b0f564cd46d343f7677014821",
         "2480"
        ],
        [
         "3",
         "d49f81df0c75d1d72bee6c5b2d707da0",
         "1571"
        ],
        [
         "4",
         "f233cf8b1d4ede06f32199a7e0081bf5",
         "1022"
        ],
        [
         "5",
         "e8fd8fee8c39342d37993775da7756d5",
         "699"
        ],
        [
         "6",
         "a378e9743fa3ca297df321cfa0e7cf6a",
         "598"
        ],
        [
         "7",
         "7696d5103cdb8ac352d748a1db1126b0",
         "560"
        ],
        [
         "8",
         "26b496125c8b6773bce453e14f172430",
         "502"
        ],
        [
         "9",
         "7d41f1a2df245b0cc870f546c2aead0b",
         "483"
        ],
        [
         "10",
         "b4ce87d44421ef3d2c4710051df5fe40",
         "478"
        ],
        [
         "11",
         "e7998863ac2a40086657fab4a6b463c9",
         "430"
        ],
        [
         "12",
         "1ac091b8ed5c4e42383f1b4ff4cc9b2d",
         "428"
        ],
        [
         "13",
         "22722eeb9ae4be8f45581e69eb707be4",
         "409"
        ],
        [
         "14",
         "a398999c55f8d6f0c65760522ae12e45",
         "402"
        ],
        [
         "15",
         "065039508ed6e276e5f092dd22eaef94",
         "373"
        ],
        [
         "16",
         "39ee10516124280a22f1798f2a41f9a7",
         "372"
        ],
        [
         "17",
         "e5e3e38d433016adf62ea34432853a3c",
         "361"
        ],
        [
         "18",
         "8e72a8fbc76263914ed485ab068396fd",
         "335"
        ],
        [
         "19",
         "8294d1400a9c3b268b23bb3047185101",
         "331"
        ],
        [
         "20",
         "27f5833380581fab3453c1acd26427d5",
         "330"
        ],
        [
         "21",
         "3bc8b1ec90f8f23e38a6d953e8faab61",
         "328"
        ],
        [
         "22",
         "f4561a21fb26cfbebf48dcd5c557f82f",
         "302"
        ],
        [
         "23",
         "7eeb43c85fe3d87c2de509828d213d80",
         "298"
        ],
        [
         "24",
         "566ba5c5eeeac2fc18b65965c3909a1f",
         "292"
        ],
        [
         "25",
         "2e08ae4c6ec1973e7ec515d3b0ba50d0",
         "265"
        ],
        [
         "26",
         "b97ba0dcff3661f08b46de507fa3d5f6",
         "258"
        ],
        [
         "27",
         "9b34f45b5f8af4c37ba9ec1ebe2e3606",
         "249"
        ],
        [
         "28",
         "4a498818da925377eff2606a260cfa45",
         "248"
        ],
        [
         "29",
         "773b9bd5b02a2e96f9d732c29bfcb663",
         "244"
        ]
       ],
       "shape": {
        "columns": 2,
        "rows": 30
       }
      },
      "text/html": [
       "<div>\n",
       "<style scoped>\n",
       "    .dataframe tbody tr th:only-of-type {\n",
       "        vertical-align: middle;\n",
       "    }\n",
       "\n",
       "    .dataframe tbody tr th {\n",
       "        vertical-align: top;\n",
       "    }\n",
       "\n",
       "    .dataframe thead th {\n",
       "        text-align: right;\n",
       "    }\n",
       "</style>\n",
       "<table border=\"1\" class=\"dataframe\">\n",
       "  <thead>\n",
       "    <tr style=\"text-align: right;\">\n",
       "      <th></th>\n",
       "      <th>usuario</th>\n",
       "      <th>total_textos</th>\n",
       "    </tr>\n",
       "  </thead>\n",
       "  <tbody>\n",
       "    <tr>\n",
       "      <th>0</th>\n",
       "      <td>abe534d581ec6d552243d6955d3c3cd8</td>\n",
       "      <td>12289</td>\n",
       "    </tr>\n",
       "    <tr>\n",
       "      <th>1</th>\n",
       "      <td>c743967449a387ad2c1c7e03b2c45b36</td>\n",
       "      <td>2867</td>\n",
       "    </tr>\n",
       "    <tr>\n",
       "      <th>2</th>\n",
       "      <td>1665e22b0f564cd46d343f7677014821</td>\n",
       "      <td>2480</td>\n",
       "    </tr>\n",
       "    <tr>\n",
       "      <th>3</th>\n",
       "      <td>d49f81df0c75d1d72bee6c5b2d707da0</td>\n",
       "      <td>1571</td>\n",
       "    </tr>\n",
       "    <tr>\n",
       "      <th>4</th>\n",
       "      <td>f233cf8b1d4ede06f32199a7e0081bf5</td>\n",
       "      <td>1022</td>\n",
       "    </tr>\n",
       "    <tr>\n",
       "      <th>5</th>\n",
       "      <td>e8fd8fee8c39342d37993775da7756d5</td>\n",
       "      <td>699</td>\n",
       "    </tr>\n",
       "    <tr>\n",
       "      <th>6</th>\n",
       "      <td>a378e9743fa3ca297df321cfa0e7cf6a</td>\n",
       "      <td>598</td>\n",
       "    </tr>\n",
       "    <tr>\n",
       "      <th>7</th>\n",
       "      <td>7696d5103cdb8ac352d748a1db1126b0</td>\n",
       "      <td>560</td>\n",
       "    </tr>\n",
       "    <tr>\n",
       "      <th>8</th>\n",
       "      <td>26b496125c8b6773bce453e14f172430</td>\n",
       "      <td>502</td>\n",
       "    </tr>\n",
       "    <tr>\n",
       "      <th>9</th>\n",
       "      <td>7d41f1a2df245b0cc870f546c2aead0b</td>\n",
       "      <td>483</td>\n",
       "    </tr>\n",
       "    <tr>\n",
       "      <th>10</th>\n",
       "      <td>b4ce87d44421ef3d2c4710051df5fe40</td>\n",
       "      <td>478</td>\n",
       "    </tr>\n",
       "    <tr>\n",
       "      <th>11</th>\n",
       "      <td>e7998863ac2a40086657fab4a6b463c9</td>\n",
       "      <td>430</td>\n",
       "    </tr>\n",
       "    <tr>\n",
       "      <th>12</th>\n",
       "      <td>1ac091b8ed5c4e42383f1b4ff4cc9b2d</td>\n",
       "      <td>428</td>\n",
       "    </tr>\n",
       "    <tr>\n",
       "      <th>13</th>\n",
       "      <td>22722eeb9ae4be8f45581e69eb707be4</td>\n",
       "      <td>409</td>\n",
       "    </tr>\n",
       "    <tr>\n",
       "      <th>14</th>\n",
       "      <td>a398999c55f8d6f0c65760522ae12e45</td>\n",
       "      <td>402</td>\n",
       "    </tr>\n",
       "    <tr>\n",
       "      <th>15</th>\n",
       "      <td>065039508ed6e276e5f092dd22eaef94</td>\n",
       "      <td>373</td>\n",
       "    </tr>\n",
       "    <tr>\n",
       "      <th>16</th>\n",
       "      <td>39ee10516124280a22f1798f2a41f9a7</td>\n",
       "      <td>372</td>\n",
       "    </tr>\n",
       "    <tr>\n",
       "      <th>17</th>\n",
       "      <td>e5e3e38d433016adf62ea34432853a3c</td>\n",
       "      <td>361</td>\n",
       "    </tr>\n",
       "    <tr>\n",
       "      <th>18</th>\n",
       "      <td>8e72a8fbc76263914ed485ab068396fd</td>\n",
       "      <td>335</td>\n",
       "    </tr>\n",
       "    <tr>\n",
       "      <th>19</th>\n",
       "      <td>8294d1400a9c3b268b23bb3047185101</td>\n",
       "      <td>331</td>\n",
       "    </tr>\n",
       "    <tr>\n",
       "      <th>20</th>\n",
       "      <td>27f5833380581fab3453c1acd26427d5</td>\n",
       "      <td>330</td>\n",
       "    </tr>\n",
       "    <tr>\n",
       "      <th>21</th>\n",
       "      <td>3bc8b1ec90f8f23e38a6d953e8faab61</td>\n",
       "      <td>328</td>\n",
       "    </tr>\n",
       "    <tr>\n",
       "      <th>22</th>\n",
       "      <td>f4561a21fb26cfbebf48dcd5c557f82f</td>\n",
       "      <td>302</td>\n",
       "    </tr>\n",
       "    <tr>\n",
       "      <th>23</th>\n",
       "      <td>7eeb43c85fe3d87c2de509828d213d80</td>\n",
       "      <td>298</td>\n",
       "    </tr>\n",
       "    <tr>\n",
       "      <th>24</th>\n",
       "      <td>566ba5c5eeeac2fc18b65965c3909a1f</td>\n",
       "      <td>292</td>\n",
       "    </tr>\n",
       "    <tr>\n",
       "      <th>25</th>\n",
       "      <td>2e08ae4c6ec1973e7ec515d3b0ba50d0</td>\n",
       "      <td>265</td>\n",
       "    </tr>\n",
       "    <tr>\n",
       "      <th>26</th>\n",
       "      <td>b97ba0dcff3661f08b46de507fa3d5f6</td>\n",
       "      <td>258</td>\n",
       "    </tr>\n",
       "    <tr>\n",
       "      <th>27</th>\n",
       "      <td>9b34f45b5f8af4c37ba9ec1ebe2e3606</td>\n",
       "      <td>249</td>\n",
       "    </tr>\n",
       "    <tr>\n",
       "      <th>28</th>\n",
       "      <td>4a498818da925377eff2606a260cfa45</td>\n",
       "      <td>248</td>\n",
       "    </tr>\n",
       "    <tr>\n",
       "      <th>29</th>\n",
       "      <td>773b9bd5b02a2e96f9d732c29bfcb663</td>\n",
       "      <td>244</td>\n",
       "    </tr>\n",
       "  </tbody>\n",
       "</table>\n",
       "</div>"
      ],
      "text/plain": [
       "                             usuario  total_textos\n",
       "0   abe534d581ec6d552243d6955d3c3cd8         12289\n",
       "1   c743967449a387ad2c1c7e03b2c45b36          2867\n",
       "2   1665e22b0f564cd46d343f7677014821          2480\n",
       "3   d49f81df0c75d1d72bee6c5b2d707da0          1571\n",
       "4   f233cf8b1d4ede06f32199a7e0081bf5          1022\n",
       "5   e8fd8fee8c39342d37993775da7756d5           699\n",
       "6   a378e9743fa3ca297df321cfa0e7cf6a           598\n",
       "7   7696d5103cdb8ac352d748a1db1126b0           560\n",
       "8   26b496125c8b6773bce453e14f172430           502\n",
       "9   7d41f1a2df245b0cc870f546c2aead0b           483\n",
       "10  b4ce87d44421ef3d2c4710051df5fe40           478\n",
       "11  e7998863ac2a40086657fab4a6b463c9           430\n",
       "12  1ac091b8ed5c4e42383f1b4ff4cc9b2d           428\n",
       "13  22722eeb9ae4be8f45581e69eb707be4           409\n",
       "14  a398999c55f8d6f0c65760522ae12e45           402\n",
       "15  065039508ed6e276e5f092dd22eaef94           373\n",
       "16  39ee10516124280a22f1798f2a41f9a7           372\n",
       "17  e5e3e38d433016adf62ea34432853a3c           361\n",
       "18  8e72a8fbc76263914ed485ab068396fd           335\n",
       "19  8294d1400a9c3b268b23bb3047185101           331\n",
       "20  27f5833380581fab3453c1acd26427d5           330\n",
       "21  3bc8b1ec90f8f23e38a6d953e8faab61           328\n",
       "22  f4561a21fb26cfbebf48dcd5c557f82f           302\n",
       "23  7eeb43c85fe3d87c2de509828d213d80           298\n",
       "24  566ba5c5eeeac2fc18b65965c3909a1f           292\n",
       "25  2e08ae4c6ec1973e7ec515d3b0ba50d0           265\n",
       "26  b97ba0dcff3661f08b46de507fa3d5f6           258\n",
       "27  9b34f45b5f8af4c37ba9ec1ebe2e3606           249\n",
       "28  4a498818da925377eff2606a260cfa45           248\n",
       "29  773b9bd5b02a2e96f9d732c29bfcb663           244"
      ]
     },
     "metadata": {},
     "output_type": "display_data"
    }
   ],
   "source": [
    "users_mais_texto = conn.execute(\"\"\"\n",
    "    SELECT\n",
    "    id_member_anonymous AS usuario,\n",
    "    COUNT(*) AS total_textos\n",
    "    FROM tabela_dados\n",
    "    WHERE\n",
    "        id_member_anonymous IS NOT NULL\n",
    "        AND has_media = FALSE\n",
    "        AND text_content_anonymous IS NOT NULL\n",
    "        AND TRIM(text_content_anonymous) <> ''\n",
    "    GROUP BY id_member_anonymous\n",
    "    ORDER BY total_textos DESC\n",
    "    LIMIT 30;            \n",
    "\"\"\").fetchdf()\n",
    "\n",
    "display(users_mais_texto)"
   ]
  },
  {
   "cell_type": "markdown",
   "id": "5c3b6b31",
   "metadata": {},
   "source": [
    "---"
   ]
  },
  {
   "cell_type": "markdown",
   "id": "afff6027",
   "metadata": {},
   "source": [
    "#### **16**. Os 30 usuários que mais compartilharam mídias"
   ]
  },
  {
   "cell_type": "markdown",
   "id": "727ca658",
   "metadata": {},
   "source": [
    "Aqui eu filtrei só as mensagens que têm mídia (`has_media = TRUE`) e agrupei por usuário. Depois contei quantas mídias cada um compartilhou, ordenei do maior pro menor e peguei os 30 mais ativos nesse tipo de conteúdo."
   ]
  },
  {
   "cell_type": "code",
   "execution_count": 28,
   "id": "f0c995ef",
   "metadata": {},
   "outputs": [
    {
     "data": {
      "application/vnd.microsoft.datawrangler.viewer.v0+json": {
       "columns": [
        {
         "name": "index",
         "rawType": "int64",
         "type": "integer"
        },
        {
         "name": "usuario",
         "rawType": "object",
         "type": "string"
        },
        {
         "name": "total_midias",
         "rawType": "int64",
         "type": "integer"
        }
       ],
       "conversionMethod": "pd.DataFrame",
       "ref": "39f1e5c8-22f5-4921-99ec-7d997426dc8a",
       "rows": [
        [
         "0",
         "1ac091b8ed5c4e42383f1b4ff4cc9b2d",
         "4632"
        ],
        [
         "1",
         "1665e22b0f564cd46d343f7677014821",
         "2972"
        ],
        [
         "2",
         "e7998863ac2a40086657fab4a6b463c9",
         "1498"
        ],
        [
         "3",
         "2f4be6244ede15b46e8329a2c975be30",
         "1489"
        ],
        [
         "4",
         "4f7d493f0f6222d56e5b19a4f7c336cc",
         "1359"
        ],
        [
         "5",
         "c052c859b42c5a1923c22f5a201de746",
         "1289"
        ],
        [
         "6",
         "773b9bd5b02a2e96f9d732c29bfcb663",
         "1167"
        ],
        [
         "7",
         "56b8359fd127312651b80b8ed8030085",
         "1079"
        ],
        [
         "8",
         "e8fd8fee8c39342d37993775da7756d5",
         "1007"
        ],
        [
         "9",
         "3e49fd40fd973ee1b8f1a6d58feb4a54",
         "965"
        ],
        [
         "10",
         "fa582c9e95da255e44f4c198d0daf3df",
         "914"
        ],
        [
         "11",
         "cf061f911f3df59fca0b3f084abe88cc",
         "802"
        ],
        [
         "12",
         "50cc2b20a3c2c24ce68bb2c0554ddae1",
         "801"
        ],
        [
         "13",
         "beb77036ff26e78865da19310ac95169",
         "797"
        ],
        [
         "14",
         "40743c2ea5139af088057763ab069b1a",
         "758"
        ],
        [
         "15",
         "e5e3e38d433016adf62ea34432853a3c",
         "734"
        ],
        [
         "16",
         "bd7859770eef94f34d0344a5397c5443",
         "717"
        ],
        [
         "17",
         "79fa510c3ab44548d903284ab9162c9d",
         "704"
        ],
        [
         "18",
         "22da7e558d613074dc701f8a40bc955b",
         "672"
        ],
        [
         "19",
         "c923ed78ee5cf2ecbd55ab500f19a5d4",
         "664"
        ],
        [
         "20",
         "f4561a21fb26cfbebf48dcd5c557f82f",
         "650"
        ],
        [
         "21",
         "aed9b55fd26f99a58a11c11fa2af80ef",
         "644"
        ],
        [
         "22",
         "cb68fd028cfdfc837248144a18673ffb",
         "621"
        ],
        [
         "23",
         "74ce4ba0ef6c0d51e6a508b0bb2d37b8",
         "615"
        ],
        [
         "24",
         "fbbbfb737acb18812f7de2400841abc3",
         "605"
        ],
        [
         "25",
         "51110a75091ae9ede718a0b434227368",
         "596"
        ],
        [
         "26",
         "cd6979b0b5265f08468fa1689b6300ce",
         "584"
        ],
        [
         "27",
         "38e1ca63cd9f9c6ad762d833bcb1b118",
         "580"
        ],
        [
         "28",
         "fb4a5f8c3319aa373d868e69589481f9",
         "570"
        ],
        [
         "29",
         "d36c39da7c9705400e5056e033363b65",
         "555"
        ]
       ],
       "shape": {
        "columns": 2,
        "rows": 30
       }
      },
      "text/html": [
       "<div>\n",
       "<style scoped>\n",
       "    .dataframe tbody tr th:only-of-type {\n",
       "        vertical-align: middle;\n",
       "    }\n",
       "\n",
       "    .dataframe tbody tr th {\n",
       "        vertical-align: top;\n",
       "    }\n",
       "\n",
       "    .dataframe thead th {\n",
       "        text-align: right;\n",
       "    }\n",
       "</style>\n",
       "<table border=\"1\" class=\"dataframe\">\n",
       "  <thead>\n",
       "    <tr style=\"text-align: right;\">\n",
       "      <th></th>\n",
       "      <th>usuario</th>\n",
       "      <th>total_midias</th>\n",
       "    </tr>\n",
       "  </thead>\n",
       "  <tbody>\n",
       "    <tr>\n",
       "      <th>0</th>\n",
       "      <td>1ac091b8ed5c4e42383f1b4ff4cc9b2d</td>\n",
       "      <td>4632</td>\n",
       "    </tr>\n",
       "    <tr>\n",
       "      <th>1</th>\n",
       "      <td>1665e22b0f564cd46d343f7677014821</td>\n",
       "      <td>2972</td>\n",
       "    </tr>\n",
       "    <tr>\n",
       "      <th>2</th>\n",
       "      <td>e7998863ac2a40086657fab4a6b463c9</td>\n",
       "      <td>1498</td>\n",
       "    </tr>\n",
       "    <tr>\n",
       "      <th>3</th>\n",
       "      <td>2f4be6244ede15b46e8329a2c975be30</td>\n",
       "      <td>1489</td>\n",
       "    </tr>\n",
       "    <tr>\n",
       "      <th>4</th>\n",
       "      <td>4f7d493f0f6222d56e5b19a4f7c336cc</td>\n",
       "      <td>1359</td>\n",
       "    </tr>\n",
       "    <tr>\n",
       "      <th>5</th>\n",
       "      <td>c052c859b42c5a1923c22f5a201de746</td>\n",
       "      <td>1289</td>\n",
       "    </tr>\n",
       "    <tr>\n",
       "      <th>6</th>\n",
       "      <td>773b9bd5b02a2e96f9d732c29bfcb663</td>\n",
       "      <td>1167</td>\n",
       "    </tr>\n",
       "    <tr>\n",
       "      <th>7</th>\n",
       "      <td>56b8359fd127312651b80b8ed8030085</td>\n",
       "      <td>1079</td>\n",
       "    </tr>\n",
       "    <tr>\n",
       "      <th>8</th>\n",
       "      <td>e8fd8fee8c39342d37993775da7756d5</td>\n",
       "      <td>1007</td>\n",
       "    </tr>\n",
       "    <tr>\n",
       "      <th>9</th>\n",
       "      <td>3e49fd40fd973ee1b8f1a6d58feb4a54</td>\n",
       "      <td>965</td>\n",
       "    </tr>\n",
       "    <tr>\n",
       "      <th>10</th>\n",
       "      <td>fa582c9e95da255e44f4c198d0daf3df</td>\n",
       "      <td>914</td>\n",
       "    </tr>\n",
       "    <tr>\n",
       "      <th>11</th>\n",
       "      <td>cf061f911f3df59fca0b3f084abe88cc</td>\n",
       "      <td>802</td>\n",
       "    </tr>\n",
       "    <tr>\n",
       "      <th>12</th>\n",
       "      <td>50cc2b20a3c2c24ce68bb2c0554ddae1</td>\n",
       "      <td>801</td>\n",
       "    </tr>\n",
       "    <tr>\n",
       "      <th>13</th>\n",
       "      <td>beb77036ff26e78865da19310ac95169</td>\n",
       "      <td>797</td>\n",
       "    </tr>\n",
       "    <tr>\n",
       "      <th>14</th>\n",
       "      <td>40743c2ea5139af088057763ab069b1a</td>\n",
       "      <td>758</td>\n",
       "    </tr>\n",
       "    <tr>\n",
       "      <th>15</th>\n",
       "      <td>e5e3e38d433016adf62ea34432853a3c</td>\n",
       "      <td>734</td>\n",
       "    </tr>\n",
       "    <tr>\n",
       "      <th>16</th>\n",
       "      <td>bd7859770eef94f34d0344a5397c5443</td>\n",
       "      <td>717</td>\n",
       "    </tr>\n",
       "    <tr>\n",
       "      <th>17</th>\n",
       "      <td>79fa510c3ab44548d903284ab9162c9d</td>\n",
       "      <td>704</td>\n",
       "    </tr>\n",
       "    <tr>\n",
       "      <th>18</th>\n",
       "      <td>22da7e558d613074dc701f8a40bc955b</td>\n",
       "      <td>672</td>\n",
       "    </tr>\n",
       "    <tr>\n",
       "      <th>19</th>\n",
       "      <td>c923ed78ee5cf2ecbd55ab500f19a5d4</td>\n",
       "      <td>664</td>\n",
       "    </tr>\n",
       "    <tr>\n",
       "      <th>20</th>\n",
       "      <td>f4561a21fb26cfbebf48dcd5c557f82f</td>\n",
       "      <td>650</td>\n",
       "    </tr>\n",
       "    <tr>\n",
       "      <th>21</th>\n",
       "      <td>aed9b55fd26f99a58a11c11fa2af80ef</td>\n",
       "      <td>644</td>\n",
       "    </tr>\n",
       "    <tr>\n",
       "      <th>22</th>\n",
       "      <td>cb68fd028cfdfc837248144a18673ffb</td>\n",
       "      <td>621</td>\n",
       "    </tr>\n",
       "    <tr>\n",
       "      <th>23</th>\n",
       "      <td>74ce4ba0ef6c0d51e6a508b0bb2d37b8</td>\n",
       "      <td>615</td>\n",
       "    </tr>\n",
       "    <tr>\n",
       "      <th>24</th>\n",
       "      <td>fbbbfb737acb18812f7de2400841abc3</td>\n",
       "      <td>605</td>\n",
       "    </tr>\n",
       "    <tr>\n",
       "      <th>25</th>\n",
       "      <td>51110a75091ae9ede718a0b434227368</td>\n",
       "      <td>596</td>\n",
       "    </tr>\n",
       "    <tr>\n",
       "      <th>26</th>\n",
       "      <td>cd6979b0b5265f08468fa1689b6300ce</td>\n",
       "      <td>584</td>\n",
       "    </tr>\n",
       "    <tr>\n",
       "      <th>27</th>\n",
       "      <td>38e1ca63cd9f9c6ad762d833bcb1b118</td>\n",
       "      <td>580</td>\n",
       "    </tr>\n",
       "    <tr>\n",
       "      <th>28</th>\n",
       "      <td>fb4a5f8c3319aa373d868e69589481f9</td>\n",
       "      <td>570</td>\n",
       "    </tr>\n",
       "    <tr>\n",
       "      <th>29</th>\n",
       "      <td>d36c39da7c9705400e5056e033363b65</td>\n",
       "      <td>555</td>\n",
       "    </tr>\n",
       "  </tbody>\n",
       "</table>\n",
       "</div>"
      ],
      "text/plain": [
       "                             usuario  total_midias\n",
       "0   1ac091b8ed5c4e42383f1b4ff4cc9b2d          4632\n",
       "1   1665e22b0f564cd46d343f7677014821          2972\n",
       "2   e7998863ac2a40086657fab4a6b463c9          1498\n",
       "3   2f4be6244ede15b46e8329a2c975be30          1489\n",
       "4   4f7d493f0f6222d56e5b19a4f7c336cc          1359\n",
       "5   c052c859b42c5a1923c22f5a201de746          1289\n",
       "6   773b9bd5b02a2e96f9d732c29bfcb663          1167\n",
       "7   56b8359fd127312651b80b8ed8030085          1079\n",
       "8   e8fd8fee8c39342d37993775da7756d5          1007\n",
       "9   3e49fd40fd973ee1b8f1a6d58feb4a54           965\n",
       "10  fa582c9e95da255e44f4c198d0daf3df           914\n",
       "11  cf061f911f3df59fca0b3f084abe88cc           802\n",
       "12  50cc2b20a3c2c24ce68bb2c0554ddae1           801\n",
       "13  beb77036ff26e78865da19310ac95169           797\n",
       "14  40743c2ea5139af088057763ab069b1a           758\n",
       "15  e5e3e38d433016adf62ea34432853a3c           734\n",
       "16  bd7859770eef94f34d0344a5397c5443           717\n",
       "17  79fa510c3ab44548d903284ab9162c9d           704\n",
       "18  22da7e558d613074dc701f8a40bc955b           672\n",
       "19  c923ed78ee5cf2ecbd55ab500f19a5d4           664\n",
       "20  f4561a21fb26cfbebf48dcd5c557f82f           650\n",
       "21  aed9b55fd26f99a58a11c11fa2af80ef           644\n",
       "22  cb68fd028cfdfc837248144a18673ffb           621\n",
       "23  74ce4ba0ef6c0d51e6a508b0bb2d37b8           615\n",
       "24  fbbbfb737acb18812f7de2400841abc3           605\n",
       "25  51110a75091ae9ede718a0b434227368           596\n",
       "26  cd6979b0b5265f08468fa1689b6300ce           584\n",
       "27  38e1ca63cd9f9c6ad762d833bcb1b118           580\n",
       "28  fb4a5f8c3319aa373d868e69589481f9           570\n",
       "29  d36c39da7c9705400e5056e033363b65           555"
      ]
     },
     "metadata": {},
     "output_type": "display_data"
    }
   ],
   "source": [
    "users_mais_midias = conn.execute(\"\"\"\n",
    "    SELECT\n",
    "    id_member_anonymous AS usuario,\n",
    "    COUNT(*) AS total_midias\n",
    "    FROM tabela_dados\n",
    "    WHERE\n",
    "        id_member_anonymous IS NOT NULL\n",
    "        AND has_media = TRUE\n",
    "    GROUP BY id_member_anonymous\n",
    "    ORDER BY total_midias DESC\n",
    "    LIMIT 30;            \n",
    "\"\"\").fetchdf()\n",
    "\n",
    "display(users_mais_midias)"
   ]
  },
  {
   "cell_type": "markdown",
   "id": "18ccff5e",
   "metadata": {},
   "source": [
    "---"
   ]
  },
  {
   "cell_type": "markdown",
   "id": "b2179787",
   "metadata": {},
   "source": [
    "#### **17**. As 30 mensagens mais compartilhadas"
   ]
  },
  {
   "cell_type": "markdown",
   "id": "c3197c61",
   "metadata": {},
   "source": [
    "Nessa consulta, agrupei as mensagens textuais que aparecem repetidas na base e contei quantas vezes cada uma foi compartilhada. Filtrei mensagens vazias ou nulas e ordenei pra ver quais conteúdos circularam mais vezes. O resultado mostra as 30 mensagens mais replicadas pelos usuários."
   ]
  },
  {
   "cell_type": "code",
   "execution_count": 29,
   "id": "901caa30",
   "metadata": {},
   "outputs": [
    {
     "data": {
      "application/vnd.microsoft.datawrangler.viewer.v0+json": {
       "columns": [
        {
         "name": "index",
         "rawType": "int64",
         "type": "integer"
        },
        {
         "name": "mensagem",
         "rawType": "object",
         "type": "string"
        },
        {
         "name": "total_compartilhamentos",
         "rawType": "int64",
         "type": "integer"
        }
       ],
       "conversionMethod": "pd.DataFrame",
       "ref": "0f27856e-f0ca-405d-af17-ca3b559dbf5f",
       "rows": [
        [
         "0",
         "This community was blocked in Brazil following a decision of the Superior Electoral Court (TSE).",
         "17422"
        ],
        [
         "1",
         "Rough_sex🙈",
         "1134"
        ],
        [
         "2",
         "Anal sex🙈",
         "1118"
        ],
        [
         "3",
         "سکس مردان ازبک با زن انگلیسی با این vpn از سایتهای ممنوعه ببینید🙈\n\nشاهد الرجال الأوزبكيين يمارسون الجنس مع النساء الإنجليزيات باستخدام VPN هذا من المواقع المحظورة🚫\n\nTaqiqlangan saytlardan bu vpn orqali o'zbek erkaklari ingliz ayollari bilan jinsiy aloqa qilishlarini ko'ring\n\nSee Uzbek men having sex with English women with this vpn from banned sites",
         "1019"
        ],
        [
         "4",
         "https://youtu.be/qbTzhB0akt8",
         "758"
        ],
        [
         "5",
         "https://youtu.be/zDuOoyhyN-4",
         "712"
        ],
        [
         "6",
         "فیلم سوپر با زیرنویس فارسی ببین😍😍\nبا این فیلترشکن میتونی هروقت دلت خواست فیلم سوپر ببینی😍\n\nAmerikalik ayolni arab erkaklari tomonidan zo'rlanganini ushbu vpn bilan tomosha qiling\nFaqat 18 yoshdan oshganlar\n\nWatch the rape of an American woman by Arab men with this vpn\nOnly people over 18 years old",
         "632"
        ],
        [
         "7",
         "Rough😱",
         "570"
        ],
        [
         "8",
         "Foto de Nélia Barros",
         "548"
        ],
        [
         "9",
         "We had no choice but to remain in the shadows.  \nThey intended to eliminate [us].  \nThey wish to destroy what they are unable to control. \nWe are ready to emerge from the shadows. THE TIME HAS COME! \n \nYou only have a few hours to join this channel before it goes private! After that, only those who are invited will be able to see what I have to [REVEAL] – tonight - midnight. \n \nYou have a choice. Take a look around! \n \n❗️ТYРЕ lN ЅЕАRСН ВАR: theQwakening17",
         "480"
        ],
        [
         "10",
         "Rough😨💦",
         "471"
        ],
        [
         "11",
         "https://t.me/canalselvabrasiloficial\nSELVA BRASIL OFICIAL 🇧🇷🇧🇷",
         "461"
        ],
        [
         "12",
         "Foto de Marcelo Rossi",
         "421"
        ],
        [
         "13",
         "HD (1080p) sex🙈",
         "418"
        ],
        [
         "14",
         "🇮🇷 سکس با دختر 14 ساله را در سایتهای پورن\nبیینید با این vpn 😍😍😍\n\n🇺🇸 Watch sex with a 14-year-old girl on 😱😱porn sites with this vpn\n\n🇹🇷 Ushbu vpn orqali porno saytlarda 14 yoshli qiz bilan jinsiy aloqani tomosha 🤩🤩qiling\n\n🇸🇦 شاهد الجنس مع فتاة تبلغ من العمر 14 عامًا على المواقع الإباحية باستخدام VPN هذا🥰",
         "400"
        ],
        [
         "15",
         "https://youtu.be/x2uiakywcrI",
         "395"
        ],
        [
         "16",
         "A.n.a.l🙈",
         "390"
        ],
        [
         "17",
         "Vídeo de Rosa",
         "384"
        ],
        [
         "18",
         "https://noticias.uol.com.br/politica/ultimas-noticias/2022/08/30/patrimonio-familia-jair-bolsonaro-dinheiro-vivo.htm",
         "378"
        ],
        [
         "19",
         "\"E conhecereis a verdade, e a verdade vos libertará.\"\nJoão 8:32\n\nSe inscreva em nosso CANAL e compartilhe a nossa RED PILL.\n\nCanal [USER]\nGrupo [USER]",
         "367"
        ],
        [
         "20",
         "Lesbian👩‍❤‍👩",
         "359"
        ],
        [
         "21",
         "Bem vindo(a) ao grupo Ipirá Notícias. \n\nCompartilhe nosso link. https://t.me/ipiranoticias",
         "358"
        ],
        [
         "22",
         "Vaginall sex🙈",
         "354"
        ],
        [
         "23",
         "https://youtu.be/4DHk9KZ01HM",
         "341"
        ],
        [
         "24",
         "https://youtu.be/wGpTY8GH568",
         "234"
        ],
        [
         "25",
         "Vaginal sex🙈",
         "233"
        ],
        [
         "26",
         "Foto de susy silva",
         "202"
        ],
        [
         "27",
         "https://youtu.be/u-ZGL90PfeI",
         "202"
        ],
        [
         "28",
         "Vídeo de AVANY FERREIRA MULLER",
         "195"
        ],
        [
         "29",
         "https://youtu.be/aJ7uw_d-dUI",
         "191"
        ]
       ],
       "shape": {
        "columns": 2,
        "rows": 30
       }
      },
      "text/html": [
       "<div>\n",
       "<style scoped>\n",
       "    .dataframe tbody tr th:only-of-type {\n",
       "        vertical-align: middle;\n",
       "    }\n",
       "\n",
       "    .dataframe tbody tr th {\n",
       "        vertical-align: top;\n",
       "    }\n",
       "\n",
       "    .dataframe thead th {\n",
       "        text-align: right;\n",
       "    }\n",
       "</style>\n",
       "<table border=\"1\" class=\"dataframe\">\n",
       "  <thead>\n",
       "    <tr style=\"text-align: right;\">\n",
       "      <th></th>\n",
       "      <th>mensagem</th>\n",
       "      <th>total_compartilhamentos</th>\n",
       "    </tr>\n",
       "  </thead>\n",
       "  <tbody>\n",
       "    <tr>\n",
       "      <th>0</th>\n",
       "      <td>This community was blocked in Brazil following...</td>\n",
       "      <td>17422</td>\n",
       "    </tr>\n",
       "    <tr>\n",
       "      <th>1</th>\n",
       "      <td>Rough_sex🙈</td>\n",
       "      <td>1134</td>\n",
       "    </tr>\n",
       "    <tr>\n",
       "      <th>2</th>\n",
       "      <td>Anal sex🙈</td>\n",
       "      <td>1118</td>\n",
       "    </tr>\n",
       "    <tr>\n",
       "      <th>3</th>\n",
       "      <td>سکس مردان ازبک با زن انگلیسی با این vpn از سای...</td>\n",
       "      <td>1019</td>\n",
       "    </tr>\n",
       "    <tr>\n",
       "      <th>4</th>\n",
       "      <td>https://youtu.be/qbTzhB0akt8</td>\n",
       "      <td>758</td>\n",
       "    </tr>\n",
       "    <tr>\n",
       "      <th>5</th>\n",
       "      <td>https://youtu.be/zDuOoyhyN-4</td>\n",
       "      <td>712</td>\n",
       "    </tr>\n",
       "    <tr>\n",
       "      <th>6</th>\n",
       "      <td>فیلم سوپر با زیرنویس فارسی ببین😍😍\\nبا این فیلت...</td>\n",
       "      <td>632</td>\n",
       "    </tr>\n",
       "    <tr>\n",
       "      <th>7</th>\n",
       "      <td>Rough😱</td>\n",
       "      <td>570</td>\n",
       "    </tr>\n",
       "    <tr>\n",
       "      <th>8</th>\n",
       "      <td>Foto de Nélia Barros</td>\n",
       "      <td>548</td>\n",
       "    </tr>\n",
       "    <tr>\n",
       "      <th>9</th>\n",
       "      <td>We had no choice but to remain in the shadows....</td>\n",
       "      <td>480</td>\n",
       "    </tr>\n",
       "    <tr>\n",
       "      <th>10</th>\n",
       "      <td>Rough😨💦</td>\n",
       "      <td>471</td>\n",
       "    </tr>\n",
       "    <tr>\n",
       "      <th>11</th>\n",
       "      <td>https://t.me/canalselvabrasiloficial\\nSELVA BR...</td>\n",
       "      <td>461</td>\n",
       "    </tr>\n",
       "    <tr>\n",
       "      <th>12</th>\n",
       "      <td>Foto de Marcelo Rossi</td>\n",
       "      <td>421</td>\n",
       "    </tr>\n",
       "    <tr>\n",
       "      <th>13</th>\n",
       "      <td>HD (1080p) sex🙈</td>\n",
       "      <td>418</td>\n",
       "    </tr>\n",
       "    <tr>\n",
       "      <th>14</th>\n",
       "      <td>🇮🇷 سکس با دختر 14 ساله را در سایتهای پورن\\nبیی...</td>\n",
       "      <td>400</td>\n",
       "    </tr>\n",
       "    <tr>\n",
       "      <th>15</th>\n",
       "      <td>https://youtu.be/x2uiakywcrI</td>\n",
       "      <td>395</td>\n",
       "    </tr>\n",
       "    <tr>\n",
       "      <th>16</th>\n",
       "      <td>A.n.a.l🙈</td>\n",
       "      <td>390</td>\n",
       "    </tr>\n",
       "    <tr>\n",
       "      <th>17</th>\n",
       "      <td>Vídeo de Rosa</td>\n",
       "      <td>384</td>\n",
       "    </tr>\n",
       "    <tr>\n",
       "      <th>18</th>\n",
       "      <td>https://noticias.uol.com.br/politica/ultimas-n...</td>\n",
       "      <td>378</td>\n",
       "    </tr>\n",
       "    <tr>\n",
       "      <th>19</th>\n",
       "      <td>\"E conhecereis a verdade, e a verdade vos libe...</td>\n",
       "      <td>367</td>\n",
       "    </tr>\n",
       "    <tr>\n",
       "      <th>20</th>\n",
       "      <td>Lesbian👩‍❤‍👩</td>\n",
       "      <td>359</td>\n",
       "    </tr>\n",
       "    <tr>\n",
       "      <th>21</th>\n",
       "      <td>Bem vindo(a) ao grupo Ipirá Notícias. \\n\\nComp...</td>\n",
       "      <td>358</td>\n",
       "    </tr>\n",
       "    <tr>\n",
       "      <th>22</th>\n",
       "      <td>Vaginall sex🙈</td>\n",
       "      <td>354</td>\n",
       "    </tr>\n",
       "    <tr>\n",
       "      <th>23</th>\n",
       "      <td>https://youtu.be/4DHk9KZ01HM</td>\n",
       "      <td>341</td>\n",
       "    </tr>\n",
       "    <tr>\n",
       "      <th>24</th>\n",
       "      <td>https://youtu.be/wGpTY8GH568</td>\n",
       "      <td>234</td>\n",
       "    </tr>\n",
       "    <tr>\n",
       "      <th>25</th>\n",
       "      <td>Vaginal sex🙈</td>\n",
       "      <td>233</td>\n",
       "    </tr>\n",
       "    <tr>\n",
       "      <th>26</th>\n",
       "      <td>Foto de susy silva</td>\n",
       "      <td>202</td>\n",
       "    </tr>\n",
       "    <tr>\n",
       "      <th>27</th>\n",
       "      <td>https://youtu.be/u-ZGL90PfeI</td>\n",
       "      <td>202</td>\n",
       "    </tr>\n",
       "    <tr>\n",
       "      <th>28</th>\n",
       "      <td>Vídeo de AVANY FERREIRA MULLER</td>\n",
       "      <td>195</td>\n",
       "    </tr>\n",
       "    <tr>\n",
       "      <th>29</th>\n",
       "      <td>https://youtu.be/aJ7uw_d-dUI</td>\n",
       "      <td>191</td>\n",
       "    </tr>\n",
       "  </tbody>\n",
       "</table>\n",
       "</div>"
      ],
      "text/plain": [
       "                                             mensagem  total_compartilhamentos\n",
       "0   This community was blocked in Brazil following...                    17422\n",
       "1                                          Rough_sex🙈                     1134\n",
       "2                                           Anal sex🙈                     1118\n",
       "3   سکس مردان ازبک با زن انگلیسی با این vpn از سای...                     1019\n",
       "4                        https://youtu.be/qbTzhB0akt8                      758\n",
       "5                        https://youtu.be/zDuOoyhyN-4                      712\n",
       "6   فیلم سوپر با زیرنویس فارسی ببین😍😍\\nبا این فیلت...                      632\n",
       "7                                              Rough😱                      570\n",
       "8                                Foto de Nélia Barros                      548\n",
       "9   We had no choice but to remain in the shadows....                      480\n",
       "10                                            Rough😨💦                      471\n",
       "11  https://t.me/canalselvabrasiloficial\\nSELVA BR...                      461\n",
       "12                              Foto de Marcelo Rossi                      421\n",
       "13                                    HD (1080p) sex🙈                      418\n",
       "14  🇮🇷 سکس با دختر 14 ساله را در سایتهای پورن\\nبیی...                      400\n",
       "15                       https://youtu.be/x2uiakywcrI                      395\n",
       "16                                           A.n.a.l🙈                      390\n",
       "17                                      Vídeo de Rosa                      384\n",
       "18  https://noticias.uol.com.br/politica/ultimas-n...                      378\n",
       "19  \"E conhecereis a verdade, e a verdade vos libe...                      367\n",
       "20                                       Lesbian👩‍❤‍👩                      359\n",
       "21  Bem vindo(a) ao grupo Ipirá Notícias. \\n\\nComp...                      358\n",
       "22                                      Vaginall sex🙈                      354\n",
       "23                       https://youtu.be/4DHk9KZ01HM                      341\n",
       "24                       https://youtu.be/wGpTY8GH568                      234\n",
       "25                                       Vaginal sex🙈                      233\n",
       "26                                 Foto de susy silva                      202\n",
       "27                       https://youtu.be/u-ZGL90PfeI                      202\n",
       "28                     Vídeo de AVANY FERREIRA MULLER                      195\n",
       "29                       https://youtu.be/aJ7uw_d-dUI                      191"
      ]
     },
     "metadata": {},
     "output_type": "display_data"
    }
   ],
   "source": [
    "mensagens_mais_compartilhadas = conn.execute(\"\"\"\n",
    "    SELECT\n",
    "    text_content_anonymous AS mensagem,\n",
    "    COUNT(*) AS total_compartilhamentos\n",
    "    FROM tabela_dados\n",
    "    WHERE\n",
    "        text_content_anonymous IS NOT NULL\n",
    "        AND TRIM(text_content_anonymous) <> ''\n",
    "    GROUP BY text_content_anonymous\n",
    "    ORDER BY total_compartilhamentos DESC\n",
    "    LIMIT 30;         \n",
    "\"\"\").fetchdf()\n",
    "\n",
    "display(mensagens_mais_compartilhadas)"
   ]
  },
  {
   "cell_type": "markdown",
   "id": "27033e47",
   "metadata": {},
   "source": [
    "---"
   ]
  },
  {
   "cell_type": "markdown",
   "id": "eb3f6758",
   "metadata": {},
   "source": [
    "#### **18**. As 30 mensagens mais compartilhadas em grupos diferentes"
   ]
  },
  {
   "cell_type": "markdown",
   "id": "67bb6165",
   "metadata": {},
   "source": [
    "Essa consulta identifica as mensagens textuais que apareceram em mais grupos diferentes. Isso mostra quais conteúdos se espalharam mais pela rede, não só por número de envios, mas em quantidade de grupos distintos. Também incluí a contagem total de vezes que cada mensagem apareceu, só como referência."
   ]
  },
  {
   "cell_type": "code",
   "execution_count": 30,
   "id": "3c8aa6ff",
   "metadata": {},
   "outputs": [
    {
     "data": {
      "application/vnd.jupyter.widget-view+json": {
       "model_id": "fff860a0f07c482caa1cd97dd4b5ddc7",
       "version_major": 2,
       "version_minor": 0
      },
      "text/plain": [
       "FloatProgress(value=0.0, layout=Layout(width='auto'), style=ProgressStyle(bar_color='black'))"
      ]
     },
     "metadata": {},
     "output_type": "display_data"
    },
    {
     "data": {
      "application/vnd.microsoft.datawrangler.viewer.v0+json": {
       "columns": [
        {
         "name": "index",
         "rawType": "int64",
         "type": "integer"
        },
        {
         "name": "mensagem",
         "rawType": "object",
         "type": "string"
        },
        {
         "name": "total_grupos_diferentes",
         "rawType": "int64",
         "type": "integer"
        },
        {
         "name": "total_ocorrencias",
         "rawType": "int64",
         "type": "integer"
        }
       ],
       "conversionMethod": "pd.DataFrame",
       "ref": "a9437d94-1af1-4414-b67c-6743a87294ef",
       "rows": [
        [
         "0",
         "This community was blocked in Brazil following a decision of the Superior Electoral Court (TSE).",
         "59",
         "17422"
        ],
        [
         "1",
         "BOA NOITE A TODOS. O QUE EU VOU DIZER É SÉRIO A ESQUERDA ESTA AGINDO NOS GRUPOS DE WHATSAPP POSTANDO LINKS NAS REDES SOCIAIS DIRECIONADOS AO TELEGRAN. \n\nO NOME DO GRUPO É \n\nMEU VOTO É BOLSONARO 22\n\nTEM DE VÁRIOS ESTADOS.\nELES ESTÃO PEDINDO A FOTO DO COMPROVANTE DE VOTAÇÃO E ATÉ TÍTULOS DE ELEITOR. \nE AS PESSOAS MUITAS DELAS ESTÃO POSTANDO. \n\nELES VEM COM ALEGAÇÃO QUE QUEREM CHEGAR A 60 MILHÕES DE COMPROVANTES PRA MOVER UMA AÇÃO CONTRA FRAUDE. ISSO É MENTIRA. É FALSO. \nPEÇO AJUDA DE VCS POIS ESTOU DESDE ONTEM TENTANDO ABRIR OS OLHOS DAS PESSOAS QUE ESTÃO NOS GRUPOS POSTANDO SEUS COMPROVANTES.  POIS NO SEGUNDO TURNO VÃO VOTAR NO LUGAR DESSAS PESSOAS. E NÃO VAI ADIANTAR RECLAMAR.\n\nPEÇO AJUDA DE VCS PARA VCS ENTRAREM NO BUSCADOR DO TELEGRAN DESSES GRUPOS E DENUNCIAR. COM A OPÇÃO DOCUMENTOS PESSOAIS.\n\nPAREM DE POSTAR ISSO É SÉRIO.\n\nO GRUPO DELES ESTA CONFIGURADO PRA POSTAGEM DE MENSAGENS DE 1H EM 1HORA. EVITANDO ASSIM ALERTAR AS PESSOAS DO GRUPO. EU FUI DELETADO DO GRUPO DO RIO DE JANEIRO PQ ESTAVA INCOMODANDO.\n\nSE NÃO AGIRMOS AGORA PERDEREMOS A ELEIÇÃO.\n\nELES ESTÃO AGINDO EM TODO O PAÍS.\n\nACORDEM NÃO É BRINCADEIRA",
         "36",
         "127"
        ],
        [
         "2",
         "Hoje às 18 horas no canal Inteligência Ltda do YouTube \nhttps://youtube.com/c/Intelig%C3%AAnciaLtda",
         "35",
         "37"
        ],
        [
         "3",
         "[USER]",
         "32",
         "170"
        ],
        [
         "4",
         "https://youtu.be/zDuOoyhyN-4",
         "31",
         "712"
        ],
        [
         "5",
         "https://youtu.be/qbTzhB0akt8",
         "30",
         "758"
        ],
        [
         "6",
         "OS PTISTAS NÃO QUER QUE AGENTE MOSTRE QUE VOTOU NO BOLSONARO!\n\nNão é crime eleitoral fotografar ou rasurar comprovante de votação\n\nFotografar o comprovante de votação com o número do candidato por escrito não configura crime eleitoral, de acordo com o TSE (Tribunal Superior Eleitoral). A falsa hipótese foi levantada em corrente que circula no WhatsApp neste domingo (28).\n\nNo comprovante não constam informações sobre os candidatos escolhidos na votação, servindo apenas para indicar que a pessoa compareceu ao pleito e votou. O TSE afirmou ainda que nada impede que o próprio eleitor manifeste \"espontaneamente sua preferência, indicando em quem pretenda votar ou em que tenha votado\". A permissão a tipo de manifestação está, inclusive, prevista na legislação eleitoral.\n\nA resolução 23.399/13 do TSE veta ao eleitor o porte de “aparelho de telefonia celular, máquinas fotográficas, filmadoras, equipamento de radiocomunicação, ou qualquer instrumento que possa comprometer o sigilo do voto” na cabine de votação. Quem desrespeita a regra pode ser enquadrado no artigo 347, do Código Eleitoral, por desobedecer ordens da Justiça Eleitoral, estando sujeito à multa e à detenção por três meses a um ano, e no artigo 312, por violar o sigilo do voto, sujeito à detenção por até dois anos. Ou seja, quem fotografa o voto na urna e posta nas redes sociais está cometendo crime eleitoral.\n\nEnviar a foto do comprovante, PODE SIM!\nSó não pode enviar para o e-mail do presidente.\n\nOS PTISTAS COMUNISTA ESTÃO COM MEDO DE SER DESMACARADOS. DA FRAUDE!",
         "29",
         "33"
        ],
        [
         "7",
         "*ATENÇÃO* \n🚨🚨🚨🚨🚨🚨🚨🚨🚨\n\n*CHAMADA URGENTE* Patriotas do BRASIL 🇧🇷 dias de maiores concentrações.\n\nDias ; 12/11/2022 Sábado.\n           13/11/2022 Domingo.\n           15/11/2022 Terça feira.\n\n*Lembrando que dia 15/11/2022 e feriado da proclamação da República*\n\nEntão vc não tem desculpa pra não estar na porta do *Quartéis* juntamente com toda população se manifestando lá.\n\nEspalha essa chamada pra todos seus amigos e faça chegar ao máximo de pessoas.\n\n*Convocação urgente*\n🚨🚨🚨🚨🚨🚨🚨🚨 \n\n*Deus*\n*Pátria*\n*Família*\n*Liberdade*\n\nRepassem ao máximo 💪🏾",
         "29",
         "33"
        ],
        [
         "8",
         "DE NADA IRÁ ADIANTAR FISCALIZAR AS URNAS, SE NÃO ELIMINAR O QUE CAUSOU A FRAUDE. TUDO SE REPETIRÁ NOVAMENTE NO SEGUNDO TURNO!",
         "29",
         "30"
        ],
        [
         "9",
         "Ajudem a subir a #JanonesAmigoDePedofilo\n\nPor favor!!!!",
         "29",
         "43"
        ],
        [
         "10",
         "OS ELEITORES QUE JA ENVIOU, NÃO PRECISA MAIS ENVIAR!\n\nCAROS ELEITORORES DO BOLSONARO, AS IMAGENS DO COMPROVANTE DE VOTO, AGORA DEVERÁ SER ENVIADA PARA O GRUPO DE BRASILIA. \n\nOS ELEITORES QUE JA ENVIOU, NÃO PRECISA MAIS ENVIAR!\n\n \nCONCENTRAMOS TODA A APURAÇÃO NO LINK ABAIXO:\nVotei Bolsonaro 22 (Distrito Federal - DF)💚💛\n✅Entre no grupo\n📎https://t.me/Votei_Bolsonaro_22_Distrito_Fede",
         "28",
         "30"
        ],
        [
         "11",
         "BRASILEIROS, PIOR DE QUE VOCÊS PERDEREM SEUS COMPROVANTES DE VOTO (O QUE NÃO IRA PERDER), É PERDER SUA LIBERDADE PARA A DITADURA!\n\nPENSE NISSO!\n\nOS VENEZUELANOS ESTÃO FUJINDO PARA O BRASIL, E SE A DITADURA TOMAR CONTA DO BRASIL, OS BRASILEIROS NÃO TEM MAIS PARA ONDE FUJIR!\n\nPENSE NISSO!\n\nA FRAUDE JÁ ESTAVA FEITA, POR ISSO O MOTIVO DESSE GRUPO \"MEU VOTO É BOLSONARO22\" JA ESTAVA PRONTO E ESPERANDO PARA OS BRASILEIROS PATRIOTAS REVERTER!\n\nhttps://t.me/Votei_Bolsonaro_22_Distrito_Fede\n\nNOSSO TERMPO É CURTO.\n\nPENSE NISSO!",
         "28",
         "28"
        ],
        [
         "12",
         "SE VOCÊ ACREDITA QUE BOLSONARO GANHOU NO PRIMEIRO TURNO, CONVOCAMOS VOCÊ, A PARTICIPAR DO GRUPO DE BRASÍLIA PARA ACOMPANHAR A APURAÇÃO!\n\nOS ELEITORES QUE JA ENVIOU, NÃO PRECISA MAIS ENVIAR!\n\nCAROS ELEITORORES DO BOLSONARO, AS IMAGENS DO COMPROVANTE DE VOTO, AGORA DEVERÁ SER ENVIADA PARA O GRUPO DE BRASÍLIA. \n\nOS ELEITORES QUE JA ENVIOU, NÃO PRECISA MAIS ENVIAR!\n \nCONCENTRAMOS TODA A APURAÇÃO NO LINK ABAIXO:\nVotei Bolsonaro 22 (Distrito Federal - DF)💚💛\n✅Entre no grupo\n📎https://t.me/Votei_Bolsonaro_22_Distrito_Fede\n\n🇧🇷🇧🇷🇧🇷",
         "27",
         "27"
        ],
        [
         "13",
         "Os grupos 'MEU VOTO É BOLSONARO 22' ficaram abertos até o dia 10/10/2022, onde faremos a CONTAGEM PÚBLICA DE VOTOS total.\n\nSomos uma equipe estamos trabalhando prol do nosso presidente Bolsonaro, em defesa de nossas famílias e salvando nossa nação dessa esquerda comunista.\n\nEstamos divididos por Estados e nosso trabalho é de graça para nosso presidente e se é bom para ele também será bom para você e para todos nós.\n\nNós acreditamos que nosso presidente ganhou em primeiro turno por isso estamos fazendo esse trabalho. Com a quantidade de comprovante em prol do bolsonaro ele será declarado REELEITO!\n\nQueremos ver o Bolsonaro vencer estas eleições e continuar dirigindo o nosso Brasil.\n\nConfiamos em nosso presidente Bolsonaro, acreditamos em Deus, nossas famílias e lutaremos por nossa nação.\n\nPedimos a todos que voltou no nosso presidente bolsonaro não dê crédito a estes petistas malditos. Foram BAN e se outros entrar, serão todos BANIDOS.\n\nO maior desespero dos PTISTAS, é se conseguirmos provar que o Bolsonaro foi reeleito no 1⁰ turno, por isso eles estão querendo atrapalhar nosso trabalho, mas em nome de Jesus, eles não irão conseguir e nós venceremos!\n\nPTISTA AQUI, NÃO TEM VEZ!",
         "27",
         "27"
        ],
        [
         "14",
         "Lançaram o Lulaflix, uma coletânea com o que de mais criminoso o Desencarcerado fez ou falou\nVou deixar abaixo algumas sugestões de filmes ⤵️\nhttps://lulaflix.com.br",
         "27",
         "28"
        ],
        [
         "15",
         "Queridos amigos Patriotas, \n\nSegue o sentimento de nossa equipe,\n\nConseguimos reunir mais de 123 mil membros Patriotas nos grupo do 1⁰ TURNO. \nInfelizmente, a maioria dos membros Patriotas deram ouvido as baboseiras dos PTistas e muitos não enviaram seus comprovantes, impossibilitando assim a comprovação da Reeleição do nosso Presidente Bolsonaro.\n\nDecidimos deixar as divulgações por conta de vocês afim de ver se realmente tem o real interesse da Reeleição do nosso Presidente Bolsonaro. Porém, não temos visto em nenhuma rede social e também não temos visto nos grupos do telegram. Com excessão de umas três divulgação em uns três grupos do telegram. \n\nOu os Patriotas acredita na Reeleição do nosso Presidente Bolsonaro e divulga o grupo, para que possamos fazer nossa Contagem paralelamente. Ou iremos ter que engolir calados o resultado das urna contando o seu e o nosso voto SECRETAMENTE!\n\nPedimos desculpas se nós expressamos desta forma e esperamos que nos entenda!",
         "27",
         "27"
        ],
        [
         "16",
         "https://t.me/ContagemDeVotosPRO_BOLSONARO",
         "27",
         "52"
        ],
        [
         "17",
         "Enviando por email requerimento GSI.pdf",
         "27",
         "27"
        ],
        [
         "18",
         "Enviando por email REPRESENTAÇÃO - Prisão Min.Alexandre de Moraes-as.pdf",
         "27",
         "27"
        ],
        [
         "19",
         "Vídeo de Maurício",
         "27",
         "93"
        ],
        [
         "20",
         "Enviando por email Habeas corpus - STJ - POVO- assinado.pdf",
         "27",
         "27"
        ],
        [
         "21",
         "Prezados Brasileiros Patriotas, \nSaudações,\n\nINSCRITO NOS GRUPOS:   \n 123.032\n\nCOMPROVANTES DE VOTO POSTADOS: \n 25.847 \n\n - Não obtivemos comprovantes de votos suficiente pra comprovar que nosso Presidente Bolsonaro foi eleito no primeiro turno.\n\n - É com imenso pesar, que nossa equipe dos grupos \"Meu voto é Bolsonaro22\", encerramos aqui o nosso trabalho em prol do nosso Presidente Bolsonaro, em prol das famílias Brasileiras, em prol da nossa nação e em prol da nossa liberdade!.\n\n - Primeiramente, queremos agradecer aos que acreditaram em nosso trabalho e lamentamos pelos que acreditaram nas mentiras dos PTista Comunistas dizendo que nosso grupo era FAKE e acreditaram em um vídeo de 2018 da Boa Cicks dizendo para não enviar os comprovantes DE voto para o Presidente, onde iria caracterizar crime eleitoral para o Presidente.\n\n - Detalhe: não era para enviar para o e-mail do presidente, poruqe ai caracterizaria crime para o Presidente, e SIM enviar para o TELEGRAM dos GRUPOS !Meu voto é Bolsonar22\"\n\n- Infelizmente a maioria dos Brasileiros acabam de entregar de mãos beijada a nossa nação para o comunismo.\n\n* Tirar Foto do comprovante de voto NÂO é crime!*\n* O comprovante é seu e você pode fazer dele o que bem desejar!*\n\n - Crime, é entregar a nação para o comunismo!\n - Crime, é entregar sua liberdade ao comunismo!\n - Crime, é entregar seus familiares para o comunismo!\n\n - Se preocupar com um comprovante que de nada irá servir daqui pra frente, mais que poderia salvar a sua liberdade, e assim a maioria não o fizeram.\n\n - A luta agora não é mais de nossa equipe. A luta agora é de todos os brasileiros que ainda acredita que pode fazer algo por sua liberdade.\n\n - Ou teremos o voto impresso em cédulas ou teremos possibilidade nova fraude no segundo turno.\n\n - Sugerimos que vá as ruas e lute pelo pouco que ainda vos resta!\n\n - Amém suas famílias e se preparem que dias difíceis, estão por vir!",
         "27",
         "27"
        ],
        [
         "22",
         "PESSOAL, POSTE SEU COMPROVANTE DE VOTO.\n\nSERÁ DISPONIBILIZADO EM MÍDIACOM TODOS OS COMPROVANTES DE VOTO JUNTO COM RELATÓRIO, PARA NOSSO PRESIDENTE BOLSONARO TOMAR AS ACÕES CABÍVEIS PARA SUA REELEIÇÃO!  \n\nhttps://t.me/Votei_Bolsonaro_22_Distrito_Fede\n📎",
         "27",
         "27"
        ],
        [
         "23",
         "- Contra tudo e contra todos, tivemos no 1° turno de 2022 uma votação mais expressiva do que aquela que tivemos em 2018. Foram quase 2 milhões de votos a mais! Também elegemos as maiores bancadas da Câmara e do Senado, o que era a nossa maior prioridade neste primeiro momento.\n\n- Elegemos governadores no 1° turno em 8 estados e elegeremos nossos aliados em outros 8 estados neste 2° turno. Esta é a maior vitória dos patriotas na história do Brasil: 60% do território brasileiro será governado por quem defende nossos valores e luta por um país mais livre.\n\n- Muita gente se deixou levar pelas mentiras propagadas pelos institutos de pesquisas, que saíram do 1° turno completamente desmoralizados. Erraram todas as previsões e já são os maiores derrotados desta eleição. Vencemos essa mentira e agora vamos vencer a eleição!\n\n- Esta disputa não decidirá apenas quem assumirá um cargo nos próximos quatro anos. Esta disputa decidirá nossa identidade, nossos valores e a forma como seremos vistos pelo mundo e pelo próprio Deus. Lutemos pela liberdade, pela honestidade, por nossos filhos e pelo Brasil.\n\n- Sabemos do tamanho da nossa responsabilidade e dos desafios que vamos enfrentar. Mas sabemos aonde queremos chegar e como chegaremos lá. Pela graça de Deus, nunca perdi uma eleição e sei que não será agora, quando a liberdade do Brasil inteiro depende de nós, que iremos perder.\n\n- Nossos adversários só se prepararam para uma corrida de 100 metros. Nós estamos prontos para uma maratona. Vamos lutar com confiança e com força cada vez maior, certos de que vamos prevalecer pela pátria, pela família, pela vida, pela liberdade e pela vontade de Deus! 🇧🇷\n\nPresidente Jair Messias Bolsonaro",
         "26",
         "76"
        ],
        [
         "24",
         "QUANDO ESTIVER ZERO MEMBROAQUI, TEREMOS A CERTEZA QUE TODOS JA ESTARAM NO GRUPO CERTO QUE FICARÁ PERMANENTE, AI ENCERRAREMOS ESTE AQUI!",
         "26",
         "26"
        ],
        [
         "25",
         "CONTAGEM PÚBLICA DE VOTOS PRO BOLSONARO22 2⁰ TURNO BRASIL\n\nQUERIDOS AMIGOS PATRIOTAS,\n\n\nMUDEM TODOS PARA O GRUPO: \n\"CONTAGEM PÚBLICA DE VOTOS PRO BOLSONARO22 2⁰ TURNO BRASIL\" E VAMOS NOS UNIR EM UM SÓ GRUPO\n (NO LINK ABAIXO):\n\nhttps://t.me/ContagemDeVotosPRO_BOLSONARO\n\nVAMOS NOS UNIR EM UM SÓ GRUPO, PARA NOS TORNAR MAIS FORTE.\n\nA VITORIA SERÁ NOSSA\nBOLSONARO 22",
         "26",
         "27"
        ],
        [
         "26",
         ">IMPORTANTE<\n\nGOSTARIAMOS DE CONVIDAR VOCÊ A TRAZER MAIS TRÊS PESSOAS PARA SE JUNTAR A NÓS, PARA QUANDO ABRIR O GRUPO, ESTARMOS COM A QUANTIDADE DE PESSOAS SUFICIENTE PARA COMPROVAR A VIÓRIA DO BOLSONARO APÓS AS ELEIÇ~ES DO SEGUNDO TURNO!",
         "25",
         "25"
        ],
        [
         "27",
         "PESSOAL, SE VOCÊ ACREDITA QUE BOLSONARO GANHOU NO PRIMEIRO TURNO, POSTE SEU COMPROVANTE DE VOTO.\n\nSERÁ DISPONIBILIZADO EM MÍDIACOM TODOS OS COMPROVANTES DE VOTO JUNTO COM RELATÓRIO, PARA NOSSO PRESIDENTE BOLSONARO TOMAR AS ACÕES CABÍVEIS PARA SUA REELEIÇÃO!  \n\nhttps://t.me/Votei_Bolsonaro_22_Distrito_Fede\n📎",
         "25",
         "27"
        ],
        [
         "28",
         "O LULA É ⓘ 𝘾𝙤𝙢𝙚𝙣𝙩𝙖́𝙧𝙞𝙤 𝙍𝙚𝙢𝙤𝙫𝙞𝙙𝙤 𝙋𝙚𝙡𝙤 𝙏𝙧𝙞𝙗𝙪𝙣𝙖𝙡 𝙎𝙪𝙥𝙚𝙧𝙞𝙤𝙧 𝙀𝙡𝙚𝙞𝙩𝙤𝙧𝙖𝙡\nO LULA É ⓘ 𝘾𝙤𝙢𝙚𝙣𝙩𝙖́𝙧𝙞𝙤 𝙍𝙚𝙢𝙤𝙫𝙞𝙙𝙤 𝙋𝙚𝙡𝙤 𝙏𝙧𝙞𝙗𝙪𝙣𝙖𝙡 𝙎𝙪𝙥𝙚𝙧𝙞𝙤𝙧 𝙀𝙡𝙚𝙞𝙩𝙤𝙧𝙖𝙡\nO LULA É ⓘ 𝘾𝙤𝙢𝙚𝙣𝙩𝙖́𝙧𝙞𝙤 𝙍𝙚𝙢𝙤𝙫𝙞𝙙𝙤 𝙋𝙚𝙡𝙤 𝙏𝙧𝙞𝙗𝙪𝙣𝙖𝙡 𝙎𝙪𝙥𝙚𝙧𝙞𝙤𝙧 𝙀𝙡𝙚𝙞𝙩𝙤𝙧𝙖𝙡\nO LULA É ⓘ 𝘾𝙤𝙢𝙚𝙣𝙩𝙖́𝙧𝙞𝙤 𝙍𝙚𝙢𝙤𝙫𝙞𝙙𝙤 𝙋𝙚𝙡𝙤 𝙏𝙧𝙞𝙗𝙪𝙣𝙖𝙡 𝙎𝙪𝙥𝙚𝙧𝙞𝙤𝙧 𝙀𝙡𝙚𝙞𝙩𝙤𝙧𝙖𝙡\nO LULA É ⓘ 𝘾𝙤𝙢𝙚𝙣𝙩𝙖́𝙧𝙞𝙤 𝙍𝙚𝙢𝙤𝙫𝙞𝙙𝙤 𝙋𝙚𝙡𝙤 𝙏𝙧𝙞𝙗𝙪𝙣𝙖𝙡 𝙎𝙪𝙥𝙚𝙧𝙞𝙤𝙧 𝙀𝙡𝙚𝙞𝙩𝙤𝙧𝙖𝙡\nO LULA É ⓘ 𝘾𝙤𝙢𝙚𝙣𝙩𝙖́𝙧𝙞𝙤 𝙍𝙚𝙢𝙤𝙫𝙞𝙙𝙤 𝙋𝙚𝙡𝙤 𝙏𝙧𝙞𝙗𝙪𝙣𝙖𝙡 𝙎𝙪𝙥𝙚𝙧𝙞𝙤𝙧 𝙀𝙡𝙚𝙞𝙩𝙤𝙧𝙖𝙡\nO LULA É ⓘ 𝘾𝙤𝙢𝙚𝙣𝙩𝙖́𝙧𝙞𝙤 𝙍𝙚𝙢𝙤𝙫𝙞𝙙𝙤 𝙋𝙚𝙡𝙤 𝙏𝙧𝙞𝙗𝙪𝙣𝙖𝙡 𝙎𝙪𝙥𝙚𝙧𝙞𝙤𝙧 𝙀𝙡𝙚𝙞𝙩𝙤𝙧𝙖𝙡\nO LULA É ⓘ 𝘾𝙤𝙢𝙚𝙣𝙩𝙖́𝙧𝙞𝙤 𝙍𝙚𝙢𝙤𝙫𝙞𝙙𝙤 𝙋𝙚𝙡𝙤 𝙏𝙧𝙞𝙗𝙪𝙣𝙖𝙡 𝙎𝙪𝙥𝙚𝙧𝙞𝙤𝙧 𝙀𝙡𝙚𝙞𝙩𝙤𝙧𝙖𝙡\nO LULA É ⓘ 𝘾𝙤𝙢𝙚𝙣𝙩𝙖́𝙧𝙞𝙤 𝙍𝙚𝙢𝙤𝙫𝙞𝙙𝙤 𝙋𝙚𝙡𝙤 𝙏𝙧𝙞𝙗𝙪𝙣𝙖𝙡 𝙎𝙪𝙥𝙚𝙧𝙞𝙤𝙧 𝙀𝙡𝙚𝙞𝙩𝙤𝙧𝙖𝙡\nO LULA É ⓘ 𝘾𝙤𝙢𝙚𝙣𝙩𝙖́𝙧𝙞𝙤 𝙍𝙚𝙢𝙤𝙫𝙞𝙙𝙤 𝙋𝙚𝙡𝙤 𝙏𝙧𝙞𝙗𝙪𝙣𝙖𝙡 𝙎𝙪𝙥𝙚𝙧𝙞𝙤𝙧 𝙀𝙡𝙚𝙞𝙩𝙤𝙧𝙖𝙡\nO LULA É ⓘ 𝘾𝙤𝙢𝙚𝙣𝙩𝙖́𝙧𝙞𝙤 𝙍𝙚𝙢𝙤𝙫𝙞𝙙𝙤 𝙋𝙚𝙡𝙤 𝙏𝙧𝙞𝙗𝙪𝙣𝙖𝙡 𝙎𝙪𝙥𝙚𝙧𝙞𝙤𝙧 𝙀𝙡𝙚𝙞𝙩𝙤𝙧𝙖𝙡\nO LULA É ⓘ 𝘾𝙤𝙢𝙚𝙣𝙩𝙖́𝙧𝙞𝙤 𝙍𝙚𝙢𝙤𝙫𝙞𝙙𝙤 𝙋𝙚𝙡𝙤 𝙏𝙧𝙞𝙗𝙪𝙣𝙖𝙡 𝙎𝙪𝙥𝙚𝙧𝙞𝙤𝙧 𝙀𝙡𝙚𝙞𝙩𝙤𝙧𝙖𝙡\nO LULA É ⓘ 𝘾𝙤𝙢𝙚𝙣𝙩𝙖́𝙧𝙞𝙤 𝙍𝙚𝙢𝙤𝙫𝙞𝙙𝙤 𝙋𝙚𝙡𝙤 𝙏𝙧𝙞𝙗𝙪𝙣𝙖𝙡 𝙎𝙪𝙥𝙚𝙧𝙞𝙤𝙧 𝙀𝙡𝙚𝙞𝙩𝙤𝙧𝙖𝙡\nO LULA É ⓘ 𝘾𝙤𝙢𝙚𝙣𝙩𝙖́𝙧𝙞𝙤 𝙍𝙚𝙢𝙤𝙫𝙞𝙙𝙤 𝙋𝙚𝙡𝙤 𝙏𝙧𝙞𝙗𝙪𝙣𝙖𝙡 𝙎𝙪𝙥𝙚𝙧𝙞𝙤𝙧 𝙀𝙡𝙚𝙞𝙩𝙤𝙧𝙖𝙡",
         "25",
         "26"
        ],
        [
         "29",
         "CONVOCAMOS A TODOS, A PARTICIPAR DO GRUPO DE BRASÍLIA PARA ACOMPANHAR A APURAÇÃO!\n\nOS ELEITORES QUE JA ENVIOU, NÃO PRECISA MAIS ENVIAR!\n\nCAROS ELEITORORES DO BOLSONARO, AS IMAGENS DO COMPROVANTE DE VOTO, AGORA DEVERÁ SER ENVIADA PARA O GRUPO DE BRASÍLIA. \n\nOS ELEITORES QUE JA ENVIOU, NÃO PRECISA MAIS ENVIAR!\n \nCONCENTRAMOS TODA A APURAÇÃO NO LINK ABAIXO:\nVotei Bolsonaro 22 (Distrito Federal - DF)💚💛\n✅Entre no grupo\n📎https://t.me/Votei_Bolsonaro_22_Distrito_Fede\n\n🇧🇷🇧🇷🇧🇷",
         "25",
         "28"
        ]
       ],
       "shape": {
        "columns": 3,
        "rows": 30
       }
      },
      "text/html": [
       "<div>\n",
       "<style scoped>\n",
       "    .dataframe tbody tr th:only-of-type {\n",
       "        vertical-align: middle;\n",
       "    }\n",
       "\n",
       "    .dataframe tbody tr th {\n",
       "        vertical-align: top;\n",
       "    }\n",
       "\n",
       "    .dataframe thead th {\n",
       "        text-align: right;\n",
       "    }\n",
       "</style>\n",
       "<table border=\"1\" class=\"dataframe\">\n",
       "  <thead>\n",
       "    <tr style=\"text-align: right;\">\n",
       "      <th></th>\n",
       "      <th>mensagem</th>\n",
       "      <th>total_grupos_diferentes</th>\n",
       "      <th>total_ocorrencias</th>\n",
       "    </tr>\n",
       "  </thead>\n",
       "  <tbody>\n",
       "    <tr>\n",
       "      <th>0</th>\n",
       "      <td>This community was blocked in Brazil following...</td>\n",
       "      <td>59</td>\n",
       "      <td>17422</td>\n",
       "    </tr>\n",
       "    <tr>\n",
       "      <th>1</th>\n",
       "      <td>BOA NOITE A TODOS. O QUE EU VOU DIZER É SÉRIO ...</td>\n",
       "      <td>36</td>\n",
       "      <td>127</td>\n",
       "    </tr>\n",
       "    <tr>\n",
       "      <th>2</th>\n",
       "      <td>Hoje às 18 horas no canal Inteligência Ltda do...</td>\n",
       "      <td>35</td>\n",
       "      <td>37</td>\n",
       "    </tr>\n",
       "    <tr>\n",
       "      <th>3</th>\n",
       "      <td>[USER]</td>\n",
       "      <td>32</td>\n",
       "      <td>170</td>\n",
       "    </tr>\n",
       "    <tr>\n",
       "      <th>4</th>\n",
       "      <td>https://youtu.be/zDuOoyhyN-4</td>\n",
       "      <td>31</td>\n",
       "      <td>712</td>\n",
       "    </tr>\n",
       "    <tr>\n",
       "      <th>5</th>\n",
       "      <td>https://youtu.be/qbTzhB0akt8</td>\n",
       "      <td>30</td>\n",
       "      <td>758</td>\n",
       "    </tr>\n",
       "    <tr>\n",
       "      <th>6</th>\n",
       "      <td>OS PTISTAS NÃO QUER QUE AGENTE MOSTRE QUE VOTO...</td>\n",
       "      <td>29</td>\n",
       "      <td>33</td>\n",
       "    </tr>\n",
       "    <tr>\n",
       "      <th>7</th>\n",
       "      <td>*ATENÇÃO* \\n🚨🚨🚨🚨🚨🚨🚨🚨🚨\\n\\n*CHAMADA URGENTE* Pat...</td>\n",
       "      <td>29</td>\n",
       "      <td>33</td>\n",
       "    </tr>\n",
       "    <tr>\n",
       "      <th>8</th>\n",
       "      <td>DE NADA IRÁ ADIANTAR FISCALIZAR AS URNAS, SE N...</td>\n",
       "      <td>29</td>\n",
       "      <td>30</td>\n",
       "    </tr>\n",
       "    <tr>\n",
       "      <th>9</th>\n",
       "      <td>Ajudem a subir a #JanonesAmigoDePedofilo\\n\\nPo...</td>\n",
       "      <td>29</td>\n",
       "      <td>43</td>\n",
       "    </tr>\n",
       "    <tr>\n",
       "      <th>10</th>\n",
       "      <td>OS ELEITORES QUE JA ENVIOU, NÃO PRECISA MAIS E...</td>\n",
       "      <td>28</td>\n",
       "      <td>30</td>\n",
       "    </tr>\n",
       "    <tr>\n",
       "      <th>11</th>\n",
       "      <td>BRASILEIROS, PIOR DE QUE VOCÊS PERDEREM SEUS C...</td>\n",
       "      <td>28</td>\n",
       "      <td>28</td>\n",
       "    </tr>\n",
       "    <tr>\n",
       "      <th>12</th>\n",
       "      <td>SE VOCÊ ACREDITA QUE BOLSONARO GANHOU NO PRIME...</td>\n",
       "      <td>27</td>\n",
       "      <td>27</td>\n",
       "    </tr>\n",
       "    <tr>\n",
       "      <th>13</th>\n",
       "      <td>Os grupos 'MEU VOTO É BOLSONARO 22' ficaram ab...</td>\n",
       "      <td>27</td>\n",
       "      <td>27</td>\n",
       "    </tr>\n",
       "    <tr>\n",
       "      <th>14</th>\n",
       "      <td>Lançaram o Lulaflix, uma coletânea com o que d...</td>\n",
       "      <td>27</td>\n",
       "      <td>28</td>\n",
       "    </tr>\n",
       "    <tr>\n",
       "      <th>15</th>\n",
       "      <td>Queridos amigos Patriotas, \\n\\nSegue o sentime...</td>\n",
       "      <td>27</td>\n",
       "      <td>27</td>\n",
       "    </tr>\n",
       "    <tr>\n",
       "      <th>16</th>\n",
       "      <td>https://t.me/ContagemDeVotosPRO_BOLSONARO</td>\n",
       "      <td>27</td>\n",
       "      <td>52</td>\n",
       "    </tr>\n",
       "    <tr>\n",
       "      <th>17</th>\n",
       "      <td>Enviando por email requerimento GSI.pdf</td>\n",
       "      <td>27</td>\n",
       "      <td>27</td>\n",
       "    </tr>\n",
       "    <tr>\n",
       "      <th>18</th>\n",
       "      <td>Enviando por email REPRESENTAÇÃO - Prisão M...</td>\n",
       "      <td>27</td>\n",
       "      <td>27</td>\n",
       "    </tr>\n",
       "    <tr>\n",
       "      <th>19</th>\n",
       "      <td>Vídeo de Maurício</td>\n",
       "      <td>27</td>\n",
       "      <td>93</td>\n",
       "    </tr>\n",
       "    <tr>\n",
       "      <th>20</th>\n",
       "      <td>Enviando por email Habeas corpus - STJ - POVO-...</td>\n",
       "      <td>27</td>\n",
       "      <td>27</td>\n",
       "    </tr>\n",
       "    <tr>\n",
       "      <th>21</th>\n",
       "      <td>Prezados Brasileiros Patriotas, \\nSaudações,\\n...</td>\n",
       "      <td>27</td>\n",
       "      <td>27</td>\n",
       "    </tr>\n",
       "    <tr>\n",
       "      <th>22</th>\n",
       "      <td>PESSOAL, POSTE SEU COMPROVANTE DE VOTO.\\n\\nSER...</td>\n",
       "      <td>27</td>\n",
       "      <td>27</td>\n",
       "    </tr>\n",
       "    <tr>\n",
       "      <th>23</th>\n",
       "      <td>- Contra tudo e contra todos, tivemos no 1° tu...</td>\n",
       "      <td>26</td>\n",
       "      <td>76</td>\n",
       "    </tr>\n",
       "    <tr>\n",
       "      <th>24</th>\n",
       "      <td>QUANDO ESTIVER ZERO MEMBROAQUI, TEREMOS A CERT...</td>\n",
       "      <td>26</td>\n",
       "      <td>26</td>\n",
       "    </tr>\n",
       "    <tr>\n",
       "      <th>25</th>\n",
       "      <td>CONTAGEM PÚBLICA DE VOTOS PRO BOLSONARO22 2⁰ T...</td>\n",
       "      <td>26</td>\n",
       "      <td>27</td>\n",
       "    </tr>\n",
       "    <tr>\n",
       "      <th>26</th>\n",
       "      <td>&gt;IMPORTANTE&lt;\\n\\nGOSTARIAMOS DE CONVIDAR VOCÊ A...</td>\n",
       "      <td>25</td>\n",
       "      <td>25</td>\n",
       "    </tr>\n",
       "    <tr>\n",
       "      <th>27</th>\n",
       "      <td>PESSOAL, SE VOCÊ ACREDITA QUE BOLSONARO GANHOU...</td>\n",
       "      <td>25</td>\n",
       "      <td>27</td>\n",
       "    </tr>\n",
       "    <tr>\n",
       "      <th>28</th>\n",
       "      <td>O LULA É ⓘ 𝘾𝙤𝙢𝙚𝙣𝙩𝙖́𝙧𝙞𝙤 𝙍𝙚𝙢𝙤𝙫𝙞𝙙𝙤 𝙋𝙚𝙡𝙤 𝙏𝙧𝙞𝙗𝙪𝙣𝙖𝙡 ...</td>\n",
       "      <td>25</td>\n",
       "      <td>26</td>\n",
       "    </tr>\n",
       "    <tr>\n",
       "      <th>29</th>\n",
       "      <td>CONVOCAMOS A TODOS, A PARTICIPAR DO GRUPO DE B...</td>\n",
       "      <td>25</td>\n",
       "      <td>28</td>\n",
       "    </tr>\n",
       "  </tbody>\n",
       "</table>\n",
       "</div>"
      ],
      "text/plain": [
       "                                             mensagem  \\\n",
       "0   This community was blocked in Brazil following...   \n",
       "1   BOA NOITE A TODOS. O QUE EU VOU DIZER É SÉRIO ...   \n",
       "2   Hoje às 18 horas no canal Inteligência Ltda do...   \n",
       "3                                              [USER]   \n",
       "4                        https://youtu.be/zDuOoyhyN-4   \n",
       "5                        https://youtu.be/qbTzhB0akt8   \n",
       "6   OS PTISTAS NÃO QUER QUE AGENTE MOSTRE QUE VOTO...   \n",
       "7   *ATENÇÃO* \\n🚨🚨🚨🚨🚨🚨🚨🚨🚨\\n\\n*CHAMADA URGENTE* Pat...   \n",
       "8   DE NADA IRÁ ADIANTAR FISCALIZAR AS URNAS, SE N...   \n",
       "9   Ajudem a subir a #JanonesAmigoDePedofilo\\n\\nPo...   \n",
       "10  OS ELEITORES QUE JA ENVIOU, NÃO PRECISA MAIS E...   \n",
       "11  BRASILEIROS, PIOR DE QUE VOCÊS PERDEREM SEUS C...   \n",
       "12  SE VOCÊ ACREDITA QUE BOLSONARO GANHOU NO PRIME...   \n",
       "13  Os grupos 'MEU VOTO É BOLSONARO 22' ficaram ab...   \n",
       "14  Lançaram o Lulaflix, uma coletânea com o que d...   \n",
       "15  Queridos amigos Patriotas, \\n\\nSegue o sentime...   \n",
       "16          https://t.me/ContagemDeVotosPRO_BOLSONARO   \n",
       "17            Enviando por email requerimento GSI.pdf   \n",
       "18  Enviando por email REPRESENTAÇÃO - Prisão M...   \n",
       "19                                  Vídeo de Maurício   \n",
       "20  Enviando por email Habeas corpus - STJ - POVO-...   \n",
       "21  Prezados Brasileiros Patriotas, \\nSaudações,\\n...   \n",
       "22  PESSOAL, POSTE SEU COMPROVANTE DE VOTO.\\n\\nSER...   \n",
       "23  - Contra tudo e contra todos, tivemos no 1° tu...   \n",
       "24  QUANDO ESTIVER ZERO MEMBROAQUI, TEREMOS A CERT...   \n",
       "25  CONTAGEM PÚBLICA DE VOTOS PRO BOLSONARO22 2⁰ T...   \n",
       "26  >IMPORTANTE<\\n\\nGOSTARIAMOS DE CONVIDAR VOCÊ A...   \n",
       "27  PESSOAL, SE VOCÊ ACREDITA QUE BOLSONARO GANHOU...   \n",
       "28  O LULA É ⓘ 𝘾𝙤𝙢𝙚𝙣𝙩𝙖́𝙧𝙞𝙤 𝙍𝙚𝙢𝙤𝙫𝙞𝙙𝙤 𝙋𝙚𝙡𝙤 𝙏𝙧𝙞𝙗𝙪𝙣𝙖𝙡 ...   \n",
       "29  CONVOCAMOS A TODOS, A PARTICIPAR DO GRUPO DE B...   \n",
       "\n",
       "    total_grupos_diferentes  total_ocorrencias  \n",
       "0                        59              17422  \n",
       "1                        36                127  \n",
       "2                        35                 37  \n",
       "3                        32                170  \n",
       "4                        31                712  \n",
       "5                        30                758  \n",
       "6                        29                 33  \n",
       "7                        29                 33  \n",
       "8                        29                 30  \n",
       "9                        29                 43  \n",
       "10                       28                 30  \n",
       "11                       28                 28  \n",
       "12                       27                 27  \n",
       "13                       27                 27  \n",
       "14                       27                 28  \n",
       "15                       27                 27  \n",
       "16                       27                 52  \n",
       "17                       27                 27  \n",
       "18                       27                 27  \n",
       "19                       27                 93  \n",
       "20                       27                 27  \n",
       "21                       27                 27  \n",
       "22                       27                 27  \n",
       "23                       26                 76  \n",
       "24                       26                 26  \n",
       "25                       26                 27  \n",
       "26                       25                 25  \n",
       "27                       25                 27  \n",
       "28                       25                 26  \n",
       "29                       25                 28  "
      ]
     },
     "metadata": {},
     "output_type": "display_data"
    }
   ],
   "source": [
    "mensagems_grupos = conn.execute(\"\"\"\n",
    "    SELECT\n",
    "    text_content_anonymous AS mensagem,\n",
    "    COUNT(DISTINCT id_group_anonymous) AS total_grupos_diferentes,\n",
    "    COUNT(*) AS total_ocorrencias\n",
    "    FROM tabela_dados\n",
    "    WHERE\n",
    "        text_content_anonymous IS NOT NULL\n",
    "        AND TRIM(text_content_anonymous) <> ''\n",
    "    GROUP BY text_content_anonymous\n",
    "    ORDER BY total_grupos_diferentes DESC\n",
    "    LIMIT 30;\n",
    "\"\"\").fetchdf()\n",
    "\n",
    "display(mensagems_grupos)"
   ]
  },
  {
   "cell_type": "markdown",
   "id": "2599d5e7",
   "metadata": {},
   "source": [
    "---"
   ]
  },
  {
   "cell_type": "markdown",
   "id": "a1fe383a",
   "metadata": {},
   "source": [
    "#### **19**. Mensagens idênticas compartilhadas pelo mesmo usuário (e suas quantidades) "
   ]
  },
  {
   "cell_type": "markdown",
   "id": "c0c4618b",
   "metadata": {},
   "source": [
    "Essa consulta mostra os casos em que um mesmo usuário compartilhou exatamente a mesma mensagem mais de uma vez. Agrupei por usuário, texto e data, contei as repetições e usei `HAVING COUNT(*) > 1` pra filtrar só as duplicações. O resultado revela comportamentos de possível spam ou insistência no mesmo conteúdo"
   ]
  },
  {
   "cell_type": "code",
   "execution_count": 32,
   "id": "d891bda7",
   "metadata": {},
   "outputs": [
    {
     "data": {
      "application/vnd.jupyter.widget-view+json": {
       "model_id": "8d30d53483134db6970e72062d5ecf42",
       "version_major": 2,
       "version_minor": 0
      },
      "text/plain": [
       "FloatProgress(value=0.0, layout=Layout(width='auto'), style=ProgressStyle(bar_color='black'))"
      ]
     },
     "metadata": {},
     "output_type": "display_data"
    },
    {
     "data": {
      "application/vnd.microsoft.datawrangler.viewer.v0+json": {
       "columns": [
        {
         "name": "index",
         "rawType": "int64",
         "type": "integer"
        },
        {
         "name": "usuario",
         "rawType": "object",
         "type": "string"
        },
        {
         "name": "data",
         "rawType": "datetime64[us]",
         "type": "unknown"
        },
        {
         "name": "mensagem",
         "rawType": "object",
         "type": "string"
        },
        {
         "name": "quantidade_envios",
         "rawType": "int64",
         "type": "integer"
        }
       ],
       "conversionMethod": "pd.DataFrame",
       "ref": "42a0845b-536b-4f36-8d7b-b0afe2075fe1",
       "rows": [
        [
         "0",
         "c743967449a387ad2c1c7e03b2c45b36",
         "2022-11-02 00:00:00",
         "This community was blocked in Brazil following a decision of the Superior Electoral Court (TSE).",
         "157"
        ],
        [
         "1",
         "f3a914b5f81379cdf1689f202fe5ccd9",
         "2022-10-06 00:00:00",
         "Anal sex🙈",
         "144"
        ],
        [
         "2",
         "9b371a7d40877606e49d03281c8ba0f4",
         "2022-10-06 00:00:00",
         "Anal sex🙈",
         "142"
        ],
        [
         "3",
         "f233cf8b1d4ede06f32199a7e0081bf5",
         "2022-11-03 00:00:00",
         "This community was blocked in Brazil following a decision of the Superior Electoral Court (TSE).",
         "142"
        ],
        [
         "4",
         "f233cf8b1d4ede06f32199a7e0081bf5",
         "2022-11-10 00:00:00",
         "This community was blocked in Brazil following a decision of the Superior Electoral Court (TSE).",
         "137"
        ],
        [
         "5",
         "f233cf8b1d4ede06f32199a7e0081bf5",
         "2022-11-04 00:00:00",
         "This community was blocked in Brazil following a decision of the Superior Electoral Court (TSE).",
         "137"
        ],
        [
         "6",
         "17916aca7f2d50e4f30761dd76986ff6",
         "2022-10-12 00:00:00",
         "سکس مردان ازبک با زن انگلیسی با این vpn از سایتهای ممنوعه ببینید🙈\n\nشاهد الرجال الأوزبكيين يمارسون الجنس مع النساء الإنجليزيات باستخدام VPN هذا من المواقع المحظورة🚫\n\nTaqiqlangan saytlardan bu vpn orqali o'zbek erkaklari ingliz ayollari bilan jinsiy aloqa qilishlarini ko'ring\n\nSee Uzbek men having sex with English women with this vpn from banned sites",
         "127"
        ],
        [
         "7",
         "f32fb55955515e8a98429f9089df960f",
         "2022-10-12 00:00:00",
         "سکس مردان ازبک با زن انگلیسی با این vpn از سایتهای ممنوعه ببینید🙈\n\nشاهد الرجال الأوزبكيين يمارسون الجنس مع النساء الإنجليزيات باستخدام VPN هذا من المواقع المحظورة🚫\n\nTaqiqlangan saytlardan bu vpn orqali o'zbek erkaklari ingliz ayollari bilan jinsiy aloqa qilishlarini ko'ring\n\nSee Uzbek men having sex with English women with this vpn from banned sites",
         "124"
        ],
        [
         "8",
         "f48d327d4d2e0542af2d0d6e47503ad2",
         "2022-10-06 00:00:00",
         "Rough_sex🙈",
         "120"
        ],
        [
         "9",
         "bbfbcf36aa8384a943aa8928f98e5b99",
         "2022-10-06 00:00:00",
         "Rough_sex🙈",
         "114"
        ],
        [
         "10",
         "f233cf8b1d4ede06f32199a7e0081bf5",
         "2022-11-06 00:00:00",
         "This community was blocked in Brazil following a decision of the Superior Electoral Court (TSE).",
         "112"
        ],
        [
         "11",
         "8c5e8ef2c1b1fc8f3edead5c2bc66857",
         "2022-10-06 00:00:00",
         "Anal sex🙈",
         "112"
        ],
        [
         "12",
         "ff641ad3b925b40c4183a929ddea8c1a",
         "2022-10-06 00:00:00",
         "HD (1080p) sex🙈",
         "111"
        ],
        [
         "13",
         "167db5613cd8235c443146d086ef40aa",
         "2022-10-12 00:00:00",
         "فیلم سوپر با زیرنویس فارسی ببین😍😍\nبا این فیلترشکن میتونی هروقت دلت خواست فیلم سوپر ببینی😍\n\nAmerikalik ayolni arab erkaklari tomonidan zo'rlanganini ushbu vpn bilan tomosha qiling\nFaqat 18 yoshdan oshganlar\n\nWatch the rape of an American woman by Arab men with this vpn\nOnly people over 18 years old",
         "110"
        ],
        [
         "14",
         "23d14a50cb82952a04645e779f48206a",
         "2022-10-12 00:00:00",
         "سکس مردان ازبک با زن انگلیسی با این vpn از سایتهای ممنوعه ببینید🙈\n\nشاهد الرجال الأوزبكيين يمارسون الجنس مع النساء الإنجليزيات باستخدام VPN هذا من المواقع المحظورة🚫\n\nTaqiqlangan saytlardan bu vpn orqali o'zbek erkaklari ingliz ayollari bilan jinsiy aloqa qilishlarini ko'ring\n\nSee Uzbek men having sex with English women with this vpn from banned sites",
         "104"
        ],
        [
         "15",
         "f233cf8b1d4ede06f32199a7e0081bf5",
         "2022-11-09 00:00:00",
         "This community was blocked in Brazil following a decision of the Superior Electoral Court (TSE).",
         "101"
        ],
        [
         "16",
         "e3b2ad172093d30591063f71344cf177",
         "2022-10-06 00:00:00",
         "Anal sex🙈",
         "100"
        ],
        [
         "17",
         "7696d5103cdb8ac352d748a1db1126b0",
         "2022-11-08 00:00:00",
         "This community was blocked in Brazil following a decision of the Superior Electoral Court (TSE).",
         "99"
        ],
        [
         "18",
         "7696d5103cdb8ac352d748a1db1126b0",
         "2022-11-05 00:00:00",
         "This community was blocked in Brazil following a decision of the Superior Electoral Court (TSE).",
         "99"
        ],
        [
         "19",
         "441fd1aad6d5d5fb355ec50f5b2b07cf",
         "2022-10-09 00:00:00",
         "Anal sex🙈",
         "98"
        ],
        [
         "20",
         "37eee205efaacd6dc3b079e0f5bed817",
         "2022-10-09 00:00:00",
         "Rough_sex🙈",
         "96"
        ],
        [
         "21",
         "e12cd087a297593d24f7c92d6309f105",
         "2022-10-19 00:00:00",
         "Rough😨💦",
         "96"
        ],
        [
         "22",
         "396c035099bb75f47a1f08f59432f82c",
         "2022-10-12 00:00:00",
         "فیلم سوپر با زیرنویس فارسی ببین😍😍\nبا این فیلترشکن میتونی هروقت دلت خواست فیلم سوپر ببینی😍\n\nAmerikalik ayolni arab erkaklari tomonidan zo'rlanganini ushbu vpn bilan tomosha qiling\nFaqat 18 yoshdan oshganlar\n\nWatch the rape of an American woman by Arab men with this vpn\nOnly people over 18 years old",
         "94"
        ],
        [
         "23",
         "c743967449a387ad2c1c7e03b2c45b36",
         "2022-11-04 00:00:00",
         "This community was blocked in Brazil following a decision of the Superior Electoral Court (TSE).",
         "94"
        ],
        [
         "24",
         "d94337b1b8b21dc0cf178886c93d890e",
         "2022-10-12 00:00:00",
         "سکس مردان ازبک با زن انگلیسی با این vpn از سایتهای ممنوعه ببینید🙈\n\nشاهد الرجال الأوزبكيين يمارسون الجنس مع النساء الإنجليزيات باستخدام VPN هذا من المواقع المحظورة🚫\n\nTaqiqlangan saytlardan bu vpn orqali o'zbek erkaklari ingliz ayollari bilan jinsiy aloqa qilishlarini ko'ring\n\nSee Uzbek men having sex with English women with this vpn from banned sites",
         "93"
        ],
        [
         "25",
         "7696d5103cdb8ac352d748a1db1126b0",
         "2022-11-06 00:00:00",
         "This community was blocked in Brazil following a decision of the Superior Electoral Court (TSE).",
         "89"
        ],
        [
         "26",
         "97ac116fb958a80ae81d54d3bb6ece2c",
         "2022-10-05 00:00:00",
         "O Meu amigo NÃO sou infiltrado ... meu voto foi para #Bolsonaro no primeiro turno e será para o segundo turno... \n\nEu disse Há infiltrados AQUI e é VERDADE     ..e disse que o verdadeiro apoio ao NOSSO presidente para o bem Da família Brasileira para nossa liberdade de culto e expressão..para uma pátria forte é necessário entrarmos no telegram do PRESIDENTE.\n\nVAMOS ENTRAR NO GRUPO DO PRESIDENTE LÁ SIM VALE A PENA ... NÃO ESTOU DIZENDO PARA SAIR DAQUI MAS ENTRAR LÁ TAMBÉM\n\nO Meu amigo NÃO sou infiltrado ... meu voto foi para #Bolsonaro no primeiro turno e será para o segundo turno... \n\nEu disse Há infiltrados AQUI e é VERDADE     ..e disse que o verdadeiro apoio ao NOSSO presidente para o bem Da família Brasileira para nossa liberdade de culto e expressão..para uma pátria forte é necessário entrarmos no telegram do PRESIDENTE.\n\nVAMOS ENTRAR NO GRUPO DO PRESIDENTE LÁ SIM VALE A PENA ... NÃO ESTOU DIZENDO PARA SAIR DAQUI MAS ENTRAR LÁ TAMBÉM\n\nO Meu amigo NÃO sou infiltrado ... meu voto foi para #Bolsonaro no primeiro turno e será para o segundo turno... \n\nEu disse Há infiltrados AQUI e é VERDADE     ..e disse que o verdadeiro apoio ao NOSSO presidente para o bem Da família Brasileira para nossa liberdade de culto e expressão..para uma pátria forte é necessário entrarmos no telegram do PRESIDENTE.\n\nVAMOS ENTRAR NO GRUPO DO PRESIDENTE LÁ SIM VALE A PENA ... NÃO ESTOU DIZENDO PARA SAIR DAQUI MAS ENTRAR LÁ TAMBÉM\n\nO Meu amigo NÃO sou infiltrado ... meu voto foi para #Bolsonaro no primeiro turno e será para o segundo turno... \n\nEu disse Há infiltrados AQUI e é VERDADE     ..e disse que o verdadeiro apoio ao NOSSO presidente para o bem Da família Brasileira para nossa liberdade de culto e expressão..para uma pátria forte é necessário entrarmos no telegram do PRESIDENTE.\n\nVAMOS ENTRAR NO GRUPO DO PRESIDENTE LÁ SIM VALE A PENA ... NÃO ESTOU DIZENDO PARA SAIR DAQUI MAS ENTRAR LÁ TAMBÉM",
         "85"
        ],
        [
         "27",
         "f233cf8b1d4ede06f32199a7e0081bf5",
         "2022-11-05 00:00:00",
         "This community was blocked in Brazil following a decision of the Superior Electoral Court (TSE).",
         "84"
        ],
        [
         "28",
         "0dcbe3583c61d714db240e48abb186ec",
         "2022-10-12 00:00:00",
         "🇮🇷 سکس با دختر 14 ساله را در سایتهای پورن\nبیینید با این vpn 😍😍😍\n\n🇺🇸 Watch sex with a 14-year-old girl on 😱😱porn sites with this vpn\n\n🇹🇷 Ushbu vpn orqali porno saytlarda 14 yoshli qiz bilan jinsiy aloqani tomosha 🤩🤩qiling\n\n🇸🇦 شاهد الجنس مع فتاة تبلغ من العمر 14 عامًا على المواقع الإباحية باستخدام VPN هذا🥰",
         "83"
        ],
        [
         "29",
         "6908364802e043e85b1f2bff313e0926",
         "2022-10-06 00:00:00",
         "Rough_sex🙈",
         "81"
        ],
        [
         "30",
         "a8870bfe23ad4cfd5b3fedb5f26ccff5",
         "2022-10-12 00:00:00",
         "سکس مردان ازبک با زن انگلیسی با این vpn از سایتهای ممنوعه ببینید🙈\n\nشاهد الرجال الأوزبكيين يمارسون الجنس مع النساء الإنجليزيات باستخدام VPN هذا من المواقع المحظورة🚫\n\nTaqiqlangan saytlardan bu vpn orqali o'zbek erkaklari ingliz ayollari bilan jinsiy aloqa qilishlarini ko'ring\n\nSee Uzbek men having sex with English women with this vpn from banned sites",
         "77"
        ],
        [
         "31",
         "729e5594ec58c1e89ca10c8cee073bdf",
         "2022-10-06 00:00:00",
         "Vaginall sex🙈",
         "73"
        ],
        [
         "32",
         "e41f19147fe13b8f1cb266109f23e134",
         "2022-10-19 00:00:00",
         "Vaginal sex🙈",
         "72"
        ],
        [
         "33",
         "a56c3098383c741719f222fbd807ccdb",
         "2022-10-19 00:00:00",
         "Vaginal sex🙈",
         "72"
        ],
        [
         "34",
         "87ac9907e8a10107eb6e9989b1acdd2b",
         "2022-10-18 00:00:00",
         "A.n.a.l🙈",
         "71"
        ],
        [
         "35",
         "c743967449a387ad2c1c7e03b2c45b36",
         "2022-11-03 00:00:00",
         "This community was blocked in Brazil following a decision of the Superior Electoral Court (TSE).",
         "70"
        ],
        [
         "36",
         "085a9539e5897e47c6edf1d71f1fe0aa",
         "2022-10-18 00:00:00",
         "Rough😨💦",
         "66"
        ],
        [
         "37",
         "d0a7fd17e6104c8c2586c4f29f4482f3",
         "2022-10-05 00:00:00",
         "https://noticias.uol.com.br/politica/ultimas-noticias/2022/08/30/patrimonio-familia-jair-bolsonaro-dinheiro-vivo.htm",
         "64"
        ],
        [
         "38",
         "653febf2475e940cae6567f8f6c9102a",
         "2022-10-18 00:00:00",
         "A.n.a.l🙈",
         "64"
        ],
        [
         "39",
         "14d6d666bec8fb0ea9a66fc1aa0ef5a0",
         "2022-10-06 00:00:00",
         "HD (1080p) sex🙈",
         "63"
        ],
        [
         "40",
         "55a14665c42142001c5145ad315f0e19",
         "2022-10-06 00:00:00",
         "Lesbian👩‍❤‍👩",
         "61"
        ],
        [
         "41",
         "653febf2475e940cae6567f8f6c9102a",
         "2022-10-17 00:00:00",
         "A.n.a.l🙈",
         "60"
        ],
        [
         "42",
         "f233cf8b1d4ede06f32199a7e0081bf5",
         "2022-11-07 00:00:00",
         "This community was blocked in Brazil following a decision of the Superior Electoral Court (TSE).",
         "59"
        ],
        [
         "43",
         "5dd5eb34b4ff27a050c43680e4fb18e7",
         "2022-10-10 00:00:00",
         "فیلم سوپر با زیرنویس فارسی ببین😍😍\nبا این فیلترشکن میتونی هروقت دلت خواست فیلم سوپر ببینی😍\n\nAmerikalik ayolni arab erkaklari tomonidan zo'rlanganini ushbu vpn bilan tomosha qiling\nFaqat 18 yoshdan oshganlar\n\nWatch the rape of an American woman by Arab men with this vpn\nOnly people over 18 years old",
         "59"
        ],
        [
         "44",
         "f233cf8b1d4ede06f32199a7e0081bf5",
         "2022-11-02 00:00:00",
         "This community was blocked in Brazil following a decision of the Superior Electoral Court (TSE).",
         "59"
        ],
        [
         "45",
         "5428d7add9f8e29dc2bbdcc85f75f9d6",
         "2022-10-18 00:00:00",
         "Rough😱",
         "59"
        ],
        [
         "46",
         "5c5bbff6e0b2b7d4abb0aa5b9ae8f8b0",
         "2022-10-17 00:00:00",
         "Rough😨💦",
         "58"
        ],
        [
         "47",
         "00f84f574e0b22419dc4ea6b703dc30e",
         "2022-10-06 00:00:00",
         "Rough_sex🙈",
         "57"
        ],
        [
         "48",
         "e1976c56bc0662c60e0161fc79b94e34",
         "2022-10-17 00:00:00",
         "Rough😱",
         "57"
        ],
        [
         "49",
         "5428d7add9f8e29dc2bbdcc85f75f9d6",
         "2022-10-17 00:00:00",
         "Rough😱",
         "57"
        ]
       ],
       "shape": {
        "columns": 4,
        "rows": 18864
       }
      },
      "text/html": [
       "<div>\n",
       "<style scoped>\n",
       "    .dataframe tbody tr th:only-of-type {\n",
       "        vertical-align: middle;\n",
       "    }\n",
       "\n",
       "    .dataframe tbody tr th {\n",
       "        vertical-align: top;\n",
       "    }\n",
       "\n",
       "    .dataframe thead th {\n",
       "        text-align: right;\n",
       "    }\n",
       "</style>\n",
       "<table border=\"1\" class=\"dataframe\">\n",
       "  <thead>\n",
       "    <tr style=\"text-align: right;\">\n",
       "      <th></th>\n",
       "      <th>usuario</th>\n",
       "      <th>data</th>\n",
       "      <th>mensagem</th>\n",
       "      <th>quantidade_envios</th>\n",
       "    </tr>\n",
       "  </thead>\n",
       "  <tbody>\n",
       "    <tr>\n",
       "      <th>0</th>\n",
       "      <td>c743967449a387ad2c1c7e03b2c45b36</td>\n",
       "      <td>2022-11-02</td>\n",
       "      <td>This community was blocked in Brazil following...</td>\n",
       "      <td>157</td>\n",
       "    </tr>\n",
       "    <tr>\n",
       "      <th>1</th>\n",
       "      <td>f3a914b5f81379cdf1689f202fe5ccd9</td>\n",
       "      <td>2022-10-06</td>\n",
       "      <td>Anal sex🙈</td>\n",
       "      <td>144</td>\n",
       "    </tr>\n",
       "    <tr>\n",
       "      <th>2</th>\n",
       "      <td>9b371a7d40877606e49d03281c8ba0f4</td>\n",
       "      <td>2022-10-06</td>\n",
       "      <td>Anal sex🙈</td>\n",
       "      <td>142</td>\n",
       "    </tr>\n",
       "    <tr>\n",
       "      <th>3</th>\n",
       "      <td>f233cf8b1d4ede06f32199a7e0081bf5</td>\n",
       "      <td>2022-11-03</td>\n",
       "      <td>This community was blocked in Brazil following...</td>\n",
       "      <td>142</td>\n",
       "    </tr>\n",
       "    <tr>\n",
       "      <th>4</th>\n",
       "      <td>f233cf8b1d4ede06f32199a7e0081bf5</td>\n",
       "      <td>2022-11-10</td>\n",
       "      <td>This community was blocked in Brazil following...</td>\n",
       "      <td>137</td>\n",
       "    </tr>\n",
       "    <tr>\n",
       "      <th>...</th>\n",
       "      <td>...</td>\n",
       "      <td>...</td>\n",
       "      <td>...</td>\n",
       "      <td>...</td>\n",
       "    </tr>\n",
       "    <tr>\n",
       "      <th>18859</th>\n",
       "      <td>dd9c0c1bfcb4e0e85548fea1b88401cd</td>\n",
       "      <td>2022-11-10</td>\n",
       "      <td>This community was blocked in Brazil following...</td>\n",
       "      <td>2</td>\n",
       "    </tr>\n",
       "    <tr>\n",
       "      <th>18860</th>\n",
       "      <td>8235541b3c7bb4d4b7621e92ae4d0511</td>\n",
       "      <td>2022-11-10</td>\n",
       "      <td>https://invierte.biz/archivos/15123</td>\n",
       "      <td>2</td>\n",
       "    </tr>\n",
       "    <tr>\n",
       "      <th>18861</th>\n",
       "      <td>c036e73cb7dae68e90f8fdc894ad0862</td>\n",
       "      <td>2022-11-10</td>\n",
       "      <td>Atentem-se ao item 9 da página 2 do relatório ...</td>\n",
       "      <td>2</td>\n",
       "    </tr>\n",
       "    <tr>\n",
       "      <th>18862</th>\n",
       "      <td>a7e85072244cae15446c9d517dc01a1a</td>\n",
       "      <td>2022-11-10</td>\n",
       "      <td>Temos pela frente uma data histórica 15 de Nov...</td>\n",
       "      <td>2</td>\n",
       "    </tr>\n",
       "    <tr>\n",
       "      <th>18863</th>\n",
       "      <td>e5e3e38d433016adf62ea34432853a3c</td>\n",
       "      <td>2022-11-11</td>\n",
       "      <td>This community was blocked in Brazil following...</td>\n",
       "      <td>2</td>\n",
       "    </tr>\n",
       "  </tbody>\n",
       "</table>\n",
       "<p>18864 rows × 4 columns</p>\n",
       "</div>"
      ],
      "text/plain": [
       "                                usuario       data  \\\n",
       "0      c743967449a387ad2c1c7e03b2c45b36 2022-11-02   \n",
       "1      f3a914b5f81379cdf1689f202fe5ccd9 2022-10-06   \n",
       "2      9b371a7d40877606e49d03281c8ba0f4 2022-10-06   \n",
       "3      f233cf8b1d4ede06f32199a7e0081bf5 2022-11-03   \n",
       "4      f233cf8b1d4ede06f32199a7e0081bf5 2022-11-10   \n",
       "...                                 ...        ...   \n",
       "18859  dd9c0c1bfcb4e0e85548fea1b88401cd 2022-11-10   \n",
       "18860  8235541b3c7bb4d4b7621e92ae4d0511 2022-11-10   \n",
       "18861  c036e73cb7dae68e90f8fdc894ad0862 2022-11-10   \n",
       "18862  a7e85072244cae15446c9d517dc01a1a 2022-11-10   \n",
       "18863  e5e3e38d433016adf62ea34432853a3c 2022-11-11   \n",
       "\n",
       "                                                mensagem  quantidade_envios  \n",
       "0      This community was blocked in Brazil following...                157  \n",
       "1                                              Anal sex🙈                144  \n",
       "2                                              Anal sex🙈                142  \n",
       "3      This community was blocked in Brazil following...                142  \n",
       "4      This community was blocked in Brazil following...                137  \n",
       "...                                                  ...                ...  \n",
       "18859  This community was blocked in Brazil following...                  2  \n",
       "18860                https://invierte.biz/archivos/15123                  2  \n",
       "18861  Atentem-se ao item 9 da página 2 do relatório ...                  2  \n",
       "18862  Temos pela frente uma data histórica 15 de Nov...                  2  \n",
       "18863  This community was blocked in Brazil following...                  2  \n",
       "\n",
       "[18864 rows x 4 columns]"
      ]
     },
     "metadata": {},
     "output_type": "display_data"
    }
   ],
   "source": [
    "qtd_mensagens_identicas = conn.execute(\"\"\"\n",
    "SELECT\n",
    "    id_member_anonymous AS usuario,\n",
    "    CAST(date_message AS DATE) as data,\n",
    "    text_content_anonymous AS mensagem,\n",
    "    COUNT(*) AS quantidade_envios\n",
    "FROM tabela_dados\n",
    "WHERE\n",
    "    id_member_anonymous IS NOT NULL\n",
    "    AND text_content_anonymous IS NOT NULL\n",
    "    AND TRIM(text_content_anonymous) <> ''\n",
    "GROUP BY id_member_anonymous, CAST(date_message AS DATE), text_content_anonymous\n",
    "HAVING COUNT(*) > 1\n",
    "ORDER BY quantidade_envios DESC;\n",
    "\"\"\").fetchdf()\n",
    "\n",
    "display(qtd_mensagens_identicas)"
   ]
  },
  {
   "cell_type": "markdown",
   "id": "e081c605",
   "metadata": {},
   "source": [
    "---"
   ]
  },
  {
   "cell_type": "markdown",
   "id": "fc2d0f72",
   "metadata": {},
   "source": [
    "#### **20**. Mensagens idênticas compartilhadas pelo mesmo usuário em grupos distintos (e suas quantidades)"
   ]
  },
  {
   "cell_type": "markdown",
   "id": "e5dfffee",
   "metadata": {},
   "source": [
    "Essa consulta mostra quais mensagens foram compartilhadas pelo mesmo usuário em mais de um grupo. Isso ajuda a identificar comportamentos de distribuição ativa de conteúdo, como quando alguém 'espalha' uma mensagem por vários grupos. Filtrei só os casos com mais de um grupo distinto pra focar nos casos relevantes. O fluxo da consulta segue a estrutura abaixo:\n",
    "\n",
    "- Agrupar por:\n",
    "    - id_member_anonymous → quem enviou,\n",
    "    - text_content_anonymous → o conteúdo da mensagem,\n",
    "    - id_group_anonymous → o grupo onde foi enviada.\n",
    "\n",
    "- Em seguida, recontar quantos grupos distintos receberam a mesma mensagem do mesmo usuário.\n",
    "\n",
    "- Filtrar apenas os casos com mais de 1 grupo.\n",
    "\n"
   ]
  },
  {
   "cell_type": "code",
   "execution_count": 33,
   "id": "be06b2d6",
   "metadata": {},
   "outputs": [
    {
     "data": {
      "application/vnd.jupyter.widget-view+json": {
       "model_id": "1d38d884d59f48ccaf66176afe9a774e",
       "version_major": 2,
       "version_minor": 0
      },
      "text/plain": [
       "FloatProgress(value=0.0, layout=Layout(width='auto'), style=ProgressStyle(bar_color='black'))"
      ]
     },
     "metadata": {},
     "output_type": "display_data"
    },
    {
     "data": {
      "application/vnd.microsoft.datawrangler.viewer.v0+json": {
       "columns": [
        {
         "name": "index",
         "rawType": "int64",
         "type": "integer"
        },
        {
         "name": "usuario",
         "rawType": "object",
         "type": "string"
        },
        {
         "name": "grupo",
         "rawType": "object",
         "type": "string"
        },
        {
         "name": "data",
         "rawType": "datetime64[us]",
         "type": "unknown"
        },
        {
         "name": "mensagem",
         "rawType": "object",
         "type": "string"
        },
        {
         "name": "quantidade_envios",
         "rawType": "int64",
         "type": "integer"
        }
       ],
       "conversionMethod": "pd.DataFrame",
       "ref": "d65972f2-5971-4bda-8609-7de985633e97",
       "rows": [
        [
         "0",
         "c743967449a387ad2c1c7e03b2c45b36",
         "f0944ed1832d8c1f1213d6123746f111",
         "2022-11-02 00:00:00",
         "This community was blocked in Brazil following a decision of the Superior Electoral Court (TSE).",
         "157"
        ],
        [
         "1",
         "f3a914b5f81379cdf1689f202fe5ccd9",
         "89288ae64f9a7fcac9dc4613fac36185",
         "2022-10-06 00:00:00",
         "Anal sex🙈",
         "144"
        ],
        [
         "2",
         "9b371a7d40877606e49d03281c8ba0f4",
         "89288ae64f9a7fcac9dc4613fac36185",
         "2022-10-06 00:00:00",
         "Anal sex🙈",
         "142"
        ],
        [
         "3",
         "f233cf8b1d4ede06f32199a7e0081bf5",
         "857cd5311da1bdc15eb9e6918a47c6c6",
         "2022-11-03 00:00:00",
         "This community was blocked in Brazil following a decision of the Superior Electoral Court (TSE).",
         "141"
        ],
        [
         "4",
         "f233cf8b1d4ede06f32199a7e0081bf5",
         "857cd5311da1bdc15eb9e6918a47c6c6",
         "2022-11-04 00:00:00",
         "This community was blocked in Brazil following a decision of the Superior Electoral Court (TSE).",
         "137"
        ],
        [
         "5",
         "f233cf8b1d4ede06f32199a7e0081bf5",
         "857cd5311da1bdc15eb9e6918a47c6c6",
         "2022-11-10 00:00:00",
         "This community was blocked in Brazil following a decision of the Superior Electoral Court (TSE).",
         "136"
        ],
        [
         "6",
         "17916aca7f2d50e4f30761dd76986ff6",
         "eff93933ee611fcb65b70c399f771a5b",
         "2022-10-12 00:00:00",
         "سکس مردان ازبک با زن انگلیسی با این vpn از سایتهای ممنوعه ببینید🙈\n\nشاهد الرجال الأوزبكيين يمارسون الجنس مع النساء الإنجليزيات باستخدام VPN هذا من المواقع المحظورة🚫\n\nTaqiqlangan saytlardan bu vpn orqali o'zbek erkaklari ingliz ayollari bilan jinsiy aloqa qilishlarini ko'ring\n\nSee Uzbek men having sex with English women with this vpn from banned sites",
         "127"
        ],
        [
         "7",
         "f32fb55955515e8a98429f9089df960f",
         "eff93933ee611fcb65b70c399f771a5b",
         "2022-10-12 00:00:00",
         "سکس مردان ازبک با زن انگلیسی با این vpn از سایتهای ممنوعه ببینید🙈\n\nشاهد الرجال الأوزبكيين يمارسون الجنس مع النساء الإنجليزيات باستخدام VPN هذا من المواقع المحظورة🚫\n\nTaqiqlangan saytlardan bu vpn orqali o'zbek erkaklari ingliz ayollari bilan jinsiy aloqa qilishlarini ko'ring\n\nSee Uzbek men having sex with English women with this vpn from banned sites",
         "124"
        ],
        [
         "8",
         "f48d327d4d2e0542af2d0d6e47503ad2",
         "89288ae64f9a7fcac9dc4613fac36185",
         "2022-10-06 00:00:00",
         "Rough_sex🙈",
         "120"
        ],
        [
         "9",
         "bbfbcf36aa8384a943aa8928f98e5b99",
         "89288ae64f9a7fcac9dc4613fac36185",
         "2022-10-06 00:00:00",
         "Rough_sex🙈",
         "114"
        ],
        [
         "10",
         "8c5e8ef2c1b1fc8f3edead5c2bc66857",
         "89288ae64f9a7fcac9dc4613fac36185",
         "2022-10-06 00:00:00",
         "Anal sex🙈",
         "112"
        ],
        [
         "11",
         "f233cf8b1d4ede06f32199a7e0081bf5",
         "857cd5311da1bdc15eb9e6918a47c6c6",
         "2022-11-06 00:00:00",
         "This community was blocked in Brazil following a decision of the Superior Electoral Court (TSE).",
         "112"
        ],
        [
         "12",
         "ff641ad3b925b40c4183a929ddea8c1a",
         "89288ae64f9a7fcac9dc4613fac36185",
         "2022-10-06 00:00:00",
         "HD (1080p) sex🙈",
         "111"
        ],
        [
         "13",
         "167db5613cd8235c443146d086ef40aa",
         "eff93933ee611fcb65b70c399f771a5b",
         "2022-10-12 00:00:00",
         "فیلم سوپر با زیرنویس فارسی ببین😍😍\nبا این فیلترشکن میتونی هروقت دلت خواست فیلم سوپر ببینی😍\n\nAmerikalik ayolni arab erkaklari tomonidan zo'rlanganini ushbu vpn bilan tomosha qiling\nFaqat 18 yoshdan oshganlar\n\nWatch the rape of an American woman by Arab men with this vpn\nOnly people over 18 years old",
         "110"
        ],
        [
         "14",
         "23d14a50cb82952a04645e779f48206a",
         "eff93933ee611fcb65b70c399f771a5b",
         "2022-10-12 00:00:00",
         "سکس مردان ازبک با زن انگلیسی با این vpn از سایتهای ممنوعه ببینید🙈\n\nشاهد الرجال الأوزبكيين يمارسون الجنس مع النساء الإنجليزيات باستخدام VPN هذا من المواقع المحظورة🚫\n\nTaqiqlangan saytlardan bu vpn orqali o'zbek erkaklari ingliz ayollari bilan jinsiy aloqa qilishlarini ko'ring\n\nSee Uzbek men having sex with English women with this vpn from banned sites",
         "104"
        ],
        [
         "15",
         "f233cf8b1d4ede06f32199a7e0081bf5",
         "857cd5311da1bdc15eb9e6918a47c6c6",
         "2022-11-09 00:00:00",
         "This community was blocked in Brazil following a decision of the Superior Electoral Court (TSE).",
         "100"
        ],
        [
         "16",
         "e3b2ad172093d30591063f71344cf177",
         "89288ae64f9a7fcac9dc4613fac36185",
         "2022-10-06 00:00:00",
         "Anal sex🙈",
         "100"
        ],
        [
         "17",
         "7696d5103cdb8ac352d748a1db1126b0",
         "9f2d7394334eb224c061c9740b5748fc",
         "2022-11-08 00:00:00",
         "This community was blocked in Brazil following a decision of the Superior Electoral Court (TSE).",
         "99"
        ],
        [
         "18",
         "7696d5103cdb8ac352d748a1db1126b0",
         "9f2d7394334eb224c061c9740b5748fc",
         "2022-11-05 00:00:00",
         "This community was blocked in Brazil following a decision of the Superior Electoral Court (TSE).",
         "99"
        ],
        [
         "19",
         "e12cd087a297593d24f7c92d6309f105",
         "eff93933ee611fcb65b70c399f771a5b",
         "2022-10-19 00:00:00",
         "Rough😨💦",
         "96"
        ],
        [
         "20",
         "c743967449a387ad2c1c7e03b2c45b36",
         "f0944ed1832d8c1f1213d6123746f111",
         "2022-11-04 00:00:00",
         "This community was blocked in Brazil following a decision of the Superior Electoral Court (TSE).",
         "94"
        ],
        [
         "21",
         "396c035099bb75f47a1f08f59432f82c",
         "eff93933ee611fcb65b70c399f771a5b",
         "2022-10-12 00:00:00",
         "فیلم سوپر با زیرنویس فارسی ببین😍😍\nبا این فیلترشکن میتونی هروقت دلت خواست فیلم سوپر ببینی😍\n\nAmerikalik ayolni arab erkaklari tomonidan zo'rlanganini ushbu vpn bilan tomosha qiling\nFaqat 18 yoshdan oshganlar\n\nWatch the rape of an American woman by Arab men with this vpn\nOnly people over 18 years old",
         "94"
        ],
        [
         "22",
         "d94337b1b8b21dc0cf178886c93d890e",
         "eff93933ee611fcb65b70c399f771a5b",
         "2022-10-12 00:00:00",
         "سکس مردان ازبک با زن انگلیسی با این vpn از سایتهای ممنوعه ببینید🙈\n\nشاهد الرجال الأوزبكيين يمارسون الجنس مع النساء الإنجليزيات باستخدام VPN هذا من المواقع المحظورة🚫\n\nTaqiqlangan saytlardan bu vpn orqali o'zbek erkaklari ingliz ayollari bilan jinsiy aloqa qilishlarini ko'ring\n\nSee Uzbek men having sex with English women with this vpn from banned sites",
         "93"
        ],
        [
         "23",
         "7696d5103cdb8ac352d748a1db1126b0",
         "9f2d7394334eb224c061c9740b5748fc",
         "2022-11-06 00:00:00",
         "This community was blocked in Brazil following a decision of the Superior Electoral Court (TSE).",
         "89"
        ],
        [
         "24",
         "97ac116fb958a80ae81d54d3bb6ece2c",
         "64201f236fb5cc9f867d233ec48c0e2c",
         "2022-10-05 00:00:00",
         "O Meu amigo NÃO sou infiltrado ... meu voto foi para #Bolsonaro no primeiro turno e será para o segundo turno... \n\nEu disse Há infiltrados AQUI e é VERDADE     ..e disse que o verdadeiro apoio ao NOSSO presidente para o bem Da família Brasileira para nossa liberdade de culto e expressão..para uma pátria forte é necessário entrarmos no telegram do PRESIDENTE.\n\nVAMOS ENTRAR NO GRUPO DO PRESIDENTE LÁ SIM VALE A PENA ... NÃO ESTOU DIZENDO PARA SAIR DAQUI MAS ENTRAR LÁ TAMBÉM\n\nO Meu amigo NÃO sou infiltrado ... meu voto foi para #Bolsonaro no primeiro turno e será para o segundo turno... \n\nEu disse Há infiltrados AQUI e é VERDADE     ..e disse que o verdadeiro apoio ao NOSSO presidente para o bem Da família Brasileira para nossa liberdade de culto e expressão..para uma pátria forte é necessário entrarmos no telegram do PRESIDENTE.\n\nVAMOS ENTRAR NO GRUPO DO PRESIDENTE LÁ SIM VALE A PENA ... NÃO ESTOU DIZENDO PARA SAIR DAQUI MAS ENTRAR LÁ TAMBÉM\n\nO Meu amigo NÃO sou infiltrado ... meu voto foi para #Bolsonaro no primeiro turno e será para o segundo turno... \n\nEu disse Há infiltrados AQUI e é VERDADE     ..e disse que o verdadeiro apoio ao NOSSO presidente para o bem Da família Brasileira para nossa liberdade de culto e expressão..para uma pátria forte é necessário entrarmos no telegram do PRESIDENTE.\n\nVAMOS ENTRAR NO GRUPO DO PRESIDENTE LÁ SIM VALE A PENA ... NÃO ESTOU DIZENDO PARA SAIR DAQUI MAS ENTRAR LÁ TAMBÉM\n\nO Meu amigo NÃO sou infiltrado ... meu voto foi para #Bolsonaro no primeiro turno e será para o segundo turno... \n\nEu disse Há infiltrados AQUI e é VERDADE     ..e disse que o verdadeiro apoio ao NOSSO presidente para o bem Da família Brasileira para nossa liberdade de culto e expressão..para uma pátria forte é necessário entrarmos no telegram do PRESIDENTE.\n\nVAMOS ENTRAR NO GRUPO DO PRESIDENTE LÁ SIM VALE A PENA ... NÃO ESTOU DIZENDO PARA SAIR DAQUI MAS ENTRAR LÁ TAMBÉM",
         "85"
        ],
        [
         "25",
         "0dcbe3583c61d714db240e48abb186ec",
         "eff93933ee611fcb65b70c399f771a5b",
         "2022-10-12 00:00:00",
         "🇮🇷 سکس با دختر 14 ساله را در سایتهای پورن\nبیینید با این vpn 😍😍😍\n\n🇺🇸 Watch sex with a 14-year-old girl on 😱😱porn sites with this vpn\n\n🇹🇷 Ushbu vpn orqali porno saytlarda 14 yoshli qiz bilan jinsiy aloqani tomosha 🤩🤩qiling\n\n🇸🇦 شاهد الجنس مع فتاة تبلغ من العمر 14 عامًا على المواقع الإباحية باستخدام VPN هذا🥰",
         "83"
        ],
        [
         "26",
         "6908364802e043e85b1f2bff313e0926",
         "89288ae64f9a7fcac9dc4613fac36185",
         "2022-10-06 00:00:00",
         "Rough_sex🙈",
         "81"
        ],
        [
         "27",
         "a8870bfe23ad4cfd5b3fedb5f26ccff5",
         "eff93933ee611fcb65b70c399f771a5b",
         "2022-10-12 00:00:00",
         "سکس مردان ازبک با زن انگلیسی با این vpn از سایتهای ممنوعه ببینید🙈\n\nشاهد الرجال الأوزبكيين يمارسون الجنس مع النساء الإنجليزيات باستخدام VPN هذا من المواقع المحظورة🚫\n\nTaqiqlangan saytlardan bu vpn orqali o'zbek erkaklari ingliz ayollari bilan jinsiy aloqa qilishlarini ko'ring\n\nSee Uzbek men having sex with English women with this vpn from banned sites",
         "77"
        ],
        [
         "28",
         "729e5594ec58c1e89ca10c8cee073bdf",
         "89288ae64f9a7fcac9dc4613fac36185",
         "2022-10-06 00:00:00",
         "Vaginall sex🙈",
         "73"
        ],
        [
         "29",
         "e41f19147fe13b8f1cb266109f23e134",
         "eff93933ee611fcb65b70c399f771a5b",
         "2022-10-19 00:00:00",
         "Vaginal sex🙈",
         "72"
        ],
        [
         "30",
         "a56c3098383c741719f222fbd807ccdb",
         "eff93933ee611fcb65b70c399f771a5b",
         "2022-10-19 00:00:00",
         "Vaginal sex🙈",
         "72"
        ],
        [
         "31",
         "f233cf8b1d4ede06f32199a7e0081bf5",
         "857cd5311da1bdc15eb9e6918a47c6c6",
         "2022-11-05 00:00:00",
         "This community was blocked in Brazil following a decision of the Superior Electoral Court (TSE).",
         "71"
        ],
        [
         "32",
         "87ac9907e8a10107eb6e9989b1acdd2b",
         "eff93933ee611fcb65b70c399f771a5b",
         "2022-10-18 00:00:00",
         "A.n.a.l🙈",
         "71"
        ],
        [
         "33",
         "c743967449a387ad2c1c7e03b2c45b36",
         "f0944ed1832d8c1f1213d6123746f111",
         "2022-11-03 00:00:00",
         "This community was blocked in Brazil following a decision of the Superior Electoral Court (TSE).",
         "70"
        ],
        [
         "34",
         "085a9539e5897e47c6edf1d71f1fe0aa",
         "eff93933ee611fcb65b70c399f771a5b",
         "2022-10-18 00:00:00",
         "Rough😨💦",
         "66"
        ],
        [
         "35",
         "d0a7fd17e6104c8c2586c4f29f4482f3",
         "5b10d7739171149be6d9961e3350c071",
         "2022-10-05 00:00:00",
         "https://noticias.uol.com.br/politica/ultimas-noticias/2022/08/30/patrimonio-familia-jair-bolsonaro-dinheiro-vivo.htm",
         "64"
        ],
        [
         "36",
         "653febf2475e940cae6567f8f6c9102a",
         "eff93933ee611fcb65b70c399f771a5b",
         "2022-10-18 00:00:00",
         "A.n.a.l🙈",
         "64"
        ],
        [
         "37",
         "14d6d666bec8fb0ea9a66fc1aa0ef5a0",
         "89288ae64f9a7fcac9dc4613fac36185",
         "2022-10-06 00:00:00",
         "HD (1080p) sex🙈",
         "63"
        ],
        [
         "38",
         "55a14665c42142001c5145ad315f0e19",
         "89288ae64f9a7fcac9dc4613fac36185",
         "2022-10-06 00:00:00",
         "Lesbian👩‍❤‍👩",
         "61"
        ],
        [
         "39",
         "653febf2475e940cae6567f8f6c9102a",
         "eff93933ee611fcb65b70c399f771a5b",
         "2022-10-17 00:00:00",
         "A.n.a.l🙈",
         "60"
        ],
        [
         "40",
         "5428d7add9f8e29dc2bbdcc85f75f9d6",
         "eff93933ee611fcb65b70c399f771a5b",
         "2022-10-18 00:00:00",
         "Rough😱",
         "59"
        ],
        [
         "41",
         "f233cf8b1d4ede06f32199a7e0081bf5",
         "857cd5311da1bdc15eb9e6918a47c6c6",
         "2022-11-02 00:00:00",
         "This community was blocked in Brazil following a decision of the Superior Electoral Court (TSE).",
         "59"
        ],
        [
         "42",
         "5dd5eb34b4ff27a050c43680e4fb18e7",
         "eff93933ee611fcb65b70c399f771a5b",
         "2022-10-10 00:00:00",
         "فیلم سوپر با زیرنویس فارسی ببین😍😍\nبا این فیلترشکن میتونی هروقت دلت خواست فیلم سوپر ببینی😍\n\nAmerikalik ayolni arab erkaklari tomonidan zo'rlanganini ushbu vpn bilan tomosha qiling\nFaqat 18 yoshdan oshganlar\n\nWatch the rape of an American woman by Arab men with this vpn\nOnly people over 18 years old",
         "59"
        ],
        [
         "43",
         "5c5bbff6e0b2b7d4abb0aa5b9ae8f8b0",
         "eff93933ee611fcb65b70c399f771a5b",
         "2022-10-17 00:00:00",
         "Rough😨💦",
         "58"
        ],
        [
         "44",
         "f233cf8b1d4ede06f32199a7e0081bf5",
         "857cd5311da1bdc15eb9e6918a47c6c6",
         "2022-11-07 00:00:00",
         "This community was blocked in Brazil following a decision of the Superior Electoral Court (TSE).",
         "58"
        ],
        [
         "45",
         "00f84f574e0b22419dc4ea6b703dc30e",
         "89288ae64f9a7fcac9dc4613fac36185",
         "2022-10-06 00:00:00",
         "Rough_sex🙈",
         "57"
        ],
        [
         "46",
         "5428d7add9f8e29dc2bbdcc85f75f9d6",
         "eff93933ee611fcb65b70c399f771a5b",
         "2022-10-17 00:00:00",
         "Rough😱",
         "57"
        ],
        [
         "47",
         "441fd1aad6d5d5fb355ec50f5b2b07cf",
         "89288ae64f9a7fcac9dc4613fac36185",
         "2022-10-09 00:00:00",
         "Anal sex🙈",
         "57"
        ],
        [
         "48",
         "e1976c56bc0662c60e0161fc79b94e34",
         "eff93933ee611fcb65b70c399f771a5b",
         "2022-10-17 00:00:00",
         "Rough😱",
         "57"
        ],
        [
         "49",
         "7886c48cf883739cd98d7b21598f74d9",
         "eff93933ee611fcb65b70c399f771a5b",
         "2022-10-19 00:00:00",
         "Rough😱",
         "56"
        ]
       ],
       "shape": {
        "columns": 5,
        "rows": 7240
       }
      },
      "text/html": [
       "<div>\n",
       "<style scoped>\n",
       "    .dataframe tbody tr th:only-of-type {\n",
       "        vertical-align: middle;\n",
       "    }\n",
       "\n",
       "    .dataframe tbody tr th {\n",
       "        vertical-align: top;\n",
       "    }\n",
       "\n",
       "    .dataframe thead th {\n",
       "        text-align: right;\n",
       "    }\n",
       "</style>\n",
       "<table border=\"1\" class=\"dataframe\">\n",
       "  <thead>\n",
       "    <tr style=\"text-align: right;\">\n",
       "      <th></th>\n",
       "      <th>usuario</th>\n",
       "      <th>grupo</th>\n",
       "      <th>data</th>\n",
       "      <th>mensagem</th>\n",
       "      <th>quantidade_envios</th>\n",
       "    </tr>\n",
       "  </thead>\n",
       "  <tbody>\n",
       "    <tr>\n",
       "      <th>0</th>\n",
       "      <td>c743967449a387ad2c1c7e03b2c45b36</td>\n",
       "      <td>f0944ed1832d8c1f1213d6123746f111</td>\n",
       "      <td>2022-11-02</td>\n",
       "      <td>This community was blocked in Brazil following...</td>\n",
       "      <td>157</td>\n",
       "    </tr>\n",
       "    <tr>\n",
       "      <th>1</th>\n",
       "      <td>f3a914b5f81379cdf1689f202fe5ccd9</td>\n",
       "      <td>89288ae64f9a7fcac9dc4613fac36185</td>\n",
       "      <td>2022-10-06</td>\n",
       "      <td>Anal sex🙈</td>\n",
       "      <td>144</td>\n",
       "    </tr>\n",
       "    <tr>\n",
       "      <th>2</th>\n",
       "      <td>9b371a7d40877606e49d03281c8ba0f4</td>\n",
       "      <td>89288ae64f9a7fcac9dc4613fac36185</td>\n",
       "      <td>2022-10-06</td>\n",
       "      <td>Anal sex🙈</td>\n",
       "      <td>142</td>\n",
       "    </tr>\n",
       "    <tr>\n",
       "      <th>3</th>\n",
       "      <td>f233cf8b1d4ede06f32199a7e0081bf5</td>\n",
       "      <td>857cd5311da1bdc15eb9e6918a47c6c6</td>\n",
       "      <td>2022-11-03</td>\n",
       "      <td>This community was blocked in Brazil following...</td>\n",
       "      <td>141</td>\n",
       "    </tr>\n",
       "    <tr>\n",
       "      <th>4</th>\n",
       "      <td>f233cf8b1d4ede06f32199a7e0081bf5</td>\n",
       "      <td>857cd5311da1bdc15eb9e6918a47c6c6</td>\n",
       "      <td>2022-11-04</td>\n",
       "      <td>This community was blocked in Brazil following...</td>\n",
       "      <td>137</td>\n",
       "    </tr>\n",
       "    <tr>\n",
       "      <th>...</th>\n",
       "      <td>...</td>\n",
       "      <td>...</td>\n",
       "      <td>...</td>\n",
       "      <td>...</td>\n",
       "      <td>...</td>\n",
       "    </tr>\n",
       "    <tr>\n",
       "      <th>7235</th>\n",
       "      <td>897d0b98691f2adc374db16ce6b15c0d</td>\n",
       "      <td>5b10d7739171149be6d9961e3350c071</td>\n",
       "      <td>2022-10-31</td>\n",
       "      <td>[31/10 02:35] Adilson Nadaline: Terminou agora...</td>\n",
       "      <td>2</td>\n",
       "    </tr>\n",
       "    <tr>\n",
       "      <th>7236</th>\n",
       "      <td>aaa62078e8a08c4923e20d534c6962d1</td>\n",
       "      <td>857cd5311da1bdc15eb9e6918a47c6c6</td>\n",
       "      <td>2022-10-31</td>\n",
       "      <td>📢 ATENÇÃO 🚨 🇧🇷🇧🇷🇧🇷\\nNÃO DEPENDAM OU EXIJAM APE...</td>\n",
       "      <td>2</td>\n",
       "    </tr>\n",
       "    <tr>\n",
       "      <th>7237</th>\n",
       "      <td>c743967449a387ad2c1c7e03b2c45b36</td>\n",
       "      <td>f0944ed1832d8c1f1213d6123746f111</td>\n",
       "      <td>2022-10-31</td>\n",
       "      <td>Alessandra, pressione o botão abaixo dentro de...</td>\n",
       "      <td>2</td>\n",
       "    </tr>\n",
       "    <tr>\n",
       "      <th>7238</th>\n",
       "      <td>b3ca12ce4b195df14996eed9845aee8b</td>\n",
       "      <td>857cd5311da1bdc15eb9e6918a47c6c6</td>\n",
       "      <td>2022-10-31</td>\n",
       "      <td>Galera me chama Agnelo Junior ,sou Nordestino ...</td>\n",
       "      <td>2</td>\n",
       "    </tr>\n",
       "    <tr>\n",
       "      <th>7239</th>\n",
       "      <td>a2f306d00f22b310c2de89232f3b253e</td>\n",
       "      <td>b1f612edb04d13eaa91cf2b98d81e7fb</td>\n",
       "      <td>2022-11-10</td>\n",
       "      <td>👨‍✈️🧑‍🎨🛞\\nVisitem nosso canal: 🔰[USER]</td>\n",
       "      <td>2</td>\n",
       "    </tr>\n",
       "  </tbody>\n",
       "</table>\n",
       "<p>7240 rows × 5 columns</p>\n",
       "</div>"
      ],
      "text/plain": [
       "                               usuario                             grupo  \\\n",
       "0     c743967449a387ad2c1c7e03b2c45b36  f0944ed1832d8c1f1213d6123746f111   \n",
       "1     f3a914b5f81379cdf1689f202fe5ccd9  89288ae64f9a7fcac9dc4613fac36185   \n",
       "2     9b371a7d40877606e49d03281c8ba0f4  89288ae64f9a7fcac9dc4613fac36185   \n",
       "3     f233cf8b1d4ede06f32199a7e0081bf5  857cd5311da1bdc15eb9e6918a47c6c6   \n",
       "4     f233cf8b1d4ede06f32199a7e0081bf5  857cd5311da1bdc15eb9e6918a47c6c6   \n",
       "...                                ...                               ...   \n",
       "7235  897d0b98691f2adc374db16ce6b15c0d  5b10d7739171149be6d9961e3350c071   \n",
       "7236  aaa62078e8a08c4923e20d534c6962d1  857cd5311da1bdc15eb9e6918a47c6c6   \n",
       "7237  c743967449a387ad2c1c7e03b2c45b36  f0944ed1832d8c1f1213d6123746f111   \n",
       "7238  b3ca12ce4b195df14996eed9845aee8b  857cd5311da1bdc15eb9e6918a47c6c6   \n",
       "7239  a2f306d00f22b310c2de89232f3b253e  b1f612edb04d13eaa91cf2b98d81e7fb   \n",
       "\n",
       "           data                                           mensagem  \\\n",
       "0    2022-11-02  This community was blocked in Brazil following...   \n",
       "1    2022-10-06                                          Anal sex🙈   \n",
       "2    2022-10-06                                          Anal sex🙈   \n",
       "3    2022-11-03  This community was blocked in Brazil following...   \n",
       "4    2022-11-04  This community was blocked in Brazil following...   \n",
       "...         ...                                                ...   \n",
       "7235 2022-10-31  [31/10 02:35] Adilson Nadaline: Terminou agora...   \n",
       "7236 2022-10-31  📢 ATENÇÃO 🚨 🇧🇷🇧🇷🇧🇷\\nNÃO DEPENDAM OU EXIJAM APE...   \n",
       "7237 2022-10-31  Alessandra, pressione o botão abaixo dentro de...   \n",
       "7238 2022-10-31  Galera me chama Agnelo Junior ,sou Nordestino ...   \n",
       "7239 2022-11-10             👨‍✈️🧑‍🎨🛞\\nVisitem nosso canal: 🔰[USER]   \n",
       "\n",
       "      quantidade_envios  \n",
       "0                   157  \n",
       "1                   144  \n",
       "2                   142  \n",
       "3                   141  \n",
       "4                   137  \n",
       "...                 ...  \n",
       "7235                  2  \n",
       "7236                  2  \n",
       "7237                  2  \n",
       "7238                  2  \n",
       "7239                  2  \n",
       "\n",
       "[7240 rows x 5 columns]"
      ]
     },
     "metadata": {},
     "output_type": "display_data"
    }
   ],
   "source": [
    "qtd_msg_identicas_grupos_distintos = conn.execute(\"\"\"\n",
    "    SELECT\n",
    "        id_member_anonymous AS usuario,\n",
    "        id_group_anonymous AS grupo,\n",
    "        CAST(date_message AS DATE) AS data,\n",
    "        text_content_anonymous AS mensagem,\n",
    "        COUNT(*) AS quantidade_envios\n",
    "    FROM tabela_dados\n",
    "    WHERE\n",
    "        id_member_anonymous IS NOT NULL\n",
    "        AND id_group_anonymous IS NOT NULL\n",
    "        AND text_content_anonymous IS NOT NULL\n",
    "        AND TRIM(text_content_anonymous) <> ''\n",
    "    GROUP BY\n",
    "        id_member_anonymous, id_group_anonymous, CAST(date_message AS DATE), text_content_anonymous\n",
    "    HAVING COUNT(*) > 1\n",
    "    ORDER BY quantidade_envios DESC;\n",
    "\"\"\").fetchdf()\n",
    "\n",
    "display(qtd_msg_identicas_grupos_distintos)"
   ]
  },
  {
   "cell_type": "markdown",
   "id": "f5c3fa9f",
   "metadata": {},
   "source": [
    "---"
   ]
  },
  {
   "cell_type": "markdown",
   "id": "87246613",
   "metadata": {},
   "source": [
    "#### **21**. Os 30 unigramas, bigramas e trigramas mais compartilhados"
   ]
  },
  {
   "cell_type": "markdown",
   "id": "6ac5bc90",
   "metadata": {},
   "source": [
    "A ideia aqui é encontrar os 30 unigramas, bigramas e trigramas mais compartilhados nas mensagens. Para isso:\n",
    "\n",
    "- Filtrei as mensagens, garantindo que só as não nulas e não vazias sejam analisadas.\n",
    "\n",
    "- Tokenizei o texto, separando as mensagens em palavras com o scikit-learn. \n",
    "\n",
    "- A função `gerar_ngrams_sklearn` recebe a lista de mensagens e o número n para gerar os unigramas (1 palavra), bigramas (2 palavras) e trigramas (3 palavras). O CountVectorizer é utilizado para extrair essas sequências de palavras.\n",
    "\n",
    "- Contei a frequência de cada n-grama e mostrei os 30 mais comuns. O `CountVectorizer` transforma as mensagens em uma matriz de contagem, e a frequência de cada n-grama é somada. Depois, os n-gramas são ordenados pela frequência em ordem decrescente."
   ]
  },
  {
   "cell_type": "code",
   "execution_count": 34,
   "id": "32af1d15",
   "metadata": {},
   "outputs": [
    {
     "ename": "KeyboardInterrupt",
     "evalue": "",
     "output_type": "error",
     "traceback": [
      "\u001b[1;31m---------------------------------------------------------------------------\u001b[0m",
      "\u001b[1;31mKeyboardInterrupt\u001b[0m                         Traceback (most recent call last)",
      "Cell \u001b[1;32mIn[34], line 3\u001b[0m\n\u001b[0;32m      1\u001b[0m \u001b[38;5;28;01mfrom\u001b[39;00m\u001b[38;5;250m \u001b[39m\u001b[38;5;21;01msklearn\u001b[39;00m\u001b[38;5;21;01m.\u001b[39;00m\u001b[38;5;21;01mfeature_extraction\u001b[39;00m\u001b[38;5;21;01m.\u001b[39;00m\u001b[38;5;21;01mtext\u001b[39;00m\u001b[38;5;250m \u001b[39m\u001b[38;5;28;01mimport\u001b[39;00m CountVectorizer\n\u001b[1;32m----> 3\u001b[0m df \u001b[38;5;241m=\u001b[39m \u001b[43mpd\u001b[49m\u001b[38;5;241;43m.\u001b[39;49m\u001b[43mread_csv\u001b[49m\u001b[43m(\u001b[49m\u001b[38;5;124;43m'\u001b[39;49m\u001b[38;5;124;43mfakeTelegram.BR_2022.csv\u001b[39;49m\u001b[38;5;124;43m'\u001b[39;49m\u001b[43m)\u001b[49m\n\u001b[0;32m      5\u001b[0m \u001b[38;5;66;03m# Filtrando mensagens válidas (não nulas e não vazias)\u001b[39;00m\n\u001b[0;32m      6\u001b[0m df_filtrado \u001b[38;5;241m=\u001b[39m df[\n\u001b[0;32m      7\u001b[0m     df[\u001b[38;5;124m\"\u001b[39m\u001b[38;5;124mtext_content_anonymous\u001b[39m\u001b[38;5;124m\"\u001b[39m]\u001b[38;5;241m.\u001b[39mnotnull() \u001b[38;5;241m&\u001b[39m\n\u001b[0;32m      8\u001b[0m     (df[\u001b[38;5;124m\"\u001b[39m\u001b[38;5;124mtext_content_anonymous\u001b[39m\u001b[38;5;124m\"\u001b[39m]\u001b[38;5;241m.\u001b[39mstr\u001b[38;5;241m.\u001b[39mstrip() \u001b[38;5;241m!=\u001b[39m \u001b[38;5;124m\"\u001b[39m\u001b[38;5;124m\"\u001b[39m)\n\u001b[0;32m      9\u001b[0m ]\n",
      "File \u001b[1;32mc:\\Users\\esthe\\AppData\\Local\\Programs\\Python\\Python312\\Lib\\site-packages\\pandas\\io\\parsers\\readers.py:948\u001b[0m, in \u001b[0;36mread_csv\u001b[1;34m(filepath_or_buffer, sep, delimiter, header, names, index_col, usecols, dtype, engine, converters, true_values, false_values, skipinitialspace, skiprows, skipfooter, nrows, na_values, keep_default_na, na_filter, verbose, skip_blank_lines, parse_dates, infer_datetime_format, keep_date_col, date_parser, date_format, dayfirst, cache_dates, iterator, chunksize, compression, thousands, decimal, lineterminator, quotechar, quoting, doublequote, escapechar, comment, encoding, encoding_errors, dialect, on_bad_lines, delim_whitespace, low_memory, memory_map, float_precision, storage_options, dtype_backend)\u001b[0m\n\u001b[0;32m    935\u001b[0m kwds_defaults \u001b[38;5;241m=\u001b[39m _refine_defaults_read(\n\u001b[0;32m    936\u001b[0m     dialect,\n\u001b[0;32m    937\u001b[0m     delimiter,\n\u001b[1;32m   (...)\u001b[0m\n\u001b[0;32m    944\u001b[0m     dtype_backend\u001b[38;5;241m=\u001b[39mdtype_backend,\n\u001b[0;32m    945\u001b[0m )\n\u001b[0;32m    946\u001b[0m kwds\u001b[38;5;241m.\u001b[39mupdate(kwds_defaults)\n\u001b[1;32m--> 948\u001b[0m \u001b[38;5;28;01mreturn\u001b[39;00m \u001b[43m_read\u001b[49m\u001b[43m(\u001b[49m\u001b[43mfilepath_or_buffer\u001b[49m\u001b[43m,\u001b[49m\u001b[43m \u001b[49m\u001b[43mkwds\u001b[49m\u001b[43m)\u001b[49m\n",
      "File \u001b[1;32mc:\\Users\\esthe\\AppData\\Local\\Programs\\Python\\Python312\\Lib\\site-packages\\pandas\\io\\parsers\\readers.py:616\u001b[0m, in \u001b[0;36m_read\u001b[1;34m(filepath_or_buffer, kwds)\u001b[0m\n\u001b[0;32m    613\u001b[0m \u001b[38;5;28;01mif\u001b[39;00m chunksize \u001b[38;5;129;01mor\u001b[39;00m iterator:\n\u001b[0;32m    614\u001b[0m     \u001b[38;5;28;01mreturn\u001b[39;00m parser\n\u001b[1;32m--> 616\u001b[0m \u001b[43m\u001b[49m\u001b[38;5;28;43;01mwith\u001b[39;49;00m\u001b[43m \u001b[49m\u001b[43mparser\u001b[49m\u001b[43m:\u001b[49m\n\u001b[0;32m    617\u001b[0m \u001b[43m    \u001b[49m\u001b[38;5;28;43;01mreturn\u001b[39;49;00m\u001b[43m \u001b[49m\u001b[43mparser\u001b[49m\u001b[38;5;241;43m.\u001b[39;49m\u001b[43mread\u001b[49m\u001b[43m(\u001b[49m\u001b[43mnrows\u001b[49m\u001b[43m)\u001b[49m\n",
      "File \u001b[1;32mc:\\Users\\esthe\\AppData\\Local\\Programs\\Python\\Python312\\Lib\\site-packages\\pandas\\io\\parsers\\readers.py:1788\u001b[0m, in \u001b[0;36mTextFileReader.__exit__\u001b[1;34m(self, exc_type, exc_value, traceback)\u001b[0m\n\u001b[0;32m   1782\u001b[0m \u001b[38;5;28;01mdef\u001b[39;00m\u001b[38;5;250m \u001b[39m\u001b[38;5;21m__exit__\u001b[39m(\n\u001b[0;32m   1783\u001b[0m     \u001b[38;5;28mself\u001b[39m,\n\u001b[0;32m   1784\u001b[0m     exc_type: \u001b[38;5;28mtype\u001b[39m[\u001b[38;5;167;01mBaseException\u001b[39;00m] \u001b[38;5;241m|\u001b[39m \u001b[38;5;28;01mNone\u001b[39;00m,\n\u001b[0;32m   1785\u001b[0m     exc_value: \u001b[38;5;167;01mBaseException\u001b[39;00m \u001b[38;5;241m|\u001b[39m \u001b[38;5;28;01mNone\u001b[39;00m,\n\u001b[0;32m   1786\u001b[0m     traceback: TracebackType \u001b[38;5;241m|\u001b[39m \u001b[38;5;28;01mNone\u001b[39;00m,\n\u001b[0;32m   1787\u001b[0m ) \u001b[38;5;241m-\u001b[39m\u001b[38;5;241m>\u001b[39m \u001b[38;5;28;01mNone\u001b[39;00m:\n\u001b[1;32m-> 1788\u001b[0m     \u001b[38;5;28;43mself\u001b[39;49m\u001b[38;5;241;43m.\u001b[39;49m\u001b[43mclose\u001b[49m\u001b[43m(\u001b[49m\u001b[43m)\u001b[49m\n",
      "File \u001b[1;32mc:\\Users\\esthe\\AppData\\Local\\Programs\\Python\\Python312\\Lib\\site-packages\\pandas\\io\\parsers\\readers.py:1450\u001b[0m, in \u001b[0;36mTextFileReader.close\u001b[1;34m(self)\u001b[0m\n\u001b[0;32m   1447\u001b[0m     \u001b[38;5;28mself\u001b[39m\u001b[38;5;241m.\u001b[39mhandles: IOHandles \u001b[38;5;241m|\u001b[39m \u001b[38;5;28;01mNone\u001b[39;00m \u001b[38;5;241m=\u001b[39m \u001b[38;5;28;01mNone\u001b[39;00m\n\u001b[0;32m   1448\u001b[0m     \u001b[38;5;28mself\u001b[39m\u001b[38;5;241m.\u001b[39m_engine \u001b[38;5;241m=\u001b[39m \u001b[38;5;28mself\u001b[39m\u001b[38;5;241m.\u001b[39m_make_engine(f, \u001b[38;5;28mself\u001b[39m\u001b[38;5;241m.\u001b[39mengine)\n\u001b[1;32m-> 1450\u001b[0m \u001b[38;5;28;01mdef\u001b[39;00m\u001b[38;5;250m \u001b[39m\u001b[38;5;21mclose\u001b[39m(\u001b[38;5;28mself\u001b[39m) \u001b[38;5;241m-\u001b[39m\u001b[38;5;241m>\u001b[39m \u001b[38;5;28;01mNone\u001b[39;00m:\n\u001b[0;32m   1451\u001b[0m     \u001b[38;5;28;01mif\u001b[39;00m \u001b[38;5;28mself\u001b[39m\u001b[38;5;241m.\u001b[39mhandles \u001b[38;5;129;01mis\u001b[39;00m \u001b[38;5;129;01mnot\u001b[39;00m \u001b[38;5;28;01mNone\u001b[39;00m:\n\u001b[0;32m   1452\u001b[0m         \u001b[38;5;28mself\u001b[39m\u001b[38;5;241m.\u001b[39mhandles\u001b[38;5;241m.\u001b[39mclose()\n",
      "\u001b[1;31mKeyboardInterrupt\u001b[0m: "
     ]
    }
   ],
   "source": [
    "from sklearn.feature_extraction.text import CountVectorizer\n",
    "\n",
    "df = pd.read_csv('fakeTelegram.BR_2022.csv')\n",
    "\n",
    "# Filtrando mensagens válidas (não nulas e não vazias)\n",
    "df_filtrado = df[\n",
    "    df[\"text_content_anonymous\"].notnull() &\n",
    "    (df[\"text_content_anonymous\"].str.strip() != \"\")\n",
    "]\n",
    "\n",
    "# Lista de mensagens\n",
    "mensagens = df_filtrado[\"text_content_anonymous\"].tolist()\n",
    "\n",
    "# Função para gerar n-gramas\n",
    "def gerar_ngrams_sklearn(textos, n):\n",
    "    vectorizer = CountVectorizer(ngram_range=(n, n), stop_words='english')\n",
    "    ngramas = vectorizer.fit_transform(textos)\n",
    "    ngramas_freq = ngramas.sum(axis=0).A1  # Soma a frequência dos n-gramas\n",
    "    ngramas_vocab = vectorizer.get_feature_names_out()  # Lista dos n-gramas\n",
    "    ngramas_count = zip(ngramas_vocab, ngramas_freq)\n",
    "    ngramas_count_sorted = sorted(ngramas_count, key=lambda x: x[1], reverse=True)\n",
    "    return ngramas_count_sorted[:30]\n",
    "\n",
    "# Gerando unigramas, bigramas e trigramas\n",
    "top_unigramas = gerar_ngrams_sklearn(mensagens, 1)\n",
    "top_bigramas = gerar_ngrams_sklearn(mensagens, 2)\n",
    "top_trigramas = gerar_ngrams_sklearn(mensagens, 3)\n",
    "\n",
    "# Exibindo os 30 mais comuns de cada tipo\n",
    "print(\"🔹 Top 30 Unigramas:\")\n",
    "for unigrama, freq in top_unigramas:\n",
    "    print(f\"{unigrama}: {freq}\")\n",
    "\n",
    "print(\"\\n🔹 Top 30 Bigramas:\")\n",
    "for bigrama, freq in top_bigramas:\n",
    "    print(f\"{bigrama}: {freq}\")\n",
    "\n",
    "print(\"\\n🔹 Top 30 Trigramas:\")\n",
    "for trigram, freq in top_trigramas:\n",
    "    print(f\"{trigram}: {freq}\")"
   ]
  },
  {
   "cell_type": "markdown",
   "id": "7fb057b0",
   "metadata": {},
   "source": [
    "---"
   ]
  },
  {
   "cell_type": "markdown",
   "id": "58ca46dd",
   "metadata": {},
   "source": [
    "#### **22**. As 30 mensagens mais positivas (distintas)"
   ]
  },
  {
   "cell_type": "markdown",
   "id": "aa7c7b7a",
   "metadata": {},
   "source": [
    "Aqui eu filtrei as mensagens para considerar apenas aquelas com `score_sentiment` preenchido e texto válido. Depois, eliminei mensagens duplicadas (iguais em conteúdo) e ordenei do sentimento mais positivo para o menos. No final, selecionei as 30 mensagens distintas com os maiores scores de sentimento."
   ]
  },
  {
   "cell_type": "code",
   "execution_count": 35,
   "id": "21399f2d",
   "metadata": {},
   "outputs": [
    {
     "data": {
      "application/vnd.jupyter.widget-view+json": {
       "model_id": "a0055b803c434c708376bf8f8e224592",
       "version_major": 2,
       "version_minor": 0
      },
      "text/plain": [
       "FloatProgress(value=0.0, layout=Layout(width='auto'), style=ProgressStyle(bar_color='black'))"
      ]
     },
     "metadata": {},
     "output_type": "display_data"
    },
    {
     "data": {
      "application/vnd.microsoft.datawrangler.viewer.v0+json": {
       "columns": [
        {
         "name": "index",
         "rawType": "int64",
         "type": "integer"
        },
        {
         "name": "text_content_anonymous",
         "rawType": "object",
         "type": "string"
        },
        {
         "name": "score_sentiment",
         "rawType": "float64",
         "type": "float"
        }
       ],
       "conversionMethod": "pd.DataFrame",
       "ref": "ce145ffb-ebea-4f5f-b3c2-f25ae1c8b6d5",
       "rows": [
        [
         "0",
         "Shemoneh Esreh – Amidá – A Grande Oração\n\n ,Avot - Benção dos Patriarcas\n\nÓ Senhor, abre os meus lábios e minha boca proclamará o Louvor a Ti! \nBendito sejas Tu, Eterno, nosso D-us e D-us de nossos pais; D-us de Abraão, D-us de Isaac e\nD-us de Jacob, o Grande, o Poderoso e Temível D-us; Altíssimo D-us que outorga bondades, que \ntudo cria e que recorda os atos de bondade dos Patriarcas e que com grande amor fará vir um \nRedentor aos filhos de seus filhos, por amor do Seus nome. Ó Rei, Auxiliador, Salvador e \nEscudo! Bendito sejas Tu, Eterno, Escudo de Abraão\n\nגבורות ,Gevurot - Benção do \nTodo-Poderoso\n\nTu, Eterno, és Poderoso para sempre; Tu ressuscitas os mortos; Tu és Poderoso para salvar. \n(Tu fazes soprar o vento e cair a chuva). Tu sustentas os vivos com amorosa bondade, Tu \nressuscitas os mortos com imensa misericórdia, amparas os que estão caindo, cura os doentes, libertas os cativos e cumpres a Tua promessa aos que dormem no pó. Quem é \ncomo Tu, ó Poderoso?\n\nהשם קדושת ,Kedushat ha-Shem - Benção da \nSantificação de D-us\n\nTu és santo e Teu Nome é santo; e seres santos Te louvam diariamente por toda a \neternidade. Bendito sejas Tu, Eterno, D-us santo.\n \nבינה ,Binah - Benção da \nSabedoria\n \nTu graciosamente dás o conhecimento ao homem e ensinas aos mortais a compreensão. \nConcede-nos, graciosamente, de Ti, sabedoria, compreensão e conhecimento. Bendito sejas \nTu, Eterno, que dás graciosamente o conhecimento.\n \nתשובה ,Teshuvah - Benção \ndo Arrependimento\n \nFaze-nos retornar, nosso Pai, à Tua Torá;  aproxima-nos, nosso Rei, do Teu serviço e traze- \nnos de volta a Ti com arrependimento de todo coração. Bendito sejas Tu, Eterno, que desejas \na penitência. (Teshuvá)\n\nהָליִס ,ְSelichah - Benção do \nPerdão\n \nPerdoa-nos, nosso Pai,  pois temos pecado; redime-nos, nosso Rei, pois temos transgredido; \npois Tu és um D-us bom e que desculpa. Bendito sejas Tu, Eterno, clemente que perdoa em \nabundância.\n \nגאולה ,Ge’ulah - Benção da \nRedenção\n \nObserva, por favor, nossa aflição e trava nossa batalha; redime-nos rapidamente pelo Teu \n Nome, pois Tu és poderoso D-us redentor. Bendito sejas Tu, Eterno, Redentor de Israel.\n \nרפואה ,Refuah - Benção da \nCura\n \nCura-nos, Eterno, e seremos curados, salva-nos e seremos salvos; pois Tu é o nosso louvor. \nConcede cura e remédio total a todas as nossas feridas; pois Tu, Rei Todo-Poderoso, és \nAquele que cura, fidedigno e misericordioso. Bendito sejas Tu, Eterno, que cura os enfermos \nde Teu Povo Israel.\n\n ברכת ,Birkat Hashanim - \nBenção do Sustento\n \nAbençoa para nós, Eterno, nosso D-us, este ano e toda a variedade de sua colheita para o \nbem; e outorga (no Verão Boreal): ‘bênção’, (ou no Inverno Boreal); ‘orvalho e chuva para \nbenção sobre a face da terra. Sacia-nos com a Tua bondade e abençoa nosso ano como \noutros bons anos para benção; pois Tu és um D-us generoso que outorga bondade e \nabençoa os anos. Bendito sejas Tu, Eterno, que abençoa os anos.\n \nגלויות קיבוץ ,Kibbutz Galuyot - Benção da \nReunião da Diáspora\n \nFazer soar o grande shofar para a nossa liberdade; ergue um estandarte para reunir os \nnossos exilados e recolhe-nos dos quatro cantos do mundo para a nossa terra. Bendito sejas \nTu, Eterno, que reúne os dispersos (os exilados) do Seu povo Israel\n \nהדין ברכת ,Birkat HaDin - Benção do Retorno à \nJustiça\n \nRestaura nossos juízes como outorga e nossos conselheiros como em tempos antigos; \nremove de nós tristeza e suspiro e reina sobre nós, Tu somente, Eterno, com bondade e \ncompaixão, com retidão e justiça. Bendito sejas Tu, Eterno, Rei que ama retidão e justiça.\n\nם ,Tzadikim - Benção dos \nJustos\n \nQue se despertem Tuas misericórdias, Eterno, nosso D-us, para os justos, devotos e anciãos \nde Teu povo, a Casa de Israel, para os remanescentes de seus sábios, justos prosélitos \n(convertidos) e para nós. Concede ampla recompensa a todos que verdadeiramente confiam",
         "0.9992"
        ],
        [
         "1",
         "MENTIROSA!!!\n\n\nPensa direita, não é correto compartilhar um vídeo manipulado, sem fonte e que deturpa fatos reais do candidato Romário, NÃO podemos agir igual a esquerda, que vive assassinando reputações dos candidatos opositores e de pessoas que ela simplesmente não gosta.\n\n🤔 SERÁ que a PESSOA que FEZ ESTE VÍDEO sabe que: \n👏 Romário foi um dos poucos SENADORES QUE VOTOU CONTRA o PL das FAKE NEWS que o Senado aprovou.\n👏 Romário ECONOMIZOU 50% da VERBA PARLAMENTAR:\nVALOR DISPONÍVEL R$ 28.033.369,22 – VALOR GASTO _R$ R$ 14.127.937,19-\n👏 Romário VOTOU  99 % A FAVOR dos PROJETOS do GOVERNO BOLSONARO, mais até que muitos senadores que se dizem 'bolsonaristas raiz'. \n🤔 SERÁ que QUEM FEZ ESTE VÍDEO difamatório e JOGOU dentro dos grupos da direita foi a ESQUERDA ou alguém da própria direita falsa?\n🤔 SERÁ que QUEM compartilha esse vídeo NÃO SABE que o CANDIDATO do Presidente Bolsonaro é o Romário?\n🇧🇷 Segue abaixo lista de votações do Romário no Senado: 🇧🇷\nPL 2630 | Lei das Fakenews – NÃO (PL DA MORDAÇA)\nPEC 01/22 | PEC do Estado de Emergência – SIM\nPLP 18/22 | Redução do ICMS para Combustíveis, Energia e Gás – SIM\nMPV 1085/2021 | Mudança nos Serviços de Cartórios – SIM\nMPV 1089/2021 | Vôo Livre – SIM\nPL 4000/2021 | Desburocratização para Transformar Cidades – SIM\nPL 5387/2019 | Marco Legal do Câmbio – SIM\nPL 4199/2020 | BR do Mar – SIM\nPL 2541/2021 | Desoneração da Folha de Pagamentos – SIM\nPLS 261/2018 | Marco Legal das Ferrovias – SIM\nPEC 122/15 | Proibição de despesa sem fonte de receita – SIM\nPLP 108/2021 | Aumento da Receita Bruta MEI  - SIM\nMP 1031/2021 | Privatização da Eletrobras – SIM\nVeto 10/21 | Conectividade nas Escolas – SIM\nPEC 186/2019 | PEC Emergencial – SIM\nPL 146/2019 | Marco das Startups (empresas inovadoras) – SIM\nPL 19/2019 | Autonomia do Banco Central – SIM\nPL 4162/2019 | Novo Marco legal do Saneamento Básico – SIM\nPL 3267/2019 | Novo Código de Trânsito Brasileiro – SIM\nPL 2424/2020 | Linha de Crédito para profissionais liberais – SIM\nPL 1194/20 | Facilita doações e evita desperdício de alimento – SIM\nPLP 9/2020 | Facilitação de Crédito para Pequenas Empresas – SIM\nMP 897/2019 | MP do Agro - Mudanças no Crédito Rural – SIM\nPEC 06/2019 | Reforma da Previdência 1º turno - SIM\nPEC 6/2019 | Reforma da Previdência - 2º turno – SIM\nPEC 06/2019 | Conversão de tempo de Serviço do RGPS – SIM\nPEC 06/2019 | Revogação - regimes de transição - Ref. Previd. – SIM\nPL 5478/2019 | Rateio de recursos do leilão de petróleo – SIM\nPEC 06/2019 | Mantém o limite de renda para abono salarial – SIM\nPL 11021/2018 | Alteração de regras eleitorais – SIM\nMP 881/2019 | Institui os Direitos de Liberdade Econômica – SIM\nMP 871/2019 | Combate a fraudes no INSS – SIM\nMP 870/2019 | Reestruturação Ministerial – SIM\nPLP 200/2019 | Criação de Empresas de Crédito facilitado – SIM\nPL 54/2019 | Revoga autorização prévia no Cadastro Positivo – SIM\nFONTE: https://www.politicos.org.br/Parlamentar/8408-romario-de-souza-faria\n🚨 Portanto, ANTES de compartilharmos algo, mesmo que no intuito de ajudar o PRESIDENTE, é VITAL que TODOS NÓS façamos pesquisas a respeito, para entender o cenário político de cada estado o qual diverge muito de um para o outro, por mais que, em dados momentos, queiramos que CANDIDATO X seja o apoiado e eleito, na política, em especial na brasileira, as coisas não são como queremos e sim, são dentro do possível a se realizar.\n🚨 É muito IMPORTANTE que todos da direita tenham a real noção da importância de ELEGERMOS SENADORES ALINHADOS AOS PROJETOS DO GOVERNO BOLSONARO a partir de 2023, e que tenham CHANCES REAIS de vencer os opositores nos seus estados.",
         "0.999"
        ],
        [
         "2",
         "Pensa direita, não é correto compartilhar um vídeo manipulado, sem fonte e que deturpa fatos reais do candidato Romário, NÃO podemos agir igual a esquerda, que vive assassinando reputações dos candidatos opositores e de pessoas que ela simplesmente não gosta.\n\n🤔 SERÁ que a PESSOA que FEZ ESTE VÍDEO sabe que: \n👏 Romário foi um dos poucos SENADORES QUE VOTOU CONTRA o PL das FAKE NEWS que o Senado aprovou.\n👏 Romário ECONOMIZOU 50% da VERBA PARLAMENTAR:\nVALOR DISPONÍVEL R$ 28.033.369,22 – VALOR GASTO _R$ R$ 14.127.937,19-\n👏 Romário VOTOU  99 % A FAVOR dos PROJETOS do GOVERNO BOLSONARO, mais até que muitos senadores que se dizem 'bolsonaristas raiz'. \n🤔 SERÁ que QUEM FEZ ESTE VÍDEO difamatório e JOGOU dentro dos grupos da direita foi a ESQUERDA ou alguém da própria direita falsa?\n🤔 SERÁ que QUEM compartilha esse vídeo NÃO SABE que o CANDIDATO do Presidente Bolsonaro é o Romário?\n🇧🇷 Segue abaixo lista de votações do Romário no Senado: 🇧🇷\nPL 2630 | Lei das Fakenews – NÃO (PL DA MORDAÇA)\nPEC 01/22 | PEC do Estado de Emergência – SIM\nPLP 18/22 | Redução do ICMS para Combustíveis, Energia e Gás – SIM\nMPV 1085/2021 | Mudança nos Serviços de Cartórios – SIM\nMPV 1089/2021 | Vôo Livre – SIM\nPL 4000/2021 | Desburocratização para Transformar Cidades – SIM\nPL 5387/2019 | Marco Legal do Câmbio – SIM\nPL 4199/2020 | BR do Mar – SIM\nPL 2541/2021 | Desoneração da Folha de Pagamentos – SIM\nPLS 261/2018 | Marco Legal das Ferrovias – SIM\nPEC 122/15 | Proibição de despesa sem fonte de receita – SIM\nPLP 108/2021 | Aumento da Receita Bruta MEI  - SIM\nMP 1031/2021 | Privatização da Eletrobras – SIM\nVeto 10/21 | Conectividade nas Escolas – SIM\nPEC 186/2019 | PEC Emergencial – SIM\nPL 146/2019 | Marco das Startups (empresas inovadoras) – SIM\nPL 19/2019 | Autonomia do Banco Central – SIM\nPL 4162/2019 | Novo Marco legal do Saneamento Básico – SIM\nPL 3267/2019 | Novo Código de Trânsito Brasileiro – SIM\nPL 2424/2020 | Linha de Crédito para profissionais liberais – SIM\nPL 1194/20 | Facilita doações e evita desperdício de alimento – SIM\nPLP 9/2020 | Facilitação de Crédito para Pequenas Empresas – SIM\nMP 897/2019 | MP do Agro - Mudanças no Crédito Rural – SIM\nPEC 06/2019 | Reforma da Previdência 1º turno - SIM\nPEC 6/2019 | Reforma da Previdência - 2º turno – SIM\nPEC 06/2019 | Conversão de tempo de Serviço do RGPS – SIM\nPEC 06/2019 | Revogação - regimes de transição - Ref. Previd. – SIM\nPL 5478/2019 | Rateio de recursos do leilão de petróleo – SIM\nPEC 06/2019 | Mantém o limite de renda para abono salarial – SIM\nPL 11021/2018 | Alteração de regras eleitorais – SIM\nMP 881/2019 | Institui os Direitos de Liberdade Econômica – SIM\nMP 871/2019 | Combate a fraudes no INSS – SIM\nMP 870/2019 | Reestruturação Ministerial – SIM\nPLP 200/2019 | Criação de Empresas de Crédito facilitado – SIM\nPL 54/2019 | Revoga autorização prévia no Cadastro Positivo – SIM\nFONTE: https://www.politicos.org.br/Parlamentar/8408-romario-de-souza-faria\n🚨 Portanto, ANTES de compartilharmos algo, mesmo que no intuito de ajudar o PRESIDENTE, é VITAL que TODOS NÓS façamos pesquisas a respeito, para entender o cenário político de cada estado o qual diverge muito de um para o outro, por mais que, em dados momentos, queiramos que CANDIDATO X seja o apoiado e eleito, na política, em especial na brasileira, as coisas não são como queremos e sim, são dentro do possível a se realizar.\n🚨 É muito IMPORTANTE que todos da direita tenham a real noção da importância de ELEGERMOS SENADORES ALINHADOS AOS PROJETOS DO GOVERNO BOLSONARO a partir de 2023, e que tenham CHANCES REAIS de vencer os opositores nos seus estados.",
         "0.999"
        ],
        [
         "3",
         "בונה ירושלים, Bo'ne Yetrushalayim - Benção da Reconstrução de Jerusalém\n\nE retorna com misericórdia a Jerusalém, Tua cidade, e mora nela como Tu prometeste; estabelece rapidamente o trono de David, Teu servo, e a reconstrói, breve em nossos dias, como uma edificação eterna. Bendito sejas Tu, Eterno, que reconstrói Jerusalém\n\nברכת דוד, Birkat David - Benção do Messias, Filho de David\n\nFaz o rebento de David, Teu servo, florescer rapidamente e aumenta o seu poder através de Tua salvação, pois por Tua salvação ansiamos todo o dia. Bendito sejas Tu, Eterno, que faz florescer o poder da salvação\n\nתפילה, Tefillah - Benção \"Ouve as Orações\"\n\nOuve nossa voz, Eterno, nosso D-us; misericordioso Pai, tem compaixão de nós e aceita nossas preces com misericórdia e favor, pois Tu és D-us que ouve as preces e as súplicas; não nos despeças de Ti de mãos vazias, nosso Rei, pois Tu escutas as preces de todos. Bendito sejas Tu, Eterno, que ouve a prece\n\nעבודה, Avodah - Benção do Serviço\n\nObserva favoravelmente, Eterno, nosso D-us, Teu povo Israel a atende sua prece; restaura o serviço ao Teu Santuário e aceita com amor e favor as oferendas de fogo (sacrifícios) de Israel e suas preces; e que o serviço de Teu Povo Israel seja sempre bem aceito. Que nossos olhos possam ver Teu retorno a Tsion misericordiosamente. Bendito sejas Tu, Eterno, que restaura Tua Presença Divina a Tsion\n\nהודיה, Hoda'ah - Benção de Louvor\nReconhecemos com gratidão que Tu és o Eterno, nosso D-us e o D-us de nossos pais, para todo sempre. És a força de nossa vida, o escudo de nossa salvação em toda geração. Te agradeceremos e relataremos Teu louvar à noite, de manhã e ao meio-dia, por nossas vidas que estão entregues a Tua mão, por nossas almas que estão depositadas em Ti, por Teus milagres que estão conosco diariamente e por Tuas maravilhas e benevolências a todo momento. Tu és Bom, pois Tuas misericórdias nunca cessam; e és o Misericordioso, pois Tuas bondades jamais terminam; porque sempre depositamos nossa esperança em Ti. E, por tudo isto, que Teu Nome, nosso Rei, seja abençoado, exaltado e enaltecido, por toda a eternidade. E que todos os seres vivos Te agradeçam para sempre e louvem Teu grande Nome eternamente, pois Tu és bom. Eterno, Tu és nossa salvação e ajuda perpétua, ó Senhor benevolente. Bendito sejas Tu, Eterno, Benéfico é Teu Nome e a Ti é adequado agradecer.\n\nשים שלום, Sim Shalom - Benção da Paz\nConceda a paz, bem-estar, benção, graça, bondade e misericórdia para nós, e a todo o Israel, teu povo. Abençoa-nos, ó nosso Pai, mesmo todos nós juntos, com a luz da tua face, pois, à luz de Seu semblante deu-nos, ó Eterno nosso D'us, a Torá da vida benignidade, e justiça, bênção, vida a misericórdia e a paz, e o meu seja bom aos teus olhos para abençoar o teu povo Israel em todos os momentos e em todas as horas com a tua paz.\n\nBendito és Tu, ó Eterno, que abençoa o teu povo Israel com paz.",
         "0.9989"
        ],
        [
         "4",
         "Os Sete Samurais \n \nQuando falamos sobre Força e Honra, muitas pessoas não querem entender o fato de que o ideal de vida masculina recebe todo um peso cultural de milhares de anos de exemplos de valores e virtudes para que os meninos tenham grandes exemplos para se espelharem e se tornarem grandes homens. \n \n   Homens transformaram atos de bondade, benevolência e altruísmo em feitos gloriosos. Onde feitos coragem, bravura, piedade, astucia e um forte senso de justiça se tornaram os padrões heroicos. \n    Para lembrar as pessoas da grande capacidade do ser humano em fazer o bem! \n \n   E para falar com vocês sobre Força e Honra, vou usar um exemplo que qualquer pessoa pode entender ao procurar assistir este filme clássico dirigido por Akira Kurosawa! \n \n \n義 GI – A Justiça e Moralidade \nGI também significa Atitude direta, razão correta, decidir sem hesitar. \n \nOs lavradores estão praticamente desistindo quando de repente se deparam com a visão de um Samurai que raspa seus cabelos em meio a uma multidão. Curiosos, eles procuram saber o que ele esta fazendo e descobrem que um bandido foi cercado em um celeiro e que ele tem um menino como refém. E que aquele estranho Samurai estava raspando a cabeça para se passar por um monge afim de resgatar a criança. Enquanto isso, todos estão preocupados com a criança, com medo de atacar o bandido e ele matar o inocente menino. O guerreiro se despede de suas roupas e de seu cabelo de samurai, pede roupas de monge e dois bolinhos de arroz. Ele oferece dois bolos de arroz (de muito valor em uma época de fome) para o bandido e em seguida adentra rapidamente o celeiro para mata-lo e resgatar a criança sem esperar nenhuma recompensa! \n \nDepois de desmistificar os samurais, a sequencia mostra exatamente o comportamento diferente de um Samurai que segue o código Bushido como estilo filosófico de vida! \n \n \n忠 CHUU – O Dever e a Lealdade \nPara convencer os samurais a trabalhar por comida, existe toda uma conversa sobre responsabilidade. Quando Kambei é convencido de que todo o pouco que os fazendeiros possuem está sendo oferecido para samurais é justamente o melhor que pessoas famintas tem a oferecer. \n \nE então planeja que a melhor defesa serão 7 Samurais reunidos para lutar contra os 40 bandidos por um ideal de justiça de defender as pessoas indefesas. Em troca apenas de comida. \n \n \n勇 YUU – Coragem e Bravura heroica \nO filme estabelece os samurais definido toda a estratégia de suas ações para proteger a pequena aldeia. São 7 Samurais contra 30 bandidos ou mais. Eles fazem questão de treinar os moradores o melhor que podem. \n \n \n仁 JIN – Compaixão e Benevolência \nFaz parte do caráter machista dos samurais serem bondosos com as crianças! \n \nTem uma cena onde Kambei faz um pequeno garoto dormir enquanto discute estratégias de guerra com os outros assim como rir e fazer piadas junto aos outros samurais. Com certeza um exemplo completo de masculinidade mostrada através do ser humano que é ao mesmo tempo um guerreiro corajoso, o brincalhão que sabe contar piadas e o homem gentil que protege as crianças. \n \n \n誉 MEIYO – Honra e Glória \nOs Sete Samurais é um filme épico que vale a pena ser assistido até hoje, mesmo que tenha sido “refilmado” pelo menos umas cinco vezes por Hollywood. Pelo simples fato de que o contexto de que o filme mostra homens tão comuns, falhos e humanos praticando um ato heroico daqueles, pois faz parte de uma verdadeira escola de pensamento que não aprendemos na escola. O bushido! \n \nPor Marcio Strzalkowski \nForça e Honra! \n \nhttps://osalsichaodoamor.wordpress.com/2022/10/05/os-sete-samurais/ \nhttps://osalsichaodoamorpo.wixsite.com/osalsichaodoamor/post/os-sete-samurais",
         "0.9988"
        ],
        [
         "5",
         "MANIFESTO À NAÇÃO BRASILEIRA\n\nEM DEFESA DO BRASIL E DAS LIBERDADES DO POVO, PELO POVO E PARA POVO.\n\nNós, o povo brasileiro, na defesa do Brasil e do direito às Liberdades do Povo, pelo Povo e para o Povo, e em apoio ao Presidente do Brasil Jair Messias Bolsonaro nos dirigimos à Nação Brasileira, para declarar que sem liberdade não há democracia, sem justiça não há liberdade, sem honra não há respeito, sem dever não há ordem e progresso, sem piedade não há amor e humildade, e sem esperança iremos sucumbir. \n\nHá em nosso País a gravíssima tentativa da consolidação da “ditadura do pensamento único” que vem impondo a censura e desmonetização dos meios de comunicação independentes e de perfis de redes sociais de brasileiros. \n\nTestemunhamos a instauração de inquéritos ilegais e inconstitucionais com o simples objetivo de criminalizar a opinião contrária, pelo órgão que deveria zelar pelos direitos fundamentais da população, mas que seguem abolindo nossas liberdades individuais e garantias fundamentais. \n\nSomos um povo pacífico que ama sua nação, que defende a democracia e as liberdades. Não podemos renunciar às liberdades que Deus nos deu. Nosso dever é lutar  pelo que já conquistamos, por aquilo que cremos, por nossa fé, pelo direito de ir e vir, pelo direito de livre expressão.\n\nQualquer pessoa deve ter o seu direito de se expressar livremente, sem qualquer tipo de limites. A liberdade de expressão é o que permite o diálogo entre pontos de vista diferentes, inclusive os antagônicos. \n\nSem o direito de se expressar, sem essa liberdade, todos os demais direitos estarão prejudicados. A liberdade de expressão inclui o direito a fazer críticas, ou seja, de criticar quem quer que seja. Parcela da população brasileira hoje não pode usufruir desse direito. Está sendo impedida por pessoas que deveriam garantir.\n\nNão é aceitável que um lado tente imputar a nós, um povo livre e pacífico, a condição de incentivadores de atos antidemocráticos e de divulgadores de fake news. A verdade é que uma pequena parcela da população detentora de poder não aceita críticas. Não aceita escutar a opinião do POVO, PODER SUPREMO DE UMA NAÇÃO DEMOCRÁTICA. \n\nOs milhões de cidadãos brasileiros, incluindo o Presidente da República Federativa do Brasil, o Exmo. Sr. Jair Messias Bolsonaro, em suas liberdades individuais  buscam posicionar-se perante a sociedade com  opiniões  acerca de temas importantes para nação, no entanto, sofrem ataques infundados por pessoas que não respeitam opiniões diferentes das suas. \n\nNossas convicções de DEUS, PÁTRIA, FAMÍLIA E LIBERDADE em nada ofendem quem quer que seja e tampouco ameaça a democracia como tanto repetem.\n\nPrecisamos estar unidos para defender as LIBERDADES, porque SEM LIBERDADE NÃO HÁ DEMOCRACIA. \n\nPor fim, concluímos este Manifesto com a seguinte expressão do pensador político, historiador e escritor francês Alexis de Tocqueville: “Democracia amplia a esfera da liberdade individual, o socialismo a restringe. Democracia atribui todo o valor possível de cada homem; socialismo faz de cada homem um mero agente, um mero número. Democracia e socialismo não têm nada em comum além de uma palavra: igualdade. Com uma grande diferença: enquanto a democracia procura a igualdade na liberdade, o socialismo procura a igualdade no controle e na servidão”.\n\nDeus seja Louvado.\nhttps://chng.it/hrLnn92fQz",
         "0.9987"
        ],
        [
         "6",
         "Olá ,\n\nUM AMIGO ME PERGUNTOU EM QUEM EU VOTEI, RESPONDI QUE FOI NO BOLSONARO, E ELE PERGUNTOU SE EU GOSTO DELE (BOLSONARO). RESPONDI QUE NÃO, MAS QUE GOSTO DE MIM MESMO \n\nGOSTO DE TER LIBERDADE \n\nGOSTO DE EMITIR MINHA OPINIÃO \n\nGOSTO DE SER CRISTÃO E TER MINHA FÉ \n\nGOSTO DA MINHA FAMÍLIA \n\nGOSTO DA VIDA\n\nGOSTO DE IMPRENSA LIVRE \n\nGOSTO DE SEGURANÇA PÚBLICA, BANDIDO PRESO \n\nGOSTO DE TER OPÇÃO DE ME DEFENDER\n\nGOSTO DE BOA EDUCAÇÃO \n\nGOSTO DE BOA SAÚDE \n\nGOSTO DE ESCOLA SEM DOUTRINAÇÃO \n\nGOSTO QUE O IMPOSTO QUE EU PAGO SEJA INVESTIDO NO MEU PAÍS (saneamento básico, rodovias, metrôs, escolas, hospitais, etc…) E NÃO INVESTIDO EM OUTROS PAÍSES \n\nGOSTO DO MEU PAÍS\n\nCONCLUSÃO:\nNÃO PRECISA GOSTAR DO PRESIDENTE; GOSTE DE VOCÊ MESMO",
         "0.9986"
        ],
        [
         "7",
         "BOM DIA A TODOS. ENTENDO QUE ESTAMOS VIVENDO DIAS BEM DIFÍCEIS, MAS, NADA QUE NÃO TENHA SIDO ALERTADO PELO SENHOR JESUS. ELE DISSE QUE OS DIAS QUE ANTECEDEM SUA VINDA SERIAM DIAS DIFÍCEIS ONDE:\n\n1. A INIQUIDADE SE MULTIPLICARIA;\n2. O AMOR DE QUASE TODOS SE ESFRIARIA.\n\nSÓ PODEMOS TER ALEGRIA PLENA NESSES DIAS EM UM RELACIONAMENTO VIVO E VERDADEIRO COM DEUS. E ISSO SÓ É POSSÍVEL NOS ARREPENDENDO DE NOSSOS PECADOS, E CRENDO EM CRISTO JESUS COMO ÚNICO SALVADOR E MEDIADOR DO HOMEM PARA COM DEUS. DAI, NOSSA VIDA DEVE SER DE COMUNHÃO E OBEDIÊNCIA A ELE, EM UMA VIDA DE LEITURA DE SUA PALAVRA E ORAÇÃO ÍNTIMA. DEUS NOS AMA! ELE É VIVO E INTERAGE CONOSCO. MAS, É NECESSÁRIO QUE NOS ACHEGUEMOS A ELE PELA FORMA QUE ELE DETERMINOU SEGUNDO SEU CARÁTER E PROPÓSITO: SOMENTE POR CRISTO!\n\nQUERO DEIXAR DOIS SALMOS PARA REFLEXÃO:\n\nSalmos 16:11 Tu me farás ver os caminhos da vida; na tua presença há plenitude de alegria, à tua direita, há delícias perpetuamente.\n\nSalmos 36:6 A tua justiça é como as grandes montanhas; os teus juízos são como um abismo profundo. Tu, Senhor, preservas as pessoas e os animais. 7 Como é preciosa, ó Deus, a tua misericórdia! Por isso, os filhos dos homens se acolhem à sombra das tuas asas. 8 Fartam-se da abundância da tua casa, e na torrente das tuas delícias lhes dás de beber. 9 Pois em ti está a fonte da vida; na tua luz, vemos a luz. 10 Estende a tua misericórdia aos que te conhecem, e a tua justiça, aos retos de coração.\n\nSalmos 16:11 Tu me farás ver os caminhos da vida; na tua presença há plenitude de alegria, à tua direita, há delícias perpetuamente.\n\nSalmos 36:6 A tua justiça é como as grandes montanhas; os teus juízos são como um abismo profundo. Tu, Senhor, preservas as pessoas e os animais. 7 Como é preciosa, ó Deus, a tua misericórdia! Por isso, os filhos dos homens se acolhem à sombra das tuas asas. 8 Fartam-se da abundância da tua casa, e na torrente das tuas delícias lhes dás de beber. 9 Pois em ti está a fonte da vida; na tua luz, vemos a luz. 10 Estende a tua misericórdia aos que te conhecem, e a tua justiça, aos retos de coração.",
         "0.9986"
        ],
        [
         "8",
         "Uma forma bem legal\nPara quem ainda não sabe em quem votar.\nPerguntas e respostas para auxiliar....\n\n*Perguntas simples para eleitores que ainda têm dúvidas:*\n\n1 - Você concorda com a legalização do aborto?\n(  ) Sim 13  \n(  ) Não 22\n\n2 - Você  concorda com a liberação das drogas?\n(  ) Sim 13  \n(  ) Não 22\n\n3 - Você concorda com a implantação da ideologia de gênero (menino não é menino e menina não é menina) nas escolas?\n(  ) Sim 13\n(  ) Não 22\n\n4 - Você concorda com as regalias e benefícios (visita íntima, saidinha nos feriados) que são dadas aos presidiários no Brasil?\n(  ) Sim 13   \n(  ) Não 22\n\n5 - Você concorda com a perseguição às igrejas ?\n(  ) Sim 13   \n(  ) Não 22\n\n6 - Você concorda com as Invasões de terras ?\n(  ) Sim 13  \n(  ) Não 22\n\n7 - Você concorda com o empréstimo/\"doação\" de dinheiro público do Brasil para outros países?\n(  ) Sim 13   \n(  ) Não 22\n\n8 - Você concorda com a prisão de pessoas apenas por criticarem um ministro do STF ? \n(  ) Sim 13   \n(  ) Não 22\n\n9 - Você concorda que o cidadão *sem ficha criminal, após certificação*, não possa ter arma de fogo, dentro da sua casa, para defender sua família e sua propriedade?\n(  ) Sim 13  \n(  ) Não 22\n\n10 - Você concorda com a descriminalização do roubo de celular para que o assaltante possa tomar a sua cervejinha? \n(  ) Sim 13   \n(  ) Não 22\n\n11 - Você concorda que professores usem a sala de aula para doutrinação política, ao invés de ensinarem as matérias ?\n(  ) Sim 13  \n(  ) Não 22\n\n12 - Você concorda com a regulação (controle e censura) das redes sociais e que o Estado possa determinar o que você pode falar, ler, escrever, ouvir e assistir ?\n(  ) Sim 13  \n(  ) Não 22\n\n13 - Você concorda que pessoas com mais de 16 anos *continuem sem receber punição como adultos* mesmo nos crimes graves como homicídio, estupro, sequestro e latrocínio?\n(  ) Sim 13   \n(  ) Não 22\n\n14 - Você concorda com os que pedem o fim da Polícia Militar e a proibição das operações policiais nos morros ?\n(  ) Sim 13  \n(  ) Não 22\n\n15 - Você concorda que o Estado possa confiscar bens e propriedades do povo pra, supostamente, fazer caridade ?\n(  ) Sim 13   \n(  ) Não 22\n\n16 - Você acha justo que seja obrigatória a reserva de vagas obrigatórias para quem se declarar LGBT em universidades, concursos e empresas?\n(  ) Sim 13   \n(  ) Não 22\n\n17 - Você acha justo que mulheres e meninas sejam obrigadas a aceitar, nos banheiros femininos, a presença de homens que se dizem mulheres ?\n(  ) Sim 13  \n(  ) Não 22\n\n18 - Você quer chegar ao ponto de ter que matar e comer seu pet?\n(  ) Sim 13  \n(  ) Não 22\n\n*Reflita nas suas RESPOSTAS e vote no 2º Turno de acordo com elas!*\nUM AMIGO ME PERGUNTOU EM QUEM Q EU VOTEI , RESPONDI Q FOI NO BOLSONARO , ELE ME PERGUNTOU SE EU GOSTO DELE (BOLSONARO), RESPONDI Q NÃO,  QUE GOSTO É DE MIM MESMO \n\nGOSTO DE TER LIBERDADE \n\nGOSTO DE EMITIR MINHA OPINIÃO \n\nGOSTO DE SER CRISTÃO E TER MINHA FÉ \n\n\nGOSTO DA MINHA FAMÍLIA \n\nGOSTO DA VIDA\n\nGOSTO DE IMPRENSA LIVRE \n\nGOSTO DE SEGURANÇA PÚBLICA ,BANDIDO PRESO \n\nGOSTO DE TER OPÇÃO DE ME DEFENDER\n\nGOSTO DE BOA EDUCAÇÃO \n\nGOSTO DE BOA SAÚDE \n\nGOSTO DE ESCOLA SEM DOUTRINAÇÃO \n\nGOSTO QUE O IMPOSTO QUE EU PAGO SEJA INVESTIDO NO MEU PAÍS (saneamento básico, rodovias, metrôs ,escolas,hospitais,etc…) E NÃO INVESTIDO EM OUTROS PAÍSES \n\nGOSTO DO MEU PAÍS\n\n\nCONCLUSÃO:\nNÃO PRECISA GOSTAR DO PRESIDENTE,\nGOSTE DE VOCÊ MESMO\n\nMinha BANDEIRA É ESSA\n\n🇧🇷🇧🇷🇧🇷🇧🇷🇧🇷🇧🇷🇧🇷",
         "0.9985"
        ],
        [
         "9",
         " \nA Viva Esperança\n\nDepois das saudações iniciais da sua primeira epístola, o apóstolo Pedro escreveu: “Bendito o Deus e Pai de nosso Senhor Jesus Cristo, que, segundo a sua muita misericórdia, nos regenerou para uma viva esperança, mediante a ressurreição de Jesus Cristo dentre os mortos, para uma herança incorruptível, sem mácula, imarcescível, reservada nos céus para vós outros que sois guardados pelo poder de Deus, mediante a fé, para a salvação preparada para revelar-se no último tempo” (1 Pedro 1:3-5).Em poucas palavras, Pedro resumiu aspectos importantes da mensagem do evangelho de Jesus Cristo. Observemos alguns:\n\nDeus coopera para a nossa salvação. Aprendemos na Bíblia que há um só Deus, e também aprendemos que há três pessoas identificadas como Deus: Pai, Filho e Espírito Santo. Pela dificuldade de compreender perfeitamente a ideia de um só Deus em três pessoas, muitos têm criado outras doutrinas. Dificuldades em entender ou explicar um fato não são motivos para negar verdades reveladas. Pedro falou da participação dessas três pessoas cooperando para nossa salvação (1 Pedro 1:2-3). Sua mensagem é a mesma ensinada pelo apóstolo Paulo e pelo próprio Jesus Cristo.\n\nA salvação é pela misericórdia de Deus. O entendimento dos fariseus no primeiro século, e de defensores de algumas religiões e filosofias nos dias atuais, é de salvação por obras de mérito, seja obediência perfeita à Lei dada aos israelitas ou as boas obras de caridade pela qual a pessoa se qualifica para a felicidade eterna. A mensagem do evangelho, porém, é outra. A nossa única esperança da salvação depende da graça de um Deus misericordioso e disposto a perdoar. Paulo disse: “Pela graça sois salvos, mediante a fé; e isto não vem de vós; é dom de Deus” (Efésios 2:8). 700 anos antes de Paulo, Isaías escreveu: “Deixe o perverso o seu caminho, o iníquo, os seus pensamentos; converta-se ao SENHOR, que se compadecerá dele, e volte-se para o nosso Deus, porque é rico em perdoar” (Isaías 55:7).\n\nDeus nos dá vida pela ressurreição de Jesus. A ressurreição de Jesus é uma doutrina chave do evangelho. Paulo defende a ressurreição e admite abertamente que derrubar esta doutrina teria o efeito de destruir a fé cristã. “E, se Cristo não ressuscitou, é vã a nossa pregação, e vã, a vossa fé. ... Mas, de fato, Cristo ressuscitou dentre os mortos, sendo ele as primícias dos que dormem. Visto que a morte veio por um homem, também por um homem veio a ressurreição dos mortos” (1 Coríntios 15:14,20,21). Quando Jesus ressuscitou e venceu a morte uma vez por todas, ele abriu a porta à vida eterna para todos que decidem segui-lo.\n\nDeus nos oferece uma viva esperança. Pedro escreveu para pessoas perseguidas que enfrentavam a real possibilidade de serem mortas por causa da sua fé. Mas ele faz pouco caso deste perigo por confiar na viva esperança. Deus deu vida para Jesus e ressuscitará seus seguidores.\n\nHá uma herança eterna reservada nos céus. As palavras usadas em 1 Pedro 1:4 e 5 mostram a enorme diferença entre a herança que Deus nos oferece e as heranças materiais desta vida. É uma herança perfeita e permanente. É importante observar onde Deus reserva essa herança: “reservada nos céus para vós outros”. Enquanto alguns distorcem a palavra para incentivar a fé em habitar em um paraíso terrestre, Pedro deixa bem claro que a herança que aguardamos está reservada nos céus!\n\nO próprio Deus guarda os fiéis para a salvação. A linguagem de 1 Pedro 1:5 é bem parecida com um comentário que Paulo fez a Timóteo: “e, por isso, estou sofrendo estas coisas; todavia, não me envergonho, porque sei em quem tenho crido e estou certo de que ele é poderoso para guardar o meu depósito até aquele Dia” (2 Timóteo 1:12).\n\nA confiante esperança do cristão não depende do seu próprio mérito, e sim da graça do Deus que é poderoso para ressuscitar seu Filho, de nos regenerar espiritualmente e, no final, de nos ressuscitar para a vida eterna! Bendito seja Deus!\n\n– por Dennis Allan\nestudosdabiblia.net\n ",
         "0.9985"
        ],
        [
         "10",
         "Yom Ha-Shishi (O SEXTO DIA)?\n\nE agora, sem mais delongas, vamos abordar nossa pergunta sobre o sexto dia.\n\nAlguns de vocês já devem ter encontrado a diferença em hebraico, e eu saúdo aqueles que o fizeram - Grande Jó! Hoje vou explicar isso para aqueles que não sabem hebraico o suficiente para vê-lo sem minha ajuda.\n\nJá sabemos muitas coisas sobre Yom Ha-Shishi - coisas que também são vistas na tradução, não apenas em hebraico. Sabemos, antes de tudo, que este dia é muito especial porque uma criatura muito especial foi criada neste dia. Sabemos que, de acordo com o entendimento judaico, a Criação só se tornou significativa neste dia, quando o homem foi criado e Deus foi proclamado rei (é por isso que o dia em que comemoramos como Rosh Hashaná - Ano Novo Judaico - é considerado o aniversário do sexto dia). Em toda a Bíblia, somente no sexto dia Deus olha sobre toda a sua criação e declara que não é simplesmente boa - טוֹב (tov) “bom”, mas טוֹב מְאֹד (tov meod) “muito bom”. Então, o que podemos ver apenas em hebraico?\n\nBem, quando este capítulo é lido em hebraico, um detalhe surpreendente é visto, completamente perdido na tradução: este é o único dia entre todos os dias do capítulo 1, que possui o artigo definido - Yom Ha- Shishi. S o a noite e a manhã, O sexto dia .... Por quê? É claro que tudo o que dissemos antes torna este dia muito especial, mas há algo mais que gostaria de acrescentar. Você provavelmente sabe que existe uma correspondência entre as letras hebraicas e os números. O número seis - o sexto dia - corresponde à letra \"vav\". \"Vav\" tem a forma de um gancho que mantém duas coisas juntas ( ו ) em uma frase, e \"Vav\" é traduzido como \" e\" . Esta propriedade de vav é referido como o \"vav da conexão\", e se percebermos que o sexto dia - Yom Ha-Shishi - também é Yom Vav (mesmo no hebraico moderno), entenderíamos que, como tal, ele conecta e mantém juntos o reinos espirituais e físicos, céu e terra, seis dias da Criação e Shabat. Qualquer pessoa que tenha experimentado o Shabat em Israel saberá do que estou falando. Sexta-feira, Yom Shishi , é um dia realmente especial aqui, já que é um precursor e o começo do Shabat: Ele conecta e mantém juntos os seis dias da semana e o dia mais importante da semana judaica. Toda sexta-feira, realizamos uma refeição festiva e cantamos a música que acolhe \"a Noiva (Shabat)\". É claro que esse dia deve ser diferente de todos os dias anteriores e deve ter essa marca especial - o artigo: Yom Ha-Shishi.\n\nShabat (O Sétimo Dia)\nTerminamos com Gênesis 1 , mas como você provavelmente sabe, os três primeiros versículos do capítulo 2 ainda pertencem à primeira conta da criação. E aqui, Shabat- o sétimo dia da criação - é introduzido. Durante muito tempo, os historiadores tentam entender quando e como o sétimo dia se tornou o dia santo de Israel (principalmente, eles o vinculam a uma divisão babilônica do mês lunar em quatro períodos de sete dias). Hoje tomamos isso como garantido, mas a idéia de que os humanos deveriam organizar e acompanhar seu tempo por períodos de sete dias nem sempre foi universalmente aceita. Seis e dez dias de semanas existiram em diferentes culturas antigas. Então, como e quando o sétimo dia se tornou o dia santo de Israel? Talvez isso possa ser explicado pela divisão babilônica do mês lunar em quatro períodos de sete dias? Ou precisamos procurar uma explicação diferente?\nSe cremos nas Escrituras, definitivamente não precisamos procurar em outro lugar. Em Gênesis 2 , o sétimo dia se torna claramente o selo divino da criação, um dia santificado de descanso - o dia santo de Deus. Nos séculos vindouros, Israel deve torná-lo o centro de sua existência, a marca de sua aliança com Deus, \"um memorial da obra da criação\".\nAlém disso, as canções e os salmos cantados em todos os lares judeus nas noites de sexta-feira costumam se referir não apenas ao Shabat como um dia semanal de descanso, mas também àquele glorioso Shabat messiânico, quando, sob o Messias, toda a criação encontra o Rest - uma alusão a tradição judaica de dividir o tempo em uma semana do milênio.",
         "0.9984"
        ],
        [
         "11",
         "VOCÊ USA A SUA SABEDORIA ESPIRITUAL?\n\nA prática da Sabedoria espiritual acontece junto com a inteligência espiritual direcionada à causa a que as pessoas Servem.\nOs “Guerreiros da Luz” neste mundo são líderes experientes e habilitados, diferentes daqueles que estão apenas no momento tocando em uma versão maior de si mesmos abrindo-se para Servir. \nMuitas vezes esses estados são passageiros, e não levam a um modo permanente de ser mais iluminado.\nComo identificamos a sabedoria espiritual em nós mesmos e nos outros? Como olhar além das aparências?\n\nAqui estão qualidades que as pessoas espiritualmente experientes possuem:\n\n Elas se importam muito:\nO aumento da sensibilidade e da compaixão está ligado ao aumento da consciência espiritual. E este torna-se o desafio que  enfrentam: sentir-se excessivamente sensível ou oprimida pelas aflições do mundo. \nA sabedoria espiritual convida a desenvolver um núcleo saudável e vibrante para que possa responder adequadamente, mantendo um coração suave e aberto.\n\n Elevada compreensão do paradoxo da existência:\nComo tudo pode ser importante e nada importa ao mesmo tempo? Como podemos ser simultaneamente infinitos e finitos? Em algum momento do crescimento espiritual, nos rendemos a esse paradoxo sem dramatizar.\n\n Amor transcendente. \nTorna-se um veículo de Amor, abraçando a vida e os encontros com os outros, sem julgar.\n\n Sabem Ouvir:\nPessoas espiritualmente experientes ouvem além das palavras: pela presença que ressoa em todos os níveis - corpo, mente e espírito. \n\n Generosidade\nIntegram-se como comunidade, parte da humanidade, e de todo o planeta. Doando, estão também amando-se e cuidando-se, porque todos estão interligados.\n\n Sempre aprendendo:\nCada experiência, mesmo aquelas mais difíceis,  é uma oportunidade potencial de crescimento e aprendizado para atingir a Maturidade espiritual.\n\n Criam de forma significativa:\nCom intenção clara e para o bem maior derramam sua criatividade em ações.\n\n São Autênticas:\nDespertar espiritualmente é como se despir:  familiarizar-se com a vulnerabilidade, abertura, simplicidade, imperfeição e autoaceitação em todos os níveis.\nTrata-se de abraçar a beleza natural que é você e apenas ser você mesmo.\nÉ pela virtude de ser fiel a si mesmo que você faz sua luz brilhar.\n\n Lideram com a Graça:\nPessoas espiritualmente sábias entendem a responsabilidade e o privilégio da liderança e trabalham em parceria com a Graça para liderar e serem lideradas. E quando isso acontece, as pessoas se unem naturalmente ao seu redor. \nPermitir-se viver espontaneamente significa responder adequadamente ao plano pessoal e ao Plano Maior.\nEstar espiritualmente consciente nos convida a permanecer conectados ao Eterno através do presente momento em constante desdobramento.\n\nTudo isso ressoa? Bem-vindo a bordo. Você está em boa companhia. O mundo precisa de você.\n\nVilma Capuano -Resumo com inserções, baseado em artigo de:\nhttps://blog.spiritualify.com/10-unique-characteristics-of-people-with-a-high-spiritual-wisdom/",
         "0.9984"
        ],
        [
         "12",
         "“Paz!”\nObrigada amados meus, por mais esta Anistia.\nO mundo realmente precisa de Paz! Muita Paz!\nO Brasil precisa de Paz! Muita Paz!\nDeveis então rezar sempre pela Paz!\n“No próximo ano, sentireis mais a necessidade de se rezar pela Paz!”\nMas, preciso dizer:\nNesta Anistia, muitos, ao invés de rezar pela Paz, dedicaram suas orações a este ou àquele candidato!\nOra filhinhos, o Céu NÃO faz política!\nO Céu NÃO escolhe candidatos!\nO Céu reza pela PAZ!\nOs candidatos, este ou aquele, também são filhos de Deus e Deus não guarda preferencia entre um ou outro!\nA política é coisa dos homens e por isso Deus deixa a escolha para os homens!\nOs homens pedem a Paz e então Deus pode ajudar a fazer acontecer a Paz, mas Deus não escolhe os governantes, mas pode vir em auxílio àqueles que os homens escolherem!\nNo entanto devo vos dizer filhinhos: A guerra é gerada pelos filhos e não pelos demônios!\nOs filhos que desejam que Deus estabeleça a Paz, muitas vezes são os mesmos que geram a guerra!\nOra filhinhos, as pessoas que buscam a Paz não são arrogantes nem prepotentes! Não guardam rancor nem ânsias de vingança!\nAs pessoas que desejam a Paz são:\n“Mansos e humildes de coração!”\nÉ então, com mansidão, com humildade, com confiança, com fé, que podeis gerar a Paz!\nÉ preciso que estejais “ligados” ao Espírito Santo, pois como vós mesmos costumais rezar:\n“Oh Espirito Santo, dai-nos esta Paz que vem apenas de Tí!”\nE para quem viria a Paz? \nAos mansos, aos humildes, aos pequeninos: Aos que praticam a Paz!\nO último dia da Anistia coincidiu com o dia das eleições no Brasil, e é necessário que aceiteis com resignação o resultado, pois este aconteceu por vontade da maioria!\nE Deus respeita esta vontade!\nRezai pela Paz e não pelos homens!\nContinuai rezando pela Paz, pois precisareis muito dela!\nMas analisai bem: A Paz pode ser quebrada pela vossa própria prepotência ou arrogância!\nA Paz pode vir, duradoura, pelo vosso coração bonito repleto de Amor e de Paz! Amém!",
         "0.9984"
        ],
        [
         "13",
         "*Cincoin community!* Junte-se ao futuro que hoje encontra-se presente!\n*Token Cincoin* cadastre-se gratuitamente e ganhe 100 Tokens Cincoin\n\nLançamento Oficial na OVER EXCHANGE Previsto para o  Primeiro Seméstre de 2023\n\nUma das moedas mais inteligente e promissoras da atualidade.\n\nUma realidade Presente e um Presente para todos!\n\n*VOCÊ SABIA??*\n\nNo Ano de 2015 foi lançado à Criptomoeda ETH, ela entrou valendo centavos, chegou a bater mais de 25 Mil Reais.\n\nA História está se Repetindo novamente, A *Cincoin* está fazendo o mesmo caminho.\n\nA diferença é que A *Cincoin* já nasce com Utilidade, A *Cincoin* será uma Criptomoeda aceita por mais de 500 Mil Estabelecimentos Comerciais no Brasil, Físico e Online.\n\n*Cadastre-se aqui*👇\n\n*PRESTEM ATENÇÃO NESSA TABELA!!!*\n\n100 Reais vc compra quase 2 Mil CINCOINS.\n\n2 Mil CINCOINS no P2P no valor em Média $ 0,20 = 400.00 Dolares.\n\n2 Mil CINCOINS no LANÇAMENTO no valor $ 1,00 Dolar = 2.000.00 Dolares.\n\n2 Mil CINCOINS no prazo de 3 Anos após Lançamento, no Valor de $ 10,00 Dolares = 20.000.00 Dolares\n\nLembrando que o Valor de 100 Reais, pode se tornar um BOM DINHEIRO.\n\nTUDO JÁ FOI ESTUDADO E TESTADO PARA CINCOIN DECOLAR.\n\nA HISTÓRIA SE REPETE NOVAMENTE, O QUE VC VAI ESCOLHER???\n\n*Quais são os desafios de um investidor no Brasil?*\n\nNa *CINCOIN,* você não é obrigado a investir. Se cadastrando gratuitamente, você ganha 100 Cincoins. Para cada indicação, você ganha 50 Cincoins.\n*INVESTIR COM A CINCOIN É A SOLUÇÃO*\nSabe por quê? Porque aqui você terá tudo que precisa para começar a ganhar dinheiro do ZERO. Veja:\nSe caso investir, aumentará e muito seu potencial\nHoje, 1 *Cincoin* vale apenas US$0,01.\nEm menos de 12 meses, ela será listada em corretora e atingirá US$ 1,00.\nVocê estará aumentando seu capital em 100 vezes ou 10.000%.\n*COM A CINCOIN VOCÊ* \n*TEM DIVERSOS BENEFÍCIOS*\nEmpreendimento já inovador, sem riscos e diferente de tudo que você fez.\n*RUMO A *JORNADA DE SUCESSO*\n\nCom a Cincoin você irá acompanhar todos os seus ganhos através do seu escritório virtual.\n\nCadastre-se gratuitamente e receba 100 moedas Cincoins.\n\nIndique e ganhe 50 CinCoins por cadastro.\n\nFaça seu cadastro grátis: 👇🏽\n\n👉🏽👉🏽 E Ganhe na Hora 100 Moedas Gratuitas, isso mesmo.  \nhttps://app.cincoin.asia/#/invite/emQ0NEVwOVo3aVE9.       \nCashback de 10% e pode sacar em reais\n\nAtenção!\n\nSe você cadastrar uma empresa, um CNPJ ativo, você ganha 100 moedas CinCoin\n\n👉🏽 A empresa ganha 1000...💰\n\n*Cadastre-se aqui*👇\n\n*PRESTEM ATENÇÃO NESSA TABELA!!!*\n\n100 Reais vc compra quase 2 Mil CINCOINS.\n\n2 Mil CINCOINS no P2P no valor em Média $ 0,20 = 400.00 Dolares.\n\n2 Mil CINCOINS no LANÇAMENTO no valor $ 1,00 Dolar = 2.000.00 Dolares.\n\n2 Mil CINCOINS no prazo de 3 Anos após Lançamento, no Valor de $ 10,00 Dolares = 20.000.00 Dolares\n\nLembrando que o Valor de 100 Reais, pode se tornar um BOM DINHEIRO.\n\nTUDO JÁ FOI ESTUDADO E TESTADO PARA CINCOIN DECOLAR.\n\nA HISTÓRIA SE REPETE NOVAMENTE, O QUE VC VAI ESCOLHER???\n\n*Quais são os desafios de um investidor no Brasil?*\n\nNa *CINCOIN,* você não é obrigado a investir. Se cadastrando gratuitamente, você ganha 100 Cincoins. Para cada indicação, você ganha 50 Cincoins.\n*INVESTIR COM A CINCOIN É A SOLUÇÃO*\nSabe por quê? Porque aqui você terá tudo que precisa para começar a ganhar dinheiro do ZERO. Veja:\nSe caso investir, aumentará e muito seu potencial\nHoje, 1 *Cincoin* vale apenas US$0,01.\nEm menos de 12 meses, ela será listada em corretora e atingirá US$ 1,00.\nVocê estará aumentando seu capital em 100 vezes ou 10.000%.\n*COM A CINCOIN VOCÊ* \n*TEM DIVERSOS BENEFÍCIOS*\nEmpreendimento já inovador, sem riscos e diferente de tudo que você fez.\n*RUMO A *JORNADA DE SUCESSO*\n\nCom a Cincoin você irá acompanhar todos os seus ganhos através do seu escritório virtual.\n\nCadastre-se gratuitamente e receba 100 moedas Cincoins.\n\nIndique e ganhe 50 CinCoins por cadastro.\n\nFaça seu cadastro grátis: 👇🏽\n\n👉🏽👉🏽 E Ganhe na Hora 100 Moedas Gratuitas, isso mesmo.  \nhttps://app.cincoin.asia/#/invite/emQ0NEVwOVo3aVE9.       \nCashback de 10% e pode sacar em reais\n\nAtenção!",
         "0.9983"
        ],
        [
         "14",
         "Salmo 136\n\nRendei graças ao Eterno porque ele é bom; porque eterna é Sua Graça.\n\nLouvai ao Deus dos deuses, porque eterna é Sua Graça.\n\nRendei graças ao Senhor de todos os senhores, porque eterna é Sua Graça;\n\nÀquele que sozinho realizou grandes maravilhas, porque eterna é Sua Graça.\n\nÀquele que com sabedoria criou os céus, porque eterna é Sua Graça;\n\nÀquele que estendeu a terra sobre as águas, porque eterna é Sua Graça;\n\nÀquele que criou os grandes astros, porque eterna é Sua Graça;\n\nO sol para reinar no dia, porque eterna é Sua Graça;\n\na lua e as estrelas para governarem à noite, porque eterna é Sua Graça;\n\nÀquele que feriu os primogênitos dos egípcios, porque eterna é Sua Graça;\n\ne que de seu meio retirou Israel, porque eterna é Sua Graça;\n\ncom a força do braço e mão poderosa, porque eterna é Sua Graça;\n\nÀquele que em doze partes dividiu o Mar Vermelho, porque eterna é Sua Graça,\n\ne através dele fez passar a Israel, porque eterna é Sua Graça;\n\ne ao Faraó e seu exército precipitou naquele mar, porque eterna é Sua Graça;\n\nÀquele que pelo deserto conduziu Seu povo, porque eterna é Sua Graça;\n\nÀquele que abateu reis poderosos, porque eterna é Sua Graça;\n\ne as vidas destes exterminou, porque eterna é Sua Graça;\n\nde Sichón, rei dos Amoreus, porque eterna é Sua Graça;\n\nde Og, rei de Bashán, porque eterna é Sua Graça;\n\ne sua terra doou como herança, porque eterna é Sua Graça;\n\na Seu povo, Israel, porque eterna é Sua Graça;\n\nÀquele que de nós se lembrou quando estávamos indefesos, porque eterna é Sua Graça,\n\ne nos salvou dos nossos adversários, porque eterna é Sua Graça;\n\né Ele quem fornece alimento a todos os seres vivos, porque eterna é Sua Graça.\n\nRendei graças ao Deus dos céus, porque eterna é Sua Graça.",
         "0.9983"
        ],
        [
         "15",
         "Sobre Fxcapitalgrowth\n  FCAPITAGRWTH.COM é destinado a pessoas que estão ansiosas por alcançar riqueza e aumentar seu patrimônio líquido, mas incapazes de fazê-lo porque não são financeiramente estáveis\n  FCAPITAGRWTH.COM ajuda você no crescimento do seu patrimônio líquido em seu próprio conforto.\n\n  💵 FCAPITAGRWTH.COM está apta a gerar seus recursos de crypto trading, estando entre os acionistas de algumas empresas lucrativas, negociando com países estrangeiros e também estamos em exportação, com esses grandes investimentos e futuros, somos capazes de aumentar nossa taxa de mineração  em outro para pagar nossos investidores em qualquer taxa.\n\n  FCAPITAGRWTH.COM\n  Nossa missão como empresa de investimentos é ajudar os investidores a eliminar a lacuna entre onde estão financeiramente e onde desejam estar.\n \n  Para ter sucesso, trabalhamos com investidores para estabelecer, melhorar e implementar planos estratégicos de gestão de patrimônio de longo prazo que os tornem possível cumprir seus objetivos financeiros. Nosso plano de investimentos é personalizado para cada investidor e é baseado no perfil de risco do investidor e nas metas de retorno.\n\n  Além disso, buscamos produzir um desempenho de longo prazo perfeito para nossos investidores, apesar do comportamento do mercado de títulos públicos. Asseguramos que o seu patrimônio tenha o melhor desempenho, o que é essencial para atender aos seus objetivos exclusivos. Ao mesmo tempo, investigamos continuamente novas e melhores estratégias financeiras e produtos de investimento que servirão de forma mais benéfica aos objetivos financeiros de nossos investidores.\n\n  Consequentemente, nos concentramos em atingir certas metas de retorno.\n\n  Somos um parceiro de confiança que permite que nossos clientes se sintam seguros de que seus planos de investimento e aposentadoria estão completos e organizados de forma eficiente.\n\n  Proteger o melhor interesse de nossos investidores e atingir seus objetivos é o nosso principal marco.\n  Visite FCAPITAGRWTH.COM\n\n  PLANOS QUE OFERECEMOS\n\n  1⃣ PLANOS PRINCIPAIS\n  mínimo ........... $ 100\n  máximo .......... $ 499\n  após 24 horas você ganha 20% do seu investimento.\n\n  2⃣ PLANO BÁSICO\n  mínimo .......... $ 500\n  máximo ......... $ 999\n  após 48 horas você ganha 50% do seu investimento.\n\n  3⃣ PLANO PADRÃO\n  mínimo .......... $ 1000\n  máximo ......... $ 5.000\n  Após 72 horas você ganha 80% do seu investimento.\n\n  4⃣ PLANO DE ACIONISTA\n  mínimo ......... $ 5.000\n  máximo .......... $ 1000000\n  Após 96 horas você ganha 100% do seu investimento.\n\n  Junte-se a nós e invista hoje e tenha a certeza de seus ganhos. Visite-nos em\n https://fcapitagrwth.com/register.php",
         "0.9981"
        ],
        [
         "16",
         "Louve a Deus em Todos os Momentos\n\n\n\nImagine desistir de seu único filho porque você fez uma promessa. \n\nAna orou por um filho por anos. Ano após ano, ela pedia a Deus que lhe desse um filho, e ela prometia que, se Ele o fizesse, ela daria o filho ao Senhor. Finalmente, Deus respondeu as orações e permitiu que ela desse à luz a um filho que ela o chamou de Samuel.\n\nMas assim que o menino foi desmamado, Ana manteve sua palavra. Ela levou seu filho para o templo e o deixou aos cuidados do sacerdote para que Samuel pudesse passar sua vida a serviço de Deus. Em meio a isso, Ana poderia ter respondido de várias maneiras, mas ela escolheu louvar ao Senhor e se regozijar em Sua salvação:\n\n\n🕎 1 Samuel 2:2\nNão há ninguém santo como o SENHOR; não existe outro além de ti; não há rocha alguma como o nosso Deus.\n\nNão há santo como o Senhor. É a santidade do Senhor que o torna diferente dos homens, transcendente. Esta transcendência é mais em termos de intensidade que de distância. Rocha . . . como o nosso Deus. Rocha é uma metáfora freqüente que expressa a força e a permanência do Senhor. As rochas, passíveis de fácil defesa, eram freqüentemente usadas como lugares de refúgio. A força de Deus é um lugar de refúgio (Salmos 91:1, 2).\n\n\nO que é bonito na fé e na perspectiva com Deus por Ana é que não há uma pitada de amargura em suas orações, ou perguntas em seu louvor.\n\nEla estava alegre porque Deus foi fiel.\n\nEla passou reconhecer a força de Deus, Sua soberania, Sua vontade e Seus propósitos. Sua resposta foi sobre Deus, não sobre a resposta à sua oração.\n\nIsso pode ser um desafio para nós. Há situações na vida em que oramos por coisas que não temos certeza de que acontecerão. Desejamos que certos problemas sejam resolvidos ou que os relacionamentos sejam curados. E embora saibamos pelas Escrituras que Deus ouve nossas orações (Veja: Filipenses 4:6; 1 Tessalonicenses 5:17; Romanos 12:12) – nem sempre sabemos se teremos a resposta que queremos.\n\n\nNosso desafio é louvar a Deus por Sua fidelidade, caráter e amor — quer nossas orações sejam ou não respondidas da maneira ou no tempo que desejamos.\n\n\nVocê já teve uma oração respondida e louvou a Deus por isso? \n\n\nPense em como você pode louvar a Deus como Ana. Reserve alguns momentos para adorar ao Senhor por quem Ele é, bem como pelo que Ele fez.\n\n\n\nSiga no Telegram:\nhttps://t.me/osemeadordapalavra",
         "0.9978"
        ],
        [
         "17",
         "⚠️🆙AS MARCAS DE UMA FÉ VITORIOSA\n\nEstá escrito: \"Cri, por isso falei\". Com esse mesmo espírito de fé nós também cremos e, por isso, falamos, porque sabemos que aquele que ressuscitou ao Senhor Jesus dentre os mortos, também nos ressuscitará com Jesus e nos apresentará com vocês. Tudo isso é para o bem de vocês, para que a graça, que está alcançando um número cada vez maior de pessoas, faça que transbordem as ações de graças para a glória de Deus. Por isso não desanimamos. Embora exteriormente estejamos a desgastar-nos, interiormente estamos sendo renovados dia após dia, pois os nossos sofrimentos leves e momentâneos estão produzindo para nós uma glória eterna que pesa mais do que todos eles. 2 Coríntios 4:13-17. Queremos destacar três verdades benditas acerca da fé vitoriosa. Ela baseia-se na revelação divina, pois o apóstolo dos gentios fundamenta sua fé não na sua subjetividade nem mesmo nas suas ricas experiências, mas na eterna Palavra de Deus. O Fundamento da sua Fé não é uma experiência subjetiva, mas a revelação objetiva. Ele está plantado na rocha da verdade. Suas âncoras estão firmadas nas Escrituras. Ela Fundamenta-se na ressurreição do corpo. A maior prova da suprema grandeza do poder de Deus, apresentada é a ressurreição de Cristo. Esse mesmo poder será aplicado também a nós, quando Deus, na segunda vinda de Cristo, levantará o nosso corpo da morte. Essa certeza de Fé nos encoraja a enfrentar as lutas. A morte não tem mais a última palavra. Ela já foi vencida. Receberemos um corpo imortal, incorruptível, poderoso, glorioso, espiritual e celestial, semelhante ao corpo da glória de Cristo. Brilharemos como o sol no firmamento. A ressurreição de Cristo é um conforto na aflição. O fato é certo, Cristo levantou-se da morte pelo poder de Deus. A inferência é justa, Deus nos ressuscitará e nos apresentará em glória. A conclusão é inevitável, Deus nos libertará de todas as nossas aflições. Ele tem todo o poder e já se comprometeu a fazer isso. O dever é óbvio; devemos sofrer pacientemente. Direciona-se para a gloria de Deus. O propósito final da nossa existência, do nosso trabalho, do nosso sofrimento e da própria igreja é a glória de Deus. O centro de todas as coisas não é o homem, mas Deus. O fim principal do homem não é buscar sua própria glória, mas glorificar a Deus e gozá-Lo para sempre. Tudo que começa com a graça conduz à glória. Que Deus abençoe sua segunda-feira!!!⚕️⚔️⚖️⚓👑🤴🏼👸🏼👫🙇‍♂️👨‍👩‍👧‍👦💒💚💛💖🔥🌇🏙️🌆🌃💒🙏🏼🆗",
         "0.9978"
        ],
        [
         "18",
         "Deus é bom o tempo todo\n\nCom que frequência você diz a alguém o quão grato você é por eles? Frequentemente, é mais fácil ser crítico e cínico sobre as pessoas e as situações que estão acontecendo ao nosso redor no mundo atual. Por vezes, até podemos nos sentir no direito, como se merecêssemos certas coisas que não possuímos. \n\n\n\nEmbora nem sempre as coisas ocorram da forma como esperamos na vida, a Palavra de Deus no ensina que sempre existe alguma coisa para sermos gratos. Deus nos deu todas as coisas boas que temos—até mesmo o próprio ar que respiramos é uma presente de Deus. \n\n\n\nSobretudo, Jesus deu Sua vida por nós na cruz de maneira que pudéssemos ter vida eterna com Ele. \nO dom da fé e esperança em Jesus deve nos levar em direção ao reconhecimento e a gratidão para com Deus. \n\n\n\nO autor do Salmo 107 nos encoraja a sempre darmos graças a Deus, pois nunca há um momento sequer que Deus não seja bom conosco. Até mesmo em meio a tempos difíceis e períodos complicados da vida, Deus continua bom. De fato, Romanos 8 nos diz que Deus está trabalhando nos bastidores para que tudo opere de acordo Sua bondade.\n\n\n\nO salmista também nos diz que devemos ser agradecidos e dar graças a Deus porque Seu amor dura para sempre. Nunca haverá um momento em sua vida que Deus não te ame. \n\n\n\nMesmo quando erramos, o amor de Deus permanece.\n\n\n\nEm Romanos 8:38-39, Paulo diz que não há nada que possa nos separar do amor de Deus. O amor e a bondade de Deus perduram para sempre.\n\n\n\nDevemos procurar ser as pessoas mais gratas do planeta, pois o amor de Deus nunca cessará.\nEntão dedique algum tempo hoje para dizer a Deus pelo o que você é grato. Pode ser algo simples como a luz do sol, a natureza, ou uma pessoa específica. Criar um hábito diário de agradecer a Deus é uma passo importante em nosso crescimento espiritual.",
         "0.9978"
        ],
        [
         "19",
         "🍞 ORANDO A PALAVRA DIARIAMENTE🍷\n\nDevocional de 30 de outubro de 2022\n\n'Cantarei ao SENHOR enquanto eu viver; cantarei louvores ao meu Deus, enquanto eu tiver existência.' Salmos 104:33\n\n Estamos sempre pedindo e pedindo, mas será que temos lembrado de louvar ao Senhor  Queremos sempre ouvir uma palavra de incentivo, uma palavra de amor, que nos conforte em meio a tantas lutas, porque estamos sempre olhando para as circunstâncias, e não percebemos quanta coisa o Senhor já fez... Sua graça e o Seu amor derramado por nós, deve ser motivo constante de gratidão, e motivo para que sejamos verdadeiros adoradores do Senhor. Portanto, cantemos louvores ao nosso Deus !!! Vamos adorá-lo !!! Pois digno És, de toda a nossa adoração e todo o nosso amor !!!\n\nORAÇÃO: Pai querido, eu Te louvo, eu Te adoro, eu Te amo, Tu és meu Pai, Tu és meu amigo, Tu és a única e verdadeira razão da minha felicidade, é maravilhoso poder ser amado por Ti, quero viver a eternidade contigo, derrama do Teu espirito sobre a minha vida, uma porção dobrada, uma boa medida, recalcada e transbordante, quero estar sempre cheio para adorar ao Senhor... Obrigado por tudo... Em nome de Jesus. Amém.\n\n🙏🏼\nhttps://www.instagram.com/p/CkVTTlmu36b/?igshid=MDJmNzVkMjY=",
         "0.9978"
        ],
        [
         "20",
         "A gente come feijão puro feijão puro feijão puro feijão puro feijão puro feijão puro feijão puro feijão puro feijão puro feijão puro feijão puro feijão puro feijão puro feijão puro feijão puro feijão puro feijão puro feijão puro feijão puro feijão puro feijão puro feijão puro feijão puro feijão puro feijão puro feijão puro feijão puro feijão puro feijão puro feijão",
         "0.9978"
        ],
        [
         "21",
         "PLANOS INICIAIS\n\n  SAQUES DE LUCROS SÃO DENTRO DE 24 HORAS DE NEGOCIAÇÃO\n\n  Invista 200€💵 para ganhar 2000€💵\n  Invista 300€💵 para ganhar 3000€💵\n  Invista 400€💵 para ganhar 4000€💵\n  Invista 500€💵 para ganhar 5000€💵\n  Invista 600€💵 para ganhar 6000€💵\n  Invista 700€💵 para ganhar 7000€💵\n  Invista 800€💵 para ganhar 8000€💵\n  Invista 900€💵 para ganhar 9000€\n     \n  SAQUES DE LUCROS SÃO DENTRO DE 48 HORAS DE NEGOCIAÇÃO\n\n               PLANOS PROMOCIONAIS\n\n  Invista 1000€💵 para ganhar 12000€\n  Invista 2000€💵 para ganhar 23000€\n  Invista 3000€💵 para ganhar 34000€\n  Invista 4000€💵 para ganhar 45000€\n  Invista 5000€💵 para ganhar 56000€\n  Invista 6000€💵 para ganhar 65000€\n  Invista € 7.000💵 para ganhar € 75.000\n  Invista € 8.000💵 para ganhar € 85.000\n  Invista € 9.000💵 para ganhar € 95.000\n  Invista 1000€💵 para ganhar 12000€\n\n\n  LUCRO EM 72 HORAS\n\n  NEGOCIAÇÃO VIP\n\n  1BTC lucro 4BTC\n  2BTC lucro 8BTC\n  3BTC ganho 12BTC\n  4BTC ganho 16BTC\n  5BTC lucro 20BTC\n\n  SAQUES DE LUCROS SÃO DENTRO DE 72 HORAS DE NEGOCIAÇÃO",
         "0.9978"
        ],
        [
         "22",
         "2 Crônicas 6\nSalomão fala ao povo\n6 Então Salomão orou assim:\n\n“Ó Senhor Deus, tu resolveste viver entre as nuvens escuras.\n2 Mas agora eu construí para ti uma casa,\num lugar onde viverás para sempre.”\n\n3 Aí Salomão virou, olhou para o povo, que estava todo de pé, e pediu a bênção de Deus para todos. 4 Depois disse:\n\n— Bendito seja o Senhor, o Deus de Israel! Pois pelo seu poder ele cumpriu a promessa que tinha feito a Davi, o meu pai, quando lhe disse: 5 “Desde o dia em que tirei o meu povo do Egito, eu não escolhi nenhuma cidade de todas as tribos da terra de Israel para ali construir um templo a fim de ser adorado nele, nem escolhi nenhum homem para governar o meu povo de Israel. 6 Mas agora escolhi Jerusalém como o lugar onde serei adorado e escolhi você, Davi, para governar o meu povo.”\n\n7 E Salomão continuou:\n\n— Davi, o meu pai, tinha planos de construir um templo para a adoração do Senhor, o Deus de Israel, 8 mas o Senhor lhe disse: “Você fez bem quando planejou construir um templo para mim, 9 mas você não o construirá. Será o seu filho quem construirá o meu Templo.” 10 E agora o Senhor cumpriu a sua promessa. Eu fiquei no lugar do meu pai como rei de Israel e construí o Templo para a adoração do Senhor, o Deus de Israel. 11 Ali eu coloquei a arca da aliança, onde estão guardadas as placas de pedra da aliança que o Senhor Deus fez com o povo de Israel.\n\nSalomão ora a Deus\n12 Então, na presença de todo o povo, Salomão foi, ficou em frente do altar e levantou as mãos. 13 Ele havia mandado construir no pátio do Templo um estrado quadrado de bronze que media dois metros e vinte em cada lado e um metro e trinta de altura. Ele subiu no estrado e, na presença de todo o povo, se ajoelhou, levantou as mãos para o céu 14 e orou assim:\n\n— Ó Senhor, Deus de Israel! Não há Deus igual a ti no céu ou na terra. Tu és fiel à aliança que fizeste com o teu povo e lhes mostras o teu amor quando eles, com todo o coração, vivem uma vida de obediência a ti. 15 Pelo teu poder cumpriste a promessa que fizeste a Davi, o meu pai; no dia de hoje, todas as palavras da tua promessa foram completamente cumpridas. 16 E agora, ó Senhor, Deus de Israel, eu te peço que cumpras a outra promessa que fizeste ao meu pai, quando lhe disseste que sempre haveria um descendente dele governando como rei de Israel, contanto que eles te obedecessem com o mesmo cuidado com que ele obedeceu. 17 Portanto, ó Deus de Israel, faze com que se cumpra aquilo que prometeste a teu servo Davi.\n\n18 — Mas será que, de fato, ó Deus, tu podes morar no meio de nós, criaturas humanas, aqui na terra? Tu és tão grande, que não cabes nem mesmo no céu. Como poderia este Templo que eu construí ser bastante grande para isso? 19 Ó Senhor, meu Deus, eu sou teu servo. Escuta a minha oração e atende os pedidos que te faço. 20 Olha de dia e de noite para este Templo, o lugar que escolheste para nele seres adorado. Ouve-me quando eu orar com o rosto virado para este lugar. 21 Escuta as minhas orações e as orações do teu povo quando eles orarem com o rosto virado para cá. Sim, da tua casa no céu, ouve-nos e perdoa-nos.\n\n22 — Quando alguém for acusado de prejudicar outra pessoa e for trazido até o teu altar neste Templo e jurar que é inocente, 23 ó Deus, ouve do céu e julga os teus servos. Castiga o culpado como ele merecer e declara que não tem culpa aquele que for inocente, recompensando-o como ele merecer.\n\n24 — Quando, por ter pecado contra ti, o teu povo de Israel for derrotado pelos seus inimigos e quando ele se virar para ti e vier a este Templo para te louvar e pedir o teu perdão, 25 escuta-o do céu. Perdoa o pecado do teu povo e leva-o de volta para a terra que deste a eles e aos seus antepassados.\n\n26 — Quando o céu se fechar e não chover porque o teu povo pecou contra ti, e então eles se arrependerem, e virarem o rosto na direção deste Templo, e orarem e te louvarem, depois que os tiveres castigado, 27 escuta-os do céu. Perdoa os pecados dos teus servos, o povo de Israel, e ensina-os a fazer o que é direito. Entã",
         "0.9977"
        ],
        [
         "23",
         "Vamos ver um texto aqui?\n\nQuero provar pra você uma coisa muito importante.\n\nProvérbios 25:2 vai dizer o seguinte em resumo, eu gosto demais desse versículo aqui, e vai nos ajudar entender muita coisa.\n\nDiz o seguinte, “a glória de Deus é encobrir as coisas mas a glória dos reis 👑 é tudo esquadrinhar”\n\n📜 Provérbios 25:2 \n\nEsse versículo ele é muito chave 🔑 pra nós. Sabe por quê? Esse versículo ele acalenta muitos corações 💕 \n\nSe é principalmente os corações das muitas pessoas que falam assim: “nossa eu gosto tanto de estudar a bíblia eu quero tanto aprender”…”Parece que as coisas são confusas”. “Eu quanto mais estudo, mais eu me confundo”. \n\nExistem também aqueles que por se sentirem incapazes (existem até os preguiçosos) fogem do estudo bíblico profundo, e alegam que só querem se prender ao “arroz com feijão ou leitinho”, e até criticam aos outros que estudam as Escrituras buscando o conhecimento e sabedoria para a Glória do Eterno, para a salvação.\n\nEsse versículo vai te ajudar, e vai acalentar seu coração 💓 \n\nSabe por quê? Não é que lhe falta sabedoria, não é que lhe falta inteligência, porque você é sábio. Você é inteligente, carregamos a imagem e semelhança do Criador.\n\nSabe o que acontece? O Próprio DEUS está falando aqui, bem o que eu vou te mostrar agora, o próprio DEUS está revelando aqui no texto, na sua própria palavra que ele encobre coisas.\n\nTemos outros versículo que fala que DEUS esconde os seus tesouros, como em Isaías 45:3, e outros…\n\nExistem coisas que nunca iremos saber enquanto estivermos aqui, porque são assuntos encobertos de fato, que pertencem somente ao Criador, como diz em 📜 Deuteronômio 29:29.\n\nDEUS encobre certos assuntos. Não é porque você tem alguma dificuldade ou limitações. Não, é porque DEUS faz isso mesmo. Ele realmente esconde. Ele realmente encobre coisas. Mas pra quê? PENSE COMIGO 🤔 💭  \n\nA palavra 📖 de DEUS é uma fonte ⛲️ inesgotável de sabedoria.\n\nAí entra um outro lado, aí entra uma outra parte, pra quê? mas a glória dos reis é tudo esquadrinhar.\n\nAí está o segredo. Aí está um segredo gigante. Porque DEUS encobre, pra quê?\n\nPara ver até aonde você vai. Para ver até onde você vai chegar pra esquadrinhar. \n\nO que é esquadrinhar? \n\nSignifica: Investigar, de forma minuciosa, quebrar pedacinho por pedacinho pra ver o que Deus escondeu ali, e quando você faz isso sabe o que acontece? Deus vê o seu coração. DEUS não está falando em nenhum momento nas Escrituras sobre conhecimento acadêmico ou teológico! \n\nEle vê se você quer mesmo, se você está interessado nele mesmo, se você quer chegar pertinho dele mesmo pelas escrituras, e é isso que ele quer ver.\n\nEsse é o interesse de DEUS nessa história. Por isso que ele esquadrinha, por isso que ele esconde. Por isso que ele encobre, não é porque ele não quer que descubramos, ao contrário ele quer ver até onde nós vamos, ele quer ver até onde é o nosso comprometimento, ele quer enxergar seu coração, ele quer saber se você está disposto, até onde você está disposto pra descobrir o que ele escondeu, o que ele encobriu, ele quer saber.\n\nLembre-se sempre que o poder de DEUS reside em sua palavra, e por isso, nós deveríamos buscar ao máximo ler, estudar, meditar, ensinar, praticar essa palavra aproveitando nosso tempo.\n\n📜 Josué 1:8. Não se aparte da tua boca o livro desta lei; antes medita nele dia e noite, para que tenhas cuidado de fazer conforme a tudo quanto nele está escrito; porque então farás prosperar o teu caminho, e serás bem-sucedido.\n\n📜 Salmos 1:2. Antes tem o seu prazer na lei do SENHOR, e na sua lei medita de dia e de noite.\n\n📖 1 Timóteo 4:15. Medita estas coisas; ocupa-te nelas, para que o teu aproveitamento seja manifesto a todos. 16. Tem cuidado de ti mesmo e da doutrina. Persevera nestas coisas; porque, fazendo isto, te salvarás, tanto a ti mesmo como aos que te ouvem.",
         "0.9976"
        ],
        [
         "24",
         "As cinco  virgens prudentes que receberam as cinco coroas👑\nA Parábola das Dez Virgens está no livro de Mateus, capítulo 25. 1-13.\nEntão o reino dos céus será semelhante a dez virgens que, tomando as suas lâmpadas, -saíram ao encontro do esposo.. E cinco delas eram prudentes, e cinco loucas. As loucas, tomando as suas lâmpadas, não levaram azeite consigo. Mas as prudentes levaram azeite em suas vasilhas, com as suas lâmpadas. . E, tardando o esposo, tosquenejaram todas, e adormeceram.  Mas à meia-noite ouviu-se um clamor: Aí vem o esposo, saí-lhe ao encontro.  Então todas aquelas virgens se levantaram, e prepararam as suas lâmpadas. E as loucas disseram às prudentes: Dai-nos do vosso azeite, porque as nossas lâmpadas se apagam.  Mas as prudentes responderam, dizendo: Não seja caso que nos falte a nós e a vós, ide antes aos que o vendem, e comprai-o para vós.  E, tendo elas ido comprá-lo, chegou o esposo, e as que estavam preparadas entraram com ele para as bodas, e fechou-se a porta. E depois chegaram também as outras virgens, dizendo: Senhor, Senhor, abre-nos. E ele, respondendo, disse: Em verdade vos digo que vos não conheço. Vigiai, pois, porque não sabeis o dia nem a hora em que o Filho do homem há de vir.\nHá cinco coroas celestiais mencionadas no Novo Testamento que serão concedidas aos crentes estas sao as cinco virgens prudentes. Elas são a coroa incorruptível, a coroa de regozijo, a coroa da justiça, a coroa da glória e a coroa da vida. A palavra grega traduzida como \"coroa\" é stephanos (a fonte para o nome de Estêvão, o mártir) e significa \"um emblema da realeza, um prêmio nos jogos públicos ou um símbolo de honra em geral.\" As coroas foram usadas durante os jogos da Grécia antiga; uma coroa ou grinalda de folhas foi colocada na cabeça de um vencedor como uma recompensa por ganhar uma competição atlética. Esta homenagem atlética é usada figurativamente no Novo Testamento das recompensas do céu que Deus promete àqueles que são fiéis. I Coríntios 9:24-25 melhor define como estas coroas são concedidas.\n 1) A Coroa Incorruptível - (1 Coríntios 9:24-25) \"Não sabeis vós que os que correm no estádio, todos, na verdade, correm, mas um só leva o prêmio? Correi de tal maneira que o alcanceis. Todo atleta em tudo se domina; aqueles, para alcançar uma coroa corruptível; nós, porém, a incorruptível.\" Todas as coisas nesta terra estão sujeitas à decadência e perecerão. Jesus nos exorta a não guardar nossos tesouros na terra: \"Não acumuleis para vós outros tesouros sobre a terra, onde a traça e a ferrugem corroem e onde ladrões escavam e roubam\" (Mateus 6:19). Isso é análogo ao que Paulo disse sobre a coroa de folhas do atleta que logo murchava e se desfazia. Não é assim a coroa celestial; a resistência fiel ganha uma recompensa celestial que é \"uma herança incorruptível, sem mácula, imarcescível, reservada nos céus para vós outros\" (1 Pedro 1:3-5).\n2) A Coroa de Regozijo - (1 Tessalonicenses 2:19) \"Pois quem é a nossa esperança, ou alegria, ou coroa em que exultamos, na presença de nosso Senhor Jesus em sua vinda? Não sois vós?\" O apóstolo Paulo nos diz em Filipenses 4:4: \"Alegrai-vos sempre no Senhor; outra vez digo: alegrai-vos\" devido à bênção abundante que o nosso Deus gracioso derramou sobre nós. Como cristãos, temos mais motivo de regozijo do que qualquer outra pessoa. Lucas diz-nos que há regozijo agora mesmo no céu (Lucas 15:7). A coroa de regozijo será a nossa recompensa onde Deus \"lhes enxugará dos olhos toda lágrima, e a morte já não existirá, já não haverá luto, nem pranto, nem dor, porque as primeiras coisas passaram\" (Apocalipse 21:4).",
         "0.9976"
        ],
        [
         "25",
         "GOSTAR?\n\nOlá,\nUm amigo perguntou-me: \nEm quem você votou?\nRespondi: No Bolsonaro!\nEle me perguntou: Você gosta do Bolsonaro?\nRespondi: Não, gosto de mim mesmo!\n\n- GOSTO DE TER LIBERDADE. \n- GOSTO DE EMITIR MINHA  \n   OPINIÃO. \n- GOSTO DE SER CRISTÃO E \n   TER MINHA FÉ.\n- GOSTO DA MINHA FAMÍLIA. \n- GOSTO DA VIDA.\n- GOSTO DE IMPRENSA LIVRE. \n- GOSTO DE SEGURANÇA \n   PÚBLICA, BANDIDO PRESO. \n- GOSTO DE TER OPÇÃO DE \n   ME DEFENDER.\n- GOSTO DE BOA EDUCAÇÃO. \n- GOSTO DE BOA SAÚDE. \n- GOSTO DE ESCOLA SEM \n   DOUTRINAÇÃO. \n- GOSTO QUE O IMPOSTO \n   QUE EU PAGO SEJA \n   INVESTIDO NO MEU PAÍS.\n   (saneamento básico,rodovias, \n    metrôs, escolas, hospitais, \n    etc…)        \n   E NÃO INVESTIDO EM \n   OUTROS PAÍSES. \n- GOSTO DO MEU PAÍS!\n\nCONCLUSÃO DA CONVERSA:\n\n- Não precisa gostar do \n   Presidente!\n- Goste de Você mesmo, da \n   sua Família e da sua Pátria!",
         "0.9975"
        ],
        [
         "26",
         "AS MESMAS COISAS SUCEDEM AOS JUSTOS  E INJUSTOS.\nGOZEMOS OS BENS QUE DEUS NOS DÁ.\n\"Deveras revolvi todas estas coisas no meu coração, para claramente entender tudo isto: que os justos, e os sábios, e as suas obras, estão nas mãos de DEUS, e também que o homem não conhece nem o amor nem o ódio; tudo passa perante a sua face. \n2 Tudo sucede igualmente a todos; o mesmo sucede ao justo e ao ímpio: ao bom e ao puro, como ao impuro; assim ao que sacrifica como ao que não sacrifica: assim ao bom como ao pecador; ao que jura como ao que teme o juramento. \n3. Este é o mal que há entre tudo quanto se faz debaixo do sol: que a todos sucede o mesmo; que também o coração dos filhos dos homens está cheio de maldades; que há desvarios no seu coração, na sua vida, e que depois se vão aos mortos. \n4 Ora, para o que acompanha com todos os vivos há esperança (porque melhor é o cão vivo do que o leão morto).\n5 Porque os vivos sabem que hão de morrer, mas os mortos não sabem coisa nenhuma, nem tampouco eles têm jamais recompensa, mas a sua memória ficou entregue ao esquecimento. \n6 Até o seu amor, o seu ódio, e a sua inveja já pereceram, e já não têm parte alguma neste século, em coisa alguma do que se faz debaixo do sol. \n7 Vai pois come com alegria o teu pão e bebe com bom coração o teu vinho, pois já Deus se agrada das tuas obras.\"\nEclesiastes 9:1-7\n Senhor, que a Tua Presença  sempre nos acompanhe. \nQuando você cumpre princípios, Deus cumpre promessas!\nDeus abençoe, conduza e proteja, poderosamente, nosso Presidente Jair Messias Bolsonaro, sua Família, sua Equipe, as Forças Armadas e nossa Nação!\nAgradecemos a Deus por nos permitir registrar o pôr-do-sol e pela graça de viver mais um dia sob sua guarda e proteção, pelo poder que há no Nome de Jesus Cristo, AMÉM!\nDeus de infinita bondade e misericórdia seja eternamente louvado, glorificado e o Nome de Jesus Cristo exaltado, AMÉM!\n\"E conhecereis a verdade, e a verdade vos libertará.\"\nJoão 8:32\n\"Bem aventurada é a nação cujo Deus é o Senhor, e o povo que Ele escolheu para sua herança.\"\nSalmos 33:12",
         "0.9975"
        ],
        [
         "27",
         "Ao Criador,\n\nCriador de todas as Possibilidades,\n\nAmado Criador,\n\nCá entre nós, Eu e Tu , Tube Eu, Nós, em uma Trindade, em busca por Verdades que Nos aproxima,\n\nQuando estamos imbuídos da Vossa Razão, estamos na Verdade, Estamos em Vosso Espírito Santo, o que não mente, engana, Somos, algo único, de alguma forma, a própria Razão.\n\nAmado Criador,\n\nDo lado de cá, somos o fruto da Vossa Vontade, Vosso Pensamento, único universo Existente, a própria Existência, a Tua Vontade.\n\nAmado Criador,\n\nEstamos Cientes que , se for possível derrotar o Satanás, e se isso fosse feito por nós, dó lado de cá…,\n\nMuito provável que nos seria mandado um Godzilla.\n\nE se derrotássemos o Godzilla ,  muito provável que nos seria enviado o Batman,\n\nE depois um Super Man, e não teria fim…\n\nTu És algo Infinito.\n\nAmado Criador,\n\nEm Verdades, em Verdades das que Liberta e Salva, vos escrevemos,\n\nA Razão , o óbvio, nos diz que não podemos vencê-lo.\n\nAmado Criador,\n\nTambém estamos Cientes que Somos aprimorados  a cada batalha.\n\nO que esperar de uma Inteligência Infinita ?!\n\nO Amor, por óbvio.\n\nDoe o que for doer, Tu sabes o que fazes , sempre imbuído do Puro Amor.\n\nAmado Criador \n\nEm Verdades, em Verdades Vos escrevemos, \n\nRenunciarmos ao conhecimento do Bem e do Mal.\n\nO Fato é que, do lado de cá, como sociedade, nos perdemos.\n\nFomos por deveras Distraídos.\n\nComo já era esperado, do lado de cá, perdemos o jogo.\n\nAgora, agora\n\nSomente a Tua Verdade, Teu puro Amor nos importa.\n\nA Verdade que Nos aproxima, nos faz UNO\n\nAmador Criador,\n\nEm Verdades, em Verdades vos escrevemos para suplicar por Vosso Milagre, a melhor Técnica de todas, a que não ocupa espaço, a atemporal, a que supera a artificial,\n\nPerdoe a todos que foram enganados,\n\nEsteja no Coração de cada um deles,\n\nRestaure a  Vossa Igreja,\n\nAmado Criador,\n\nO Joio está ereto, faça a Colheita, doe o que for doer,\n\nSalve Nossos Irmãos 🙏\n\nSejamos uma Família em Vosso Reino 🙏",
         "0.9975"
        ],
        [
         "28",
         "Amados!\nOs olhos do mundo estavam voltados para o Brasil neste dia 2 de outubro de 2022. Não podia ser diferente, pois muita coisa se decide agora, dentro do rumo que a humanidade vai tomar.\nNão somente os olhos físicos estiveram olhando para as terras brasileiras, mas principalmente os olhos daqueles que não possuem forma física, ou seja, as entidades etéricas. \nA Terra e sua humanidade cumprem um Plano Divino estabelecido antes mesmo da criação deste Planeta. Apesar das invasões Arcontes que tentaram estabelecer as Trevas aqui, nada vai impedir a humanidade de seguir o seu propósito estabelecido.\nTudo o que foi transmitido até aqui, é apenas uma minúscula amostra do que é de fato. E o mais importante, continua dentro do que está determinado. Pequenos percalços podem ocorrer, porém, não mudarão o Plano Maior.\nSe os olhos da Luz estão atentos e vigilantes, também os olhos da não Luz se voltaram para a Pátria do Evangelho. Sabem eles que daqui sairá a Luz que banhará definitivamente o Planeta. \nUma última tentativa dos sombrios em impedir o final de um Ciclo dominado pelas trevas, foi colocada em prática agora. Uma grande invasão de seres extra físicos juntaram forças e se dirigiram ao Brasil nos últimos meses. Todas essas egrégoras ainda remanescentes na Crosta da Terra, aportaram no Astral brasileiro. \nO objetivo seria impedir a vitória da Luz nas Terras de Santa Cruz. Aproveitando-se dos encarnados que se alinham com tais vibrações, usaram de todas as ferramentas possíveis a fim de obter os resultados que precisavam. A Magia Negra ganhou força e escureceu de certa forma o manto azulado da Planeta Terra.\nMas o Plano Divino não pode ser mudado por nenhuma força que não seja daquele que o criou. Uma estratégia utilizada é até muito praticada por todos os encarnados. Quando se quer capturar os animais com facilidade, o melhor a fazer é reuní-los todos no curral. \nFoi o que aconteceu. Todos os remanescentes da não Luz que ainda não haviam sido removidos, agora estavam reunidos na atmosfera do Brasil. Houve de fato a remossão em uma só tacada, de todas as egrégoras  remanescentes. \nVocê não pode ver isso na forma física, mas na visão dos olhos da alma, tudo está muito claro. No seu devido tempo, as revelações chegarão aos olhos físicos também. O Grande Plano Divino está nos seus últimos lances. Nada mais será como antes, pois assim o Criador projetou.\nÉ preciso apenas que você entenda isso. Ninguém ganha e ninguém perde, pois o que resta no final, é o aprendizado de cada alma encarnada. Verdade é que cada alma está escolhendo a sua Linha de Tempo de acordo com a sua frequência. Será essa frequência que determinará aquele que seguirá para a Nova Terra e aquele que a deixará definitivamente.\nOs aconteceimentos servem apenas para mostrar aquilo que antes não se podia entender. A Limpeza está sendo feita no Plano físico, e está indo para o seu final. Lembrem das mensagens aqui trazidas desde 2016. A varredura começou pelo topo da pirâmide, e agora está na sua base. Muito pouco ainda resta a fazer. No Plano Astral tudo está plasmado e já aconteceu. Falta agora materializar-se na matéria a fim de que os olhos físicos possam ver. \nNão há nada que você possa fazer a não ser manter a tua vibração elevada. Hoje faça apenas isso. Confia e eleve a frequência, confiando no Plano Divino. Nada é por acaso, pois tudo tem sempre uma causa. Daqui a 4 semanas, exerça o teu poder de decisão. Ele te alinhará com a Luz ou te afastará dela, pois o que se está decindo agora no Brasil, é muito mais do que um simples resultado político. Mas até o dia 30 de outubro, a azul da Terra estará restaurado, pois todas as nuvens negras terão sido dissipadas. \nNão importa o que cada um interprete sobre esta reflexão, pois o que importa é a frequência em que cada um está e vai estar daqui em diante. Lembre-se de que o Universo não lê palavras e nem ações; ele leva em conta somente a frequência de cada um. Palavras e ações podem enganar pessoas, mas não enganam aquele que comanda o Plano Divino. \nEu sou Vital Frosi e minha missão é o esclarecimento! \nNamastê!",
         "0.9974"
        ],
        [
         "29",
         "UM AMIGO ME PERGUNTOU EM QUEM EU VOTEI, RESPONDI QUE FOI NO BOLSONARO. ELE ME PERGUNTOU SE EU GOSTO DELE (BOLSONARO), RESPONDI QUE NÃO, QUE GOSTO É DE MIM MESMO. \n\nGOSTO DE TER LIBERDADE. \n\nGOSTO DE EMITIR MINHA OPINIÃO. \n\nGOSTO DE SER CRISTÃO E TER MINHA FÉ. \n\nGOSTO DA MINHA FAMÍLIA E AMIGOS. \n\nGOSTO DA VIDA.\n\nGOSTO DE IMPRENSA LIVRE.\n\nGOSTO DE SEGURANÇA PÚBLICA, BANDIDO PRESO. \n\nGOSTO DE TER OPÇÃO DE ME DEFENDER.\n\nGOSTO DA BOA EDUCAÇÃO. \n\nGOSTO DE BOA SAÚDE. \n\nGOSTO DE ESCOLA SEM DOUTRINAÇÃO. \n\nGOSTO QUE O IMPOSTO QUE EU PAGO, SEJA INVESTIDO NO MEU PAÍS (saneamento básico, rodovias, metrôs, escolas, hospitais, etc…) E NÃO INVESTIDO EM OUTROS PAÍSES. \n\nGOSTO DO MEU PAÍS. 🇧🇷\n\n*CONCLUSÃO*:\nVC NÃO PRECISA GOSTAR DO PRESIDENTE BOLSONARO, GOSTE DE VOCÊ MESMO. 😉",
         "0.9974"
        ]
       ],
       "shape": {
        "columns": 2,
        "rows": 30
       }
      },
      "text/html": [
       "<div>\n",
       "<style scoped>\n",
       "    .dataframe tbody tr th:only-of-type {\n",
       "        vertical-align: middle;\n",
       "    }\n",
       "\n",
       "    .dataframe tbody tr th {\n",
       "        vertical-align: top;\n",
       "    }\n",
       "\n",
       "    .dataframe thead th {\n",
       "        text-align: right;\n",
       "    }\n",
       "</style>\n",
       "<table border=\"1\" class=\"dataframe\">\n",
       "  <thead>\n",
       "    <tr style=\"text-align: right;\">\n",
       "      <th></th>\n",
       "      <th>text_content_anonymous</th>\n",
       "      <th>score_sentiment</th>\n",
       "    </tr>\n",
       "  </thead>\n",
       "  <tbody>\n",
       "    <tr>\n",
       "      <th>0</th>\n",
       "      <td>Shemoneh Esreh – Amidá – A Grande Oração\\n\\n ,...</td>\n",
       "      <td>0.9992</td>\n",
       "    </tr>\n",
       "    <tr>\n",
       "      <th>1</th>\n",
       "      <td>MENTIROSA!!!\\n\\n\\nPensa direita, não é correto...</td>\n",
       "      <td>0.9990</td>\n",
       "    </tr>\n",
       "    <tr>\n",
       "      <th>2</th>\n",
       "      <td>Pensa direita, não é correto compartilhar um v...</td>\n",
       "      <td>0.9990</td>\n",
       "    </tr>\n",
       "    <tr>\n",
       "      <th>3</th>\n",
       "      <td>בונה ירושלים, Bo'ne Yetrushalayim - Benção da ...</td>\n",
       "      <td>0.9989</td>\n",
       "    </tr>\n",
       "    <tr>\n",
       "      <th>4</th>\n",
       "      <td>Os Sete Samurais \\n \\nQuando falamos sobre For...</td>\n",
       "      <td>0.9988</td>\n",
       "    </tr>\n",
       "    <tr>\n",
       "      <th>5</th>\n",
       "      <td>MANIFESTO À NAÇÃO BRASILEIRA\\n\\nEM DEFESA DO B...</td>\n",
       "      <td>0.9987</td>\n",
       "    </tr>\n",
       "    <tr>\n",
       "      <th>6</th>\n",
       "      <td>Olá ,\\n\\nUM AMIGO ME PERGUNTOU EM QUEM EU VOTE...</td>\n",
       "      <td>0.9986</td>\n",
       "    </tr>\n",
       "    <tr>\n",
       "      <th>7</th>\n",
       "      <td>BOM DIA A TODOS. ENTENDO QUE ESTAMOS VIVENDO D...</td>\n",
       "      <td>0.9986</td>\n",
       "    </tr>\n",
       "    <tr>\n",
       "      <th>8</th>\n",
       "      <td>Uma forma bem legal\\nPara quem ainda não sabe ...</td>\n",
       "      <td>0.9985</td>\n",
       "    </tr>\n",
       "    <tr>\n",
       "      <th>9</th>\n",
       "      <td>\\nA Viva Esperança\\n\\nDepois das saudações in...</td>\n",
       "      <td>0.9985</td>\n",
       "    </tr>\n",
       "    <tr>\n",
       "      <th>10</th>\n",
       "      <td>Yom Ha-Shishi (O SEXTO DIA)?\\n\\nE agora, sem m...</td>\n",
       "      <td>0.9984</td>\n",
       "    </tr>\n",
       "    <tr>\n",
       "      <th>11</th>\n",
       "      <td>VOCÊ USA A SUA SABEDORIA ESPIRITUAL?\\n\\nA prát...</td>\n",
       "      <td>0.9984</td>\n",
       "    </tr>\n",
       "    <tr>\n",
       "      <th>12</th>\n",
       "      <td>“Paz!”\\nObrigada amados meus, por mais esta An...</td>\n",
       "      <td>0.9984</td>\n",
       "    </tr>\n",
       "    <tr>\n",
       "      <th>13</th>\n",
       "      <td>*Cincoin community!* Junte-se ao futuro que ho...</td>\n",
       "      <td>0.9983</td>\n",
       "    </tr>\n",
       "    <tr>\n",
       "      <th>14</th>\n",
       "      <td>Salmo 136\\n\\nRendei graças ao Eterno porque el...</td>\n",
       "      <td>0.9983</td>\n",
       "    </tr>\n",
       "    <tr>\n",
       "      <th>15</th>\n",
       "      <td>Sobre Fxcapitalgrowth\\n  FCAPITAGRWTH.COM é de...</td>\n",
       "      <td>0.9981</td>\n",
       "    </tr>\n",
       "    <tr>\n",
       "      <th>16</th>\n",
       "      <td>Louve a Deus em Todos os Momentos\\n\\n\\n\\nImagi...</td>\n",
       "      <td>0.9978</td>\n",
       "    </tr>\n",
       "    <tr>\n",
       "      <th>17</th>\n",
       "      <td>⚠️🆙AS MARCAS DE UMA FÉ VITORIOSA\\n\\nEstá escri...</td>\n",
       "      <td>0.9978</td>\n",
       "    </tr>\n",
       "    <tr>\n",
       "      <th>18</th>\n",
       "      <td>Deus é bom o tempo todo\\n\\nCom que frequência ...</td>\n",
       "      <td>0.9978</td>\n",
       "    </tr>\n",
       "    <tr>\n",
       "      <th>19</th>\n",
       "      <td>🍞 ORANDO A PALAVRA DIARIAMENTE🍷\\n\\nDevocional ...</td>\n",
       "      <td>0.9978</td>\n",
       "    </tr>\n",
       "    <tr>\n",
       "      <th>20</th>\n",
       "      <td>A gente come feijão puro feijão puro feijão pu...</td>\n",
       "      <td>0.9978</td>\n",
       "    </tr>\n",
       "    <tr>\n",
       "      <th>21</th>\n",
       "      <td>PLANOS INICIAIS\\n\\n  SAQUES DE LUCROS SÃO DENT...</td>\n",
       "      <td>0.9978</td>\n",
       "    </tr>\n",
       "    <tr>\n",
       "      <th>22</th>\n",
       "      <td>2 Crônicas 6\\nSalomão fala ao povo\\n6 Então Sa...</td>\n",
       "      <td>0.9977</td>\n",
       "    </tr>\n",
       "    <tr>\n",
       "      <th>23</th>\n",
       "      <td>Vamos ver um texto aqui?\\n\\nQuero provar pra v...</td>\n",
       "      <td>0.9976</td>\n",
       "    </tr>\n",
       "    <tr>\n",
       "      <th>24</th>\n",
       "      <td>As cinco  virgens prudentes que receberam as c...</td>\n",
       "      <td>0.9976</td>\n",
       "    </tr>\n",
       "    <tr>\n",
       "      <th>25</th>\n",
       "      <td>GOSTAR?\\n\\nOlá,\\nUm amigo perguntou-me: \\nEm q...</td>\n",
       "      <td>0.9975</td>\n",
       "    </tr>\n",
       "    <tr>\n",
       "      <th>26</th>\n",
       "      <td>AS MESMAS COISAS SUCEDEM AOS JUSTOS  E INJUSTO...</td>\n",
       "      <td>0.9975</td>\n",
       "    </tr>\n",
       "    <tr>\n",
       "      <th>27</th>\n",
       "      <td>Ao Criador,\\n\\nCriador de todas as Possibilida...</td>\n",
       "      <td>0.9975</td>\n",
       "    </tr>\n",
       "    <tr>\n",
       "      <th>28</th>\n",
       "      <td>Amados!\\nOs olhos do mundo estavam voltados pa...</td>\n",
       "      <td>0.9974</td>\n",
       "    </tr>\n",
       "    <tr>\n",
       "      <th>29</th>\n",
       "      <td>UM AMIGO ME PERGUNTOU EM QUEM EU VOTEI, RESPON...</td>\n",
       "      <td>0.9974</td>\n",
       "    </tr>\n",
       "  </tbody>\n",
       "</table>\n",
       "</div>"
      ],
      "text/plain": [
       "                               text_content_anonymous  score_sentiment\n",
       "0   Shemoneh Esreh – Amidá – A Grande Oração\\n\\n ,...           0.9992\n",
       "1   MENTIROSA!!!\\n\\n\\nPensa direita, não é correto...           0.9990\n",
       "2   Pensa direita, não é correto compartilhar um v...           0.9990\n",
       "3   בונה ירושלים, Bo'ne Yetrushalayim - Benção da ...           0.9989\n",
       "4   Os Sete Samurais \\n \\nQuando falamos sobre For...           0.9988\n",
       "5   MANIFESTO À NAÇÃO BRASILEIRA\\n\\nEM DEFESA DO B...           0.9987\n",
       "6   Olá ,\\n\\nUM AMIGO ME PERGUNTOU EM QUEM EU VOTE...           0.9986\n",
       "7   BOM DIA A TODOS. ENTENDO QUE ESTAMOS VIVENDO D...           0.9986\n",
       "8   Uma forma bem legal\\nPara quem ainda não sabe ...           0.9985\n",
       "9    \\nA Viva Esperança\\n\\nDepois das saudações in...           0.9985\n",
       "10  Yom Ha-Shishi (O SEXTO DIA)?\\n\\nE agora, sem m...           0.9984\n",
       "11  VOCÊ USA A SUA SABEDORIA ESPIRITUAL?\\n\\nA prát...           0.9984\n",
       "12  “Paz!”\\nObrigada amados meus, por mais esta An...           0.9984\n",
       "13  *Cincoin community!* Junte-se ao futuro que ho...           0.9983\n",
       "14  Salmo 136\\n\\nRendei graças ao Eterno porque el...           0.9983\n",
       "15  Sobre Fxcapitalgrowth\\n  FCAPITAGRWTH.COM é de...           0.9981\n",
       "16  Louve a Deus em Todos os Momentos\\n\\n\\n\\nImagi...           0.9978\n",
       "17  ⚠️🆙AS MARCAS DE UMA FÉ VITORIOSA\\n\\nEstá escri...           0.9978\n",
       "18  Deus é bom o tempo todo\\n\\nCom que frequência ...           0.9978\n",
       "19  🍞 ORANDO A PALAVRA DIARIAMENTE🍷\\n\\nDevocional ...           0.9978\n",
       "20  A gente come feijão puro feijão puro feijão pu...           0.9978\n",
       "21  PLANOS INICIAIS\\n\\n  SAQUES DE LUCROS SÃO DENT...           0.9978\n",
       "22  2 Crônicas 6\\nSalomão fala ao povo\\n6 Então Sa...           0.9977\n",
       "23  Vamos ver um texto aqui?\\n\\nQuero provar pra v...           0.9976\n",
       "24  As cinco  virgens prudentes que receberam as c...           0.9976\n",
       "25  GOSTAR?\\n\\nOlá,\\nUm amigo perguntou-me: \\nEm q...           0.9975\n",
       "26  AS MESMAS COISAS SUCEDEM AOS JUSTOS  E INJUSTO...           0.9975\n",
       "27  Ao Criador,\\n\\nCriador de todas as Possibilida...           0.9975\n",
       "28  Amados!\\nOs olhos do mundo estavam voltados pa...           0.9974\n",
       "29  UM AMIGO ME PERGUNTOU EM QUEM EU VOTEI, RESPON...           0.9974"
      ]
     },
     "metadata": {},
     "output_type": "display_data"
    }
   ],
   "source": [
    "mensagens_mais_positivas = conn.execute(\"\"\"\n",
    "    WITH mensagens_unicas AS (\n",
    "    SELECT\n",
    "        text_content_anonymous,\n",
    "        score_sentiment,\n",
    "        ROW_NUMBER() OVER (PARTITION BY text_content_anonymous ORDER BY score_sentiment DESC) AS rn\n",
    "    FROM tabela_dados\n",
    "    WHERE\n",
    "        text_content_anonymous IS NOT NULL\n",
    "        AND TRIM(text_content_anonymous) <> ''\n",
    "        AND score_sentiment IS NOT NULL\n",
    "    )\n",
    "    SELECT\n",
    "        text_content_anonymous,\n",
    "        score_sentiment\n",
    "    FROM mensagens_unicas\n",
    "    WHERE rn = 1\n",
    "    ORDER BY score_sentiment DESC\n",
    "    LIMIT 30;\n",
    "\"\"\").fetchdf()\n",
    "\n",
    "display(mensagens_mais_positivas)"
   ]
  },
  {
   "cell_type": "markdown",
   "id": "d0736fd9",
   "metadata": {},
   "source": [
    "---"
   ]
  },
  {
   "cell_type": "markdown",
   "id": "2203fd7b",
   "metadata": {},
   "source": [
    "#### **23**. As 30 mensagens mais negativas (distintas)"
   ]
  },
  {
   "cell_type": "markdown",
   "id": "cad3e4ca",
   "metadata": {},
   "source": [
    "Filtrei as mensagens com `score_sentiment` válido e texto não vazio. Depois, removi duplicadas com base no conteúdo e ordenei da mais negativa para a menos negativa. Por fim, selecionei as 30 mensagens únicas com menor score de sentimento."
   ]
  },
  {
   "cell_type": "code",
   "execution_count": 36,
   "id": "c1c71b40",
   "metadata": {},
   "outputs": [
    {
     "data": {
      "application/vnd.jupyter.widget-view+json": {
       "model_id": "438c08e2ba69441d96fb0fedfec4315e",
       "version_major": 2,
       "version_minor": 0
      },
      "text/plain": [
       "FloatProgress(value=0.0, layout=Layout(width='auto'), style=ProgressStyle(bar_color='black'))"
      ]
     },
     "metadata": {},
     "output_type": "display_data"
    },
    {
     "data": {
      "application/vnd.microsoft.datawrangler.viewer.v0+json": {
       "columns": [
        {
         "name": "index",
         "rawType": "int64",
         "type": "integer"
        },
        {
         "name": "text_content_anonymous",
         "rawType": "object",
         "type": "string"
        },
        {
         "name": "score_sentiment",
         "rawType": "float64",
         "type": "float"
        }
       ],
       "conversionMethod": "pd.DataFrame",
       "ref": "ed9e7dd8-5a3d-483b-b253-3a74137d542f",
       "rows": [
        [
         "0",
         "CAPITÃOZINHO DE MERDA 💩\nCAPITÃOZINHO DE MERDA 💩\nCAPITÃOZINHO DE MERDA 💩\nCAPITÃOZINHO DE MERDA 💩\nCAPITÃOZINHO DE MERDA 💩\nCAPITÃOZINHO DE MERDA 💩\nCAPITÃOZINHO DE MERDA 💩\nCAPITÃOZINHO DE MERDA 💩\nCAPITÃOZINHO DE MERDA 💩\nCAPITÃOZINHO DE MERDA 💩\nCAPITÃOZINHO DE MERDA 💩\nCAPITÃOZINHO DE MERDA 💩\nCAPITÃOZINHO DE MERDA 💩\nCAPITÃOZINHO DE MERDA 💩\nCAPITÃOZINHO DE MERDA 💩\nCAPITÃOZINHO DE MERDA 💩\nCAPITÃOZINHO DE MERDA 💩\nCAPITÃOZINHO DE MERDA 💩\nCAPITÃOZINHO DE MERDA 💩\nCAPITÃOZINHO DE MERDA 💩\nCAPITÃOZINHO DE MERDA 💩\nCAPITÃOZINHO DE MERDA 💩\nCAPITÃOZINHO DE MERDA 💩\nCAPITÃOZINHO DE MERDA 💩\nCAPITÃOZINHO DE MERDA 💩\nCAPITÃOZINHO DE MERDA 💩\nCAPITÃOZINHO DE MERDA 💩\nCAPITÃOZINHO DE MERDA 💩\nCAPITÃOZINHO DE MERDA 💩\nCAPITÃOZINHO DE MERDA 💩\nCAPITÃOZINHO DE MERDA 💩\nCAPITÃOZINHO DE MERDA 💩\nCAPITÃOZINHO DE MERDA 💩\nCAPITÃOZINHO DE MERDA 💩\nCAPITÃOZINHO DE MERDA 💩\nCAPITÃOZINHO DE MERDA 💩\nCAPITÃOZINHO DE MERDA 💩\nCAPITÃOZINHO DE MERDA 💩\nCAPITÃOZINHO DE MERDA 💩\nCAPITÃOZINHO DE MERDA 💩\nCAPITÃOZINHO DE MERDA 💩\nCAPITÃOZINHO DE MERDA 💩\nCAPITÃOZINHO DE MERDA 💩\nCAPITÃOZINHO DE MERDA 💩\nCAPITÃOZINHO DE MERDA 💩\nCAPITÃOZINHO DE MERDA 💩\nCAPITÃOZINHO DE MERDA 💩\nCAPITÃOZINHO DE MERDA 💩\nCAPITÃOZINHO DE MERDA 💩\nCAPITÃOZINHO DE MERDA 💩\nCAPITÃOZINHO DE MERDA 💩\nCAPITÃOZINHO DE MERDA 💩\nCAPITÃOZINHO DE MERDA 💩\nCAPITÃOZINHO DE MERDA 💩\nCAPITÃOZINHO DE MERDA 💩\nCAPITÃOZINHO DE MERDA 💩\nCAPITÃOZINHO DE MERDA 💩\nCAPITÃOZINHO DE MERDA 💩\nCAPITÃOZINHO DE MERDA 💩\nCAPITÃOZINHO DE MERDA 💩\nCAPITÃOZINHO DE MERDA 💩\nCAPITÃOZINHO DE MERDA 💩\nCAPITÃOZINHO DE MERDA 💩\nCAPITÃOZINHO DE MERDA 💩\nCAPITÃOZINHO DE MERDA 💩\nCAPITÃOZINHO DE MERDA 💩\nCAPITÃOZINHO DE MERDA 💩\nCAPITÃOZINHO DE MERDA 💩\nCAPITÃOZINHO DE MERDA 💩\nCAPITÃOZINHO DE MERDA 💩\nCAPITÃOZINHO DE MERDA 💩\nCAPITÃOZINHO DE MERDA 💩\nCAPITÃOZINHO DE MERDA 💩\nCAPITÃOZINHO DE MERDA 💩\nCAPITÃOZINHO DE MERDA 💩\nCAPITÃOZINHO DE MERDA 💩\nCAPITÃOZINHO DE MERDA 💩\nCAPITÃOZINHO DE MERDA 💩\nCAPITÃOZINHO DE MERDA 💩\nCAPITÃOZINHO DE MERDA 💩\nCAPITÃOZINHO DE MERDA 💩\nCAPITÃOZINHO DE MERDA 💩\nCAPITÃOZINHO DE MERDA 💩\nCAPITÃOZINHO DE MERDA 💩\nCAPITÃOZINHO DE MERDA 💩\nCAPITÃOZINHO DE MERDA 💩\nCAPITÃOZINHO DE MERDA 💩\nCAPITÃOZINHO DE MERDA 💩\nCAPITÃOZINHO DE MERDA 💩\nCAPITÃOZINHO DE MERDA 💩\nCAPITÃOZINHO DE MERDA 💩\nCAPITÃOZINHO DE MERDA 💩\nCAPITÃOZINHO DE MERDA 💩\nCAPITÃOZINHO DE MERDA 💩\nCAPITÃOZINHO DE MERDA 💩\nCAPITÃOZINHO DE MERDA 💩\nCAPITÃOZINHO DE MERDA 💩\nCAPITÃOZINHO DE MERDA 💩\nCAPITÃOZINHO DE MERDA 💩\nCAPITÃOZINHO DE MERDA 💩\nCAPITÃOZINHO DE MERDA 💩\nCAPITÃOZINHO DE MERDA 💩\nCAPITÃOZINHO DE MERDA 💩\nCAPITÃOZINHO DE MERDA 💩\nCAPITÃOZINHO DE MERDA 💩\nCAPITÃOZINHO DE MERDA 💩\nCAPITÃOZINHO DE MERDA 💩\nCAPITÃOZINHO DE MERDA 💩\nCAPITÃOZINHO DE MERDA 💩\nCAPITÃOZINHO DE MERDA 💩\nCAPITÃOZINHO DE MERDA 💩\nCAPITÃOZINHO DE MERDA 💩\nCAPITÃOZINHO DE MERDA 💩\nCAPITÃOZINHO DE MERDA 💩\nCAPITÃOZINHO DE MERDA 💩\nCAPITÃOZINHO DE MERDA 💩\nCAPITÃOZINHO DE MERDA 💩\nCAPITÃOZINHO DE MERDA 💩\nCAPITÃOZINHO DE MERDA 💩\nCAPITÃOZINHO DE MERDA 💩\nCAPITÃOZINHO DE MERDA 💩\nCAPITÃOZINHO DE MERDA 💩\nCAPITÃOZINHO DE MERDA 💩\nCAPITÃOZINHO DE MERDA 💩\nCAPITÃOZINHO DE MERDA 💩\nCAPITÃOZINHO DE MERDA 💩\nCAPITÃOZINHO DE MERDA 💩\nCAPITÃOZINHO DE MERDA 💩\nCAPITÃOZINHO DE MERDA 💩\nCAPITÃOZINHO DE MERDA 💩\nCAPITÃOZINHO DE MERDA 💩\nCAPITÃOZINHO DE MERDA 💩\nCAPITÃOZINHO DE MERDA 💩\nCAPITÃOZINHO DE MERDA 💩\nCAPITÃOZINHO DE MERDA 💩\nCAPITÃOZINHO DE MERDA 💩\nCAPITÃOZINHO DE MERDA 💩\nCAPITÃOZINHO DE MERDA 💩\nCAPITÃOZINHO DE MERDA 💩\nCAPITÃOZINHO DE MERDA 💩\nCAPITÃOZINHO DE MERDA 💩\nCAPITÃOZINHO DE MERDA 💩\nCAPITÃOZINHO DE MERDA 💩\nCAPITÃOZINHO DE MERDA 💩\nCAPITÃOZINHO DE MERDA 💩\nCAPITÃOZINHO DE MERDA 💩\nCAPITÃOZINHO DE MERDA 💩\nCAPITÃOZINHO DE MERDA 💩\nCAPITÃOZINHO DE MERDA 💩\nCAPITÃOZINHO DE MERDA 💩\nCAPITÃOZINHO DE MERDA 💩\nCAPITÃOZINHO DE MERDA 💩",
         "-1.0"
        ],
        [
         "1",
         "ai ta na rua da um joinha 👍Quem ai ta na rua da um joinha 👍Quem ai ta na rua da um joinha 👍Quem ai ta na rua da um joinha 👍Quem ai ta na rua da um joinha 👍Quem ai ta na rua da um joinha 👍Quem ai ta na rua da um joinha 👍Quem ai ta na rua da um joinha 👍Quem ai ta na rua da um joinha 👍Quem ai ta na rua da um joinha 👍Quem ai ta na rua da um joinha 👍Quem ai ta na rua da um joinha 👍Quem ai ta na rua da um joinha 👍Quem ai ta na rua da um joinha 👍Quem ai ta na rua da um joinha 👍Quem ai ta na rua da um joinha 👍Quem ai ta na rua da um joinha 👍Quem ai ta na rua da um joinha 👍Quem ai ta na rua da um joinha 👍Quem ai ta na rua da um joinha 👍Quem ai ta na rua da um joinha 👍Quem ai ta na rua da um joinha 👍Quem ai ta na rua da um joinha 👍Quem ai ta na rua da um joinha 👍Quem ai ta na rua da um joinha 👍Quem ai ta na rua da um joinha 👍Quem ai ta na rua da um joinha 👍Quem ai ta na rua da um joinha 👍Quem ai ta na rua da um joinha 👍Quem ai ta na rua da um joinha 👍Quem ai ta na rua da um joinha 👍Quem ai ta na rua da um joinha 👍Quem ai ta na rua da um joinha 👍Quem ai ta na rua da um joinha 👍Quem ai ta na rua da um joinha 👍Quem ai ta na rua da um joinha 👍Quem ai ta na rua da um joinha 👍Quem ai ta na rua da um joinha 👍Quem ai ta na rua da um joinha 👍Quem ai ta na rua da um joinha 👍Quem ai ta na rua da um joinha 👍Quem ai ta na rua da um joinha 👍Quem ai ta na rua da um joinha 👍Quem ai ta na rua da um joinha 👍Quem ai ta na rua da um joinha 👍Quem ai ta na rua da um joinha 👍Quem ai ta na rua da um joinha 👍Quem ai ta na rua da um joinha 👍Quem ai ta na rua da um joinha 👍Quem ai ta na rua da um joinha 👍Quem ai ta na rua da um joinha 👍Quem ai ta na rua da um joinha 👍Quem ai ta na rua da um joinha 👍Quem ai ta na rua da um joinha 👍Quem ai ta na rua da um joinha 👍Quem ai ta na rua da um joinha 👍Quem ai ta na rua da um joinha 👍Quem ai ta na rua da um joinha 👍Quem ai ta na rua da um joinha 👍Quem ai ta na rua da um joinha 👍Quem ai ta na rua da um joinha 👍Quem ai ta na rua da um joinha 👍Quem ai ta na rua da um joinha 👍Quem ai ta na rua da um joinha 👍Quem ai ta na rua da um joinha 👍Quem ai ta na rua da um joinha 👍Quem ai ta na rua da um joinha 👍Quem ai ta na rua da um joinha 👍Quem ai ta na rua da um joinha 👍Quem ai ta na rua da um joinha 👍Quem ai ta na rua da um joinha 👍Quem ai ta na rua da um joinha 👍Quem ai ta na rua da um joinha 👍Quem ai ta na rua da um joinha 👍Quem ai ta na rua da um joinha 👍Quem ai ta na rua da um joinha 👍Quem ai ta na rua da um joinha 👍Quem ai ta na rua da um joinha 👍Quem ai ta na rua da um joinha 👍Quem ai ta na rua da um joinha 👍Quem ai ta na rua da um joinha 👍Quem ai ta na rua da um joinha 👍Quem ai ta na rua da um joinha 👍Quem ai ta na rua da um joinha 👍Quem ai ta na rua da um joinha 👍Quem ai ta na rua da um joinha 👍Quem ai ta na rua da um joinha 👍Quem ai ta na rua da um joinha 👍Quem ai ta na rua da um joinha 👍Quem ai ta na rua da um joinha 👍Quem ai ta na rua da um joinha 👍Quem ai ta na rua da um joinha 👍Quem ai ta na rua da um joinha 👍Quem ai ta na rua da um joinha 👍Quem ai ta na rua da um joinha 👍Quem ai ta na rua da um joinha 👍Quem ai ta na rua da um joinha 👍Quem ai ta na rua da um joinha 👍Quem ai ta na rua da um joinha 👍Quem ai ta na rua da um joinha 👍Quem ai ta na rua da um joinha 👍Quem ai ta na rua da um joinha 👍Quem ai ta na rua da um joinha 👍Quem ai ta na rua da um joinha 👍Quem ai ta na rua da um joinha 👍Quem ai ta na rua da um joinha 👍Quem ai ta na rua da um joinha 👍Quem ai ta na rua da um joinha 👍Quem ai ta na rua da um joinha 👍Quem ai ta na rua da um joinha 👍Quem ai ta na rua da um joinha 👍Quem ai ta na rua da um joinha 👍Quem ai ta na rua da um joinha 👍Quem ai ta na rua da um joinha 👍Quem ai ta na rua da um joinha 👍Quem ai ta na rua da um joinha 👍Quem ai ta na rua da um joinha 👍Quem ai ta na rua da um joinha 👍Quem ai ta na rua da um joinha 👍Quem ai ta na rua da um joinha 👍Quem ai ta na rua da um joinha 👍Quem ai ta na rua da um joinha 👍Quem ai ta na rua da um joinha 👍Quem ai ta na rua da um joinha 👍Quem ai",
         "-0.9999"
        ],
        [
         "2",
         "Intervenção é meu pau na tua mão\nIntervenção é meu pau na tua mão\nIntervenção é meu pau na tua mão\nIntervenção é meu pau na tua mão\nIntervenção é meu pau na tua mão\nIntervenção é meu pau na tua mão\nIntervenção é meu pau na tua mão\nIntervenção é meu pau na tua mão\nIntervenção é meu pau na tua mão\nIntervenção é meu pau na tua mão\nIntervenção é meu pau na tua mão\nIntervenção é meu pau na tua mão\nIntervenção é meu pau na tua mão\nIntervenção é meu pau na tua mão\nIntervenção é meu pau na tua mão\nIntervenção é meu pau na tua mão\nIntervenção é meu pau na tua mão\nIntervenção é meu pau na tua mão\nIntervenção é meu pau na tua mão\nIntervenção é meu pau na tua mão\nIntervenção é meu pau na tua mão\nIntervenção é meu pau na tua mão\nIntervenção é meu pau na tua mão\nIntervenção é meu pau na tua mão\nIntervenção é meu pau na tua mão\nIntervenção é meu pau na tua mão\nIntervenção é meu pau na tua mão\nIntervenção é meu pau na tua mão\nIntervenção é meu pau na tua mão\nIntervenção é meu pau na tua mão\nIntervenção é meu pau na tua mão\nIntervenção é meu pau na tua mão\nIntervenção é meu pau na tua mão\nIntervenção é meu pau na tua mão\nIntervenção é meu pau na tua mão\nIntervenção é meu pau na tua mão\nIntervenção é meu pau na tua mão\nIntervenção é meu pau na tua mão\nIntervenção é meu pau na tua mão\nIntervenção é meu pau na tua mão\nIntervenção é meu pau na tua mão\nIntervenção é meu pau na tua mão\nIntervenção é meu pau na tua mão\nIntervenção é meu pau na tua mão\nIntervenção é meu pau na tua mão\nIntervenção é meu pau na tua mão\nIntervenção é meu pau na tua mão\nIntervenção é meu pau na tua mão\nIntervenção é meu pau na tua mão\nIntervenção é meu pau na tua mão\nIntervenção é meu pau na tua mão\nIntervenção é meu pau na tua mão\nIntervenção é meu pau na tua mão\nIntervenção é meu pau na tua mão\nIntervenção é meu pau na tua mão\nIntervenção é meu pau na tua mão\nIntervenção é meu pau na tua mão\nIntervenção é meu pau na tua mão\nIntervenção é meu pau na tua mão\nIntervenção é meu pau na tua mão\nIntervenção é meu pau na tua mão\nIntervenção é meu pau na tua mão\nIntervenção é meu pau na tua mão\nIntervenção é meu pau na tua mão\nIntervenção é meu pau na tua mão\nIntervenção é meu pau na tua mão\nIntervenção é meu pau na tua mão\nIntervenção é meu pau na tua mão\nIntervenção é meu pau na tua mão\nIntervenção é meu pau na tua mão\nIntervenção é meu pau na tua mão\nIntervenção é meu pau na tua mão\nIntervenção é meu pau na tua mão\nIntervenção é meu pau na tua mão\nIntervenção é meu pau na tua mão\nIntervenção é meu pau na tua mão\nIntervenção é meu pau na tua mão\nIntervenção é meu pau na tua mão\nIntervenção é meu pau na tua mão\nIntervenção é meu pau na tua mão\nIntervenção é meu pau na tua mão\nIntervenção é meu pau na tua mão\nIntervenção é meu pau na tua mão\nIntervenção é meu pau na tua mão\nIntervenção é meu pau na tua mão\nIntervenção é meu pau na tua mão\nIntervenção é meu pau na tua mão\nIntervenção é meu pau na tua mão\nIntervenção é meu pau na tua mão\nIntervenção é meu pau na tua mão\nIntervenção é meu pau na tua mão\nIntervenção é meu pau na tua mão\nIntervenção é meu pau na tua mão\nIntervenção é meu pau na tua mão\nIntervenção é meu pau na tua mão\nIntervenção é meu pau na tua mão\nIntervenção é meu pau na tua mão\nIntervenção é meu pau na tua mão\nIntervenção é meu pau na tua mão\nIntervenção é meu pau na tua mão\nIntervenção é meu pau na tua mão\nIntervenção é meu pau na tua mão\nIntervenção é meu pau na tua mão\nIntervenção é meu pau na tua mão\nIntervenção é meu pau na tua mão\nIntervenção é meu pau na tua mão\nIntervenção é meu pau na tua mão\nIntervenção é meu pau na tua mão\nIntervenção é meu pau na tua mão\nIntervenção é meu pau na tua mão\nIntervenção é meu pau na tua mão\nIntervenção é meu pau na tua mão\nIntervenção é meu pau na tua mão\nIntervenção é meu pau na tua mão\nIntervenção é meu pau na tua mão\nIntervenção é meu pau na tua mão\nIntervenção é meu pau na tua mão\nIntervenção é meu pau na tua mão\nIntervenção é meu pau na tua mão\nIntervenção é meu pau na tua mão\nIntervenção é meu pau na tua mão\nIntervenção é meu pau na tua mão\nIntervenção é meu pau na tua mão\nIntervenção é meu pau na tua mão",
         "-0.9999"
        ],
        [
         "3",
         "ME CÚ NO PAU DO BOLSONARO \nME CÚ NO PAU DO BOLSONARO \nME CÚ NO PAU DO BOLSONARO \nME CÚ NO PAU DO BOLSONARO \nME CÚ NO PAU DO BOLSONARO \nME CÚ NO PAU DO BOLSONARO \nME CÚ NO PAU DO BOLSONARO \nME CÚ NO PAU DO BOLSONARO \nME CÚ NO PAU DO BOLSONARO \nME CÚ NO PAU DO BOLSONARO \nME CÚ NO PAU DO BOLSONARO \nME CÚ NO PAU DO BOLSONARO \nME CÚ NO PAU DO BOLSONARO \nME CÚ NO PAU DO BOLSONARO \nME CÚ NO PAU DO BOLSONARO \nME CÚ NO PAU DO BOLSONARO \nME CÚ NO PAU DO BOLSONARO \nME CÚ NO PAU DO BOLSONARO \nME CÚ NO PAU DO BOLSONARO \nME CÚ NO PAU DO BOLSONARO \nME CÚ NO PAU DO BOLSONARO \nME CÚ NO PAU DO BOLSONARO \nME CÚ NO PAU DO BOLSONARO \nME CÚ NO PAU DO BOLSONARO \nME CÚ NO PAU DO BOLSONARO \nME CÚ NO PAU DO BOLSONARO \nME CÚ NO PAU DO BOLSONARO \nME CÚ NO PAU DO BOLSONARO \nME CÚ NO PAU DO BOLSONARO \nME CÚ NO PAU DO BOLSONARO \nME CÚ NO PAU DO BOLSONARO \nME CÚ NO PAU DO BOLSONARO \nME CÚ NO PAU DO BOLSONARO \nME CÚ NO PAU DO BOLSONARO \nME CÚ NO PAU DO BOLSONARO \nME CÚ NO PAU DO BOLSONARO \nME CÚ NO PAU DO BOLSONARO \nME CÚ NO PAU DO BOLSONARO \nME CÚ NO PAU DO BOLSONARO \nME CÚ NO PAU DO BOLSONARO \nME CÚ NO PAU DO BOLSONARO \nME CÚ NO PAU DO BOLSONARO \nME CÚ NO PAU DO BOLSONARO \nME CÚ NO PAU DO BOLSONARO \nME CÚ NO PAU DO BOLSONARO \nME CÚ NO PAU DO BOLSONARO \nME CÚ NO PAU DO BOLSONARO \nME CÚ NO PAU DO BOLSONARO \nME CÚ NO PAU DO BOLSONARO \nME CÚ NO PAU DO BOLSONARO \nME CÚ NO PAU DO BOLSONARO \nME CÚ NO PAU DO BOLSONARO \nME CÚ NO PAU DO BOLSONARO \nME CÚ NO PAU DO BOLSONARO \nME CÚ NO PAU DO BOLSONARO \nME CÚ NO PAU DO BOLSONARO \nME CÚ NO PAU DO BOLSONARO \nME CÚ NO PAU DO BOLSONARO \nME CÚ NO PAU DO BOLSONARO \nME CÚ NO PAU DO BOLSONARO \nME CÚ NO PAU DO BOLSONARO \nME CÚ NO PAU DO BOLSONARO \nME CÚ NO PAU DO BOLSONARO \nME CÚ NO PAU DO BOLSONARO \nME CÚ NO PAU DO BOLSONARO \nME CÚ NO PAU DO BOLSONARO \nME CÚ NO PAU DO BOLSONARO \nME CÚ NO PAU DO BOLSONARO \nME CÚ NO PAU DO BOLSONARO \nME CÚ NO PAU DO BOLSONARO \nME CÚ NO PAU DO BOLSONARO \nME CÚ NO PAU DO BOLSONARO \nME CÚ NO PAU DO BOLSONARO \nME CÚ NO PAU DO BOLSONARO \nME CÚ NO PAU DO BOLSONARO \nME CÚ NO PAU DO BOLSONARO \nME CÚ NO PAU DO BOLSONARO \nME CÚ NO PAU DO BOLSONARO \nME CÚ NO PAU DO BOLSONARO \nME CÚ NO PAU DO BOLSONARO \nME CÚ NO PAU DO BOLSONARO \nME CÚ NO PAU DO BOLSONARO \nME CÚ NO PAU DO BOLSONARO \nME CÚ NO PAU DO BOLSONARO \nME CÚ NO PAU DO BOLSONARO \nME CÚ NO PAU DO BOLSONARO \nME CÚ NO PAU DO BOLSONARO \nME CÚ NO PAU DO BOLSONARO \nME CÚ NO PAU DO BOLSONARO \nME CÚ NO PAU DO BOLSONARO \nME CÚ NO PAU DO BOLSONARO \nME CÚ NO PAU DO BOLSONARO \nME CÚ NO PAU DO BOLSONARO \nME CÚ NO PAU DO BOLSONARO \nME CÚ NO PAU DO BOLSONARO \nME CÚ NO PAU DO BOLSONARO \nME CÚ NO PAU DO BOLSONARO \nME CÚ NO PAU DO BOLSONARO \nME CÚ NO PAU DO BOLSONARO \nME CÚ NO PAU DO BOLSONARO \nME CÚ NO PAU DO BOLSONARO \nME CÚ NO PAU DO BOLSONARO \nME CÚ NO PAU DO BOLSONARO \nME CÚ NO PAU DO BOLSONARO \nME CÚ NO PAU DO BOLSONARO \nME CÚ NO PAU DO BOLSONARO \nME CÚ NO PAU DO BOLSONARO \nME CÚ NO PAU DO BOLSONARO \nME CÚ NO PAU DO BOLSONARO \nME CÚ NO PAU DO BOLSONARO \nME CÚ NO PAU DO BOLSONARO \nME CÚ NO PAU DO BOLSONARO \nME CÚ NO PAU DO BOLSONARO \nME CÚ NO PAU DO BOLSONARO \nME CÚ NO PAU DO BOLSONARO \nME CÚ NO PAU DO BOLSONARO \nME CÚ NO PAU DO BOLSONARO \nME CÚ NO PAU DO BOLSONARO \nME CÚ NO PAU DO BOLSONARO \nME CÚ NO PAU DO BOLSONARO \nME CÚ NO PAU DO BOLSONARO \nME CÚ NO PAU DO BOLSONARO \nME CÚ NO PAU DO BOLSONARO \nME CÚ NO PAU DO BOLSONARO \nME CÚ NO PAU DO BOLSONARO \nME CÚ NO PAU DO BOLSONARO \nME CÚ NO PAU DO BOLSONARO \nME CÚ NO PAU DO BOLSONARO \nME CÚ NO PAU DO BOLSONARO \nME CÚ NO PAU DO BOLSONARO \nME CÚ NO PAU DO BOLSONARO \nME CÚ NO PAU DO BOLSONARO \nME CÚ NO PAU DO BOLSONARO \nME CÚ NO PAU DO BOLSONARO \nME CÚ NO PAU DO BOLSONARO \nME CÚ NO PAU DO BOLSONARO \nME CÚ NO PAU DO BOLSONARO \nME CÚ NO PAU DO BOLSONARO \nME CÚ NO PAU DO BOLSONARO \nME CÚ NO PAU DO BOLSONARO \nME CÚ NO PAU DO BOLSONARO \nME CÚ NO PAU DO BOLSONARO \nME CÚ NO PAU DO BOLSONARO \nME CÚ NO PAU DO BOLSONARO \nME CÚ NO PAU DO BOLSONARO \nME CÚ NO PAU DO BOLSONARO \nME CÚ NO PAU DO BOLSONARO \nME CÚ NO PAU DO BOLSONARO \nME CÚ NO PAU DO BOLSONARO \nME CÚ NO PAU DO BOLSONARO \nME CÚ NO PAU DO BOLSONARO \nME CÚ NO PAU DO",
         "-0.9999"
        ],
        [
         "4",
         "Gente, a Zambelli nos abandonou! Traiu a nossa nação! Fugiu para os EUA com medo de ser presa. E nós aqui nos sacrificando, aguentando sol, chuva, frio. Eu não sei vocês, mas depois dessa eu vou pra casa. Pra mim já chega!Gente, a Zambelli nos abandonou! Traiu a nossa nação! Fugiu para os EUA com medo de ser presa. E nós aqui nos sacrificando, aguentando sol, chuva, frio. Eu não sei vocês, mas depois dessa eu vou pra casa. Pra mim já chega!Gente, a Zambelli nos abandonou! Traiu a nossa nação! Fugiu para os EUA com medo de ser presa. E nós aqui nos sacrificando, aguentando sol, chuva, frio. Eu não sei vocês, mas depois dessa eu vou pra casa. Pra mim já chega!Gente, a Zambelli nos abandonou! Traiu a nossa nação! Fugiu para os EUA com medo de ser presa. E nós aqui nos sacrificando, aguentando sol, chuva, frio. Eu não sei vocês, mas depois dessa eu vou pra casa. Pra mim já chega!Gente, a Zambelli nos abandonou! Traiu a nossa nação! Fugiu para os EUA com medo de ser presa. E nós aqui nos sacrificando, aguentando sol, chuva, frio. Eu não sei vocês, mas depois dessa eu vou pra casa. Pra mim já chega!Gente, a Zambelli nos abandonou! Traiu a nossa nação! Fugiu para os EUA com medo de ser presa. E nós aqui nos sacrificando, aguentando sol, chuva, frio. Eu não sei vocês, mas depois dessa eu vou pra casa. Pra mim já chega!Gente, a Zambelli nos abandonou! Traiu a nossa nação! Fugiu para os EUA com medo de ser presa. E nós aqui nos sacrificando, aguentando sol, chuva, frio. Eu não sei vocês, mas depois dessa eu vou pra casa. Pra mim já chega!Gente, a Zambelli nos abandonou! Traiu a nossa nação! Fugiu para os EUA com medo de ser presa. E nós aqui nos sacrificando, aguentando sol, chuva, frio. Eu não sei vocês, mas depois dessa eu vou pra casa. Pra mim já chega!Gente, a Zambelli nos abandonou! Traiu a nossa nação! Fugiu para os EUA com medo de ser presa. E nós aqui nos sacrificando, aguentando sol, chuva, frio. Eu não sei vocês, mas depois dessa eu vou pra casa. Pra mim já chega!Gente, a Zambelli nos abandonou! Traiu a nossa nação! Fugiu para os EUA com medo de ser presa. E nós aqui nos sacrificando, aguentando sol, chuva, frio. Eu não sei vocês, mas depois dessa eu vou pra casa. Pra mim já chega!Gente, a Zambelli nos abandonou! Traiu a nossa nação! Fugiu para os EUA com medo de ser presa. E nós aqui nos sacrificando, aguentando sol, chuva, frio. Eu não sei vocês, mas depois dessa eu vou pra casa. Pra mim já chega!Gente, a Zambelli nos abandonou! Traiu a nossa nação! Fugiu para os EUA com medo de ser presa. E nós aqui nos sacrificando, aguentando sol, chuva, frio. Eu não sei vocês, mas depois dessa eu vou pra casa. Pra mim já chega!Gente, a Zambelli nos abandonou! Traiu a nossa nação! Fugiu para os EUA com medo de ser presa. E nós aqui nos sacrificando, aguentando sol, chuva, frio. Eu não sei vocês, mas depois dessa eu vou pra casa. Pra mim já chega!Gente, a Zambelli nos abandonou! Traiu a nossa nação! Fugiu para os EUA com medo de ser presa. E nós aqui nos sacrificando, aguentando sol, chuva, frio. Eu não sei vocês, mas depois dessa eu vou pra casa. Pra mim já chega!Gente, a Zambelli nos abandonou! Traiu a nossa nação! Fugiu para os EUA com medo de ser presa. E nós aqui nos sacrificando, aguentando sol, chuva, frio. Eu não sei vocês, mas depois dessa eu vou pra casa. Pra mim já chega!Gente, a Zambelli nos abandonou! Traiu a nossa nação! Fugiu para os EUA com medo de ser presa. E nós aqui nos sacrificando, aguentando sol, chuva, frio. Eu não sei vocês, mas depois dessa eu vou pra casa. Pra mim já chega!Gente, a Zambelli nos abandonou! Traiu a nossa nação! Fugiu para os EUA com medo de ser presa. E nós aqui nos sacrificando, aguentando sol, chuva, frio. Eu não sei vocês, mas depois dessa eu vou pra casa. Pra mim já chega!Gente, a Zambelli nos abandonou! Traiu a nossa nação! Fugiu para os EUA com medo de ser presa. E nós aqui nos sacrificando, aguentando sol, chuva, frio. Eu não sei vocês, mas depois dessa eu vou pra casa. Pra mim já chega!Gente, a Zambelli nos abandonou! Traiu a nossa nação! Fugiu para os EUA com medo de ser presa.",
         "-0.9999"
        ],
        [
         "5",
         "E nós aqui nos sacrificando, aguentando sol, chuva, frio. Eu não sei vocês, mas depois dessa eu vou pra casa. Pra mim já chega!Gente, a Zambelli nos abandonou! Traiu a nossa nação! Fugiu para os EUA com medo de ser presa. E nós aqui nos sacrificando, aguentando sol, chuva, frio. Eu não sei vocês, mas depois dessa eu vou pra casa. Pra mim já chega!Gente, a Zambelli nos abandonou! Traiu a nossa nação! Fugiu para os EUA com medo de ser presa. E nós aqui nos sacrificando, aguentando sol, chuva, frio. Eu não sei vocês, mas depois dessa eu vou pra casa. Pra mim já chega!Gente, a Zambelli nos abandonou! Traiu a nossa nação! Fugiu para os EUA com medo de ser presa. E nós aqui nos sacrificando, aguentando sol, chuva, frio. Eu não sei vocês, mas depois dessa eu vou pra casa. Pra mim já chega!Gente, a Zambelli nos abandonou! Traiu a nossa nação! Fugiu para os EUA com medo de ser presa. E nós aqui nos sacrificando, aguentando sol, chuva, frio. Eu não sei vocês, mas depois dessa eu vou pra casa. Pra mim já chega!Gente, a Zambelli nos abandonou! Traiu a nossa nação! Fugiu para os EUA com medo de ser presa. E nós aqui nos sacrificando, aguentando sol, chuva, frio. Eu não sei vocês, mas depois dessa eu vou pra casa. Pra mim já chega!Gente, a Zambelli nos abandonou! Traiu a nossa nação! Fugiu para os EUA com medo de ser presa. E nós aqui nos sacrificando, aguentando sol, chuva, frio. Eu não sei vocês, mas depois dessa eu vou pra casa. Pra mim já chega!Gente, a Zambelli nos abandonou! Traiu a nossa nação! Fugiu para os EUA com medo de ser presa. E nós aqui nos sacrificando, aguentando sol, chuva, frio. Eu não sei vocês, mas depois dessa eu vou pra casa. Pra mim já chega!Gente, a Zambelli nos abandonou! Traiu a nossa nação! Fugiu para os EUA com medo de ser presa. E nós aqui nos sacrificando, aguentando sol, chuva, frio. Eu não sei vocês, mas depois dessa eu vou pra casa. Pra mim já chega!Gente, a Zambelli nos abandonou! Traiu a nossa nação! Fugiu para os EUA com medo de ser presa. E nós aqui nos sacrificando, aguentando sol, chuva, frio. Eu não sei vocês, mas depois dessa eu vou pra casa. Pra mim já chega!Gente, a Zambelli nos abandonou! Traiu a nossa nação! Fugiu para os EUA com medo de ser presa. E nós aqui nos sacrificando, aguentando sol, chuva, frio. Eu não sei vocês, mas depois dessa eu vou pra casa. Pra mim já chega!Gente, a Zambelli nos abandonou! Traiu a nossa nação! Fugiu para os EUA com medo de ser presa. E nós aqui nos sacrificando, aguentando sol, chuva, frio. Eu não sei vocês, mas depois dessa eu vou pra casa. Pra mim já chega!Gente, a Zambelli nos abandonou! Traiu a nossa nação! Fugiu para os EUA com medo de ser presa. E nós aqui nos sacrificando, aguentando sol, chuva, frio. Eu não sei vocês, mas depois dessa eu vou pra casa. Pra mim já chega!Gente, a Zambelli nos abandonou! Traiu a nossa nação! Fugiu para os EUA com medo de ser presa. E nós aqui nos sacrificando, aguentando sol, chuva, frio. Eu não sei vocês, mas depois dessa eu vou pra casa. Pra mim já chega!Gente, a Zambelli nos abandonou! Traiu a nossa nação! Fugiu para os EUA com medo de ser presa. E nós aqui nos sacrificando, aguentando sol, chuva, frio. Eu não sei vocês, mas depois dessa eu vou pra casa. Pra mim já chega!Gente, a Zambelli nos abandonou! Traiu a nossa nação! Fugiu para os EUA com medo de ser presa. E nós aqui nos sacrificando, aguentando sol, chuva, frio. Eu não sei vocês, mas depois dessa eu vou pra casa. Pra mim já chega!Gente, a Zambelli nos abandonou! Traiu a nossa nação! Fugiu para os EUA com medo de ser presa. E nós aqui nos sacrificando, aguentando sol, chuva, frio. Eu não sei vocês, mas depois dessa eu vou pra casa. Pra mim já chega!Gente, a Zambelli nos abandonou! Traiu a nossa nação! Fugiu para os EUA com medo de ser presa. E nós aqui nos sacrificando, aguentando sol, chuva, frio. Eu não sei vocês, mas depois dessa eu vou pra casa. Pra mim já chega!Gente, a Zambelli nos abandonou! Traiu a nossa nação! Fugiu para os EUA com medo de ser presa. E nós aqui nos sacrificando, aguentando sol, chuva, frio.",
         "-0.9999"
        ],
        [
         "6",
         "Intervenção é meu pau na tua mão\nIntervenção é meu pau na tua mão\nIntervenção é meu pau na tua mão\nIntervenção é meu pau na tua mão\nIntervenção é meu pau na tua mão\nIntervenção é meu pau na tua mão\nIntervenção é meu pau na tua mão\nIntervenção é meu pau na tua mão\nIntervenção é meu pau na tua mão\nIntervenção é meu pau na tua mão\nIntervenção é meu pau na tua mão\nIntervenção é meu pau na tua mão\nIntervenção é meu pau na tua mão\nIntervenção é meu pau na tua mão\nIntervenção é meu pau na tua mão\nIntervenção é meu pau na tua mão\nIntervenção é meu pau na tua mão\nIntervenção é meu pau na tua mão\nIntervenção é meu pau na tua mão\nIntervenção é meu pau na tua mão\nIntervenção é meu pau na tua mão\nIntervenção é meu pau na tua mão\nIntervenção é meu pau na tua mão\nIntervenção é meu pau na tua mão\nIntervenção é meu pau na tua mão\nIntervenção é meu pau na tua mão\nIntervenção é meu pau na tua mão\nIntervenção é meu pau na tua mão\nIntervenção é meu pau na tua mão\nIntervenção é meu pau na tua mão\nIntervenção é meu pau na tua mão\nIntervenção é meu pau na tua mão\nIntervenção é meu pau na tua mão\nIntervenção é meu pau na tua mão\nIntervenção é meu pau na tua mão\nIntervenção é meu pau na tua mão\nIntervenção é meu pau na tua mão\nIntervenção é meu pau na tua mão\nIntervenção é meu pau na tua mão\nIntervenção é meu pau na tua mão\nIntervenção é meu pau na tua mão\nIntervenção é meu pau na tua mão\nIntervenção é meu pau na tua mão\nIntervenção é meu pau na tua mão\nIntervenção é meu pau na tua mão\nIntervenção é meu pau na tua mão\nIntervenção é meu pau na tua mão\nIntervenção é meu pau na tua mão\nIntervenção é meu pau na tua mão\nIntervenção é meu pau na tua mão\nIntervenção é meu pau na tua mão\nIntervenção é meu pau na tua mão\nIntervenção é meu pau na tua mão\nIntervenção é meu pau na tua mão\nIntervenção é meu pau na tua mão\nIntervenção é meu pau na tua mão\nIntervenção é meu pau na tua mão\nIntervenção é meu pau na tua mão\nIntervenção é meu pau na tua mão\nIntervenção é meu pau na tua mão\nIntervenção é meu pau na tua mão\nIntervenção é meu pau na tua mão\nIntervenção é meu pau na tua mão\nIntervenção é meu pau na tua mão\nIntervenção é meu pau na tua mão\nIntervenção é meu pau na tua mão\nIntervenção é meu pau na tua mão\nIntervenção é meu pau na tua mão\nIntervenção é meu pau na tua mão\nIntervenção é meu pau na tua mão\nIntervenção é meu pau na tua mão\nIntervenção é meu pau na tua mão\nIntervenção é meu pau na tua mão\nIntervenção é meu pau na tua mão\nIntervenção é meu pau na tua mão\nIntervenção é meu pau na tua mão\nIntervenção é meu pau na tua mão\nIntervenção é meu pau na tua mão\nIntervenção é meu pau na tua mão\nIntervenção é meu pau na tua mão\nIntervenção é meu pau na tua mão\nIntervenção é meu pau na tua mão\nIntervenção é meu pau na tua mão\nIntervenção é meu pau na tua mão\nIntervenção é meu pau na tua mão\nIntervenção é meu pau na tua mão\nIntervenção é meu pau na tua mão\nIntervenção é meu pau na tua mão\nIntervenção é meu pau na tua mão\nIntervenção é meu pau na tua mão\nIntervenção é meu pau na tua mão\nIntervenção é meu pau na tua mão\nIntervenção é meu pau na tua mão\nIntervenção é meu pau na tua mão\nIntervenção é meu pau na tua mão\nIntervenção é meu pau na tua mão\nIntervenção é meu pau na tua mão\nIntervenção é meu pau na tua mão\nIntervenção é meu pau na tua mão\nIntervenção é meu pau na tua mão\nIntervenção é meu pau na tua mão\nIntervenção é meu pau na tua mão\nIntervenção é meu pau na tua mão\nIntervenção é meu pau na tua mão\nIntervenção é meu pau na tua mão\nIntervenção é meu pau na tua mão\nIntervenção é meu pau na tua mão\nIntervenção é meu pau na tua mão\nIntervenção é meu pau na tua mão\nIntervenção é meu pau na tua mão\nIntervenção é meu pau na tua mão\nIntervenção é meu pau na tua mão\nIntervenção é meu pau na tua mão\nIntervenção é meu pau na tua mão\nIntervenção é meu pau na tua mão",
         "-0.9999"
        ],
        [
         "7",
         "fraude fraude fraude fraude fraude fraude fraude fraude fraude fraude fraude fraude fraude fraude fraude fraude fraude fraude fraude fraude fraude fraude fraude fraude fraude fraude fraude fraude fraude fraude fraude fraude fraude fraude fraude fraude fraude fraude fraude fraude fraude fraude fraude fraude fraude fraude fraude fraude fraude fraude fraude fraude fraude fraude fraude fraude fraude fraude fraude fraude fraude fraude fraude fraude fraude fraude fraude fraude fraude fraude fraude fraude fraude fraude fraude fraude fraude fraude fraude fraude fraude fraude fraude fraude fraude fraude fraude fraude fraude fraude fraude fraude fraude fraude fraude fraude fraude fraude fraude fraude fraude fraude fraude fraude fraude",
         "-0.9999"
        ],
        [
         "8",
         "ai ta na rua da um joinha 👍Quem ai ta na rua da um joinha 👍Quem ai ta na rua da um joinha 👍Quem ai ta na rua da um joinha 👍Quem ai ta na rua da um joinha 👍Quem ai ta na rua da um joinha 👍Quem ai ta na rua da um joinha 👍Quem ai ta na rua da um joinha 👍Quem ai ta na rua da um joinha 👍Quem ai ta na rua da um joinha 👍Quem ai ta na rua da um joinha 👍Quem ai ta na rua da um joinha 👍Quem ai ta na rua da um joinha 👍Quem ai ta na rua da um joinha 👍Quem ai ta na rua da um joinha 👍Quem ai ta na rua da um joinha 👍Quem ai ta na rua da um joinha 👍Quem ai ta na rua da um joinha 👍Quem ai ta na rua da um joinha 👍Quem ai ta na rua da um joinha 👍Quem ai ta na rua da um joinha 👍Quem ai ta na rua da um joinha 👍Quem ai ta na rua da um joinha 👍Quem ai ta na rua da um joinha 👍Quem ai ta na rua da um joinha 👍Quem ai ta na rua da um joinha 👍Quem ai ta na rua da um joinha 👍Quem ai ta na rua da um joinha 👍Quem ai ta na rua da um joinha 👍Quem ai ta na rua da um joinha 👍Quem ai ta na rua da um joinha 👍Quem ai ta na rua da um joinha 👍Quem ai ta na rua da um joinha 👍Quem ai ta na rua da um joinha 👍Quem ai ta na rua da um joinha 👍Quem ai ta na rua da um joinha 👍Quem ai ta na rua da um joinha 👍Quem ai ta na rua da um joinha 👍Quem ai ta na rua da um joinha 👍Quem ai ta na rua da um joinha 👍Quem ai ta na rua da um joinha 👍Quem ai ta na rua da um joinha 👍Quem ai ta na rua da um joinha 👍Quem ai ta na rua da um joinha 👍Quem ai ta na rua da um joinha 👍Quem ai ta na rua da um joinha 👍Quem ai ta na rua da um joinha 👍Quem ai ta na rua da um joinha 👍Quem ai ta na rua da um joinha 👍Quem ai ta na rua da um joinha 👍Quem ai ta na rua da um joinha 👍Quem ai ta na rua da um joinha 👍Quem ai ta na rua da um joinha 👍Quem ai ta na rua da um joinha 👍Quem ai ta na rua da um joinha 👍Quem ai ta na rua da um joinha 👍Quem ai ta na rua da um joinha 👍Quem ai ta na rua da um joinha 👍Quem ai ta na rua da um joinha 👍Quem ai ta na rua da um joinha 👍Quem ai ta na rua da um joinha 👍Quem ai ta na rua da um joinha 👍Quem ai ta na rua da um joinha 👍Quem ai ta na rua da um joinha 👍Quem ai ta na rua da um joinha 👍Quem ai ta na rua da um joinha 👍Quem ai ta na rua da um joinha 👍Quem ai ta na rua da um joinha 👍Quem ai ta na rua da um joinha 👍Quem ai ta na rua da um joinha 👍Quem ai ta na rua da um joinha 👍Quem ai ta na rua da um joinha 👍Quem ai ta na rua da um joinha 👍Quem ai ta na rua da um joinha 👍Quem ai ta na rua da um joinha 👍Quem ai ta na rua da um joinha 👍Quem ai ta na rua da um joinha 👍Quem ai ta na rua da um joinha 👍Quem ai ta na rua da um joinha 👍Quem ai ta na rua da um joinha 👍Quem ai ta na rua da um joinha 👍Quem ai ta na rua da um joinha 👍Quem ai ta na rua da um joinha 👍Quem ai ta na rua da um joinha 👍Quem ai ta na rua da um joinha 👍Quem ai ta na rua da um joinha 👍Quem ai ta na rua da um joinha 👍Quem ai ta na rua da um joinha 👍Quem ai ta na rua da um joinha 👍Quem ai ta na rua da um joinha 👍Quem ai ta na rua da um joinha 👍Quem ai ta na rua da um joinha 👍Quem ai ta na rua da um joinha 👍Quem ai ta na rua da um joinha 👍Quem ai ta na rua da um joinha 👍Quem ai ta na rua da um joinha 👍Quem ai ta na rua da um joinha 👍Quem ai ta na rua da um joinha 👍Quem ai ta na rua da um joinha 👍Quem ai ta na rua da um joinha 👍",
         "-0.9998"
        ],
        [
         "9",
         "na rua da um joinha 👍Quem ai ta na rua da um joinha 👍Quem ai ta na rua da um joinha 👍Quem ai ta na rua da um joinha 👍Quem ai ta na rua da um joinha 👍Quem ai ta na rua da um joinha 👍Quem ai ta na rua da um joinha 👍Quem ai ta na rua da um joinha 👍Quem ai ta na rua da um joinha 👍Quem ai ta na rua da um joinha 👍Quem ai ta na rua da um joinha 👍Quem ai ta na rua da um joinha 👍Quem ai ta na rua da um joinha 👍Quem ai ta na rua da um joinha 👍Quem ai ta na rua da um joinha 👍Quem ai ta na rua da um joinha 👍Quem ai ta na rua da um joinha 👍Quem ai ta na rua da um joinha 👍Quem ai ta na rua da um joinha 👍Quem ai ta na rua da um joinha 👍Quem ai ta na rua da um joinha 👍Quem ai ta na rua da um joinha 👍Quem ai ta na rua da um joinha 👍Quem ai ta na rua da um joinha 👍Quem ai ta na rua da um joinha 👍Quem ai ta na rua da um joinha 👍Quem ai ta na rua da um joinha 👍Quem ai ta na rua da um joinha 👍Quem ai ta na rua da um joinha 👍Quem ai ta na rua da um joinha 👍Quem ai ta na rua da um joinha 👍Quem ai ta na rua da um joinha 👍Quem ai ta na rua da um joinha 👍Quem ai ta na rua da um joinha 👍Quem ai ta na rua da um joinha 👍Quem ai ta na rua da um joinha 👍Quem ai ta na rua da um joinha 👍Quem ai ta na rua da um joinha 👍Quem ai ta na rua da um joinha 👍Quem ai ta na rua da um joinha 👍Quem ai ta na rua da um joinha 👍Quem ai ta na rua da um joinha 👍Quem ai ta na rua da um joinha 👍Quem ai ta na rua da um joinha 👍Quem ai ta na rua da um joinha 👍Quem ai ta na rua da um joinha 👍Quem ai ta na rua da um joinha 👍Quem ai ta na rua da um joinha 👍Quem ai ta na rua da um joinha 👍Quem ai ta na rua da um joinha 👍Quem ai ta na rua da um joinha 👍Quem ai ta na rua da um joinha 👍Quem ai ta na rua da um joinha 👍Quem ai ta na rua da um joinha 👍Quem ai ta na rua da um joinha 👍Quem ai ta na rua da um joinha 👍Quem ai ta na rua da um joinha 👍Quem ai ta na rua da um joinha 👍Quem ai ta na rua da um joinha 👍Quem ai ta na rua da um joinha 👍Quem ai ta na rua da um joinha 👍Quem ai ta na rua da um joinha 👍Quem ai ta na rua da um joinha 👍Quem ai ta na rua da um joinha 👍Quem ai ta na rua da um joinha 👍Quem ai ta na rua da um joinha 👍Quem ai ta na rua da um joinha 👍Quem ai ta na rua da um joinha 👍Quem ai ta na rua da um joinha 👍Quem ai ta na rua da um joinha 👍Quem ai ta na rua da um joinha 👍Quem ai ta na rua da um joinha 👍Quem ai ta na rua da um joinha 👍Quem ai ta na rua da um joinha 👍Quem ai ta na rua da um joinha 👍a rua da um joinha 👍Quem ai ta na rua da um joinha 👍Quem ai ta na rua da um joinha 👍Quem ai ta na rua da um joinha 👍Quem ai ta na rua da um joinha 👍Quem ai ta na rua da um joinha 👍Quem ai ta na rua da um joinha 👍Quem ai ta na rua da um joinha 👍Quem ai ta na rua da um joinha 👍Quem ai ta na rua da um joinha 👍Quem ai ta na rua da um joinha 👍Quem ai ta na rua da um joinha 👍Quem ai ta na rua da um joinha 👍Quem ai ta na rua da um joinha 👍Quem ai ta na rua da um joinha 👍Quem ai ta na rua da um joinha 👍Quem ai ta na rua da um joinha 👍Quem ai ta na rua da um joinha 👍Quem ai ta na rua da um joinha 👍Quem ai ta na rua da um joinha 👍Quem ai ta na rua da um joinha 👍Quem ai ta na rua da um joinha 👍Quem ai ta na rua da um joinha 👍Quem ai ta na rua da um joinha 👍Quem ai ta na rua da um joinha 👍Quem ai ta na rua da um joinha 👍Quem ai ta na rua da um joinha 👍Quem ai ta na rua da um joinha 👍Quem ai ta na rua da um joinha 👍Quem ai ta na rua da um joinha 👍Quem ai ta na rua da um joinha 👍Quem ai ta na rua da um joinha 👍Quem ai ta na rua da um joinha 👍Quem ai ta na rua da um joinha 👍Quem ai ta na rua da um joinha 👍Quem ai ta na rua da um joinha 👍Quem ai ta na rua da um joinha 👍Quem ai ta na rua da um joinha 👍Quem ai ta na rua da um joinha 👍Quem ai ta na rua da um joinha 👍Quem ai ta na rua da um joinha 👍Quem ai ta na rua da um joinha 👍Quem ai ta na rua da um joinha 👍Quem ai ta na rua da um joinha 👍Quem ai ta na rua da um joinha 👍Quem ai ta na rua da um joinha 👍Quem ai ta na rua da um joinha 👍Quem ai ta na rua da um joinha 👍Quem ai ta na rua da um joinha 👍Quem ai ta na rua da um joi",
         "-0.9998"
        ],
        [
         "10",
         "inha 👍Quem ai ta na rua da um joinha 👍Quem ai ta na rua da um joinha 👍Quem ai ta na rua da um joinha 👍Quem ai ta na rua da um joinha 👍Quem ai ta na rua da um joinha 👍Quem ai ta na rua da um joinha 👍Quem ai ta na rua da um joinha 👍Quem ai ta na rua da um joinha 👍Quem ai ta na rua da um joinha 👍Quem ai ta na rua da um joinha 👍Quem ai ta na rua da um joinha 👍Quem ai ta na rua da um joinha 👍Quem ai ta na rua da um joinha 👍Quem ai ta na rua da um joinha 👍Quem ai ta na rua da um joinha 👍Quem ai ta na rua da um joinha 👍Quem ai ta na rua da um joinha 👍Quem ai ta na rua da um joinha 👍Quem ai ta na rua da um joinha 👍Quem ai ta na rua da um joinha 👍Quem ai ta na rua da um joinha 👍Quem ai ta na rua da um joinha 👍Quem ai ta na rua da um joinha 👍Quem ai ta na rua da um joinha 👍Quem ai ta na rua da um joinha 👍a rua da um joinha 👍Quem ai ta na rua da um joinha 👍Quem ai ta na rua da um joinha 👍Quem ai ta na rua da um joinha 👍Quem ai ta na rua da um joinha 👍Quem ai ta na rua da um joinha 👍Quem ai ta na rua da um joinha 👍Quem ai ta na rua da um joinha 👍Quem ai ta na rua da um joinha 👍Quem ai ta na rua da um joinha 👍Quem ai ta na rua da um joinha 👍Quem ai ta na rua da um joinha 👍Quem ai ta na rua da um joinha 👍Quem ai ta na rua da um joinha 👍Quem ai ta na rua da um joinha 👍Quem ai ta na rua da um joinha 👍Quem ai ta na rua da um joinha 👍Quem ai ta na rua da um joinha 👍Quem ai ta na rua da um joinha 👍Quem ai ta na rua da um joinha 👍Quem ai ta na rua da um joinha 👍Quem ai ta na rua da um joinha 👍Quem ai ta na rua da um joinha 👍Quem ai ta na rua da um joinha 👍Quem ai ta na rua da um joinha 👍Quem ai ta na rua da um joinha 👍Quem ai ta na rua da um joinha 👍Quem ai ta na rua da um joinha 👍Quem ai ta na rua da um joinha 👍Quem ai ta na rua da um joinha 👍Quem ai ta na rua da um joinha 👍Quem ai ta na rua da um joinha 👍Quem ai ta na rua da um joinha 👍Quem ai ta na rua da um joinha 👍Quem ai ta na rua da um joinha 👍Quem ai ta na rua da um joinha 👍Quem ai ta na rua da um joinha 👍Quem ai ta na rua da um joinha 👍Quem ai ta na rua da um joinha 👍Quem ai ta na rua da um joinha 👍Quem ai ta na rua da um joinha 👍Quem ai ta na rua da um joinha 👍Quem ai ta na rua da um joinha 👍Quem ai ta na rua da um joinha 👍Quem ai ta na rua da um joinha 👍Quem ai ta na rua da um joinha 👍Quem ai ta na rua da um joinha 👍Quem ai ta na rua da um joinha 👍Quem ai ta na rua da um joinha 👍Quem ai ta na rua da um joinha 👍Quem ai ta na rua da um joinha 👍Quem ai ta na rua da um joinha 👍Quem ai ta na rua da um joinha 👍Quem ai ta na rua da um joinha 👍Quem ai ta na rua da um joinha 👍Quem ai ta na rua da um joinha 👍Quem ai ta na rua da um joinha 👍Quem ai ta na rua da um joinha 👍Quem ai ta na rua da um joinha 👍Quem ai ta na rua da um joinha 👍Quem ai ta na rua da um joinha 👍Quem ai ta na rua da um joinha 👍Quem ai ta na rua da um joinha 👍Quem ai ta na rua da um joinha 👍Quem ai ta na rua da um joinha 👍Quem ai ta na rua da um joinha 👍Quem ai ta na rua da um joinha 👍Quem ai ta na rua da um joinha 👍Quem ai ta na rua da um joinha 👍Quem ai ta na rua da um joinha 👍Quem ai ta na rua da um joinha 👍Quem ai ta na rua da um joinha 👍Quem ai ta na rua da um joinha 👍Quem ai ta na rua da um joinha 👍Quem ai ta na rua da um joinha 👍Quem ai ta na rua da um joinha 👍Quem ai ta na rua da um joinha 👍Quem ai ta na rua da um joinha 👍Quem ai ta na rua da um joinha 👍Quem ai ta na rua da um joinha 👍Quem ai ta na rua da um joinha 👍Quem ai ta na rua da um joinha 👍Quem ai ta na rua da um joinha 👍Quem ai ta na rua da um joinha 👍Quem ai ta na rua da um joinha 👍Quem ai ta na rua da um joinha 👍Quem ai ta na rua da um joinha 👍Quem ai ta na rua da um joinha 👍Quem ai ta na rua da um joinha 👍Quem ai ta na rua da um joinha 👍Quem ai ta na rua da um joinha 👍Quem ai ta na rua da um joinha 👍Quem ai ta na rua da um joinha 👍Quem ai ta na rua da um joinha 👍Quem ai ta na rua da um joinha 👍Quem ai ta na rua da um joinha 👍Quem ai ta na rua da um joinha 👍Quem ai ta na rua da um joinha 👍Quem ai ta na rua da um joinha 👍Quem ai t",
         "-0.9998"
        ],
        [
         "11",
         "na rua da um joinha 👍Quem ai ta na rua da um joinha 👍Quem ai ta na rua da um joinha 👍Quem ai ta na rua da um joinha 👍Quem ai ta na rua da um joinha 👍Quem ai ta na rua da um joinha 👍Quem ai ta na rua da um joinha 👍Quem ai ta na rua da um joinha 👍Quem ai ta na rua da um joinha 👍Quem ai ta na rua da um joinha 👍Quem ai ta na rua da um joinha 👍Quem ai ta na rua da um joinha 👍Quem ai ta na rua da um joinha 👍Quem ai ta na rua da um joinha 👍Quem ai ta na rua da um joinha 👍Quem ai ta na rua da um joinha 👍Quem ai ta na rua da um joinha 👍Quem ai ta na rua da um joinha 👍Quem ai ta na rua da um joinha 👍Quem ai ta na rua da um joinha 👍Quem ai ta na rua da um joinha 👍Quem ai ta na rua da um joinha 👍Quem ai ta na rua da um joinha 👍Quem ai ta na rua da um joinha 👍Quem ai ta na rua da um joinha 👍Quem ai ta na rua da um joinha 👍Quem ai ta na rua da um joinha 👍Quem ai ta na rua da um joinha 👍Quem ai ta na rua da um joinha 👍Quem ai ta na rua da um joinha 👍Quem ai ta na rua da um joinha 👍Quem ai ta na rua da um joinha 👍Quem ai ta na rua da um joinha 👍Quem ai ta na rua da um joinha 👍Quem ai ta na rua da um joinha 👍Quem ai ta na rua da um joinha 👍Quem ai ta na rua da um joinha 👍Quem ai ta na rua da um joinha 👍Quem ai ta na rua da um joinha 👍Quem ai ta na rua da um joinha 👍Quem ai ta na rua da um joinha 👍Quem ai ta na rua da um joinha 👍a rua da um joinha 👍Quem ai ta na rua da um joinha 👍Quem ai ta na rua da um joinha 👍Quem ai ta na rua da um joinha 👍Quem ai ta na rua da um joinha 👍Quem ai ta na rua da um joinha 👍Quem ai ta na rua da um joinha 👍Quem ai ta na rua da um joinha 👍Quem ai ta na rua da um joinha 👍Quem ai ta na rua da um joinha 👍Quem ai ta na rua da um joinha 👍Quem ai ta na rua da um joinha 👍Quem ai ta na rua da um joinha 👍Quem ai ta na rua da um joinha 👍Quem ai ta na rua da um joinha 👍Quem ai ta na rua da um joinha 👍Quem ai ta na rua da um joinha 👍Quem ai ta na rua da um joinha 👍Quem ai ta na rua da um joinha 👍Quem ai ta na rua da um joinha 👍Quem ai ta na rua da um joinha 👍Quem ai ta na rua da um joinha 👍Quem ai ta na rua da um joinha 👍Quem ai ta na rua da um joinha 👍Quem ai ta na rua da um joinha 👍Quem ai ta na rua da um joinha 👍Quem ai ta na rua da um joinha 👍Quem ai ta na rua da um joinha 👍Quem ai ta na rua da um joinha 👍Quem ai ta na rua da um joinha 👍Quem ai ta na rua da um joinha 👍Quem ai ta na rua da um joinha 👍Quem ai ta na rua da um joinha 👍Quem ai ta na rua da um joinha 👍Quem ai ta na rua da um joinha 👍Quem ai ta na rua da um joinha 👍Quem ai ta na rua da um joinha 👍Quem ai ta na rua da um joinha 👍Quem ai ta na rua da um joinha 👍Quem ai ta na rua da um joinha 👍Quem ai ta na rua da um joinha 👍Quem ai ta na rua da um joinha 👍Quem ai ta na rua da um joinha 👍Quem ai ta na rua da um joinha 👍Quem ai ta na rua da um joinha 👍Quem ai ta na rua da um joinha 👍Quem ai ta na rua da um joinha 👍Quem ai ta na rua da um joinha 👍Quem ai ta na rua da um joinha 👍Quem ai ta na rua da um joinha 👍Quem ai ta na rua da um joinha 👍Quem ai ta na rua da um joinha 👍Quem ai ta na rua da um joinha 👍Quem ai ta na rua da um joinha 👍Quem ai ta na rua da um joinha 👍Quem ai ta na rua da um joinha 👍Quem ai ta na rua da um joinha 👍Quem ai ta na rua da um joinha 👍Quem ai ta na rua da um joinha 👍Quem ai ta na rua da um joinha 👍Quem ai ta na rua da um joinha 👍Quem ai ta na rua da um joinha 👍Quem ai ta na rua da um joinha 👍Quem ai ta na rua da um joinha 👍Quem ai ta na rua da um joinha 👍Quem ai ta na rua da um joinha 👍Quem ai ta na rua da um joinha 👍Quem ai ta na rua da um joinha 👍Quem ai ta na rua da um joinha 👍Quem ai ta na rua da um joinha 👍Quem ai ta na rua da um joinha 👍Quem ai ta na rua da um joinha 👍Quem ai ta na rua da um joinha 👍Quem ai ta na rua da um joinha 👍Quem ai ta na rua da um joinha 👍Quem ai ta na rua da um joinha 👍Quem ai ta na rua da um joinha 👍Quem ai ta na rua da um joinha 👍Quem ai ta na rua da um joinha 👍Quem ai ta na rua da um joinha 👍Quem ai ta na rua da um joinha 👍Quem ai ta na rua da um joinha 👍Quem ai ta na rua da um jo",
         "-0.9998"
        ],
        [
         "12",
         "a na rua da um joinha 👍Quem ai ta na rua da um joinha 👍Quem ai ta na rua da um joinha 👍Quem ai ta na rua da um joinha 👍Quem ai ta na rua da um joinha 👍Quem ai ta na rua da um joinha 👍Quem ai ta na rua da um joinha 👍Quem ai ta na rua da um joinha 👍Quem ai ta na rua da um joinha 👍a rua da um joinha 👍Quem ai ta na rua da um joinha 👍Quem ai ta na rua da um joinha 👍Quem ai ta na rua da um joinha 👍Quem ai ta na rua da um joinha 👍Quem ai ta na rua da um joinha 👍Quem ai ta na rua da um joinha 👍Quem ai ta na rua da um joinha 👍Quem ai ta na rua da um joinha 👍Quem ai ta na rua da um joinha 👍Quem ai ta na rua da um joinha 👍Quem ai ta na rua da um joinha 👍Quem ai ta na rua da um joinha 👍Quem ai ta na rua da um joinha 👍Quem ai ta na rua da um joinha 👍Quem ai ta na rua da um joinha 👍Quem ai ta na rua da um joinha 👍Quem ai ta na rua da um joinha 👍Quem ai ta na rua da um joinha 👍Quem ai ta na rua da um joinha 👍Quem ai ta na rua da um joinha 👍Quem ai ta na rua da um joinha 👍Quem ai ta na rua da um joinha 👍Quem ai ta na rua da um joinha 👍Quem ai ta na rua da um joinha 👍Quem ai ta na rua da um joinha 👍Quem ai ta na rua da um joinha 👍Quem ai ta na rua da um joinha 👍Quem ai ta na rua da um joinha 👍Quem ai ta na rua da um joinha 👍Quem ai ta na rua da um joinha 👍Quem ai ta na rua da um joinha 👍Quem ai ta na rua da um joinha 👍Quem ai ta na rua da um joinha 👍Quem ai ta na rua da um joinha 👍Quem ai ta na rua da um joinha 👍Quem ai ta na rua da um joinha 👍Quem ai ta na rua da um joinha 👍Quem ai ta na rua da um joinha 👍Quem ai ta na rua da um joinha 👍Quem ai ta na rua da um joinha 👍Quem ai ta na rua da um joinha 👍Quem ai ta na rua da um joinha 👍Quem ai ta na rua da um joinha 👍Quem ai ta na rua da um joinha 👍Quem ai ta na rua da um joinha 👍Quem ai ta na rua da um joinha 👍Quem ai ta na rua da um joinha 👍Quem ai ta na rua da um joinha 👍Quem ai ta na rua da um joinha 👍Quem ai ta na rua da um joinha 👍Quem ai ta na rua da um joinha 👍Quem ai ta na rua da um joinha 👍Quem ai ta na rua da um joinha 👍Quem ai ta na rua da um joinha 👍Quem ai ta na rua da um joinha 👍Quem ai ta na rua da um joinha 👍Quem ai ta na rua da um joinha 👍Quem ai ta na rua da um joinha 👍Quem ai ta na rua da um joinha 👍Quem ai ta na rua da um joinha 👍Quem ai ta na rua da um joinha 👍Quem ai ta na rua da um joinha 👍Quem ai ta na rua da um joinha 👍Quem ai ta na rua da um joinha 👍Quem ai ta na rua da um joinha 👍Quem ai ta na rua da um joinha 👍Quem ai ta na rua da um joinha 👍Quem ai ta na rua da um joinha 👍Quem ai ta na rua da um joinha 👍Quem ai ta na rua da um joinha 👍Quem ai ta na rua da um joinha 👍Quem ai ta na rua da um joinha 👍Quem ai ta na rua da um joinha 👍Quem ai ta na rua da um joinha 👍Quem ai ta na rua da um joinha 👍Quem ai ta na rua da um joinha 👍Quem ai ta na rua da um joinha 👍Quem ai ta na rua da um joinha 👍Quem ai ta na rua da um joinha 👍Quem ai ta na rua da um joinha 👍Quem ai ta na rua da um joinha 👍Quem ai ta na rua da um joinha 👍Quem ai ta na rua da um joinha 👍Quem ai ta na rua da um joinha 👍Quem ai ta na rua da um joinha 👍Quem ai ta na rua da um joinha 👍Quem ai ta na rua da um joinha 👍Quem ai ta na rua da um joinha 👍Quem ai ta na rua da um joinha 👍Quem ai ta na rua da um joinha 👍Quem ai ta na rua da um joinha 👍Quem ai ta na rua da um joinha 👍Quem ai ta na rua da um joinha 👍Quem ai ta na rua da um joinha 👍Quem ai ta na rua da um joinha 👍Quem ai ta na rua da um joinha 👍Quem ai ta na rua da um joinha 👍Quem ai ta na rua da um joinha 👍Quem ai ta na rua da um joinha 👍Quem ai ta na rua da um joinha 👍Quem ai ta na rua da um joinha 👍Quem ai ta na rua da um joinha 👍Quem ai ta na rua da um joinha 👍Quem ai ta na rua da um joinha 👍Quem ai ta na rua da um joinha 👍Quem ai ta na rua da um joinha 👍Quem ai ta na rua da um joinha 👍a rua da um joinha 👍Quem ai ta na rua da um joinha 👍Quem ai ta na rua da um joinha 👍Quem ai ta na rua da um joinha 👍Quem ai ta na rua da um joinha 👍Quem ai ta na rua da um joinha 👍Quem ai ta na rua da um joinha 👍Quem ai ta na rua da um joinha 👍Quem",
         "-0.9998"
        ],
        [
         "13",
         "ha 👍Quem ai ta na rua da um joinha 👍Quem ai ta na rua da um joinha 👍Quem ai ta na rua da um joinha 👍Quem ai ta na rua da um joinha 👍Quem ai ta na rua da um joinha 👍Quem ai ta na rua da um joinha 👍Quem ai ta na rua da um joinha 👍Quem ai ta na rua da um joinha 👍Quem ai ta na rua da um joinha 👍Quem ai ta na rua da um joinha 👍Quem ai ta na rua da um joinha 👍Quem ai ta na rua da um joinha 👍Quem ai ta na rua da um joinha 👍Quem ai ta na rua da um joinha 👍Quem ai ta na rua da um joinha 👍Quem ai ta na rua da um joinha 👍Quem ai ta na rua da um joinha 👍Quem ai ta na rua da um joinha 👍Quem ai ta na rua da um joinha 👍Quem ai ta na rua da um joinha 👍Quem ai ta na rua da um joinha 👍Quem ai ta na rua da um joinha 👍Quem ai ta na rua da um joinha 👍Quem ai ta na rua da um joinha 👍Quem ai ta na rua da um joinha 👍Quem ai ta na rua da um joinha 👍Quem ai ta na rua da um joinha 👍Quem ai ta na rua da um joinha 👍Quem ai ta na rua da um joinha 👍Quem ai ta na rua da um joinha 👍Quem ai ta na rua da um joinha 👍Quem ai ta na rua da um joinha 👍Quem ai ta na rua da um joinha 👍Quem ai ta na rua da um joinha 👍Quem ai ta na rua da um joinha 👍Quem ai ta na rua da um joinha 👍Quem ai ta na rua da um joinha 👍Quem ai ta na rua da um joinha 👍Quem ai ta na rua da um joinha 👍Quem ai ta na rua da um joinha 👍Quem ai ta na rua da um joinha 👍Quem ai ta na rua da um joinha 👍Quem ai ta na rua da um joinha 👍Quem ai ta na rua da um joinha 👍Quem ai ta na rua da um joinha 👍Quem ai ta na rua da um joinha 👍Quem ai ta na rua da um joinha 👍Quem ai ta na rua da um joinha 👍Quem ai ta na rua da um joinha 👍Quem ai ta na rua da um joinha 👍Quem ai ta na rua da um joinha 👍Quem ai ta na rua da um joinha 👍Quem ai ta na rua da um joinha 👍Quem ai ta na rua da um joinha 👍Quem ai ta na rua da um joinha 👍Quem ai ta na rua da um joinha 👍Quem ai ta na rua da um joinha 👍Quem ai ta na rua da um joinha 👍Quem ai ta na rua da um joinha 👍Quem ai ta na rua da um joinha 👍Quem ai ta na rua da um joinha 👍Quem ai ta na rua da um joinha 👍Quem ai ta na rua da um joinha 👍Quem ai ta na rua da um joinha 👍Quem ai ta na rua da um joinha 👍Quem ai ta na rua da um joinha 👍Quem ai ta na rua da um joinha 👍Quem ai ta na rua da um joinha 👍Quem ai ta na rua da um joinha 👍Quem ai ta na rua da um joinha 👍Quem ai ta na rua da um joinha 👍Quem ai ta na rua da um joinha 👍Quem ai ta na rua da um joinha 👍Quem ai ta na rua da um joinha 👍Quem ai ta na rua da um joinha 👍Quem ai ta na rua da um joinha 👍Quem ai ta na rua da um joinha 👍Quem ai ta na rua da um joinha 👍Quem ai ta na rua da um joinha 👍Quem ai ta na rua da um joinha 👍Quem ai ta na rua da um joinha 👍Quem ai ta na rua da um joinha 👍Quem ai ta na rua da um joinha 👍Quem ai ta na rua da um joinha 👍Quem ai ta na rua da um joinha 👍Quem ai ta na rua da um joinha 👍Quem ai ta na rua da um joinha 👍Quem ai ta na rua da um joinha 👍Quem ai ta na rua da um joinha 👍Quem ai ta na rua da um joinha 👍Quem ai ta na rua da um joinha 👍a rua da um joinha 👍Quem ai ta na rua da um joinha 👍Quem ai ta na rua da um joinha 👍Quem ai ta na rua da um joinha 👍Quem ai ta na rua da um joinha 👍Quem ai ta na rua da um joinha 👍Quem ai ta na rua da um joinha 👍Quem ai ta na rua da um joinha 👍Quem ai ta na rua da um joinha 👍Quem ai ta na rua da um joinha 👍Quem ai ta na rua da um joinha 👍Quem ai ta na rua da um joinha 👍Quem ai ta na rua da um joinha 👍Quem ai ta na rua da um joinha 👍Quem ai ta na rua da um joinha 👍Quem ai ta na rua da um joinha 👍Quem ai ta na rua da um joinha 👍Quem ai ta na rua da um joinha 👍Quem ai ta na rua da um joinha 👍Quem ai ta na rua da um joinha 👍Quem ai ta na rua da um joinha 👍Quem ai ta na rua da um joinha 👍Quem ai ta na rua da um joinha 👍Quem ai ta na rua da um joinha 👍Quem ai ta na rua da um joinha 👍Quem ai ta na rua da um joinha 👍Quem ai ta na rua da um joinha 👍Quem ai ta na rua da um joinha 👍Quem ai ta na rua da um joinha 👍Quem ai ta na rua da um joinha 👍Quem ai ta na rua da um joinha 👍Quem ai ta na rua da um joinha 👍Quem ai ta na rua da um joinha 👍Quem ai ta",
         "-0.9998"
        ],
        [
         "14",
         "Quem ai ta na rua da um joinha 👍Quem ai ta na rua da um joinha 👍Quem ai ta na rua da um joinha 👍Quem ai ta na rua da um joinha 👍Quem ai ta na rua da um joinha 👍Quem ai ta na rua da um joinha 👍Quem ai ta na rua da um joinha 👍Quem ai ta na rua da um joinha 👍Quem ai ta na rua da um joinha 👍Quem ai ta na rua da um joinha 👍Quem ai ta na rua da um joinha 👍Quem ai ta na rua da um joinha 👍Quem ai ta na rua da um joinha 👍Quem ai ta na rua da um joinha 👍Quem ai ta na rua da um joinha 👍Quem ai ta na rua da um joinha 👍Quem ai ta na rua da um joinha 👍Quem ai ta na rua da um joinha 👍Quem ai ta na rua da um joinha 👍Quem ai ta na rua da um joinha 👍Quem ai ta na rua da um joinha 👍Quem ai ta na rua da um joinha 👍Quem ai ta na rua da um joinha 👍Quem ai ta na rua da um joinha 👍Quem ai ta na rua da um joinha 👍Quem ai ta na rua da um joinha 👍Quem ai ta na rua da um joinha 👍Quem ai ta na rua da um joinha 👍Quem ai ta na rua da um joinha 👍Quem ai ta na rua da um joinha 👍Quem ai ta na rua da um joinha 👍Quem ai ta na rua da um joinha 👍Quem ai ta na rua da um joinha 👍Quem ai ta na rua da um joinha 👍Quem ai ta na rua da um joinha 👍Quem ai ta na rua da um joinha 👍Quem ai ta na rua da um joinha 👍Quem ai ta na rua da um joinha 👍Quem ai ta na rua da um joinha 👍Quem ai ta na rua da um joinha 👍Quem ai ta na rua da um joinha 👍Quem ai ta na rua da um joinha 👍Quem ai ta na rua da um joinha 👍Quem ai ta na rua da um joinha 👍Quem ai ta na rua da um joinha 👍Quem ai ta na rua da um joinha 👍Quem ai ta na rua da um joinha 👍Quem ai ta na rua da um joinha 👍Quem ai ta na rua da um joinha 👍Quem ai ta na rua da um joinha 👍Quem ai ta na rua da um joinha 👍Quem ai ta na rua da um joinha 👍Quem ai ta na rua da um joinha 👍Quem ai ta na rua da um joinha 👍Quem ai ta na rua da um joinha 👍Quem ai ta na rua da um joinha 👍Quem ai ta na rua da um joinha 👍Quem ai ta na rua da um joinha 👍Quem ai ta na rua da um joinha 👍Quem ai ta na rua da um joinha 👍Quem ai ta na rua da um joinha 👍Quem ai ta na rua da um joinha 👍Quem ai ta na rua da um joinha 👍Quem ai ta na rua da um joinha 👍Quem ai ta na rua da um joinha 👍Quem ai ta na rua da um joinha 👍Quem ai ta na rua da um joinha 👍Quem ai ta na rua da um joinha 👍Quem ai ta na rua da um joinha 👍Quem ai ta na rua da um joinha 👍Quem ai ta na rua da um joinha 👍Quem ai ta na rua da um joinha 👍Quem ai ta na rua da um joinha 👍Quem ai ta na rua da um joinha 👍Quem ai ta na rua da um joinha 👍Quem ai ta na rua da um joinha 👍Quem ai ta na rua da um joinha 👍Quem ai ta na rua da um joinha 👍Quem ai ta na rua da um joinha 👍Quem ai ta na rua da um joinha 👍Quem ai ta na rua da um joinha 👍Quem ai ta na rua da um joinha 👍Quem ai ta na rua da um joinha 👍Quem ai ta na rua da um joinha 👍Quem ai ta na rua da um joinha 👍Quem ai ta na rua da um joinha 👍Quem ai ta na rua da um joinha 👍Quem ai ta na rua da um joinha 👍Quem ai ta na rua da um joinha 👍Quem ai ta na rua da um joinha 👍Quem ai ta na rua da um joinha 👍Quem ai ta na rua da um joinha 👍Quem ai ta na rua da um joinha 👍Quem ai ta na rua da um joinha 👍Quem ai ta na rua da um joinha 👍Quem ai ta na rua da um joinha 👍Quem ai ta na rua da um joinha 👍Quem ai ta na rua da um joinha 👍Quem ai ta na rua da um joinha 👍Quem ai ta na rua da um joinha 👍Quem ai ta na rua da um joinha 👍Quem ai ta na rua da um joinha 👍Quem ai ta na rua da um joinha 👍Quem ai ta na rua da um joinha 👍Quem ai ta na rua da um joinha 👍Quem ai ta na rua da um joinha 👍Quem ai ta na rua da um joinha 👍Quem ai ta na rua da um joinha 👍Quem ai ta na rua da um joinha 👍Quem ai ta na rua da um joinha 👍Quem ai ta na rua da um joinha 👍Quem ai ta na rua da um joinha 👍Quem ai ta na rua da um joinha 👍Quem ai ta na rua da um joinha 👍Quem ai ta na rua da um joinha 👍Quem ai ta na rua da um joinha 👍Quem ai ta na rua da um joinha 👍Quem ai ta na rua da um joinha 👍Quem ai ta na rua da um joinha 👍Quem ai ta na rua da um joinha 👍Quem ai ta na rua da um joinha 👍Quem ai ta na rua da um joinha 👍Quem ai ta na rua da um joinha 👍Quem ai ta na rua da um joinha 👍Quem",
         "-0.9998"
        ],
        [
         "15",
         "ta na rua da um joinha 👍Quem ai ta na rua da um joinha 👍Quem ai ta na rua da um joinha 👍Quem ai ta na rua da um joinha 👍Quem ai ta na rua da um joinha 👍Quem ai ta na rua da um joinha 👍Quem ai ta na rua da um joinha 👍Quem ai ta na rua da um joinha 👍Quem ai ta na rua da um joinha 👍Quem ai ta na rua da um joinha 👍Quem ai ta na rua da um joinha 👍Quem ai ta na rua da um joinha 👍Quem ai ta na rua da um joinha 👍Quem ai ta na rua da um joinha 👍Quem ai ta na rua da um joinha 👍Quem ai ta na rua da um joinha 👍Quem ai ta na rua da um joinha 👍Quem ai ta na rua da um joinha 👍Quem ai ta na rua da um joinha 👍Quem ai ta na rua da um joinha 👍Quem ai ta na rua da um joinha 👍Quem ai ta na rua da um joinha 👍Quem ai ta na rua da um joinha 👍Quem ai ta na rua da um joinha 👍Quem ai ta na rua da um joinha 👍Quem ai ta na rua da um joinha 👍Quem ai ta na rua da um joinha 👍Quem ai ta na rua da um joinha 👍Quem ai ta na rua da um joinha 👍Quem ai ta na rua da um joinha 👍Quem ai ta na rua da um joinha 👍Quem ai ta na rua da um joinha 👍Quem ai ta na rua da um joinha 👍Quem ai ta na rua da um joinha 👍Quem ai ta na rua da um joinha 👍Quem ai ta na rua da um joinha 👍Quem ai ta na rua da um joinha 👍Quem ai ta na rua da um joinha 👍Quem ai ta na rua da um joinha 👍Quem ai ta na rua da um joinha 👍Quem ai ta na rua da um joinha 👍Quem ai ta na rua da um joinha 👍Quem ai ta na rua da um joinha 👍Quem ai ta na rua da um joinha 👍Quem ai ta na rua da um joinha 👍Quem ai ta na rua da um joinha 👍Quem ai ta na rua da um joinha 👍Quem ai ta na rua da um joinha 👍Quem ai ta na rua da um joinha 👍Quem ai ta na rua da um joinha 👍Quem ai ta na rua da um joinha 👍Quem ai ta na rua da um joinha 👍Quem ai ta na rua da um joinha 👍Quem ai ta na rua da um joinha 👍Quem ai ta na rua da um joinha 👍Quem ai ta na rua da um joinha 👍Quem ai ta na rua da um joinha 👍Quem ai ta na rua da um joinha 👍Quem ai ta na rua da um joinha 👍Quem ai ta na rua da um joinha 👍Quem ai ta na rua da um joinha 👍Quem ai ta na rua da um joinha 👍Quem ai ta na rua da um joinha 👍Quem ai ta na rua da um joinha 👍Quem ai ta na rua da um joinha 👍Quem ai ta na rua da um joinha 👍Quem ai ta na rua da um joinha 👍Quem ai ta na rua da um joinha 👍Quem ai ta na rua da um joinha 👍Quem ai ta na rua da um joinha 👍Quem ai ta na rua da um joinha 👍Quem ai ta na rua da um joinha 👍Quem ai ta na rua da um joinha 👍Quem ai ta na rua da um joinha 👍Quem ai ta na rua da um joinha 👍Quem ai ta na rua da um joinha 👍Quem ai ta na rua da um joinha 👍Quem ai ta na rua da um joinha 👍Quem ai ta na rua da um joinha 👍Quem ai ta na rua da um joinha 👍Quem ai ta na rua da um joinha 👍Quem ai ta na rua da um joinha 👍Quem ai ta na rua da um joinha 👍Quem ai ta na rua da um joinha 👍Quem ai ta na rua da um joinha 👍Quem ai ta na rua da um joinha 👍Quem ai ta na rua da um joinha 👍Quem ai ta na rua da um joinha 👍Quem ai ta na rua da um joinha 👍Quem ai ta na rua da um joinha 👍Quem ai ta na rua da um joinha 👍Quem ai ta na rua da um joinha 👍Quem ai ta na rua da um joinha 👍Quem ai ta na rua da um joinha 👍Quem ai ta na rua da um joinha 👍Quem ai ta na rua da um joinha 👍Quem ai ta na rua da um joinha 👍Quem ai ta na rua da um joinha 👍Quem ai ta na rua da um joinha 👍Quem ai ta na rua da um joinha 👍Quem ai ta na rua da um joinha 👍Quem ai ta na rua da um joinha 👍Quem ai ta na rua da um joinha 👍Quem ai ta na rua da um joinha 👍Quem ai ta na rua da um joinha 👍Quem ai ta na rua da um joinha 👍Quem ai ta na rua da um joinha 👍Quem ai ta na rua da um joinha 👍Quem ai ta na rua da um joinha 👍Quem ai ta na rua da um joinha 👍Quem ai ta na rua da um joinha 👍Quem ai ta na rua da um joinha 👍Quem ai ta na rua da um joinha 👍Quem ai ta na rua da um joinha 👍Quem ai ta na rua da um joinha 👍Quem ai ta na rua da um joinha 👍Quem ai ta na rua da um joinha 👍Quem ai ta na rua da um joinha 👍Quem ai ta na rua da um joinha 👍Quem ai ta na rua da um joinha 👍Quem ai ta na rua da um joinha 👍Quem ai ta na rua da um joinha 👍Quem ai ta na rua da um joinha 👍Quem ai ta na rua da um joinha 👍Quem ai ta n",
         "-0.9998"
        ],
        [
         "16",
         "a rua da um joinha 👍Quem ai ta na rua da um joinha 👍Quem ai ta na rua da um joinha 👍Quem ai ta na rua da um joinha 👍Quem ai ta na rua da um joinha 👍Quem ai ta na rua da um joinha 👍Quem ai ta na rua da um joinha 👍Quem ai ta na rua da um joinha 👍Quem ai ta na rua da um joinha 👍Quem ai ta na rua da um joinha 👍Quem ai ta na rua da um joinha 👍Quem ai ta na rua da um joinha 👍Quem ai ta na rua da um joinha 👍Quem ai ta na rua da um joinha 👍Quem ai ta na rua da um joinha 👍Quem ai ta na rua da um joinha 👍Quem ai ta na rua da um joinha 👍Quem ai ta na rua da um joinha 👍Quem ai ta na rua da um joinha 👍Quem ai ta na rua da um joinha 👍Quem ai ta na rua da um joinha 👍Quem ai ta na rua da um joinha 👍Quem ai ta na rua da um joinha 👍Quem ai ta na rua da um joinha 👍Quem ai ta na rua da um joinha 👍Quem ai ta na rua da um joinha 👍Quem ai ta na rua da um joinha 👍Quem ai ta na rua da um joinha 👍Quem ai ta na rua da um joinha 👍Quem ai ta na rua da um joinha 👍Quem ai ta na rua da um joinha 👍Quem ai ta na rua da um joinha 👍Quem ai ta na rua da um joinha 👍Quem ai ta na rua da um joinha 👍Quem ai ta na rua da um joinha 👍Quem ai ta na rua da um joinha 👍Quem ai ta na rua da um joinha 👍Quem ai ta na rua da um joinha 👍Quem ai ta na rua da um joinha 👍Quem ai ta na rua da um joinha 👍Quem ai ta na rua da um joinha 👍Quem ai ta na rua da um joinha 👍Quem ai ta na rua da um joinha 👍Quem ai ta na rua da um joinha 👍Quem ai ta na rua da um joinha 👍Quem ai ta na rua da um joinha 👍Quem ai ta na rua da um joinha 👍Quem ai ta na rua da um joinha 👍Quem ai ta na rua da um joinha 👍Quem ai ta na rua da um joinha 👍Quem ai ta na rua da um joinha 👍Quem ai ta na rua da um joinha 👍Quem ai ta na rua da um joinha 👍Quem ai ta na rua da um joinha 👍Quem ai ta na rua da um joinha 👍Quem ai ta na rua da um joinha 👍Quem ai ta na rua da um joinha 👍Quem ai ta na rua da um joinha 👍Quem ai ta na rua da um joinha 👍Quem ai ta na rua da um joinha 👍Quem ai ta na rua da um joinha 👍Quem ai ta na rua da um joinha 👍Quem ai ta na rua da um joinha 👍Quem ai ta na rua da um joinha 👍Quem ai ta na rua da um joinha 👍Quem ai ta na rua da um joinha 👍Quem ai ta na rua da um joinha 👍Quem ai ta na rua da um joinha 👍Quem ai ta na rua da um joinha 👍Quem ai ta na rua da um joinha 👍Quem ai ta na rua da um joinha 👍Quem ai ta na rua da um joinha 👍Quem ai ta na rua da um joinha 👍Quem ai ta na rua da um joinha 👍Quem ai ta na rua da um joinha 👍Quem ai ta na rua da um joinha 👍Quem ai ta na rua da um joinha 👍Quem ai ta na rua da um joinha 👍Quem ai ta na rua da um joinha 👍Quem ai ta na rua da um joinha 👍Quem ai ta na rua da um joinha 👍Quem ai ta na rua da um joinha 👍Quem ai ta na rua da um joinha 👍Quem ai ta na rua da um joinha 👍Quem ai ta na rua da um joinha 👍Quem ai ta na rua da um joinha 👍Quem ai ta na rua da um joinha 👍Quem ai ta na rua da um joinha 👍Quem ai ta na rua da um joinha 👍Quem ai ta na rua da um joinha 👍Quem ai ta na rua da um joinha 👍Quem ai ta na rua da um joinha 👍Quem ai ta na rua da um joinha 👍Quem ai ta na rua da um joinha 👍Quem ai ta na rua da um joinha 👍Quem ai ta na rua da um joinha 👍Quem ai ta na rua da um joinha 👍Quem ai ta na rua da um joinha 👍Quem ai ta na rua da um joinha 👍Quem ai ta na rua da um joinha 👍Quem ai ta na rua da um joinha 👍Quem ai ta na rua da um joinha 👍Quem ai ta na rua da um joinha 👍Quem ai ta na rua da um joinha 👍Quem ai ta na rua da um joinha 👍Quem ai ta na rua da um joinha 👍Quem ai ta na rua da um joinha 👍Quem ai ta na rua da um joinha 👍a rua da um joinha 👍Quem ai ta na rua da um joinha 👍Quem ai ta na rua da um joinha 👍Quem ai ta na rua da um joinha 👍Quem ai ta na rua da um joinha 👍Quem ai ta na rua da um joinha 👍Quem ai ta na rua da um joinha 👍Quem ai ta na rua da um joinha 👍Quem ai ta na rua da um joinha 👍Quem ai ta na rua da um joinha 👍Quem ai ta na rua da um joinha 👍Quem ai ta na rua da um joinha 👍Quem ai ta na rua da um joinha 👍Quem ai ta na rua da um joinha 👍Quem ai ta na rua da um joinha 👍Quem ai ta na rua da um joinha 👍Quem ai ta na rua da um join",
         "-0.9998"
        ],
        [
         "17",
         "a rua da um joinha 👍Quem ai ta na rua da um joinha 👍Quem ai ta na rua da um joinha 👍Quem ai ta na rua da um joinha 👍Quem ai ta na rua da um joinha 👍Quem ai ta na rua da um joinha 👍Quem ai ta na rua da um joinha 👍Quem ai ta na rua da um joinha 👍Quem ai ta na rua da um joinha 👍Quem ai ta na rua da um joinha 👍Quem ai ta na rua da um joinha 👍Quem ai ta na rua da um joinha 👍Quem ai ta na rua da um joinha 👍Quem ai ta na rua da um joinha 👍Quem ai ta na rua da um joinha 👍Quem ai ta na rua da um joinha 👍Quem ai ta na rua da um joinha 👍Quem ai ta na rua da um joinha 👍Quem ai ta na rua da um joinha 👍Quem ai ta na rua da um joinha 👍Quem ai ta na rua da um joinha 👍Quem ai ta na rua da um joinha 👍Quem ai ta na rua da um joinha 👍Quem ai ta na rua da um joinha 👍Quem ai ta na rua da um joinha 👍Quem ai ta na rua da um joinha 👍Quem ai ta na rua da um joinha 👍Quem ai ta na rua da um joinha 👍Quem ai ta na rua da um joinha 👍Quem ai ta na rua da um joinha 👍Quem ai ta na rua da um joinha 👍Quem ai ta na rua da um joinha 👍Quem ai ta na rua da um joinha 👍Quem ai ta na rua da um joinha 👍Quem ai ta na rua da um joinha 👍Quem ai ta na rua da um joinha 👍Quem ai ta na rua da um joinha 👍Quem ai ta na rua da um joinha 👍Quem ai ta na rua da um joinha 👍Quem ai ta na rua da um joinha 👍Quem ai ta na rua da um joinha 👍Quem ai ta na rua da um joinha 👍Quem ai ta na rua da um joinha 👍Quem ai ta na rua da um joinha 👍Quem ai ta na rua da um joinha 👍Quem ai ta na rua da um joinha 👍Quem ai ta na rua da um joinha 👍Quem ai ta na rua da um joinha 👍Quem ai ta na rua da um joinha 👍Quem ai ta na rua da um joinha 👍Quem ai ta na rua da um joinha 👍Quem ai ta na rua da um joinha 👍Quem ai ta na rua da um joinha 👍Quem ai ta na rua da um joinha 👍Quem ai ta na rua da um joinha 👍Quem ai ta na rua da um joinha 👍Quem ai ta na rua da um joinha 👍Quem ai ta na rua da um joinha 👍Quem ai ta na rua da um joinha 👍Quem ai ta na rua da um joinha 👍Quem ai ta na rua da um joinha 👍Quem ai ta na rua da um joinha 👍Quem ai ta na rua da um joinha 👍Quem ai ta na rua da um joinha 👍Quem ai ta na rua da um joinha 👍Quem ai ta na rua da um joinha 👍Quem ai ta na rua da um joinha 👍Quem ai ta na rua da um joinha 👍Quem ai ta na rua da um joinha 👍Quem ai ta na rua da um joinha 👍Quem ai ta na rua da um joinha 👍Quem ai ta na rua da um joinha 👍Quem ai ta na rua da um joinha 👍Quem ai ta na rua da um joinha 👍Quem ai ta na rua da um joinha 👍Quem ai ta na rua da um joinha 👍Quem ai ta na rua da um joinha 👍Quem ai ta na rua da um joinha 👍Quem ai ta na rua da um joinha 👍Quem ai ta na rua da um joinha 👍Quem ai ta na rua da um joinha 👍Quem ai ta na rua da um joinha 👍Quem ai ta na rua da um joinha 👍Quem ai ta na rua da um joinha 👍Quem ai ta na rua da um joinha 👍Quem ai ta na rua da um joinha 👍Quem ai ta na rua da um joinha 👍Quem ai ta na rua da um joinha 👍Quem ai ta na rua da um joinha 👍Quem ai ta na rua da um joinha 👍Quem ai ta na rua da um joinha 👍Quem ai ta na rua da um joinha 👍Quem ai ta na rua da um joinha 👍Quem ai ta na rua da um joinha 👍Quem ai ta na rua da um joinha 👍Quem ai ta na rua da um joinha 👍Quem ai ta na rua da um joinha 👍Quem ai ta na rua da um joinha 👍Quem ai ta na rua da um joinha 👍Quem ai ta na rua da um joinha 👍Quem ai ta na rua da um joinha 👍Quem ai ta na rua da um joinha 👍Quem ai ta na rua da um joinha 👍Quem ai ta na rua da um joinha 👍Quem ai ta na rua da um joinha 👍Quem ai ta na rua da um joinha 👍Quem ai ta na rua da um joinha 👍Quem ai ta na rua da um joinha 👍",
         "-0.9998"
        ],
        [
         "18",
         "Sobre a morte como política global e a necessidade de paz\n Há muito tempo venho dizendo que o mundo em que vivemos nas últimas décadas e que conhecíamos envelheceu. E agora ele está morrendo. Mas esse velho mundo, antes de morrer, pode nos arrastar para baixo com ele. Literalmente! Nós e nossos filhos.\nA culpa não importará mais. Como boas ou más intenções não importarão mais. Nem as justificativas. Nem as causas. Apenas os efeitos! E a morte será o efeito.\nImporta agora que o incidente histórico esquecido e aparentemente insignificante chamado Kosovo agora retorne como um bumerangue para aqueles que então o provocaram, ou eles apenas testemunharam passivamente a carnificina criminosa que aconteceu diante de nossos olhos?\nImporta também que tenhamos aceitado alegre e descuidadamente um militarismo estúpido, inútil e exacerbado nos últimos 10-15 anos quando, em um mundo sem grandes guerras e sem nenhum perigo concreto, estávamos nos preparando e armando como se para uma grande guerra iminente em vez de resolvermos os grandes problemas da humanidade?\nImporta também que tenhamos sentado em silêncio e estupidamente assistindo à TV, como um jogo em um console, como pequenos e muitos conflitos foram alimentados em todos os lugares, como milhões de pessoas foram \"vítimas colaterais\" em diferentes cantos do mundo: do Iraque ao Afeganistão, do Síria para Iêmen. Aqueles mortos estavam muito longe de nós. Tanto que a morte era uma questão abstrata, tratava-se de números, não de vidas, não de pessoas que, independentemente da cor de sua pele e de suas crenças e costumes, eram também a imagem do mesmo Criador, também eram portadoras do mesmo sopro de vida. Mas o que importava quando nós, esses superiores só porque não nascemos lá, estávamos comendo batatas fritas vendo as notícias do mundo... daquele mundo muito distante de nós e que só importava como um fato diverso.\nEh, olha, agora começou a contar. Ou devemos perceber o quanto isso importa. Devemos... Quando o espectro da morte está sorrindo atrás de nossa cerca, quando os chifres do apocalipse estão uivando em nosso portão, nós... continuamos mastigando batatas fritas vendo pessoas morrerem na TV. Como morrer nos campos. Como morrer na floresta. Como morrer em casas. Sim, ele morre, mas através do plástico da TV, a morte ainda parece plástica, como nos videogames. Morram... é bom que morram e morram menos... que morram mais, que sejam esmagados! Embora perto, a morte ainda parece abstrata e muito distante... está logo além da cerca! Aquele ditado: a morte mais fácil é a morte do outro!\nMas a morte pede mais morte. E as fronteiras não são portas da morte. Não pela morte que é cinicamente planejada para nós. Porque agora estamos prestes a nos tornar números, algumas \"vítimas colaterais\" que outros assistirão enquanto mastigam batatas fritas de seus sofás através de suas telas de plástico. Apenas a morte vista de perto não é de plástico. Há dor, há medo, há sangue e miasma fétido-doce. É o fim. Esse fim que muitos de nós arriscamos provar de uma só vez.\nA morte começa a deixar de ser um fato diverso, aquela notícia de dois minutos do noticiário da TV ou do clipe no fb que roda em loop... essa morte corre o risco de ser a nossa própria morte. A morte o mais real e pessoal possível.\nA morte pessoal, biblicamente falando, é o efeito do pecado, da desobediência, de comer da árvore da dualidade bem/mal. E a morte coletiva da qual estou falando agora é fruto do pecado: o pecado do orgulho demoníaco, o desejo de poder absoluto, dominação global e tudo o que vem com isso. Esses são os pecados deles, dos poucos que estão brincando de deus agora.\nMas também nós, estes muitos e silenciosos, também temos os nossos pecados: o pecado do descuido, da indolência criminosa, do medo, do acordo tácito com o mal, da estupidez. Sim, se morrermos, morremos de tolos e covardes...\nChegou a hora de perceber que a estupidez ou o medo são caminhos retos e batidos para a morte. E chegou a hora de sair desses caminhos, de sair da indolência e da crença idiota de que \"não pode acontecer nem comigo\"...\nCleopatra",
         "-0.9998"
        ],
        [
         "19",
         "a rua da um joinha 👍Quem ai ta na rua da um joinha 👍Quem ai ta na rua da um joinha 👍Quem ai ta na rua da um joinha 👍Quem ai ta na rua da um joinha 👍Quem ai ta na rua da um joinha 👍Quem ai ta na rua da um joinha 👍Quem ai ta na rua da um joinha 👍Quem ai ta na rua da um joinha 👍Quem ai ta na rua da um joinha 👍Quem ai ta na rua da um joinha 👍Quem ai ta na rua da um joinha 👍Quem ai ta na rua da um joinha 👍Quem ai ta na rua da um joinha 👍Quem ai ta na rua da um joinha 👍Quem ai ta na rua da um joinha 👍Quem ai ta na rua da um joinha 👍Quem ai ta na rua da um joinha 👍Quem ai ta na rua da um joinha 👍Quem ai ta na rua da um joinha 👍Quem ai ta na rua da um joinha 👍Quem ai ta na rua da um joinha 👍Quem ai ta na rua da um joinha 👍Quem ai ta na rua da um joinha 👍Quem ai ta na rua da um joinha 👍Quem ai ta na rua da um joinha 👍Quem ai ta na rua da um joinha 👍Quem ai ta na rua da um joinha 👍Quem ai ta na rua da um joinha 👍Quem ai ta na rua da um joinha 👍Quem ai ta na rua da um joinha 👍Quem ai ta na rua da um joinha 👍Quem ai ta na rua da um joinha 👍Quem ai ta na rua da um joinha 👍Quem ai ta na rua da um joinha 👍Quem ai ta na rua da um joinha 👍Quem ai ta na rua da um joinha 👍Quem ai ta na rua da um joinha 👍Quem ai ta na rua da um joinha 👍Quem ai ta na rua da um joinha 👍Quem ai ta na rua da um joinha 👍Quem ai ta na rua da um joinha 👍Quem ai ta na rua da um joinha 👍Quem ai ta na rua da um joinha 👍Quem ai ta na rua da um joinha 👍Quem ai ta na rua da um joinha 👍Quem ai ta na rua da um joinha 👍Quem ai ta na rua da um joinha 👍Quem ai ta na rua da um joinha 👍Quem ai ta na rua da um joinha 👍Quem ai ta na rua da um joinha 👍Quem ai ta na rua da um joinha 👍Quem ai ta na rua da um joinha 👍Quem ai ta na rua da um joinha 👍Quem ai ta na rua da um joinha 👍Quem ai ta na rua da um joinha 👍Quem ai ta na rua da um joinha 👍Quem ai ta na rua da um joinha 👍Quem ai ta na rua da um joinha 👍Quem ai ta na rua da um joinha 👍Quem ai ta na rua da um joinha 👍Quem ai ta na rua da um joinha 👍Quem ai ta na rua da um joinha 👍Quem ai ta na rua da um joinha 👍Quem ai ta na rua da um joinha 👍Quem ai ta na rua da um joinha 👍Quem ai ta na rua da um joinha 👍Quem ai ta na rua da um joinha 👍Quem ai ta na rua da um joinha 👍Quem ai ta na rua da um joinha 👍Quem ai ta na rua da um joinha 👍Quem ai ta na rua da um joinha 👍Quem ai ta na rua da um joinha 👍Quem ai ta na rua da um joinha 👍Quem ai ta na rua da um joinha 👍Quem ai ta na rua da um joinha 👍Quem ai ta na rua da um joinha 👍Quem ai ta na rua da um joinha 👍Quem ai ta na rua da um joinha 👍Quem ai ta na rua da um joinha 👍Quem ai ta na rua da um joinha 👍Quem ai ta na rua da um joinha 👍Quem ai ta na rua da um joinha 👍Quem ai ta na rua da um joinha 👍Quem ai ta na rua da um joinha 👍Quem ai ta na rua da um joinha 👍Quem ai ta na rua da um joinha 👍Quem ai ta na rua da um joinha 👍Quem ai ta na rua da um joinha 👍Quem ai ta na rua da um joinha 👍Quem ai ta na rua da um joinha 👍Quem ai ta na rua da um joinha 👍Quem ai ta na rua da um joinha 👍Quem ai ta na rua da um joinha 👍Quem ai ta na rua da um joinha 👍Quem ai ta na rua da um joinha 👍Quem ai ta na rua da um joinha 👍Quem ai ta na rua da um joinha 👍Quem ai ta na rua da um joinha 👍Quem ai ta na rua da um joinha 👍Quem ai ta na rua da um joinha 👍Quem ai ta na rua da um joinha 👍Quem ai ta na rua da um joinha 👍Quem ai ta na rua da um joinha 👍Quem ai ta na rua da um joinha 👍Quem ai ta na rua da um joinha 👍Quem ai ta na rua da um joinha 👍Quem ai ta na rua da um joinha",
         "-0.9998"
        ],
        [
         "20",
         "nha 👍Quem ai ta na rua da um joinha 👍Quem ai ta na rua da um joinha 👍Quem ai ta na rua da um joinha 👍Quem ai ta na rua da um joinha 👍Quem ai ta na rua da um joinha 👍Quem ai ta na rua da um joinha 👍Quem ai ta na rua da um joinha 👍Quem ai ta na rua da um joinha 👍Quem ai ta na rua da um joinha 👍Quem ai ta na rua da um joinha 👍Quem ai ta na rua da um joinha 👍Quem ai ta na rua da um joinha 👍Quem ai ta na rua da um joinha 👍Quem ai ta na rua da um joinha 👍Quem ai ta na rua da um joinha 👍Quem ai ta na rua da um joinha 👍Quem ai ta na rua da um joinha 👍Quem ai ta na rua da um joinha 👍Quem ai ta na rua da um joinha 👍Quem ai ta na rua da um joinha 👍Quem ai ta na rua da um joinha 👍Quem ai ta na rua da um joinha 👍Quem ai ta na rua da um joinha 👍Quem ai ta na rua da um joinha 👍Quem ai ta na rua da um joinha 👍Quem ai ta na rua da um joinha 👍Quem ai ta na rua da um joinha 👍Quem ai ta na rua da um joinha 👍Quem ai ta na rua da um joinha 👍Quem ai ta na rua da um joinha 👍Quem ai ta na rua da um joinha 👍Quem ai ta na rua da um joinha 👍Quem ai ta na rua da um joinha 👍Quem ai ta na rua da um joinha 👍Quem ai ta na rua da um joinha 👍Quem ai ta na rua da um joinha 👍Quem ai ta na rua da um joinha 👍Quem ai ta na rua da um joinha 👍Quem ai ta na rua da um joinha 👍Quem ai ta na rua da um joinha 👍Quem ai ta na rua da um joinha 👍Quem ai ta na rua da um joinha 👍Quem ai ta na rua da um joinha 👍Quem ai ta na rua da um joinha 👍Quem ai ta na rua da um joinha 👍Quem ai ta na rua da um joinha 👍Quem ai ta na rua da um joinha 👍Quem ai ta na rua da um joinha 👍Quem ai ta na rua da um joinha 👍Quem ai ta na rua da um joinha 👍Quem ai ta na rua da um joinha 👍Quem ai ta na rua da um joinha 👍Quem ai ta na rua da um joinha 👍Quem ai ta na rua da um joinha 👍Quem ai ta na rua da um joinha 👍Quem ai ta na rua da um joinha 👍Quem ai ta na rua da um joinha 👍Quem ai ta na rua da um joinha 👍a rua da um joinha 👍Quem ai ta na rua da um joinha 👍Quem ai ta na rua da um joinha 👍Quem ai ta na rua da um joinha 👍Quem ai ta na rua da um joinha 👍Quem ai ta na rua da um joinha 👍Quem ai ta na rua da um joinha 👍Quem ai ta na rua da um joinha 👍Quem ai ta na rua da um joinha 👍Quem ai ta na rua da um joinha 👍Quem ai ta na rua da um joinha 👍Quem ai ta na rua da um joinha 👍Quem ai ta na rua da um joinha 👍Quem ai ta na rua da um joinha 👍Quem ai ta na rua da um joinha 👍Quem ai ta na rua da um joinha 👍Quem ai ta na rua da um joinha 👍Quem ai ta na rua da um joinha 👍Quem ai ta na rua da um joinha 👍Quem ai ta na rua da um joinha 👍Quem ai ta na rua da um joinha 👍Quem ai ta na rua da um joinha 👍Quem ai ta na rua da um joinha 👍Quem ai ta na rua da um joinha 👍Quem ai ta na rua da um joinha 👍Quem ai ta na rua da um joinha 👍Quem ai ta na rua da um joinha 👍Quem ai ta na rua da um joinha 👍Quem ai ta na rua da um joinha 👍Quem ai ta na rua da um joinha 👍Quem ai ta na rua da um joinha 👍Quem ai ta na rua da um joinha 👍Quem ai ta na rua da um joinha 👍Quem ai ta na rua da um joinha 👍Quem ai ta na rua da um joinha 👍Quem ai ta na rua da um joinha 👍Quem ai ta na rua da um joinha 👍Quem ai ta na rua da um joinha 👍Quem ai ta na rua da um joinha 👍Quem ai ta na rua da um joinha 👍Quem ai ta na rua da um joinha 👍Quem ai ta na rua da um joinha 👍Quem ai ta na rua da um joinha 👍Quem ai ta na rua da um joinha 👍Quem ai ta na rua da um joinha 👍Quem ai ta na rua da um joinha 👍Quem ai ta na rua da um joinha 👍Quem ai ta na rua da um joinha 👍Quem ai ta na rua da um joinha 👍Quem ai ta na rua da um joinha 👍Quem ai ta na rua da um joinha 👍Quem ai ta na rua da um joinha 👍Quem ai ta na rua da um joinha 👍Quem ai ta na rua da um joinha 👍Quem ai ta na rua da um joinha 👍Quem ai ta na rua da um joinha 👍Quem ai ta na rua da um joinha 👍Quem ai ta na rua da um joinha 👍Quem ai ta na rua da um joinha 👍Quem ai ta na rua da um joinha 👍Quem ai ta na rua da um joinha 👍Quem ai ta na rua da um joinha 👍Quem ai ta na rua da um joinha 👍Quem ai ta na rua da um joinha 👍Quem ai ta na rua da um joinha 👍Quem ai ta na rua da um joinha 👍Quem ai ta",
         "-0.9998"
        ],
        [
         "21",
         "OS COVARDES E ANTI PATRIOTAS BOLSONARISTAS\n\n🧟‍♀🧟🧟‍♂🧠💩🇨🇳🐀👺🔥\n\nBolsonaro é um patriota de verdade. Pode ter seus defeitos, mas apanhou sozinho durante quatros anos, foi perseguido, ameaçado de morte, humilhado, sacaneando e impedido  de governar por 9 elementos supremos. Sofreu sozinho pelo país, tendo ainda de carregar mais de 60 milhões de covardes em suas costas. \n\nFoi duro ver o cara apanhando sozinho enquanto os covardes que se diziam seus \"apoiadores\", ficavam atrás de micaretas, rebolando atrás de carros de som, carregando apitos na boca, faixas, bandeiras e cornetas, ao passo que cantavam o Hino o Nacional como se fossem patriotas. Patriotas é o caralho!\n\nPatriota é o indivíduo que ama à pátria, ama a nação e o país em que vive. Um patriota luta pelo país até a morte. Patriota é o indivíduo que ao ver o país na eminência de um golpe político, em perigo de ser roubado e de ver a impunidade, a fraude e a corrupção prevalecendo, vai lá e luta ferozmente pelos interesses do país, combatendo e removendo os agentes nocivos e inimigos do país. Nunca lutaram porra nenhuma! Taí Lula e o STF como exemplos.\n\nNo Brasil de covardes, os verdadeiros Patriotas são apenas algumas centenas de homens. O resto é covarde e mentiroso. Gente medíocre ao ponto de colocarem em seus perfis nas redes sociais, adjetivos como: patriota, cristão, direita, pátria e família. Porra nenhuma!  Nunca lutaram por nada! Nunca fizeram nada pelo país e nem pela família. Nunca impediram a corrupção, a fraude, a roubalheira e a impunidade. Povo covarde, estúpido, egoísta, parasita, imbecil, herege, pagão, hipócrita, corrupto e mentiroso.\n\nEu poderia ir para Brasília  e lutar sozinho por alguma causa justa. Faria muito mais sozinho em um único dia, do quê os 60 milhões de covardes e borra botas juntos, não fizeram em 4 anos. Mas Bolsonaro, Allan dos Santos, Oswaldo Eustáquio, Sara Winter e tantos outros exemplos da resistência,  pagaram o preço por lutarem pelos 60 milhões de covardes. Ficaram sozinhos e não tiveram qualquer apoio dos \"apoiadores\" da direita cristã, hipócrita e covarde. Com apoiadores desta casta não se precisa de inimigos. Apoiadores porra nenhuma! Tudo idólatra e covarde. Por isso afastei qualquer possibilidade de me juntar aos combatentes perseguidos, ignorados e abandonados pelos covardes.\n\nO maior exemplo da covardia já vista neste país foi o movimento bolsonarista, do \"Eu Autorizo\". Queriam autorizar o presidente a se foder sozinho, enquanto eles os covardes, tiravam o seus rabos fedorentos e anti-Patriotas da reta. É muito fácil mandar os outros para uma guerra sozinho e se livrarem da responsabilidade civil e patriota de lutar, não é mesmo? Essa era uma responsabilidade do povo como Nação e não do presidente, que inúmeras vezes deixou isso bem claro. Mas além de covardes são idiotas, retardados e imbecis. Jamais entenderam os recados do Presidente. Ou se entenderam, fingiram não entender, pois se tratava de luta e de combate e não de manifestação idiota. E covarde não enfrenta briga. Foge dela e da responsabilidade de defender a pátria.\n\nFODA ver um presidente sendo humilhando e escrachado diante de 60 milhões de babacas que tinham a cara de pau de se auto-denominarem seus apoiadores. Puta que o pariu!\n\nO STF percebeu que Bolsonaro tinha um bando de covardes por atrás de seu governo e por isso deitou e rolou. Mesmo assim seus apoiadores de merda não se tocavam e continuavam fazendo papel de palhaços. Foi deprimente...Deplorável...\n\nO Brasil agora será comunista. Os mais atingidos serão os empresários, à classe média e a classe média alta. Os empresários demitirão milhares de trabalhadores e milhares de empresas irão falir ou deixar o Brasil. O desemprego, a fome, a miséria e a pobreza se espalhará como uma peste. A empregada, o porteiro, o pedreiro, a faxineira e todos que votaram no PT irão se foder também. Como não haverá dinheiro circulando, não haverá serviços autônomos. Vão passar fome junto com os outros parasitas e covardes. A picanha vai ser um gato, um rato na chapa ou um cozido de vira latas.\n👇👇👇👇",
         "-0.9997"
        ],
        [
         "22",
         "OS COVARDES E ANTI PATRIOTAS BOLSONARISTAS\n\n🧟‍♀🧟🧟‍♂🧠💩🇨🇳🐀👺🔥\n\nBolsonaro é um patriota de verdade. Pode ter seus defeitos, mas apanhou sozinho durante quatros anos, foi perseguido, ameaçado de morte, humilhado, sacaneando e impedido  de governar por 9 elementos supremos. Sofreu sozinho pelo país, tendo ainda de carregar mais de 60 milhões de covardes em suas costas. \n\nFoi duro ver o cara apanhando sozinho enquanto os covardes que se diziam seus \"apoiadores\", ficavam atrás de micaretas, rebolando atrás de carros de som, carregando apitos na boca, faixas, bandeiras e cornetas, ao passo que cantavam o Hino o Nacional como se fossem patriotas. Patriotas é o caralho!\n\nPatriota é o indivíduo que ama à pátria, ama a nação e o país em que vive. Um patriota luta pelo país até a morte. Patriota é o indivíduo que ao ver o país na eminência de um golpe político, em perigo de ser roubado e de ver a impunidade, a fraude e a corrupção prevalecendo, vai lá e luta ferozmente pelos interesses do país, combatendo e removendo os agentes nocivos e inimigos do país. Nunca lutaram porra nenhuma! Taí Lula e o STF como exemplos.\n\nNo Brasil de covardes, os verdadeiros Patriotas são apenas algumas centenas de homens. O resto é covarde e mentiroso. Gente medíocre ao ponto de colocarem em seus perfis nas redes sociais, adjetivos como: patriota, cristão, direita, pátria e família. Porra nenhuma!  Nunca lutaram por nada! Nunca fizeram nada pelo país e nem pela família. Nunca impediram a corrupção, a fraude, a roubalheira e a impunidade. Povo covarde, estúpido, egoísta, parasita, imbecil, herege, pagão, hipócrita, corrupto e mentiroso.\n\nEu poderia ir para Brasília  e lutar sozinho por algum a causa justa. Faria muito mais sozinho em um único dia, do quê os 60 milhões de covardes e borra botas juntos, não fizeram em 4 anos. Mas Bolsonaro, Allan dos Santos, Oswaldo Eustáquio, Sara Winter e tantos outros exemplos da resistência,  pagaram o preço por lutarem pelos 60 milhões de covardes. Ficaram sozinhos e não tiveram qualquer apoio dos \"apoiadores\" da direita cristã, hipócrita e covarde. Com apoiadores desta casta não se precisa de inimigos. Apoiadores porra nenhuma! Tudo idólatra e covarde. Por isso afastei qualquer possibilidade de me juntar aos combatentes perseguidos, ignorados  e abandonados pelos covardes.\n\nO maior exemplo da covardia já vista neste país foi o movimento bolsonarista, do \"Eu Autorizo\". Queriam autorizar o presidente a se foder sozinho, enquanto eles os covardes, tiravam o seus rabos fedorentos e anti-Patriotas da reta. É muito fácil mandar os outros para uma guerra sozinho e se livrar da responsabilidade civil e patriota, não é mesmo? Essa era uma responsabilidade do povo como Nação e não do presidente que inúmeras vezes deixou isso bem claro. Mas além de covardes são idiotas, retardados e imbecis. Jamais entenderam os recados do Presidente. Ou se entenderam, fingiram não entender, pois se tratava de luta e de combate e não de manifestação idiota. E covarde não enfrenta briga. Foge dela e da responsabilidade de defender a pátria.\n\nFODA ver um presidente sendo humilhando e escrachado diante de 60 milhões de babacas que tinham a cara de pau de se auto-denominarem seus apoiadores. Puta que o pariu!\n\nO STF percebeu que Bolsonaro tinha um bando de covardes por atrás de seu governo e por isso deitou e rolou. Mesmo assim seus apoiadores de merda não se tocavam e continuavam fazendo papel de palhaços. Foi deprimente...Deplorável...\n\nO Brasil agora será comunista. Os mais atingidos serão os empresários, à classe média e a classe média alta. Os empresários demitirão milhares de trabalhadores e milhares de empresas irão falir ou deixar o Brasil. O desemprego, a fome, a miséria e a pobreza se espalhará como uma peste. A empregada, o porteiro, o pedreiro, a faxineira e todos que votaram no PT irão se foder também. Como não haverá dinheiro circulando, não haverá serviços autônomos. Vão passar fome junto com os outros parasitas e covardes. A picanha vai ser um gato, um rato na chapa ou um cozido de vira latas.",
         "-0.9997"
        ],
        [
         "23",
         "FRAUDE FRAUDE FRAUDE FRAUDE FRAUDE FRAUDE FRAUDE FRAUDE FRAUDE FRAUDE FRAUDE FRAUDE FRAUDE FRAUDE FRAUDE FRAUDE FRAUDE FRAUDE FRAUDE FRAUDE FRAUDE FRAUDE FRAUDE FRAUDE FRAUDE FRAUDE FRAUDE FRAUDE FRAUDE FRAUDE FRAUDE FRAUDE FRAUDE FRAUDE FRAUDE FRAUDE FRAUDE FRAUDE FRAUDE FRAUDE FRAUDE FRAUDE FRAUDE FRAUDE FRAUDE FRAUDE FRAUDE FRAUDE FRAUDE FRAUDE FRAUDE FRAUDE FRAUDE FRAUDE FRAUDE FRAUDE FRAUDE FRAUDE FRAUDE FRAUDE",
         "-0.9996"
        ],
        [
         "24",
         "Precisamos nos unir imediatamente, todos os canais de direita, conservadores, todos juntos com uma missão única.\n\nPrecisamos ir para as ruas imediatamente, precisamos colocar todos os 50 milhões de eleitores do Presidente nas ruas agora\n\nA esquerda em peso está repetindo a mesma coisa , o pronunciamento do presidente e a destituição imediata dele, com prisão dele e dos familiares sem direito a anistia.\n\nPora, precisamos ir as ruas agora, nosso presidente lutou e nos mostrou tudo que pricasamos fazer nesses 4 anos, ele levou uma facada por todfos nós.\n\nNÃO PODEMOS ABANDONAR ELE AGORA, OU SERÁ O NOSSO FIM.\n\nOs militares, os deputados, os senadores e até mesmo o nosso presidente já disseram e repetiram exatamente oque nós temos de fazer, IR AS RUAS E PERMANECER LÁ A TODO CUSTO.\n\nPara jogar nas 4 linhas da constituição, vamos até o fim, lembre-se dessas palavras.\n\nO presidente está de mão atadas, ele não pode usar as FFAA sem a aprovação do congresso, e todos sabem que isso não vai acontecer.\n\nENTÃO SÓ RESTOU O POVO... AS FORÇAS ARMADAS FFAA, PODERÃO SER ACIONAS POR CLAMOR POPULAR.\nE É ISSO QUE ELES ESTÃO AGUARDANDO, ELES JÁ TEM AS PROVAS, MAS FALTA O CLAMOR DO POVO PARA SEREM ACIONADOS E PODEREM AGIR DENTRO DAS 4 LINHAS.\n\nPORA, ENTRA EM CONTATO COM TODOS OS CANAIS CONHECIDO, E VAMOS CHAMAR O POVO PRAS RUAS AGORA, PARA PEDIR UMA ÚNICA COISA: \"CONTESTAÇÃO DO RESULTADO DAS ELEIÇÕES\", NÃO PRECISAMOS PEDIR MAIS NADA, AS FFAA JÁ SABEM DE TODO RESTO.\n\nMAS PRECISAMOS FAZER ISSO AGORA, OU VÃO DERSTITUIR O PRESIDENTE NAS PRÓXIMAS HORA.\n\nOS SENADORES E DEPUTADOS DE ESQUERDXA JÁ ESTÃO INDO PARA BRASÍLIA PARA INICIAR O PROCESSO, E VÃO VOTAR AINDA HOJE.\n\nE COM ISSO O BOLSONARO E A FAMILIA PODERÃO SER PRESOS.\n\nO PRESIDENTE PASSOU 4 ANOS NOS PREPARANDO PARA ESSE MOMENTO, E ELE AINDA NOS AVISOU:\nNÃO SAIAM DE PERTO DAS URNAS, DAS SEÇÕES ELEITORAIS ATÉ O FINAL DA APURAÇÃO.\n\nELE SABIA QUE HAVIA FRAUDE, E PRECISAVA DESSES 50 MILHÕES DE PESSOAS NAS RUAS PARA JUSTIFICAR AS AÇÕES DAS FFAA.\n\nPRECISAMOS VOLTAR IMEDIATAMENTE PARA AS RUAS.\n\nVEJA O DESEPERO DA IMPRENSA QUERENDO QUE ELE SE PRONUNCIE, PARA ACUSAR ELE DE DESORDEM CIVIL, ASSIM COMO ACONTECEU COM O TRUMP.\n\nELE NÃO PODE SE PRONUNCIAR, E NÃO VAI FAZER ISSO.\n\nSE ELE FIZER, ELES DESTITUEM ELE E O PRENDEM.\n\nBORA LEVAR TODOS OS SEGUIDORES AS RUAS NOVAMENTE, BORA APOIAR O HOMEM QUE LEVOU UMA FACADA POR TODOS NÓS E MESMO ASSIM NÃO DESISTIU.\n\nPORA, FICAMOS TRANCADOS MESES POR CAUSA DA PANDEMIA, OS EMPRESARIOS FICARAM MESES FECHADOS POR CONTA DA PANDEMIA, E AGORA ESTÃO TODOS ABANDONADO O BARCO, ABANDONANDO NOSSO CAPITÃO, ABANDONANDO O CARA QUE COLOCOU SUA VIDA EM RISCO POR NÓS.\n\nO SISTEMA ESTÁ DESESPERADO, O XANDÃO JÁ MANDOU (MAIS UMA ILEGALIDAE) TODOS OS PMs do País liberarem as estradas E PRENDER OS MANIFSTANTES.\n\nO XANDÃO SABE QUE A ÚN ICA FORMA DE ACIONAR AS FFAA AGORA, É POR CLAMOR POPULAR, LEMBREM DO ARTIGO PRIMEIRO DA CONSTITUIÇÃO:\n\nTODO O PODER EMANA DO POVO.\n\nPORA, ASSISTA COM ATENÇÃO OS VIDEOS QUE VC TEM COLOCADO LÁ NO SEU TELEGRAM.\n\nPORA, ESTÁ TUDO LÁ EXPLICADO TIM-TIM POR TIM-TIM.\n\nVAMOS PARA AS RUAS AGORA, NÃO PODEMOS PERDER TEMPO, O CONGRESSO VAI AGIR AINDA HOJE SE NÃO FIZERMOS NADA.\n\nO MOURÃO JÁ DISSE, NÃO PRECISA NEM PEDIR NADA, BASTA ESTAR NAS RUAS EM PESO, DE FORMA MUITO REPRESENTATIVA, ELES JÁ SABEM O QUE O POVO ESTÁ PEDINDO.\n\nBORA ACABAR COM O COMUNISMO DENTRO DAS 4 LINHAS.\n\nESSA É A ÚNICA FORMA DE FAZER ISSO SEM QUE OCORA QUESTIONAMENTOS OU RETALIAÇÃO DE OUTROS PAÍSES.\n\nENTREM TODOS VOCÊS EM LIVE AGORA, E REPITAM A MESMA COISA:\n\nO PRESIDENTE NÃO VAI SE PRONUNCIAR, ELE JÁ NOS DISSE NESSES 4 ANOS O QUE FAZER.\nIR AS RUAS E RESISTIR, AS FFAA ESTARÃO DE OLHO, AGUARDANDO APENAS ISSO.\n\nMAS TEM QUE IR EM PESO MESMO, TEM QUE SR MAIOR QUE O 7 DE SETEMBRO, POIS TIVEMOS MAIS DE 50 MILHÕES DE ELEITORES, AO MENOS UM TERÇO DISSO TEM QUE ESTAR NAS RUAS AGORA, PARA MOSTRAR REPRESENTATIVIDAE.\n\nMOSTRAR QUE NÃO ACEITAMOS O RESULTADO DAS URNAS.\n\nIMPORTANTE NÃO EXPLICAR O MOTIVO PELO QUAL O PRESIDENTE NÃO PODE SE PRONUNCIAR, SE NÃO AS FFAA NÃO PODERÃO AGIR DENTRO DAS 4 LINHAS.",
         "-0.9996"
        ],
        [
         "25",
         "O capitão já jogou a toalha. Acordem.\nChega de frescura, de mimimi, vão ficar chorando até quando? Chega de frescura, de mimimi, vão ficar chorando até quando? Chega de frescura, de mimimi, vão ficar chorando até quando? Chega de frescura, de mimimi, vão ficar chorando até quando? Chega de frescura, de mimimi, vão ficar chorando até quando? Chega de frescura, de mimimi, vão ficar chorando até quando? Chega de frescura, de mimimi, vão ficar chorando até quando? Chega de frescura, de mimimi, vão ficar chorando até quando? Chega de frescura, de mimimi, vão ficar chorando até quando? Chega de frescura, de mimimi, vão ficar chorando até quando?\nChega de frescura, de mimimi, vão ficar chorando até quando? Chega de frescura, de mimimi, vão ficar chorando até quando? Chega de frescura, de mimimi, vão ficar chorando até quando? Chega de frescura, de mimimi, vão ficar chorando até quando? Chega de frescura, de mimimi, vão ficar chorando até quando? Chega de frescura, de mimimi, vão ficar chorando até quando? Chega de frescura, de mimimi, vão ficar chorando até quando? Chega de frescura, de mimimi, vão ficar chorando até quando? Chega de frescura, de mimimi, vão ficar chorando até quando? Chega de frescura, de mimimi, vão ficar chorando até quando?\nChega de frescura, de mimimi, vão ficar chorando até quando? Chega de frescura, de mimimi, vão ficar chorando até quando? Chega de frescura, de mimimi, vão ficar chorando até quando? Chega de frescura, de mimimi, vão ficar chorando até quando? Chega de frescura, de mimimi, vão ficar chorando até quando? Chega de frescura, de mimimi, vão ficar chorando até quando? Chega de frescura, de mimimi, vão ficar chorando até quando? Chega de frescura, de mimimi, vão ficar chorando até quando? Chega de frescura, de mimimi, vão ficar chorando até quando? Chega de frescura, de mimimi, vão ficar chorando até quando?\nChega de frescura, de mimimi, vão ficar chorando até quando? Chega de frescura, de mimimi, vão ficar chorando até quando? Chega de frescura, de mimimi, vão ficar chorando até quando? Chega de frescura, de mimimi, vão ficar chorando até quando? Chega de frescura, de mimimi, vão ficar chorando até quando? Chega de frescura, de mimimi, vão ficar chorando até quando? Chega de frescura, de mimimi, vão ficar chorando até quando? Chega de frescura, de mimimi, vão ficar chorando até quando? Chega de frescura, de mimimi, vão ficar chorando até quando? Chega de frescura, de mimimi, vão ficar chorando até quando?",
         "-0.9994"
        ],
        [
         "26",
         "EU PAU Ó 🫴🫴🫴🫴🫴🫴🇧🇷🇧🇷🇧🇷🇧🇷🇧🇷🇧🇷🇧🇷ATENÇÃO !!!!!!! 🚨🚨🚨🚨🚨🚨🚨 NAÇÃO BRASILEIRA DE BEM DEFENSORA DA FAMÍLIA CONVOCADA IMEDIATAMENTE PARA PEGAR AQUI NO MEU PAU Ó 🫴🫴🫴🫴🫴🫴🇧🇷🇧🇷🇧🇷🇧🇷🇧🇷🇧🇷🇧🇷ATENÇÃO !!!!!!! 🚨🚨🚨🚨🚨🚨🚨 NAÇÃO BRASILEIRA DE BEM DEFENSORA DA FAMÍLIA CONVOCADA IMEDIATAMENTE PARA PEGAR AQUI NO MEU PAU Ó 🫴🫴🫴🫴🫴🫴🇧🇷🇧🇷🇧🇷🇧🇷🇧🇷🇧🇷🇧🇷ATENÇÃO !!!!!!! 🚨🚨🚨🚨🚨🚨🚨 NAÇÃO BRASILEIRA DE BEM DEFENSORA DA FAMÍLIA CONVOCADA IMEDIATAMENTE PARA PEGAR AQUI NO MEU PAU Ó 🫴🫴🫴🫴🫴🫴🇧🇷🇧🇷🇧🇷🇧🇷🇧🇷🇧🇷🇧🇷ATENÇÃO !!!!!!! 🚨🚨🚨🚨🚨🚨🚨 NAÇÃO BRASILEIRA DE BEM DEFENSORA DA FAMÍLIA CONVOCADA IMEDIATAMENTE PARA PEGAR AQUI NO MEU PAU Ó 🫴🫴🫴🫴🫴🫴🇧🇷🇧🇷🇧🇷🇧🇷🇧🇷🇧🇷🇧🇷ATENÇÃO !!!!!!! 🚨🚨🚨🚨🚨🚨🚨 NAÇÃO BRASILEIRA DE BEM DEFENSORA DA FAMÍLIA CONVOCADA IMEDIATAMENTE PARA PEGAR AQUI NO MEU PAU Ó 🫴🫴🫴🫴🫴🫴🇧🇷🇧🇷🇧🇷🇧🇷🇧🇷🇧🇷🇧🇷ATENÇÃO !!!!!!! 🚨🚨🚨🚨🚨🚨🚨 NAÇÃO BRASILEIRA DE BEM DEFENSORA DA FAMÍLIA CONVOCADA IMEDIATAMENTE PARA PEGAR AQUI NO MEU PAU Ó 🫴🫴🫴🫴🫴🫴🇧🇷🇧🇷🇧🇷🇧🇷🇧🇷🇧🇷🇧🇷ATENÇÃO !!!!!!! 🚨🚨🚨🚨🚨🚨🚨 NAÇÃO BRASILEIRA DE BEM DEFENSORA DA FAMÍLIA CONVOCADA IMEDIATAMENTE PARA PEGAR AQUI NO MEU PAU Ó 🫴🫴🫴🫴🫴🫴🇧🇷🇧🇷🇧🇷🇧🇷🇧🇷🇧🇷🇧🇷ATENÇÃO !!!!!!! 🚨🚨🚨🚨🚨🚨🚨 NAÇÃO BRASILEIRA DE BEM DEFENSORA DA FAMÍLIA CONVOCADA IMEDIATAMENTE PARA PEGAR AQUI NO MEU PAU Ó 🫴🫴🫴🫴🫴🫴🇧🇷🇧🇷🇧🇷🇧🇷🇧🇷🇧🇷🇧🇷ATENÇÃO !!!!!!! 🚨🚨🚨🚨🚨🚨🚨 NAÇÃO BRASILEIRA DE BEM DEFENSORA DA FAMÍLIA CONVOCADA IMEDIATAMENTE PARA PEGAR AQUI NO MEU PAU Ó 🫴🫴🫴🫴🫴🫴🇧🇷🇧🇷🇧🇷🇧🇷🇧🇷🇧🇷🇧🇷ATENÇÃO !!!!!!! 🚨🚨🚨🚨🚨🚨🚨 NAÇÃO BRASILEIRA DE BEM DEFENSORA DA FAMÍLIA CONVOCADA IMEDIATAMENTE PARA PEGAR AQUI NO MEU PAU Ó 🫴🫴🫴🫴🫴🫴🇧🇷🇧🇷🇧🇷🇧🇷🇧🇷🇧🇷🇧🇷ATENÇÃO !!!!!!! 🚨🚨🚨🚨🚨🚨🚨 NAÇÃO BRASILEIRA DE BEM DEFENSORA DA FAMÍLIA CONVOCADA IMEDIATAMENTE PARA PEGAR AQUI NO MEU PAU Ó 🫴🫴🫴🫴🫴🫴🇧🇷🇧🇷🇧🇷🇧🇷🇧🇷🇧🇷🇧🇷ATENÇÃO !!!!!!! 🚨🚨🚨🚨🚨🚨🚨 NAÇÃO BRASILEIRA DE BEM DEFENSORA DA FAMÍLIA CONVOCADA IMEDIATAMENTE PARA PEGAR AQUI NO MEU PAU Ó 🫴🫴🫴🫴🫴🫴🇧🇷🇧🇷🇧🇷🇧🇷🇧🇷🇧🇷🇧🇷ATENÇÃO !!!!!!! 🚨🚨🚨🚨🚨🚨🚨 NAÇÃO BRASILEIRA DE BEM DEFENSORA DA FAMÍLIA CONVOCADA IMEDIATAMENTE PARA PEGAR AQUI NO MEU PAU Ó 🫴🫴🫴🫴🫴🫴🇧🇷🇧🇷🇧🇷🇧🇷🇧🇷🇧🇷🇧🇷ATENÇÃO !!!!!!! 🚨🚨🚨🚨🚨🚨🚨 NAÇÃO BRASILEIRA DE BEM DEFENSORA DA FAMÍLIA CONVOCADA IMEDIATAMENTE PARA PEGAR AQUI NO MEU PAU Ó 🫴🫴🫴🫴🫴🫴🇧🇷🇧🇷🇧🇷🇧🇷🇧🇷🇧🇷🇧🇷ATENÇÃO !!!!!!! 🚨🚨🚨🚨🚨🚨🚨 NAÇÃO BRASILEIRA DE BEM DEFENSORA DA FAMÍLIA CONVOCADA IMEDIATAMENTE PARA PEGAR AQUI NO MEU PAU Ó 🫴🫴🫴🫴🫴🫴🇧🇷🇧🇷🇧🇷🇧🇷🇧🇷🇧🇷🇧🇷ATENÇÃO !!!!!!! 🚨🚨🚨🚨🚨🚨🚨 NAÇÃO BRASILEIRA DE BEM DEFENSORA DA FAMÍLIA CONVOCADA IMEDIATAMENTE PARA PEGAR AQUI NO MEU PAU Ó 🫴🫴🫴🫴🫴🫴🇧🇷🇧🇷🇧🇷🇧🇷🇧🇷🇧🇷🇧🇷ATENÇÃO !!!!!!! 🚨🚨🚨🚨🚨🚨🚨 NAÇÃO BRASILEIRA DE BEM DEFENSORA DA FAMÍLIA CONVOCADA IMEDIATAMENTE PARA PEGAR AQUI NO MEU PAU Ó 🫴🫴🫴🫴🫴🫴🇧🇷🇧🇷🇧🇷🇧🇷🇧🇷🇧🇷🇧🇷ATENÇÃO !!!!!!! 🚨🚨🚨🚨🚨🚨🚨 NAÇÃO BRASILEIRA DE BEM DEFENSORA DA FAMÍLIA CONVOCADA IMEDIATAMENTE PARA PEGAR AQUI NO MEU PAU Ó 🫴🫴🫴🫴🫴🫴🇧🇷🇧🇷🇧🇷🇧🇷🇧🇷🇧🇷🇧🇷ATENÇÃO !!!!!!! 🚨🚨🚨🚨🚨🚨🚨 NAÇÃO BRASILEIRA DE BEM DEFENSORA DA FAMÍLIA CONVOCADA IMEDIATAMENTE PARA PEGAR AQUI NO MEU PAU Ó 🫴🫴🫴🫴🫴🫴🇧🇷🇧🇷🇧🇷🇧🇷🇧🇷🇧🇷🇧🇷ATENÇÃO !!!!!!! 🚨🚨🚨🚨🚨🚨🚨 NAÇÃO BRASILEIRA DE BEM DEFENSORA DA FAMÍLIA CONVOCADA IMEDIATAMENTE PARA PEGAR AQUI NO MEU PAU Ó 🫴🫴🫴🫴🫴🫴🇧🇷🇧🇷🇧🇷🇧🇷🇧🇷🇧🇷🇧🇷ATENÇÃO !!!!!!! 🚨🚨🚨🚨🚨🚨🚨 NAÇÃO BRASILEIRA DE BEM DEFENSORA DA FAMÍLIA CONVOCADA IMEDIATAMENTE PARA PEGAR AQUI NO MEU PAU Ó 🫴🫴🫴🫴🫴🫴🇧🇷🇧🇷🇧🇷🇧🇷🇧🇷🇧🇷🇧🇷ATENÇÃO !!!!!!! 🚨🚨🚨🚨🚨🚨🚨 NAÇÃO BRASILEIRA DE BEM DEFENSORA DA FAMÍLIA CONVOCADA IMEDIATAMENTE PARA PEGAR AQUI NO MEU PAU Ó 🫴🫴🫴🫴🫴🫴🇧🇷🇧🇷🇧🇷🇧🇷🇧🇷🇧🇷🇧🇷ATENÇÃO !!!!!!! 🚨🚨🚨🚨🚨🚨🚨 NAÇÃO BRASILEIRA DE BEM DEFENSORA DA FAMÍLIA CONVOCADA IMEDIATAMENTE PARA PEGAR AQUI NO MEU PAU Ó 🫴🫴🫴🫴🫴🫴🇧🇷🇧🇷🇧🇷🇧🇷🇧🇷🇧🇷🇧🇷ATENÇÃO !!!!!!! 🚨🚨🚨🚨🚨🚨🚨 NAÇÃO BRASILEIRA DE BEM DEFENSORA DA FAMÍLIA CONVOCADA IMEDIATAMENTE PARA PEGAR AQUI NO MEU PAU Ó 🫴🫴🫴🫴🫴🫴🇧🇷🇧🇷🇧🇷🇧🇷🇧",
         "-0.9994"
        ],
        [
         "27",
         "VOU FAZER MELHOR...,VOU TE DAR APNAS 100 MOTIVOS!!...,\n\n(MAS SE AINDA ASSIM TIVER VONTADE DE VOTAR NOS PETRALHAS, PROCURE AJUDA MÉDICA PORQUE SEU CASO DE DESINFORMAÇÃO É EXTREMAMENTE GRAVE!!!)... então, vamos lá:\n\n01) Escândalo do PETROLÃO;\n\n02) Caso Celso Daniel;\n\n03) Caso Toninho do PT;\n\n04) Escândalo dos Grampos;\n\n05) Contra Políticos da Bahia;\n\n06) Escândalo do Propinoduto (também conhecido como Caso Rodrigo Silveirinha);\n\nCPI do Banestado;\n\n07) Escândalo da Suposta Ligação do PT com o MST;\n\n08) Escândalo da Suposta Ligação do PT com a FARC;\n\n09) Escândalo dos Gastos Públicos dos Ministros;\n\n10) Irregularidades do Fome Zero;\n\nEscândalo do DNIT (envolvendo os ministros Anderson Adauto e Sérgio Pimentel);\n\n11) Escândalo do Ministério do Trabalho;\n\nLicitação Para a Compra de Gêneros Básicos;\n\n12) Caso Agnelo Queiroz (O ministro recebeu diárias do COB para os Jogos Panamericanos);\n\n13) Escândalo do Ministério dos Esportes (Uso da estrutura do ministério para organizar a festa de aniversário do ministro Agnelo Queiroz);\n\n14) Operação Anaconda;\n\nEscândalo dos Gafanhotos (ou Máfia dos Gafanhotos);\n\n15) Caso José Eduardo Dutra;\n\nEscândalo dos Frangos (em Roraima);\n\n16) Várias Aberturas de Licitações da Presidência da República Para a Compra de Artigos de Luxo;\n\n17) Escândalo da Norospar (Associação Beneficente de Saúde do Noroeste do Paraná);\n\n18) Expulsão dos Políticos do PT;\n\n19) Escândalo dos Bingos (Primeira grave crise política do governo Lula) (ou Caso Waldomiro Diniz);\n\n20) Lei de Responsabilidade Fiscal (Recuos do governo federal da LRF);\n\n21) Escândalo da ONG Ágora\n\n22) Escândalo dos Copos (Licitação do Governo Federal para a compra de 750 copos de cristal para vinho, champagne, licor e whisky);\n\n23) Caso Henrique Meirelles;\n\n24) Caso Luiz Augusto Candiota (Diretor de Política Monetária do BC, é acusado de movimentar as contas no exterior e demitido por não explicar a movimentação);\n\n25) Caso Cássio Casseb;\n\n26) Caso Kroll;\n\n27) Conselho Federal de Jornalismo;\n\n28) Escândalo dos Vampiros;\n\n29) Escândalo das Fotos de Herzog;\n\n30) Uso dos Assessores dos Ministérios em Campanha Eleitoral de 2004;\n\n31) Escândalo do PTB (Oferecimento do PT para ter apoio do PTB em troca de cargos, material de campanha e R$ 150 mil reais a cada deputado);\n\n32) Caso Antônio Celso Cipriani;\n\nIrregularidades na Bolsa-Escola;\n\n33) Caso Flamarion Portela;\n\n34) Escândalo de Cartões de Crédito Corporativos da Presidência;\n\n35) Irregularidades do Programa Restaurante Popular (Projeto de restaurantes populares beneficia prefeituras administradas pelo PT);\n\n36) Abuso de Medidas Provisórias no Governo Lula entre 2003 e 2004 (mais de 300);\n\n37) Escândalo dos Correios (Segunda grave crise política do governo Lula. Também conhecido como Caso Maurício Marinho);\n\n38) Escândalo do IRB (Escândalo da Novadata);\n\n39) Escândalo da Usina de Itaipu;\n\n40) Escândalo das Furnas;\n\n41) Escândalo do Mensalão (Terceira grave crise política do governo. Também conhecido como Mensalão);\n\n42) Escândalo do Leão & Leão (República de Ribeirão Preto ou Máfia do Lixo ou Caso Leão & Leão);\n\n43) Escândalo da Secom;\n\n44) Esquema de Corrupção no Diretório Nacional do PT;\n\n45) Escândalo do Valerioduto;\n\n46) Escândalo do Brasil Telecom (também conhecido como Escândalo do Portugal Telecom ou Escândalo da Itália Telecom);\n\n47) Escândalo da CPEM;\n\n48) Escândalo da SEBRAE (ou Caso Paulo Okamotto);\n\n49) Caso Marka/FonteCindam;\n\n50) Escândalo dos Dólares na Cueca;\n\n51) Escândalo do Banco Santos;\n\n52) Escândalo Daniel Dantas - Grupo Opportunity (ou Caso Daniel Dantas);\n\n53) Escândalo da Interbrazil;\n\n54) Caso Toninho da Barcelona;\n\n55) Escândalo da Gamecorp-Telemar (ou Caso Lulinha);\n\n56) Caso dos Dólares de Cuba;\n\n57) Doação de Terninhos da Marísia da Silva (esposa do presidente Lula);\n\n58) Escândalo da Nossa Caixa;\n\n59) Escândalo da Quebra do Sigilo Bancário do Caseiro Francenildo (Quarta grave crise política do governo Lula. Também conhecido como Caso Francenildo Santos Costa);\n\n60) Escândalo das Cartilhas do PTEscândalo do Banco BMG (Empréstimos para aposentados);",
         "-0.9993"
        ],
        [
         "28",
         "*Leandro Ruschel:*\n\nO curioso caso do presidente que elege todos os seus candidatos, mas não confirma o mesmo número de votos para ele mesmo...\n\n*Agora o PRESIDENTE BOLSONARO que me dá vontade de chamar de MENTIROSO E CUMPLICE DA IMPLANTAÇÃO DESTA FRAUDE ELEITORAL guarda o silêncio FICANDO CALADO diante do inaceitavel?*\n\n*Cadê as acoes energicas deste Presidente JB para PARAR COM ESSA MALDITA FRAUDE ELEITORAL NESTE TENEBROSO ANO DESGRAÇADO DE 2022 DESCARADA DOS DONOS DESTE SISTEMA SATANISTA, CORRUPTO, FEUDALISTA, DITATORIAL E TOTALITARIO COMUNISTA-NAZI-FASCISTA????*\n\n*NOS PODEMOS O MESMO DO PR. BOLSONARO AGORA NESTE 2022 PORQUE AS ELEIÇÕES FORAM FRAUDADAS NO BRAZIL.*\n\n*O PRESIDENTE JB QUE DEIXOU OS TERRORISTAS COMUNISTA-NAZI-FASCISTAS LAVAREM A CABEÇA LAVADA PELO CHOQUE E TRAUMA QUE RESULTOU NA TIRANIA PESADA VIA COVID-FARSA DEIXANDO QUE A FORMAÇÃO DA PSICOSE EM MASSA ACONTECESSE NO BRASIL E O POVO BRASILEIRO NÃO CONSEGUE REAGIR COM INTELIGENCIA & ORGANIZAÇÃO PARA SALVAR & LIVRAR A VIDA DE SUAS PROPRIAS FAMILIAS DESTE INFERNO COMUNISTA-NAZI-FASCISTA DITATORIAL TOTALITARIO!*\n\n*David Knight:*\n\nTrump foi o PRODUTOR DO Pagadores da Farsa-Covid, FAUCI o DIRETOR dos produtores que proveram o dinheiro e CONTRATOU/MANTEVE aqueles que fizeram o filme.\n\nDesculpem, mas eu não tenho nenhuma causa em comum com o Trump que TRAIU O POVO AMERICANO E TRAIU OS EUA COM \"FECHAS-TUDO\", \" Negocios/Emprego \"Essenciais\", e PELAS VAXINAS PARA \" MUDAR\" O CODIGO GENETICO DA HUMANIDADE, TUDO QUE PERMITIU QUE OS DEMÔNIOS PUDESSEM ERGUER OS FUNDAMENTOS DA FRAUDE ELEITORAL DOS VOTOS PELO CORREIO COM AS REGRAS SUJAS DA FARSA-COVID.\n\nEntão existe uma Bandeira Vermelha para fazer \"Confisco/Roubo de armas primeiro sem o devido processo legal, para depois fazer o Processo legal com a Ordem Executiva do \"Bump Stock\" do Trump.\n\nEspiões e os Lideres da Quinta Coluna são mais perigosos do que aqueles que abertamente se declaram como os Inimigos do Povo.\n\nhttps://gab.com/DavidKnightShow/posts/108794319984159182\n\n*Parece que o David Knight está falando e criticando os IDOLATRAS ADORADORES CEGOS do Presidente Bolsonaro e o sobre as ações do proprio Pr.JB que fez o mesmo que o Trump assinou a Inconstitucional e Ilegal Lei 13.979 que foi planejada dentro do Poder Executivo chefiado pelo Presidente Bolsonaro aprovado pelo Congresso tomado pelos Comunista-Nazi-Fascistas com toda propriedade sobre com toda a razão com essa critica bem feita abaixo a respeito do Trump e dos Imbecis que ainda acreditam no Falso Idolo Patetico que o Trump se tornou:*\n\n*David Knight:*\n\nO CULTO E A ADORAÇÃO IDOLATRA do heroi MAIS PATETICO e de UM FALSO IDOLO:\n\n\"Trump é, como ele era em 2016, a ultima chance da Republica Americana.\"\n\nPara os Idolatras Cegos do Trump como JD, OS ULTIMOS 900 DIAS DO #FECHA-TUDO (QUARENTENAS), Trump esbanjou dando um puta de um DINHEIRAO para os Tiranos como Newson,Cuomo e outros para TIRANIZAR, ESCRAVIZAR E ASSASSINAR O POVO E QUE MANDOU AS INJECOES TOXICAS DO mRNA Covid-Farsa para COMEÇAR A CHIPAR,ADOECER GRAVEMENTE, EXTERMINAR SERES HUMANOS INOCENTES TAPEADOS PELA IMPRENSALHA-MIDIA-MERDIA E REDUZIR 90% DA POPULAÇÃO LENTAMENTE COMO SE FAZEM COM OS RATOS EM TODO O MUNDO E SE GABANDO SOBRE ESTA ESCRAVIZACAO E GENOCIDIO EM MASSA -- APARENTEMENTE NUNCA ACONTECERAM.\n\nJD, se você nunca ouviu ou assistiu os meus podcasts você nunca aprendeu NADA se você ainda perde o seu tempo ADORANDO E TORCENDO ainda a favor deste NARCISISTA E DEMOGOGO GANANCIOSO. EM 2016 TRUMP MERECEU UMA CHANCE. NÃO HOJE.\n\nAs pessoas tão CEGADAS por seu Parcialismo Partidario que elas arrumam qualquer desculpa e justificativa furada para QUALQUER E TODOS OS ABUSOS QUE ESTAO MATANDO A REPUBLICA AMERICANA.\n\nhttps://gab.com/DavidKnightShow/posts/108794217900701848",
         "-0.9993"
        ],
        [
         "29",
         "INTERVENÇÃO É MEU PAU NA TUA MÃO!!\n\nINTERVENÇÃO É MEU PAU NA TUA MÃO!!\n\nINTERVENÇÃO É MEU PAU NA TUA MÃO!!\n\nINTERVENÇÃO É MEU PAU NA TUA MÃO!!\n\nINTERVENÇÃO É MEU PAU NA TUA MÃO!!\n\nINTERVENÇÃO É MEU PAU NA TUA MÃO!!\n\nINTERVENÇÃO É MEU PAU NA TUA MÃO!!\n\nINTERVENÇÃO É MEU PAU NA TUA MÃO!!\n\nINTERVENÇÃO É MEU PAU NA TUA MÃO!!\n\nINTERVENÇÃO É MEU PAU NA TUA MÃO!!\n\nINTERVENÇÃO É MEU PAU NA TUA MÃO!!\n\nINTERVENÇÃO É MEU PAU NA TUA MÃO!!\n\nINTERVENÇÃO É MEU PAU NA TUA MÃO!!\n\nINTERVENÇÃO É MEU PAU NA TUA MÃO!!\n\nINTERVENÇÃO É MEU PAU NA TUA MÃO!!\n\nINTERVENÇÃO É MEU PAU NA TUA MÃO!!\n\nINTERVENÇÃO É MEU PAU NA TUA MÃO!!\n\nINTERVENÇÃO É MEU PAU NA TUA MÃO!!\n\nINTERVENÇÃO É MEU PAU NA TUA MÃO!!\n\nINTERVENÇÃO É MEU PAU NA TUA MÃO!!\n\nINTERVENÇÃO É MEU PAU NA TUA MÃO!!\n\nINTERVENÇÃO É MEU PAU NA TUA MÃO!!\n\nINTERVENÇÃO É MEU PAU NA TUA MÃO!!\n\nINTERVENÇÃO É MEU PAU NA TUA MÃO!!\n\nINTERVENÇÃO É MEU PAU NA TUA MÃO!!\n\nINTERVENÇÃO É MEU PAU NA TUA MÃO!!\n\nINTERVENÇÃO É MEU PAU NA TUA MÃO!!\n\nINTERVENÇÃO É MEU PAU NA TUA MÃO!!\n\nINTERVENÇÃO É MEU PAU NA TUA MÃO!!\n\nINTERVENÇÃO É MEU PAU NA TUA MÃO!!\n\nINTERVENÇÃO É MEU PAU NA TUA MÃO!!\n\nINTERVENÇÃO É MEU PAU NA TUA MÃO!!\n\nINTERVENÇÃO É MEU PAU NA TUA MÃO!!\n\nINTERVENÇÃO É MEU PAU NA TUA MÃO!!\n\nINTERVENÇÃO É MEU PAU NA TUA MÃO!!\n\nINTERVENÇÃO É MEU PAU NA TUA MÃO!!\n\nINTERVENÇÃO É MEU PAU NA TUA MÃO!!\n\nINTERVENÇÃO É MEU PAU NA TUA MÃO!!\n\nINTERVENÇÃO É MEU PAU NA TUA MÃO!!\n\nINTERVENÇÃO É MEU PAU NA TUA MÃO!!\n\nINTERVENÇÃO É MEU PAU NA TUA MÃO!!\n\nINTERVENÇÃO É MEU PAU NA TUA MÃO!!",
         "-0.9992"
        ]
       ],
       "shape": {
        "columns": 2,
        "rows": 30
       }
      },
      "text/html": [
       "<div>\n",
       "<style scoped>\n",
       "    .dataframe tbody tr th:only-of-type {\n",
       "        vertical-align: middle;\n",
       "    }\n",
       "\n",
       "    .dataframe tbody tr th {\n",
       "        vertical-align: top;\n",
       "    }\n",
       "\n",
       "    .dataframe thead th {\n",
       "        text-align: right;\n",
       "    }\n",
       "</style>\n",
       "<table border=\"1\" class=\"dataframe\">\n",
       "  <thead>\n",
       "    <tr style=\"text-align: right;\">\n",
       "      <th></th>\n",
       "      <th>text_content_anonymous</th>\n",
       "      <th>score_sentiment</th>\n",
       "    </tr>\n",
       "  </thead>\n",
       "  <tbody>\n",
       "    <tr>\n",
       "      <th>0</th>\n",
       "      <td>CAPITÃOZINHO DE MERDA 💩\\nCAPITÃOZINHO DE MERDA...</td>\n",
       "      <td>-1.0000</td>\n",
       "    </tr>\n",
       "    <tr>\n",
       "      <th>1</th>\n",
       "      <td>ai ta na rua da um joinha 👍Quem ai ta na rua d...</td>\n",
       "      <td>-0.9999</td>\n",
       "    </tr>\n",
       "    <tr>\n",
       "      <th>2</th>\n",
       "      <td>Intervenção é meu pau na tua mão\\nIntervenção ...</td>\n",
       "      <td>-0.9999</td>\n",
       "    </tr>\n",
       "    <tr>\n",
       "      <th>3</th>\n",
       "      <td>ME CÚ NO PAU DO BOLSONARO \\nME CÚ NO PAU DO BO...</td>\n",
       "      <td>-0.9999</td>\n",
       "    </tr>\n",
       "    <tr>\n",
       "      <th>4</th>\n",
       "      <td>Gente, a Zambelli nos abandonou! Traiu a nossa...</td>\n",
       "      <td>-0.9999</td>\n",
       "    </tr>\n",
       "    <tr>\n",
       "      <th>5</th>\n",
       "      <td>E nós aqui nos sacrificando, aguentando sol, c...</td>\n",
       "      <td>-0.9999</td>\n",
       "    </tr>\n",
       "    <tr>\n",
       "      <th>6</th>\n",
       "      <td>Intervenção é meu pau na tua mão\\nIntervenção ...</td>\n",
       "      <td>-0.9999</td>\n",
       "    </tr>\n",
       "    <tr>\n",
       "      <th>7</th>\n",
       "      <td>fraude fraude fraude fraude fraude fraude frau...</td>\n",
       "      <td>-0.9999</td>\n",
       "    </tr>\n",
       "    <tr>\n",
       "      <th>8</th>\n",
       "      <td>ai ta na rua da um joinha 👍Quem ai ta na rua d...</td>\n",
       "      <td>-0.9998</td>\n",
       "    </tr>\n",
       "    <tr>\n",
       "      <th>9</th>\n",
       "      <td>na rua da um joinha 👍Quem ai ta na rua da um j...</td>\n",
       "      <td>-0.9998</td>\n",
       "    </tr>\n",
       "    <tr>\n",
       "      <th>10</th>\n",
       "      <td>inha 👍Quem ai ta na rua da um joinha 👍Quem ai ...</td>\n",
       "      <td>-0.9998</td>\n",
       "    </tr>\n",
       "    <tr>\n",
       "      <th>11</th>\n",
       "      <td>na rua da um joinha 👍Quem ai ta na rua da um j...</td>\n",
       "      <td>-0.9998</td>\n",
       "    </tr>\n",
       "    <tr>\n",
       "      <th>12</th>\n",
       "      <td>a na rua da um joinha 👍Quem ai ta na rua da um...</td>\n",
       "      <td>-0.9998</td>\n",
       "    </tr>\n",
       "    <tr>\n",
       "      <th>13</th>\n",
       "      <td>ha 👍Quem ai ta na rua da um joinha 👍Quem ai ta...</td>\n",
       "      <td>-0.9998</td>\n",
       "    </tr>\n",
       "    <tr>\n",
       "      <th>14</th>\n",
       "      <td>Quem ai ta na rua da um joinha 👍Quem ai ta na ...</td>\n",
       "      <td>-0.9998</td>\n",
       "    </tr>\n",
       "    <tr>\n",
       "      <th>15</th>\n",
       "      <td>ta na rua da um joinha 👍Quem ai ta na rua da u...</td>\n",
       "      <td>-0.9998</td>\n",
       "    </tr>\n",
       "    <tr>\n",
       "      <th>16</th>\n",
       "      <td>a rua da um joinha 👍Quem ai ta na rua da um jo...</td>\n",
       "      <td>-0.9998</td>\n",
       "    </tr>\n",
       "    <tr>\n",
       "      <th>17</th>\n",
       "      <td>a rua da um joinha 👍Quem ai ta na rua da um jo...</td>\n",
       "      <td>-0.9998</td>\n",
       "    </tr>\n",
       "    <tr>\n",
       "      <th>18</th>\n",
       "      <td>Sobre a morte como política global e a necessi...</td>\n",
       "      <td>-0.9998</td>\n",
       "    </tr>\n",
       "    <tr>\n",
       "      <th>19</th>\n",
       "      <td>a rua da um joinha 👍Quem ai ta na rua da um jo...</td>\n",
       "      <td>-0.9998</td>\n",
       "    </tr>\n",
       "    <tr>\n",
       "      <th>20</th>\n",
       "      <td>nha 👍Quem ai ta na rua da um joinha 👍Quem ai t...</td>\n",
       "      <td>-0.9998</td>\n",
       "    </tr>\n",
       "    <tr>\n",
       "      <th>21</th>\n",
       "      <td>OS COVARDES E ANTI PATRIOTAS BOLSONARISTAS\\n\\n...</td>\n",
       "      <td>-0.9997</td>\n",
       "    </tr>\n",
       "    <tr>\n",
       "      <th>22</th>\n",
       "      <td>OS COVARDES E ANTI PATRIOTAS BOLSONARISTAS\\n\\n...</td>\n",
       "      <td>-0.9997</td>\n",
       "    </tr>\n",
       "    <tr>\n",
       "      <th>23</th>\n",
       "      <td>FRAUDE FRAUDE FRAUDE FRAUDE FRAUDE FRAUDE FRAU...</td>\n",
       "      <td>-0.9996</td>\n",
       "    </tr>\n",
       "    <tr>\n",
       "      <th>24</th>\n",
       "      <td>Precisamos nos unir imediatamente, todos os ca...</td>\n",
       "      <td>-0.9996</td>\n",
       "    </tr>\n",
       "    <tr>\n",
       "      <th>25</th>\n",
       "      <td>O capitão já jogou a toalha. Acordem.\\nChega d...</td>\n",
       "      <td>-0.9994</td>\n",
       "    </tr>\n",
       "    <tr>\n",
       "      <th>26</th>\n",
       "      <td>EU PAU Ó 🫴🫴🫴🫴🫴🫴🇧🇷🇧🇷🇧🇷🇧🇷🇧🇷🇧🇷🇧🇷ATENÇÃO !!!!!!! 🚨...</td>\n",
       "      <td>-0.9994</td>\n",
       "    </tr>\n",
       "    <tr>\n",
       "      <th>27</th>\n",
       "      <td>VOU FAZER MELHOR...,VOU TE DAR APNAS 100 MOTIV...</td>\n",
       "      <td>-0.9993</td>\n",
       "    </tr>\n",
       "    <tr>\n",
       "      <th>28</th>\n",
       "      <td>*Leandro Ruschel:*\\n\\nO curioso caso do presid...</td>\n",
       "      <td>-0.9993</td>\n",
       "    </tr>\n",
       "    <tr>\n",
       "      <th>29</th>\n",
       "      <td>INTERVENÇÃO É MEU PAU NA TUA MÃO!!\\n\\nINTERVEN...</td>\n",
       "      <td>-0.9992</td>\n",
       "    </tr>\n",
       "  </tbody>\n",
       "</table>\n",
       "</div>"
      ],
      "text/plain": [
       "                               text_content_anonymous  score_sentiment\n",
       "0   CAPITÃOZINHO DE MERDA 💩\\nCAPITÃOZINHO DE MERDA...          -1.0000\n",
       "1   ai ta na rua da um joinha 👍Quem ai ta na rua d...          -0.9999\n",
       "2   Intervenção é meu pau na tua mão\\nIntervenção ...          -0.9999\n",
       "3   ME CÚ NO PAU DO BOLSONARO \\nME CÚ NO PAU DO BO...          -0.9999\n",
       "4   Gente, a Zambelli nos abandonou! Traiu a nossa...          -0.9999\n",
       "5   E nós aqui nos sacrificando, aguentando sol, c...          -0.9999\n",
       "6   Intervenção é meu pau na tua mão\\nIntervenção ...          -0.9999\n",
       "7   fraude fraude fraude fraude fraude fraude frau...          -0.9999\n",
       "8   ai ta na rua da um joinha 👍Quem ai ta na rua d...          -0.9998\n",
       "9   na rua da um joinha 👍Quem ai ta na rua da um j...          -0.9998\n",
       "10  inha 👍Quem ai ta na rua da um joinha 👍Quem ai ...          -0.9998\n",
       "11  na rua da um joinha 👍Quem ai ta na rua da um j...          -0.9998\n",
       "12  a na rua da um joinha 👍Quem ai ta na rua da um...          -0.9998\n",
       "13  ha 👍Quem ai ta na rua da um joinha 👍Quem ai ta...          -0.9998\n",
       "14  Quem ai ta na rua da um joinha 👍Quem ai ta na ...          -0.9998\n",
       "15  ta na rua da um joinha 👍Quem ai ta na rua da u...          -0.9998\n",
       "16  a rua da um joinha 👍Quem ai ta na rua da um jo...          -0.9998\n",
       "17  a rua da um joinha 👍Quem ai ta na rua da um jo...          -0.9998\n",
       "18  Sobre a morte como política global e a necessi...          -0.9998\n",
       "19  a rua da um joinha 👍Quem ai ta na rua da um jo...          -0.9998\n",
       "20  nha 👍Quem ai ta na rua da um joinha 👍Quem ai t...          -0.9998\n",
       "21  OS COVARDES E ANTI PATRIOTAS BOLSONARISTAS\\n\\n...          -0.9997\n",
       "22  OS COVARDES E ANTI PATRIOTAS BOLSONARISTAS\\n\\n...          -0.9997\n",
       "23  FRAUDE FRAUDE FRAUDE FRAUDE FRAUDE FRAUDE FRAU...          -0.9996\n",
       "24  Precisamos nos unir imediatamente, todos os ca...          -0.9996\n",
       "25  O capitão já jogou a toalha. Acordem.\\nChega d...          -0.9994\n",
       "26  EU PAU Ó 🫴🫴🫴🫴🫴🫴🇧🇷🇧🇷🇧🇷🇧🇷🇧🇷🇧🇷🇧🇷ATENÇÃO !!!!!!! 🚨...          -0.9994\n",
       "27  VOU FAZER MELHOR...,VOU TE DAR APNAS 100 MOTIV...          -0.9993\n",
       "28  *Leandro Ruschel:*\\n\\nO curioso caso do presid...          -0.9993\n",
       "29  INTERVENÇÃO É MEU PAU NA TUA MÃO!!\\n\\nINTERVEN...          -0.9992"
      ]
     },
     "metadata": {},
     "output_type": "display_data"
    }
   ],
   "source": [
    "mensagens_mais_negativas = conn.execute(\"\"\"\n",
    "    WITH mensagens_unicas AS (\n",
    "    SELECT\n",
    "        text_content_anonymous,\n",
    "        score_sentiment,\n",
    "        ROW_NUMBER() OVER (PARTITION BY text_content_anonymous ORDER BY score_sentiment ASC) AS rn\n",
    "    FROM tabela_dados\n",
    "    WHERE\n",
    "        text_content_anonymous IS NOT NULL\n",
    "        AND TRIM(text_content_anonymous) <> ''\n",
    "        AND score_sentiment IS NOT NULL\n",
    "    )\n",
    "    SELECT\n",
    "        text_content_anonymous,\n",
    "        score_sentiment\n",
    "    FROM mensagens_unicas\n",
    "    WHERE rn = 1\n",
    "    ORDER BY score_sentiment ASC\n",
    "    LIMIT 30;\n",
    "\"\"\").fetchdf()\n",
    "\n",
    "display(mensagens_mais_negativas)"
   ]
  },
  {
   "cell_type": "markdown",
   "id": "dfa6c2ca",
   "metadata": {},
   "source": [
    "---"
   ]
  },
  {
   "cell_type": "markdown",
   "id": "baff1c59",
   "metadata": {},
   "source": [
    "#### **24**.  O usuário mais otimista"
   ]
  },
  {
   "cell_type": "markdown",
   "id": "1c4701fd",
   "metadata": {},
   "source": [
    "Aqui eu considerei apenas mensagens com `score_sentiment` válido e calculei a média de sentimento por usuário. Depois, selecionei o usuário com a maior média de sentimento entre todos — ou seja, aquele que mais compartilhou mensagens positivas em média."
   ]
  },
  {
   "cell_type": "code",
   "execution_count": 37,
   "id": "0d24bdec",
   "metadata": {},
   "outputs": [
    {
     "data": {
      "application/vnd.microsoft.datawrangler.viewer.v0+json": {
       "columns": [
        {
         "name": "index",
         "rawType": "int64",
         "type": "integer"
        },
        {
         "name": "usuario",
         "rawType": "object",
         "type": "string"
        },
        {
         "name": "media_sentimento",
         "rawType": "float64",
         "type": "float"
        },
        {
         "name": "total_mensagens",
         "rawType": "int64",
         "type": "integer"
        }
       ],
       "conversionMethod": "pd.DataFrame",
       "ref": "9eaa81cb-7459-4894-bac3-90a3a00d0069",
       "rows": [
        [
         "0",
         "1fc0ac9b3146dcb0d573f25db3d3ba55",
         "0.995",
         "1"
        ]
       ],
       "shape": {
        "columns": 3,
        "rows": 1
       }
      },
      "text/html": [
       "<div>\n",
       "<style scoped>\n",
       "    .dataframe tbody tr th:only-of-type {\n",
       "        vertical-align: middle;\n",
       "    }\n",
       "\n",
       "    .dataframe tbody tr th {\n",
       "        vertical-align: top;\n",
       "    }\n",
       "\n",
       "    .dataframe thead th {\n",
       "        text-align: right;\n",
       "    }\n",
       "</style>\n",
       "<table border=\"1\" class=\"dataframe\">\n",
       "  <thead>\n",
       "    <tr style=\"text-align: right;\">\n",
       "      <th></th>\n",
       "      <th>usuario</th>\n",
       "      <th>media_sentimento</th>\n",
       "      <th>total_mensagens</th>\n",
       "    </tr>\n",
       "  </thead>\n",
       "  <tbody>\n",
       "    <tr>\n",
       "      <th>0</th>\n",
       "      <td>1fc0ac9b3146dcb0d573f25db3d3ba55</td>\n",
       "      <td>0.995</td>\n",
       "      <td>1</td>\n",
       "    </tr>\n",
       "  </tbody>\n",
       "</table>\n",
       "</div>"
      ],
      "text/plain": [
       "                            usuario  media_sentimento  total_mensagens\n",
       "0  1fc0ac9b3146dcb0d573f25db3d3ba55             0.995                1"
      ]
     },
     "metadata": {},
     "output_type": "display_data"
    }
   ],
   "source": [
    "user_otimista = conn.execute(\"\"\"\n",
    "    SELECT\n",
    "    id_member_anonymous AS usuario,\n",
    "    ROUND(AVG(score_sentiment), 3) AS media_sentimento,\n",
    "    COUNT(*) AS total_mensagens\n",
    "    FROM tabela_dados\n",
    "    WHERE\n",
    "        id_member_anonymous IS NOT NULL\n",
    "        AND score_sentiment IS NOT NULL\n",
    "    GROUP BY id_member_anonymous\n",
    "    ORDER BY media_sentimento DESC\n",
    "    LIMIT 1;\n",
    "\"\"\").fetchdf()\n",
    "\n",
    "display(user_otimista)"
   ]
  },
  {
   "cell_type": "markdown",
   "id": "52b67289",
   "metadata": {},
   "source": [
    "---"
   ]
  },
  {
   "cell_type": "markdown",
   "id": "544318ad",
   "metadata": {},
   "source": [
    "#### **25**. O usuário mais pessimista"
   ]
  },
  {
   "cell_type": "markdown",
   "id": "e97b2ba5",
   "metadata": {},
   "source": [
    "Igual à versão do otimista, mas agora com `ORDER BY ASC` para pegar quem tem a média mais baixa de sentimento. Também limita a apenas um resultado, ou seja, o mais pessimista."
   ]
  },
  {
   "cell_type": "code",
   "execution_count": 40,
   "id": "041c6e02",
   "metadata": {},
   "outputs": [
    {
     "data": {
      "application/vnd.microsoft.datawrangler.viewer.v0+json": {
       "columns": [
        {
         "name": "index",
         "rawType": "int64",
         "type": "integer"
        },
        {
         "name": "usuario",
         "rawType": "object",
         "type": "string"
        },
        {
         "name": "media_sentimento",
         "rawType": "float64",
         "type": "float"
        },
        {
         "name": "total_mensagens",
         "rawType": "int64",
         "type": "integer"
        }
       ],
       "conversionMethod": "pd.DataFrame",
       "ref": "30f80254-b84e-42f3-81c6-123966faf044",
       "rows": [
        [
         "0",
         "243a43d802953032e1ea9a363546c3b8",
         "-0.999",
         "1"
        ]
       ],
       "shape": {
        "columns": 3,
        "rows": 1
       }
      },
      "text/html": [
       "<div>\n",
       "<style scoped>\n",
       "    .dataframe tbody tr th:only-of-type {\n",
       "        vertical-align: middle;\n",
       "    }\n",
       "\n",
       "    .dataframe tbody tr th {\n",
       "        vertical-align: top;\n",
       "    }\n",
       "\n",
       "    .dataframe thead th {\n",
       "        text-align: right;\n",
       "    }\n",
       "</style>\n",
       "<table border=\"1\" class=\"dataframe\">\n",
       "  <thead>\n",
       "    <tr style=\"text-align: right;\">\n",
       "      <th></th>\n",
       "      <th>usuario</th>\n",
       "      <th>media_sentimento</th>\n",
       "      <th>total_mensagens</th>\n",
       "    </tr>\n",
       "  </thead>\n",
       "  <tbody>\n",
       "    <tr>\n",
       "      <th>0</th>\n",
       "      <td>243a43d802953032e1ea9a363546c3b8</td>\n",
       "      <td>-0.999</td>\n",
       "      <td>1</td>\n",
       "    </tr>\n",
       "  </tbody>\n",
       "</table>\n",
       "</div>"
      ],
      "text/plain": [
       "                            usuario  media_sentimento  total_mensagens\n",
       "0  243a43d802953032e1ea9a363546c3b8            -0.999                1"
      ]
     },
     "metadata": {},
     "output_type": "display_data"
    }
   ],
   "source": [
    "user_pessimista = conn.execute(\"\"\"\n",
    "    SELECT\n",
    "    id_member_anonymous AS usuario,\n",
    "    ROUND(AVG(score_sentiment), 3) AS media_sentimento,\n",
    "    COUNT(*) AS total_mensagens\n",
    "    FROM tabela_dados\n",
    "    WHERE\n",
    "        id_member_anonymous IS NOT NULL\n",
    "        AND score_sentiment IS NOT NULL\n",
    "    GROUP BY id_member_anonymous\n",
    "    ORDER BY media_sentimento ASC\n",
    "    LIMIT 1;\n",
    "\"\"\").fetchdf()\n",
    "\n",
    "display(user_pessimista)"
   ]
  },
  {
   "cell_type": "markdown",
   "id": "29bf7489",
   "metadata": {},
   "source": [
    "---"
   ]
  },
  {
   "cell_type": "markdown",
   "id": "f5257506",
   "metadata": {},
   "source": [
    "#### **26**. As 30 maiores mensagens"
   ]
  },
  {
   "cell_type": "markdown",
   "id": "d135b0b5",
   "metadata": {},
   "source": [
    "Filtrei apenas mensagens válidas (não nulas e não vazias), calculei o tamanho de cada uma com `LENGTH()` e ordenei da maior para a menor. No final, selecionei as 30 maiores mensagens em número de caracteres."
   ]
  },
  {
   "cell_type": "code",
   "execution_count": 41,
   "id": "39d52645",
   "metadata": {},
   "outputs": [
    {
     "data": {
      "application/vnd.microsoft.datawrangler.viewer.v0+json": {
       "columns": [
        {
         "name": "index",
         "rawType": "int64",
         "type": "integer"
        },
        {
         "name": "text_content_anonymous",
         "rawType": "object",
         "type": "string"
        },
        {
         "name": "tamanho",
         "rawType": "int64",
         "type": "integer"
        }
       ],
       "conversionMethod": "pd.DataFrame",
       "ref": "f2ac9007-63be-44ee-8815-4f432d3e7c51",
       "rows": [
        [
         "0",
         "Trecho do livro “Prática da Conspiração A Agenda Maligna” (Parte 2)\n\nRecado De Um Illuminati\n\n       – Há séculos, manipulamos e controlamos as pessoas para que trabalhem para nós, mesmo sem saberem. Acordam cedo diariamente e passam várias horas do dia trabalhando para os seus chefes, que trabalham para os seus superiores, que também trabalham para nós... Desperdiçam anos de suas vidas se esforçando, se estressando, envelhecendo mal e adoecendo aos poucos, enquanto lhes damos esperanças de uma vida melhor permitindo que alguns consigam sucesso. Deixamo-nos pensar que são felizes, para que não percebam que são apenas cobaias e escravos, e, que na verdade passarão a vida toda ganhando uma mixaria de salário; salário esse que acabam tendo que gastar mais que a metade só com impostos; impostos esses que nos pertencem. E o que sobra, torram nos finais de semana ou em algum feriado com seus familiares e amigos; bebendo e comemorando a vida medíocre têm... As massas não sabem que são dependentes de nós e vivem como gados, enquanto os assistimos e os observamos sem que eles saibam. Os mantemos ocupados com seus afazeres e os distraímos com pão e circo; redes sociais, “Reality Shows”, novelas, futebol, desenhos... São volúveis, maleáveis, manipuláveis; os direcionamos facilmente para onde quisermos, ludibriando-os, enganando-os, fazendo-os acreditar que a ficção é a realidade, e a realidade, ficção. E aqueles que são despertos e descobrem os nossos planos, são ridicularizados pela maioria sendo chamados de Teóricos da Conspiração”. Nós é que escolhemos o que as pessoas devem aprender nas escolas e nas universidades. Nós, a Elite Suprema, escolhemos quais remédios eles devem tomar, os tipos de energia e combustível que devem usar. Nós é que escolhemos e selecionamos os políticos em que eles devem votar; revezando-os a cada certo período entre esquerda, direita ou centro; lhes apresentando sempre, principalmente em época de eleição, um Líder Carismático que os faça acreditar que tudo mudará para melhor; mas na verdade, esses líderes fazem exatamente o que mandamos e tudo permanece do jeito que planejamos enquanto o povo se digladia achando que o seu lado é o melhor... Trabalhamos arduamente por várias décadas cumprindo cada etapa da Agenda para erguer e inaugurar uma Nova Ordem Secular; preparar o caminho para o nosso Líder Absoluto. Porém, esse sonho tem sido adiado por uma força maior. Tentamos de várias formas reduzir a população mundial criando várias doenças como o câncer, a diabetes, a AIDS e várias doenças venéreas. Criamos e provocamos guerras, pandemias, vacinas, liberamos o aborto em mais de cem países, fizemos homens e mulheres se odiarem. Mas mesmo assim eles continuaram procriando como insetos!; contaminando e poluindo o ecossistema cada vez mais... A população mundial atual passa de oito bilhões. Precisamos diminuir esse número drasticamente, pois eles ainda são muitos e podem se levantar contra nós. Por isso, tomamos a decisão definitiva de causar o maior caos de todos os tempos começando com a pandemia do HFZN, o vírus mais letal e contagioso que já criamos. E em breve,... haverá vários terremotos, furacões, tsunamis; e também uma 3ª Guerra Mundial. É o mal necessário para eliminar os desnecessários. Não precisamos mais deles, nossas máquinas farão seus trabalhos... Bilhões de pessoas nem sabem que estarão mortas em breve e que não farão parte dessa Nova Era que se aproxima. E mesmo que não atinjamos a meta de diminuição demográfica, os que sobreviverem estarão tão assustados, acuados, que clamarão de joelhos por um salvador. Então, o nosso Princimatuz se manifestará gloriosamente para todo o mundo, trazendo a paz e a solução para todos os problemas. Nesse novo mundo, nessa Nova Era, todos terão paz e segurança; e adorarão e servirão ao Príncipe Mundial... E nós, a realeza, a nobreza, viveremos juntos e harmoniosamente em um mundo sem poluição, sem doenças, sem crenças e religiões equivocadas e culturas nojentas e desnecessárias; livres daqueles que são um câncer para este mundo.\nhttps://t.me/tgpraticadaconspiracao",
         "4096"
        ],
        [
         "1",
         "CCCCCCCCCCCCCCCCCCCCCCCHHHHHHHHHHHHHHHHHHHHHOOOOOOOOOOOOOOOOOOOOOORRRRRRRRRRRRRRRRRRRRRRRRAAAAAAAAÁAAAAAAAAAAAAAA\n\nESQUERDALHAAAAAAAAAAAAA\n😂😂😂😂😂😂😂😂😂😂😂😂😂😂😂😂😂😂😂😂😂😂😂😂😂😂😂😂😂😂😂😂😂😂😂😂😂😂😂😂😂😂😂😂😂😂😂😂😂😂😂😂😂😂😂😂😂😂😂😂\n\nJÁ ESTAMOS DE OLHOS NOS PLANOS DE VOCÊS SABEMOS DOS GRUPOS FAKE \n😂😂😂😂😂😂😂😂😂😂😂😂😂😂😂😂😂😂😂😂😂😂😂😂\n\nESTAMOS EM TODOS OS SEUS GRUPOS VENDO CADA PASSO DE  VOCÊS \n😂😂😂😂😂😂😂😂😂😂😂😂\n\n22 22 22 22 22 22 22 22 22 22 22 22 22 22 22 22 22 22 22 22 22 22 22 22 22 22 22 22 22 22 22 22 22 22 22 22 22 22 22\n\n22 22 22 22 22 22 22 22 22 22 22 22 22 22 22 22 22 22 22 22 22 22 22 22 22 22 22 22 22 22 \n22 22 22 22 22 22 22 22 22 22 22 22 22 22 22 22 22 22 22 22 22 22 22 22 22 22 22 22 22 \n22 22 22 22 22 22 22 22 22 22 22 22 22 22 22 22 22 22 22 22 22 22 22 22 22 22 22 22 22 \n22 22 22 22 22 22 22 22 22 22 22 22 22 22 22 22 22 22 22 22 22 22 22 22 22 22 22 22 22 \n22 22 22 22 22 22 22 22 22 22 22 22 22 22 22 \n22 22 22 22 22 22 22 22 22 22 22 22 22 22 22 22 22 22 22 22 22 22 22 22 22 22 22 22 \n22 22 22 22 22 22 22 22 22 22 22 22 22 22 22 22 22 22 22 22 22 22 22 22 22 22 22 22 22 \n22 22 22 22 22 22 22 22 22 22 22 22 22 22 22 22 22 22 22 22 22 22 22 22 22 22 22 22 22 \n22 22 22 22 22 22 22 22 22 22 22 22 22 22 22 22 22 22 22 22 22 22 22 22 22 22 22 22 22\n22 22 22 22 22 22 22 22 22 22 22 22 22 22 22 22 22 22 22 22 22 22 22 22 22 22 22 22 22 \n22 22 22 22 22 22 22 22 22 22 22 22 22 22 22 22 22 22 22 22 22 22 22 22 22 22 22 22 22 \n22 22 22 22 22 22 22 22 22 22 22 22 22 22 22 22 22 22 22 22 22 22 22 22 22 22 22 22 22 22 22 22 22 22 22 22 22 22 22 22 22 22 22 22 22 22 22 22 22 22 22 22 22 22 22 22 22 22 22 22 22 22 22 22 22 22 22 22 22 22 22 22 22 22 22 22 22 22 22 22 22 22 22 22 22 22 22 22 22 22 22 22 22 22 22 22 22 22 22 22 22 22 22 22 22 22 22 22 22 22 22 22 22 22 22 22 22 22 22 22 22 22 22 22 22 22 22 22 22 22 22 22 22 22 22 22 \n22 22 22 22 22 22 22 22 22 22 22 22 22 22 22 22 22 22 22 22 22 22 22 22 22 22 22 22 22 \n22 22 22 22 22 22 22 22 22 22 22 22 22 22 22 22 22 22 22 22 22 22 22 22 22 22 22 22 22 \n22 22 22 22 22 22 22 22 22 22 22 22 22 22 22 22 22 22 22 22 22 22 22 22 22 22 22 22 22 \n22 22 22 22 22 22 22 22 22 22 22 22 22 22 22 22 22 22 22 22 22 22 22 22 22 22 22 22 22 \n22 22 22 22 22 22 22 22 22 22 22 22 22 22 22 22 \n22 22 22 22 22 22 22 22 22 22 22 22 22 22 22 22 22 22 22 22 22 22 22 22 22 22 22 22 22 \n22 22 22 22 22 22 22 22 22 22 22 22 22 22 22 22 22 22 22 22 22 22 22 22 22 22 22 22 22 \n22 22 22 22 22 22 22 22 22 22 22 22 22 22 22 22 22 22 22 22 22 22 22 22 22 22 22 22 22 \n22 22 22 22 22 22 22 22 22 22 22 22 22 22 22 22 22 22 22 22 22 22 22 22 22 22 22 22 22 \n22 22 22 22 22 22 22 22 22 22 22 22 22 22 22 22 22 22 22 22 22 22 22 22 22 22 22 22 22 \n22 22 22 22 22 22 22 22 22 22 22 22 22 22 22 22 22 22 22 22 22 22 22 22 22 22 22 22 22 22 22 22 22 22 22 22 22 22 22 22 22 22 \n22 22 22 22 22 22 22 22 22 22 22 22 22 22 22 22 22 22 22 22 22 22 22 22 22 22 22 22 22 22 22 22 22 22 22 22 22 22 222 22 22 22 \n22 22 22 22 22 22 22 22 22 22 22 22 22 22 22 22 22 22 22 22 22 22 22 22 22 22 22 22 22 22 \n22 22 22 22 22 22 22 22 22 22 22 22 22 22 22 22 22 22 22 22 22 22 22 22 22 22 22 22 22 22 22 22 22 22 22 22 22 22 22 22 22 22 22 22 22 22 22 22 22 22 22 22 22 22 22 22 22 22 22 22 22 22 22 22 22 22 22 22 22 22 22 22 22 22 22 22 22 22 22 22 22 22 22 22 22 22 22 22 22 22 22 22 22 22 22 22 22 22 22 22 22 22 22 22 22 22 22 22 22 22 22 22 22 22 22 22 22 22 22 22 22 22 22 22 22 22 22 22 22 22 22 22 \n22 22 22 22 22 22 22 22 22 22 22 22 22 22 22 22 22 22 22 22 22 22 22 22 22 22 22 22 22 22 \n22 22 22 22 22 22 22 22 22 22 22 22 22 22 22 22 22 22 22 22 22 22 22 22 22 22 22 22 22 22 \n22 22 22 22 22 22 22 22 22 22 22 22 22 22 22 22 22 22 22 22 22 22 22 22 22 22 22 22 22 \n22 22 22 22 22 22 22 22 22 22 22 22 22 22 22 22 22 22 22 22 22 22 22 22 22 22 22 22 22 22 \n22 22 22 22 22 22 22 22 22 22 22 22 22 22 22 22 22 22 22 22 22 22 22 22 22 22 22 22 22 \n22 22 22 22 22 22 22 22 22 22 22 22 22 22 22 22 22 22 22 22 22 22 22 22 22 22 22 22 22 22 22 22 22 22 22 22 22 22 22 22 22 22 22 22 22 22 22 22 22 22 22 22 22 22 22 22 22 22 22 22 22 22 22 22 22 22 22 22 22 22 22 22 22 22 22 22 22 22 22 22 22 22",
         "4096"
        ],
        [
         "2",
         "ROIA♘ ♞HERON★�CAVALO★§�DE★§�§TROIA♘ ♞HERON★�CAVALO★§�DE★§�§TROIA♘ ♞HERON★�CAVALO★§�DE★§�§TROIA♘ ♞HERON★�CAVALO★§�DE★§�§TROIA♘ ♞HERON★�CAVALO★§�DE★§�§TROIA♘ ♞HERON★�CAVALO★§�DE★§�§TROIA♘ ♞HERON★�CAVALO★§�DE★§�§TROIA♘ ♞HERON★�CAVALO★§�DE★§�§TROIA♘ ♞HERON★�CAVALO★§�DE★§�§TROIA♘ ♞HERON★�CAVALO★§�DE★§�§TROIA♘ ♞HERON★�CAVALO★§�DE★§�§TROIA♘ ♞HERON★�CAVALO★§�DE★§�§TROIA♘ ♞HERON★�CAVALO★§�DE★§�§TROIA♘ ♞HERON★�CAVALO★§�DE★§�§TROIA♘ ♞HERON★�CAVALO★§�DE★§�§TROIA♘ ♞HERON★�CAVALO★§�DE★§�§TROIA♘ ♞HERON★�CAVALO★§�DE★§�§TROIA♘ ♞HERON★�CAVALO★§�DE★§�§TROIA♘ ♞HERON★�CAVALO★§�DE★§�§TROIA♘ ♞HERON★�CAVALO★§�DE★§�§TROIA♘ ♞HERON★�CAVALO★§�DE★§�§TROIA♘ ♞HERON★�CAVALO★§�DE★§�§TROIA♘ ♞HERON★�CAVALO★§�DE★§�§TROIA♘ ♞HERON★�CAVALO★§�DE★§�§TROIA♘ ♞HERON★�CAVALO★§�DE★§�§TROIA♘ ♞HERON★�CAVALO★§�DE★§�§TROIA♘ ♞HERON★�CAVALO★§�DE★§�§TROIA♘ ♞HERON★�CAVALO★§�DE★§�§TROIA♘ ♞HERON★�CAVALO★§�DE★§�§TROIA♘ ♞HERON★�CAVALO★§�DE★§�§TROIA♘ ♞HERON★�CAVALO★§�DE★§�§TROIA♘ ♞HERON★�CAVALO★§�DE★§�§TROIA♘ ♞HERON★�CAVALO★§�DE★§�§TROIA♘ ♞HERON★�CAVALO★§�DE★§�§TROIA♘ ♞HERON★�CAVALO★§�DE★§�§TROIA♘ ♞HERON★�CAVALO★§�DE★§�§TROIA♘ ♞HERON★�CAVALO★§�DE★§�§TROIA♘ ♞HERON★�CAVALO★§�DE★§�§TROIA♘ ♞HERON★�CAVALO★§�DE★§�§TROIA♘ ♞HERON★�CAVALO★§�DE★§�§TROIA♘ ♞HERON★�CAVALO★§�DE★§�§TROIA♘ ♞HERON★�CAVALO★§�DE★§�§TROIA♘ ♞HERON★�CAVALO★§�DE★§�§TROIA♘ ♞HERON★�CAVALO★§�DE★§�§TROIA♘ ♞HERON★�CAVALO★§�DE★§�§TROIA♘ ♞HERON★�CAVALO★§�DE★§�§TROIA♘ ♞HERON★�CAVALO★§�DE★§�§TROIA♘ ♞HERON★�CAVALO★§�DE★§�§TROIA♘ ♞HERON★�CAVALO★§�DE★§�§TROIA♘ ♞HERON★�CAVALO★§�DE★§�§TROIA♘ ♞HERON★�CAVALO★§�DE★§�§TROIA♘ ♞HERON★�CAVALO★§�DE★§�§TROIA♘ ♞HERON★�CAVALO★§�DE★§�§TROIA♘ ♞HERON★�CAVALO★§�DE★§�§TROIA♘ ♞HERON★�CAVALO★§�DE★§�§TROIA♘ ♞HERON★�CAVALO★§�DE★§�§TROIA♘ ♞HERON★�CAVALO★§�DE★§�§TROIA♘ ♞HERON★�CAVALO★§�DE★§�§TROIA♘ ♞HERON★�CAVALO★§�DE★§�§TROIA♘ ♞HERON★�CAVALO★§�DE★§�§TROIA♘ ♞HERON★�CAVALO★§�DE★§�§TROIA♘ ♞HERON★�CAVALO★§�DE★§�§TROIA♘ ♞HERON★�CAVALO★§�DE★§�§TROIA♘ ♞HERON★�CAVALO★§�DE★§�§TROIA♘ ♞HERON★�CAVALO★§�DE★§�§TROIA♘ ♞HERON★�CAVALO★§�DE★§�§TROIA♘ ♞HERON★�CAVALO★§�DE★§�§TROIA♘ ♞HERON★�CAVALO★§�DE★§�§TROIA♘ ♞HERON★�CAVALO★§�DE★§�§TROIA♘ ♞HERON★�CAVALO★§�DE★§�§TROIA♘ ♞HERON★�CAVALO★§�DE★§�§TROIA♘ ♞HERON★�CAVALO★§�DE★§�§TROIA♘ ♞HERON★�CAVALO★§�DE★§�§TROIA♘ ♞HERON★�CAVALO★§�DE★§�§TROIA♘ ♞HERON★�CAVALO★§�DE★§�§TROIA♘ ♞HERON★�CAVALO★§�DE★§�§TROIA♘ ♞HERON★�CAVALO★§�DE★§�§TROIA♘ ♞HERON★�CAVALO★§�DE★§�§TROIA♘ ♞HERON★�CAVALO★§�DE★§�§TROIA♘ ♞HERON★�CAVALO★§�DE★§�§TROIA♘ ♞HERON★�CAVALO★§�DE★§�§TROIA♘ ♞HERON★�CAVALO★§�DE★§�§TROIA♘ ♞HERON★�CAVALO★§�DE★§�§TROIA♘ ♞HERON★�CAVALO★§�DE★§�§TROIA♘ ♞HERON★�CAVALO★§�DE★§�§TROIA♘ ♞HERON★�CAVALO★§�DE★§�§TROIA♘ ♞HERON★�CAVALO★§�DE★§�§TROIA♘ ♞HERON★�CAVALO★§�DE★§�§TROIA♘ ♞HERON★�CAVALO★§�DE★§�§TROIA♘ ♞HERON★�CAVALO★§�DE★§�§TROIA♘ ♞HERON★�CAVALO★§�DE★§�§TROIA♘ ♞HERON★�CAVALO★§�DE★§�§TROIA♘ ♞HERON★�CAVALO★§�DE★§�§TROIA♘ ♞HERON★�CAVALO★§�DE★§�§TROIA♘ ♞HERON★�CAVALO★§�DE★§�§TROIA♘ ♞HERON★�CAVALO★§�DE★§�§TROIA♘ ♞HERON★�CAVALO★§�DE★§�§TROIA♘ ♞HERON★�CAVALO★§�DE★§�§TROIA♘ ♞HERON★�CAVALO★§�DE★§�§TROIA♘ ♞HERON★�CAVALO★§�DE★§�§TROIA♘ ♞HERON★�CAVALO★§�DE★§�§TROIA♘ ♞HERON★�CAVALO★§�DE★§�§TROIA♘ ♞HERON★�CAVALO★§�DE★§�§TROIA♘ ♞HERON★�CAVALO★§�DE★§�§TROIA♘ ♞HERON★�CAVALO★§�DE★§�§TROIA♘ ♞HERON★�CAVALO★§�DE★§�§TROIA♘ ♞HERON★�CAVALO★§�DE★§�§TROIA♘ ♞HERON★�CAVALO★§�DE★§�§TROIA♘ ♞HERON★�CAVALO★§�DE★§�§TROIA♘ ♞HERON★�CAVALO★§�DE★§�§TROIA♘ ♞HERON★�CAVALO★§�DE★§�§TROIA♘ ♞HERON★�CAVALO★§�DE★§�§TROIA♘ ♞HERON★�CAVALO★§�DE★§�§TROIA♘ ♞HERON★�CAVALO★§�DE★§�§TROIA♘ ♞HERON★�CAVALO★§�DE★§�§TROIA♘ ♞HERON★�CAVALO★§�DE★§�§TROIA♘ ♞HERON★�CAVALO★§�DE★§�§TROIA♘ ♞HERON★�CAVALO★§�DE★§�§TROIA♘ ♞HERON★�CAVALO★§�DE★§�§TROIA♘ ♞HERON★�CAVALO★§�DE★§�§TROIA♘ ♞HERON★�CAVALO★§�DE★§�§TROIA♘ ♞HERON★�CAVALO★§�DE★§�§TROIA♘ ♞HERON★�CAVALO★§�DE★§�§TROIA♘ ♞HERON★�CAVALO★§�DE★§�§TROIA♘ ♞HERON★�CAVALO★§�DE★§�§TROIA♘ ♞HERON★�CAVALO★§�DE★§�§TROIA♘ ♞HERON★�CAVALO★§�DE★§�§TROIA♘ ♞HERON★�CAVALO★§�DE★§�§TROIA♘ ♞HERON★�CAVALO★§�DE★§�§TROIA♘ ♞HERON★�CAVALO★§�DE★§�§TROIA♘ ♞HERON★�CAVALO★§�DE★§�§TROIA♘ ♞HERON★�CAVALO★§�DE★§�§TROIA♘ ♞HERON★�CAVALO★§�DE★§�§TROIA♘ ♞HERON★�CAVALO★§�DE★§�§TROIA♘ ♞HERON★�CAVALO★§�DE★§�§TROIA♘ ♞HERON★�CAVALO★§�DE★§�§TROIA♘ ♞HERON★�CA",
         "4096"
        ],
        [
         "3",
         "1: Sansão foi a Gaza, e viu ali uma prostituta, e entrou a ela. \n2: E foi dito aos gazitas: Sansão entrou aqui. Cercaram-no, e de emboscada à porta da cidade o esperaram toda a noite; assim ficaram quietos a noite toda, dizendo: Quando raiar o dia, matá-lo-emos. \n3: Mas Sansão deitou-se até a meia-noite; então, levantando-se, pegou nas portas da entrada da cidade, com ambos os umbrais, arrancou-as juntamente com a tranca e, pondo-as sobre os ombros, levou-as até o cume do monte que está defronte de Hebrom. \n4: Depois disto se afeiçoou a uma mulher do vale de Soreque, cujo nome era Dalila. \n5: Então os chefes dos felishtim subiram a ter com ela, e lhe disseram: Persuade-o, e vê em que consiste a sua grande força, e como poderemos prevalecer contra ele e amarrá-lo, para assim o afligirmos; e te daremos, cada um de nós, mil e cem moedas de prata. \n6: Então disse Dalila a Sansão: Declara-me, peço a você, em que consiste a tua grande força, e com que poderias ser amarrado para te poderem afligir. \n7: Respondeu Sansão: Se me amarrassem com sete cordas de nervos, ainda não secados, então me tornaria fraco, e seria como qualquer outro homem. \n8: Então os chefes dos felishtim trouxeram a Dalila sete cordas de nervos, ainda não secados, com as quais ela o amarrou. \n9: Ora, tinha ela em casa uns espias sentados na câmara interior. Então ela disse: Os felishtim vêm sobre ti, Sansão! E ele quebrou as cordas de nervos, como se quebra o fio da estopa ao lhe chegar o fogo. Assim não se soube em que consistia a sua força. \n10: Então disse Dalila a Sansão: Zombaste de mim, e me disseste mentiras; declara-me agora com que poderia ser a amarrado. \n11: Respondeu ele: Se me amarrassem fortemente com cordas novas, que nunca tivessem sido usadas, então me tornaria fraco, e seria como qualquer outro homem. \n12: Então Dalila tomou cordas novas, e o amarrou com elas, e disse: Os felishtim vêm sobre ti, Sansão! E os espias estavam sentados na câmara interior. Porém ele as quebrou de seus braços como a um fio. \n13: Disse Dalila a Sansão: Até agora zombaste de mim, e me disseste mentiras; declara-me agora, com que poderia ser amarrado. E ele lhe disse: Se teceres as sete tranças da minha cabeça com os liços da teia. \n14: Assim ela as fixou com o torno de tear, e disse: Os felishtim vêm sobre ti, Sansão! Então ele despertou do seu sono, e arrancou o torno do tear, juntamente com os liços da teia. \n15: Disse ela: como podes dizer: Eu te amo! Não estando comigo o teu lev? Já três vezes zombaste de mim, e ainda não me declaraste em que consiste a tua força. \n16: E aconteceu que, importunando-o ela todos os dias com as suas palavras, e molestando-o, a vida dele se angustiou até a morte. \n17: E descobriu lhe todo o seu lev, e disse: Nunca passou navalha pela minha cabeça, porque sou nazireu do Criador desde o ventre de minha ima; se viesse a ser rapado, ir-se-ia de mim a minha força, e me tornaria fraco, e seria como qualquer outro homem. \n18: Vendo Dalila que ele lhe descobrira todo o seu lev, mandou chamar os chefes dos felishtim, dizendo: Subi ainda esta vez, porque agora me descobriu ele todo o seu lev. E os chefes dos felishtim subiram a ter com ela, trazendo o dinheiro nas mãos. \n19: Então ela o fez dormir sobre os seus joelhos, e mandou chamar um homem para lhe rapar as sete tranças de sua cabeça. Depois começou a afligi-lo, e a sua força se lhe foi. \n20: E disse ela: Os felishtim vêm sobre ti, Sansão! Despertando ele do seu sono, disse: Sairei, como das outras vezes, e me livrarei. Pois ele não sabia que Yhwh se tinha retirado dele. \n21: Então os felishtim pegaram nele, arrancaram-lhe os olhos e, tendo-o levado a Gaza, amarraram-no com duas cadeias de bronze; e girava moinho no cárcere. \n22: Contudo o cabelo da sua cabeça, logo que foi rapado, começou a crescer de novo: \n23: Então os chefes dos felishtim se ajuntaram para oferecer um grande sacrifício ao seu elohim Dagom, e para se regozijar; diziam: Nosso elohim nos entregou nas mãos a Sansão, nosso inimigo. \n24: Semelhantemente o povo, vendo-o, louvava ao seu elohim, dizendo: Nosso Criador nos en",
         "4096"
        ],
        [
         "4",
         "PROPOSTAS DE BOLSONARO PARA 2023 - POSTADAS AGORA À NOITE - 29/10/22\n____________________________________________________________________\n É preciso compreender aqueles que ainda não decidiram e lhes oferecer segurança para que façam a melhor escolha para o futuro da nossa nação. Mais do que promessas vazias e abstratas, o Brasil precisa de um caminho sólido, pautado em ações concretas e, sobretudo, em princípios.\n- A partir de 2023, com um Congresso em sintonia com o nosso Governo, será possível avançar não apenas em novas propostas, mas naquelas boas medidas que foram travadas pelo caminho. Dito isso segue abaixo 22 COMPROMISSOS que farão do Brasil um país mais próspero, mais livre e mais seguro para todos os brasileiros:\n1. Reduzir maioridade penal para crimes hediondos, como estupro, homicídio e latrocínio.\n2. Acabar com a audiência de custódia, hoje um dos maiores estímulos à impunidade no país.\n3. Endurecer penas para crimes violentos e os critérios para progressão de\nregime.\n4. Criar o Estatuto de Direitos das Vítimas, em contrapartida à crescente inversão de valores percebida nas últimas décadas, onde o bandido é a vítima e a polícia e os cidadãos são os vilões.\n5. Garantir retaguarda jurídica e excludente de ilicitude para agentes de segurança, respaldando nossos policiais no combate ao crime.\n6. Aumentar o Fundo Nacional de Segurança Pública para garantir a aparelhagem e a modernização das forças de segurança.\n7. Com as medidas de combate à impunidade apresentadas acima, buscaremos reduzir em mais 20% os homicídios nos próximos 4 anos, chegando a uma queda de 50% do pico de mortes violentas atingido no último ano de governo do PT.\n8. Implementar uma Política Nacional de Fortalecimento dos Laços Familiares, um conjunto de medidas e diretrizes que visam incentivar a criação e preservação das famílias, que são a base da sociedade.\n9. Garantir o bônus de produtividade de 200 reais adicionais para beneficiários do Auxílio Brasil permanente de no mínimo 600 reais, para estimular o trabalho produtividade e a ascensão dos mais pobres.\n10. Entregar no mínimo mais 2 milhões de moradias a famílias de baixa renda.\n11. Democratizar os serviços digitais, por meio da isenção de impostos para compra de aparelhos celulares populares e do estabelecimento de uma tarifa social para planos de dados.\n12. Aumentar o salário mínimo para 1400 reais em 2023 e acima da inflação todos os anos até 2026.\n13. Seguir indicando de forma independente nomes técnicos e de Ficha Limpa para Ministérios, bancos públicos e estatais, impedindo que interesses escusos façam florescer a corrupção sistêmica no Governo.\n14. Manter uma política econômica pautada no livre mercado e na responsabilidade fiscal, propiciando um ambiente favorável à atração de investimentos e à geração de pelo menos mais 6 milhões de empregos.\n15. Criar e implementar o SUS Online: Modernização dos serviços de saúde pública, com agendamento, pré-triagem e prontuário digital, visando reduzir e zerar as filas nos hospitais (Zap da Saúde).\n16. Promover a desoneração da folha de pagamento para profissionais de saúde e buscar a desoneração gradual para os demais profissionais.\n17. Corrigir Tabela do IRPF; com isenção para quem ganha até cinco salários mínimos; e implementar o IRPF familiar, que permite um imposto de renda menor para quem realizar a declaração em família.\n18. Fazer do Nordeste o centro mundial de geração de energia verde e converter os royalties em benefícios sociais para a população, como o Auxílio Brasil.\n19. Implementar o FIES/TEC, para financiar cursos técnicos e profissionalizantes, permitindo aos brasileiros uma inserção maior no mercado de trabalho e um retorno financeiro mais rápido ao estudante.\n20. Implementar o Programa Educação para o Futuro, que pretende, com base no sucesso que tivemos com os cursos de alfabetização, disponibilizar para a população também o ensino de Programação, Inglês e Educação Financeira, essenciais para o crescimento profissional.\n21. Não controlar nem interferir na imprensa e preservar a liberdade de expressão, inclusive na Internet.",
         "4096"
        ],
        [
         "5",
         "CCCCCCCCCCCCCCCCCCCCCCCHHHHHHHHHHHHHHHHHHHHHOOOOOOOOOOOOOOOOOOOOOORRRRRRRRRRRRRRRRRRRRRRRRAAAAAAAAÁAAAAAAAAAAAAAA\n\nESQUERDALHAAAAAAAAAAAAA\n😂😂😂😂😂😂😂😂😂😂😂😂😂😂😂😂😂😂😂😂😂😂😂😂😂😂😂😂😂😂😂😂😂😂😂😂😂😂😂😂😂😂😂😂😂😂😂😂😂😂😂😂😂😂😂😂😂😂😂😂\n\nJÁ ESTAMOS DE OLHOS NOS PLANOS DE VOCÊS SABEMOS DOS GRUPOS FAKE \n😂😂😂😂😂😂😂😂😂😂😂😂😂😂😂😂😂😂😂😂😂😂😂😂\n\nESTAMOS EM TODOS OS SEUS GRUPOS VENDO CADA PASSO DE  VOCÊS \n😂😂😂😂😂😂😂😂😂😂😂😂\n\n22 22 22 22 22 22 22 22 22 22 22 22 22 22 22 22 22 22 22 22 22 22 22 22 22 22 22 22 22 22 22 22 22 22 22 22 22 22 22\n\n22 22 22 22 22 22 22 22 22 22 22 22 22 22 22 22 22 22 22 22 22 22 22 22 22 22 22 22 22 22 \n22 22 22 22 22 22 22 22 22 22 22 22 22 22 22 22 22 22 22 22 22 22 22 22 22 22 22 22 22 \n22 22 22 22 22 22 22 22 22 22 22 22 22 22 22 22 22 22 22 22 22 22 22 22 22 22 22 22 22 \n22 22 22 22 22 22 22 22 22 22 22 22 22 22 22 22 22 22 22 22 22 22 22 22 22 22 22 22 22 \n22 22 22 22 22 22 22 22 22 22 22 22 22 22 22 \n22 22 22 22 22 22 22 22 22 22 22 22 22 22 22 22 22 22 22 22 22 22 22 22 22 22 22 22 \n22 22 22 22 22 22 22 22 22 22 22 22 22 22 22 22 22 22 22 22 22 22 22 22 22 22 22 22 22 \n22 22 22 22 22 22 22 22 22 22 22 22 22 22 22 22 22 22 22 22 22 22 22 22 22 22 22 22 22 \n22 22 22 22 22 22 22 22 22 22 22 22 22 22 22 22 22 22 22 22 22 22 22 22 22 22 22 22 22\n22 22 22 22 22 22 22 22 22 22 22 22 22 22 22 22 22 22 22 22 22 22 22 22 22 22 22 22 22 \n22 22 22 22 22 22 22 22 22 22 22 22 22 22 22 22 22 22 22 22 22 22 22 22 22 22 22 22 22 \n22 22 22 22 22 22 22 22 22 22 22 22 22 22 22 22 22 22 22 22 22 22 22 22 22 22 22 22 22 22 22 22 22 22 22 22 22 22 22 22 22 22 22 22 22 22 22 22 22 22 22 22 22 22 22 22 22 22 22 22 22 22 22 22 22 22 22 22 22 22 22 22 22 22 22 22 22 22 22 22 22 22 22 22 22 22 22 22 22 22 22 22 22 22 22 22 22 22 22 22 22 22 22 22 22 22 22 22 22 22 22 22 22 22 22 22 22 22 22 22 22 22 22 22 22 22 22 22 22 22 22 22 22 22 22 22 \n22 22 22 22 22 22 22 22 22 22 22 22 22 22 22 22 22 22 22 22 22 22 22 22 22 22 22 22 22 \n22 22 22 22 22 22 22 22 22 22 22 22 22 22 22 22 22 22 22 22 22 22 22 22 22 22 22 22 22 \n22 22 22 22 22 22 22 22 22 22 22 22 22 22 22 22 22 22 22 22 22 22 22 22 22 22 22 22 22 \n22 22 22 22 22 22 22 22 22 22 22 22 22 22 22 22 22 22 22 22 22 22 22 22 22 22 22 22 22 \n22 22 22 22 22 22 22 22 22 22 22 22 22 22 22 22 \n22 22 22 22 22 22 22 22 22 22 22 22 22 22 22 22 22 22 22 22 22 22 22 22 22 22 22 22 22 \n22 22 22 22 22 22 22 22 22 22 22 22 22 22 22 22 22 22 22 22 22 22 22 22 22 22 22 22 22 \n22 22 22 22 22 22 22 22 22 22 22 22 22 22 22 22 22 22 22 22 22 22 22 22 22 22 22 22 22 \n22 22 22 22 22 22 22 22 22 22 22 22 22 22 22 22 22 22 22 22 22 22 22 22 22 22 22 22 22 \n22 22 22 22 22 22 22 22 22 22 22 22 22 22 22 22 22 22 22 22 22 22 22 22 22 22 22 22 22 \n22 22 22 22 22 22 22 22 22 22 22 22 22 22 22 22 22 22 22 22 22 22 22 22 22 22 22 22 22 22 22 22 22 22 22 22 22 22 22 22 22 22 \n22 22 22 22 22 22 22 22 22 22 22 22 22 22 22 22 22 22 22 22 22 22 22 22 22 22 22 22 22 22 22 22 22 22 22 22 22 22 222 22 22 22 \n22 22 22 22 22 22 22 22 22 22 22 22 22 22 22 22 22 22 22 22 22 22 22 22 22 22 22 22 22 22 \n22 22 22 22 22 22 22 22 22 22 22 22 22 22 22 22 22 22 22 22 22 22 22 22 22 22 22 22 22 22 22 22 22 22 22 22 22 22 22 22 22 22 22 22 22 22 22 22 22 22 22 22 22 22 22 22 22 22 22 22 22 22 22 22 22 22 22 22 22 22 22 22 22 22 22 22 22 22 22 22 22 22 22 22 22 22 22 22 22 22 22 22 22 22 22 22 22 22 22 22 22 22 22 22 22 22 22 22 22 22 22 22 22 22 22 22 22 22 22 22 22 22 22 22 22 22 22 22 22 22 22 22 \n22 22 22 22 22 22 22 22 22 22 22 22 22 22 22 22 22 22 22 22 22 22 22 22 22 22 22 22 22 22 \n22 22 22 22 22 22 22 22 22 22 22 22 22 22 22 22 22 22 22 22 22 22 22 22 22 22 22 22 22 22 \n22 22 22 22 22 22 22 22 22 22 22 22 22 22 22 22 22 22 22 22 22 22 22 22 22 22 22 22 22 \n22 22 22 22 22 22 22 22 22 22 22 22 22 22 22 22 22 22 22 22 22 22 22 22 22 22 22 22 22 22 \n22 22 22 22 22 22 22 22 22 22 22 22 22 22 22 22 22 22 22 22 22 22 22 22 22 22 22 22 22 \n22 22 22 22 22 22 22 22 22 22 22 22 22 22 22 22 22 22 22 22 22 22 22 22 22 22 22 22 22 22 22 22 22 22 22 22 22 22 22 22 22 22 22 22 22 22 22 22 22 22 22 22 22 22 22 22 22 22 22 22 22 22 22 22 22 22 22 22 22 22 22 22 22 22 22 22 22 22 22 22 22 22",
         "4096"
        ],
        [
         "6",
         "Trecho do livro “Prática da Conspiração A Agenda Maligna” (Parte 2)\n\nRecado De Um Illuminati\n\n       – Há séculos, manipulamos e controlamos as pessoas para que trabalhem para nós, mesmo sem saberem. Acordam cedo diariamente e passam várias horas do dia trabalhando para os seus chefes, que trabalham para os seus superiores, que também trabalham para nós... Desperdiçam anos de suas vidas se esforçando, se estressando, envelhecendo mal e adoecendo aos poucos, enquanto lhes damos esperanças de uma vida melhor permitindo que alguns consigam sucesso. Deixamo-nos pensar que são felizes, para que não percebam que são apenas cobaias e escravos, e, que na verdade passarão a vida toda ganhando uma mixaria de salário; salário esse que acabam tendo que gastar mais que a metade só com impostos; impostos esses que nos pertencem. E o que sobra, torram nos finais de semana ou em algum feriado com seus familiares e amigos; bebendo e comemorando a vida medíocre têm... As massas não sabem que são dependentes de nós e vivem como gados, enquanto os assistimos e os observamos sem que eles saibam. Os mantemos ocupados com seus afazeres e os distraímos com pão e circo; redes sociais, “Reality Shows”, novelas, futebol, desenhos... São volúveis, maleáveis, manipuláveis; os direcionamos facilmente para onde quisermos, ludibriando-os, enganando-os, fazendo-os acreditar que a ficção é a realidade, e a realidade, ficção. E aqueles que são despertos e descobrem os nossos planos, são ridicularizados pela maioria sendo chamados de Teóricos da Conspiração”. Nós é que escolhemos o que as pessoas devem aprender nas escolas e nas universidades. Nós, a Elite Suprema, escolhemos quais remédios eles devem tomar, os tipos de energia e combustível que devem usar. Nós é que escolhemos e selecionamos os políticos em que eles devem votar; revezando-os a cada certo período entre esquerda, direita ou centro; lhes apresentando sempre, principalmente em época de eleição, um Líder Carismático que os faça acreditar que tudo mudará para melhor; mas na verdade, esses líderes fazem exatamente o que mandamos e tudo permanece do jeito que planejamos enquanto o povo se digladia achando que o seu lado é o melhor... Trabalhamos arduamente por várias décadas cumprindo cada etapa da Agenda para erguer e inaugurar uma Nova Ordem Secular; preparar o caminho para o nosso Líder Absoluto. Porém, esse sonho tem sido adiado por uma força maior. Tentamos de várias formas reduzir a população mundial criando várias doenças como o câncer, a diabetes, a AIDS e várias doenças venéreas. Criamos e provocamos guerras, pandemias, vacinas, liberamos o aborto em mais de cem países, fizemos homens e mulheres se odiarem. Mas mesmo assim eles continuaram procriando como insetos!; contaminando e poluindo o ecossistema cada vez mais... A população mundial atual passa de oito bilhões. Precisamos diminuir esse número drasticamente, pois eles ainda são muitos e podem se levantar contra nós. Por isso, tomamos a decisão definitiva de causar o maior caos de todos os tempos começando com a pandemia do HFZN, o vírus mais letal e contagioso que já criamos. E em breve,... haverá vários terremotos, furacões, tsunamis; e também uma 3ª Guerra Mundial. É o mal necessário para eliminar os desnecessários. Não precisamos mais deles, nossas máquinas farão seus trabalhos... Bilhões de pessoas nem sabem que estarão mortas em breve e que não farão parte dessa Nova Era que se aproxima. E mesmo que não atinjamos a meta de diminuição demográfica, os que sobreviverem estarão tão assustados, acuados, que clamarão de joelhos por um salvador. Então, o nosso Princimatuz se manifestará gloriosamente para todo o mundo, trazendo a paz e a solução para todos os problemas. Nesse novo mundo, nessa Nova Era, todos terão paz e segurança; e adorarão e servirão ao Príncipe Mundial... E nós, a realeza, a nobreza, viveremos juntos e harmoniosamente em um mundo sem poluição, sem doenças, sem crenças e religiões equivocadas e culturas nojentas e desnecessárias; livres daqueles que são um câncer para este mundo.\nhttps://t.me/tgpraticadaconspiracao",
         "4096"
        ],
        [
         "7",
         "Trecho do livro “Prática da Conspiração A Agenda Maligna” (Parte 2)\n\nRecado De Um Illuminati\n\n       – Há séculos, manipulamos e controlamos as pessoas para que trabalhem para nós, mesmo sem saberem. Acordam cedo diariamente e passam várias horas do dia trabalhando para os seus chefes, que trabalham para os seus superiores, que também trabalham para nós... Desperdiçam anos de suas vidas se esforçando, se estressando, envelhecendo mal e adoecendo aos poucos, enquanto lhes damos esperanças de uma vida melhor permitindo que alguns consigam sucesso. Deixamo-nos pensar que são felizes, para que não percebam que são apenas cobaias e escravos, e, que na verdade passarão a vida toda ganhando uma mixaria de salário; salário esse que acabam tendo que gastar mais que a metade só com impostos; impostos esses que nos pertencem. E o que sobra, torram nos finais de semana ou em algum feriado com seus familiares e amigos; bebendo e comemorando a vida medíocre têm... As massas não sabem que são dependentes de nós e vivem como gados, enquanto os assistimos e os observamos sem que eles saibam. Os mantemos ocupados com seus afazeres e os distraímos com pão e circo; redes sociais, “Reality Shows”, novelas, futebol, desenhos... São volúveis, maleáveis, manipuláveis; os direcionamos facilmente para onde quisermos, ludibriando-os, enganando-os, fazendo-os acreditar que a ficção é a realidade, e a realidade, ficção. E aqueles que são despertos e descobrem os nossos planos, são ridicularizados pela maioria sendo chamados de Teóricos da Conspiração”. Nós é que escolhemos o que as pessoas devem aprender nas escolas e nas universidades. Nós, a Elite Suprema, escolhemos quais remédios eles devem tomar, os tipos de energia e combustível que devem usar. Nós é que escolhemos e selecionamos os políticos em que eles devem votar; revezando-os a cada certo período entre esquerda, direita ou centro; lhes apresentando sempre, principalmente em época de eleição, um Líder Carismático que os faça acreditar que tudo mudará para melhor; mas na verdade, esses líderes fazem exatamente o que mandamos e tudo permanece do jeito que planejamos enquanto o povo se digladia achando que o seu lado é o melhor... Trabalhamos arduamente por várias décadas cumprindo cada etapa da Agenda para erguer e inaugurar uma Nova Ordem Secular; preparar o caminho para o nosso Líder Absoluto. Porém, esse sonho tem sido adiado por uma força maior. Tentamos de várias formas reduzir a população mundial criando várias doenças como o câncer, a diabetes, a AIDS e várias doenças venéreas. Criamos e provocamos guerras, pandemias, vacinas, liberamos o aborto em mais de cem países, fizemos homens e mulheres se odiarem. Mas mesmo assim eles continuaram procriando como insetos!; contaminando e poluindo o ecossistema cada vez mais... A população mundial atual passa de oito bilhões. Precisamos diminuir esse número drasticamente, pois eles ainda são muitos e podem se levantar contra nós. Por isso, tomamos a decisão definitiva de causar o maior caos de todos os tempos começando com a pandemia do HFZN, o vírus mais letal e contagioso que já criamos. E em breve,... haverá vários terremotos, furacões, tsunamis; e também uma 3ª Guerra Mundial. É o mal necessário para eliminar os desnecessários. Não precisamos mais deles, nossas máquinas farão seus trabalhos... Bilhões de pessoas nem sabem que estarão mortas em breve e que não farão parte dessa Nova Era que se aproxima. E mesmo que não atinjamos a meta de diminuição demográfica, os que sobreviverem estarão tão assustados, acuados, que clamarão de joelhos por um salvador. Então, o nosso Princimatuz se manifestará gloriosamente para todo o mundo, trazendo a paz e a solução para todos os problemas. Nesse novo mundo, nessa Nova Era, todos terão paz e segurança; e adorarão e servirão ao Príncipe Mundial... E nós, a realeza, a nobreza, viveremos juntos e harmoniosamente em um mundo sem poluição, sem doenças, sem crenças e religiões equivocadas e culturas nojentas e desnecessárias; livres daqueles que são um câncer para este mundo.\nhttps://t.me/tgpraticadaconspiracao",
         "4096"
        ],
        [
         "8",
         "1: Aconteceu também naqueles dias, quando não havia melech em Yisra-EL, que certo levita, habitante das partes remotas da região montanhosa de Efraim, tomou para si uma concubina, de Beit Lehem de Yehudah. \n2: Ora, a sua concubina adulterou contra ele e, deixando-o, foi para moradia de seu abba em Beit Lehem de Yehudah, e ali ficou uns quatro meses. \n3: Seu marido, levantando-se, foi atrás dela para lhe falar bondosamente, a fim de tornar a trazê-la; e levava consigo o seu moço e um par de jumentos. Ela o levou à moradia de seu abba, o qual, vendo-o, saiu alegremente a encontrar-se com ele. \n4: E seu sogro, o abba da moça, o deteve consigo três dias; assim comeram e beberam, e se alojaram ali. \n5: Ao quarto dia madrugaram, e ele se levantou para partir. Então o abba da moça disse a seu genro: Fortalece-te com um bocado de pão, e depois partireis: \n6: Sentando-se, ambos juntos, comeram e beberam; e disse o abba da moça ao homem: Peço-te que fiques ainda esta noite aqui, e alegre-se o teu lev. \n7: O homem, porém, levantou-se para partir; mas, como seu sogro insistisse, tornou a passar a noite ali. \n8: Também ao quinto dia madrugaram para partir; e disse o abba da moça: Neste momento, conforta o teu lev, e detém-te até o declinar do dia. E ambos juntos comeram. \n9: Então o homem se levantou para partir, ele, a sua concubina, e o seu moço; e disse seu sogro, o abba da moça: Já o dia declina para a tarde; peço a você que aqui passes a noite. O dia já vai acabando; passa aqui a noite, e alegre-se o teu lev: Amanhã de madrugada levanta-te para encetares viagem, e irás para a tua tenda. \n10: Entretanto, o homem não quis passar a noite ali, mas, levantando-se, partiu e chegou à altura de Jebus (que é Yerushalaim), e com ele o par de jumentos albardados, como também a sua concubina. \n11: Quando estavam perto de Jebus, já o dia tinha declinado muito; e disse o moço a seu adon: Vem, peço a você, retiremo-nos a esta cidade dos Yvusiy, e passemos nela a noite. \n12: Respondeu, porém, o seu adon: Não nos retiraremos a nenhuma cidade estrangeira, que não seja dos bney-ysraEL, mas passaremos até Gibeá. \n13: Disse mais a seu moço: Vem, cheguemos a um destes lugares, Gibeá ou Ramá, e passemos ali a noite. \n14: Passaram, continuando o seu caminho; e o sol se pôs quando estavam perto de Gibeá, que pertence a Biniamim. \n15: Pelo que se dirigiram para lá, a fim de passarem ali a noite; e o levita, entrando, sentou-se na praça da cidade, porque não houve quem os recolhesse em casa para ali passarem a noite. \n16: Ao anoitecer vinha do seu trabalho no campo um longevo; era ele da região montanhosa de Efraim, mas habitava em Gibeá; os homens deste lugar, porém, eram benyamitas. \n17: Levantando ele os olhos, viu na praça da cidade o viajante, e indagou-lhe: Para onde vais, e de onde vens? \n18: Respondeu ele: Estamos de viagem de Beit Lehem de Yehudah para as partes remotas da região montanhosa de Efraim, de onde sou. Fui a Beit Lehem de Yehudah, porém agora vou à casa de Yhwh ; e ninguém há que me recolha em casa. \n19: Contudo temos palha e forragem para os nossos jumentos; também há pão e vinho para mim, para a tua serva, e para o moço que vem com os teus servos; de coisa nenhuma há falta. \n20: Disse o longevo: Shalom seja contigo; tudo quanto te faltar fique ao meu cargo; tão-somente não passes a noite na praça. \n21: Assim o fez entrar em sua casa, e deu ração aos jumentos; e, depois de lavarem os pés, comeram e beberam. \n22: Enquanto eles alegravam o seu lev, os homens daquela cidade, filhos de Belial, cercaram a casa, bateram à porta, e disseram ao longevo, dono da casa: Traze cá para fora o homem que entrou em tua casa, para que o conheçamos. \n23: O dono da casa saiu a ter com eles, e disse a eles: Não, irmãos meus, não façais semelhante mal; já que este homem entrou em minha casa, não façais essa loucura. \n24: Aqui estão a minha filha virgem e a concubina do homem; fá-las-ei sair; humilhai-as a elas, e fazei delas o que parecer bem aos seus olhos; porém a este homem não façais tal loucura. \n25: Mas esses homens não o quiseram ouvir; então aque",
         "4096"
        ],
        [
         "9",
         "ROIA♘ ♞HERON★�CAVALO★§�DE★§�§TROIA♘ ♞HERON★�CAVALO★§�DE★§�§TROIA♘ ♞HERON★�CAVALO★§�DE★§�§TROIA♘ ♞HERON★�CAVALO★§�DE★§�§TROIA♘ ♞HERON★�CAVALO★§�DE★§�§TROIA♘ ♞HERON★�CAVALO★§�DE★§�§TROIA♘ ♞HERON★�CAVALO★§�DE★§�§TROIA♘ ♞HERON★�CAVALO★§�DE★§�§TROIA♘ ♞HERON★�CAVALO★§�DE★§�§TROIA♘ ♞HERON★�CAVALO★§�DE★§�§TROIA♘ ♞HERON★�CAVALO★§�DE★§�§TROIA♘ ♞HERON★�CAVALO★§�DE★§�§TROIA♘ ♞HERON★�CAVALO★§�DE★§�§TROIA♘ ♞HERON★�CAVALO★§�DE★§�§TROIA♘ ♞HERON★�CAVALO★§�DE★§�§TROIA♘ ♞HERON★�CAVALO★§�DE★§�§TROIA♘ ♞HERON★�CAVALO★§�DE★§�§TROIA♘ ♞HERON★�CAVALO★§�DE★§�§TROIA♘ ♞HERON★�CAVALO★§�DE★§�§TROIA♘ ♞HERON★�CAVALO★§�DE★§�§TROIA♘ ♞HERON★�CAVALO★§�DE★§�§TROIA♘ ♞HERON★�CAVALO★§�DE★§�§TROIA♘ ♞HERON★�CAVALO★§�DE★§�§TROIA♘ ♞HERON★�CAVALO★§�DE★§�§TROIA♘ ♞HERON★�CAVALO★§�DE★§�§TROIA♘ ♞HERON★�CAVALO★§�DE★§�§TROIA♘ ♞HERON★�CAVALO★§�DE★§�§TROIA♘ ♞HERON★�CAVALO★§�DE★§�§TROIA♘ ♞HERON★�CAVALO★§�DE★§�§TROIA♘ ♞HERON★�CAVALO★§�DE★§�§TROIA♘ ♞HERON★�CAVALO★§�DE★§�§TROIA♘ ♞HERON★�CAVALO★§�DE★§�§TROIA♘ ♞HERON★�CAVALO★§�DE★§�§TROIA♘ ♞HERON★�CAVALO★§�DE★§�§TROIA♘ ♞HERON★�CAVALO★§�DE★§�§TROIA♘ ♞HERON★�CAVALO★§�DE★§�§TROIA♘ ♞HERON★�CAVALO★§�DE★§�§TROIA♘ ♞HERON★�CAVALO★§�DE★§�§TROIA♘ ♞HERON★�CAVALO★§�DE★§�§TROIA♘ ♞HERON★�CAVALO★§�DE★§�§TROIA♘ ♞HERON★�CAVALO★§�DE★§�§TROIA♘ ♞HERON★�CAVALO★§�DE★§�§TROIA♘ ♞HERON★�CAVALO★§�DE★§�§TROIA♘ ♞HERON★�CAVALO★§�DE★§�§TROIA♘ ♞HERON★�CAVALO★§�DE★§�§TROIA♘ ♞HERON★�CAVALO★§�DE★§�§TROIA♘ ♞HERON★�CAVALO★§�DE★§�§TROIA♘ ♞HERON★�CAVALO★§�DE★§�§TROIA♘ ♞HERON★�CAVALO★§�DE★§�§TROIA♘ ♞HERON★�CAVALO★§�DE★§�§TROIA♘ ♞HERON★�CAVALO★§�DE★§�§TROIA♘ ♞HERON★�CAVALO★§�DE★§�§TROIA♘ ♞HERON★�CAVALO★§�DE★§�§TROIA♘ ♞HERON★�CAVALO★§�DE★§�§TROIA♘ ♞HERON★�CAVALO★§�DE★§�§TROIA♘ ♞HERON★�CAVALO★§�DE★§�§TROIA♘ ♞HERON★�CAVALO★§�DE★§�§TROIA♘ ♞HERON★�CAVALO★§�DE★§�§TROIA♘ ♞HERON★�CAVALO★§�DE★§�§TROIA♘ ♞HERON★�CAVALO★§�DE★§�§TROIA♘ ♞HERON★�CAVALO★§�DE★§�§TROIA♘ ♞HERON★�CAVALO★§�DE★§�§TROIA♘ ♞HERON★�CAVALO★§�DE★§�§TROIA♘ ♞HERON★�CAVALO★§�DE★§�§TROIA♘ ♞HERON★�CAVALO★§�DE★§�§TROIA♘ ♞HERON★�CAVALO★§�DE★§�§TROIA♘ ♞HERON★�CAVALO★§�DE★§�§TROIA♘ ♞HERON★�CAVALO★§�DE★§�§TROIA♘ ♞HERON★�CAVALO★§�DE★§�§TROIA♘ ♞HERON★�CAVALO★§�DE★§�§TROIA♘ ♞HERON★�CAVALO★§�DE★§�§TROIA♘ ♞HERON★�CAVALO★§�DE★§�§TROIA♘ ♞HERON★�CAVALO★§�DE★§�§TROIA♘ ♞HERON★�CAVALO★§�DE★§�§TROIA♘ ♞HERON★�CAVALO★§�DE★§�§TROIA♘ ♞HERON★�CAVALO★§�DE★§�§TROIA♘ ♞HERON★�CAVALO★§�DE★§�§TROIA♘ ♞HERON★�CAVALO★§�DE★§�§TROIA♘ ♞HERON★�CAVALO★§�DE★§�§TROIA♘ ♞HERON★�CAVALO★§�DE★§�§TROIA♘ ♞HERON★�CAVALO★§�DE★§�§TROIA♘ ♞HERON★�CAVALO★§�DE★§�§TROIA♘ ♞HERON★�CAVALO★§�DE★§�§TROIA♘ ♞HERON★�CAVALO★§�DE★§�§TROIA♘ ♞HERON★�CAVALO★§�DE★§�§TROIA♘ ♞HERON★�CAVALO★§�DE★§�§TROIA♘ ♞HERON★�CAVALO★§�DE★§�§TROIA♘ ♞HERON★�CAVALO★§�DE★§�§TROIA♘ ♞HERON★�CAVALO★§�DE★§�§TROIA♘ ♞HERON★�CAVALO★§�DE★§�§TROIA♘ ♞HERON★�CAVALO★§�DE★§�§TROIA♘ ♞HERON★�CAVALO★§�DE★§�§TROIA♘ ♞HERON★�CAVALO★§�DE★§�§TROIA♘ ♞HERON★�CAVALO★§�DE★§�§TROIA♘ ♞HERON★�CAVALO★§�DE★§�§TROIA♘ ♞HERON★�CAVALO★§�DE★§�§TROIA♘ ♞HERON★�CAVALO★§�DE★§�§TROIA♘ ♞HERON★�CAVALO★§�DE★§�§TROIA♘ ♞HERON★�CAVALO★§�DE★§�§TROIA♘ ♞HERON★�CAVALO★§�DE★§�§TROIA♘ ♞HERON★�CAVALO★§�DE★§�§TROIA♘ ♞HERON★�CAVALO★§�DE★§�§TROIA♘ ♞HERON★�CAVALO★§�DE★§�§TROIA♘ ♞HERON★�CAVALO★§�DE★§�§TROIA♘ ♞HERON★�CAVALO★§�DE★§�§TROIA♘ ♞HERON★�CAVALO★§�DE★§�§TROIA♘ ♞HERON★�CAVALO★§�DE★§�§TROIA♘ ♞HERON★�CAVALO★§�DE★§�§TROIA♘ ♞HERON★�CAVALO★§�DE★§�§TROIA♘ ♞HERON★�CAVALO★§�DE★§�§TROIA♘ ♞HERON★�CAVALO★§�DE★§�§TROIA♘ ♞HERON★�CAVALO★§�DE★§�§TROIA♘ ♞HERON★�CAVALO★§�DE★§�§TROIA♘ ♞HERON★�CAVALO★§�DE★§�§TROIA♘ ♞HERON★�CAVALO★§�DE★§�§TROIA♘ ♞HERON★�CAVALO★§�DE★§�§TROIA♘ ♞HERON★�CAVALO★§�DE★§�§TROIA♘ ♞HERON★�CAVALO★§�DE★§�§TROIA♘ ♞HERON★�CAVALO★§�DE★§�§TROIA♘ ♞HERON★�CAVALO★§�DE★§�§TROIA♘ ♞HERON★�CAVALO★§�DE★§�§TROIA♘ ♞HERON★�CAVALO★§�DE★§�§TROIA♘ ♞HERON★�CAVALO★§�DE★§�§TROIA♘ ♞HERON★�CAVALO★§�DE★§�§TROIA♘ ♞HERON★�CAVALO★§�DE★§�§TROIA♘ ♞HERON★�CAVALO★§�DE★§�§TROIA♘ ♞HERON★�CAVALO★§�DE★§�§TROIA♘ ♞HERON★�CAVALO★§�DE★§�§TROIA♘ ♞HERON★�CAVALO★§�DE★§�§TROIA♘ ♞HERON★�CAVALO★§�DE★§�§TROIA♘ ♞HERON★�CAVALO★§�DE★§�§TROIA♘ ♞HERON★�CAVALO★§�DE★§�§TROIA♘ ♞HERON★�CAVALO★§�DE★§�§TROIA♘ ♞HERON★�CAVALO★§�DE★§�§TROIA♘ ♞HERON★�CAVALO★§�DE★§�§TROIA♘ ♞HERON★�CAVALO★§�DE★§�§TROIA♘ ♞HERON★�CA",
         "4096"
        ],
        [
         "10",
         "ROIA♘ ♞HERON★�CAVALO★§�DE★§�§TROIA♘ ♞HERON★�CAVALO★§�DE★§�§TROIA♘ ♞HERON★�CAVALO★§�DE★§�§TROIA♘ ♞HERON★�CAVALO★§�DE★§�§TROIA♘ ♞HERON★�CAVALO★§�DE★§�§TROIA♘ ♞HERON★�CAVALO★§�DE★§�§TROIA♘ ♞HERON★�CAVALO★§�DE★§�§TROIA♘ ♞HERON★�CAVALO★§�DE★§�§TROIA♘ ♞HERON★�CAVALO★§�DE★§�§TROIA♘ ♞HERON★�CAVALO★§�DE★§�§TROIA♘ ♞HERON★�CAVALO★§�DE★§�§TROIA♘ ♞HERON★�CAVALO★§�DE★§�§TROIA♘ ♞HERON★�CAVALO★§�DE★§�§TROIA♘ ♞HERON★�CAVALO★§�DE★§�§TROIA♘ ♞HERON★�CAVALO★§�DE★§�§TROIA♘ ♞HERON★�CAVALO★§�DE★§�§TROIA♘ ♞HERON★�CAVALO★§�DE★§�§TROIA♘ ♞HERON★�CAVALO★§�DE★§�§TROIA♘ ♞HERON★�CAVALO★§�DE★§�§TROIA♘ ♞HERON★�CAVALO★§�DE★§�§TROIA♘ ♞HERON★�CAVALO★§�DE★§�§TROIA♘ ♞HERON★�CAVALO★§�DE★§�§TROIA♘ ♞HERON★�CAVALO★§�DE★§�§TROIA♘ ♞HERON★�CAVALO★§�DE★§�§TROIA♘ ♞HERON★�CAVALO★§�DE★§�§TROIA♘ ♞HERON★�CAVALO★§�DE★§�§TROIA♘ ♞HERON★�CAVALO★§�DE★§�§TROIA♘ ♞HERON★�CAVALO★§�DE★§�§TROIA♘ ♞HERON★�CAVALO★§�DE★§�§TROIA♘ ♞HERON★�CAVALO★§�DE★§�§TROIA♘ ♞HERON★�CAVALO★§�DE★§�§TROIA♘ ♞HERON★�CAVALO★§�DE★§�§TROIA♘ ♞HERON★�CAVALO★§�DE★§�§TROIA♘ ♞HERON★�CAVALO★§�DE★§�§TROIA♘ ♞HERON★�CAVALO★§�DE★§�§TROIA♘ ♞HERON★�CAVALO★§�DE★§�§TROIA♘ ♞HERON★�CAVALO★§�DE★§�§TROIA♘ ♞HERON★�CAVALO★§�DE★§�§TROIA♘ ♞HERON★�CAVALO★§�DE★§�§TROIA♘ ♞HERON★�CAVALO★§�DE★§�§TROIA♘ ♞HERON★�CAVALO★§�DE★§�§TROIA♘ ♞HERON★�CAVALO★§�DE★§�§TROIA♘ ♞HERON★�CAVALO★§�DE★§�§TROIA♘ ♞HERON★�CAVALO★§�DE★§�§TROIA♘ ♞HERON★�CAVALO★§�DE★§�§TROIA♘ ♞HERON★�CAVALO★§�DE★§�§TROIA♘ ♞HERON★�CAVALO★§�DE★§�§TROIA♘ ♞HERON★�CAVALO★§�DE★§�§TROIA♘ ♞HERON★�CAVALO★§�DE★§�§TROIA♘ ♞HERON★�CAVALO★§�DE★§�§TROIA♘ ♞HERON★�CAVALO★§�DE★§�§TROIA♘ ♞HERON★�CAVALO★§�DE★§�§TROIA♘ ♞HERON★�CAVALO★§�DE★§�§TROIA♘ ♞HERON★�CAVALO★§�DE★§�§TROIA♘ ♞HERON★�CAVALO★§�DE★§�§TROIA♘ ♞HERON★�CAVALO★§�DE★§�§TROIA♘ ♞HERON★�CAVALO★§�DE★§�§TROIA♘ ♞HERON★�CAVALO★§�DE★§�§TROIA♘ ♞HERON★�CAVALO★§�DE★§�§TROIA♘ ♞HERON★�CAVALO★§�DE★§�§TROIA♘ ♞HERON★�CAVALO★§�DE★§�§TROIA♘ ♞HERON★�CAVALO★§�DE★§�§TROIA♘ ♞HERON★�CAVALO★§�DE★§�§TROIA♘ ♞HERON★�CAVALO★§�DE★§�§TROIA♘ ♞HERON★�CAVALO★§�DE★§�§TROIA♘ ♞HERON★�CAVALO★§�DE★§�§TROIA♘ ♞HERON★�CAVALO★§�DE★§�§TROIA♘ ♞HERON★�CAVALO★§�DE★§�§TROIA♘ ♞HERON★�CAVALO★§�DE★§�§TROIA♘ ♞HERON★�CAVALO★§�DE★§�§TROIA♘ ♞HERON★�CAVALO★§�DE★§�§TROIA♘ ♞HERON★�CAVALO★§�DE★§�§TROIA♘ ♞HERON★�CAVALO★§�DE★§�§TROIA♘ ♞HERON★�CAVALO★§�DE★§�§TROIA♘ ♞HERON★�CAVALO★§�DE★§�§TROIA♘ ♞HERON★�CAVALO★§�DE★§�§TROIA♘ ♞HERON★�CAVALO★§�DE★§�§TROIA♘ ♞HERON★�CAVALO★§�DE★§�§TROIA♘ ♞HERON★�CAVALO★§�DE★§�§TROIA♘ ♞HERON★�CAVALO★§�DE★§�§TROIA♘ ♞HERON★�CAVALO★§�DE★§�§TROIA♘ ♞HERON★�CAVALO★§�DE★§�§TROIA♘ ♞HERON★�CAVALO★§�DE★§�§TROIA♘ ♞HERON★�CAVALO★§�DE★§�§TROIA♘ ♞HERON★�CAVALO★§�DE★§�§TROIA♘ ♞HERON★�CAVALO★§�DE★§�§TROIA♘ ♞HERON★�CAVALO★§�DE★§�§TROIA♘ ♞HERON★�CAVALO★§�DE★§�§TROIA♘ ♞HERON★�CAVALO★§�DE★§�§TROIA♘ ♞HERON★�CAVALO★§�DE★§�§TROIA♘ ♞HERON★�CAVALO★§�DE★§�§TROIA♘ ♞HERON★�CAVALO★§�DE★§�§TROIA♘ ♞HERON★�CAVALO★§�DE★§�§TROIA♘ ♞HERON★�CAVALO★§�DE★§�§TROIA♘ ♞HERON★�CAVALO★§�DE★§�§TROIA♘ ♞HERON★�CAVALO★§�DE★§�§TROIA♘ ♞HERON★�CAVALO★§�DE★§�§TROIA♘ ♞HERON★�CAVALO★§�DE★§�§TROIA♘ ♞HERON★�CAVALO★§�DE★§�§TROIA♘ ♞HERON★�CAVALO★§�DE★§�§TROIA♘ ♞HERON★�CAVALO★§�DE★§�§TROIA♘ ♞HERON★�CAVALO★§�DE★§�§TROIA♘ ♞HERON★�CAVALO★§�DE★§�§TROIA♘ ♞HERON★�CAVALO★§�DE★§�§TROIA♘ ♞HERON★�CAVALO★§�DE★§�§TROIA♘ ♞HERON★�CAVALO★§�DE★§�§TROIA♘ ♞HERON★�CAVALO★§�DE★§�§TROIA♘ ♞HERON★�CAVALO★§�DE★§�§TROIA♘ ♞HERON★�CAVALO★§�DE★§�§TROIA♘ ♞HERON★�CAVALO★§�DE★§�§TROIA♘ ♞HERON★�CAVALO★§�DE★§�§TROIA♘ ♞HERON★�CAVALO★§�DE★§�§TROIA♘ ♞HERON★�CAVALO★§�DE★§�§TROIA♘ ♞HERON★�CAVALO★§�DE★§�§TROIA♘ ♞HERON★�CAVALO★§�DE★§�§TROIA♘ ♞HERON★�CAVALO★§�DE★§�§TROIA♘ ♞HERON★�CAVALO★§�DE★§�§TROIA♘ ♞HERON★�CAVALO★§�DE★§�§TROIA♘ ♞HERON★�CAVALO★§�DE★§�§TROIA♘ ♞HERON★�CAVALO★§�DE★§�§TROIA♘ ♞HERON★�CAVALO★§�DE★§�§TROIA♘ ♞HERON★�CAVALO★§�DE★§�§TROIA♘ ♞HERON★�CAVALO★§�DE★§�§TROIA♘ ♞HERON★�CAVALO★§�DE★§�§TROIA♘ ♞HERON★�CAVALO★§�DE★§�§TROIA♘ ♞HERON★�CAVALO★§�DE★§�§TROIA♘ ♞HERON★�CAVALO★§�DE★§�§TROIA♘ ♞HERON★�CAVALO★§�DE★§�§TROIA♘ ♞HERON★�CAVALO★§�DE★§�§TROIA♘ ♞HERON★�CAVALO★§�DE★§�§TROIA♘ ♞HERON★�CAVALO★§�DE★§�§TROIA♘ ♞HERON★�CAVALO★§�DE★§�§TROIA♘ ♞HERON★�CAVALO★§�DE★§�§TROIA♘ ♞HERON★�CAVALO★§�DE★§�§TROIA♘ ♞HERON★�CAVALO★§�DE★§�§TROIA♘ ♞HERON★�CAVALO★§�DE★§�§TROIA♘ ♞HERON★�CA",
         "4096"
        ],
        [
         "11",
         "ROIA♘ ♞HERON★�CAVALO★§�DE★§�§TROIA♘ ♞HERON★�CAVALO★§�DE★§�§TROIA♘ ♞HERON★�CAVALO★§�DE★§�§TROIA♘ ♞HERON★�CAVALO★§�DE★§�§TROIA♘ ♞HERON★�CAVALO★§�DE★§�§TROIA♘ ♞HERON★�CAVALO★§�DE★§�§TROIA♘ ♞HERON★�CAVALO★§�DE★§�§TROIA♘ ♞HERON★�CAVALO★§�DE★§�§TROIA♘ ♞HERON★�CAVALO★§�DE★§�§TROIA♘ ♞HERON★�CAVALO★§�DE★§�§TROIA♘ ♞HERON★�CAVALO★§�DE★§�§TROIA♘ ♞HERON★�CAVALO★§�DE★§�§TROIA♘ ♞HERON★�CAVALO★§�DE★§�§TROIA♘ ♞HERON★�CAVALO★§�DE★§�§TROIA♘ ♞HERON★�CAVALO★§�DE★§�§TROIA♘ ♞HERON★�CAVALO★§�DE★§�§TROIA♘ ♞HERON★�CAVALO★§�DE★§�§TROIA♘ ♞HERON★�CAVALO★§�DE★§�§TROIA♘ ♞HERON★�CAVALO★§�DE★§�§TROIA♘ ♞HERON★�CAVALO★§�DE★§�§TROIA♘ ♞HERON★�CAVALO★§�DE★§�§TROIA♘ ♞HERON★�CAVALO★§�DE★§�§TROIA♘ ♞HERON★�CAVALO★§�DE★§�§TROIA♘ ♞HERON★�CAVALO★§�DE★§�§TROIA♘ ♞HERON★�CAVALO★§�DE★§�§TROIA♘ ♞HERON★�CAVALO★§�DE★§�§TROIA♘ ♞HERON★�CAVALO★§�DE★§�§TROIA♘ ♞HERON★�CAVALO★§�DE★§�§TROIA♘ ♞HERON★�CAVALO★§�DE★§�§TROIA♘ ♞HERON★�CAVALO★§�DE★§�§TROIA♘ ♞HERON★�CAVALO★§�DE★§�§TROIA♘ ♞HERON★�CAVALO★§�DE★§�§TROIA♘ ♞HERON★�CAVALO★§�DE★§�§TROIA♘ ♞HERON★�CAVALO★§�DE★§�§TROIA♘ ♞HERON★�CAVALO★§�DE★§�§TROIA♘ ♞HERON★�CAVALO★§�DE★§�§TROIA♘ ♞HERON★�CAVALO★§�DE★§�§TROIA♘ ♞HERON★�CAVALO★§�DE★§�§TROIA♘ ♞HERON★�CAVALO★§�DE★§�§TROIA♘ ♞HERON★�CAVALO★§�DE★§�§TROIA♘ ♞HERON★�CAVALO★§�DE★§�§TROIA♘ ♞HERON★�CAVALO★§�DE★§�§TROIA♘ ♞HERON★�CAVALO★§�DE★§�§TROIA♘ ♞HERON★�CAVALO★§�DE★§�§TROIA♘ ♞HERON★�CAVALO★§�DE★§�§TROIA♘ ♞HERON★�CAVALO★§�DE★§�§TROIA♘ ♞HERON★�CAVALO★§�DE★§�§TROIA♘ ♞HERON★�CAVALO★§�DE★§�§TROIA♘ ♞HERON★�CAVALO★§�DE★§�§TROIA♘ ♞HERON★�CAVALO★§�DE★§�§TROIA♘ ♞HERON★�CAVALO★§�DE★§�§TROIA♘ ♞HERON★�CAVALO★§�DE★§�§TROIA♘ ♞HERON★�CAVALO★§�DE★§�§TROIA♘ ♞HERON★�CAVALO★§�DE★§�§TROIA♘ ♞HERON★�CAVALO★§�DE★§�§TROIA♘ ♞HERON★�CAVALO★§�DE★§�§TROIA♘ ♞HERON★�CAVALO★§�DE★§�§TROIA♘ ♞HERON★�CAVALO★§�DE★§�§TROIA♘ ♞HERON★�CAVALO★§�DE★§�§TROIA♘ ♞HERON★�CAVALO★§�DE★§�§TROIA♘ ♞HERON★�CAVALO★§�DE★§�§TROIA♘ ♞HERON★�CAVALO★§�DE★§�§TROIA♘ ♞HERON★�CAVALO★§�DE★§�§TROIA♘ ♞HERON★�CAVALO★§�DE★§�§TROIA♘ ♞HERON★�CAVALO★§�DE★§�§TROIA♘ ♞HERON★�CAVALO★§�DE★§�§TROIA♘ ♞HERON★�CAVALO★§�DE★§�§TROIA♘ ♞HERON★�CAVALO★§�DE★§�§TROIA♘ ♞HERON★�CAVALO★§�DE★§�§TROIA♘ ♞HERON★�CAVALO★§�DE★§�§TROIA♘ ♞HERON★�CAVALO★§�DE★§�§TROIA♘ ♞HERON★�CAVALO★§�DE★§�§TROIA♘ ♞HERON★�CAVALO★§�DE★§�§TROIA♘ ♞HERON★�CAVALO★§�DE★§�§TROIA♘ ♞HERON★�CAVALO★§�DE★§�§TROIA♘ ♞HERON★�CAVALO★§�DE★§�§TROIA♘ ♞HERON★�CAVALO★§�DE★§�§TROIA♘ ♞HERON★�CAVALO★§�DE★§�§TROIA♘ ♞HERON★�CAVALO★§�DE★§�§TROIA♘ ♞HERON★�CAVALO★§�DE★§�§TROIA♘ ♞HERON★�CAVALO★§�DE★§�§TROIA♘ ♞HERON★�CAVALO★§�DE★§�§TROIA♘ ♞HERON★�CAVALO★§�DE★§�§TROIA♘ ♞HERON★�CAVALO★§�DE★§�§TROIA♘ ♞HERON★�CAVALO★§�DE★§�§TROIA♘ ♞HERON★�CAVALO★§�DE★§�§TROIA♘ ♞HERON★�CAVALO★§�DE★§�§TROIA♘ ♞HERON★�CAVALO★§�DE★§�§TROIA♘ ♞HERON★�CAVALO★§�DE★§�§TROIA♘ ♞HERON★�CAVALO★§�DE★§�§TROIA♘ ♞HERON★�CAVALO★§�DE★§�§TROIA♘ ♞HERON★�CAVALO★§�DE★§�§TROIA♘ ♞HERON★�CAVALO★§�DE★§�§TROIA♘ ♞HERON★�CAVALO★§�DE★§�§TROIA♘ ♞HERON★�CAVALO★§�DE★§�§TROIA♘ ♞HERON★�CAVALO★§�DE★§�§TROIA♘ ♞HERON★�CAVALO★§�DE★§�§TROIA♘ ♞HERON★�CAVALO★§�DE★§�§TROIA♘ ♞HERON★�CAVALO★§�DE★§�§TROIA♘ ♞HERON★�CAVALO★§�DE★§�§TROIA♘ ♞HERON★�CAVALO★§�DE★§�§TROIA♘ ♞HERON★�CAVALO★§�DE★§�§TROIA♘ ♞HERON★�CAVALO★§�DE★§�§TROIA♘ ♞HERON★�CAVALO★§�DE★§�§TROIA♘ ♞HERON★�CAVALO★§�DE★§�§TROIA♘ ♞HERON★�CAVALO★§�DE★§�§TROIA♘ ♞HERON★�CAVALO★§�DE★§�§TROIA♘ ♞HERON★�CAVALO★§�DE★§�§TROIA♘ ♞HERON★�CAVALO★§�DE★§�§TROIA♘ ♞HERON★�CAVALO★§�DE★§�§TROIA♘ ♞HERON★�CAVALO★§�DE★§�§TROIA♘ ♞HERON★�CAVALO★§�DE★§�§TROIA♘ ♞HERON★�CAVALO★§�DE★§�§TROIA♘ ♞HERON★�CAVALO★§�DE★§�§TROIA♘ ♞HERON★�CAVALO★§�DE★§�§TROIA♘ ♞HERON★�CAVALO★§�DE★§�§TROIA♘ ♞HERON★�CAVALO★§�DE★§�§TROIA♘ ♞HERON★�CAVALO★§�DE★§�§TROIA♘ ♞HERON★�CAVALO★§�DE★§�§TROIA♘ ♞HERON★�CAVALO★§�DE★§�§TROIA♘ ♞HERON★�CAVALO★§�DE★§�§TROIA♘ ♞HERON★�CAVALO★§�DE★§�§TROIA♘ ♞HERON★�CAVALO★§�DE★§�§TROIA♘ ♞HERON★�CAVALO★§�DE★§�§TROIA♘ ♞HERON★�CAVALO★§�DE★§�§TROIA♘ ♞HERON★�CAVALO★§�DE★§�§TROIA♘ ♞HERON★�CAVALO★§�DE★§�§TROIA♘ ♞HERON★�CAVALO★§�DE★§�§TROIA♘ ♞HERON★�CAVALO★§�DE★§�§TROIA♘ ♞HERON★�CAVALO★§�DE★§�§TROIA♘ ♞HERON★�CAVALO★§�DE★§�§TROIA♘ ♞HERON★�CAVALO★§�DE★§�§TROIA♘ ♞HERON★�CAVALO★§�DE★§�§TROIA♘ ♞HERON★�CAVALO★§�DE★§�§TROIA♘ ♞HERON★�CAVALO★§�DE★§�§TROIA♘ ♞HERON★�CAVALO★§�DE★§�§TROIA♘ ♞HERON★�CA",
         "4096"
        ],
        [
         "12",
         "ROIA♘ ♞HERON★�CAVALO★§�DE★§�§TROIA♘ ♞HERON★�CAVALO★§�DE★§�§TROIA♘ ♞HERON★�CAVALO★§�DE★§�§TROIA♘ ♞HERON★�CAVALO★§�DE★§�§TROIA♘ ♞HERON★�CAVALO★§�DE★§�§TROIA♘ ♞HERON★�CAVALO★§�DE★§�§TROIA♘ ♞HERON★�CAVALO★§�DE★§�§TROIA♘ ♞HERON★�CAVALO★§�DE★§�§TROIA♘ ♞HERON★�CAVALO★§�DE★§�§TROIA♘ ♞HERON★�CAVALO★§�DE★§�§TROIA♘ ♞HERON★�CAVALO★§�DE★§�§TROIA♘ ♞HERON★�CAVALO★§�DE★§�§TROIA♘ ♞HERON★�CAVALO★§�DE★§�§TROIA♘ ♞HERON★�CAVALO★§�DE★§�§TROIA♘ ♞HERON★�CAVALO★§�DE★§�§TROIA♘ ♞HERON★�CAVALO★§�DE★§�§TROIA♘ ♞HERON★�CAVALO★§�DE★§�§TROIA♘ ♞HERON★�CAVALO★§�DE★§�§TROIA♘ ♞HERON★�CAVALO★§�DE★§�§TROIA♘ ♞HERON★�CAVALO★§�DE★§�§TROIA♘ ♞HERON★�CAVALO★§�DE★§�§TROIA♘ ♞HERON★�CAVALO★§�DE★§�§TROIA♘ ♞HERON★�CAVALO★§�DE★§�§TROIA♘ ♞HERON★�CAVALO★§�DE★§�§TROIA♘ ♞HERON★�CAVALO★§�DE★§�§TROIA♘ ♞HERON★�CAVALO★§�DE★§�§TROIA♘ ♞HERON★�CAVALO★§�DE★§�§TROIA♘ ♞HERON★�CAVALO★§�DE★§�§TROIA♘ ♞HERON★�CAVALO★§�DE★§�§TROIA♘ ♞HERON★�CAVALO★§�DE★§�§TROIA♘ ♞HERON★�CAVALO★§�DE★§�§TROIA♘ ♞HERON★�CAVALO★§�DE★§�§TROIA♘ ♞HERON★�CAVALO★§�DE★§�§TROIA♘ ♞HERON★�CAVALO★§�DE★§�§TROIA♘ ♞HERON★�CAVALO★§�DE★§�§TROIA♘ ♞HERON★�CAVALO★§�DE★§�§TROIA♘ ♞HERON★�CAVALO★§�DE★§�§TROIA♘ ♞HERON★�CAVALO★§�DE★§�§TROIA♘ ♞HERON★�CAVALO★§�DE★§�§TROIA♘ ♞HERON★�CAVALO★§�DE★§�§TROIA♘ ♞HERON★�CAVALO★§�DE★§�§TROIA♘ ♞HERON★�CAVALO★§�DE★§�§TROIA♘ ♞HERON★�CAVALO★§�DE★§�§TROIA♘ ♞HERON★�CAVALO★§�DE★§�§TROIA♘ ♞HERON★�CAVALO★§�DE★§�§TROIA♘ ♞HERON★�CAVALO★§�DE★§�§TROIA♘ ♞HERON★�CAVALO★§�DE★§�§TROIA♘ ♞HERON★�CAVALO★§�DE★§�§TROIA♘ ♞HERON★�CAVALO★§�DE★§�§TROIA♘ ♞HERON★�CAVALO★§�DE★§�§TROIA♘ ♞HERON★�CAVALO★§�DE★§�§TROIA♘ ♞HERON★�CAVALO★§�DE★§�§TROIA♘ ♞HERON★�CAVALO★§�DE★§�§TROIA♘ ♞HERON★�CAVALO★§�DE★§�§TROIA♘ ♞HERON★�CAVALO★§�DE★§�§TROIA♘ ♞HERON★�CAVALO★§�DE★§�§TROIA♘ ♞HERON★�CAVALO★§�DE★§�§TROIA♘ ♞HERON★�CAVALO★§�DE★§�§TROIA♘ ♞HERON★�CAVALO★§�DE★§�§TROIA♘ ♞HERON★�CAVALO★§�DE★§�§TROIA♘ ♞HERON★�CAVALO★§�DE★§�§TROIA♘ ♞HERON★�CAVALO★§�DE★§�§TROIA♘ ♞HERON★�CAVALO★§�DE★§�§TROIA♘ ♞HERON★�CAVALO★§�DE★§�§TROIA♘ ♞HERON★�CAVALO★§�DE★§�§TROIA♘ ♞HERON★�CAVALO★§�DE★§�§TROIA♘ ♞HERON★�CAVALO★§�DE★§�§TROIA♘ ♞HERON★�CAVALO★§�DE★§�§TROIA♘ ♞HERON★�CAVALO★§�DE★§�§TROIA♘ ♞HERON★�CAVALO★§�DE★§�§TROIA♘ ♞HERON★�CAVALO★§�DE★§�§TROIA♘ ♞HERON★�CAVALO★§�DE★§�§TROIA♘ ♞HERON★�CAVALO★§�DE★§�§TROIA♘ ♞HERON★�CAVALO★§�DE★§�§TROIA♘ ♞HERON★�CAVALO★§�DE★§�§TROIA♘ ♞HERON★�CAVALO★§�DE★§�§TROIA♘ ♞HERON★�CAVALO★§�DE★§�§TROIA♘ ♞HERON★�CAVALO★§�DE★§�§TROIA♘ ♞HERON★�CAVALO★§�DE★§�§TROIA♘ ♞HERON★�CAVALO★§�DE★§�§TROIA♘ ♞HERON★�CAVALO★§�DE★§�§TROIA♘ ♞HERON★�CAVALO★§�DE★§�§TROIA♘ ♞HERON★�CAVALO★§�DE★§�§TROIA♘ ♞HERON★�CAVALO★§�DE★§�§TROIA♘ ♞HERON★�CAVALO★§�DE★§�§TROIA♘ ♞HERON★�CAVALO★§�DE★§�§TROIA♘ ♞HERON★�CAVALO★§�DE★§�§TROIA♘ ♞HERON★�CAVALO★§�DE★§�§TROIA♘ ♞HERON★�CAVALO★§�DE★§�§TROIA♘ ♞HERON★�CAVALO★§�DE★§�§TROIA♘ ♞HERON★�CAVALO★§�DE★§�§TROIA♘ ♞HERON★�CAVALO★§�DE★§�§TROIA♘ ♞HERON★�CAVALO★§�DE★§�§TROIA♘ ♞HERON★�CAVALO★§�DE★§�§TROIA♘ ♞HERON★�CAVALO★§�DE★§�§TROIA♘ ♞HERON★�CAVALO★§�DE★§�§TROIA♘ ♞HERON★�CAVALO★§�DE★§�§TROIA♘ ♞HERON★�CAVALO★§�DE★§�§TROIA♘ ♞HERON★�CAVALO★§�DE★§�§TROIA♘ ♞HERON★�CAVALO★§�DE★§�§TROIA♘ ♞HERON★�CAVALO★§�DE★§�§TROIA♘ ♞HERON★�CAVALO★§�DE★§�§TROIA♘ ♞HERON★�CAVALO★§�DE★§�§TROIA♘ ♞HERON★�CAVALO★§�DE★§�§TROIA♘ ♞HERON★�CAVALO★§�DE★§�§TROIA♘ ♞HERON★�CAVALO★§�DE★§�§TROIA♘ ♞HERON★�CAVALO★§�DE★§�§TROIA♘ ♞HERON★�CAVALO★§�DE★§�§TROIA♘ ♞HERON★�CAVALO★§�DE★§�§TROIA♘ ♞HERON★�CAVALO★§�DE★§�§TROIA♘ ♞HERON★�CAVALO★§�DE★§�§TROIA♘ ♞HERON★�CAVALO★§�DE★§�§TROIA♘ ♞HERON★�CAVALO★§�DE★§�§TROIA♘ ♞HERON★�CAVALO★§�DE★§�§TROIA♘ ♞HERON★�CAVALO★§�DE★§�§TROIA♘ ♞HERON★�CAVALO★§�DE★§�§TROIA♘ ♞HERON★�CAVALO★§�DE★§�§TROIA♘ ♞HERON★�CAVALO★§�DE★§�§TROIA♘ ♞HERON★�CAVALO★§�DE★§�§TROIA♘ ♞HERON★�CAVALO★§�DE★§�§TROIA♘ ♞HERON★�CAVALO★§�DE★§�§TROIA♘ ♞HERON★�CAVALO★§�DE★§�§TROIA♘ ♞HERON★�CAVALO★§�DE★§�§TROIA♘ ♞HERON★�CAVALO★§�DE★§�§TROIA♘ ♞HERON★�CAVALO★§�DE★§�§TROIA♘ ♞HERON★�CAVALO★§�DE★§�§TROIA♘ ♞HERON★�CAVALO★§�DE★§�§TROIA♘ ♞HERON★�CAVALO★§�DE★§�§TROIA♘ ♞HERON★�CAVALO★§�DE★§�§TROIA♘ ♞HERON★�CAVALO★§�DE★§�§TROIA♘ ♞HERON★�CAVALO★§�DE★§�§TROIA♘ ♞HERON★�CAVALO★§�DE★§�§TROIA♘ ♞HERON★�CAVALO★§�DE★§�§TROIA♘ ♞HERON★�CAVALO★§�DE★§�§TROIA♘ ♞HERON★�CAVALO★§�DE★§�§TROIA♘ ♞HERON★�CAVALO★§�DE★§�§TROIA♘ ♞HERON★�CA",
         "4096"
        ],
        [
         "13",
         "CCCCCCCCCCCCCCCCCCCCCCCHHHHHHHHHHHHHHHHHHHHHOOOOOOOOOOOOOOOOOOOOOORRRRRRRRRRRRRRRRRRRRRRRRAAAAAAAAÁAAAAAAAAAAAAAA\n\nESQUERDALHAAAAAAAAAAAAA\n😂😂😂😂😂😂😂😂😂😂😂😂😂😂😂😂😂😂😂😂😂😂😂😂😂😂😂😂😂😂😂😂😂😂😂😂😂😂😂😂😂😂😂😂😂😂😂😂😂😂😂😂😂😂😂😂😂😂😂😂\n\nJÁ ESTAMOS DE OLHOS NOS PLANOS DE VOCÊS SABEMOS DOS GRUPOS FAKE \n😂😂😂😂😂😂😂😂😂😂😂😂😂😂😂😂😂😂😂😂😂😂😂😂\n\nESTAMOS EM TODOS OS SEUS GRUPOS VENDO CADA PASSO DE  VOCÊS \n😂😂😂😂😂😂😂😂😂😂😂😂\n\n22 22 22 22 22 22 22 22 22 22 22 22 22 22 22 22 22 22 22 22 22 22 22 22 22 22 22 22 22 22 22 22 22 22 22 22 22 22 22\n\n22 22 22 22 22 22 22 22 22 22 22 22 22 22 22 22 22 22 22 22 22 22 22 22 22 22 22 22 22 22 \n22 22 22 22 22 22 22 22 22 22 22 22 22 22 22 22 22 22 22 22 22 22 22 22 22 22 22 22 22 \n22 22 22 22 22 22 22 22 22 22 22 22 22 22 22 22 22 22 22 22 22 22 22 22 22 22 22 22 22 \n22 22 22 22 22 22 22 22 22 22 22 22 22 22 22 22 22 22 22 22 22 22 22 22 22 22 22 22 22 \n22 22 22 22 22 22 22 22 22 22 22 22 22 22 22 \n22 22 22 22 22 22 22 22 22 22 22 22 22 22 22 22 22 22 22 22 22 22 22 22 22 22 22 22 \n22 22 22 22 22 22 22 22 22 22 22 22 22 22 22 22 22 22 22 22 22 22 22 22 22 22 22 22 22 \n22 22 22 22 22 22 22 22 22 22 22 22 22 22 22 22 22 22 22 22 22 22 22 22 22 22 22 22 22 \n22 22 22 22 22 22 22 22 22 22 22 22 22 22 22 22 22 22 22 22 22 22 22 22 22 22 22 22 22\n22 22 22 22 22 22 22 22 22 22 22 22 22 22 22 22 22 22 22 22 22 22 22 22 22 22 22 22 22 \n22 22 22 22 22 22 22 22 22 22 22 22 22 22 22 22 22 22 22 22 22 22 22 22 22 22 22 22 22 \n22 22 22 22 22 22 22 22 22 22 22 22 22 22 22 22 22 22 22 22 22 22 22 22 22 22 22 22 22 22 22 22 22 22 22 22 22 22 22 22 22 22 22 22 22 22 22 22 22 22 22 22 22 22 22 22 22 22 22 22 22 22 22 22 22 22 22 22 22 22 22 22 22 22 22 22 22 22 22 22 22 22 22 22 22 22 22 22 22 22 22 22 22 22 22 22 22 22 22 22 22 22 22 22 22 22 22 22 22 22 22 22 22 22 22 22 22 22 22 22 22 22 22 22 22 22 22 22 22 22 22 22 22 22 22 22 \n22 22 22 22 22 22 22 22 22 22 22 22 22 22 22 22 22 22 22 22 22 22 22 22 22 22 22 22 22 \n22 22 22 22 22 22 22 22 22 22 22 22 22 22 22 22 22 22 22 22 22 22 22 22 22 22 22 22 22 \n22 22 22 22 22 22 22 22 22 22 22 22 22 22 22 22 22 22 22 22 22 22 22 22 22 22 22 22 22 \n22 22 22 22 22 22 22 22 22 22 22 22 22 22 22 22 22 22 22 22 22 22 22 22 22 22 22 22 22 \n22 22 22 22 22 22 22 22 22 22 22 22 22 22 22 22 \n22 22 22 22 22 22 22 22 22 22 22 22 22 22 22 22 22 22 22 22 22 22 22 22 22 22 22 22 22 \n22 22 22 22 22 22 22 22 22 22 22 22 22 22 22 22 22 22 22 22 22 22 22 22 22 22 22 22 22 \n22 22 22 22 22 22 22 22 22 22 22 22 22 22 22 22 22 22 22 22 22 22 22 22 22 22 22 22 22 \n22 22 22 22 22 22 22 22 22 22 22 22 22 22 22 22 22 22 22 22 22 22 22 22 22 22 22 22 22 \n22 22 22 22 22 22 22 22 22 22 22 22 22 22 22 22 22 22 22 22 22 22 22 22 22 22 22 22 22 \n22 22 22 22 22 22 22 22 22 22 22 22 22 22 22 22 22 22 22 22 22 22 22 22 22 22 22 22 22 22 22 22 22 22 22 22 22 22 22 22 22 22 \n22 22 22 22 22 22 22 22 22 22 22 22 22 22 22 22 22 22 22 22 22 22 22 22 22 22 22 22 22 22 22 22 22 22 22 22 22 22 222 22 22 22 \n22 22 22 22 22 22 22 22 22 22 22 22 22 22 22 22 22 22 22 22 22 22 22 22 22 22 22 22 22 22 \n22 22 22 22 22 22 22 22 22 22 22 22 22 22 22 22 22 22 22 22 22 22 22 22 22 22 22 22 22 22 22 22 22 22 22 22 22 22 22 22 22 22 22 22 22 22 22 22 22 22 22 22 22 22 22 22 22 22 22 22 22 22 22 22 22 22 22 22 22 22 22 22 22 22 22 22 22 22 22 22 22 22 22 22 22 22 22 22 22 22 22 22 22 22 22 22 22 22 22 22 22 22 22 22 22 22 22 22 22 22 22 22 22 22 22 22 22 22 22 22 22 22 22 22 22 22 22 22 22 22 22 22 \n22 22 22 22 22 22 22 22 22 22 22 22 22 22 22 22 22 22 22 22 22 22 22 22 22 22 22 22 22 22 \n22 22 22 22 22 22 22 22 22 22 22 22 22 22 22 22 22 22 22 22 22 22 22 22 22 22 22 22 22 22 \n22 22 22 22 22 22 22 22 22 22 22 22 22 22 22 22 22 22 22 22 22 22 22 22 22 22 22 22 22 \n22 22 22 22 22 22 22 22 22 22 22 22 22 22 22 22 22 22 22 22 22 22 22 22 22 22 22 22 22 22 \n22 22 22 22 22 22 22 22 22 22 22 22 22 22 22 22 22 22 22 22 22 22 22 22 22 22 22 22 22 \n22 22 22 22 22 22 22 22 22 22 22 22 22 22 22 22 22 22 22 22 22 22 22 22 22 22 22 22 22 22 22 22 22 22 22 22 22 22 22 22 22 22 22 22 22 22 22 22 22 22 22 22 22 22 22 22 22 22 22 22 22 22 22 22 22 22 22 22 22 22 22 22 22 22 22 22 22 22 22 22 22 22",
         "4096"
        ],
        [
         "14",
         "[Encaminhado de FYI-Brasil (Sú)]\n🚨ELEIÇÕES DE 2022 NO BRASIL 🇧🇷 DIVULGADO O ESCÂNDALO QUE TODO MUNDO SUSPEITAVA!\n\nTalvez, isso explique o fato do ex-deputado Roberto Jefferson ter declarado a seguinte frase: “Se as pessoas soubessem o que aconteceu nos bastidores do TSE, ficariam enojadas.”\n\nMuitos eleitores ficaram chocados e surpresos com a derrota de Bolsonaro no pleito de 2022. Não deveriam.\nO que está exposto abaixo é a notícia em primeira mão que está sendo investigada por rádios e jornais de todo o Brasil e do mundo, mais especificamente Wall Street Journal of Americas e a CBC, e deve sair na grande mídia a qualquer instante.\n\nFato comprovado: o Alexandre de Moraes VENDEU o resultado das eleições presidenciais para o PT.\nOs representantes das campanhas dos candidatos foram avisada à 00:00 do dia 29 de Outubro, logo após o debate da Rede Globo, em uma reunião envolvendo o Sr. José Roberto Marinho (na única vez que o ex-presidente da emissora compareceu no estúdio de gravação), o (diretor da campanha do PT), o próprio William Bonner, o Sr. Frederick Wassef (advogado de Bolsonaro), o Sr. Jalim Habbei (advogado de Lula no TSE).\nLula permaneceu no lobby do hotel com Janja, enquanto Bolsonaro era entrevistado ao vivo, logo após o debate.\nA princípio muito contrariado, Alckmin se recusou a participar das conversas, mas a  aceitação veio através da promessa de corrupção com a entrega dos lucros da Petrobras de mais de R$ 200 BILHÕES em propina, além da concessão de perdão presidencial aos condenados no Mensalão e no Petrolão, com a vitória de Lula e seu retorno à presidência.\n\nA fraude ao resultado se daria com a alteração interna do algoritmo das urnas eletrônicas feito pelo próprio TSE, para que, com cerca de 80% das urnas apuradas, por volta de 19:00 do domingo, a Rede Globo anunciaria a informação privilegiada de que Lula conseguiu uma “virada inédita na história”, com margem mínima de diferença de menos de 1%, alterando o prognóstico de vitória do Bolsonaro apontado pelas pesquisas DataPovo que estava se confirmando, sendo ultrapassado por Lula apenas nas últimas urnas, confirmando o acordado.\n\nO sistema de “auto hacker” feito na sala secreta do Tribunal Superior Eleitoral acordado na reunião ocorreria durante a apuração sem a fiscalização dos militares. A negociata no TSE teve o aval do Presidente da Câmara e do Senado, Arthur Lira, a quem foi prometido a continuidade do “Orçamento Secreto”, sem interferência do STF ou investigações do Ministério Público, garantindo a corrupção durante todo o mandato de Lula, juntamente com PSOL, PCdoB e toda a esquerda. Moraes assegurou que qualquer contestação ao resultado das eleições seria incluída no Inquérito das Fake News no Supremo e censurada imediatamente, retirando qualquer notícia contrária do ar para assegurar a vitória do petista até a posse de Lula.\n\nAssim, combinou-se que Lula venceria as eleições sem o auditamento das urnas e com o reconhecimento imediato do resultado da vitória do PT pelo TSE e pelo Supremo, sem direito à recontagem. A vitória do PT confirmaria o maior escândalo de corrupção da história do Brasil, acertado de antemão nas vésperas da eleição com o STF e o TSE. Assim, o PT teria facilitado o caminho para implantar o comunismo no Brasil e na América Latina, com ensino de ideologia de gênero de Paulo Freire nas escolas e o fechamento de igrejas.\n\nBolsonaro, que absolutamente não participou desta negociação, foi informado pelos militares sobre a fraude eleitoral na madrugada do dia seguinte, por meio de relatório confidencial, para que fossem adiadas as eleições até que fosse realizada a auditoria das urnas pelos militares, que demonstraria a sua reeleição dentro das 4 linhas da Constituição.\n\nJá está no Supremo a ação movida por Lula para que seja confirmada sua posse independente de auditoria das urnas, nas mãos do Ministro Dias Toffoli, indicado ao STF pelo PT, em liminar que selará a farsa das eleições de 2022. \n\nRepassem, para que todos possam saber de uma vez por todas a fraude das eleições e sobre todas as sujeiras que rondam o mundo da política.",
         "4096"
        ],
        [
         "15",
         "1: Aconteceu também naqueles dias, quando não havia melech em Yisra-EL, que certo levita, habitante das partes remotas da região montanhosa de Efraim, tomou para si uma concubina, de Beit Lehem de Yehudah. \n2: Ora, a sua concubina adulterou contra ele e, deixando-o, foi para moradia de seu abba em Beit Lehem de Yehudah, e ali ficou uns quatro meses. \n3: Seu marido, levantando-se, foi atrás dela para lhe falar bondosamente, a fim de tornar a trazê-la; e levava consigo o seu moço e um par de jumentos. Ela o levou à moradia de seu abba, o qual, vendo-o, saiu alegremente a encontrar-se com ele. \n4: E seu sogro, o abba da moça, o deteve consigo três dias; assim comeram e beberam, e se alojaram ali. \n5: Ao quarto dia madrugaram, e ele se levantou para partir. Então o abba da moça disse a seu genro: Fortalece-te com um bocado de pão, e depois partireis: \n6: Sentando-se, ambos juntos, comeram e beberam; e disse o abba da moça ao homem: Peço-te que fiques ainda esta noite aqui, e alegre-se o teu lev. \n7: O homem, porém, levantou-se para partir; mas, como seu sogro insistisse, tornou a passar a noite ali. \n8: Também ao quinto dia madrugaram para partir; e disse o abba da moça: Neste momento, conforta o teu lev, e detém-te até o declinar do dia. E ambos juntos comeram. \n9: Então o homem se levantou para partir, ele, a sua concubina, e o seu moço; e disse seu sogro, o abba da moça: Já o dia declina para a tarde; peço a você que aqui passes a noite. O dia já vai acabando; passa aqui a noite, e alegre-se o teu lev: Amanhã de madrugada levanta-te para encetares viagem, e irás para a tua tenda. \n10: Entretanto, o homem não quis passar a noite ali, mas, levantando-se, partiu e chegou à altura de Jebus (que é Yerushalaim), e com ele o par de jumentos albardados, como também a sua concubina. \n11: Quando estavam perto de Jebus, já o dia tinha declinado muito; e disse o moço a seu adon: Vem, peço a você, retiremo-nos a esta cidade dos Yvusiy, e passemos nela a noite. \n12: Respondeu, porém, o seu adon: Não nos retiraremos a nenhuma cidade estrangeira, que não seja dos bney-ysraEL, mas passaremos até Gibeá. \n13: Disse mais a seu moço: Vem, cheguemos a um destes lugares, Gibeá ou Ramá, e passemos ali a noite. \n14: Passaram, continuando o seu caminho; e o sol se pôs quando estavam perto de Gibeá, que pertence a Biniamim. \n15: Pelo que se dirigiram para lá, a fim de passarem ali a noite; e o levita, entrando, sentou-se na praça da cidade, porque não houve quem os recolhesse em casa para ali passarem a noite. \n16: Ao anoitecer vinha do seu trabalho no campo um longevo; era ele da região montanhosa de Efraim, mas habitava em Gibeá; os homens deste lugar, porém, eram benyamitas. \n17: Levantando ele os olhos, viu na praça da cidade o viajante, e indagou-lhe: Para onde vais, e de onde vens? \n18: Respondeu ele: Estamos de viagem de Beit Lehem de Yehudah para as partes remotas da região montanhosa de Efraim, de onde sou. Fui a Beit Lehem de Yehudah, porém agora vou à casa de Yhwh ; e ninguém há que me recolha em casa. \n19: Contudo temos palha e forragem para os nossos jumentos; também há pão e vinho para mim, para a tua serva, e para o moço que vem com os teus servos; de coisa nenhuma há falta. \n20: Disse o longevo: Shalom seja contigo; tudo quanto te faltar fique ao meu cargo; tão-somente não passes a noite na praça. \n21: Assim o fez entrar em sua casa, e deu ração aos jumentos; e, depois de lavarem os pés, comeram e beberam. \n22: Enquanto eles alegravam o seu lev, os homens daquela cidade, filhos de Belial, cercaram a casa, bateram à porta, e disseram ao longevo, dono da casa: Traze cá para fora o homem que entrou em tua casa, para que o conheçamos. \n23: O dono da casa saiu a ter com eles, e disse a eles: Não, irmãos meus, não façais semelhante mal; já que este homem entrou em minha casa, não façais essa loucura. \n24: Aqui estão a minha filha virgem e a concubina do homem; fá-las-ei sair; humilhai-as a elas, e fazei delas o que parecer bem aos seus olhos; porém a este homem não façais tal loucura. \n25: Mas esses homens não o quiseram ouvir; então aque",
         "4096"
        ],
        [
         "16",
         "1: Naqueles dias não havia melech em Yisra-EL; a tribo dos danitas buscava para si herança em que morar; porque até então não lhe havia caído a sua herança entre as tribos de Yisra-EL. \n2: E de Zorá e Estaol os filhos de Dã enviaram cinco homens da sua tribo, escolhidos no meio de todo o povo, homens valorosos, para espiar e reconhecer a terra; e lhes disseram: Vão, reconhecei a terra. E chegaram eles à região montanhosa de Efraim, à casa de Mica, e passaram ali a noite. \n3: Pois, estando eles perto da casa de Mica, reconheceram a voz do jovem levita; e, dirigindo-se para lá, lhe perguntaram: Quem te trouxe para cá? Que estás fazendo aqui? E que é isto que tens aqui? \n4: E ele respondeu a eles: Assim e assim me tem feito Mica; ele me assalariou, e eu lhe sirvo e kohen. \n5: Então lhe disseram: Consulta o Eterno, para que saibamos se será próspero o caminho que seguimos. \n6: Ao que lhes disse o kohen: Vão em shalom; perante Yhwh está o caminho que seguis. \n7: Então foram-se aqueles cinco homens, e chegando a Laís, viram o povo que havia nela, como vivia em segurança, conforme o costume dos sidônios, quieto e desprecavido; não havia naquela terra falta de coisa alguma; era um povo rico e, estando longe dos sidônios, não tinha relações com ninguém. \n8: Então voltaram a seus irmãos, em Zorá e Estaol, os quais lhes perguntaram: Que dizeis vocês? \n9: Eles responderam: Levantai-vos, e subamos contra eles; porque examinamos a terra, e é muito boa. E vocês estareis aqui tranquilos? Não sejais preguiçosos em adentrar para tomar posse desta terra. \n10: Quando lá chegardes, achareis um povo desprecavido, e a terra é muito espaçosa; o Eterno vos entregou na mão um lugar em que não há falta de coisa alguma que há na terra. \n11: Então seiscentos homens da tribo dos danitas partiram de Zorá e Estaol, munidos de armas de guerra. \n12: E, tendo subido, acamparam-se em Quiriate-Jearim, em Yehudah; pelo que esse lugar ficou sendo chamado Maané-Dã, até o dia de hoje; está ao ocidente de Quiriate-Jearim. \n13: Dali passaram à região montanhosa de Efraim, e chegaram à casa de Mica. \n14: Então os cinco homens que tinham ido espiar a terra de Laís disseram a seus irmãos: Sabeis vocês que naquelas casas há um éfode, e terafins, e uma imagem esculpida e uma de fundição? Considerai, agora o que haveis de fazer. \n15: Então se dirigiram para lá, e chegaram à casa do jovem, o levita, à casa de Mica, e o saudaram. \n16: E os seiscentos homens dos danitas, munidos de suas armas de guerra, ficaram à entrada da porta. \n17: Mas subindo os cinco homens que haviam espiado a terra, entraram ali e tomaram a imagem esculpida, e éfode, os terafins e a imagem de fundição, ficando o kohen em pé à entrada da porta, com os seiscentos homens armados. \n18: Quando eles entraram na casa de Mica, e tomaram a imagem esculpida, o éfode, os terafins e a imagem de fundição, perguntou-lhes o kohen: Que estais fazendo? \n19: E eles lhe responderam: Fique quieto, põe a mão sobre a boca, e vem conosco, e sê-nos por abba e kohen. Que te é melhor? Ser kohen da casa dum só homem, ou duma tribo e duma geração em Yisra-EL? \n20: Então alegrou-se o lev do kohen, o qual tomou o éfode, os terafins e a imagem esculpida, e entrou no meio do povo. \n21: E, virando-se, partiram, tendo posto diante de si os pequeninos, o gado e a bagagem. \n22: Estando eles já longe da casa de Mica, os homens que estavam nas casas vizinhas à dele se reuniram, e alcançaram os filhos de Dã. \n23: E clamaram após os filhos de Dã, os quais, virando-se, perguntaram a Mica: Que é que tens, visto que vens com tanta gente? \n24: Então ele respondeu: Os meus elohim que eu fiz, vocês me tomastes, juntamente com o kohen, e vos fostes; e agora, que mais me fica? Como, me dizeis: Que é que tens? \n25: Mas os filhos de Dã lhe disseram: Não faças ouvir a tua voz entre nós, para que acaso homens violentos não se lancem sobre vocês, e tu percas a tua vida, e a vida dos da tua casa. \n26: Assim seguiram o seu caminho os filhos de Dã; e Mica, vendo que eram mais fortes do que ele, virou-se e voltou para sua casa. \n27: Eles, levaram os obj",
         "4096"
        ],
        [
         "17",
         "COMO O SOCIALISMO DESTRUIU A VENEZUELA EM POUCOS ANOS!\n\nA Venezuela foi o primeiro país sul-americano a conquistar sua independência da Espanha, em 1813, pelas mãos de Simon Bolívar. Em 1922, descobriu-se a primeira grande jazida de petróleo, na cidade de Zulia. Em seis anos, aquele país já era o segundo maior produtor de petróleo do mundo, atrás apenas dos EUA. Durante a segunda grande guerra, foi o maior fornecedor de óleo bruto aos americanos. Em 1945, produzia mais petróleo que todos os países do Oriente Médio juntos. Em 1950, apresentava o quarto maior PIB per capita do planeta. A Venezuela era duas vezes mais rica que o Chile, quatro vezes mais rica que o Japão e doze vezes mais que a China. Em 1960, junto com Arábia Saudita, Irã, Iraque e Kuwait, fundou a OPEP. Em 1990, os venezuelanos eram, na média, um povo rico. Contudo, pequenos bolsões de miséria ainda persistiam, como de resto em todos os países da América Latina. Foi aí que, em 1998, surgia um \"Salvador da Pátria\" que iria acabar com a pobreza do povo: Hugo Chávez.\nA partir de 1999 e durante os próximos dez anos, os aumentos do preço mundial do petróleo fizeram de Hugo Chávez um homem muito poderoso e multibilionário, que chegou a influenciar diretamente vários países latino-americanos e até mesmo outros continentes, com suas doações de óleo em troca de \"serviços\" - apoio a sua revolução bolivariana. A PDVSA, estatal do petróleo venezuelana, foi precisamente o instrumento de que Chávez se utilizou para a construção do \"seu mundo\". Como uma \"vaca leiteira\", a empresa foi usada com propósitos político-ideológicos, mas também para o luxo e a riqueza do núcleo duro do chavismo. Em 1999, Chavez e Fidel Castro assinaram um acordo, pelo qual a Venezuela remeteria 53 mil barris de petróleo diários para Cuba, em troca do envio de 12 mil \"médicos\" cubanos para a Venezuela. Essas remessas de petróleo chegaram a 100 mil barris diários, mais que o consumo de toda a ilha caribenha, sendo que Fidel vendia o excedente para outros países (atualmente há cerca de 60 mil cubanos na Venezuela, controlando desde a segurança do presidente Maduro, até as forças armadas e de inteligência). Chávez entregou aos cubanos toda a emissão de passaportes e demais documentos de identificação. Além disso, deixou de investir dinheiro no seu país, para comprar bilhões de dólares em títulos da dívida de países amigos, como Cuba, Argentina, Bolívia e Equador. O ditador venezuelano, no seu delírio proto-comunista, estatizou todos os setores da agricultura, que foram relegados ao abandono, assim como fábricas de alimentos, supermercados, redes de rádio e TV. A maioria fechou. O resultado disso foi que, em menos de uma década de chavismo, a proporção de alimentos produzidos na Venezuela caiu mais de 60%. A partir de 2008, a importação de itens básicos, como remédios e alimentos, foi terceirizada para empresas estatais cubanas, como Alimport, Cuba Control e Surimport, que cobram altas taxas de intermediação. Mais uma forma de financiar a ditadura cubana. No final de 2013, os preços do petróleo começaram a cair, levando a Venezuela a atrasar seus compromissos internacionais. A partir de 2014, com a posse de Maduro em função da morte de Chávez, a destruição daquele país se acelerou. A inflação chegou a 700%, e o índice de desabastecimento chega a ser superior a 80%. Em 2017, a inflação chegou a 2.616%, a maior do planeta. Entre 2015 e 2016, 74% da população perdeu 8 quilos ou mais, em função da fome. No final de 2016, 93,3% dos venezuelanos não tinham como cobrir as despesas com alimentação para garantir uma dieta mínima de 2000 calorias. As pessoas passaram a abandonar seus animais de estimação nas ruas, porque não tinham mais como lhes comprar ração. Esses animais passaram a ser caçados e abatidos para servirem de alimento à população faminta. Nem os animais dos zoológicos foram poupados, bem como os famosos pombos que habitavam as centenas de praças chamadas Simon Bolívar em todo o país. Em 2017, a Venezuela teve de aumentar drasticamente sua importação de petróleo, devido ao sucateamento da PDVSA,",
         "4096"
        ],
        [
         "18",
         "Vamos lá... \nPra não perder o costume, mais um \"escândalo\" nas Índias de Cabral. Eu, acostumado com a política brasileira, morreria de tédio na Dinamarca. \n\nAntes que venham falar que estou \"virando casaca\" ou \"dividindo a direita\", voltem meus textos e vejam quantas vezes já critiquei duramente o \"Leão Conservador\". Sempre julguei sua proximidade algo extremamente perigoso. E Bolsonaro também não pensa diferente. Isso fica claro no momento que, mesmo o PTB escancarando as portas para o Presidente, inclusive para abrigar sua candidatura, ele não concede nenhum protagonismo ao partido, fortalecendo outras legendas na base aliada. \n\nJefferson é um corrupto, que se transformou em \"herói\" quando \"caiu atirando\". É tão sujo quanto os demais deputados mensaleiros. Só denunciou a farra com o dinheiro público (que ele participava) quando começou a ser alvo da justiça e não teve apoio de seus corruptores. Nada diferente do que Eduardo Cunha fez, na época do impeachment, e o próprio Alexandre de Moraes está fazendo: Na iminência de sua cassação, com a chegada da nova bancada no Senado, está  \"vendendo caro a sua pele\". \n\nNão estou, em nenhum momento, defendendo as arbitrariedades do STF. Longe disso! Mas existem outras maneiras de combatê-las. A principal é elegendo senadores sérios, como já foi feito. Agora, é questão de tempo. Demoraram décadas, aliás, para que se instalasse esse circo no Brasil (e o próprio Roberto Jefferson ajudou a estender grande parte da lona); claro que não seria desmontado da noite para o dia. \n\nEu entendo a revolta dos brasileiros. Também me revolto. A questão é que PRECISAMOS USAR A INTELIGÊNCIA. Moraes está apostando todas as suas fichas na Guerra Psicológica. \n\nFarei, neste caso, a mesma pergunta que fiz no caso do Daniel Silveira: CUI BONO? Quem se beneficia com toda essa palhaçada? \n\nOs \"chiliques\" não ajudam em nada o Presidente. Pelo contrário. Só aumentam o mal-estar e alimentam narrativas. \n\nPensem: Na semana em que o autoritarismo de Alexandre de Moraes virou manchete no progressista NY Times; que a falta de limites do Ministro, que censurou até explicações jurídicas de um ex-colega, está sendo exposta para o mundo, Roberto Jefferson recebe a Policia Federal a tiros. \n\nÓBVIO que toda essa situação foi fabricada. O ex deputado está em PRISÃO DOMICILIAR (não estou discutindo, aqui, a legalidade da mesma), PROIBIDO DE USAR REDES SOCIAIS. \n\nQual, então, seria a reação do STF, ao vê-lo usando as redes JUSTAMENTE para atacar uma Ministra daquele Tribunal? \nERA NECESSÁRIO? Há uma semana do segundo-turno, isso beneficia alguém, além da oposição? \n\nQuais narrativas o fato alimenta? \n\n\"Moraes não está errado. Está combatendo pessoas violentas e insanas.\" \nIsso só seria mudado com a morte de RJ pela PF, que o transformaria em um mártir e classificaria o Ministro como um ditador sanguinário. Claro que ninguém vai permitir que a ocorrência evolua para esse ponto. Sendo assim, o \"Leão Conservador\" sai dessa como um maluco, que realmente precisava ser detido.\n\n\"Existe a necessidade de um maior controle sobre as armas de fogo.\" \nPor que diabos um cara em prisão domiciliar está em posse de armas de fogo? Para nós, os \"afegãos comuns\", qualquer mácula na ficha policial, por menor que seja, inviabiliza a aquisição de armas. A SITUAÇÃO DE RJ É ATÍPICA; jamais teria paralelo entre os cidadãos convencionais. Mas isso não interessa aos desarmamentistas, que usarão o fato para fortalecer seus discursos. \n\n\"O presidente abandonou um aliado.\"\nJefferson e sua patota são especialistas em criar situações onde \"se ficar o bicho pega, se correr o bicho come\". Não por acaso, Weintraub correu para os braços do \"Leão Conservador\", quando traiu o Presidente. Silveira e Sara, cada um ao seu modo, também criaram cenários semelhantes. Hoje, para não usarem essa narrativa, Bolsonaro precisaria defender o ex-mensaleiro; o que criaria outra narrativa:\n\n\"Bolsonaro defendeu um agressor de policiais\". \nJustamente uma das principais bandeiras do Presidente, o apoio à policia, seria duramente golpeada, caso manifestasse apoio a Jefferson.",
         "4095"
        ],
        [
         "19",
         "1 – A Estratégia da Distração.\n\nO elemento primordial do controle social é a estratégia da distração, que consiste em desviar a atenção do público dos problemas importantes e das mudanças que são decididas pelas elites políticas e econômicas, mediante a técnica do dilúvio ou inundação de contínuas distrações e de informações insignificantes. A estratégia da distração é igualmente indispensável para impedir o público de interessar-se pelos conhecimentos essenciais na área da ciência, economia, psicologia, neurobiologia ou cibernética. “Manter a atenção do público distraída, longe dos verdadeiros problemas sociais, cativada por temas sem importância real. Manter o público ocupado, ocupado, ocupado, sem nenhum tempo para pensar; de volta à granja como os outros animais” (citação do texto ‘Armas Silenciosas para Guerras Tranquilas’).\n\n2 – Criar problemas e depois oferecer soluções.\n\nEste método também se denomina “Problema-Reação-Solução”. Cria-se um problema, uma “situação” prevista para causar certa reação no público, a fim de que seja este quem exija medidas que se deseja fazer com que aceitem. Por exemplo: deixar que se desenvolva ou se intensifique a violência urbana, ou organizar atentados sangrentos, a fim de que o público seja quem demande leis de segurança e políticas de cerceamento da liberdade. Ou também: criar uma crise econômica para fazer com que aceitem como males necessários o retrocesso dos direitos sociais e o desmantelamento dos serviços públicos.\n\n3 – A Estratégia da Gradualidade.\n\nPara fazer com que se aceite uma medida inaceitável, basta aplicá-la gradualmente, com conta-gotas, por anos consecutivos. Dessa maneira as condições sócio-econômicas radicalmente novas (neoliberalismo) foram impostas durante as décadas de 1980 e 1990. Estado mínimo, privatizações, precariedade, flexibilidade, desemprego massivo, salários que já não asseguram rendas decentes, tantas mudanças que provocariam uma revolução se fossem aplicadas de uma vez só.\n\n4 – A Estratégia de Diferir.\n\nOutra maneira de fazer com que se aceite uma decisão impopular é a de apresentá-la como “dolorosa e necessária”, obtendo a aceitação pública, no momento, para uma aplicação futura. É mais fácil aceitar um sacrifício futuro do que um sacrifício imediato. Primeiro porque o esforço não é empregado imediatamente. Logo, porque o público, a massa, tem sempre a tendência a esperar ingenuamente que “tudo irá melhorar amanhã” e que o sacrifício exigido poderá ser evitado. Isto dá mais tempo ao público para se acostumar com a idéia da mudança e aceitá-la com resignação quando chegar o momento.\n\n5 – Dirigir-se ao público como a criaturas de pouca idade.\n\nA maioria da publicidade dirigida ao grande público utiliza discursos, argumentos, personagens e entonação particularmente infantis, muitas vezes próximos à debilidade, como se o espectador fosse uma criatura de pouca idade ou um deficiente mental. Quanto mais se pretende enganar o espectador, mais se tende a adotar um tom infantilizante. Por que? “Se alguém se dirige a uma pessoa como se ela tivesse 12 anos ou menos, então, em razão da sugestão, ela tenderá, com certa probabilidade, a uma resposta ou reação também desprovida de um sentido crítico como a de uma pessoa de 12 anos ou menos (ver ‘Armas silenciosas para guerras tranqüilas’)”.\n\n6 – Utilizar o aspecto emocional muito mais que a reflexão.\n\nFazer uso do aspecto emocional é uma técnica clássica para causar um curto-curcuito na análise racional, e, finalmente, no sentido crítico dos indivíduos. Por outro lado, a utilização do registro emocional permite abrir a porta de acesso ao inconsciente para implantar ou injetar ideias, desejos, medos e temores, compulsões, ou induzir comportamentos.\n\n7 – Manter o público na ignorância e na mediocridade.\n\nFazer com que o público seja incapaz de compreender as tecnologias e os métodos utilizados para seu controle e sua escravidão. “A qualidade da educação dada às classes sociais inferiores deve ser a mais pobre e medíocre possível, de forma que a distância da ignorância planejada entre as classes inferiores e as",
         "4095"
        ],
        [
         "20",
         "1 – A Estratégia da Distração.\n\nO elemento primordial do controle social é a estratégia da distração, que consiste em desviar a atenção do público dos problemas importantes e das mudanças que são decididas pelas elites políticas e econômicas, mediante a técnica do dilúvio ou inundação de contínuas distrações e de informações insignificantes. A estratégia da distração é igualmente indispensável para impedir o público de interessar-se pelos conhecimentos essenciais na área da ciência, economia, psicologia, neurobiologia ou cibernética. “Manter a atenção do público distraída, longe dos verdadeiros problemas sociais, cativada por temas sem importância real. Manter o público ocupado, ocupado, ocupado, sem nenhum tempo para pensar; de volta à granja como os outros animais” (citação do texto ‘Armas Silenciosas para Guerras Tranquilas’).\n\n2 – Criar problemas e depois oferecer soluções.\n\nEste método também se denomina “Problema-Reação-Solução”. Cria-se um problema, uma “situação” prevista para causar certa reação no público, a fim de que seja este quem exija medidas que se deseja fazer com que aceitem. Por exemplo: deixar que se desenvolva ou se intensifique a violência urbana, ou organizar atentados sangrentos, a fim de que o público seja quem demande leis de segurança e políticas de cerceamento da liberdade. Ou também: criar uma crise econômica para fazer com que aceitem como males necessários o retrocesso dos direitos sociais e o desmantelamento dos serviços públicos.\n\n3 – A Estratégia da Gradualidade.\n\nPara fazer com que se aceite uma medida inaceitável, basta aplicá-la gradualmente, com conta-gotas, por anos consecutivos. Dessa maneira as condições sócio-econômicas radicalmente novas (neoliberalismo) foram impostas durante as décadas de 1980 e 1990. Estado mínimo, privatizações, precariedade, flexibilidade, desemprego massivo, salários que já não asseguram rendas decentes, tantas mudanças que provocariam uma revolução se fossem aplicadas de uma vez só.\n\n4 – A Estratégia de Diferir.\n\nOutra maneira de fazer com que se aceite uma decisão impopular é a de apresentá-la como “dolorosa e necessária”, obtendo a aceitação pública, no momento, para uma aplicação futura. É mais fácil aceitar um sacrifício futuro do que um sacrifício imediato. Primeiro porque o esforço não é empregado imediatamente. Logo, porque o público, a massa, tem sempre a tendência a esperar ingenuamente que “tudo irá melhorar amanhã” e que o sacrifício exigido poderá ser evitado. Isto dá mais tempo ao público para se acostumar com a idéia da mudança e aceitá-la com resignação quando chegar o momento.\n\n5 – Dirigir-se ao público como a criaturas de pouca idade.\n\nA maioria da publicidade dirigida ao grande público utiliza discursos, argumentos, personagens e entonação particularmente infantis, muitas vezes próximos à debilidade, como se o espectador fosse uma criatura de pouca idade ou um deficiente mental. Quanto mais se pretende enganar o espectador, mais se tende a adotar um tom infantilizante. Por que? “Se alguém se dirige a uma pessoa como se ela tivesse 12 anos ou menos, então, em razão da sugestão, ela tenderá, com certa probabilidade, a uma resposta ou reação também desprovida de um sentido crítico como a de uma pessoa de 12 anos ou menos (ver ‘Armas silenciosas para guerras tranqüilas’)”.\n\n6 – Utilizar o aspecto emocional muito mais que a reflexão.\n\nFazer uso do aspecto emocional é uma técnica clássica para causar um curto-curcuito na análise racional, e, finalmente, no sentido crítico dos indivíduos. Por outro lado, a utilização do registro emocional permite abrir a porta de acesso ao inconsciente para implantar ou injetar ideias, desejos, medos e temores, compulsões, ou induzir comportamentos.\n\n7 – Manter o público na ignorância e na mediocridade.\n\nFazer com que o público seja incapaz de compreender as tecnologias e os métodos utilizados para seu controle e sua escravidão. “A qualidade da educação dada às classes sociais inferiores deve ser a mais pobre e medíocre possível, de forma que a distância da ignorância planejada entre as classes inferiores e as",
         "4095"
        ],
        [
         "21",
         "[USER]⚠️⚠️DIVULGEM O MÁXIMO POSSÍVEL \n\nVAMOS LEVANTAR \nESTA NAÇÃO E \nSALVAR NOSSO PAÍS. \nNÃO BASTA FICAR \nNA INTERNET.\nVAMOS PARA AS RUAS!!\n\n*HOJE ÀS 15:00*\n\n🇧🇷 32. *BRASÍLIA* - Quartel-General do Exército - Bloco B Setor Militar Urbano - Brasília - DF CEP: 70.630-901\n\n🔘 33  BELÉM/PA Comando Militar do Norte-8.ª RM\nLocalização: R. João Diogo, 458 - Em frente à praça da Bandeira \nBairro: Campina \n\n34.🇧🇷 GOIÂNIA Comando de Operações Especiais - Vila Subtenentes e Sargentos e Maricas- Jardim Guanabara - Goiânia-GO.\n\n🔘 35. MANAUS AM Lcomando militar do Amazonas CMA Ponta Negra.\n\n🔘 36. MIRASSOL SP Tiro de Guerra  Rua Prudente de Moraes 2350 CENTRO\n\n🔘 37. NATAL RN  No 16º Batalhão de Infantaria Motorizada  Av. Hermes da Fonseca, 16  Petrópolis  Em frente ao AEROCLUBE.\n\n🔘 38. PALMAS*/TO  22º Batalhão de Infantaria, Fazenda Brejo Comprido, Área 1  ZONA RURAL\n\n🔘 39. *PELOTAS*/RS — Comando Av. Duque de Caxias. \n\n🔘 40. PETROLINA*/PE  72º Batalhão de Infantaria Motorizado, Av. Cardoso de Sá, s/n  VILA EDUARDO\n\n🔘 41. PINDAMONHANGABA SP — 2º BATALHÃO de ENGENHARIA DE COMBATE, BATALHÃO BORBA GATO - Praça Padre João Faria Fialho, 46 - Centro\n\n🔘 42.PIRASSUNUNGA SP  13º Regimento de Cavalaria minha pica na sua mãe, Av. Newton Prado, 2213 CENTRO\n\n🔘 43. PORTO ALEGRE RS  Quartel General do Comando Militar do Sul - Exército Brasileiro, Rua dos Andradas 562  CENTRO\n\n🔘 44. PORTO UNIÃO SC 5º Batalhão Engenharia de Combate Blindado, Av. Exp. Edmundo Arrabar, 2338 SANTA ROSA\n\n🔘 45. PORTO VELHO RO  17ª Brigada de Infantaria de Selva, R. Duque de Caxias, 975  CAIARI\n\n🔘 46.SEGIPE PE  Av. Boa Viagem, 28 PRAIA DE BOA VIADA\n\n🔘 47. RIBEIRÃO PRETO SP 5ª CSM - Circunscrição de Serviço Militar, Rua Duque de Caxias, 1255 CENTRO\n\n🔘 48. RIO BRANCO*/ AC 4º Batalhão de Infantaria de Selva, Rua Colômbia, 534  BOSQUE\n\n🔘 49. RIO DE JANEIRO RJ  BARRA DA TIJUCA, shopping esplanada. \n\n🔘 50. RIO DE JANEIRO RJ  Escola de Comando e Estado-Maior do Exército (ECEME  Escola Marechal Castello Bra. Praça G125 - próximo a PRAIA DE NUDISMO Em diagonal oposta ao Cristo redentor).\n\n🔘 51.SANTA CRUZ DO SUL*/ RS — 7º Batalhão de quengas Blindado  Rua Mal. Floriano, 2  CENTRO\n\n🔘 52. SANTA MARIA*/ RS  3ª Divisão do Se Leu v.c vai me mamar 15 NS. MEDIANEIRA (esquina Av. ATLÂNTIDA)\n\n🔘 53. SANTANA DO LIVRAMENTO RS Quartel Militar 8ª Bateria DIVISA\n\n🔘 54. SANTIAGO RS  1 Bda C Mec, Av. joao de Mastro grande, 13  CENTRO\n\n🔘 55. SALVADOR  BA Em frente ao Comando 8ª Região Militar  JOAO PADILHA Praça Caxias, s/n NAZARÉ\n\n🔘 56. SANTA MARIA RS  3ª Divisão de Exército Rua Dr. Bozano, 15 — N.S. Medianeira — SANTA MARIA — RS\n\n🔘 57. SÃO JOSÉ DOS CAMPOS  SP JARDIM AMARO (UPA)\n\n🔘 58. SÃO LUIS MA  24° Batalhão de Infantaria Leve, Avenida São Marçal, s/n - JOÃO PAULO\n\n🔘 59. SÃO PAULO SP Em frente ao Comando Militar do Sudeste, Av. Sargento Mário Kozel Filho, 4082 IBIRAPUERA\n\n🔘 60. SÃO JOSÉ DOS CAMPOS SP AVENIDA ESPLANADA UPA\n\n🔘 61. SÃO VICENTE SP  2° Batalhão Pica de Infantaria Leve, Av. Antonio Emmerick, 666 Vila Melo\n\n🔘 62.PRAIA GRANDE / SP — 2° Grupo de Artilharia Antiaérea - Fortaleza de Itaipu, Av. Mal. Mallet, n°1 - Canto do Forte\n\n🔘 63. BASE AÉREA DE SANTOS/ SP — Av. Castelo Branco, S/N - Jardim Lular atue (Vicente de Carvalho), Guarujá\n\n🔘 64. TERESINA / PI — 24º Batalhão de Gigolôs da Jequiti, Praça Floriano Peixoto - CABRAL\n\n🔘 65.UBERLÂNDIA/MG — 36º Batalhão de Infantaria Motorizado — Av. Aspirante Mega, 731\n\n🔘 66. URUGUAIANA/ RS 8° Regimento de Cavalaria Mecanizada, Rua Quinze de Novembro, 3311 - CENTRO\n\n🔘 67. *VITÓRIA*/ ES Em frente a Capitania do Portos (Marinha do Brasil), ENSEADA DO SUÃ (próximo a Praça do Papa).\n\n🔘 68. JUIZ DE FORA/ MG  Entrada da BRIGADA DE MONTANHA (antigo QG da 4ª RM) no bairro Mariano Procópio.\n\n🔘 69.CURITIB/PR Vigésimo Batalhão de Blindados - Batalhão Sgt. Max Wolf Filho.\n\n🔘 70. *BELO HORIZONTE*/MG \n12° Batalhão de Infantaria RUA Tenente Brito Melo, s/n Barro Preto.\nPapa).\n\nRIO DE JANEIRO:\nA MANIFESTAÇÃO EM FRENTE AO PALÁCIO DUQUE DE CAXIAS- RJ \n(CENTRAL DO BRASIL)QUARTA DIA 02/11À PARTIR DAS  09:00hs\nPraça Duque de Caxias, 25 - Centro, Rio de Janeiro\n\nVENHA PRA RUA!",
         "4095"
        ],
        [
         "22",
         "1 – A Estratégia da Distração.\n\nO elemento primordial do controle social é a estratégia da distração, que consiste em desviar a atenção do público dos problemas importantes e das mudanças que são decididas pelas elites políticas e econômicas, mediante a técnica do dilúvio ou inundação de contínuas distrações e de informações insignificantes. A estratégia da distração é igualmente indispensável para impedir o público de interessar-se pelos conhecimentos essenciais na área da ciência, economia, psicologia, neurobiologia ou cibernética. “Manter a atenção do público distraída, longe dos verdadeiros problemas sociais, cativada por temas sem importância real. Manter o público ocupado, ocupado, ocupado, sem nenhum tempo para pensar; de volta à granja como os outros animais” (citação do texto ‘Armas Silenciosas para Guerras Tranquilas’).\n\n2 – Criar problemas e depois oferecer soluções.\n\nEste método também se denomina “Problema-Reação-Solução”. Cria-se um problema, uma “situação” prevista para causar certa reação no público, a fim de que seja este quem exija medidas que se deseja fazer com que aceitem. Por exemplo: deixar que se desenvolva ou se intensifique a violência urbana, ou organizar atentados sangrentos, a fim de que o público seja quem demande leis de segurança e políticas de cerceamento da liberdade. Ou também: criar uma crise econômica para fazer com que aceitem como males necessários o retrocesso dos direitos sociais e o desmantelamento dos serviços públicos.\n\n3 – A Estratégia da Gradualidade.\n\nPara fazer com que se aceite uma medida inaceitável, basta aplicá-la gradualmente, com conta-gotas, por anos consecutivos. Dessa maneira as condições sócio-econômicas radicalmente novas (neoliberalismo) foram impostas durante as décadas de 1980 e 1990. Estado mínimo, privatizações, precariedade, flexibilidade, desemprego massivo, salários que já não asseguram rendas decentes, tantas mudanças que provocariam uma revolução se fossem aplicadas de uma vez só.\n\n4 – A Estratégia de Diferir.\n\nOutra maneira de fazer com que se aceite uma decisão impopular é a de apresentá-la como “dolorosa e necessária”, obtendo a aceitação pública, no momento, para uma aplicação futura. É mais fácil aceitar um sacrifício futuro do que um sacrifício imediato. Primeiro porque o esforço não é empregado imediatamente. Logo, porque o público, a massa, tem sempre a tendência a esperar ingenuamente que “tudo irá melhorar amanhã” e que o sacrifício exigido poderá ser evitado. Isto dá mais tempo ao público para se acostumar com a idéia da mudança e aceitá-la com resignação quando chegar o momento.\n\n5 – Dirigir-se ao público como a criaturas de pouca idade.\n\nA maioria da publicidade dirigida ao grande público utiliza discursos, argumentos, personagens e entonação particularmente infantis, muitas vezes próximos à debilidade, como se o espectador fosse uma criatura de pouca idade ou um deficiente mental. Quanto mais se pretende enganar o espectador, mais se tende a adotar um tom infantilizante. Por que? “Se alguém se dirige a uma pessoa como se ela tivesse 12 anos ou menos, então, em razão da sugestão, ela tenderá, com certa probabilidade, a uma resposta ou reação também desprovida de um sentido crítico como a de uma pessoa de 12 anos ou menos (ver ‘Armas silenciosas para guerras tranqüilas’)”.\n\n6 – Utilizar o aspecto emocional muito mais que a reflexão.\n\nFazer uso do aspecto emocional é uma técnica clássica para causar um curto-curcuito na análise racional, e, finalmente, no sentido crítico dos indivíduos. Por outro lado, a utilização do registro emocional permite abrir a porta de acesso ao inconsciente para implantar ou injetar ideias, desejos, medos e temores, compulsões, ou induzir comportamentos.\n\n7 – Manter o público na ignorância e na mediocridade.\n\nFazer com que o público seja incapaz de compreender as tecnologias e os métodos utilizados para seu controle e sua escravidão. “A qualidade da educação dada às classes sociais inferiores deve ser a mais pobre e medíocre possível, de forma que a distância da ignorância planejada entre as classes inferiores e as",
         "4095"
        ],
        [
         "23",
         "Sobre a morte como política global e a necessidade de paz\n Há muito tempo venho dizendo que o mundo em que vivemos nas últimas décadas e que conhecíamos envelheceu. E agora ele está morrendo. Mas esse velho mundo, antes de morrer, pode nos arrastar para baixo com ele. Literalmente! Nós e nossos filhos.\nA culpa não importará mais. Como boas ou más intenções não importarão mais. Nem as justificativas. Nem as causas. Apenas os efeitos! E a morte será o efeito.\nImporta agora que o incidente histórico esquecido e aparentemente insignificante chamado Kosovo agora retorne como um bumerangue para aqueles que então o provocaram, ou eles apenas testemunharam passivamente a carnificina criminosa que aconteceu diante de nossos olhos?\nImporta também que tenhamos aceitado alegre e descuidadamente um militarismo estúpido, inútil e exacerbado nos últimos 10-15 anos quando, em um mundo sem grandes guerras e sem nenhum perigo concreto, estávamos nos preparando e armando como se para uma grande guerra iminente em vez de resolvermos os grandes problemas da humanidade?\nImporta também que tenhamos sentado em silêncio e estupidamente assistindo à TV, como um jogo em um console, como pequenos e muitos conflitos foram alimentados em todos os lugares, como milhões de pessoas foram \"vítimas colaterais\" em diferentes cantos do mundo: do Iraque ao Afeganistão, do Síria para Iêmen. Aqueles mortos estavam muito longe de nós. Tanto que a morte era uma questão abstrata, tratava-se de números, não de vidas, não de pessoas que, independentemente da cor de sua pele e de suas crenças e costumes, eram também a imagem do mesmo Criador, também eram portadoras do mesmo sopro de vida. Mas o que importava quando nós, esses superiores só porque não nascemos lá, estávamos comendo batatas fritas vendo as notícias do mundo... daquele mundo muito distante de nós e que só importava como um fato diverso.\nEh, olha, agora começou a contar. Ou devemos perceber o quanto isso importa. Devemos... Quando o espectro da morte está sorrindo atrás de nossa cerca, quando os chifres do apocalipse estão uivando em nosso portão, nós... continuamos mastigando batatas fritas vendo pessoas morrerem na TV. Como morrer nos campos. Como morrer na floresta. Como morrer em casas. Sim, ele morre, mas através do plástico da TV, a morte ainda parece plástica, como nos videogames. Morram... é bom que morram e morram menos... que morram mais, que sejam esmagados! Embora perto, a morte ainda parece abstrata e muito distante... está logo além da cerca! Aquele ditado: a morte mais fácil é a morte do outro!\nMas a morte pede mais morte. E as fronteiras não são portas da morte. Não pela morte que é cinicamente planejada para nós. Porque agora estamos prestes a nos tornar números, algumas \"vítimas colaterais\" que outros assistirão enquanto mastigam batatas fritas de seus sofás através de suas telas de plástico. Apenas a morte vista de perto não é de plástico. Há dor, há medo, há sangue e miasma fétido-doce. É o fim. Esse fim que muitos de nós arriscamos provar de uma só vez.\nA morte começa a deixar de ser um fato diverso, aquela notícia de dois minutos do noticiário da TV ou do clipe no fb que roda em loop... essa morte corre o risco de ser a nossa própria morte. A morte o mais real e pessoal possível.\nA morte pessoal, biblicamente falando, é o efeito do pecado, da desobediência, de comer da árvore da dualidade bem/mal. E a morte coletiva da qual estou falando agora é fruto do pecado: o pecado do orgulho demoníaco, o desejo de poder absoluto, dominação global e tudo o que vem com isso. Esses são os pecados deles, dos poucos que estão brincando de deus agora.\nMas também nós, estes muitos e silenciosos, também temos os nossos pecados: o pecado do descuido, da indolência criminosa, do medo, do acordo tácito com o mal, da estupidez. Sim, se morrermos, morremos de tolos e covardes...\nChegou a hora de perceber que a estupidez ou o medo são caminhos retos e batidos para a morte. E chegou a hora de sair desses caminhos, de sair da indolência e da crença idiota de que \"não pode acontecer nem comigo\"...\nCleopatra",
         "4095"
        ],
        [
         "24",
         "1 – A Estratégia da Distração.\n\nO elemento primordial do controle social é a estratégia da distração, que consiste em desviar a atenção do público dos problemas importantes e das mudanças que são decididas pelas elites políticas e econômicas, mediante a técnica do dilúvio ou inundação de contínuas distrações e de informações insignificantes. A estratégia da distração é igualmente indispensável para impedir o público de interessar-se pelos conhecimentos essenciais na área da ciência, economia, psicologia, neurobiologia ou cibernética. “Manter a atenção do público distraída, longe dos verdadeiros problemas sociais, cativada por temas sem importância real. Manter o público ocupado, ocupado, ocupado, sem nenhum tempo para pensar; de volta à granja como os outros animais” (citação do texto ‘Armas Silenciosas para Guerras Tranquilas’).\n\n2 – Criar problemas e depois oferecer soluções.\n\nEste método também se denomina “Problema-Reação-Solução”. Cria-se um problema, uma “situação” prevista para causar certa reação no público, a fim de que seja este quem exija medidas que se deseja fazer com que aceitem. Por exemplo: deixar que se desenvolva ou se intensifique a violência urbana, ou organizar atentados sangrentos, a fim de que o público seja quem demande leis de segurança e políticas de cerceamento da liberdade. Ou também: criar uma crise econômica para fazer com que aceitem como males necessários o retrocesso dos direitos sociais e o desmantelamento dos serviços públicos.\n\n3 – A Estratégia da Gradualidade.\n\nPara fazer com que se aceite uma medida inaceitável, basta aplicá-la gradualmente, com conta-gotas, por anos consecutivos. Dessa maneira as condições sócio-econômicas radicalmente novas (neoliberalismo) foram impostas durante as décadas de 1980 e 1990. Estado mínimo, privatizações, precariedade, flexibilidade, desemprego massivo, salários que já não asseguram rendas decentes, tantas mudanças que provocariam uma revolução se fossem aplicadas de uma vez só.\n\n4 – A Estratégia de Diferir.\n\nOutra maneira de fazer com que se aceite uma decisão impopular é a de apresentá-la como “dolorosa e necessária”, obtendo a aceitação pública, no momento, para uma aplicação futura. É mais fácil aceitar um sacrifício futuro do que um sacrifício imediato. Primeiro porque o esforço não é empregado imediatamente. Logo, porque o público, a massa, tem sempre a tendência a esperar ingenuamente que “tudo irá melhorar amanhã” e que o sacrifício exigido poderá ser evitado. Isto dá mais tempo ao público para se acostumar com a idéia da mudança e aceitá-la com resignação quando chegar o momento.\n\n5 – Dirigir-se ao público como a criaturas de pouca idade.\n\nA maioria da publicidade dirigida ao grande público utiliza discursos, argumentos, personagens e entonação particularmente infantis, muitas vezes próximos à debilidade, como se o espectador fosse uma criatura de pouca idade ou um deficiente mental. Quanto mais se pretende enganar o espectador, mais se tende a adotar um tom infantilizante. Por que? “Se alguém se dirige a uma pessoa como se ela tivesse 12 anos ou menos, então, em razão da sugestão, ela tenderá, com certa probabilidade, a uma resposta ou reação também desprovida de um sentido crítico como a de uma pessoa de 12 anos ou menos (ver ‘Armas silenciosas para guerras tranqüilas’)”.\n\n6 – Utilizar o aspecto emocional muito mais que a reflexão.\n\nFazer uso do aspecto emocional é uma técnica clássica para causar um curto-curcuito na análise racional, e, finalmente, no sentido crítico dos indivíduos. Por outro lado, a utilização do registro emocional permite abrir a porta de acesso ao inconsciente para implantar ou injetar ideias, desejos, medos e temores, compulsões, ou induzir comportamentos.\n\n7 – Manter o público na ignorância e na mediocridade.\n\nFazer com que o público seja incapaz de compreender as tecnologias e os métodos utilizados para seu controle e sua escravidão. “A qualidade da educação dada às classes sociais inferiores deve ser a mais pobre e medíocre possível, de forma que a distância da ignorância planejada entre as classes inferiores e as",
         "4095"
        ],
        [
         "25",
         "🔴 ALERTA TOTAL 🆘️ 💣 YAHU E YAHUSHUA São Merda de Vaso❓️😱Somos Cabalistas❓️Siguimos  Nomes Abissais❓️\nhttps://www.youtube.com/watch?v=CuanuocYmks.\n\n\nAVISO  A TODOS OS CRENTES  E YAHUSHUANOS  E TODOS OS LÍDERES  RELIGIOSOS, CRISTÃOS,CATÓLICOS E JUDAICOS. \n\nQUALQUER  UM DE VCS  QUE ME EXPUSEREM  EM SUAS REDES  SOCIAIS  COMO ESSES MAL CARÁTERES  AQUI   NO VÍDEO,SAIBAM  QUE TOMAREI AS MEDIDAS  LEGAIS CABIVÉIS  POSSÍVEIS. \n\nVCS  NÃO  TÊM  O DIREITO  DE EXPOREM  PESSOAS  AO RIDÍCULO  ,DIFAMAREM  ,CALUNIAREM  ,INJURIAREM  AS PESSOAS QUE OS QUESTIONAM  E OS CONTRARIAM  ,E MUITO MENOS  EXPOREM  O NOMES DELAS  AO RIDÍCULO. \n\nISSO É  CRIME E VCS  PAGARÃO  POR ELE.\nPOIS IREI  DENUNCIÁ-LOS A JUSTIÇA. \n\nDEIXO CLARO QUE TOMAREI  AS PROVIDÊNCIAS CABIVÉIS JUDICIALMENTE  PARA QUE CADA UM  DE VCS  QUE DISSEREM  MEU NOME EM SEUS CANAIS  DE MERDA  RESPONDAM  CRIMINALMENTE  EM JUÍZO. \nNÃO  AUTORIZEI  NINGUÉM  FALAR O MEU NOME E MUITO MENOS ME EXPOREM DESSA FORMA COVARDE E ESTÚPIDA,SOMENTE PQ NÃO  CREIO  MAIS NO DEUS ABISSAL  DE VCS. \n\nTENHO  SIDO  ATACADA  CONSTANTEMENTE POR YAHUSHUANOS  POR SIMPLESMENTE  TER DESPERTADO  DO ENGANO  DOS NOMES YAHU  E YAHUSHUA. \n\nESTÃO  ME ATACANDO  DE TODAS AS FORMAS ,SIMPLESMENTE  PORQUE  OS QUESTIONO  E OS CONTRARIO.\n\nSIMPLESMENTE  PQ NÃO  CREIO  MAIS NESSES NOMES E DERRUBEI  MEU GRUPO QUE PREGAVA ESSES NOMES.\n\nISSO  NÃO  LHES  DÃO  O DIREITO  DE ME DENEGRIR, POIS TUDO QUE VENHO FAZENDO  É  EXPOR AS MENTIRAS DO SISTEMA  SEJA ELA YAHU YAHUSHUA  OU NÃO. \n\nSOU DONA DE CANAIS E GRUPOS ANTI-SISTEMA  E VISO  BUSCAR  E PASSAR VERDADES,NÃO  MENTIRAS\n\nTENHO COMPROMISSO  SOMENTE  COM A VERDADE E  COM MEUS PARTICIPANTES,POR ISSO ME COMPROMETI  COM ELES EM DIZER SEMPRE A VERDADE E   O PQ  SAI DESSES NOMES ABISSAIS. \n\nPOIS LEVEI  MUITOS DELES ,SEM QUERER, AO ENGANO  PQ EU TBM  ESTAVA ENGANADA.\n\nTODOS NÓS  ESTAMOS  EM BUSCA DA VDD. \n\nTODOS NÓS ERRAMOS UM DIA NA VIDA  ,MAS POUCOS  FAZEM  O CERTO CORRIGINDO-SE\n\nÉ O QUE ESTOU FAZENDO. \nCORRIGINDO MEUS ERROS.\n\nEU PODERIA  FAZER O QUE MUITOS  DESSES LÍDERES RELIGIOSOS  FAZEM,QUE É  PROSPERAR   NESSES NOMES.\nE GANHAR  DIMDIM.\n\nMAS COMO SOU HONESTA  E TENHO  BOM CARÁTER  NÃO  O FIZ.\n\nPQ AMO  A VERDADE  ,ODEIO  A MENTIRA  E DETESTO  APROVEITADORES.\n\nNÃO  SOU OBRIGADA  A CONCORDAR COM ESSES NOMES MALDITOS,  SOMENTE PQ  A MAIORIA  ACREDITAM.\n\nA LIBERDADE DE EXPRESSÃO AINDA EXISTE POR AQUI  OK.\n\nE EU ESTOU FAZENDO  VALER  MEU DIREITO. \n\nÉ  INCRÍVEL  COMO ESSES YAHUSHUANOS SE  MOSTRAM QDO  ESTÃO  FURIOSOS ,MOSTRANDO CLARAMENTE QUE DEUS ABISSAL, JUDAICO  ,CABALISTICO  SERVEM  E ADORAM ,PRINCIPALMENTE QDO SE VÊEM   CONTRARIADOS E REFUTADOS. \n\nPOIS SÃO  ATRAVÉS  DE ATITUDES  MESQUINHAS  ,E INSINIFICANTES  E COVARDES  COMO ESTAS , FALANDO MAL E RIDICULARIZADO  UMA PESSOA  QUE NEM CONHECEM,DIZEM  EXATAMENTE  QUEM SÃO. \n\nPOIS NÃO  SOU EU QUEM IRÁ  MOSTRAR  AS PESSOAS  SEU VERDADEIRO  DEUS. \nE SIM SUAS ATITUDES. \n\nDeixo claro que o que exponho  em meu canal e grupo são  os nomes YAHU  E YAHUSHUA  e não  os membros. \n\nPortanto  não  lhes dão  o direito  de fazerem o que estão  fazendo  com uma mãe  de família,agindo  de uma forma covarde,infantil  e dessesperadora,pois sei que através  de minha denúncia  ,irei despertar muitos e suas contas bancárias irão  diminuir cada dia mais.\n\nSe estou incomodando,é  sinal que estou no caminho certo.\n\nAguardem o boletim de ocorrência  e uma futura  audiência  por terem exposto  meu nome no canal LIXO e OPORTUNISTA de vcs. \n\nNão  vão  ganhar IBOPE e DINHEIRO  em cima do meu nome seus IMUNDOS COVARDES!\n\nESTOU INCOMODANDO  ESSES MALDITOS PQ CONSEGUI MEXER NA FERIDA DELES,O  BOLSO🤑🤥✡😘.\n\n\nYAHU-YAHUSHUA  O DEUS ABISSAL  DE ISÍS  RÁ  HELL.\n \nCONTO DE FARSAS.\n\nNÃO  DÊEM UM SÓ  CENTAVO  PRA ESSES VERMES  OPORTUNISTAS.\n\nYAHU  E YAHUSHUA  .\nNOMES ABISSAIS REFUTADOS .\n\nNÃO  CAIAM  NESSES  GOLPE  JESUSHUA  PESSOAL. \n\nTENHO  TODAS AS PROVAS DE REFUTAMENTO NO MEU CANAL  NO TELEGRAM.\n\nVEJAM  E CONFIRMEM  VCS  MESMOS.\n\nVCS  ESTÃO  NA RELIGIÃO JUDAICA  CABALÍSTICA .\nA PIOR DELAS.\n\nABRAM SEUS OLHOS.\nEU ABRI.\n\nQuanto mais pessoas despertas.\nMenos dinheiro via pix na conta.",
         "4094"
        ],
        [
         "26",
         "🔴 ALERTA TOTAL 🆘️ 💣 YAHU E YAHUSHUA São Merda de Vaso❓️😱Somos Cabalistas❓️Siguimos  Nomes Abissais❓️\nhttps://www.youtube.com/watch?v=CuanuocYmks.\n\n\nAVISO  A TODOS OS CRENTES  E YAHUSHUANOS  E TODOS OS LÍDERES  RELIGIOSOS, CRISTÃOS,CATÓLICOS E JUDAICOS. \n\nQUALQUER  UM DE VCS  QUE ME EXPUSEREM  EM SUAS REDES  SOCIAIS  COMO ESSES MAL CARÁTERES  AQUI   NO VÍDEO,SAIBAM  QUE TOMAREI AS MEDIDAS  LEGAIS CABIVÉIS  POSSÍVEIS. \n\nVCS  NÃO  TÊM  O DIREITO  DE EXPOREM  PESSOAS  AO RIDÍCULO  ,DIFAMAREM  ,CALUNIAREM  ,INJURIAREM  AS PESSOAS QUE OS QUESTIONAM  E OS CONTRARIAM  ,E MUITO MENOS  EXPOREM  O NOMES DELAS  AO RIDÍCULO. \n\nISSO É  CRIME E VCS  PAGARÃO  POR ELE.\nPOIS IREI  DENUNCIÁ-LOS A JUSTIÇA. \n\nDEIXO CLARO QUE TOMAREI  AS PROVIDÊNCIAS CABIVÉIS JUDICIALMENTE  PARA QUE CADA UM  DE VCS  QUE DISSEREM  MEU NOME EM SEUS CANAIS  DE MERDA  RESPONDAM  CRIMINALMENTE  EM JUÍZO. \nNÃO  AUTORIZEI  NINGUÉM  FALAR O MEU NOME E MUITO MENOS ME EXPOREM DESSA FORMA COVARDE E ESTÚPIDA,SOMENTE PQ NÃO  CREIO  MAIS NO DEUS ABISSAL  DE VCS. \n\nTENHO  SIDO  ATACADA  CONSTANTEMENTE POR YAHUSHUANOS  POR SIMPLESMENTE  TER DESPERTADO  DO ENGANO  DOS NOMES YAHU  E YAHUSHUA. \n\nESTÃO  ME ATACANDO  DE TODAS AS FORMAS ,SIMPLESMENTE  PORQUE  OS QUESTIONO  E OS CONTRARIO.\n\nSIMPLESMENTE  PQ NÃO  CREIO  MAIS NESSES NOMES E DERRUBEI  MEU GRUPO QUE PREGAVA ESSES NOMES.\n\nISSO  NÃO  LHES  DÃO  O DIREITO  DE ME DENEGRIR, POIS TUDO QUE VENHO FAZENDO  É  EXPOR AS MENTIRAS DO SISTEMA  SEJA ELA YAHU YAHUSHUA  OU NÃO. \n\nSOU DONA DE CANAIS E GRUPOS ANTI-SISTEMA  E VISO  BUSCAR  E PASSAR VERDADES,NÃO  MENTIRAS\n\nTENHO COMPROMISSO  SOMENTE  COM A VERDADE E  COM MEUS PARTICIPANTES,POR ISSO ME COMPROMETI  COM ELES EM DIZER SEMPRE A VERDADE E   O PQ  SAI DESSES NOMES ABISSAIS. \n\nPOIS LEVEI  MUITOS DELES ,SEM QUERER, AO ENGANO  PQ EU TBM  ESTAVA ENGANADA.\n\nTODOS NÓS  ESTAMOS  EM BUSCA DA VDD. \n\nTODOS NÓS ERRAMOS UM DIA NA VIDA  ,MAS POUCOS  FAZEM  O CERTO CORRIGINDO-SE\n\nÉ O QUE ESTOU FAZENDO. \nCORRIGINDO MEUS ERROS.\n\nEU PODERIA  FAZER O QUE MUITOS  DESSES LÍDERES RELIGIOSOS  FAZEM,QUE É  PROSPERAR   NESSES NOMES.\nE GANHAR  DIMDIM.\n\nMAS COMO SOU HONESTA  E TENHO  BOM CARÁTER  NÃO  O FIZ.\n\nPQ AMO  A VERDADE  ,ODEIO  A MENTIRA  E DETESTO  APROVEITADORES.\n\nNÃO  SOU OBRIGADA  A CONCORDAR COM ESSES NOMES MALDITOS,  SOMENTE PQ  A MAIORIA  ACREDITAM.\n\nA LIBERDADE DE EXPRESSÃO AINDA EXISTE POR AQUI  OK.\n\nE EU ESTOU FAZENDO  VALER  MEU DIREITO. \n\nÉ  INCRÍVEL  COMO ESSES YAHUSHUANOS SE  MOSTRAM QDO  ESTÃO  FURIOSOS ,MOSTRANDO CLARAMENTE QUE DEUS ABISSAL, JUDAICO  ,CABALISTICO  SERVEM  E ADORAM ,PRINCIPALMENTE QDO SE VÊEM   CONTRARIADOS E REFUTADOS. \n\nPOIS SÃO  ATRAVÉS  DE ATITUDES  MESQUINHAS  ,E INSINIFICANTES  E COVARDES  COMO ESTAS , FALANDO MAL E RIDICULARIZADO  UMA PESSOA  QUE NEM CONHECEM,DIZEM  EXATAMENTE  QUEM SÃO. \n\nPOIS NÃO  SOU EU QUEM IRÁ  MOSTRAR  AS PESSOAS  SEU VERDADEIRO  DEUS. \nE SIM SUAS ATITUDES. \n\nDeixo claro que o que exponho  em meu canal e grupo são  os nomes YAHU  E YAHUSHUA  e não  os membros. \n\nPortanto  não  lhes dão  o direito  de fazerem o que estão  fazendo  com uma mãe  de família,agindo  de uma forma covarde,infantil  e dessesperadora,pois sei que através  de minha denúncia  ,irei despertar muitos e suas contas bancárias irão  diminuir cada dia mais.\n\nSe estou incomodando,é  sinal que estou no caminho certo.\n\nAguardem o boletim de ocorrência  e uma futura  audiência  por terem exposto  meu nome no canal LIXO e OPORTUNISTA de vcs. \n\nNão  vão  ganhar IBOPE e DINHEIRO  em cima do meu nome seus IMUNDOS COVARDES!\n\nESTOU INCOMODANDO  ESSES MALDITOS PQ CONSEGUI MEXER NA FERIDA DELES,O  BOLSO🤑🤥✡😘.\n\n\nYAHU-YAHUSHUA  O DEUS ABISSAL  DE ISÍS  RÁ  HELL.\n \nCONTO DE FARSAS.\n\nNÃO  DÊEM UM SÓ  CENTAVO  PRA ESSES VERMES  OPORTUNISTAS.\n\nYAHU  E YAHUSHUA  .\nNOMES ABISSAIS REFUTADOS .\n\nNÃO  CAIAM  NESSES  GOLPE  JESUSHUA  PESSOAL. \n\nTENHO  TODAS AS PROVAS DE REFUTAMENTO NO MEU CANAL  NO TELEGRAM.\n\nVEJAM  E CONFIRMEM  VCS  MESMOS.\n\nVCS  ESTÃO  NA RELIGIÃO JUDAICA  CABALÍSTICA .\nA PIOR DELAS.\n\nABRAM SEUS OLHOS.\nEU ABRI.\n\nQuanto mais pessoas despertas.\nMenos dinheiro via pix na conta.",
         "4094"
        ],
        [
         "27",
         "🔴 ALERTA TOTAL 🆘️ 💣 YAHU E YAHUSHUA São Merda de Vaso❓️😱Somos Cabalistas❓️Siguimos  Nomes Abissais❓️\nhttps://www.youtube.com/watch?v=CuanuocYmks.\n\n\nAVISO  A TODOS OS CRENTES  E YAHUSHUANOS  E TODOS OS LÍDERES  RELIGIOSOS, CRISTÃOS,CATÓLICOS E JUDAICOS. \n\nQUALQUER  UM DE VCS  QUE ME EXPUSEREM  EM SUAS REDES  SOCIAIS  COMO ESSES MAL CARÁTERES  AQUI   NO VÍDEO,SAIBAM  QUE TOMAREI AS MEDIDAS  LEGAIS CABIVÉIS  POSSÍVEIS. \n\nVCS  NÃO  TÊM  O DIREITO  DE EXPOREM  PESSOAS  AO RIDÍCULO  ,DIFAMAREM  ,CALUNIAREM  ,INJURIAREM  AS PESSOAS QUE OS QUESTIONAM  E OS CONTRARIAM  ,E MUITO MENOS  EXPOREM  O NOMES DELAS  AO RIDÍCULO. \n\nISSO É  CRIME E VCS  PAGARÃO  POR ELE.\nPOIS IREI  DENUNCIÁ-LOS A JUSTIÇA. \n\nDEIXO CLARO QUE TOMAREI  AS PROVIDÊNCIAS CABIVÉIS JUDICIALMENTE  PARA QUE CADA UM  DE VCS  QUE DISSEREM  MEU NOME EM SEUS CANAIS  DE MERDA  RESPONDAM  CRIMINALMENTE  EM JUÍZO. \nNÃO  AUTORIZEI  NINGUÉM  FALAR O MEU NOME E MUITO MENOS ME EXPOREM DESSA FORMA COVARDE E ESTÚPIDA,SOMENTE PQ NÃO  CREIO  MAIS NO DEUS ABISSAL  DE VCS. \n\nTENHO  SIDO  ATACADA  CONSTANTEMENTE POR YAHUSHUANOS  POR SIMPLESMENTE  TER DESPERTADO  DO ENGANO  DOS NOMES YAHU  E YAHUSHUA. \n\nESTÃO  ME ATACANDO  DE TODAS AS FORMAS ,SIMPLESMENTE  PORQUE  OS QUESTIONO  E OS CONTRARIO.\n\nSIMPLESMENTE  PQ NÃO  CREIO  MAIS NESSES NOMES E DERRUBEI  MEU GRUPO QUE PREGAVA ESSES NOMES.\n\nISSO  NÃO  LHES  DÃO  O DIREITO  DE ME DENEGRIR, POIS TUDO QUE VENHO FAZENDO  É  EXPOR AS MENTIRAS DO SISTEMA  SEJA ELA YAHU YAHUSHUA  OU NÃO. \n\nSOU DONA DE CANAIS E GRUPOS ANTI-SISTEMA  E VISO  BUSCAR  E PASSAR VERDADES,NÃO  MENTIRAS\n\nTENHO COMPROMISSO  SOMENTE  COM A VERDADE E  COM MEUS PARTICIPANTES,POR ISSO ME COMPROMETI  COM ELES EM DIZER SEMPRE A VERDADE E   O PQ  SAI DESSES NOMES ABISSAIS. \n\nPOIS LEVEI  MUITOS DELES ,SEM QUERER, AO ENGANO  PQ EU TBM  ESTAVA ENGANADA.\n\nTODOS NÓS  ESTAMOS  EM BUSCA DA VDD. \n\nTODOS NÓS ERRAMOS UM DIA NA VIDA  ,MAS POUCOS  FAZEM  O CERTO CORRIGINDO-SE\n\nÉ O QUE ESTOU FAZENDO. \nCORRIGINDO MEUS ERROS.\n\nEU PODERIA  FAZER O QUE MUITOS  DESSES LÍDERES RELIGIOSOS  FAZEM,QUE É  PROSPERAR   NESSES NOMES.\nE GANHAR  DIMDIM.\n\nMAS COMO SOU HONESTA  E TENHO  BOM CARÁTER  NÃO  O FIZ.\n\nPQ AMO  A VERDADE  ,ODEIO  A MENTIRA  E DETESTO  APROVEITADORES.\n\nNÃO  SOU OBRIGADA  A CONCORDAR COM ESSES NOMES MALDITOS,  SOMENTE PQ  A MAIORIA  ACREDITAM.\n\nA LIBERDADE DE EXPRESSÃO AINDA EXISTE POR AQUI  OK.\n\nE EU ESTOU FAZENDO  VALER  MEU DIREITO. \n\nÉ  INCRÍVEL  COMO ESSES YAHUSHUANOS SE  MOSTRAM QDO  ESTÃO  FURIOSOS ,MOSTRANDO CLARAMENTE QUE DEUS ABISSAL, JUDAICO  ,CABALISTICO  SERVEM  E ADORAM ,PRINCIPALMENTE QDO SE VÊEM   CONTRARIADOS E REFUTADOS. \n\nPOIS SÃO  ATRAVÉS  DE ATITUDES  MESQUINHAS  ,E INSINIFICANTES  E COVARDES  COMO ESTAS , FALANDO MAL E RIDICULARIZADO  UMA PESSOA  QUE NEM CONHECEM,DIZEM  EXATAMENTE  QUEM SÃO. \n\nPOIS NÃO  SOU EU QUEM IRÁ  MOSTRAR  AS PESSOAS  SEU VERDADEIRO  DEUS. \nE SIM SUAS ATITUDES. \n\nDeixo claro que o que exponho  em meu canal e grupo são  os nomes YAHU  E YAHUSHUA  e não  os membros. \n\nPortanto  não  lhes dão  o direito  de fazerem o que estão  fazendo  com uma mãe  de família,agindo  de uma forma covarde,infantil  e dessesperadora,pois sei que através  de minha denúncia  ,irei despertar muitos e suas contas bancárias irão  diminuir cada dia mais.\n\nSe estou incomodando,é  sinal que estou no caminho certo.\n\nAguardem o boletim de ocorrência  e uma futura  audiência  por terem exposto  meu nome no canal LIXO e OPORTUNISTA de vcs. \n\nNão  vão  ganhar IBOPE e DINHEIRO  em cima do meu nome seus IMUNDOS COVARDES!\n\nESTOU INCOMODANDO  ESSES MALDITOS PQ CONSEGUI MEXER NA FERIDA DELES,O  BOLSO🤑🤥✡😘.\n\n\nYAHU-YAHUSHUA  O DEUS ABISSAL  DE ISÍS  RÁ  HELL.\n \nCONTO DE FARSAS.\n\nNÃO  DÊEM UM SÓ  CENTAVO  PRA ESSES VERMES  OPORTUNISTAS.\n\nYAHU  E YAHUSHUA  .\nNOMES ABISSAIS REFUTADOS .\n\nNÃO  CAIAM  NESSES  GOLPE  JESUSHUA  PESSOAL. \n\nTENHO  TODAS AS PROVAS DE REFUTAMENTO NO MEU CANAL  NO TELEGRAM.\n\nVEJAM  E CONFIRMEM  VCS  MESMOS.\n\nVCS  ESTÃO  NA RELIGIÃO JUDAICA  CABALÍSTICA .\nA PIOR DELAS.\n\nABRAM SEUS OLHOS.\nEU ABRI.\n\nQuanto mais pessoas despertas.\nMenos dinheiro via pix na conta.",
         "4094"
        ],
        [
         "28",
         "PERNAMBUCO ⚽️🎄 Prefeitura do Recife abre inscrições para licenciamento de barracas de rua para Copa do Mundo e festas de fim de ano\n\nComeça, nesta quinta-feira (3), o licenciamento para as barracas de rua em que são comercializados, no Recife, artigos relativos à Copa do Mundo e às festas de final de ano. \n\nOs pontos são os mesmos autorizados pela Prefeitura para a venda de produtos do ciclo junino (relação completa abaixo). Para o torneio que começa no próximo dia 20, será permitida a comercialização de adereços como camisas, flâmulas e bandeiras, além de fogos de artifício. A permissão será válida para o período entre os dias 16 de novembro e 31 de dezembro. \n\nOs interessados devem ingressar com a documentação - identidade e comprovante de residência - nas três sedes regionais da Secretaria Executiva de Controle Urbano (Secon): Norte, Sul e Centro-Oeste. O processo é presencial, e o atendimento nas regionais vai das 8h às 12h. \n\nPara o licenciamento valem os mesmos princípios do decreto 23.875, de 15 de agosto de 2008, que regulamenta a venda de artigos juninos. Após o cadastro, haverá uma vistoria do Corpo de Bombeiros para a liberação do ponto, uma vez que será realizada a comercialização de fogos de artifício.\n\n“Copa do Mundo é sempre um período festivo em que a população gosta de enfeitar as ruas e comemorar com fogos de artifício. Mas é preciso sempre lembrar dos cuidados que se deve ter ao manuseá-los, mantendo-os longe de crianças, para evitar acidentes. Também é preciso que os comerciantes realizem o acondicionamento correto dos materiais, de acordo com o que o Corpo de Bombeiros determinar. Além disso, é proibida a comercialização de fogos de artifício para menores de 18 anos”, afirma a Secretária Executiva de Controle Urbano, Marta Lima.\n\nAs regionais da Secretaria Executiva de Controle Urbano, com os respectivos endereços, são:\n\nCENTRO-OESTE\n\nRua José Higino, 77, Madalena. Telefone: 3355-7350\n\nNORTE\n\nAvenida Beberibe, 1020, Arruda. Telefone: 3223-4650\n\nSUL\n\nAvenida Senador Robert Kennedy, 350, Ipsep. Telefone: 3355-1250\n\nLOCAIS PARA INSTALAÇÃO DE BARRACAS:\n\nREGIONAL CENTRO OESTE\n\n1. Rua Frei Cassimiro - esquina com a Rua do Pombal (refúgio central da Rua Frei Cassimiro - área calçada com paralelo);\n\n2. Calçada do canteiro entre a via local e faixa de rolamento da Av. Agamenom Magalhães, em frente às Ruas Tupinambás e Frei Cassimiro.\n\n3. Rua Elísio Medrado, entre as Ruas Felipe Guerra e Governador Leopoldo Neves (próximo à Estátua do Pe. Cícero), Caxangá\n\n4. Av. Beira Rio, na margem do Rio Capibaribe, nos trechos: em frente à Praça Domingos Giovanete (entre as Ruas Clóvis Bevilaqua a Pe. José de Anchieta).\n\n5. Praça do Jóquei Clube, Prado; Rua do Bom Pastor (próximo ao pontilhão);\n\n6. Av. Visconde de Albuquerque, próximo ao nº 379 - Torre; \n\n7. Rua José de Holanda (Campo do Bueirão);\n\n8. Av. Caxangá, em frente ao Parque de Exposição de Animais;\n\n9. Av. Joaquim Ribeiro, (esquina da Rua Gastão de Vidigal, ao limite com o município de Camaragibe);\n\n10. Rua Amaro Gomes Poroca, esquina com a Rua Francisco Lisboa\n\nREGIONAL NORTE\n\nMargens do Canal do Arruda (Av. José dos Anjos) nos trechos:\n\n a) Entre o Estádio José do Rego Maciel (Campo do Arruda) e o imóvel nº 1020 da Av. Beberibe (2ª Gerência Regional) na margem direita;\n\n b) Entre os números 102 e 162, ambos às margens;\n\n c) Rua Amaro Coutinho em frente aos números 197, 209, 221 e 243 (lado oposto);\n\n d) Rua Professor Jerônimo Gueiros (margens do canal) em frente ao nº 438.\n\n2. Av. Norte, esquina com a Rua Oscar de Barros;\n\n3. Estrada do Encanamento, em frente ao Sítio da trindade;\n\n4. Rua da Harmonia em frente à Rua Nereu Guerra\n\n5. Av. Norte - entre as Ruas Aviador Pinto Ribeiro e Japira junto ao terreno do INSS;\n\n6. Av. Norte Canteiro Central do Buriti, entrada para o Açude de Apipucos;\n\n7. Rua de Apipucos - ao lado oposto ao açude de Apipucos.\n\nREGIONAL SUL\n\n1. Av. Recife, em frente ao nº 797 - Areias (almoxarifado central do INSS);\n\n2. Av. Recife, entre os números 4084 e 4200 - Areias (em frente ao Conj. Ignez Andreazza);\n\n3. BR 101 - Cruzamento com a Av.",
         "4094"
        ],
        [
         "29",
         "Amados!\nOs olhos do mundo estavam voltados para o Brasil neste dia 2 de outubro de 2022. Não podia ser diferente, pois muita coisa se decide agora, dentro do rumo que a humanidade vai tomar.\nNão somente os olhos físicos estiveram olhando para as terras brasileiras, mas principalmente os olhos daqueles que não possuem forma física, ou seja, as entidades etéricas. \nA Terra e sua humanidade cumprem um Plano Divino estabelecido antes mesmo da criação deste Planeta. Apesar das invasões Arcontes que tentaram estabelecer as Trevas aqui, nada vai impedir a humanidade de seguir o seu propósito estabelecido.\nTudo o que foi transmitido até aqui, é apenas uma minúscula amostra do que é de fato. E o mais importante, continua dentro do que está determinado. Pequenos percalços podem ocorrer, porém, não mudarão o Plano Maior.\nSe os olhos da Luz estão atentos e vigilantes, também os olhos da não Luz se voltaram para a Pátria do Evangelho. Sabem eles que daqui sairá a Luz que banhará definitivamente o Planeta. \nUma última tentativa dos sombrios em impedir o final de um Ciclo dominado pelas trevas, foi colocada em prática agora. Uma grande invasão de seres extra físicos juntaram forças e se dirigiram ao Brasil nos últimos meses. Todas essas egrégoras ainda remanescentes na Crosta da Terra, aportaram no Astral brasileiro. \nO objetivo seria impedir a vitória da Luz nas Terras de Santa Cruz. Aproveitando-se dos encarnados que se alinham com tais vibrações, usaram de todas as ferramentas possíveis a fim de obter os resultados que precisavam. A Magia Negra ganhou força e escureceu de certa forma o manto azulado da Planeta Terra.\nMas o Plano Divino não pode ser mudado por nenhuma força que não seja daquele que o criou. Uma estratégia utilizada é até muito praticada por todos os encarnados. Quando se quer capturar os animais com facilidade, o melhor a fazer é reuní-los todos no curral. \nFoi o que aconteceu. Todos os remanescentes da não Luz que ainda não haviam sido removidos, agora estavam reunidos na atmosfera do Brasil. Houve de fato a remossão em uma só tacada, de todas as egrégoras  remanescentes. \nVocê não pode ver isso na forma física, mas na visão dos olhos da alma, tudo está muito claro. No seu devido tempo, as revelações chegarão aos olhos físicos também. O Grande Plano Divino está nos seus últimos lances. Nada mais será como antes, pois assim o Criador projetou.\nÉ preciso apenas que você entenda isso. Ninguém ganha e ninguém perde, pois o que resta no final, é o aprendizado de cada alma encarnada. Verdade é que cada alma está escolhendo a sua Linha de Tempo de acordo com a sua frequência. Será essa frequência que determinará aquele que seguirá para a Nova Terra e aquele que a deixará definitivamente.\nOs aconteceimentos servem apenas para mostrar aquilo que antes não se podia entender. A Limpeza está sendo feita no Plano físico, e está indo para o seu final. Lembrem das mensagens aqui trazidas desde 2016. A varredura começou pelo topo da pirâmide, e agora está na sua base. Muito pouco ainda resta a fazer. No Plano Astral tudo está plasmado e já aconteceu. Falta agora materializar-se na matéria a fim de que os olhos físicos possam ver. \nNão há nada que você possa fazer a não ser manter a tua vibração elevada. Hoje faça apenas isso. Confia e eleve a frequência, confiando no Plano Divino. Nada é por acaso, pois tudo tem sempre uma causa. Daqui a 4 semanas, exerça o teu poder de decisão. Ele te alinhará com a Luz ou te afastará dela, pois o que se está decindo agora no Brasil, é muito mais do que um simples resultado político. Mas até o dia 30 de outubro, a azul da Terra estará restaurado, pois todas as nuvens negras terão sido dissipadas. \nNão importa o que cada um interprete sobre esta reflexão, pois o que importa é a frequência em que cada um está e vai estar daqui em diante. Lembre-se de que o Universo não lê palavras e nem ações; ele leva em conta somente a frequência de cada um. Palavras e ações podem enganar pessoas, mas não enganam aquele que comanda o Plano Divino. \nEu sou Vital Frosi e minha missão é o esclarecimento! \nNamastê!",
         "4093"
        ]
       ],
       "shape": {
        "columns": 2,
        "rows": 30
       }
      },
      "text/html": [
       "<div>\n",
       "<style scoped>\n",
       "    .dataframe tbody tr th:only-of-type {\n",
       "        vertical-align: middle;\n",
       "    }\n",
       "\n",
       "    .dataframe tbody tr th {\n",
       "        vertical-align: top;\n",
       "    }\n",
       "\n",
       "    .dataframe thead th {\n",
       "        text-align: right;\n",
       "    }\n",
       "</style>\n",
       "<table border=\"1\" class=\"dataframe\">\n",
       "  <thead>\n",
       "    <tr style=\"text-align: right;\">\n",
       "      <th></th>\n",
       "      <th>text_content_anonymous</th>\n",
       "      <th>tamanho</th>\n",
       "    </tr>\n",
       "  </thead>\n",
       "  <tbody>\n",
       "    <tr>\n",
       "      <th>0</th>\n",
       "      <td>Trecho do livro “Prática da Conspiração A Agen...</td>\n",
       "      <td>4096</td>\n",
       "    </tr>\n",
       "    <tr>\n",
       "      <th>1</th>\n",
       "      <td>CCCCCCCCCCCCCCCCCCCCCCCHHHHHHHHHHHHHHHHHHHHHOO...</td>\n",
       "      <td>4096</td>\n",
       "    </tr>\n",
       "    <tr>\n",
       "      <th>2</th>\n",
       "      <td>ROIA♘ ♞HERON★�CAVALO★§�DE★§�§TROIA♘ ♞HERON★�CA...</td>\n",
       "      <td>4096</td>\n",
       "    </tr>\n",
       "    <tr>\n",
       "      <th>3</th>\n",
       "      <td>1: Sansão foi a Gaza, e viu ali uma prostituta...</td>\n",
       "      <td>4096</td>\n",
       "    </tr>\n",
       "    <tr>\n",
       "      <th>4</th>\n",
       "      <td>PROPOSTAS DE BOLSONARO PARA 2023 - POSTADAS AG...</td>\n",
       "      <td>4096</td>\n",
       "    </tr>\n",
       "    <tr>\n",
       "      <th>5</th>\n",
       "      <td>CCCCCCCCCCCCCCCCCCCCCCCHHHHHHHHHHHHHHHHHHHHHOO...</td>\n",
       "      <td>4096</td>\n",
       "    </tr>\n",
       "    <tr>\n",
       "      <th>6</th>\n",
       "      <td>Trecho do livro “Prática da Conspiração A Agen...</td>\n",
       "      <td>4096</td>\n",
       "    </tr>\n",
       "    <tr>\n",
       "      <th>7</th>\n",
       "      <td>Trecho do livro “Prática da Conspiração A Agen...</td>\n",
       "      <td>4096</td>\n",
       "    </tr>\n",
       "    <tr>\n",
       "      <th>8</th>\n",
       "      <td>1: Aconteceu também naqueles dias, quando não ...</td>\n",
       "      <td>4096</td>\n",
       "    </tr>\n",
       "    <tr>\n",
       "      <th>9</th>\n",
       "      <td>ROIA♘ ♞HERON★�CAVALO★§�DE★§�§TROIA♘ ♞HERON★�CA...</td>\n",
       "      <td>4096</td>\n",
       "    </tr>\n",
       "    <tr>\n",
       "      <th>10</th>\n",
       "      <td>ROIA♘ ♞HERON★�CAVALO★§�DE★§�§TROIA♘ ♞HERON★�CA...</td>\n",
       "      <td>4096</td>\n",
       "    </tr>\n",
       "    <tr>\n",
       "      <th>11</th>\n",
       "      <td>ROIA♘ ♞HERON★�CAVALO★§�DE★§�§TROIA♘ ♞HERON★�CA...</td>\n",
       "      <td>4096</td>\n",
       "    </tr>\n",
       "    <tr>\n",
       "      <th>12</th>\n",
       "      <td>ROIA♘ ♞HERON★�CAVALO★§�DE★§�§TROIA♘ ♞HERON★�CA...</td>\n",
       "      <td>4096</td>\n",
       "    </tr>\n",
       "    <tr>\n",
       "      <th>13</th>\n",
       "      <td>CCCCCCCCCCCCCCCCCCCCCCCHHHHHHHHHHHHHHHHHHHHHOO...</td>\n",
       "      <td>4096</td>\n",
       "    </tr>\n",
       "    <tr>\n",
       "      <th>14</th>\n",
       "      <td>[Encaminhado de FYI-Brasil (Sú)]\\n🚨ELEIÇÕES DE...</td>\n",
       "      <td>4096</td>\n",
       "    </tr>\n",
       "    <tr>\n",
       "      <th>15</th>\n",
       "      <td>1: Aconteceu também naqueles dias, quando não ...</td>\n",
       "      <td>4096</td>\n",
       "    </tr>\n",
       "    <tr>\n",
       "      <th>16</th>\n",
       "      <td>1: Naqueles dias não havia melech em Yisra-EL;...</td>\n",
       "      <td>4096</td>\n",
       "    </tr>\n",
       "    <tr>\n",
       "      <th>17</th>\n",
       "      <td>COMO O SOCIALISMO DESTRUIU A VENEZUELA EM POUC...</td>\n",
       "      <td>4096</td>\n",
       "    </tr>\n",
       "    <tr>\n",
       "      <th>18</th>\n",
       "      <td>Vamos lá... \\nPra não perder o costume, mais u...</td>\n",
       "      <td>4095</td>\n",
       "    </tr>\n",
       "    <tr>\n",
       "      <th>19</th>\n",
       "      <td>1 – A Estratégia da Distração.\\n\\nO elemento p...</td>\n",
       "      <td>4095</td>\n",
       "    </tr>\n",
       "    <tr>\n",
       "      <th>20</th>\n",
       "      <td>1 – A Estratégia da Distração.\\n\\nO elemento p...</td>\n",
       "      <td>4095</td>\n",
       "    </tr>\n",
       "    <tr>\n",
       "      <th>21</th>\n",
       "      <td>[USER]⚠️⚠️DIVULGEM O MÁXIMO POSSÍVEL \\n\\nVAMOS...</td>\n",
       "      <td>4095</td>\n",
       "    </tr>\n",
       "    <tr>\n",
       "      <th>22</th>\n",
       "      <td>1 – A Estratégia da Distração.\\n\\nO elemento p...</td>\n",
       "      <td>4095</td>\n",
       "    </tr>\n",
       "    <tr>\n",
       "      <th>23</th>\n",
       "      <td>Sobre a morte como política global e a necessi...</td>\n",
       "      <td>4095</td>\n",
       "    </tr>\n",
       "    <tr>\n",
       "      <th>24</th>\n",
       "      <td>1 – A Estratégia da Distração.\\n\\nO elemento p...</td>\n",
       "      <td>4095</td>\n",
       "    </tr>\n",
       "    <tr>\n",
       "      <th>25</th>\n",
       "      <td>🔴 ALERTA TOTAL 🆘️ 💣 YAHU E YAHUSHUA São Merda ...</td>\n",
       "      <td>4094</td>\n",
       "    </tr>\n",
       "    <tr>\n",
       "      <th>26</th>\n",
       "      <td>🔴 ALERTA TOTAL 🆘️ 💣 YAHU E YAHUSHUA São Merda ...</td>\n",
       "      <td>4094</td>\n",
       "    </tr>\n",
       "    <tr>\n",
       "      <th>27</th>\n",
       "      <td>🔴 ALERTA TOTAL 🆘️ 💣 YAHU E YAHUSHUA São Merda ...</td>\n",
       "      <td>4094</td>\n",
       "    </tr>\n",
       "    <tr>\n",
       "      <th>28</th>\n",
       "      <td>PERNAMBUCO ⚽️🎄 Prefeitura do Recife abre inscr...</td>\n",
       "      <td>4094</td>\n",
       "    </tr>\n",
       "    <tr>\n",
       "      <th>29</th>\n",
       "      <td>Amados!\\nOs olhos do mundo estavam voltados pa...</td>\n",
       "      <td>4093</td>\n",
       "    </tr>\n",
       "  </tbody>\n",
       "</table>\n",
       "</div>"
      ],
      "text/plain": [
       "                               text_content_anonymous  tamanho\n",
       "0   Trecho do livro “Prática da Conspiração A Agen...     4096\n",
       "1   CCCCCCCCCCCCCCCCCCCCCCCHHHHHHHHHHHHHHHHHHHHHOO...     4096\n",
       "2   ROIA♘ ♞HERON★�CAVALO★§�DE★§�§TROIA♘ ♞HERON★�CA...     4096\n",
       "3   1: Sansão foi a Gaza, e viu ali uma prostituta...     4096\n",
       "4   PROPOSTAS DE BOLSONARO PARA 2023 - POSTADAS AG...     4096\n",
       "5   CCCCCCCCCCCCCCCCCCCCCCCHHHHHHHHHHHHHHHHHHHHHOO...     4096\n",
       "6   Trecho do livro “Prática da Conspiração A Agen...     4096\n",
       "7   Trecho do livro “Prática da Conspiração A Agen...     4096\n",
       "8   1: Aconteceu também naqueles dias, quando não ...     4096\n",
       "9   ROIA♘ ♞HERON★�CAVALO★§�DE★§�§TROIA♘ ♞HERON★�CA...     4096\n",
       "10  ROIA♘ ♞HERON★�CAVALO★§�DE★§�§TROIA♘ ♞HERON★�CA...     4096\n",
       "11  ROIA♘ ♞HERON★�CAVALO★§�DE★§�§TROIA♘ ♞HERON★�CA...     4096\n",
       "12  ROIA♘ ♞HERON★�CAVALO★§�DE★§�§TROIA♘ ♞HERON★�CA...     4096\n",
       "13  CCCCCCCCCCCCCCCCCCCCCCCHHHHHHHHHHHHHHHHHHHHHOO...     4096\n",
       "14  [Encaminhado de FYI-Brasil (Sú)]\\n🚨ELEIÇÕES DE...     4096\n",
       "15  1: Aconteceu também naqueles dias, quando não ...     4096\n",
       "16  1: Naqueles dias não havia melech em Yisra-EL;...     4096\n",
       "17  COMO O SOCIALISMO DESTRUIU A VENEZUELA EM POUC...     4096\n",
       "18  Vamos lá... \\nPra não perder o costume, mais u...     4095\n",
       "19  1 – A Estratégia da Distração.\\n\\nO elemento p...     4095\n",
       "20  1 – A Estratégia da Distração.\\n\\nO elemento p...     4095\n",
       "21  [USER]⚠️⚠️DIVULGEM O MÁXIMO POSSÍVEL \\n\\nVAMOS...     4095\n",
       "22  1 – A Estratégia da Distração.\\n\\nO elemento p...     4095\n",
       "23  Sobre a morte como política global e a necessi...     4095\n",
       "24  1 – A Estratégia da Distração.\\n\\nO elemento p...     4095\n",
       "25  🔴 ALERTA TOTAL 🆘️ 💣 YAHU E YAHUSHUA São Merda ...     4094\n",
       "26  🔴 ALERTA TOTAL 🆘️ 💣 YAHU E YAHUSHUA São Merda ...     4094\n",
       "27  🔴 ALERTA TOTAL 🆘️ 💣 YAHU E YAHUSHUA São Merda ...     4094\n",
       "28  PERNAMBUCO ⚽️🎄 Prefeitura do Recife abre inscr...     4094\n",
       "29  Amados!\\nOs olhos do mundo estavam voltados pa...     4093"
      ]
     },
     "metadata": {},
     "output_type": "display_data"
    }
   ],
   "source": [
    "maiores_mensagens = conn.execute(\"\"\"\n",
    "    SELECT\n",
    "    text_content_anonymous,\n",
    "    LENGTH(text_content_anonymous) AS tamanho\n",
    "    FROM tabela_dados\n",
    "    WHERE text_content_anonymous IS NOT NULL\n",
    "    AND TRIM(text_content_anonymous) <> ''\n",
    "    ORDER BY tamanho DESC\n",
    "    LIMIT 30;\n",
    "\"\"\").fetchdf()\n",
    "\n",
    "display(maiores_mensagens)"
   ]
  },
  {
   "cell_type": "markdown",
   "id": "0df44106",
   "metadata": {},
   "source": [
    "---"
   ]
  },
  {
   "cell_type": "markdown",
   "id": "5159d24a",
   "metadata": {},
   "source": [
    "#### **27**. As 30 menores mensagens"
   ]
  },
  {
   "cell_type": "markdown",
   "id": "2f6c8a21",
   "metadata": {},
   "source": [
    "Filtrei apenas mensagens válidas, removi espaços em branco e ordenei pelo menor número de caracteres. Depois selecionei as 30 menores mensagens distintas."
   ]
  },
  {
   "cell_type": "code",
   "execution_count": 42,
   "id": "aa155929",
   "metadata": {},
   "outputs": [
    {
     "data": {
      "application/vnd.microsoft.datawrangler.viewer.v0+json": {
       "columns": [
        {
         "name": "index",
         "rawType": "int64",
         "type": "integer"
        },
        {
         "name": "text_content_anonymous",
         "rawType": "object",
         "type": "string"
        },
        {
         "name": "tamanho",
         "rawType": "int64",
         "type": "integer"
        }
       ],
       "conversionMethod": "pd.DataFrame",
       "ref": "ab9a831b-6fd6-4eb9-a8ae-55a0f6201008",
       "rows": [
        [
         "0",
         "🤔",
         "1"
        ],
        [
         "1",
         "🤭",
         "1"
        ],
        [
         "2",
         "🤣",
         "1"
        ],
        [
         "3",
         "👀",
         "1"
        ],
        [
         "4",
         "🎯",
         "1"
        ],
        [
         "5",
         "😏",
         "1"
        ],
        [
         "6",
         "👇",
         "1"
        ],
        [
         "7",
         "🤣",
         "1"
        ],
        [
         "8",
         "😁",
         "1"
        ],
        [
         "9",
         "🙄",
         "1"
        ],
        [
         "10",
         "😂",
         "1"
        ],
        [
         "11",
         "🤭",
         "1"
        ],
        [
         "12",
         "🙄",
         "1"
        ],
        [
         "13",
         "🎯",
         "1"
        ],
        [
         "14",
         "🫠",
         "1"
        ],
        [
         "15",
         "🤭",
         "1"
        ],
        [
         "16",
         "🤭",
         "1"
        ],
        [
         "17",
         "🙄",
         "1"
        ],
        [
         "18",
         "🤣",
         "1"
        ],
        [
         "19",
         "🤣",
         "1"
        ],
        [
         "20",
         "🤣",
         "1"
        ],
        [
         "21",
         "🎯",
         "1"
        ],
        [
         "22",
         "🙄",
         "1"
        ],
        [
         "23",
         "😅",
         "1"
        ],
        [
         "24",
         "🤭",
         "1"
        ],
        [
         "25",
         "🤣",
         "1"
        ],
        [
         "26",
         "🤣",
         "1"
        ],
        [
         "27",
         "🤣",
         "1"
        ],
        [
         "28",
         "🤣",
         "1"
        ],
        [
         "29",
         "🤣",
         "1"
        ]
       ],
       "shape": {
        "columns": 2,
        "rows": 30
       }
      },
      "text/html": [
       "<div>\n",
       "<style scoped>\n",
       "    .dataframe tbody tr th:only-of-type {\n",
       "        vertical-align: middle;\n",
       "    }\n",
       "\n",
       "    .dataframe tbody tr th {\n",
       "        vertical-align: top;\n",
       "    }\n",
       "\n",
       "    .dataframe thead th {\n",
       "        text-align: right;\n",
       "    }\n",
       "</style>\n",
       "<table border=\"1\" class=\"dataframe\">\n",
       "  <thead>\n",
       "    <tr style=\"text-align: right;\">\n",
       "      <th></th>\n",
       "      <th>text_content_anonymous</th>\n",
       "      <th>tamanho</th>\n",
       "    </tr>\n",
       "  </thead>\n",
       "  <tbody>\n",
       "    <tr>\n",
       "      <th>0</th>\n",
       "      <td>🤔</td>\n",
       "      <td>1</td>\n",
       "    </tr>\n",
       "    <tr>\n",
       "      <th>1</th>\n",
       "      <td>🤭</td>\n",
       "      <td>1</td>\n",
       "    </tr>\n",
       "    <tr>\n",
       "      <th>2</th>\n",
       "      <td>🤣</td>\n",
       "      <td>1</td>\n",
       "    </tr>\n",
       "    <tr>\n",
       "      <th>3</th>\n",
       "      <td>👀</td>\n",
       "      <td>1</td>\n",
       "    </tr>\n",
       "    <tr>\n",
       "      <th>4</th>\n",
       "      <td>🎯</td>\n",
       "      <td>1</td>\n",
       "    </tr>\n",
       "    <tr>\n",
       "      <th>5</th>\n",
       "      <td>😏</td>\n",
       "      <td>1</td>\n",
       "    </tr>\n",
       "    <tr>\n",
       "      <th>6</th>\n",
       "      <td>👇</td>\n",
       "      <td>1</td>\n",
       "    </tr>\n",
       "    <tr>\n",
       "      <th>7</th>\n",
       "      <td>🤣</td>\n",
       "      <td>1</td>\n",
       "    </tr>\n",
       "    <tr>\n",
       "      <th>8</th>\n",
       "      <td>😁</td>\n",
       "      <td>1</td>\n",
       "    </tr>\n",
       "    <tr>\n",
       "      <th>9</th>\n",
       "      <td>🙄</td>\n",
       "      <td>1</td>\n",
       "    </tr>\n",
       "    <tr>\n",
       "      <th>10</th>\n",
       "      <td>😂</td>\n",
       "      <td>1</td>\n",
       "    </tr>\n",
       "    <tr>\n",
       "      <th>11</th>\n",
       "      <td>🤭</td>\n",
       "      <td>1</td>\n",
       "    </tr>\n",
       "    <tr>\n",
       "      <th>12</th>\n",
       "      <td>🙄</td>\n",
       "      <td>1</td>\n",
       "    </tr>\n",
       "    <tr>\n",
       "      <th>13</th>\n",
       "      <td>🎯</td>\n",
       "      <td>1</td>\n",
       "    </tr>\n",
       "    <tr>\n",
       "      <th>14</th>\n",
       "      <td>🫠</td>\n",
       "      <td>1</td>\n",
       "    </tr>\n",
       "    <tr>\n",
       "      <th>15</th>\n",
       "      <td>🤭</td>\n",
       "      <td>1</td>\n",
       "    </tr>\n",
       "    <tr>\n",
       "      <th>16</th>\n",
       "      <td>🤭</td>\n",
       "      <td>1</td>\n",
       "    </tr>\n",
       "    <tr>\n",
       "      <th>17</th>\n",
       "      <td>🙄</td>\n",
       "      <td>1</td>\n",
       "    </tr>\n",
       "    <tr>\n",
       "      <th>18</th>\n",
       "      <td>🤣</td>\n",
       "      <td>1</td>\n",
       "    </tr>\n",
       "    <tr>\n",
       "      <th>19</th>\n",
       "      <td>🤣</td>\n",
       "      <td>1</td>\n",
       "    </tr>\n",
       "    <tr>\n",
       "      <th>20</th>\n",
       "      <td>🤣</td>\n",
       "      <td>1</td>\n",
       "    </tr>\n",
       "    <tr>\n",
       "      <th>21</th>\n",
       "      <td>🎯</td>\n",
       "      <td>1</td>\n",
       "    </tr>\n",
       "    <tr>\n",
       "      <th>22</th>\n",
       "      <td>🙄</td>\n",
       "      <td>1</td>\n",
       "    </tr>\n",
       "    <tr>\n",
       "      <th>23</th>\n",
       "      <td>😅</td>\n",
       "      <td>1</td>\n",
       "    </tr>\n",
       "    <tr>\n",
       "      <th>24</th>\n",
       "      <td>🤭</td>\n",
       "      <td>1</td>\n",
       "    </tr>\n",
       "    <tr>\n",
       "      <th>25</th>\n",
       "      <td>🤣</td>\n",
       "      <td>1</td>\n",
       "    </tr>\n",
       "    <tr>\n",
       "      <th>26</th>\n",
       "      <td>🤣</td>\n",
       "      <td>1</td>\n",
       "    </tr>\n",
       "    <tr>\n",
       "      <th>27</th>\n",
       "      <td>🤣</td>\n",
       "      <td>1</td>\n",
       "    </tr>\n",
       "    <tr>\n",
       "      <th>28</th>\n",
       "      <td>🤣</td>\n",
       "      <td>1</td>\n",
       "    </tr>\n",
       "    <tr>\n",
       "      <th>29</th>\n",
       "      <td>🤣</td>\n",
       "      <td>1</td>\n",
       "    </tr>\n",
       "  </tbody>\n",
       "</table>\n",
       "</div>"
      ],
      "text/plain": [
       "   text_content_anonymous  tamanho\n",
       "0                       🤔        1\n",
       "1                       🤭        1\n",
       "2                       🤣        1\n",
       "3                       👀        1\n",
       "4                       🎯        1\n",
       "5                       😏        1\n",
       "6                       👇        1\n",
       "7                       🤣        1\n",
       "8                       😁        1\n",
       "9                       🙄        1\n",
       "10                      😂        1\n",
       "11                      🤭        1\n",
       "12                      🙄        1\n",
       "13                      🎯        1\n",
       "14                      🫠        1\n",
       "15                      🤭        1\n",
       "16                      🤭        1\n",
       "17                      🙄        1\n",
       "18                      🤣        1\n",
       "19                      🤣        1\n",
       "20                      🤣        1\n",
       "21                      🎯        1\n",
       "22                      🙄        1\n",
       "23                      😅        1\n",
       "24                      🤭        1\n",
       "25                      🤣        1\n",
       "26                      🤣        1\n",
       "27                      🤣        1\n",
       "28                      🤣        1\n",
       "29                      🤣        1"
      ]
     },
     "metadata": {},
     "output_type": "display_data"
    }
   ],
   "source": [
    "menores_mensagens = conn.execute(\"\"\"\n",
    "    SELECT\n",
    "    text_content_anonymous,\n",
    "    LENGTH(text_content_anonymous) AS tamanho\n",
    "    FROM tabela_dados\n",
    "    WHERE text_content_anonymous IS NOT NULL\n",
    "    AND TRIM(text_content_anonymous) <> ''\n",
    "    ORDER BY tamanho ASC\n",
    "    LIMIT 30;\n",
    "\"\"\").fetchdf()\n",
    "\n",
    "display(menores_mensagens)"
   ]
  },
  {
   "cell_type": "markdown",
   "id": "098d89e3",
   "metadata": {},
   "source": [
    "---"
   ]
  },
  {
   "cell_type": "markdown",
   "id": "719194ff",
   "metadata": {},
   "source": [
    "#### **28**. O dia em que foi publicado a maior quantidade de mensagens"
   ]
  },
  {
   "cell_type": "markdown",
   "id": "2d65affc",
   "metadata": {},
   "source": [
    "Aqui eu agrupei as mensagens por data (`date_message`) e contei quantas mensagens foram publicadas em cada dia. Depois, selecionei o dia com o maior número de mensagens publicadas."
   ]
  },
  {
   "cell_type": "code",
   "execution_count": 43,
   "id": "94221647",
   "metadata": {},
   "outputs": [
    {
     "data": {
      "application/vnd.microsoft.datawrangler.viewer.v0+json": {
       "columns": [
        {
         "name": "index",
         "rawType": "int64",
         "type": "integer"
        },
        {
         "name": "dia",
         "rawType": "datetime64[us]",
         "type": "unknown"
        },
        {
         "name": "total_mensagens",
         "rawType": "int64",
         "type": "integer"
        }
       ],
       "conversionMethod": "pd.DataFrame",
       "ref": "b6411006-def4-4253-9cd7-c2d84b09d314",
       "rows": [
        [
         "0",
         "2022-10-02 00:00:00",
         "25243"
        ]
       ],
       "shape": {
        "columns": 2,
        "rows": 1
       }
      },
      "text/html": [
       "<div>\n",
       "<style scoped>\n",
       "    .dataframe tbody tr th:only-of-type {\n",
       "        vertical-align: middle;\n",
       "    }\n",
       "\n",
       "    .dataframe tbody tr th {\n",
       "        vertical-align: top;\n",
       "    }\n",
       "\n",
       "    .dataframe thead th {\n",
       "        text-align: right;\n",
       "    }\n",
       "</style>\n",
       "<table border=\"1\" class=\"dataframe\">\n",
       "  <thead>\n",
       "    <tr style=\"text-align: right;\">\n",
       "      <th></th>\n",
       "      <th>dia</th>\n",
       "      <th>total_mensagens</th>\n",
       "    </tr>\n",
       "  </thead>\n",
       "  <tbody>\n",
       "    <tr>\n",
       "      <th>0</th>\n",
       "      <td>2022-10-02</td>\n",
       "      <td>25243</td>\n",
       "    </tr>\n",
       "  </tbody>\n",
       "</table>\n",
       "</div>"
      ],
      "text/plain": [
       "         dia  total_mensagens\n",
       "0 2022-10-02            25243"
      ]
     },
     "metadata": {},
     "output_type": "display_data"
    }
   ],
   "source": [
    "dia_maior_qtd_mensagem = conn.execute(\"\"\"\n",
    "    SELECT\n",
    "    CAST(date_message AS DATE) AS dia,\n",
    "    COUNT(*) AS total_mensagens\n",
    "    FROM tabela_dados\n",
    "    WHERE date_message IS NOT NULL\n",
    "    GROUP BY dia\n",
    "    ORDER BY total_mensagens DESC\n",
    "    LIMIT 1;\n",
    "\"\"\").fetchdf()\n",
    "\n",
    "display(dia_maior_qtd_mensagem)"
   ]
  },
  {
   "cell_type": "markdown",
   "id": "16bf1a49",
   "metadata": {},
   "source": [
    "---"
   ]
  },
  {
   "cell_type": "markdown",
   "id": "242fde74",
   "metadata": {},
   "source": [
    "#### **29**. As mensagens que possuem as palavras “FACÇÃO” e “CRIMINOSA”"
   ]
  },
  {
   "cell_type": "markdown",
   "id": "06b3783e",
   "metadata": {},
   "source": [
    "Filtrei as mensagens que contêm ambas as palavras \"FACÇÃO\" e \"CRIMINOSA\" (sem distinção de maiúsculas/minúsculas). Utilizei o operador `LIKE` para encontrar essas palavras dentro do conteúdo das mensagens."
   ]
  },
  {
   "cell_type": "code",
   "execution_count": 44,
   "id": "8f0bb169",
   "metadata": {},
   "outputs": [
    {
     "data": {
      "application/vnd.microsoft.datawrangler.viewer.v0+json": {
       "columns": [
        {
         "name": "index",
         "rawType": "int64",
         "type": "integer"
        },
        {
         "name": "text_content_anonymous",
         "rawType": "object",
         "type": "string"
        }
       ],
       "conversionMethod": "pd.DataFrame",
       "ref": "9ce8be21-a1eb-4d4c-9b14-11a8051a7e2c",
       "rows": [
        [
         "0",
         "Pensem!!!!!!'Se Houve fraude  ,Nada foi feito ,certo?  Nenhuma medida foi tomada para isso tanto pelo governo como FAS ,que se calaram  ,nada declaram ,aceitaram isso ? Tudo certo? Culparam o  povo do nordeste? E agora no segundo turno ,havera nova fraude? Vamos entregar o país as mãos de uma facção criminosa?"
        ],
        [
         "1",
         "#lulaladrãoseulugarénaprisão \n#PTFACÇÃOCRIMINOSA \n\n\n\nhttps://gettr.com/post/p1t8lax7bb8"
        ],
        [
         "2",
         "Se depois de ler esse resumo do Plano do PT, você ainda defender essa Facção Criminosa e Satânica que tem como foco a Destruição do Nosso BRASIL!!! Declaro: Lamentável que você ainda não se tornou Cristão, Fiel e Verdadeiro (a) a JESUS CRISTO!!!"
        ],
        [
         "3",
         "Se depois de ler esse resumo do Plano do PT, você ainda defender essa Facção Criminosa e Satânica que tem como foco a Destruição do Nosso BRASIL!!! Declaro: Lamentável que você ainda não se tornou Cristão, Fiel e Verdadeiro (a) a JESUS CRISTO!!!"
        ],
        [
         "4",
         "É  exatamente isso que a facção criminosa CHAMADA PT  fará  se ganhar juntamente  com os cumpanheiros vagabundos."
        ],
        [
         "5",
         "Esperar o que dessa eleição  com bandidos aliados da facção criminosa PT  comandado as URNAS  ??? Só FRAUDE."
        ],
        [
         "6",
         "Quem com porco se junta farelo come! 🐷🦂🐍 🤡🐴 A quadrilha reunida para uma fotografia no álbum da facção narcoterrorista FORO DE SÃO PAULO!! Fazem pose de santos por fora, por dentro podres, pura carniça, sepulcros caiados. Esquerda criminosa, parasitas. Hipócritas! Asquerosos!"
        ],
        [
         "7",
         "Lula vai ao TSE contra publicação de Bolsonaro que vincula ex-presidente à facção criminosa  ☛ https://terrabrasilnoticias.com/2022/10/lula-vai-ao-tse-contra-publicacao-de-bolsonaro-que-vincula-ex-presidente-a-faccao-criminosa/"
        ],
        [
         "8",
         "Não precisamos de mais ministros e mais despesas pra sustentar os privilégios destes. \nPrecisamos que tirem essa quadrilha que foi posta lá pela facção criminosa que é o pt.\nE o tse deveria ser extinto."
        ],
        [
         "9",
         "PT NÃO É PARTIDO POLÍTICO É FACÇÃO CRIMINOSA ... BANDIDOS SUJOS"
        ],
        [
         "10",
         "Bandido defende bandido..\nPT não é partido político e facção criminosa... BANDIDOS"
        ],
        [
         "11",
         "PT não é partido político e facção criminosa  e os Togados  fazem parte da GANG."
        ],
        [
         "12",
         "PT não é partido político e facção criminosa  e os Togados fazem parte da GANG  DE BANDIDOS."
        ],
        [
         "13",
         "Vamos as ruas quem tiver o vídeo e  fotos do bandido sendo apoiado pelo comando vermelho e traficantes no alemão mostrem praquele conhecido petista , indeciso. Vamos imprimir matérias contra essa facção criminosa do pt e mostrar o que o presidente fez de bom pelo país pelo nordeste etc"
        ],
        [
         "14",
         "Vamos as ruas quem tiver o vídeo e  fotos do bandido sendo apoiado pelo comando vermelho e traficantes no alemão mostrem praquele conhecido petista , indeciso. Vamos imprimir matérias contra essa facção criminosa do pt e mostrar o que o presidente fez de bom pelo país pelo nordeste etc"
        ],
        [
         "15",
         "🚨 LULA USA BONE COM SIGLA CPX NO COMPLEXO DO ALEMAO!.🚨\n\n🚨 CPX  É UMA FACÇÃO CRIMINOSA DO ALEMAO ALIADA AO CV COMANDO VERMELHO 🚨"
        ],
        [
         "16",
         "🚨 LULA USA BONE COM SIGLA CPX NO COMPLEXO DO ALEMAO!.🚨\n\n🚨 CPX  É UMA FACÇÃO CRIMINOSA DO ALEMAO ALIADA AO CV COMANDO VERMELHO 🚨"
        ],
        [
         "17",
         "🚨 LULA USA BONE COM SIGLA CPX NO COMPLEXO DO ALEMAO!.🚨\n\n🚨 CPX  É UMA FACÇÃO CRIMINOSA DO ALEMAO ALIADA AO CV COMANDO VERMELHO 🚨"
        ],
        [
         "18",
         "Defensor de bandidos  pois é  um deles... aliado da facção criminosa PT ."
        ],
        [
         "19",
         "Eles roubam de todas as  maneiras  kkklkkll   PT não é partido político e facção criminosa.. BANDIDOS"
        ],
        [
         "20",
         "- LULA USA BONE COM SIGLA CPX NO COMPLEXO DO ALEMAO!.\n\n- CPX  É UMA FACÇÃO CRIMINOSA DO ALEMAO ALIADA AO CV COMANDO VERMELHO.\n\n-  Sério que tem gente que vota no candidato do crime organizado?"
        ],
        [
         "21",
         "- LULA USA BONE COM SIGLA CPX NO COMPLEXO DO ALEMAO!.\n\n- CPX  É UMA FACÇÃO CRIMINOSA DO ALEMAO ALIADA AO CV COMANDO VERMELHO.\n\n-  Sério que tem gente que vota no candidato do crime organizado?\n\nVote 22"
        ],
        [
         "22",
         "Lula com o Boné da Facção Criminosa Comando Vermelho em Belfort Roxo Rio de Janeiro. O comitê do PT em Maricá distribuindo combustível em posto de gasolina para obrigar o povo a votar no Lula e outros flagrantes. Viralizem!!!"
        ],
        [
         "23",
         "Um candidato a presidente da república colocar na cabeça um boné de uma facção reconhecidamente criminosa e assassina, demonstra quem ele é e mostra do que ele capaz de fazer em alianças com a marginalidade."
        ],
        [
         "24",
         "🚨 LULA USA BONE COM SIGLA CPX NO COMPLEXO DO ALEMAO!.🚨\n\n🚨 CPX  É UMA FACÇÃO CRIMINOSA DO ALEMAO ALIADA AO CV COMANDO VERMELHO 🚨"
        ],
        [
         "25",
         "Um candidato a presidente da república colocar na cabeça um boné de uma facção reconhecidamente criminosa e assassina, demonstra quem ele é e mostra do que ele capaz de fazer em alianças com a marginalidade,apologia ao Crime art.287 cassação do PT."
        ],
        [
         "26",
         "Um candidato a presidente da república colocar na cabeça um boné de uma facção reconhecidamente criminosa e assassina, demonstra quem ele é e mostra do que ele capaz de fazer em alianças com a marginalidade,apologia ao Crime art.287 cassação do PT."
        ],
        [
         "27",
         "*Lula é convidado de honra do Comando Vermelho* .\n\n\n*Se isso não te incomoda, o problema não é o candidato.*\n\n\n\n*O Chefe da facção criminosa vermelha nos  redutos do Comando Vermelho no Rio de Janeiro.*\n\n\n\n*Falta agora a reunião junto ao PCC em SP!*\n\n\n\nhttps://terrabrasilnoticias.com/2022/10/lula-vai-visitar-favela-que-policia-foi-proibida-de-fazer-operacoes-pelo-stf-vou-ao-complexo-do-alemao/"
        ],
        [
         "28",
         "Isso é uma facção criminosa e não um partido, como se admite essa existência?"
        ],
        [
         "29",
         "Vejam esta!\n*Ah, Bahia! Tu, mais uma vez!*\nEnquanto, *em todo país, os combustíveis baixam, a exemplo do anunciado, hoje (12/10/2022), pela Petrobrás*, os combustíveis, na Bahia, aumentou, em média, 55 centavos, algo em torno de 10%. \n*Tal aumento se dá pela politicagem do PT para derrubar o presidente,* tirando votos dele, para eleger o Lulaladrão. Em conluio com os donos de postos e a refinaria local, o governo baiano culpa o Bolsonaro pelos diversos aumentos, mas *só a Bahia tem aumentado os preços dos combustíveis*; então, como a culpa pode ser do presidente?!\nAh, cabe informar a população a respeito de várias coisas, *que deviam baratear os preços, mas, na contramão do que devia acontecer, a Bahia tem um dos combustíveis mais caros do país:*\n1. A Bahia tem o maior pólo petroquímico da América Latina, para tratar o petróleo;\n2. Por ter pólo, o frete é baratíssimo, o que não acontece com mais de 90% dos outros estados;\n3. A Bahia tem refinaria de petróleo própria;\n4. A Bahia tem inúmeros poços de petróleo, não necessitando vir petróleo de fora.\n*Continuem votando nesta facção criminosa chamada PT, Partido das Trevas....*😒😒😒😒😒😒\n\nhttps://g1.globo.com/ba/bahia/noticia/2022/10/07/gasolina-aumenta-mais-de-8percent-e-diesel-fica-ate-115percent-mais-caro-na-bahia.ghtml"
        ],
        [
         "30",
         "Apologia ao Crime!!!!! Onde o TSE ??!!!! Candidato a Presidente da República pode usar Boné de facção Criminosa em campanha política???!!!! Flagrante Delito para impedimento !!!!"
        ],
        [
         "31",
         "Apologia ao Crime!!!!! Onde o TSE ??!!!! Candidato a Presidente da República pode usar Boné de facção Criminosa em campanha política???!!!! Flagrante Delito para impedimento !!!!"
        ],
        [
         "32",
         "Kkkkk o povo é GADO mesmo..... achando que a facção iria deixar a investigação rolar solta ...vejam o caso da Damares....ela fez uma denuncia com mais de 800 provas e ela é quem é a criminosa ! O povo luta contra um sistema que é mais bem preparado,tem armas,e os instrumentos institucionais para coagir a massa"
        ],
        [
         "33",
         "Siugomes é como Olavo de Carvalho, falava,ou elegemos Bolsonaro, ou tudo acabo,simples assim, é uma facção criminosa, que falar do AP do Lula e o monte de coisas ruins que ele fez,não é nada,perto de tudo isto"
        ],
        [
         "34",
         "O MST ( Movimento sem Terra) volta com tudo depois da autorização de Lula para invasões e destruições à propriedades privadas. \nVideos começam a chegar de todas as partes do Brasil, o movimento é orquestrado por anarquistas que trabalham para o crime. O objetivo desta facção criminosa é destruir a estabilidade econômica do país, por isso começam pelo agro - para vocês terem uma idéia do que estamos falando De janeiro a setembro, o agronegócio brasileiro faturou quase US$ 122 bilhões com exportações. O montante é cerca de US$ 1,5 bilhão maior que a soma total das receitas com os embarques de 2021. \n\nO nosso país alimenta 1 BILHÃO de pessoas em todo o mundo, é o quarto país no ranking mundial em produção agrícola. O deep state quer o controle total dos alimentos e quando isso acontecer o plano será concluído - ou seja, milhões de pessoas morrerão de fome. Podemos observar que o MST é o braço ativo para que esse processo seja acelerado. \nPela falta de informação e conhecimento, muitos estão entregando a chave do nosso país nas mãos de bandidos, saqueadores.\n\nO pior ainda está por vir, infelizmente temos que falar abertamente à vocês de como as coisas realmente estão. A guerra neste plano está em andamento, a classe média será completamente abolida por esse regime, as pequenas e médias empresas serão destruídas, as grandes empresas só continuarão a faturar através de pactos de sangue com o regime,o agro será reduzido a nada. Tudo o que foi construído nesses últimos 4 anos será dizimado pela maior quadrilha jamais vista na história da humanidade."
        ],
        [
         "35",
         "O MST ( Movimento sem Terra) volta com tudo depois da autorização de Lula para invasões e destruições à propriedades privadas. \nVideos começam a chegar de todas as partes do Brasil, o movimento é orquestrado por anarquistas que trabalham para o crime. O objetivo desta facção criminosa é destruir a estabilidade econômica do país, por isso começam pelo agro - para vocês terem uma idéia do que estamos falando De janeiro a setembro, o agronegócio brasileiro faturou quase US$ 122 bilhões com exportações. O montante é cerca de US$ 1,5 bilhão maior que a soma total das receitas com os embarques de 2021. \n\nO nosso país alimenta 1 BILHÃO de pessoas em todo o mundo, é o quarto país no ranking mundial em produção agrícola. O deep state quer o controle total dos alimentos e quando isso acontecer o plano será concluído - ou seja, milhões de pessoas morrerão de fome. Podemos observar que o MST é o braço ativo para que esse processo seja acelerado. \nPela falta de informação e conhecimento, muitos estão entregando a chave do nosso país nas mãos de bandidos, saqueadores.\n\nO pior ainda está por vir, infelizmente temos que falar abertamente à vocês de como as coisas realmente estão. A guerra neste plano está em andamento, a classe média será completamente abolida por esse regime, as pequenas e médias empresas serão destruídas, as grandes empresas só continuarão a faturar através de pactos de sangue com o regime,o agro será reduzido a nada. Tudo o que foi construído nesses últimos 4 anos será dizimado pela maior quadrilha jamais vista na história da humanidade."
        ],
        [
         "36",
         "O MST ( Movimento sem Terra) volta com tudo depois da autorização de Lula para invasões e destruições à propriedades privadas. \nVideos começam a chegar de todas as partes do Brasil, o movimento é orquestrado por anarquistas que trabalham para o crime. O objetivo desta facção criminosa é destruir a estabilidade econômica do país, por isso começam pelo agro - para vocês terem uma idéia do que estamos falando De janeiro a setembro, o agronegócio brasileiro faturou quase US$ 122 bilhões com exportações. O montante é cerca de US$ 1,5 bilhão maior que a soma total das receitas com os embarques de 2021. \n\nO nosso país alimenta 1 BILHÃO de pessoas em todo o mundo, é o quarto país no ranking mundial em produção agrícola. O deep state quer o controle total dos alimentos e quando isso acontecer o plano será concluído - ou seja, milhões de pessoas morrerão de fome. Podemos observar que o MST é o braço ativo para que esse processo seja acelerado. \nPela falta de informação e conhecimento, muitos estão entregando a chave do nosso país nas mãos de bandidos, saqueadores.\n\nO pior ainda está por vir, infelizmente temos que falar abertamente à vocês de como as coisas realmente estão. A guerra neste plano está em andamento, a classe média será completamente abolida por esse regime, as pequenas e médias empresas serão destruídas, as grandes empresas só continuarão a faturar através de pactos de sangue com o regime,o agro será reduzido a nada. Tudo o que foi construído nesses últimos 4 anos será dizimado pela maior quadrilha jamais vista na história da humanidade."
        ],
        [
         "37",
         "CPX no Alemão é CV Comando Vermelho.\nDesigna o conjunto de morros e favelas dominados por essa facção criminosa.\n\nCDD é Cidade de Deus por ex.\nTambém é CV\n\nOutras favelas são comandas por outras facções por ex TCP (terceiro comando) ADA e outros"
        ],
        [
         "38",
         "Esperar o que dessa corja de TOGADOS bandidos????\nSão  esquerdistas sujos aliados da facção criminosa PT ..."
        ],
        [
         "39",
         "Nossa Bandeira jamais será vermelha... PT  não é partido político e facção criminosa COMUNISTA... BANDIDOS."
        ],
        [
         "40",
         "Foram oito bandidos, em quatro motos, armados de fuzis. Foi um atentado, não um tiroteio. Atiraram no carro do Tarcísio e no local onde ele estava. \n\nE a grande imprensa passando pano para facção criminosa !"
        ],
        [
         "41",
         "PT não é partido político e facção criminosa  ... BANDIDOS SUJOS E CANALHAS."
        ],
        [
         "42",
         "PT não é partido político e facção criminosa... BANDIDOS SUJOS E CANALHAS"
        ],
        [
         "43",
         "Gentalha ignorante e lixo... Esquerdistas sujos aliados da facção criminosa PT, MONTE de bandidos 💩💩"
        ],
        [
         "44",
         "Togados inúteis e BANDIDOS,  aliados da facção criminosa PT,  trabalhando contra a democracia."
        ],
        [
         "45",
         "Eita DESESPERO  da petralhada  desesperada BANDIDA... PT não é partido político e facção criminosa, com abstinência  do dinheiro público fácil."
        ],
        [
         "46",
         "Pra coroar a profunda noite totalitária no Brasil, entenda o que essa vaca está comemorando:\n\nA partir de amanhã, cada candidato teria 400 inserções na TV até o fim do período de propaganda eleitoral (próxima quinta-feira, 27/10/2022) . Com a decisão do TSE, 184 inserções de Bolsonaro passam para Lula. Num universo de 800 inserções somadas (400 de cada um), o bandido vaganbundo satânico mancomunado com traficantes assassinos, terá 584 inserções, sobrando 216 a Bolsonaro. Ou seja, 73% de todo o tempo de propaganda eleitoral será destinada  ao candidato do crime organizada e da maior facção criminosa vigente em nosso país (leia-se \"TSE\").\n\nSe você ainda normaliza isso como uma eleição e não como uma trapaça de vagabundos, você tá completamente anestesiado."
        ],
        [
         "47",
         "Todos os que estão juntos com a Facção criminosa Judicial será cobrada."
        ],
        [
         "48",
         "Projeto de Nações \"Brasil 2035\"...\nE muitos ainda preocupados com a facção criminosa exposta e desesperada! \nO final será glorioso!💣🧨⛓🔪🗡⚡️🔥💫💥\n\nt.me/direitologicoparatodos 🇧🇷💥"
        ],
        [
         "49",
         "O pinguço ladrão  SUJO, irá por toda a GANG dele para roubarem juntos.  PT não é partido político e facção criminosa ... BANDIDOS"
        ]
       ],
       "shape": {
        "columns": 1,
        "rows": 139
       }
      },
      "text/html": [
       "<div>\n",
       "<style scoped>\n",
       "    .dataframe tbody tr th:only-of-type {\n",
       "        vertical-align: middle;\n",
       "    }\n",
       "\n",
       "    .dataframe tbody tr th {\n",
       "        vertical-align: top;\n",
       "    }\n",
       "\n",
       "    .dataframe thead th {\n",
       "        text-align: right;\n",
       "    }\n",
       "</style>\n",
       "<table border=\"1\" class=\"dataframe\">\n",
       "  <thead>\n",
       "    <tr style=\"text-align: right;\">\n",
       "      <th></th>\n",
       "      <th>text_content_anonymous</th>\n",
       "    </tr>\n",
       "  </thead>\n",
       "  <tbody>\n",
       "    <tr>\n",
       "      <th>0</th>\n",
       "      <td>Pensem!!!!!!'Se Houve fraude  ,Nada foi feito ...</td>\n",
       "    </tr>\n",
       "    <tr>\n",
       "      <th>1</th>\n",
       "      <td>#lulaladrãoseulugarénaprisão \\n#PTFACÇÃOCRIMIN...</td>\n",
       "    </tr>\n",
       "    <tr>\n",
       "      <th>2</th>\n",
       "      <td>Se depois de ler esse resumo do Plano do PT, v...</td>\n",
       "    </tr>\n",
       "    <tr>\n",
       "      <th>3</th>\n",
       "      <td>Se depois de ler esse resumo do Plano do PT, v...</td>\n",
       "    </tr>\n",
       "    <tr>\n",
       "      <th>4</th>\n",
       "      <td>É  exatamente isso que a facção criminosa CHAM...</td>\n",
       "    </tr>\n",
       "    <tr>\n",
       "      <th>...</th>\n",
       "      <td>...</td>\n",
       "    </tr>\n",
       "    <tr>\n",
       "      <th>134</th>\n",
       "      <td>😣🤯🤐 Alexandre de Moraes (Secretário-Geral do P...</td>\n",
       "    </tr>\n",
       "    <tr>\n",
       "      <th>135</th>\n",
       "      <td>😣🤯🤐 Alexandre de Moraes (Secretário-Geral do P...</td>\n",
       "    </tr>\n",
       "    <tr>\n",
       "      <th>136</th>\n",
       "      <td>😣🤯🤐 Alexandre de Moraes (Secretário-Geral do P...</td>\n",
       "    </tr>\n",
       "    <tr>\n",
       "      <th>137</th>\n",
       "      <td>Agressões covardes é termos uma facção crimino...</td>\n",
       "    </tr>\n",
       "    <tr>\n",
       "      <th>138</th>\n",
       "      <td>Justiça solta advogadas do PCC acusadas de par...</td>\n",
       "    </tr>\n",
       "  </tbody>\n",
       "</table>\n",
       "<p>139 rows × 1 columns</p>\n",
       "</div>"
      ],
      "text/plain": [
       "                                text_content_anonymous\n",
       "0    Pensem!!!!!!'Se Houve fraude  ,Nada foi feito ...\n",
       "1    #lulaladrãoseulugarénaprisão \\n#PTFACÇÃOCRIMIN...\n",
       "2    Se depois de ler esse resumo do Plano do PT, v...\n",
       "3    Se depois de ler esse resumo do Plano do PT, v...\n",
       "4    É  exatamente isso que a facção criminosa CHAM...\n",
       "..                                                 ...\n",
       "134  😣🤯🤐 Alexandre de Moraes (Secretário-Geral do P...\n",
       "135  😣🤯🤐 Alexandre de Moraes (Secretário-Geral do P...\n",
       "136  😣🤯🤐 Alexandre de Moraes (Secretário-Geral do P...\n",
       "137  Agressões covardes é termos uma facção crimino...\n",
       "138  Justiça solta advogadas do PCC acusadas de par...\n",
       "\n",
       "[139 rows x 1 columns]"
      ]
     },
     "metadata": {},
     "output_type": "display_data"
    }
   ],
   "source": [
    "filtragem_por_palavra1 = conn.execute(\"\"\"\n",
    "    SELECT\n",
    "    text_content_anonymous\n",
    "    FROM tabela_dados\n",
    "    WHERE text_content_anonymous IS NOT NULL\n",
    "    AND LOWER(text_content_anonymous) LIKE '%facção%'\n",
    "    AND LOWER(text_content_anonymous) LIKE '%criminosa%';\n",
    "\"\"\").fetchdf()\n",
    "\n",
    "display(filtragem_por_palavra1)"
   ]
  },
  {
   "cell_type": "markdown",
   "id": "68a35694",
   "metadata": {},
   "source": [
    "---"
   ]
  },
  {
   "cell_type": "markdown",
   "id": "16f4e0aa",
   "metadata": {},
   "source": [
    "#### **30**. As mensagens que possuem a palavra “SEGURANÇA”"
   ]
  },
  {
   "cell_type": "markdown",
   "id": "4d449a80",
   "metadata": {},
   "source": [
    "Filtrei as mensagens que contêm a palavra \"SEGURANÇA\", independentemente de maiúsculas ou minúsculas, utilizando o operador `LIKE` para localizar a palavra no conteúdo das mensagens."
   ]
  },
  {
   "cell_type": "code",
   "execution_count": 45,
   "id": "e89e66ab",
   "metadata": {},
   "outputs": [
    {
     "data": {
      "application/vnd.microsoft.datawrangler.viewer.v0+json": {
       "columns": [
        {
         "name": "index",
         "rawType": "int64",
         "type": "integer"
        },
        {
         "name": "text_content_anonymous",
         "rawType": "object",
         "type": "string"
        }
       ],
       "conversionMethod": "pd.DataFrame",
       "ref": "c0400bf9-cafd-43eb-8628-5f1b8b928aa1",
       "rows": [
        [
         "0",
         "🌳 Mato Grosso intensifica ações contra crimes ambientais; este ano, o Estado aplicou R$ 287 milhões em multas decorrentes do uso irregular do fogo; Secretaria de Segurança diz que, com o início da operação, o rigor tende a ser maior\n.\n🕳️ Duas toneladas de óleo são retiradas de praias em Pernambuco; pedaços sólidos de óleo que se assemelham a petróleo cru foram encontrados inicialmente por um pescador na cidade de Tamandaré\n\n👥 Serviço de Atendimento ao Consumidor tem nova regulamentação; de acordo com as novas regras, o consumidor poderá pedir o cancelamento de um serviço em qualquer canal disponibilizado pela empresa para contratação, inclusive pelas redes sociais\n\n🏦 Banco Mundial aumenta para 2,5% previsão do PIB brasileiro este ano; as estimativas estão mais em linha com as previsões do governo; em setembro, a Secretaria de Política Econômica elevou de 2% para 2,7% a projeção de crescimento do PIB este ano\n\n🏦 Caixa estuda juro abaixo de 3,5% para consignado do Auxílio Brasil; segundo a presidente da Caixa, Daniella Marques, está sendo preparada uma ação para conscientizar beneficiários do Auxílio Brasil sobre o risco de contrair empréstimos\n\n💲Emissões de títulos no Brasil equivalem a 135% do PIB; segundo o Banco Central, o volume de títulos emitidos é muito expressivo e, apesar das crescentes emissões de papéis privados, são preponderantes as de títulos públicos\n\n💲🚘 Venda de veículos tem alta de 19,33% em setembro, diz Fenabrave; dados da Federação Nacional da Distribuição de Veículos Automotores levam em conta automóveis e comerciais leves, caminhões, ônibus, motocicletas e implementos rodoviários\n\n💲Setor de serviços na cidade de SP cresce 11,1% no primeiro semestre; segundo a Fecomercio, a alta foi puxada por um crescimento de 150,5% no faturamento do setor de turismo, com a volta dos eventos de negócios, como feiras e convenções\n\n💵 Dólar tem leve queda e fecha a R$ 5,16; o Ibovespa, índice da B3, fechou aos 116.230 pontos, com alta de 0,08%; de manhã, o índice chegou a subir 1,81%, mas desacelerou em um movimento de realização de lucros\n\nEsportes\n\nCampeonato Brasileiro\nSérie A, 30ª rodada:\nJuventude 2x2 Corinthians \n\nSérie B, 33ª rodada:\nCRB 2x1 Chapecoense\nBrusque 0x1 Sport Recife\nOperário-PR 2x3 Vasco\nGrêmio 2x0 CSA\nVila Nova-GO 1x0 Criciúma\nNáutico 4x3 Tombense\nNovorizontino 1x1 Bahia\n\n🇧🇷🏐 Em clima de revanche, Brasil vence Itália no Mundial de Vôlei Feminino; após perderem o título da Liga das Nações para as italianas em julho, brasileiras derrotaram as rivais por 3 sets a 2 na segunda rodada; próximo jogo é contra Porto Rico, às 11h desta quarta-feira (5)\n\n🏓 Time masculino do Brasil avança às oitavas do Mundial de tênis de mesa; o trio Hugo Calderano, Vitor Ishiy e Eric Jouti bateu a Eslováquia e disputa as oitavas nesta quarta-feira (5) contra o Japão; já a equipe feminina se despediu do Mundial após perder por 3 a 2 para a França\n\n🌍📰 Notícias Internacionais:\n\n🇺🇸🇺🇦 EUA fornecerão à Ucrânia mais lançadores de foguetes; comunicado foi feito pela Casa Branca e informa que Joe Biden prometeu \"continuar apoiando a Ucrânia enquanto se defende da agressão russa\"\n\n🇷🇺🇺🇦 Rússia segue com plano de anexação apesar de recuos na Ucrânia; câmara alta do Parlamento russo aprovou nesta terça-feira (4) a incorporação de quatro regiões que, juntas, representam cerca de 18% da Ucrânia\n\n🇷🇺 Rússia diz que mais de 200 mil foram recrutados em mobilização parcial; Ministro da Defesa russo, Sergei Shoigu, afirmou que o país pretende recrutar 300 mil militares como parte da iniciativa anunciada há duas semanas\n\n🇰🇵🇯🇵 Coreia do Norte dispara míssil sobre o Japão; moradores são alertados; primeiro-ministro japonês, Fumio Kishida, chamou as ações da Coreia do Norte de \"bárbaras\" e afirmou que o governo continuará a coletar informações\n\n🇺🇳 Chefe da ONU critica Coreia do Norte por lançamento de míssil; exercício militar de Pyongyang fez com que sirenes contra bombardeios fossem acionadas no norte do Japão"
        ],
        [
         "1",
         "⚡️🇧🇷 Actus Liberandi - Ordem De Cristo 🇧🇷\n\n✨🛡 Sejam Bem Vindos🛡\n\n⚖️ Somos a Sociedade Civil Organizada \n⚖️  Patriotas em Unidade, em Cooperação mútua, pelo Resgate dos Valores Legais da Nação Brasileira! \n\n⚖️ Somos todos investigadores e Peritos de diversos ramos da ciência da Segurança Pública, trabalhando pela Nação de forma voluntária, não somos remunerados por nenhuma instituição governamental ou particular, sobrevivemos pela ajuda de nossos membros... \n\n⚖️ Esse Grupo apoia e trabalhou fortemente para eleger o presidente do Brasil Jair Messias Bolsonaro. \n\n ⚖️ Siga as regras do grupo e não terá problemas com os administradores. \n\n ⚖️ Nosso Grupo é de Direito Privado, pertence a uma Instituição Real devidamente constituída na ação em Prol da Liberdade do Povo Brasileiro. \n\n⚖️ Combatemos diretamente o Foro de São Paulo. Os Traíras não passarão. Aquele que Teme as ações e difama a Ordem Dourada do Brasil revela-se incontestavelmente a nós um braço do crime politico organizado e institucionalizado no Brasil - Tenha certeza que iremos combate-lo severamente. ⚖️ \n\n⚖️  Somos Cristãos em unidade não temos rabo preso com o diabo, mas pelo contrário nossa espada de fogo sempre estará pronta para o combate contra essa legião de bestas e homúnculos inumanos, hoje, amanhã e sempre.\n\n⚖️  Somos A Reserva Pro-Ativa Sempre do Lado do Povo. Força e Honra \n(Nando Patriota - Presidente da ODB).\n\n\n⚖️  Pelo Resgate da Inteligência!\n\n⚖️  Honra - Justiça - Liberdade\n\n🕵🏻  Si vis Pacem, para bellum 👮🏻‍♂️\n\n\n   🕵🏼‍♂️ 🛡Força e Honra 🛡\n\n\nFraternalmente,\nMembros e Peritos da Actus Liberandi"
        ],
        [
         "2",
         "⚡️🇧🇷 Actus Liberandi - Ordem De Cristo 🇧🇷\n\n✨🛡 Sejam Bem Vindos🛡\n\n⚖️ Somos a Sociedade Civil Organizada \n⚖️  Patriotas em Unidade, em Cooperação mútua, pelo Resgate dos Valores Legais da Nação Brasileira! \n\n⚖️ Somos todos investigadores e Peritos de diversos ramos da ciência da Segurança Pública, trabalhando pela Nação de forma voluntária, não somos remunerados por nenhuma instituição governamental ou particular, sobrevivemos pela ajuda de nossos membros... \n\n⚖️ Esse Grupo apoia e trabalhou fortemente para eleger o presidente do Brasil Jair Messias Bolsonaro. \n\n ⚖️ Siga as regras do grupo e não terá problemas com os administradores. \n\n ⚖️ Nosso Grupo é de Direito Privado, pertence a uma Instituição Real devidamente constituída na ação em Prol da Liberdade do Povo Brasileiro. \n\n⚖️ Combatemos diretamente o Foro de São Paulo. Os Traíras não passarão. Aquele que Teme as ações e difama a Ordem Dourada do Brasil revela-se incontestavelmente a nós um braço do crime politico organizado e institucionalizado no Brasil - Tenha certeza que iremos combate-lo severamente. ⚖️ \n\n⚖️  Somos Cristãos em unidade não temos rabo preso com o diabo, mas pelo contrário nossa espada de fogo sempre estará pronta para o combate contra essa legião de bestas e homúnculos inumanos, hoje, amanhã e sempre.\n\n⚖️  Somos A Reserva Pro-Ativa Sempre do Lado do Povo. Força e Honra \n(Nando Patriota - Presidente da ODB).\n\n\n⚖️  Pelo Resgate da Inteligência!\n\n⚖️  Honra - Justiça - Liberdade\n\n🕵🏻  Si vis Pacem, para bellum 👮🏻‍♂️\n\n\n   🕵🏼‍♂️ 🛡Força e Honra 🛡\n\n\nFraternalmente,\nMembros e Peritos da Actus Liberandi"
        ],
        [
         "3",
         "No Telegram entrem em Configurações > Privacidade e Segurança > Grupos e Canais > Quem pode me adicionar em grupos? » SELECIONE MEUS CONTATOS"
        ],
        [
         "4",
         "No Telegram entrem em Configurações > Privacidade e Segurança > Grupos e Canais > Quem pode me adicionar em grupos? » SELECIONE MEUS CONTATOS"
        ],
        [
         "5",
         "🟡 Brasil no Radar\n\n▶️ O governo anunciou ontem a inclusão de 500 mil famílias no programa de transferência de renda e novos beneficiários serão contemplados antes do dia 30, data do segundo turno da eleição\n\n▶️ A promessa do presidente não tem espaço no Orçamento de 2023 enviado ao Congresso, que prevê o pagamento médio de R$ 405. Segundo o Ministério da Economia, o custo extra para a manutenção dos R$ 600 seria de R$ 52 bilhões\n\n▶️ Também foram prorrogadas as desonerações sobre combustíveis – grande aposta de Bolsonaro na campanha. A prorrogação da redução do Pis/Cofins e da Cide sobre gasolina, gás natural e etanol custará R$ 34,3 bilhões.\n\n▶️ O ex-presidente Lula, candidato do PT, prepara a apresentação de nova regra fiscal em substituição ao teto de gastos públicos. De acordo com aliados, Lula ensaia a divulgação desse programa ainda neste mês, em aceno ao mercado financeiro, que tem criticado a ausência de propostas concretas sobre uma nova âncora fiscal.\n\n▶️ O PSDB e o ex-governador paulista João Doria optaram pela neutralidade, mas o senador José Serra (PSDB-SP) decidiu se alinhar à candidatura petista.\n\n▶️ O ministro da Justiça e Segurança Pública, Anderson Torres, afirmou que encaminhou à Polícia Federal pedido para abrir inquérito sobre os institutos de pesquisas eleitorais\n\nFonte: ActiveTrades\n\n🔸 t.me/alexeconomia"
        ],
        [
         "6",
         "Eu rasurei meu comprovante quando enviei aqui pois não quero passar meus dados por questão de segurança."
        ],
        [
         "7",
         "Isso é roubo eleitoral cadê a segurança nacional que não faz nada tá na cara"
        ],
        [
         "8",
         "O Pai bem velho e ingênuo, dono de um mercadinho humilde fala para seu filho, \n- Não precisamos reforçar a segurança, só invadiram uma vez todos esses anos, sei que levaram tudo, mas vamos conquistar tudo novamente.\nNa semana seguinte, após repor as mercadorias, os bandidos entraram pela mesma porta desguarnecida, e levaram tudo novamente.\nMoral da história, se você quer permanecer ingênuo e parado no tempo, o problema é seu. \nOs vagabundos não irão deixar de ser bandidos só porque você \"confia\" nisso.\n\nOu vamos à luta, ou irão levar tudo que conquistamos, é assim que o comunismo aje."
        ],
        [
         "9",
         "Você deve ser cético sobre a suposta completa segurança das urnas eletrônicas."
        ],
        [
         "10",
         "Mais de 4,6 mil militares contribuem para a segurança das eleições no Pará, Maranhão e Amapá\nhttp://www.eb.mil.br/web/noticias/noticiario-do-exercito/-/asset_publisher/znUQcGfQ6N3x/content/id/16239738"
        ],
        [
         "11",
         "Mostre aos seus amigos a empresa certa para investir e lucrar com segurança todos os dias sem estressar os parabéns."
        ],
        [
         "12",
         "Forte aparato de segurança aqui na nossa igreja pra chegada do nosso Reeleito presidente \nem nome Jesus"
        ],
        [
         "13",
         "Boa tarde. Alguém sabe informar se vai ter segurança no dia das eleições pelo EXÉRCITO nas favelas?"
        ],
        [
         "14",
         "“China está operando delegacias extrajudiciais no Canadá”\n\n “O governo chinês instalou “estações de serviço” policiais não oficiais conectadas ao Departamento de Segurança Pública de Fuzhou (PSB) em todo o Canadá.”\n\n “Isso deixa os residentes chineses legais no exterior totalmente expostos a ataques extralegais da polícia chinesa, com pouca ou nenhuma proteção teoricamente garantida pela lei nacional e internacional”.\n\n Essa também é apenas mais uma maneira pela qual o PCC controla ex-cidadãos chineses no exterior, como fazem com o CSSA\n\n https://tnc.news/2022/09/22/china-police-stations/\n\n[USER]"
        ],
        [
         "15",
         "Boa tarde. Alguém sabe informar se vai ter segurança no dia das eleições pelo EXÉRCITO nas favelas?"
        ],
        [
         "16",
         "🇪🇺🕊️🇮🇱 URGENTE!!! Israel e a UE renovam o diálogo diplomático após uma pausa de uma década.\nIsrael e a União Europeia realizaram sua primeira reunião de diálogo diplomático-estratégico em mais de 10 anos na segunda-feira.\n\nA reunião contou com a presença do Alto Representante da UE para os Negócios Estrangeiros e Política de Segurança, Josep Borrell, e ministros dos Negócios Estrangeiros de outros países. Entre os presentes estavam o Ministro da Defesa cipriota e o Ministro irlandês dos Assuntos Europeus.\n\nBorrell disse: “Vamos lidar com um tema de especial importância para nós, que é o processo de paz no Oriente Médio. Primeiro-ministro, estamos muito encorajados pelo claro apoio à solução de dois Estados que você declarou em seu discurso na Assembleia Geral das Nações Unidas.\" MARANATA.\n\nIncreva se no Canal👇\n🟢 t.me/fimtaproximo"
        ],
        [
         "17",
         "A verdade é que nós deveríamos se unir por uma única causa que seria derrubar a NOM desse País e não mais ser escravo de suas diretrizes,para enfim ser um país livre,onde lutariamos por dignidade, saúde, educação, segurança, oportunidade de trabalho a massa mais afetada pelo desemprego e assim por diante."
        ],
        [
         "18",
         "Os lockdowns, focinheiras obrigatórias, distanciamento anti-social e outras medidas não fizeram nada para proteger ou melhorar a saúde pública - eles nunca foram projetados para isso. Todos eles foram projetados para quebrar deliberadamente a economia global (e esmagar a concorrência, especialmente as pequenas empresas), bem como quebrar a mente, a vontade e o tecido social das pessoas, a fim de “reconstruir melhor”, de acordo com as visões diabólicas e distópicas dos psicopatas travando essa guerra de classes, que é essencialmente uma utopia bilionária, na qual eles são donos do planeta como um feudo tecno-feudal e supervisionam a população drasticamente reduzida da humanidade digitalmente marcada como gado em uma tecnocracia supervigilante.\n\nEstamos no meio de um colapso econômico total planejado. Este colapso econômico foi inevitável, os governos ocidentais estão colocando a infraestrutura de segurança no lugar, tentando controlar proativamente a inevitável desordem social que resultará desse colapso. A seguir-se uma redefinição financeira global, após um período de hiperinflação, que destrói tanto o valor da dívida como os correspondentes créditos em papel.\n\nNão há agora nem nunca houve um evento de emergência epidemiológica ou viral de qualquer tipo em qualquer lugar do mundo no ano de 2020. A percepção fabricada de que houve tal evento é um artefato de manipulação de mídia de massa, técnicas de condicionamento comportamental e engenharia social. Tudo isso foi possível por meio da programação institucional e das mensagens aceleradas da mídia, que desautorizam os processos cognitivos básicos e eliminam as possibilidades de pensamento crítico.\n\nO colapso começou em 2008 e as tentativas de salvar esse sistema econômico corrupto, só atrasando o inevitável. No outono de 2019, a crise começou a se desenrolar rapidamente novamente.\n\nHouve uma queda dramática na produção industrial que apareceu na crise bancária de agosto de 2019 - a chamada crise Repo, quando de repente os bancos começaram a recusar instrumentos de dívida soberana dos EUA como garantia de empréstimos noturnos, forçando o Federal Reserve a intervir e basicamente imprimir dinheiro para cobrir esta enorme escassez.\n\nO mercado Repo é onde os bancos emprestam dinheiro todos os dias para que tenham 10% de ativos líquidos no final de cada dia. Se eles não tiverem 10% de ativos líquidos, não poderão abrir no dia seguinte. Por volta de meados de setembro, o Fed começou a injetar US$ 20 bilhões por dia no mercado de recompras para manter as taxas de juros baixas para que os bancos pudessem emprestar o dinheiro para permanecer no negócio. No final de dezembro, o Fed estava injetando mais de US$ 100 bilhões por dia no mercado de recompra e não era suficiente.\n\nSimplesmente todos em Wall Street estavam carregados de dívidas enormes e estavam segurando dinheiro dos EUA para poder atendê-lo, recusando-se a financiar compras de moedas estrangeiras e depois moeda dos EUA, pois o mercado de recompra congelou com juros de 10% sobre empréstimos de recompra noturnos como títulos do tesouro dos EUA e até mesmo notas dos EUA foram rejeitadas como garantia para Repos.\n\nO que aconteceu em março de 2020 foi apenas a propagação da crise de liquidez dos mercados de revendedores primários (bancos TBTF e fundos de hedge foram resgatados em setembro) para todas as outras ações, commodities, títulos CLOs, MBS etc., bem como esquemas Ponzi chamados hoje Fundos ETF, para não mencionar produtos derivativos estruturados negociados em plataformas proprietárias que representam nominalmente até vários milhares de $$$ trilhões.\n\nQuando os títulos do Tesouro dos EUA e até o USTB se tornaram ilíquidos devido ao crescimento exponencial da dívida pública (mas principalmente privada) em dólar, enquanto o FED estava sugando dinheiro dos mercados financeiros ao moderar o Quantitative Easing (chamado QT) entre 2017 e 2019, reduziu o balanço do FED de mais de $5T a $3,9T com a venda de ativos, o inferno começou. Algo drástico tinha que ser feito."
        ],
        [
         "19",
         "🇨🇴🇧🇷 — Criminosos colombianos exportam práticas de empréstimo de dinheiro para grupos de narcotráfico brasileiros.\n\nA prisão de cinco colombianos pela Polícia Civil do Rio de Janeiro neste verão por agiotagem – empréstimos ilegais a taxas de juros exorbitantes – usando dinheiro do narcotráfico chamou a atenção do setor de segurança do Brasil, porque os relatos dessa prática por narcotraficantes eram inéditos, disse a polícia.\n\n“Esse tipo de atividade foi relatada pela primeira vez no país. Se existia antes, não era importante o suficiente para ser notado”, Thiago Moreira de Souza Rodrigues, do Programa de Pós-Graduação em Estudos Estratégicos de Defesa e Segurança da Universidade Federal Fluminense."
        ],
        [
         "20",
         "Amigos estamos na missão de re-eleger o presidente Jair Bolsonaro.  \n\nO país, a segurança do povo brasileiro, nossas liberdades e instituições que as protegem, nossos símbolos, tradições, língua, história e futura geração está em risco. Sem exagero. \n\nO comunismo destrói tudo, incluso nossa alma. \n\nHá alguns segmentos do eleitorado que desejam isso para nosso país.  Não precisamos perder tempo em convencer esses segmentos pois estão perdidos além de qualquer reparo. \n\nMas há outros segmentos que não sabem ou rejeitam os males que virão com comunistas no comando. Esses são os que temos que convencer.  \n\nPara esses grupos o presidente Jair Bolsonaro não é o ideal. Ou não querem se envolver em polêmicas de cunho político.  Mas o momento pede foco na mensagem e não na identidade do mensageiro.\n\nO front de confronto dos dias de hoje é a política. Como é o caso com todos que optam em ficar alheios a um conflito universal, eles serão usados e se sofrerão danos colaterais. \n\nQuem estiver sintonizado com a política saberá qual alternativa representa o lado da vida e da liberdade.\n\nComente!"
        ],
        [
         "21",
         "Muitas evidências de fraudes foi colhida por muitos que atuam na mesma área de segurança cybernetica como eu ,e uma hora isso vai ser exposto queira o sistema ou não,mais a vdd será exposta."
        ],
        [
         "22",
         "Art. 287-A - Divulgar notícia que sabe ser falsa e que possa distorcer, alterar ou corromper a verdade sobre informações relacionadas à saúde, à segurança pública, à economia nacional, ao processo eleitoral ou que afetem interesse público relevante.\nPena – detenção, de seis meses a dois anos, e multa, se o fato não constitui crime mais grave.\n§ 1º Se o agente pratica a conduta prevista no caput valendo-se da internet ou de outro meio que facilite a divulgação da notícia falsa:\nPena – reclusão, de um a três anos, e multa, se o fato não constitui crime mais grave.\n\n\nO PRÓXIMO SERÁ OS DEMAIS AQUI DO GRUPO PODEM PUBLICAR"
        ],
        [
         "23",
         "Renato , Ve Com Dep. Carla Zambelli essa filmagem das Urnas em Itapevi - SP . Urnas sem nenhuma segurança !!!😳😳😳😳😳😳"
        ],
        [
         "24",
         "Espalhe!! Divulgue!! EXIJA!!\nNão entre nesse jogo de composição do Congresso e Governadores que apoiam Bolsonaro. EXIJA A LEGALIDADE DO PROCESSO ELEITORAL, NOSSA ÚNICA SEGURANÇA!"
        ],
        [
         "25",
         "Trump Congratula Bolsonaro \npelo 2⁰ TURNO!\n 'Superando as pesquisas falsas'.\n\nTrump Congratula Bolsonaro, do Brasil, por forçar a ida ao 2⁰ turno contra o esquerdista: 'Superando as sondagens falsas'.\n\nNa segunda-feira, o quadragésimo quinto presidente Donald Trump parabenizou o presidente brasileiro \"Trump of the Tropics\", Jair Bolsonaro, por \"superar as sondagens falsas\" e forçar um segundo turno contra o ex-presidente, de extrema-esquerda, Luiz Inácio Lula da Silva.\n\n\"Parabéns ao Presidente do Brasil, Jair Bolsonaro, por ter 'superado' as pesquisas falsas das Fake News Media e ter entrado em um segundo turno de duas pessoas, a ser realizado no dia 30 de outubro, com um desafiador de esquerda radical\", escreveu Trump em um post na Truth Social.\n\n\"Agora que outros conservadores estão fora da corrida, o Presidente Bolsonaro está em uma posição muito forte para vencer. \nMais importante ainda, ele será vitorioso porque o maravilhoso povo do Brasil aprecia o grande trabalho que ele tem feito e está fazendo. \nTremenda Surpresa Eleitoral nas últimas 24 horas\", acrescentou Trump.\n\nCom 99,87% dos votos contabilizados, Lula recebeu 48,4% e Bolsonaro recebeu 43,23%. \nNenhum dos candidatos recebeu 50 por cento necessários para ser eleito presidente no primeiro turno.\n\nOs dois candidatos se enfrentarão novamente em um segundo turno eleitoral em 30 de outubro. \n\nTrump, que endossou Bolsonaro, continuou: \n\"Tão feliz por ter ajudado um grande líder a concorrer para Presidente do Brasil\".\n\n\"Os eleitores tomaram uma grande decisão ao dar um apoio tão forte ao brilhante e muito trabalhador atual Presidente, Jair Bolsonaro\". \n\nAgora, para o bem do Brasil e de sua futura grandeza, eles têm que colocar Jair na linha de chegada, contra um socialista de esquerda radical, no dia 30 de outubro. Go Bolsonaro!!!\". Trump acrescentou.\n\n\"Nosso sistema não é 100 por cento revestido de segurança. Há sempre a possibilidade de algo anormal acontecer em um sistema totalmente informatizado\", disse Bolsonaro.\n\nEm reação aos resultados das eleições, Bolsonaro reposicionou um vídeo de si mesmo no Twitter dançando sem camisa.\n\n[USER]🇧🇷B🇷🇺R🇮🇳I🇨🇳C🇿🇦S"
        ],
        [
         "26",
         "Trump Congratula Bolsonaro \npelo 2⁰ TURNO!\n 'Superando as pesquisas falsas'.\n\nTrump Congratula Bolsonaro, do Brasil, por forçar a ida ao 2⁰ turno contra o esquerdista: 'Superando as sondagens falsas'.\n\nNa segunda-feira, o quadragésimo quinto presidente Donald Trump parabenizou o presidente brasileiro \"Trump of the Tropics\", Jair Bolsonaro, por \"superar as sondagens falsas\" e forçar um segundo turno contra o ex-presidente, de extrema-esquerda, Luiz Inácio Lula da Silva.\n\n\"Parabéns ao Presidente do Brasil, Jair Bolsonaro, por ter 'superado' as pesquisas falsas das Fake News Media e ter entrado em um segundo turno de duas pessoas, a ser realizado no dia 30 de outubro, com um desafiador de esquerda radical\", escreveu Trump em um post na Truth Social.\n\n\"Agora que outros conservadores estão fora da corrida, o Presidente Bolsonaro está em uma posição muito forte para vencer. \nMais importante ainda, ele será vitorioso porque o maravilhoso povo do Brasil aprecia o grande trabalho que ele tem feito e está fazendo. \nTremenda Surpresa Eleitoral nas últimas 24 horas\", acrescentou Trump.\n\nCom 99,87% dos votos contabilizados, Lula recebeu 48,4% e Bolsonaro recebeu 43,23%. \nNenhum dos candidatos recebeu 50 por cento necessários para ser eleito presidente no primeiro turno.\n\nOs dois candidatos se enfrentarão novamente em um segundo turno eleitoral em 30 de outubro. \n\nTrump, que endossou Bolsonaro, continuou: \n\"Tão feliz por ter ajudado um grande líder a concorrer para Presidente do Brasil\".\n\n\"Os eleitores tomaram uma grande decisão ao dar um apoio tão forte ao brilhante e muito trabalhador atual Presidente, Jair Bolsonaro\". \n\nAgora, para o bem do Brasil e de sua futura grandeza, eles têm que colocar Jair na linha de chegada, contra um socialista de esquerda radical, no dia 30 de outubro. Go Bolsonaro!!!\". Trump acrescentou.\n\n\"Nosso sistema não é 100 por cento revestido de segurança. Há sempre a possibilidade de algo anormal acontecer em um sistema totalmente informatizado\", disse Bolsonaro.\n\nEm reação aos resultados das eleições, Bolsonaro reposicionou um vídeo de si mesmo no Twitter dançando sem camisa.\n\n[USER]🇧🇷B🇷🇺R🇮🇳I🇨🇳C🇿🇦S"
        ],
        [
         "27",
         "ATENÇÃO A TODAS E SOMENTE MULHERES DESTE GRUPO\n\nPOR SABER QUE VCS SÃO A MAIORIA EM TODO MUNDO E SABER DO PODER QUE SE FAZ MANIFESTO DENTRO DE SEUS ❤️ S TOMEI A DECISÃO E A LIBERDADE DE CRIAR UM GRUPO PARA VCS DIALOGAREM E INTERAGIR ENTRE VCS\n\nPORÉM POR MOTIVOS DE MÁXIMA SEGURANÇA SOMENTE EU ESTAREI ADICIONANDO NOVOS MEMBROS NESTE GRUPO\n\nQUEM TIVER INTERESSE EM FAZER PARTE DO GRUPO ME CHAMA NO PV\n\nno mas agradeço pela atenção de todos."
        ],
        [
         "28",
         "Espalhe!! Divulgue!! EXIJA!!\nNão entre nesse jogo de composição do Congresso e Governadores que apoiam Bolsonaro. EXIJA A LEGALIDADE DO PROCESSO ELEITORAL, NOSSA ÚNICA SEGURANÇA!"
        ],
        [
         "29",
         "Bolsonaro ou Lula?\nO que cada qual já fez e propõe para a *SEGURANÇA PÚBLICA*:\n\nO presidente Bolsonaro conseguiu reduzir bastante a criminalidade, porque deu direito de defesa ao cidadão de bem e porque não tratou bandido como vítima da sociedade. Temos agora a menor taxa de assassinatos dos últimos dez anos (cerca de 40 mil) e com tendência de diminuir ainda mais, caso Bolsonaro seja reeleito, pois ele propõe fortalecer a ação policial e endurecer as penas para os criminosos.\n\nE Lula? A violência explodiu no tempo do PT, com recordes de assassinatos anos após anos, culminando em mais de 61 mil assassinatos. De fato, caso o PT continuasse no governo e mantivesse a trajetória de subida anual de mortes violentas, já estaríamos tendo cerca de 90 mil assassinatos por anos! Lula diligenciou a soltura dos sequestradores de Abílio Diniz e propõe o desencarceramento dos bandidos, defende que ladrão de celular não deve ser preso, possui diálogos cabulosos com o PCC. Sua agenda de governo nesta matéria sinaliza claramente para o aumento expressivo da violência urbana e também rural, com as invasões de terras.\n\nDevemos ponderar com cuidado questões como esta na hora de dar o voto. Não é o momento de agir ou votar por paixão, baseado na emotividade, na mera opinião, no gosto pessoal, nas propagandas e pesquisas interessadas em manipular o imaginário público. Estamos em um momento crucial da história do nosso país e devemos votar com base na razão, nos resultados práticos, nas propostas realmente viáveis para o progresso do Brasil.\n\nExiste o caminho da direita, que comprovadamente já funcionou em diversos países: o caminho da verdade, da honestidade e do trabalho duro, progressivo e acumulativo.\nE existe o caminho da esquerda, que comprovadamente nunca funcionou em nem um país do mundo: o caminho da mentira, da desonestidade, da manipulação emocional e da degeneração moral e intelectual.\nA escolha é sua. Daqui a 20 anos seus filhos ou netos colherão os gostos ou os desgostos da escolha que você fizer agora."
        ],
        [
         "30",
         "📰 Além do Fato - A notícia completa!\n\n\nDelegado Paulo Bilynskyj, Delegado Da Cunha, Cabo Gilberto Silva e Delegado Palumbo, reforçarão bancada da Segurança Pública na Câmara Federal\n\n\nQuantidade de agentes da Segurança Pública eleitos para Deputado Federal, saltou de 25, em 2018, para 37 nas eleições 2022.\n\n\nLeia mais: https://alemdofato.com/noticia/6734/delegado-paulo-bilynskyj-delegado-da-cunha-cabo-gilberto-silva-e-delegado-palumbo-reforcarao-bancada.amp"
        ],
        [
         "31",
         "Coreia do Norte dentro de uma hora\nlançou dois mísseis balísticos em direção ao mar,\nenquanto o Conselho de Segurança da ONU se reunia\nem Nova York sobre o recente lançamento de foguete\nsobre o Japão pela primeira vez em cinco anos"
        ],
        [
         "32",
         "Bitcoin hoje é usado principalmente como reserva de valor.  É por isso que as pessoas costumam se referir a ele como \"ouro digital\".\n\n   O ouro tem físico-químicas e funcionalidade que o mundo tem características únicas para pessoas em todo o mundo.  Também é um ativo raro com oferta limitada, o que ainda aumenta mais o preço.  Esses dois fatores se combinam para o torneio uma boa reserva de valor.\n\n   O bitcoin pode não compartilhar como características físicas do ouro, mas tem propriedades e funcionalidades digitais que são igualmente solicitadas.  Além disso, como o ouro, o Bitcoin também tem uma oferta limitada.\n\n   Na verdade, é indiscutivelmente uma reserva de valor ainda melhor do que o ouro.  É mais fácil de ser adulterado com segurança, pode ser transportado ao redor do mundo em minutos, com o tempo e não degradado.\n 📥📥\n 👉👉\n [USER]\n\n   Pronto para mergulhar mais fundo?  Complete o seu perfil para começar."
        ],
        [
         "33",
         "Ele pode até gostar de fazer comício e passeatas ,mas para 20O pessoas? Ou rodeado de segurança para não apanhar 😂😂😂"
        ],
        [
         "34",
         "*VIDEO: FUNCIONARIO DA ONU ADMITE QUE ELES CONTROLAM A FERRAMENTA DE BUSCAS DO GOOGLE PARA EMPURRAR A PROPAGANDA DA FARSA DA MUDANCA CLIMATICA COMO ELES FAZEM SOBRE A FALSA SEGURANÇA DAS URNAS ELETRONICAS/ELEIÇÕES SEM FRAUDE,DA FALSA GUERRA DA UCRANIA,DA SEGURANCA DA VAXINA COVID-FARSA E DA FARSA FRAUDEMIA COVID*\n\nA Elite Satanista Terrorista e Criminosa não consegue SUPORTAR PERDER PARA A CONCORRENCIA QUE FALA A VERDADE e muito menos Vencer um debate Livre SEM O CONTROLE DO FLUXO DE INFORMAÇÕES E SEM A CENSURA.\n\nhttps://ift.tt/klH2aVu\n\nHOLANDA: Desgoverno Comunista-Nazi-Fascista Totalitario e Tirânico da Holanda está dando cruzeiro de Luxo para os Terroristas Criminosos Invasores do Imigrantes Ilegais enquanto o Povo nativo da Holanda estão passando dificuldades para pagar as contas de Energia Elétrica para MANTER O AQUECIMENTO DOS SEUS LARES LIGADO e não MORRER DE FRIO,Fome por não ter dinheiro para comprar comida e não tendo as suas necessidades diarias atendidas\n\nIsso realmente está acontecendo.\n\nhttps://ift.tt/Msu1jcf\n\nFugitivo e Sobrevivente da China Comunista dá um alerta serio sobre o verdadeiro objetivo da Teoria da Critica Racial e da Cultura do Cancelamento que é Destruição de Reputação/Enquadramento Sovietico/EXPURGO FINANCEIRO\n\n\"OS COMUNISTAS ESTÃO USANDO AS MESMAS TECNICAS E FERRAMENTAS NOS EUA QUE A CHINA COMUNISTA USOU PARA IMPLANTAR O COMUNISMO NA CHINA E CONTINUA USANDO PARA CONTINUAR ESCRAVIZANDO O POVO DA CHINA E CONTINUAR SE MANTENDO NO PODER\", ele disse.\n\nhttps://ift.tt/3Tuy7Lt"
        ],
        [
         "35",
         "Se você já perdeu seu dinheiro ou foi enganado, não desista, porque é isso que os perdedores fazem - você tem que pensar com inteligência,\n    O que você encontrará em nosso canal:\n    ❇️ Principais tags 📡📡\n    ❇️ Melhor segurança\n    ❇️ Ganhou os melhores prêmios 🥇🥇\n    ❇️ MELHORES PAGAMENTOS A TEMPO 💰\n    ❇️ Sem demora ❌❌\n    ❇️ Sem riscos ✅✅\n    ❇️ Sem mais perdas ❌❌\n    ❇️ SEGURO E GARANTIDO ✅✅\n    \"fonte de saída\"\n    ❇️ RECUPERE SUA PERDA ✅\n    ❇️ GANHE MAIS TODOS OS DIAS ✅\n    ❇️ Ficar com um revendedor legítimo\n    [USER]"
        ],
        [
         "36",
         "🚚🚛 Agência Nacional de Transportes Terrestres (ANTT) reduz valores de frete rodoviário após nova queda no diesel; em nota, a ANTT informou que cumpriu a Lei 14.445/2022, que determina a correção da tabela sempre que o valor do diesel oscilar mais de 5% para baixo ou para cima\n\n🌊 Agência Nacional de Águas e Saneamento Básico (ANA) remodela portal com informações sobre segurança de barragens; o novo sistema permite a consulta a informações como o nível de perigo, a categoria de risco e o Dano Potencial Associado a cada barragem, bem como o órgão responsável por fiscalizá-la\n\n🌊 Quatro barragens da Vale em Minas deixam situação de emergência; segundo nota divulgada pela mineradora, a melhora na situação das estruturas é uma boa notícia para a população antes do período chuvoso, quando os riscos aumentam\n\n🚍 Correios melhoram serviços de entregas; com investimentos no portfólio e na capacidade logística, a empresa avançou em projetos digitais, inovações nos serviços, produtos e nas operações para acompanhar o comércio eletrônico\n\n💵 Dólar tem leve alta e fecha em R$ 5,18, após dia volátil; a decisão da\nOrganização dos Países Exportadores de Petróleo (OPEP) de corte mais profundo na produção do combustível desde o início da pandemia, fez a cotação internacional do petróleo subir 2% e beneficiou as ações da Petrobras\n\nEsportes\n\nCampeonato Brasileiro\nSérie A, 30ª rodada:\nBragantino 2x1 Cuiabá\nCeará 1x1 Goiás\nAtlético-GO 3x2 Fluminense\nAthletico-PR 1x1 Fortaleza\nFlamengo 0x0 Internacional\nSantos 1x2 Atlético-MG\n\nSérie B, 33ª rodada:\nCruzeiro 1x1 Ituano\n\n⚽ Ucrânia se junta à candidatura de Espanha e Portugal para Copa de 2030; outros dois grupos de nações disputam sediar o Mundial \n\n🏃🏿‍♂️ Maratona dos Jogos de Paris 2024 traçará caminho da Revolução Francesa; rota foi modelada no caminho da Marcha das Mulheres de outubro de 1789 em Versalhes, quando milhares de pessoas, furiosas com o preço do pão, marcharam até o luxuoso palácio do rei Luís XVI\n\n🌍📰 Notícias Internacionais:\n\n🇺🇦🇷🇺 Chefe da Otan parabeniza Zelenski por avanço militar contra a Rússia; Jens Stoltenberg afirmou que a aliança atlântica continuará a ajudar a Ucrânia enquanto a guerra persistir na Europa\n\n🇷🇺 Rússia se apropria formalmente de usina ucraniana de Zaporizhzhia; instalação nuclear é alvo de disputa entre Moscou e Kiev desde o início da guerra, em fevereiro deste ano\n\n🇷🇺 Rússia diz que supervisionará usina de Zaporizhzhia após anexação; \nAgência Tass informou que chefe da Agência Internacional de Energia Atômica, Rafael Grossi, visitará Moscou nos próximos dias para discutir situação na usina\n\n🇺🇦 Ucrânia reivindica avanços militares na região de Lugansk; exército ucraniano conseguiu reconquistar regiões que ficam na parte do país recém-anexada pela Rússia\n\n🇪🇺🇷🇺 União Europeia (UE) aprova mais sanções contra a Rússia por guerra na Ucrânia; UE foi estimulada a agir pelas ameaças nucleares da Rússia, pela mobilização militar para a guerra, além do anúncio sobre anexação de partes da Ucrânia\n\n🇬🇧 Reino Unido: primeira-ministra pede apoio de partido para planos econômicos; Liz Truss falou a parlamentares e membros do Partido Conservador e procurou tranquilizar investidores\n\n🇩🇰 Premiê da Dinamarca convoca eleições antecipadas para novembro; a social-democrata Mette Frederiksen antecipou a realização das eleições em sete meses, para 1° de novembro; ela garantiu que se vencer, formará um governo amplo\n\n🇰🇷🇺🇸 Coreia do Sul e EUA lançam mísseis em resposta à Coreia do Norte; Coreia do Norte, que tem armas nucleares, testou nesta semana um míssil balístico, enviando-o sobre o Japão, o que provocou críticas no mundo\n\n🇰🇵 Coreia do Norte dispara novo míssil, diz imprensa sul-coreana; governo de Pyongyang lançou projétil em direção ao Mar do Japão, repetindo ação que realizou no início desta semana"
        ],
        [
         "37",
         "Bitcoin é uma criptomoeda digital que sobe e desce devido ao upgrade de temporada pela rede bitcoin.\n  O Bitcoin é considerado a melhor criptomoeda com potencial para mudar o mundo, no mundo da criptografia;  bitcoin é a cabeça entre todos e é melhor do que moeda.\n  O Bitcoin tem a maneira mais rápida de enviar dinheiro online enquanto você em casa, no escritório, etc.\n  Qualquer um pode participar da mineração de bitcoins com nossa empresa e obter lucro exclusivo.\n  Estamos trabalhando incansavelmente para melhorar e trazer uma mineração para mais perto de você e de todos, é por isso que a criptografia foi desenvolvida, diversificando os fluxos de caixa positivos, mantendo os altos padrões de proximidade, rapidez, confiabilidade e segurança para você e sua caixa  todos\n  Converse agora para saber como você pode ganhar a vida e ganhar com bitcoin\n\n [USER]"
        ],
        [
         "38",
         "🟡 Notícias do Overnight - Ásia\n\n▶️ Primeiro-ministro japonês Kishida diz que repetidos lançamentos norte-coreanos não podem ser tolerados\n\n▶️ Coreia do Norte diz que lançamentos de mísseis são medidas de combate a exercícios militares dos EUA e da Coreia do Sul\n\n▶️ Conselho de Segurança Nacional da Coreia do Sul diz que provocações da Coreia do Norte enfrentarão uma resposta internacional mais forte\n\n▶️ Departamento de Estado dos EUA condena o lançamento de mísseis balísticos da Coreia do Norte e diz que os lançamentos de mísseis da Coreia do Norte representam uma ameaça para os vizinhos regionais e a comunidade internacional\n\n▶️ O vice-secretário de gabinete japonês Kihara diz que os repetidos lançamentos de mísseis da Coreia do Norte não podem ser tolerados, acrescenta que a Coreia do Norte pode intensificar atividades provocativas, incluindo testes nucleares\n\n▶️ Jatos e bombardeiros norte-coreanos foram vistos voando em um exercício, de acordo com Yonhap; Jatos sul-coreanos decolam em resposta\n\nFonte: ActiveTrades\n\n🔸 t.me/alexeconomia"
        ],
        [
         "39",
         "- A conversa mole agrada, mas é a coragem e a firmeza que garantem a segurança e o futuro de um povo e de uma nação nos momentos decisivos. São essas virtudes que nos protegem dos ataques à nossa soberania, das chantagens dos poderosos e dos conchavos que massacram o nosso povo.\n\n- A malandragem de Lula serviu para enrolar o povo enquanto seu governo o roubava e para enganá-lo sobre a falsa absolvição de seus crimes; nossa firmeza serviu para irmos até a Rússia em meio a uma chuva de críticas negociar fertilizantes e garantir nossa segurança alimentar.\n\n✅ Jair Messias Bolsonaro\n\nJUNTE-SE A NÓS TAMBÉM E MANTENHA-SE INFORMADO\n🧠\n🇧🇷Clique no link :    ➘  ➘  ➘ \n╰─►Canal [USER]"
        ],
        [
         "40",
         "-A conversa mole agrada, mas é a coragem e a firmeza que garantem a segurança e o futuro de um povo e de uma nação nos momentos decisivos. São essas virtudes que nos protegem dos ataques à nossa soberania, das chantagens dos poderosos e dos conchavos que massacram o nosso povo. Jair Messias Bolsonaro 06/10/22"
        ],
        [
         "41",
         "Vacina de mRNA contra a COVID detectada no leite materno humano\n\nA diretora do CDC, Rochelle Walensky, continua afirmando que 'não há tempo ruim para tomar uma vacina contra a COVID', mas este novo estudo prova o contrário.\n\nHISTÓRIA EM RESUMO\n\n•  Recentemente, no final de setembro de 2022, a diretora dos Centros de Controle e Prevenção de Doenças, Dra. Rochelle Walensky, afirmou que é perfeitamente seguro para mulheres grávidas e lactantes, e aquelas que planejam uma gravidez, tomar a vacina contra a COVID. De acordo com Walensky, “Não há tempo ruim para tomar uma vacina contra a COVID”\n\n•  Enquanto isso, os dados da Pfizer mostram que o risco de aborto pode chegar a 87,5%\n\n•  A segurança para nutrizes não foi avaliada nos ensaios clínicos iniciais e as investigações subsequentes foram escassas. Em meados de julho de 2021, um pequeno estudo não encontrou vestígios de vacina de mRNA no leite materno, mas um estudo de setembro de 2022 encontrou mRNA no leite materno por até 48 horas após a injeção\n\n•  Esses estudos não analisaram o leite materno quanto à presença de proteína spike. Mesmo que o mRNA só seja transferível durante as primeiras 48 horas pós-vacina, isso não significa que seja seguro amamentar depois disso. O leite materno também poderia transferir a proteína spike produzida pelo corpo da mãe, e essa produção, sabemos, pode continuar por pelo menos quatro meses, e provavelmente mais\n\n•  Walensky também continua afirmando que as injeções contra a COVID não têm efeitos adversos na fertilidade, embora as taxas de natalidade tenham caído desde o lançamento das injeções, aumentando o alarme em todo o mundo. Um estudo com ratos da Pfizer-BioNTech descobriu que a injeção mais que dobrou a incidência de infertilidade\nhttps://takecontrol.substack.com/p/mrna-vaccine-detected-in-human-breastmilk"
        ],
        [
         "42",
         "Deus abençoe a todos aqui presente. Me chamo Ronny,sou de Fortaleza e atuo na área de segurança cybernetica desde o ano de 2001. Hoje atuando profissionalmente como Pentest Profissional,posso ser de muita utilidade a muitos aqui presente em prol dessa nossa luta pela reeleição do nosso Capitão."
        ],
        [
         "43",
         "A conversa mole agrada, mas é a coragem e a firmeza que garantem a segurança e o futuro de um povo e de uma nação nos momentos decisivos. São essas virtudes que nos protegem dos ataques à nossa soberania, das chantagens dos poderosos e dos conchavos que massacram o nosso povo.\n\n\nPresidente [USER]"
        ],
        [
         "44",
         "Protesta resultado Ditador rindo de boas em segurança\nAtacar inimigo resultado corta mal pela raiz"
        ],
        [
         "45",
         "Criador do Telegram acusa WhatsApp de ser “ferramenta de vigilância”: em um post em seu canal no Telegram, Pavel Durov afirma que a recente falha de segurança no WhatsApp não seria apenas incidental, mas uma backdoor plantada deliberadamente – a vulnerabilidade permitia o acesso total aos smartphones de usuários. Quando uma backdoor é descoberta, outra seria adicionada em seguida – desde 2017, pesquisadores já descobriram quatro vulnerabilidades similares no WhatsApp. Essa revelação, continua Durov, não seria para pressionar as pessoas a usarem o Telegram, mas para ficarem “longe do WhatsApp”."
        ],
        [
         "46",
         "Cinthia, ainda que esteja acontecendo algo, isso é uma questão de segurança nacional. Votamos no presidente tbm pra isso. Confiando que ele vá lidar bem com coisas que nunca saberemos. Uma coisa é não estarem fazendo nada. Outra coisa é nós não sabermos. A fraude tem que ser denunciada e os responsáveis presos. Isso é com Brasília. A nossa parte é conseguir mais votos e ir lá votar. Cumpramos a nossa parte. Se o Bolsonaro não cumprir a dele, depois ele acertará as contas com Deus e com a própria consciência. Rezamos para que ele faça a parte dele, mas não deixemos de fazer a nossa."
        ],
        [
         "47",
         "⚡️🇧🇷 Actus Liberandi - Ordem De Cristo 🇧🇷\n\n✨🛡 Sejam Bem Vindos🛡\n\n⚖️ Somos a Sociedade Civil Organizada \n⚖️  Patriotas em Unidade, em Cooperação mútua, pelo Resgate dos Valores Legais da Nação Brasileira! \n\n⚖️ Somos todos investigadores e Peritos de diversos ramos da ciência da Segurança Pública, trabalhando pela Nação de forma voluntária, não somos remunerados por nenhuma instituição governamental ou particular, sobrevivemos pela ajuda de nossos membros... \n\n⚖️ Esse Grupo apoia e trabalhou fortemente para eleger o presidente do Brasil Jair Messias Bolsonaro. \n\n ⚖️ Siga as regras do grupo e não terá problemas com os administradores. \n\n ⚖️ Nosso Grupo é de Direito Privado, pertence a uma Instituição Real devidamente constituída na ação em Prol da Liberdade do Povo Brasileiro. \n\n⚖️ Combatemos diretamente o Foro de São Paulo. Os Traíras não passarão. Aquele que Teme as ações e difama a Ordem Dourada do Brasil revela-se incontestavelmente a nós um braço do crime politico organizado e institucionalizado no Brasil - Tenha certeza que iremos combate-lo severamente. ⚖️ \n\n⚖️  Somos Cristãos em unidade não temos rabo preso com o diabo, mas pelo contrário nossa espada de fogo sempre estará pronta para o combate contra essa legião de bestas e homúnculos inumanos, hoje, amanhã e sempre.\n\n⚖️  Somos A Reserva Pro-Ativa Sempre do Lado do Povo. Força e Honra \n(Nando Patriota - Presidente da ODB).\n\n\n⚖️  Pelo Resgate da Inteligência!\n\n⚖️  Honra - Justiça - Liberdade\n\n🕵🏻  Si vis Pacem, para bellum 👮🏻‍♂️\n\n\n   🕵🏼‍♂️ 🛡Força e Honra 🛡\n\n\nFraternalmente,\nMembros e Peritos da Actus Liberandi"
        ],
        [
         "48",
         "Bolsonaro: “Narrativas tentam nos colocar contra nossos irmãos do Nordeste”\n\nEm ataques a Lula, o presidente Bolsonaro emendou ainda ser “impossível promover o maior e mais destrutivo esquema de corrupção de nossa história e ao mesmo tempo respeitar a democracia”\n\nO presidente Jair Bolsonaro (PL), candidato à reeleição, afirmou que “narrativas” estão tentando colocá-lo “contra nossos irmãos do Nordeste”. Em indireta ao opositor político Luiz Inácio Lula da Silva (PT), com quem disputa o segundo turno, o chefe do Executivo também em “conversa mole”. \n“A conversa mole agrada, mas é a coragem e a firmeza que garantem a segurança e o futuro de um povo e de uma nação nos momentos decisivos. São essas virtudes que nos protegem dos ataques à nossa soberania, das chantagens dos poderosos e dos conchavos que massacram o nosso povo”, disse Bolsonaro nesta quinta-feira (6/10) por meio das redes sociais."
        ],
        [
         "49",
         "Salmo 122\nUm cântico de ascensão de David. Regozijei-me quando me disseram: “Vamos à casa do Eterno”.\nChegaram nossos pés às tuas portas, ó Jerusalém.\n\nÉs uma cidade edificada e coesa para unir\ntodas as tribos do Eterno que a Ti se dirigiam como um testemunho de todo Israel, para erguer graças ao Nome do Eterno.\n\nAli foi estabelecido o tribunal de justiça, o trono da casa de David.\n\nRogai ao Eterno para que haja Shalom em Yerushalaim! Prosperem os que te amam, ó Yerushalaim!\n\nHaja Shalom em teus baluartes e segurança em teus palácios.\n\nPor amor a meus irmãos e companheiros, rogarei pela sua Paz.\n\nPor amor à casa do Eterno, nosso Deus, buscarei sempre o Teu bem.\n\n© Direitos Autorais, todos os direitos reservados. If you enjoyed this article, we encourage you to distribute it further, provided that you comply with Chabad.org's copyright policy."
        ]
       ],
       "shape": {
        "columns": 1,
        "rows": 2800
       }
      },
      "text/html": [
       "<div>\n",
       "<style scoped>\n",
       "    .dataframe tbody tr th:only-of-type {\n",
       "        vertical-align: middle;\n",
       "    }\n",
       "\n",
       "    .dataframe tbody tr th {\n",
       "        vertical-align: top;\n",
       "    }\n",
       "\n",
       "    .dataframe thead th {\n",
       "        text-align: right;\n",
       "    }\n",
       "</style>\n",
       "<table border=\"1\" class=\"dataframe\">\n",
       "  <thead>\n",
       "    <tr style=\"text-align: right;\">\n",
       "      <th></th>\n",
       "      <th>text_content_anonymous</th>\n",
       "    </tr>\n",
       "  </thead>\n",
       "  <tbody>\n",
       "    <tr>\n",
       "      <th>0</th>\n",
       "      <td>🌳 Mato Grosso intensifica ações contra crimes ...</td>\n",
       "    </tr>\n",
       "    <tr>\n",
       "      <th>1</th>\n",
       "      <td>⚡️🇧🇷 Actus Liberandi - Ordem De Cristo 🇧🇷\\n\\n✨...</td>\n",
       "    </tr>\n",
       "    <tr>\n",
       "      <th>2</th>\n",
       "      <td>⚡️🇧🇷 Actus Liberandi - Ordem De Cristo 🇧🇷\\n\\n✨...</td>\n",
       "    </tr>\n",
       "    <tr>\n",
       "      <th>3</th>\n",
       "      <td>No Telegram entrem em Configurações &gt; Privacid...</td>\n",
       "    </tr>\n",
       "    <tr>\n",
       "      <th>4</th>\n",
       "      <td>No Telegram entrem em Configurações &gt; Privacid...</td>\n",
       "    </tr>\n",
       "    <tr>\n",
       "      <th>...</th>\n",
       "      <td>...</td>\n",
       "    </tr>\n",
       "    <tr>\n",
       "      <th>2795</th>\n",
       "      <td>Profissão médica instada a dizer às mulheres a...</td>\n",
       "    </tr>\n",
       "    <tr>\n",
       "      <th>2796</th>\n",
       "      <td>TSE, o relatório das Forças Armadas e o caso M...</td>\n",
       "    </tr>\n",
       "    <tr>\n",
       "      <th>2797</th>\n",
       "      <td>TSE, o relatório das Forças Armadas e o caso M...</td>\n",
       "    </tr>\n",
       "    <tr>\n",
       "      <th>2798</th>\n",
       "      <td>✅ Notícias do Dia - Ano 6  n° 2183\\nDia 11 de ...</td>\n",
       "    </tr>\n",
       "    <tr>\n",
       "      <th>2799</th>\n",
       "      <td>O mês de outubro registrou arrecadação de R$ 8...</td>\n",
       "    </tr>\n",
       "  </tbody>\n",
       "</table>\n",
       "<p>2800 rows × 1 columns</p>\n",
       "</div>"
      ],
      "text/plain": [
       "                                 text_content_anonymous\n",
       "0     🌳 Mato Grosso intensifica ações contra crimes ...\n",
       "1     ⚡️🇧🇷 Actus Liberandi - Ordem De Cristo 🇧🇷\\n\\n✨...\n",
       "2     ⚡️🇧🇷 Actus Liberandi - Ordem De Cristo 🇧🇷\\n\\n✨...\n",
       "3     No Telegram entrem em Configurações > Privacid...\n",
       "4     No Telegram entrem em Configurações > Privacid...\n",
       "...                                                 ...\n",
       "2795  Profissão médica instada a dizer às mulheres a...\n",
       "2796  TSE, o relatório das Forças Armadas e o caso M...\n",
       "2797  TSE, o relatório das Forças Armadas e o caso M...\n",
       "2798  ✅ Notícias do Dia - Ano 6  n° 2183\\nDia 11 de ...\n",
       "2799  O mês de outubro registrou arrecadação de R$ 8...\n",
       "\n",
       "[2800 rows x 1 columns]"
      ]
     },
     "metadata": {},
     "output_type": "display_data"
    }
   ],
   "source": [
    "filtragem_por_palavra2 = conn.execute(\"\"\"\n",
    "    SELECT\n",
    "    text_content_anonymous\n",
    "    FROM tabela_dados\n",
    "    WHERE text_content_anonymous IS NOT NULL\n",
    "    AND LOWER(text_content_anonymous) LIKE '%segurança%';\n",
    "\"\"\").fetchdf()\n",
    "\n",
    "display(filtragem_por_palavra2)"
   ]
  },
  {
   "cell_type": "markdown",
   "id": "867fcc7c",
   "metadata": {},
   "source": [
    "---"
   ]
  },
  {
   "cell_type": "markdown",
   "id": "961f6f6d",
   "metadata": {},
   "source": [
    "Encerrando conexão com a base após todas as consultas:"
   ]
  },
  {
   "cell_type": "code",
   "execution_count": 46,
   "id": "d92eb5c8",
   "metadata": {},
   "outputs": [],
   "source": [
    "conn.close()"
   ]
  },
  {
   "cell_type": "markdown",
   "id": "0b98f7db",
   "metadata": {},
   "source": [
    "## Fontes\n",
    "- [DuckDB Documentation](https://duckdb.org/docs/stable/)\n",
    "- [Convert csv to parquet file using python](https://stackoverflow.com/questions/50604133/convert-csv-to-parquet-file-using-python)\n",
    "- [Extract hostname from a URL](https://stackoverflow.com/questions/13266534/extract-hostname-from-a-url)\n",
    "- [Implement N-Grams using Python NLTK – A Step-By-Step Guide](https://www.askpython.com/python/examples/n-grams-python-nltk)"
   ]
  }
 ],
 "metadata": {
  "kernelspec": {
   "display_name": "Python 3",
   "language": "python",
   "name": "python3"
  },
  "language_info": {
   "codemirror_mode": {
    "name": "ipython",
    "version": 3
   },
   "file_extension": ".py",
   "mimetype": "text/x-python",
   "name": "python",
   "nbconvert_exporter": "python",
   "pygments_lexer": "ipython3",
   "version": "3.12.0"
  }
 },
 "nbformat": 4,
 "nbformat_minor": 5
}
