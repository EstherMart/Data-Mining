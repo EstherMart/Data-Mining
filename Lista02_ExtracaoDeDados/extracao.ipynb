{
 "cells": [
  {
   "cell_type": "markdown",
   "id": "c80a527f",
   "metadata": {},
   "source": [
    "# CK0223 - Mineração de Dados"
   ]
  },
  {
   "cell_type": "markdown",
   "id": "601b7752",
   "metadata": {},
   "source": [
    "## Lista 02 - Extração de Dados"
   ]
  },
  {
   "cell_type": "markdown",
   "id": "4dbda6a0",
   "metadata": {},
   "source": [
    "### Dados do discente:\n",
    "**Nome**: Luiza Esther Martins Pessoa\n",
    "**Matrícula**: 555516\n",
    "\n",
    "### Vídeo Youtube:\n",
    "\n",
    "---"
   ]
  },
  {
   "cell_type": "markdown",
   "id": "3ecb7af0",
   "metadata": {},
   "source": [
    "### **(a)** Ler o dataset *fakeTelegram.BR_2022.csv*"
   ]
  },
  {
   "cell_type": "markdown",
   "id": "99aad7de",
   "metadata": {},
   "source": [
    "Como realizado na [Lista 01 - Tratamento de Dados](https://github.com/EstherMart/Data-Mining/blob/main/Lista01_TratamentoDeDados/tratamento.ipynb), ler o dataset é o primeiro passo para iniciarmos a extraçãa, manipulação e tratamento dos dados. \n",
    "\n",
    "Para fazer isso, começamos importando as bibliotecas necessárias para leitura (`pandas`) e para download local da base de dados (`gdown`). Além disso, vale ressaltar que existem outras formas de realizar o upload para o repositório local, mas decidi seguir a lógica de puxar e realizar o download de base utilizando apenas o link disponibilizado pelo professor.\n",
    "\n",
    "**Importante**: Alguns trechos de código serão reutilizados, visto que são as mesmas exigências em ambas as listas e tal solicitação já foi resolvida anteriormente."
   ]
  },
  {
   "cell_type": "code",
   "execution_count": 1,
   "id": "1cfb507d",
   "metadata": {},
   "outputs": [],
   "source": [
    "# IMPORTAÇÃO DE BIBLIOTECAS\n",
    "import gdown\n",
    "import pandas as pd\n",
    "import requests\n",
    "from io import StringIO"
   ]
  },
  {
   "cell_type": "markdown",
   "id": "9895a25c",
   "metadata": {},
   "source": [
    "Fazendo o download do dataset para o repositório local"
   ]
  },
  {
   "cell_type": "code",
   "execution_count": 2,
   "id": "30a92f3d",
   "metadata": {},
   "outputs": [
    {
     "name": "stderr",
     "output_type": "stream",
     "text": [
      "Downloading...\n",
      "From (original): https://drive.google.com/uc?id=1c_hLzk85pYw-huHSnFYZM_gn-dUsYRDm\n",
      "From (redirected): https://drive.google.com/uc?id=1c_hLzk85pYw-huHSnFYZM_gn-dUsYRDm&confirm=t&uuid=e1e74e96-6cfc-4915-abe2-f990edb6cf7b\n",
      "To: c:\\Users\\esthe\\Downloads\\Data-Mining\\Lista02_ExtracaoDeDados\\fakeTelegram.BR_2022.csv\n",
      "100%|██████████| 224M/224M [01:14<00:00, 3.02MB/s] \n"
     ]
    },
    {
     "data": {
      "text/plain": [
       "'fakeTelegram.BR_2022.csv'"
      ]
     },
     "execution_count": 2,
     "metadata": {},
     "output_type": "execute_result"
    }
   ],
   "source": [
    "origem_url = 'https://drive.google.com/file/d/1c_hLzk85pYw-huHSnFYZM_gn-dUsYRDm/view'\n",
    "\n",
    "# O ID do arquivo (necessário para fazer o download direto) está entre os últimos elementos da URL.\n",
    "# Fazemos um split na URL usando '/' como separador e pegamos o penúltimo elemento da lista.\n",
    "# Isso funciona porque a estrutura da URL é:\n",
    "# https://drive.google.com/file/d/ID_DO_ARQUIVO/view\n",
    "# E ao aplicar url.split('/'), o resultado será:\n",
    "# ['https:', '', 'drive.google.com', 'file', 'd', 'ID_DO_ARQUIVO', 'view?...']\n",
    "# Portanto, o ID está na posição -2 (penúltima).\n",
    "\n",
    "file_id = origem_url.split('/')[-2]\n",
    "\n",
    "# URL do arquivo no formato aceito pelo gdown\n",
    "url = f'https://drive.google.com/uc?id={file_id}'\n",
    "\n",
    "# Nome local do arquivo que será baixado\n",
    "output = 'fakeTelegram.BR_2022.csv'\n",
    "\n",
    "# Baixando o arquivo com gdown\n",
    "gdown.download(url, output, quiet=False)"
   ]
  },
  {
   "cell_type": "markdown",
   "id": "c1107e67",
   "metadata": {},
   "source": [
    "Leitura do dataset utilizando o método `.read_csv()`, pois permite carregar dados estruturados a partir de arquivos *CSV* para um DataFrame do pandas, sendo uma estrutura tabular extremamente versátil para análise de dados e visualmente intuitiva."
   ]
  },
  {
   "cell_type": "code",
   "execution_count": 3,
   "id": "b86ca85a",
   "metadata": {},
   "outputs": [],
   "source": [
    "df_inicial = pd.read_csv(\"fakeTelegram.BR_2022.csv\")"
   ]
  },
  {
   "cell_type": "markdown",
   "id": "a4c3755a",
   "metadata": {},
   "source": [
    "Os códigos abaixo foram implementados apenas para fins de **visualização e verificação inicial dos dados carregados**, com o objetivo de:\n",
    "- Obter uma compreensão rápida da dimensão do dataset\n",
    "- Identificar os nomes das colunas disponíveis\n",
    "- Realizar uma primeira checagem da integridade básica da estrutura de dados"
   ]
  },
  {
   "cell_type": "code",
   "execution_count": 4,
   "id": "269d00f5",
   "metadata": {},
   "outputs": [
    {
     "name": "stdout",
     "output_type": "stream",
     "text": [
      "Número de linhas: 557586\n",
      "Número de colunas: 19\n",
      "\n",
      "Colunas disponíveis:\n",
      "1. date_message\n",
      "2. id_member_anonymous\n",
      "3. id_group_anonymous\n",
      "4. media\n",
      "5. media_type\n",
      "6. media_url\n",
      "7. has_media\n",
      "8. has_media_url\n",
      "9. trava_zap\n",
      "10. text_content_anonymous\n",
      "11. dataset_info_id\n",
      "12. date_system\n",
      "13. score_sentiment\n",
      "14. score_misinformation\n",
      "15. id_message\n",
      "16. message_type\n",
      "17. messenger\n",
      "18. media_name\n",
      "19. media_md5\n"
     ]
    }
   ],
   "source": [
    "# PARA MELHOR VISUALIZAÇÃO\n",
    "print(\"Número de linhas:\", df_inicial.shape[0])\n",
    "print(\"Número de colunas:\", df_inicial.shape[1])\n",
    "print(\"\\nColunas disponíveis:\")\n",
    "for i, col in enumerate(df_inicial.columns, 1):\n",
    "    print(f\"{i}. {col}\")"
   ]
  },
  {
   "cell_type": "markdown",
   "id": "cbcab548",
   "metadata": {},
   "source": [
    "O método `display()` do IPython renderiza objetos como DataFrames de forma mais rica que print(), mantendo a formatação tabular. Combinado com `.style`, permite personalizar a aparência: `.set_caption()` adiciona títulos descritivos, enquanto `.set_properties()` aplica estilos CSS como cores de fundo suaves (#f8f9fa), bordas sutis, truncamento de texto longo (text-overflow: ellipsis) e limitação de largura (max-width), melhorando a legibilidade e organização dos dados exibidos.\n",
    "\n",
    "Essa abordagem foi utilizada, pois é importante ter em mente as primeiras e últimas amostras do dataset."
   ]
  },
  {
   "cell_type": "code",
   "execution_count": 5,
   "id": "4be807a2",
   "metadata": {},
   "outputs": [
    {
     "data": {
      "text/html": [
       "<style type=\"text/css\">\n",
       "#T_e788f_row0_col0, #T_e788f_row0_col1, #T_e788f_row0_col2, #T_e788f_row0_col3, #T_e788f_row0_col4, #T_e788f_row0_col5, #T_e788f_row0_col6, #T_e788f_row0_col7, #T_e788f_row0_col8, #T_e788f_row0_col9, #T_e788f_row0_col10, #T_e788f_row0_col11, #T_e788f_row0_col12, #T_e788f_row0_col13, #T_e788f_row0_col14, #T_e788f_row0_col15, #T_e788f_row0_col16, #T_e788f_row0_col17, #T_e788f_row0_col18, #T_e788f_row1_col0, #T_e788f_row1_col1, #T_e788f_row1_col2, #T_e788f_row1_col3, #T_e788f_row1_col4, #T_e788f_row1_col5, #T_e788f_row1_col6, #T_e788f_row1_col7, #T_e788f_row1_col8, #T_e788f_row1_col9, #T_e788f_row1_col10, #T_e788f_row1_col11, #T_e788f_row1_col12, #T_e788f_row1_col13, #T_e788f_row1_col14, #T_e788f_row1_col15, #T_e788f_row1_col16, #T_e788f_row1_col17, #T_e788f_row1_col18, #T_e788f_row2_col0, #T_e788f_row2_col1, #T_e788f_row2_col2, #T_e788f_row2_col3, #T_e788f_row2_col4, #T_e788f_row2_col5, #T_e788f_row2_col6, #T_e788f_row2_col7, #T_e788f_row2_col8, #T_e788f_row2_col9, #T_e788f_row2_col10, #T_e788f_row2_col11, #T_e788f_row2_col12, #T_e788f_row2_col13, #T_e788f_row2_col14, #T_e788f_row2_col15, #T_e788f_row2_col16, #T_e788f_row2_col17, #T_e788f_row2_col18, #T_e788f_row3_col0, #T_e788f_row3_col1, #T_e788f_row3_col2, #T_e788f_row3_col3, #T_e788f_row3_col4, #T_e788f_row3_col5, #T_e788f_row3_col6, #T_e788f_row3_col7, #T_e788f_row3_col8, #T_e788f_row3_col9, #T_e788f_row3_col10, #T_e788f_row3_col11, #T_e788f_row3_col12, #T_e788f_row3_col13, #T_e788f_row3_col14, #T_e788f_row3_col15, #T_e788f_row3_col16, #T_e788f_row3_col17, #T_e788f_row3_col18, #T_e788f_row4_col0, #T_e788f_row4_col1, #T_e788f_row4_col2, #T_e788f_row4_col3, #T_e788f_row4_col4, #T_e788f_row4_col5, #T_e788f_row4_col6, #T_e788f_row4_col7, #T_e788f_row4_col8, #T_e788f_row4_col9, #T_e788f_row4_col10, #T_e788f_row4_col11, #T_e788f_row4_col12, #T_e788f_row4_col13, #T_e788f_row4_col14, #T_e788f_row4_col15, #T_e788f_row4_col16, #T_e788f_row4_col17, #T_e788f_row4_col18 {\n",
       "  background-color: #f8f9fa;\n",
       "  border: 1px solid #dee2e6;\n",
       "  color: #212529;\n",
       "  max-width: 300px;\n",
       "  overflow: hidden;\n",
       "  text-overflow: ellipsis;\n",
       "  white-space: nowrap;\n",
       "}\n",
       "</style>\n",
       "<table id=\"T_e788f\">\n",
       "  <caption>Primeiros Registros</caption>\n",
       "  <thead>\n",
       "    <tr>\n",
       "      <th class=\"blank level0\" >&nbsp;</th>\n",
       "      <th id=\"T_e788f_level0_col0\" class=\"col_heading level0 col0\" >date_message</th>\n",
       "      <th id=\"T_e788f_level0_col1\" class=\"col_heading level0 col1\" >id_member_anonymous</th>\n",
       "      <th id=\"T_e788f_level0_col2\" class=\"col_heading level0 col2\" >id_group_anonymous</th>\n",
       "      <th id=\"T_e788f_level0_col3\" class=\"col_heading level0 col3\" >media</th>\n",
       "      <th id=\"T_e788f_level0_col4\" class=\"col_heading level0 col4\" >media_type</th>\n",
       "      <th id=\"T_e788f_level0_col5\" class=\"col_heading level0 col5\" >media_url</th>\n",
       "      <th id=\"T_e788f_level0_col6\" class=\"col_heading level0 col6\" >has_media</th>\n",
       "      <th id=\"T_e788f_level0_col7\" class=\"col_heading level0 col7\" >has_media_url</th>\n",
       "      <th id=\"T_e788f_level0_col8\" class=\"col_heading level0 col8\" >trava_zap</th>\n",
       "      <th id=\"T_e788f_level0_col9\" class=\"col_heading level0 col9\" >text_content_anonymous</th>\n",
       "      <th id=\"T_e788f_level0_col10\" class=\"col_heading level0 col10\" >dataset_info_id</th>\n",
       "      <th id=\"T_e788f_level0_col11\" class=\"col_heading level0 col11\" >date_system</th>\n",
       "      <th id=\"T_e788f_level0_col12\" class=\"col_heading level0 col12\" >score_sentiment</th>\n",
       "      <th id=\"T_e788f_level0_col13\" class=\"col_heading level0 col13\" >score_misinformation</th>\n",
       "      <th id=\"T_e788f_level0_col14\" class=\"col_heading level0 col14\" >id_message</th>\n",
       "      <th id=\"T_e788f_level0_col15\" class=\"col_heading level0 col15\" >message_type</th>\n",
       "      <th id=\"T_e788f_level0_col16\" class=\"col_heading level0 col16\" >messenger</th>\n",
       "      <th id=\"T_e788f_level0_col17\" class=\"col_heading level0 col17\" >media_name</th>\n",
       "      <th id=\"T_e788f_level0_col18\" class=\"col_heading level0 col18\" >media_md5</th>\n",
       "    </tr>\n",
       "  </thead>\n",
       "  <tbody>\n",
       "    <tr>\n",
       "      <th id=\"T_e788f_level0_row0\" class=\"row_heading level0 row0\" >0</th>\n",
       "      <td id=\"T_e788f_row0_col0\" class=\"data row0 col0\" >2022-10-05 06:25:04</td>\n",
       "      <td id=\"T_e788f_row0_col1\" class=\"data row0 col1\" >1078cc958f0febe28f4d03207660715f</td>\n",
       "      <td id=\"T_e788f_row0_col2\" class=\"data row0 col2\" >12283e08a2eb5789201e105b34489ee7</td>\n",
       "      <td id=\"T_e788f_row0_col3\" class=\"data row0 col3\" >nan</td>\n",
       "      <td id=\"T_e788f_row0_col4\" class=\"data row0 col4\" >nan</td>\n",
       "      <td id=\"T_e788f_row0_col5\" class=\"data row0 col5\" >nan</td>\n",
       "      <td id=\"T_e788f_row0_col6\" class=\"data row0 col6\" >False</td>\n",
       "      <td id=\"T_e788f_row0_col7\" class=\"data row0 col7\" >False</td>\n",
       "      <td id=\"T_e788f_row0_col8\" class=\"data row0 col8\" >False</td>\n",
       "      <td id=\"T_e788f_row0_col9\" class=\"data row0 col9\" >Então é Fato Renato o áudio que eu ouvi no whatsapp isso ocorreu em Niterói principalmente no bairro Fonseca ?</td>\n",
       "      <td id=\"T_e788f_row0_col10\" class=\"data row0 col10\" >5</td>\n",
       "      <td id=\"T_e788f_row0_col11\" class=\"data row0 col11\" >2022-10-05 06:25:28.863641</td>\n",
       "      <td id=\"T_e788f_row0_col12\" class=\"data row0 col12\" >0.000000</td>\n",
       "      <td id=\"T_e788f_row0_col13\" class=\"data row0 col13\" >nan</td>\n",
       "      <td id=\"T_e788f_row0_col14\" class=\"data row0 col14\" >16385</td>\n",
       "      <td id=\"T_e788f_row0_col15\" class=\"data row0 col15\" >Texto</td>\n",
       "      <td id=\"T_e788f_row0_col16\" class=\"data row0 col16\" >telegram</td>\n",
       "      <td id=\"T_e788f_row0_col17\" class=\"data row0 col17\" >nan</td>\n",
       "      <td id=\"T_e788f_row0_col18\" class=\"data row0 col18\" >nan</td>\n",
       "    </tr>\n",
       "    <tr>\n",
       "      <th id=\"T_e788f_level0_row1\" class=\"row_heading level0 row1\" >1</th>\n",
       "      <td id=\"T_e788f_row1_col0\" class=\"data row1 col0\" >2022-10-05 06:25:08</td>\n",
       "      <td id=\"T_e788f_row1_col1\" class=\"data row1 col1\" >nan</td>\n",
       "      <td id=\"T_e788f_row1_col2\" class=\"data row1 col2\" >12283e08a2eb5789201e105b34489ee7</td>\n",
       "      <td id=\"T_e788f_row1_col3\" class=\"data row1 col3\" >nan</td>\n",
       "      <td id=\"T_e788f_row1_col4\" class=\"data row1 col4\" >nan</td>\n",
       "      <td id=\"T_e788f_row1_col5\" class=\"data row1 col5\" >nan</td>\n",
       "      <td id=\"T_e788f_row1_col6\" class=\"data row1 col6\" >False</td>\n",
       "      <td id=\"T_e788f_row1_col7\" class=\"data row1 col7\" >False</td>\n",
       "      <td id=\"T_e788f_row1_col8\" class=\"data row1 col8\" >False</td>\n",
       "      <td id=\"T_e788f_row1_col9\" class=\"data row1 col9\" >Saiu no YouTube do presidente a 8 horas atrás, infelizmente não consigo enviar para cá, mas é facilmente verificável no YouTube do presidente</td>\n",
       "      <td id=\"T_e788f_row1_col10\" class=\"data row1 col10\" >5</td>\n",
       "      <td id=\"T_e788f_row1_col11\" class=\"data row1 col11\" >2022-10-05 06:25:28.926311</td>\n",
       "      <td id=\"T_e788f_row1_col12\" class=\"data row1 col12\" >0.064400</td>\n",
       "      <td id=\"T_e788f_row1_col13\" class=\"data row1 col13\" >nan</td>\n",
       "      <td id=\"T_e788f_row1_col14\" class=\"data row1 col14\" >16386</td>\n",
       "      <td id=\"T_e788f_row1_col15\" class=\"data row1 col15\" >Texto</td>\n",
       "      <td id=\"T_e788f_row1_col16\" class=\"data row1 col16\" >telegram</td>\n",
       "      <td id=\"T_e788f_row1_col17\" class=\"data row1 col17\" >nan</td>\n",
       "      <td id=\"T_e788f_row1_col18\" class=\"data row1 col18\" >nan</td>\n",
       "    </tr>\n",
       "    <tr>\n",
       "      <th id=\"T_e788f_level0_row2\" class=\"row_heading level0 row2\" >2</th>\n",
       "      <td id=\"T_e788f_row2_col0\" class=\"data row2 col0\" >2022-10-05 06:26:28</td>\n",
       "      <td id=\"T_e788f_row2_col1\" class=\"data row2 col1\" >92a2d8fd7144074f659d1d29dc3751da</td>\n",
       "      <td id=\"T_e788f_row2_col2\" class=\"data row2 col2\" >9f2d7394334eb224c061c9740b5748fc</td>\n",
       "      <td id=\"T_e788f_row2_col3\" class=\"data row2 col3\" >nan</td>\n",
       "      <td id=\"T_e788f_row2_col4\" class=\"data row2 col4\" >nan</td>\n",
       "      <td id=\"T_e788f_row2_col5\" class=\"data row2 col5\" >nan</td>\n",
       "      <td id=\"T_e788f_row2_col6\" class=\"data row2 col6\" >False</td>\n",
       "      <td id=\"T_e788f_row2_col7\" class=\"data row2 col7\" >False</td>\n",
       "      <td id=\"T_e788f_row2_col8\" class=\"data row2 col8\" >False</td>\n",
       "      <td id=\"T_e788f_row2_col9\" class=\"data row2 col9\" >É isso, nossa parte já foi quase toda feita. No segundo turno completamos nossa parte desse teatro. Essa é uma guerra de 4* geração na dimensão humana e uma guerra espiritual do bem contra o mal na dimensão do Universo. Pensamento positivo é fundamental, pensem sempre em algo bom. Deus continua nos abençoando, nosso livre arbítrio completa o curso.</td>\n",
       "      <td id=\"T_e788f_row2_col10\" class=\"data row2 col10\" >5</td>\n",
       "      <td id=\"T_e788f_row2_col11\" class=\"data row2 col11\" >2022-10-05 06:26:29.361949</td>\n",
       "      <td id=\"T_e788f_row2_col12\" class=\"data row2 col12\" >-0.355100</td>\n",
       "      <td id=\"T_e788f_row2_col13\" class=\"data row2 col13\" >0.157242</td>\n",
       "      <td id=\"T_e788f_row2_col14\" class=\"data row2 col14\" >16366</td>\n",
       "      <td id=\"T_e788f_row2_col15\" class=\"data row2 col15\" >Texto</td>\n",
       "      <td id=\"T_e788f_row2_col16\" class=\"data row2 col16\" >telegram</td>\n",
       "      <td id=\"T_e788f_row2_col17\" class=\"data row2 col17\" >nan</td>\n",
       "      <td id=\"T_e788f_row2_col18\" class=\"data row2 col18\" >nan</td>\n",
       "    </tr>\n",
       "    <tr>\n",
       "      <th id=\"T_e788f_level0_row3\" class=\"row_heading level0 row3\" >3</th>\n",
       "      <td id=\"T_e788f_row3_col0\" class=\"data row3 col0\" >2022-10-05 06:27:28</td>\n",
       "      <td id=\"T_e788f_row3_col1\" class=\"data row3 col1\" >d60aa38f62b4977426b70944af4aff72</td>\n",
       "      <td id=\"T_e788f_row3_col2\" class=\"data row3 col2\" >c8f2de56550ed0bf85249608b7ead93d</td>\n",
       "      <td id=\"T_e788f_row3_col3\" class=\"data row3 col3\" >94dca4cda503100ebfda7ce2bcc060eb.jpg</td>\n",
       "      <td id=\"T_e788f_row3_col4\" class=\"data row3 col4\" >image/jpg</td>\n",
       "      <td id=\"T_e788f_row3_col5\" class=\"data row3 col5\" >nan</td>\n",
       "      <td id=\"T_e788f_row3_col6\" class=\"data row3 col6\" >True</td>\n",
       "      <td id=\"T_e788f_row3_col7\" class=\"data row3 col7\" >False</td>\n",
       "      <td id=\"T_e788f_row3_col8\" class=\"data row3 col8\" >False</td>\n",
       "      <td id=\"T_e788f_row3_col9\" class=\"data row3 col9\" >GENTE ACHEI ELES EM UMA SEITA MAÇONÁRICA</td>\n",
       "      <td id=\"T_e788f_row3_col10\" class=\"data row3 col10\" >5</td>\n",
       "      <td id=\"T_e788f_row3_col11\" class=\"data row3 col11\" >2022-10-05 06:27:29.935624</td>\n",
       "      <td id=\"T_e788f_row3_col12\" class=\"data row3 col12\" >0.000000</td>\n",
       "      <td id=\"T_e788f_row3_col13\" class=\"data row3 col13\" >nan</td>\n",
       "      <td id=\"T_e788f_row3_col14\" class=\"data row3 col14\" >19281</td>\n",
       "      <td id=\"T_e788f_row3_col15\" class=\"data row3 col15\" >Imagem</td>\n",
       "      <td id=\"T_e788f_row3_col16\" class=\"data row3 col16\" >telegram</td>\n",
       "      <td id=\"T_e788f_row3_col17\" class=\"data row3 col17\" >nan</td>\n",
       "      <td id=\"T_e788f_row3_col18\" class=\"data row3 col18\" >94dca4cda503100ebfda7ce2bcc060eb</td>\n",
       "    </tr>\n",
       "    <tr>\n",
       "      <th id=\"T_e788f_level0_row4\" class=\"row_heading level0 row4\" >4</th>\n",
       "      <td id=\"T_e788f_row4_col0\" class=\"data row4 col0\" >2022-10-05 06:27:44</td>\n",
       "      <td id=\"T_e788f_row4_col1\" class=\"data row4 col1\" >cd6979b0b5265f08468fa1689b6300ce</td>\n",
       "      <td id=\"T_e788f_row4_col2\" class=\"data row4 col2\" >e56ec342fc599ebb4ed89655eb6f03aa</td>\n",
       "      <td id=\"T_e788f_row4_col3\" class=\"data row4 col3\" >5ad5c8bbe9da93a37fecf3e5aa5b0637.jpg</td>\n",
       "      <td id=\"T_e788f_row4_col4\" class=\"data row4 col4\" >image/jpg</td>\n",
       "      <td id=\"T_e788f_row4_col5\" class=\"data row4 col5\" >nan</td>\n",
       "      <td id=\"T_e788f_row4_col6\" class=\"data row4 col6\" >True</td>\n",
       "      <td id=\"T_e788f_row4_col7\" class=\"data row4 col7\" >False</td>\n",
       "      <td id=\"T_e788f_row4_col8\" class=\"data row4 col8\" >False</td>\n",
       "      <td id=\"T_e788f_row4_col9\" class=\"data row4 col9\" >nan</td>\n",
       "      <td id=\"T_e788f_row4_col10\" class=\"data row4 col10\" >5</td>\n",
       "      <td id=\"T_e788f_row4_col11\" class=\"data row4 col11\" >2022-10-05 06:28:29.316325</td>\n",
       "      <td id=\"T_e788f_row4_col12\" class=\"data row4 col12\" >nan</td>\n",
       "      <td id=\"T_e788f_row4_col13\" class=\"data row4 col13\" >nan</td>\n",
       "      <td id=\"T_e788f_row4_col14\" class=\"data row4 col14\" >507185</td>\n",
       "      <td id=\"T_e788f_row4_col15\" class=\"data row4 col15\" >Imagem</td>\n",
       "      <td id=\"T_e788f_row4_col16\" class=\"data row4 col16\" >telegram</td>\n",
       "      <td id=\"T_e788f_row4_col17\" class=\"data row4 col17\" >nan</td>\n",
       "      <td id=\"T_e788f_row4_col18\" class=\"data row4 col18\" >5ad5c8bbe9da93a37fecf3e5aa5b0637</td>\n",
       "    </tr>\n",
       "  </tbody>\n",
       "</table>\n"
      ],
      "text/plain": [
       "<pandas.io.formats.style.Styler at 0x21ed08b7a40>"
      ]
     },
     "metadata": {},
     "output_type": "display_data"
    },
    {
     "data": {
      "text/html": [
       "<style type=\"text/css\">\n",
       "#T_e0333_row0_col0, #T_e0333_row0_col1, #T_e0333_row0_col2, #T_e0333_row0_col3, #T_e0333_row0_col4, #T_e0333_row0_col5, #T_e0333_row0_col6, #T_e0333_row0_col7, #T_e0333_row0_col8, #T_e0333_row0_col9, #T_e0333_row0_col10, #T_e0333_row0_col11, #T_e0333_row0_col12, #T_e0333_row0_col13, #T_e0333_row0_col14, #T_e0333_row0_col15, #T_e0333_row0_col16, #T_e0333_row0_col17, #T_e0333_row0_col18, #T_e0333_row1_col0, #T_e0333_row1_col1, #T_e0333_row1_col2, #T_e0333_row1_col3, #T_e0333_row1_col4, #T_e0333_row1_col5, #T_e0333_row1_col6, #T_e0333_row1_col7, #T_e0333_row1_col8, #T_e0333_row1_col9, #T_e0333_row1_col10, #T_e0333_row1_col11, #T_e0333_row1_col12, #T_e0333_row1_col13, #T_e0333_row1_col14, #T_e0333_row1_col15, #T_e0333_row1_col16, #T_e0333_row1_col17, #T_e0333_row1_col18, #T_e0333_row2_col0, #T_e0333_row2_col1, #T_e0333_row2_col2, #T_e0333_row2_col3, #T_e0333_row2_col4, #T_e0333_row2_col5, #T_e0333_row2_col6, #T_e0333_row2_col7, #T_e0333_row2_col8, #T_e0333_row2_col9, #T_e0333_row2_col10, #T_e0333_row2_col11, #T_e0333_row2_col12, #T_e0333_row2_col13, #T_e0333_row2_col14, #T_e0333_row2_col15, #T_e0333_row2_col16, #T_e0333_row2_col17, #T_e0333_row2_col18, #T_e0333_row3_col0, #T_e0333_row3_col1, #T_e0333_row3_col2, #T_e0333_row3_col3, #T_e0333_row3_col4, #T_e0333_row3_col5, #T_e0333_row3_col6, #T_e0333_row3_col7, #T_e0333_row3_col8, #T_e0333_row3_col9, #T_e0333_row3_col10, #T_e0333_row3_col11, #T_e0333_row3_col12, #T_e0333_row3_col13, #T_e0333_row3_col14, #T_e0333_row3_col15, #T_e0333_row3_col16, #T_e0333_row3_col17, #T_e0333_row3_col18, #T_e0333_row4_col0, #T_e0333_row4_col1, #T_e0333_row4_col2, #T_e0333_row4_col3, #T_e0333_row4_col4, #T_e0333_row4_col5, #T_e0333_row4_col6, #T_e0333_row4_col7, #T_e0333_row4_col8, #T_e0333_row4_col9, #T_e0333_row4_col10, #T_e0333_row4_col11, #T_e0333_row4_col12, #T_e0333_row4_col13, #T_e0333_row4_col14, #T_e0333_row4_col15, #T_e0333_row4_col16, #T_e0333_row4_col17, #T_e0333_row4_col18 {\n",
       "  background-color: #f8f9fa;\n",
       "  border: 1px solid #dee2e6;\n",
       "  color: #212529;\n",
       "  max-width: 300px;\n",
       "  overflow: hidden;\n",
       "  text-overflow: ellipsis;\n",
       "  white-space: nowrap;\n",
       "}\n",
       "</style>\n",
       "<table id=\"T_e0333\">\n",
       "  <caption>Últimos Registros</caption>\n",
       "  <thead>\n",
       "    <tr>\n",
       "      <th class=\"blank level0\" >&nbsp;</th>\n",
       "      <th id=\"T_e0333_level0_col0\" class=\"col_heading level0 col0\" >date_message</th>\n",
       "      <th id=\"T_e0333_level0_col1\" class=\"col_heading level0 col1\" >id_member_anonymous</th>\n",
       "      <th id=\"T_e0333_level0_col2\" class=\"col_heading level0 col2\" >id_group_anonymous</th>\n",
       "      <th id=\"T_e0333_level0_col3\" class=\"col_heading level0 col3\" >media</th>\n",
       "      <th id=\"T_e0333_level0_col4\" class=\"col_heading level0 col4\" >media_type</th>\n",
       "      <th id=\"T_e0333_level0_col5\" class=\"col_heading level0 col5\" >media_url</th>\n",
       "      <th id=\"T_e0333_level0_col6\" class=\"col_heading level0 col6\" >has_media</th>\n",
       "      <th id=\"T_e0333_level0_col7\" class=\"col_heading level0 col7\" >has_media_url</th>\n",
       "      <th id=\"T_e0333_level0_col8\" class=\"col_heading level0 col8\" >trava_zap</th>\n",
       "      <th id=\"T_e0333_level0_col9\" class=\"col_heading level0 col9\" >text_content_anonymous</th>\n",
       "      <th id=\"T_e0333_level0_col10\" class=\"col_heading level0 col10\" >dataset_info_id</th>\n",
       "      <th id=\"T_e0333_level0_col11\" class=\"col_heading level0 col11\" >date_system</th>\n",
       "      <th id=\"T_e0333_level0_col12\" class=\"col_heading level0 col12\" >score_sentiment</th>\n",
       "      <th id=\"T_e0333_level0_col13\" class=\"col_heading level0 col13\" >score_misinformation</th>\n",
       "      <th id=\"T_e0333_level0_col14\" class=\"col_heading level0 col14\" >id_message</th>\n",
       "      <th id=\"T_e0333_level0_col15\" class=\"col_heading level0 col15\" >message_type</th>\n",
       "      <th id=\"T_e0333_level0_col16\" class=\"col_heading level0 col16\" >messenger</th>\n",
       "      <th id=\"T_e0333_level0_col17\" class=\"col_heading level0 col17\" >media_name</th>\n",
       "      <th id=\"T_e0333_level0_col18\" class=\"col_heading level0 col18\" >media_md5</th>\n",
       "    </tr>\n",
       "  </thead>\n",
       "  <tbody>\n",
       "    <tr>\n",
       "      <th id=\"T_e0333_level0_row0\" class=\"row_heading level0 row0\" >557581</th>\n",
       "      <td id=\"T_e0333_row0_col0\" class=\"data row0 col0\" >2022-11-11 12:06:15</td>\n",
       "      <td id=\"T_e0333_row0_col1\" class=\"data row0 col1\" >333e9869f23dbd4682d1be382d9c1e59</td>\n",
       "      <td id=\"T_e0333_row0_col2\" class=\"data row0 col2\" >e56ec342fc599ebb4ed89655eb6f03aa</td>\n",
       "      <td id=\"T_e0333_row0_col3\" class=\"data row0 col3\" >25e43b6a58b848c43ad5b5f9e979822a.jpg</td>\n",
       "      <td id=\"T_e0333_row0_col4\" class=\"data row0 col4\" >url</td>\n",
       "      <td id=\"T_e0333_row0_col5\" class=\"data row0 col5\" >https://terrabrasilnoticias.com/2022/11/bndes-tem-lucro-de-r-96-bilhoes-no-terceiro-trimestre/</td>\n",
       "      <td id=\"T_e0333_row0_col6\" class=\"data row0 col6\" >True</td>\n",
       "      <td id=\"T_e0333_row0_col7\" class=\"data row0 col7\" >True</td>\n",
       "      <td id=\"T_e0333_row0_col8\" class=\"data row0 col8\" >False</td>\n",
       "      <td id=\"T_e0333_row0_col9\" class=\"data row0 col9\" >BNDES tem lucro de R$ 9,6 bilhões no terceiro trimestre ☛ https://terrabrasilnoticias.com/2022/11/bndes-tem-lucro-de-r-96-bilhoes-no-terceiro-trimestre/</td>\n",
       "      <td id=\"T_e0333_row0_col10\" class=\"data row0 col10\" >5</td>\n",
       "      <td id=\"T_e0333_row0_col11\" class=\"data row0 col11\" >2022-11-16 14:49:39.146502</td>\n",
       "      <td id=\"T_e0333_row0_col12\" class=\"data row0 col12\" >0.102700</td>\n",
       "      <td id=\"T_e0333_row0_col13\" class=\"data row0 col13\" >nan</td>\n",
       "      <td id=\"T_e0333_row0_col14\" class=\"data row0 col14\" >575796</td>\n",
       "      <td id=\"T_e0333_row0_col15\" class=\"data row0 col15\" >Url</td>\n",
       "      <td id=\"T_e0333_row0_col16\" class=\"data row0 col16\" >telegram</td>\n",
       "      <td id=\"T_e0333_row0_col17\" class=\"data row0 col17\" >nan</td>\n",
       "      <td id=\"T_e0333_row0_col18\" class=\"data row0 col18\" >25e43b6a58b848c43ad5b5f9e979822a</td>\n",
       "    </tr>\n",
       "    <tr>\n",
       "      <th id=\"T_e0333_level0_row1\" class=\"row_heading level0 row1\" >557582</th>\n",
       "      <td id=\"T_e0333_row1_col0\" class=\"data row1 col0\" >2022-11-11 12:09:08</td>\n",
       "      <td id=\"T_e0333_row1_col1\" class=\"data row1 col1\" >nan</td>\n",
       "      <td id=\"T_e0333_row1_col2\" class=\"data row1 col2\" >5b10d7739171149be6d9961e3350c071</td>\n",
       "      <td id=\"T_e0333_row1_col3\" class=\"data row1 col3\" >657949d03e4088f6b332e2686ccd3221.jpg</td>\n",
       "      <td id=\"T_e0333_row1_col4\" class=\"data row1 col4\" >url</td>\n",
       "      <td id=\"T_e0333_row1_col5\" class=\"data row1 col5\" >https://youtu.be/8g1Vz9_0xVk</td>\n",
       "      <td id=\"T_e0333_row1_col6\" class=\"data row1 col6\" >True</td>\n",
       "      <td id=\"T_e0333_row1_col7\" class=\"data row1 col7\" >True</td>\n",
       "      <td id=\"T_e0333_row1_col8\" class=\"data row1 col8\" >False</td>\n",
       "      <td id=\"T_e0333_row1_col9\" class=\"data row1 col9\" >https://youtu.be/8g1Vz9_0xVk</td>\n",
       "      <td id=\"T_e0333_row1_col10\" class=\"data row1 col10\" >5</td>\n",
       "      <td id=\"T_e0333_row1_col11\" class=\"data row1 col11\" >2022-11-16 14:49:39.847434</td>\n",
       "      <td id=\"T_e0333_row1_col12\" class=\"data row1 col12\" >0.000000</td>\n",
       "      <td id=\"T_e0333_row1_col13\" class=\"data row1 col13\" >nan</td>\n",
       "      <td id=\"T_e0333_row1_col14\" class=\"data row1 col14\" >1286443</td>\n",
       "      <td id=\"T_e0333_row1_col15\" class=\"data row1 col15\" >Url</td>\n",
       "      <td id=\"T_e0333_row1_col16\" class=\"data row1 col16\" >telegram</td>\n",
       "      <td id=\"T_e0333_row1_col17\" class=\"data row1 col17\" >nan</td>\n",
       "      <td id=\"T_e0333_row1_col18\" class=\"data row1 col18\" >657949d03e4088f6b332e2686ccd3221</td>\n",
       "    </tr>\n",
       "    <tr>\n",
       "      <th id=\"T_e0333_level0_row2\" class=\"row_heading level0 row2\" >557583</th>\n",
       "      <td id=\"T_e0333_row2_col0\" class=\"data row2 col0\" >2022-11-11 12:09:47</td>\n",
       "      <td id=\"T_e0333_row2_col1\" class=\"data row2 col1\" >nan</td>\n",
       "      <td id=\"T_e0333_row2_col2\" class=\"data row2 col2\" >1590a03f43b5ba4b6147a1c5e1dd357b</td>\n",
       "      <td id=\"T_e0333_row2_col3\" class=\"data row2 col3\" >a21848a61045380a6483866daed0ca0e.jpg</td>\n",
       "      <td id=\"T_e0333_row2_col4\" class=\"data row2 col4\" >image/jpg</td>\n",
       "      <td id=\"T_e0333_row2_col5\" class=\"data row2 col5\" >https://t.me/vemprasruas</td>\n",
       "      <td id=\"T_e0333_row2_col6\" class=\"data row2 col6\" >True</td>\n",
       "      <td id=\"T_e0333_row2_col7\" class=\"data row2 col7\" >True</td>\n",
       "      <td id=\"T_e0333_row2_col8\" class=\"data row2 col8\" >False</td>\n",
       "      <td id=\"T_e0333_row2_col9\" class=\"data row2 col9\" >Empresários, demitam os petistas primeiro.\n",
       "\n",
       "https://t.me/vemprasruas</td>\n",
       "      <td id=\"T_e0333_row2_col10\" class=\"data row2 col10\" >5</td>\n",
       "      <td id=\"T_e0333_row2_col11\" class=\"data row2 col11\" >2022-11-16 14:49:39.922279</td>\n",
       "      <td id=\"T_e0333_row2_col12\" class=\"data row2 col12\" >0.000000</td>\n",
       "      <td id=\"T_e0333_row2_col13\" class=\"data row2 col13\" >nan</td>\n",
       "      <td id=\"T_e0333_row2_col14\" class=\"data row2 col14\" >13294</td>\n",
       "      <td id=\"T_e0333_row2_col15\" class=\"data row2 col15\" >Imagem</td>\n",
       "      <td id=\"T_e0333_row2_col16\" class=\"data row2 col16\" >telegram</td>\n",
       "      <td id=\"T_e0333_row2_col17\" class=\"data row2 col17\" >nan</td>\n",
       "      <td id=\"T_e0333_row2_col18\" class=\"data row2 col18\" >a21848a61045380a6483866daed0ca0e</td>\n",
       "    </tr>\n",
       "    <tr>\n",
       "      <th id=\"T_e0333_level0_row3\" class=\"row_heading level0 row3\" >557584</th>\n",
       "      <td id=\"T_e0333_row3_col0\" class=\"data row3 col0\" >2022-11-11 12:09:46</td>\n",
       "      <td id=\"T_e0333_row3_col1\" class=\"data row3 col1\" >nan</td>\n",
       "      <td id=\"T_e0333_row3_col2\" class=\"data row3 col2\" >5b10d7739171149be6d9961e3350c071</td>\n",
       "      <td id=\"T_e0333_row3_col3\" class=\"data row3 col3\" >a21848a61045380a6483866daed0ca0e.jpg</td>\n",
       "      <td id=\"T_e0333_row3_col4\" class=\"data row3 col4\" >image/jpg</td>\n",
       "      <td id=\"T_e0333_row3_col5\" class=\"data row3 col5\" >https://t.me/vemprasruas</td>\n",
       "      <td id=\"T_e0333_row3_col6\" class=\"data row3 col6\" >True</td>\n",
       "      <td id=\"T_e0333_row3_col7\" class=\"data row3 col7\" >True</td>\n",
       "      <td id=\"T_e0333_row3_col8\" class=\"data row3 col8\" >False</td>\n",
       "      <td id=\"T_e0333_row3_col9\" class=\"data row3 col9\" >Empresários, demitam os petistas primeiro.\n",
       "\n",
       "https://t.me/vemprasruas</td>\n",
       "      <td id=\"T_e0333_row3_col10\" class=\"data row3 col10\" >5</td>\n",
       "      <td id=\"T_e0333_row3_col11\" class=\"data row3 col11\" >2022-11-16 14:49:39.992932</td>\n",
       "      <td id=\"T_e0333_row3_col12\" class=\"data row3 col12\" >0.000000</td>\n",
       "      <td id=\"T_e0333_row3_col13\" class=\"data row3 col13\" >nan</td>\n",
       "      <td id=\"T_e0333_row3_col14\" class=\"data row3 col14\" >1286444</td>\n",
       "      <td id=\"T_e0333_row3_col15\" class=\"data row3 col15\" >Imagem</td>\n",
       "      <td id=\"T_e0333_row3_col16\" class=\"data row3 col16\" >telegram</td>\n",
       "      <td id=\"T_e0333_row3_col17\" class=\"data row3 col17\" >nan</td>\n",
       "      <td id=\"T_e0333_row3_col18\" class=\"data row3 col18\" >a21848a61045380a6483866daed0ca0e</td>\n",
       "    </tr>\n",
       "    <tr>\n",
       "      <th id=\"T_e0333_level0_row4\" class=\"row_heading level0 row4\" >557585</th>\n",
       "      <td id=\"T_e0333_row4_col0\" class=\"data row4 col0\" >2022-11-11 12:09:48</td>\n",
       "      <td id=\"T_e0333_row4_col1\" class=\"data row4 col1\" >nan</td>\n",
       "      <td id=\"T_e0333_row4_col2\" class=\"data row4 col2\" >b11f2df64ac19aad47a50accf32052d6</td>\n",
       "      <td id=\"T_e0333_row4_col3\" class=\"data row4 col3\" >a21848a61045380a6483866daed0ca0e.jpg</td>\n",
       "      <td id=\"T_e0333_row4_col4\" class=\"data row4 col4\" >image/jpg</td>\n",
       "      <td id=\"T_e0333_row4_col5\" class=\"data row4 col5\" >https://t.me/vemprasruas</td>\n",
       "      <td id=\"T_e0333_row4_col6\" class=\"data row4 col6\" >True</td>\n",
       "      <td id=\"T_e0333_row4_col7\" class=\"data row4 col7\" >True</td>\n",
       "      <td id=\"T_e0333_row4_col8\" class=\"data row4 col8\" >False</td>\n",
       "      <td id=\"T_e0333_row4_col9\" class=\"data row4 col9\" >Empresários, demitam os petistas primeiro.\n",
       "\n",
       "https://t.me/vemprasruas</td>\n",
       "      <td id=\"T_e0333_row4_col10\" class=\"data row4 col10\" >5</td>\n",
       "      <td id=\"T_e0333_row4_col11\" class=\"data row4 col11\" >2022-11-16 14:49:40.064006</td>\n",
       "      <td id=\"T_e0333_row4_col12\" class=\"data row4 col12\" >0.000000</td>\n",
       "      <td id=\"T_e0333_row4_col13\" class=\"data row4 col13\" >nan</td>\n",
       "      <td id=\"T_e0333_row4_col14\" class=\"data row4 col14\" >192127</td>\n",
       "      <td id=\"T_e0333_row4_col15\" class=\"data row4 col15\" >Imagem</td>\n",
       "      <td id=\"T_e0333_row4_col16\" class=\"data row4 col16\" >telegram</td>\n",
       "      <td id=\"T_e0333_row4_col17\" class=\"data row4 col17\" >nan</td>\n",
       "      <td id=\"T_e0333_row4_col18\" class=\"data row4 col18\" >a21848a61045380a6483866daed0ca0e</td>\n",
       "    </tr>\n",
       "  </tbody>\n",
       "</table>\n"
      ],
      "text/plain": [
       "<pandas.io.formats.style.Styler at 0x21ed1f81010>"
      ]
     },
     "metadata": {},
     "output_type": "display_data"
    }
   ],
   "source": [
    "# VISUALIZANDO AMOSTRAS INICIAIS E FINAIS DO DATASET\n",
    "display(df_inicial.head().style.set_caption(\"Primeiros Registros\").set_properties(**{\n",
    "    'background-color': '#f8f9fa',\n",
    "    'border': '1px solid #dee2e6',\n",
    "    'color': '#212529',\n",
    "    'max-width': '300px',\n",
    "    'overflow': 'hidden',\n",
    "    'text-overflow': 'ellipsis',\n",
    "    'white-space': 'nowrap'\n",
    "}))\n",
    "\n",
    "display(df_inicial.tail().style.set_caption(\"Últimos Registros\").set_properties(**{\n",
    "    'background-color': '#f8f9fa',\n",
    "    'border': '1px solid #dee2e6',\n",
    "    'color': '#212529',\n",
    "    'max-width': '300px',\n",
    "    'overflow': 'hidden',\n",
    "    'text-overflow': 'ellipsis',\n",
    "    'white-space': 'nowrap'\n",
    "}))"
   ]
  },
  {
   "cell_type": "markdown",
   "id": "f33fd9f6",
   "metadata": {},
   "source": [
    "---"
   ]
  },
  {
   "cell_type": "markdown",
   "id": "88dda68d",
   "metadata": {},
   "source": [
    "### **(b)** Remova os trava-zaps."
   ]
  },
  {
   "cell_type": "markdown",
   "id": "f82ed3ea",
   "metadata": {},
   "source": [
    "Este item será resolvido através da manipulação da coluna `trava_zap`, previamente identificada na análise inicial. A estratégia adotada considera o tamanho do dataset (557.586 registros) e segue um fluxo estruturado:\n",
    "\n",
    "1. **Análise Preliminar**\n",
    "    - Verificação do tipo de dado (dtype) e valores únicos na coluna `trava_zap`\n",
    "    - Confirmação da proporção True/False/NaN (se aplicável)"
   ]
  },
  {
   "cell_type": "code",
   "execution_count": 6,
   "id": "4ff80fbd",
   "metadata": {},
   "outputs": [
    {
     "name": "stdout",
     "output_type": "stream",
     "text": [
      "Tipo de dado: bool\n"
     ]
    },
    {
     "data": {
      "text/html": [
       "<style type=\"text/css\">\n",
       "</style>\n",
       "<table id=\"T_250dd\">\n",
       "  <caption>Contagem de valores distintos em trava_zap</caption>\n",
       "  <thead>\n",
       "    <tr>\n",
       "      <th class=\"blank level0\" >&nbsp;</th>\n",
       "      <th id=\"T_250dd_level0_col0\" class=\"col_heading level0 col0\" >count</th>\n",
       "    </tr>\n",
       "    <tr>\n",
       "      <th class=\"index_name level0\" >trava_zap</th>\n",
       "      <th class=\"blank col0\" >&nbsp;</th>\n",
       "    </tr>\n",
       "  </thead>\n",
       "  <tbody>\n",
       "    <tr>\n",
       "      <th id=\"T_250dd_level0_row0\" class=\"row_heading level0 row0\" >False</th>\n",
       "      <td id=\"T_250dd_row0_col0\" class=\"data row0 col0\" >557570</td>\n",
       "    </tr>\n",
       "    <tr>\n",
       "      <th id=\"T_250dd_level0_row1\" class=\"row_heading level0 row1\" >True</th>\n",
       "      <td id=\"T_250dd_row1_col0\" class=\"data row1 col0\" >16</td>\n",
       "    </tr>\n",
       "  </tbody>\n",
       "</table>\n"
      ],
      "text/plain": [
       "<pandas.io.formats.style.Styler at 0x21ecf2c6180>"
      ]
     },
     "metadata": {},
     "output_type": "display_data"
    },
    {
     "name": "stdout",
     "output_type": "stream",
     "text": [
      "Registros com trava_zap que precisam ser removidos: 16\n"
     ]
    }
   ],
   "source": [
    "# ANÁLISE PRELIMINAR\n",
    "# Verificação do tipo e valores únicos\n",
    "print(f\"Tipo de dado: {df_inicial['trava_zap'].dtype}\")\n",
    "trava_dist = df_inicial['trava_zap'].value_counts(dropna=False)\n",
    "display(trava_dist.to_frame().style.set_caption(\"Contagem de valores distintos em trava_zap\"))\n",
    "\n",
    "# Verificação de linhas que devem ser removidas\n",
    "print(f\"Registros com trava_zap que precisam ser removidos: {trava_dist.get(True, 0):,}\")"
   ]
  },
  {
   "cell_type": "markdown",
   "id": "90a96217",
   "metadata": {},
   "source": [
    "2. **Processamento por Chunks**\n",
    "    - Divisão do dataset em blocos de 1.000 linhas para:\n",
    "        - Otimização de memória\n",
    "        - Facilidade de debug\n",
    "        - Monitoramento do progresso"
   ]
  },
  {
   "cell_type": "code",
   "execution_count": 7,
   "id": "46fdaca9",
   "metadata": {},
   "outputs": [],
   "source": [
    "import numpy as np"
   ]
  },
  {
   "cell_type": "code",
   "execution_count": 8,
   "id": "8fd1f52c",
   "metadata": {},
   "outputs": [
    {
     "name": "stdout",
     "output_type": "stream",
     "text": [
      "\u001b[1mProcessando 558 chunks de 1000 registros cada:\u001b[0m\n"
     ]
    },
    {
     "name": "stderr",
     "output_type": "stream",
     "text": [
      "c:\\Users\\esthe\\AppData\\Local\\Programs\\Python\\Python312\\Lib\\site-packages\\numpy\\core\\fromnumeric.py:59: FutureWarning: 'DataFrame.swapaxes' is deprecated and will be removed in a future version. Please use 'DataFrame.transpose' instead.\n",
      "  return bound(*args, **kwds)\n"
     ]
    },
    {
     "name": "stdout",
     "output_type": "stream",
     "text": [
      "Processado chunk 10/558 | Registros retidos: 10,000\n",
      "Processado chunk 20/558 | Registros retidos: 20,000\n",
      "Processado chunk 30/558 | Registros retidos: 29,999\n",
      "Processado chunk 40/558 | Registros retidos: 39,999\n",
      "Processado chunk 50/558 | Registros retidos: 49,999\n",
      "Processado chunk 60/558 | Registros retidos: 59,999\n",
      "Processado chunk 70/558 | Registros retidos: 69,999\n",
      "Processado chunk 80/558 | Registros retidos: 79,999\n",
      "Processado chunk 90/558 | Registros retidos: 89,998\n",
      "Processado chunk 100/558 | Registros retidos: 99,998\n",
      "Processado chunk 110/558 | Registros retidos: 109,998\n",
      "Processado chunk 120/558 | Registros retidos: 119,998\n",
      "Processado chunk 130/558 | Registros retidos: 129,998\n",
      "Processado chunk 140/558 | Registros retidos: 139,998\n",
      "Processado chunk 150/558 | Registros retidos: 149,992\n",
      "Processado chunk 160/558 | Registros retidos: 159,982\n",
      "Processado chunk 170/558 | Registros retidos: 169,972\n",
      "Processado chunk 180/558 | Registros retidos: 179,962\n",
      "Processado chunk 190/558 | Registros retidos: 189,952\n",
      "Processado chunk 200/558 | Registros retidos: 199,942\n",
      "Processado chunk 210/558 | Registros retidos: 209,932\n",
      "Processado chunk 220/558 | Registros retidos: 219,922\n",
      "Processado chunk 230/558 | Registros retidos: 229,912\n",
      "Processado chunk 240/558 | Registros retidos: 239,902\n",
      "Processado chunk 250/558 | Registros retidos: 249,892\n",
      "Processado chunk 260/558 | Registros retidos: 259,882\n",
      "Processado chunk 270/558 | Registros retidos: 269,872\n",
      "Processado chunk 280/558 | Registros retidos: 279,862\n",
      "Processado chunk 290/558 | Registros retidos: 289,852\n",
      "Processado chunk 300/558 | Registros retidos: 299,841\n",
      "Processado chunk 310/558 | Registros retidos: 309,831\n",
      "Processado chunk 320/558 | Registros retidos: 319,821\n",
      "Processado chunk 330/558 | Registros retidos: 329,810\n",
      "Processado chunk 340/558 | Registros retidos: 339,800\n",
      "Processado chunk 350/558 | Registros retidos: 349,790\n",
      "Processado chunk 360/558 | Registros retidos: 359,780\n",
      "Processado chunk 370/558 | Registros retidos: 369,770\n",
      "Processado chunk 380/558 | Registros retidos: 379,760\n",
      "Processado chunk 390/558 | Registros retidos: 389,749\n",
      "Processado chunk 400/558 | Registros retidos: 399,739\n",
      "Processado chunk 410/558 | Registros retidos: 409,729\n",
      "Processado chunk 420/558 | Registros retidos: 419,719\n",
      "Processado chunk 430/558 | Registros retidos: 429,708\n",
      "Processado chunk 440/558 | Registros retidos: 439,698\n",
      "Processado chunk 450/558 | Registros retidos: 449,688\n",
      "Processado chunk 460/558 | Registros retidos: 459,678\n",
      "Processado chunk 470/558 | Registros retidos: 469,666\n",
      "Processado chunk 480/558 | Registros retidos: 479,654\n",
      "Processado chunk 490/558 | Registros retidos: 489,643\n",
      "Processado chunk 500/558 | Registros retidos: 499,628\n",
      "Processado chunk 510/558 | Registros retidos: 509,618\n",
      "Processado chunk 520/558 | Registros retidos: 519,608\n",
      "Processado chunk 530/558 | Registros retidos: 529,598\n",
      "Processado chunk 540/558 | Registros retidos: 539,588\n",
      "Processado chunk 550/558 | Registros retidos: 549,578\n"
     ]
    }
   ],
   "source": [
    "# Parâmetros do chunk -- 1000 linhas \n",
    "CHUNK_SIZE = 1000\n",
    "total_chunks = (len(df_inicial) // CHUNK_SIZE) + 1\n",
    "df_sem_trava_zap = pd.DataFrame() # Criação de DataFrame Seguro para controle de variáveis.\n",
    "\n",
    "print(f\"\\033[1mProcessando {total_chunks} chunks de {CHUNK_SIZE} registros cada:\\033[0m\")\n",
    "\n",
    "for i, chunk in enumerate(np.array_split(df_inicial, total_chunks)):\n",
    "    # Filtro principal -- linhas que possuem trava zap, isto é, trava_zap = True\n",
    "    chunk_filtrado = chunk[chunk['trava_zap'] != True]\n",
    "    \n",
    "    # Concatenção segura -- recebendo apenas os blocos onde trava_zap = False\n",
    "    df_sem_trava_zap = pd.concat([df_sem_trava_zap, chunk_filtrado], ignore_index=True)\n",
    "    \n",
    "    # Log de progresso para controle da análise\n",
    "    if (i+1) % 10 == 0:\n",
    "        print(f\"Processado chunk {i+1}/{total_chunks} | Registros retidos: {len(df_sem_trava_zap):,}\")"
   ]
  },
  {
   "cell_type": "markdown",
   "id": "cb040578",
   "metadata": {},
   "source": [
    "4. **Saída Controlada**\n",
    "    - Relatório pós-processamento mostrará:\n",
    "        - Número total de linhas removidas\n",
    "        - Porcentagem impactada\n",
    "        - Amostra das primeiras 5 linhas removidas (se relevante)"
   ]
  },
  {
   "cell_type": "code",
   "execution_count": 9,
   "id": "2af73d09",
   "metadata": {},
   "outputs": [
    {
     "name": "stdout",
     "output_type": "stream",
     "text": [
      "\u001b[1mRelatório de Remoção:\u001b[0m\n",
      "• Registros originais: 557,586\n",
      "• Registros removidos: 16\n",
      "• Registros restantes: 557,570\n"
     ]
    },
    {
     "data": {
      "application/vnd.microsoft.datawrangler.viewer.v0+json": {
       "columns": [
        {
         "name": "index",
         "rawType": "int64",
         "type": "integer"
        },
        {
         "name": "date_message",
         "rawType": "object",
         "type": "string"
        },
        {
         "name": "id_member_anonymous",
         "rawType": "object",
         "type": "unknown"
        },
        {
         "name": "id_group_anonymous",
         "rawType": "object",
         "type": "string"
        },
        {
         "name": "media",
         "rawType": "object",
         "type": "unknown"
        },
        {
         "name": "media_type",
         "rawType": "object",
         "type": "unknown"
        },
        {
         "name": "media_url",
         "rawType": "object",
         "type": "unknown"
        },
        {
         "name": "has_media",
         "rawType": "bool",
         "type": "boolean"
        },
        {
         "name": "has_media_url",
         "rawType": "bool",
         "type": "boolean"
        },
        {
         "name": "trava_zap",
         "rawType": "bool",
         "type": "boolean"
        },
        {
         "name": "text_content_anonymous",
         "rawType": "object",
         "type": "unknown"
        },
        {
         "name": "dataset_info_id",
         "rawType": "int64",
         "type": "integer"
        },
        {
         "name": "date_system",
         "rawType": "object",
         "type": "string"
        },
        {
         "name": "score_sentiment",
         "rawType": "float64",
         "type": "float"
        },
        {
         "name": "score_misinformation",
         "rawType": "float64",
         "type": "float"
        },
        {
         "name": "id_message",
         "rawType": "int64",
         "type": "integer"
        },
        {
         "name": "message_type",
         "rawType": "object",
         "type": "string"
        },
        {
         "name": "messenger",
         "rawType": "object",
         "type": "string"
        },
        {
         "name": "media_name",
         "rawType": "object",
         "type": "unknown"
        },
        {
         "name": "media_md5",
         "rawType": "object",
         "type": "unknown"
        }
       ],
       "conversionMethod": "pd.DataFrame",
       "ref": "59f27733-4410-4711-bf76-9d6e1a8a201f",
       "rows": [
        [
         "21944",
         "2022-10-07 07:46:52",
         null,
         "c712c1b704c22bd0cef50bc06125cdbd",
         null,
         null,
         null,
         "False",
         "False",
         "True",
         null,
         "5",
         "2022-10-07 07:47:00.355052",
         "0.0",
         "0.0673443875506272",
         "53260",
         "Texto",
         "telegram",
         null,
         null
        ],
        [
         "89109",
         "2022-10-16 00:45:02",
         "8a30ac374bc4b5930eaf0667a178546a",
         "e56ec342fc599ebb4ed89655eb6f03aa",
         null,
         null,
         null,
         "False",
         "False",
         "True",
         null,
         "5",
         "2022-10-16 00:45:04.064662",
         "0.0",
         "0.0566984914818194",
         "521324",
         "Texto",
         "telegram",
         null,
         null
        ],
        [
         "294541",
         "2022-10-04 14:22:47",
         "39ee10516124280a22f1798f2a41f9a7",
         "959f13e0079883060632c74ffc81c547",
         null,
         null,
         null,
         "False",
         "False",
         "True",
         null,
         "5",
         "2022-10-04 14:22:48.808572",
         "0.9734",
         "0.0104332864074612",
         "27241",
         "Texto",
         "telegram",
         null,
         null
        ],
        [
         "324567",
         "2022-10-25 14:55:55",
         "e003fbb6ffedb1838e42360d41cab314",
         "5b10d7739171149be6d9961e3350c071",
         null,
         null,
         null,
         "False",
         "False",
         "True",
         null,
         "5",
         "2022-10-25 14:56:11.604972",
         "0.946",
         "0.4039453952841913",
         "1182938",
         "Texto",
         "telegram",
         null,
         null
        ],
        [
         "389164",
         "2022-10-30 20:19:52",
         null,
         "c8f2de56550ed0bf85249608b7ead93d",
         null,
         null,
         null,
         "False",
         "False",
         "True",
         null,
         "5",
         "2022-10-30 20:19:54.183578",
         "0.0",
         null,
         "28330",
         "Texto",
         "telegram",
         null,
         null
        ],
        [
         "423083",
         "2022-11-03 00:40:23",
         null,
         "4d3712f5a117e36180d4b4cbd07c540e",
         null,
         null,
         null,
         "False",
         "False",
         "True",
         null,
         "5",
         "2022-11-03 00:40:48.993091",
         "0.0",
         "0.0670261132372049",
         "171104",
         "Texto",
         "telegram",
         null,
         null
        ],
        [
         "466735",
         "2022-11-07 20:47:35",
         "4a498818da925377eff2606a260cfa45",
         "f61777908059b318385882ff47b15c33",
         null,
         null,
         null,
         "False",
         "False",
         "True",
         null,
         "5",
         "2022-11-07 20:48:16.653321",
         "0.0",
         "0.0361731638514227",
         "88890",
         "Texto",
         "telegram",
         null,
         null
        ],
        [
         "467297",
         "2022-11-08 10:07:14",
         "4a498818da925377eff2606a260cfa45",
         "f61777908059b318385882ff47b15c33",
         null,
         null,
         null,
         "False",
         "False",
         "True",
         null,
         "5",
         "2022-11-08 10:07:25.260375",
         "0.0",
         "0.0726366073020412",
         "88977",
         "Texto",
         "telegram",
         null,
         null
        ],
        [
         "471273",
         "2022-11-08 20:37:52",
         "4a498818da925377eff2606a260cfa45",
         "f61777908059b318385882ff47b15c33",
         null,
         null,
         null,
         "False",
         "False",
         "True",
         null,
         "5",
         "2022-11-08 20:38:02.773746",
         "0.0",
         "0.0319726092884596",
         "89039",
         "Texto",
         "telegram",
         null,
         null
        ],
        [
         "478270",
         "2022-11-09 19:50:12",
         "4a498818da925377eff2606a260cfa45",
         "f61777908059b318385882ff47b15c33",
         null,
         null,
         null,
         "False",
         "False",
         "True",
         null,
         "5",
         "2022-11-09 19:50:36.039894",
         "0.0",
         "0.029650851225105",
         "89212",
         "Texto",
         "telegram",
         null,
         null
        ],
        [
         "483425",
         "2022-11-10 02:28:43",
         "4a498818da925377eff2606a260cfa45",
         "f61777908059b318385882ff47b15c33",
         null,
         null,
         null,
         "False",
         "False",
         "True",
         null,
         "5",
         "2022-11-10 02:28:52.927707",
         "0.0",
         "0.0699282385550075",
         "89295",
         "Texto",
         "telegram",
         null,
         null
        ],
        [
         "489757",
         "2022-11-10 20:55:00",
         "4a498818da925377eff2606a260cfa45",
         "f61777908059b318385882ff47b15c33",
         null,
         null,
         null,
         "False",
         "False",
         "True",
         null,
         "5",
         "2022-11-10 20:55:14.406143",
         "0.0",
         "0.2231615977977298",
         "89499",
         "Texto",
         "telegram",
         null,
         null
        ],
        [
         "489758",
         "2022-11-10 20:55:01",
         "4a498818da925377eff2606a260cfa45",
         "f61777908059b318385882ff47b15c33",
         null,
         null,
         null,
         "False",
         "False",
         "True",
         null,
         "5",
         "2022-11-10 20:55:14.483805",
         "0.0",
         null,
         "89500",
         "Texto",
         "telegram",
         null,
         null
        ],
        [
         "492781",
         "2022-11-11 09:50:37",
         "4a498818da925377eff2606a260cfa45",
         "f61777908059b318385882ff47b15c33",
         null,
         null,
         null,
         "False",
         "False",
         "True",
         null,
         "5",
         "2022-11-11 09:51:00.430983",
         "0.0",
         "0.0470488960541954",
         "89642",
         "Texto",
         "telegram",
         null,
         null
        ],
        [
         "493561",
         "2022-11-09 06:37:51",
         "4a498818da925377eff2606a260cfa45",
         "f61777908059b318385882ff47b15c33",
         null,
         null,
         null,
         "False",
         "False",
         "True",
         null,
         "5",
         "2022-11-09 06:38:01.682092",
         "0.0",
         "0.0957441387162458",
         "89154",
         "Texto",
         "telegram",
         null,
         null
        ],
        [
         "493663",
         "2022-11-09 07:48:24",
         null,
         "a26d427bec046513e600d165e98660ae",
         "d4c34e18a0d3fc82051327e81f0afa7a.jpg",
         "image/jpg",
         null,
         "True",
         "False",
         "True",
         null,
         "5",
         "2022-11-09 07:48:26.392779",
         "0.0",
         "0.1832856718543782",
         "6276",
         "Imagem",
         "telegram",
         null,
         "d4c34e18a0d3fc82051327e81f0afa7a"
        ]
       ],
       "shape": {
        "columns": 19,
        "rows": 16
       }
      },
      "text/html": [
       "<div>\n",
       "<style scoped>\n",
       "    .dataframe tbody tr th:only-of-type {\n",
       "        vertical-align: middle;\n",
       "    }\n",
       "\n",
       "    .dataframe tbody tr th {\n",
       "        vertical-align: top;\n",
       "    }\n",
       "\n",
       "    .dataframe thead th {\n",
       "        text-align: right;\n",
       "    }\n",
       "</style>\n",
       "<table border=\"1\" class=\"dataframe\">\n",
       "  <thead>\n",
       "    <tr style=\"text-align: right;\">\n",
       "      <th></th>\n",
       "      <th>date_message</th>\n",
       "      <th>id_member_anonymous</th>\n",
       "      <th>id_group_anonymous</th>\n",
       "      <th>media</th>\n",
       "      <th>media_type</th>\n",
       "      <th>media_url</th>\n",
       "      <th>has_media</th>\n",
       "      <th>has_media_url</th>\n",
       "      <th>trava_zap</th>\n",
       "      <th>text_content_anonymous</th>\n",
       "      <th>dataset_info_id</th>\n",
       "      <th>date_system</th>\n",
       "      <th>score_sentiment</th>\n",
       "      <th>score_misinformation</th>\n",
       "      <th>id_message</th>\n",
       "      <th>message_type</th>\n",
       "      <th>messenger</th>\n",
       "      <th>media_name</th>\n",
       "      <th>media_md5</th>\n",
       "    </tr>\n",
       "  </thead>\n",
       "  <tbody>\n",
       "    <tr>\n",
       "      <th>21944</th>\n",
       "      <td>2022-10-07 07:46:52</td>\n",
       "      <td>NaN</td>\n",
       "      <td>c712c1b704c22bd0cef50bc06125cdbd</td>\n",
       "      <td>NaN</td>\n",
       "      <td>NaN</td>\n",
       "      <td>NaN</td>\n",
       "      <td>False</td>\n",
       "      <td>False</td>\n",
       "      <td>True</td>\n",
       "      <td>NaN</td>\n",
       "      <td>5</td>\n",
       "      <td>2022-10-07 07:47:00.355052</td>\n",
       "      <td>0.0000</td>\n",
       "      <td>0.067344</td>\n",
       "      <td>53260</td>\n",
       "      <td>Texto</td>\n",
       "      <td>telegram</td>\n",
       "      <td>NaN</td>\n",
       "      <td>NaN</td>\n",
       "    </tr>\n",
       "    <tr>\n",
       "      <th>89109</th>\n",
       "      <td>2022-10-16 00:45:02</td>\n",
       "      <td>8a30ac374bc4b5930eaf0667a178546a</td>\n",
       "      <td>e56ec342fc599ebb4ed89655eb6f03aa</td>\n",
       "      <td>NaN</td>\n",
       "      <td>NaN</td>\n",
       "      <td>NaN</td>\n",
       "      <td>False</td>\n",
       "      <td>False</td>\n",
       "      <td>True</td>\n",
       "      <td>NaN</td>\n",
       "      <td>5</td>\n",
       "      <td>2022-10-16 00:45:04.064662</td>\n",
       "      <td>0.0000</td>\n",
       "      <td>0.056698</td>\n",
       "      <td>521324</td>\n",
       "      <td>Texto</td>\n",
       "      <td>telegram</td>\n",
       "      <td>NaN</td>\n",
       "      <td>NaN</td>\n",
       "    </tr>\n",
       "    <tr>\n",
       "      <th>294541</th>\n",
       "      <td>2022-10-04 14:22:47</td>\n",
       "      <td>39ee10516124280a22f1798f2a41f9a7</td>\n",
       "      <td>959f13e0079883060632c74ffc81c547</td>\n",
       "      <td>NaN</td>\n",
       "      <td>NaN</td>\n",
       "      <td>NaN</td>\n",
       "      <td>False</td>\n",
       "      <td>False</td>\n",
       "      <td>True</td>\n",
       "      <td>NaN</td>\n",
       "      <td>5</td>\n",
       "      <td>2022-10-04 14:22:48.808572</td>\n",
       "      <td>0.9734</td>\n",
       "      <td>0.010433</td>\n",
       "      <td>27241</td>\n",
       "      <td>Texto</td>\n",
       "      <td>telegram</td>\n",
       "      <td>NaN</td>\n",
       "      <td>NaN</td>\n",
       "    </tr>\n",
       "    <tr>\n",
       "      <th>324567</th>\n",
       "      <td>2022-10-25 14:55:55</td>\n",
       "      <td>e003fbb6ffedb1838e42360d41cab314</td>\n",
       "      <td>5b10d7739171149be6d9961e3350c071</td>\n",
       "      <td>NaN</td>\n",
       "      <td>NaN</td>\n",
       "      <td>NaN</td>\n",
       "      <td>False</td>\n",
       "      <td>False</td>\n",
       "      <td>True</td>\n",
       "      <td>NaN</td>\n",
       "      <td>5</td>\n",
       "      <td>2022-10-25 14:56:11.604972</td>\n",
       "      <td>0.9460</td>\n",
       "      <td>0.403945</td>\n",
       "      <td>1182938</td>\n",
       "      <td>Texto</td>\n",
       "      <td>telegram</td>\n",
       "      <td>NaN</td>\n",
       "      <td>NaN</td>\n",
       "    </tr>\n",
       "    <tr>\n",
       "      <th>389164</th>\n",
       "      <td>2022-10-30 20:19:52</td>\n",
       "      <td>NaN</td>\n",
       "      <td>c8f2de56550ed0bf85249608b7ead93d</td>\n",
       "      <td>NaN</td>\n",
       "      <td>NaN</td>\n",
       "      <td>NaN</td>\n",
       "      <td>False</td>\n",
       "      <td>False</td>\n",
       "      <td>True</td>\n",
       "      <td>NaN</td>\n",
       "      <td>5</td>\n",
       "      <td>2022-10-30 20:19:54.183578</td>\n",
       "      <td>0.0000</td>\n",
       "      <td>NaN</td>\n",
       "      <td>28330</td>\n",
       "      <td>Texto</td>\n",
       "      <td>telegram</td>\n",
       "      <td>NaN</td>\n",
       "      <td>NaN</td>\n",
       "    </tr>\n",
       "    <tr>\n",
       "      <th>423083</th>\n",
       "      <td>2022-11-03 00:40:23</td>\n",
       "      <td>NaN</td>\n",
       "      <td>4d3712f5a117e36180d4b4cbd07c540e</td>\n",
       "      <td>NaN</td>\n",
       "      <td>NaN</td>\n",
       "      <td>NaN</td>\n",
       "      <td>False</td>\n",
       "      <td>False</td>\n",
       "      <td>True</td>\n",
       "      <td>NaN</td>\n",
       "      <td>5</td>\n",
       "      <td>2022-11-03 00:40:48.993091</td>\n",
       "      <td>0.0000</td>\n",
       "      <td>0.067026</td>\n",
       "      <td>171104</td>\n",
       "      <td>Texto</td>\n",
       "      <td>telegram</td>\n",
       "      <td>NaN</td>\n",
       "      <td>NaN</td>\n",
       "    </tr>\n",
       "    <tr>\n",
       "      <th>466735</th>\n",
       "      <td>2022-11-07 20:47:35</td>\n",
       "      <td>4a498818da925377eff2606a260cfa45</td>\n",
       "      <td>f61777908059b318385882ff47b15c33</td>\n",
       "      <td>NaN</td>\n",
       "      <td>NaN</td>\n",
       "      <td>NaN</td>\n",
       "      <td>False</td>\n",
       "      <td>False</td>\n",
       "      <td>True</td>\n",
       "      <td>NaN</td>\n",
       "      <td>5</td>\n",
       "      <td>2022-11-07 20:48:16.653321</td>\n",
       "      <td>0.0000</td>\n",
       "      <td>0.036173</td>\n",
       "      <td>88890</td>\n",
       "      <td>Texto</td>\n",
       "      <td>telegram</td>\n",
       "      <td>NaN</td>\n",
       "      <td>NaN</td>\n",
       "    </tr>\n",
       "    <tr>\n",
       "      <th>467297</th>\n",
       "      <td>2022-11-08 10:07:14</td>\n",
       "      <td>4a498818da925377eff2606a260cfa45</td>\n",
       "      <td>f61777908059b318385882ff47b15c33</td>\n",
       "      <td>NaN</td>\n",
       "      <td>NaN</td>\n",
       "      <td>NaN</td>\n",
       "      <td>False</td>\n",
       "      <td>False</td>\n",
       "      <td>True</td>\n",
       "      <td>NaN</td>\n",
       "      <td>5</td>\n",
       "      <td>2022-11-08 10:07:25.260375</td>\n",
       "      <td>0.0000</td>\n",
       "      <td>0.072637</td>\n",
       "      <td>88977</td>\n",
       "      <td>Texto</td>\n",
       "      <td>telegram</td>\n",
       "      <td>NaN</td>\n",
       "      <td>NaN</td>\n",
       "    </tr>\n",
       "    <tr>\n",
       "      <th>471273</th>\n",
       "      <td>2022-11-08 20:37:52</td>\n",
       "      <td>4a498818da925377eff2606a260cfa45</td>\n",
       "      <td>f61777908059b318385882ff47b15c33</td>\n",
       "      <td>NaN</td>\n",
       "      <td>NaN</td>\n",
       "      <td>NaN</td>\n",
       "      <td>False</td>\n",
       "      <td>False</td>\n",
       "      <td>True</td>\n",
       "      <td>NaN</td>\n",
       "      <td>5</td>\n",
       "      <td>2022-11-08 20:38:02.773746</td>\n",
       "      <td>0.0000</td>\n",
       "      <td>0.031973</td>\n",
       "      <td>89039</td>\n",
       "      <td>Texto</td>\n",
       "      <td>telegram</td>\n",
       "      <td>NaN</td>\n",
       "      <td>NaN</td>\n",
       "    </tr>\n",
       "    <tr>\n",
       "      <th>478270</th>\n",
       "      <td>2022-11-09 19:50:12</td>\n",
       "      <td>4a498818da925377eff2606a260cfa45</td>\n",
       "      <td>f61777908059b318385882ff47b15c33</td>\n",
       "      <td>NaN</td>\n",
       "      <td>NaN</td>\n",
       "      <td>NaN</td>\n",
       "      <td>False</td>\n",
       "      <td>False</td>\n",
       "      <td>True</td>\n",
       "      <td>NaN</td>\n",
       "      <td>5</td>\n",
       "      <td>2022-11-09 19:50:36.039894</td>\n",
       "      <td>0.0000</td>\n",
       "      <td>0.029651</td>\n",
       "      <td>89212</td>\n",
       "      <td>Texto</td>\n",
       "      <td>telegram</td>\n",
       "      <td>NaN</td>\n",
       "      <td>NaN</td>\n",
       "    </tr>\n",
       "    <tr>\n",
       "      <th>483425</th>\n",
       "      <td>2022-11-10 02:28:43</td>\n",
       "      <td>4a498818da925377eff2606a260cfa45</td>\n",
       "      <td>f61777908059b318385882ff47b15c33</td>\n",
       "      <td>NaN</td>\n",
       "      <td>NaN</td>\n",
       "      <td>NaN</td>\n",
       "      <td>False</td>\n",
       "      <td>False</td>\n",
       "      <td>True</td>\n",
       "      <td>NaN</td>\n",
       "      <td>5</td>\n",
       "      <td>2022-11-10 02:28:52.927707</td>\n",
       "      <td>0.0000</td>\n",
       "      <td>0.069928</td>\n",
       "      <td>89295</td>\n",
       "      <td>Texto</td>\n",
       "      <td>telegram</td>\n",
       "      <td>NaN</td>\n",
       "      <td>NaN</td>\n",
       "    </tr>\n",
       "    <tr>\n",
       "      <th>489757</th>\n",
       "      <td>2022-11-10 20:55:00</td>\n",
       "      <td>4a498818da925377eff2606a260cfa45</td>\n",
       "      <td>f61777908059b318385882ff47b15c33</td>\n",
       "      <td>NaN</td>\n",
       "      <td>NaN</td>\n",
       "      <td>NaN</td>\n",
       "      <td>False</td>\n",
       "      <td>False</td>\n",
       "      <td>True</td>\n",
       "      <td>NaN</td>\n",
       "      <td>5</td>\n",
       "      <td>2022-11-10 20:55:14.406143</td>\n",
       "      <td>0.0000</td>\n",
       "      <td>0.223162</td>\n",
       "      <td>89499</td>\n",
       "      <td>Texto</td>\n",
       "      <td>telegram</td>\n",
       "      <td>NaN</td>\n",
       "      <td>NaN</td>\n",
       "    </tr>\n",
       "    <tr>\n",
       "      <th>489758</th>\n",
       "      <td>2022-11-10 20:55:01</td>\n",
       "      <td>4a498818da925377eff2606a260cfa45</td>\n",
       "      <td>f61777908059b318385882ff47b15c33</td>\n",
       "      <td>NaN</td>\n",
       "      <td>NaN</td>\n",
       "      <td>NaN</td>\n",
       "      <td>False</td>\n",
       "      <td>False</td>\n",
       "      <td>True</td>\n",
       "      <td>NaN</td>\n",
       "      <td>5</td>\n",
       "      <td>2022-11-10 20:55:14.483805</td>\n",
       "      <td>0.0000</td>\n",
       "      <td>NaN</td>\n",
       "      <td>89500</td>\n",
       "      <td>Texto</td>\n",
       "      <td>telegram</td>\n",
       "      <td>NaN</td>\n",
       "      <td>NaN</td>\n",
       "    </tr>\n",
       "    <tr>\n",
       "      <th>492781</th>\n",
       "      <td>2022-11-11 09:50:37</td>\n",
       "      <td>4a498818da925377eff2606a260cfa45</td>\n",
       "      <td>f61777908059b318385882ff47b15c33</td>\n",
       "      <td>NaN</td>\n",
       "      <td>NaN</td>\n",
       "      <td>NaN</td>\n",
       "      <td>False</td>\n",
       "      <td>False</td>\n",
       "      <td>True</td>\n",
       "      <td>NaN</td>\n",
       "      <td>5</td>\n",
       "      <td>2022-11-11 09:51:00.430983</td>\n",
       "      <td>0.0000</td>\n",
       "      <td>0.047049</td>\n",
       "      <td>89642</td>\n",
       "      <td>Texto</td>\n",
       "      <td>telegram</td>\n",
       "      <td>NaN</td>\n",
       "      <td>NaN</td>\n",
       "    </tr>\n",
       "    <tr>\n",
       "      <th>493561</th>\n",
       "      <td>2022-11-09 06:37:51</td>\n",
       "      <td>4a498818da925377eff2606a260cfa45</td>\n",
       "      <td>f61777908059b318385882ff47b15c33</td>\n",
       "      <td>NaN</td>\n",
       "      <td>NaN</td>\n",
       "      <td>NaN</td>\n",
       "      <td>False</td>\n",
       "      <td>False</td>\n",
       "      <td>True</td>\n",
       "      <td>NaN</td>\n",
       "      <td>5</td>\n",
       "      <td>2022-11-09 06:38:01.682092</td>\n",
       "      <td>0.0000</td>\n",
       "      <td>0.095744</td>\n",
       "      <td>89154</td>\n",
       "      <td>Texto</td>\n",
       "      <td>telegram</td>\n",
       "      <td>NaN</td>\n",
       "      <td>NaN</td>\n",
       "    </tr>\n",
       "    <tr>\n",
       "      <th>493663</th>\n",
       "      <td>2022-11-09 07:48:24</td>\n",
       "      <td>NaN</td>\n",
       "      <td>a26d427bec046513e600d165e98660ae</td>\n",
       "      <td>d4c34e18a0d3fc82051327e81f0afa7a.jpg</td>\n",
       "      <td>image/jpg</td>\n",
       "      <td>NaN</td>\n",
       "      <td>True</td>\n",
       "      <td>False</td>\n",
       "      <td>True</td>\n",
       "      <td>NaN</td>\n",
       "      <td>5</td>\n",
       "      <td>2022-11-09 07:48:26.392779</td>\n",
       "      <td>0.0000</td>\n",
       "      <td>0.183286</td>\n",
       "      <td>6276</td>\n",
       "      <td>Imagem</td>\n",
       "      <td>telegram</td>\n",
       "      <td>NaN</td>\n",
       "      <td>d4c34e18a0d3fc82051327e81f0afa7a</td>\n",
       "    </tr>\n",
       "  </tbody>\n",
       "</table>\n",
       "</div>"
      ],
      "text/plain": [
       "               date_message               id_member_anonymous  \\\n",
       "21944   2022-10-07 07:46:52                               NaN   \n",
       "89109   2022-10-16 00:45:02  8a30ac374bc4b5930eaf0667a178546a   \n",
       "294541  2022-10-04 14:22:47  39ee10516124280a22f1798f2a41f9a7   \n",
       "324567  2022-10-25 14:55:55  e003fbb6ffedb1838e42360d41cab314   \n",
       "389164  2022-10-30 20:19:52                               NaN   \n",
       "423083  2022-11-03 00:40:23                               NaN   \n",
       "466735  2022-11-07 20:47:35  4a498818da925377eff2606a260cfa45   \n",
       "467297  2022-11-08 10:07:14  4a498818da925377eff2606a260cfa45   \n",
       "471273  2022-11-08 20:37:52  4a498818da925377eff2606a260cfa45   \n",
       "478270  2022-11-09 19:50:12  4a498818da925377eff2606a260cfa45   \n",
       "483425  2022-11-10 02:28:43  4a498818da925377eff2606a260cfa45   \n",
       "489757  2022-11-10 20:55:00  4a498818da925377eff2606a260cfa45   \n",
       "489758  2022-11-10 20:55:01  4a498818da925377eff2606a260cfa45   \n",
       "492781  2022-11-11 09:50:37  4a498818da925377eff2606a260cfa45   \n",
       "493561  2022-11-09 06:37:51  4a498818da925377eff2606a260cfa45   \n",
       "493663  2022-11-09 07:48:24                               NaN   \n",
       "\n",
       "                      id_group_anonymous  \\\n",
       "21944   c712c1b704c22bd0cef50bc06125cdbd   \n",
       "89109   e56ec342fc599ebb4ed89655eb6f03aa   \n",
       "294541  959f13e0079883060632c74ffc81c547   \n",
       "324567  5b10d7739171149be6d9961e3350c071   \n",
       "389164  c8f2de56550ed0bf85249608b7ead93d   \n",
       "423083  4d3712f5a117e36180d4b4cbd07c540e   \n",
       "466735  f61777908059b318385882ff47b15c33   \n",
       "467297  f61777908059b318385882ff47b15c33   \n",
       "471273  f61777908059b318385882ff47b15c33   \n",
       "478270  f61777908059b318385882ff47b15c33   \n",
       "483425  f61777908059b318385882ff47b15c33   \n",
       "489757  f61777908059b318385882ff47b15c33   \n",
       "489758  f61777908059b318385882ff47b15c33   \n",
       "492781  f61777908059b318385882ff47b15c33   \n",
       "493561  f61777908059b318385882ff47b15c33   \n",
       "493663  a26d427bec046513e600d165e98660ae   \n",
       "\n",
       "                                       media media_type media_url  has_media  \\\n",
       "21944                                    NaN        NaN       NaN      False   \n",
       "89109                                    NaN        NaN       NaN      False   \n",
       "294541                                   NaN        NaN       NaN      False   \n",
       "324567                                   NaN        NaN       NaN      False   \n",
       "389164                                   NaN        NaN       NaN      False   \n",
       "423083                                   NaN        NaN       NaN      False   \n",
       "466735                                   NaN        NaN       NaN      False   \n",
       "467297                                   NaN        NaN       NaN      False   \n",
       "471273                                   NaN        NaN       NaN      False   \n",
       "478270                                   NaN        NaN       NaN      False   \n",
       "483425                                   NaN        NaN       NaN      False   \n",
       "489757                                   NaN        NaN       NaN      False   \n",
       "489758                                   NaN        NaN       NaN      False   \n",
       "492781                                   NaN        NaN       NaN      False   \n",
       "493561                                   NaN        NaN       NaN      False   \n",
       "493663  d4c34e18a0d3fc82051327e81f0afa7a.jpg  image/jpg       NaN       True   \n",
       "\n",
       "        has_media_url  trava_zap text_content_anonymous  dataset_info_id  \\\n",
       "21944           False       True                    NaN                5   \n",
       "89109           False       True                    NaN                5   \n",
       "294541          False       True                    NaN                5   \n",
       "324567          False       True                    NaN                5   \n",
       "389164          False       True                    NaN                5   \n",
       "423083          False       True                    NaN                5   \n",
       "466735          False       True                    NaN                5   \n",
       "467297          False       True                    NaN                5   \n",
       "471273          False       True                    NaN                5   \n",
       "478270          False       True                    NaN                5   \n",
       "483425          False       True                    NaN                5   \n",
       "489757          False       True                    NaN                5   \n",
       "489758          False       True                    NaN                5   \n",
       "492781          False       True                    NaN                5   \n",
       "493561          False       True                    NaN                5   \n",
       "493663          False       True                    NaN                5   \n",
       "\n",
       "                       date_system  score_sentiment  score_misinformation  \\\n",
       "21944   2022-10-07 07:47:00.355052           0.0000              0.067344   \n",
       "89109   2022-10-16 00:45:04.064662           0.0000              0.056698   \n",
       "294541  2022-10-04 14:22:48.808572           0.9734              0.010433   \n",
       "324567  2022-10-25 14:56:11.604972           0.9460              0.403945   \n",
       "389164  2022-10-30 20:19:54.183578           0.0000                   NaN   \n",
       "423083  2022-11-03 00:40:48.993091           0.0000              0.067026   \n",
       "466735  2022-11-07 20:48:16.653321           0.0000              0.036173   \n",
       "467297  2022-11-08 10:07:25.260375           0.0000              0.072637   \n",
       "471273  2022-11-08 20:38:02.773746           0.0000              0.031973   \n",
       "478270  2022-11-09 19:50:36.039894           0.0000              0.029651   \n",
       "483425  2022-11-10 02:28:52.927707           0.0000              0.069928   \n",
       "489757  2022-11-10 20:55:14.406143           0.0000              0.223162   \n",
       "489758  2022-11-10 20:55:14.483805           0.0000                   NaN   \n",
       "492781  2022-11-11 09:51:00.430983           0.0000              0.047049   \n",
       "493561  2022-11-09 06:38:01.682092           0.0000              0.095744   \n",
       "493663  2022-11-09 07:48:26.392779           0.0000              0.183286   \n",
       "\n",
       "        id_message message_type messenger media_name  \\\n",
       "21944        53260        Texto  telegram        NaN   \n",
       "89109       521324        Texto  telegram        NaN   \n",
       "294541       27241        Texto  telegram        NaN   \n",
       "324567     1182938        Texto  telegram        NaN   \n",
       "389164       28330        Texto  telegram        NaN   \n",
       "423083      171104        Texto  telegram        NaN   \n",
       "466735       88890        Texto  telegram        NaN   \n",
       "467297       88977        Texto  telegram        NaN   \n",
       "471273       89039        Texto  telegram        NaN   \n",
       "478270       89212        Texto  telegram        NaN   \n",
       "483425       89295        Texto  telegram        NaN   \n",
       "489757       89499        Texto  telegram        NaN   \n",
       "489758       89500        Texto  telegram        NaN   \n",
       "492781       89642        Texto  telegram        NaN   \n",
       "493561       89154        Texto  telegram        NaN   \n",
       "493663        6276       Imagem  telegram        NaN   \n",
       "\n",
       "                               media_md5  \n",
       "21944                                NaN  \n",
       "89109                                NaN  \n",
       "294541                               NaN  \n",
       "324567                               NaN  \n",
       "389164                               NaN  \n",
       "423083                               NaN  \n",
       "466735                               NaN  \n",
       "467297                               NaN  \n",
       "471273                               NaN  \n",
       "478270                               NaN  \n",
       "483425                               NaN  \n",
       "489757                               NaN  \n",
       "489758                               NaN  \n",
       "492781                               NaN  \n",
       "493561                               NaN  \n",
       "493663  d4c34e18a0d3fc82051327e81f0afa7a  "
      ]
     },
     "metadata": {},
     "output_type": "display_data"
    }
   ],
   "source": [
    "# Relatório final\n",
    "print(\"\\033[1mRelatório de Remoção:\\033[0m\")\n",
    "print(f\"• Registros originais: {len(df_inicial):,}\")\n",
    "print(f\"• Registros removidos: {trava_dist.get(True, 0):,}\")\n",
    "print(f\"• Registros restantes: {len(df_sem_trava_zap):,}\") \n",
    "\n",
    "# Visualização dos dados que foram removidos\n",
    "if trava_dist.get(True, 0) > 0:\n",
    "    display(\n",
    "        df_inicial[df_inicial['trava_zap'] == True].head(16)  \n",
    "    )"
   ]
  },
  {
   "cell_type": "markdown",
   "id": "56a44796",
   "metadata": {},
   "source": [
    "---"
   ]
  },
  {
   "cell_type": "markdown",
   "id": "68a7b840",
   "metadata": {},
   "source": [
    "### **(c)** Exportar os dados para um arquivo Parquet. "
   ]
  },
  {
   "cell_type": "markdown",
   "id": "8eef4cf0",
   "metadata": {},
   "source": [
    "Existe um método do pandas chamado `to_parquet`, sendo a forma mais eficiente de exportar DataFrames para o formato Parquet. Sua sintaxe básica inclui dois parâmetros essenciais:\n",
    "\n",
    "```bash\n",
    "df.to_parquet(\n",
    "    path='dados.parquet',  # Caminho do arquivo de saída\n",
    "    engine='auto'         # Motor de processamento (pyarrow/fastparquet)\n",
    ")\n",
    "```\n",
    "\n",
    "**Observação**: O `engine='auto'` deixa o Pandas escolher automaticamente o motor disponível (geralmente PyArrow ou Fastparquet), mas eu costumo usar o pyarrow explicitamente porque ele é mais estável e tem suporte a mais funcionalidades. Além disso, ele permite leitura e escrita super rápidas, e mantém os tipos de dados de forma mais fiel."
   ]
  },
  {
   "cell_type": "code",
   "execution_count": 10,
   "id": "1aa3607b",
   "metadata": {},
   "outputs": [],
   "source": [
    "df_sem_trava_zap.to_parquet('fakeTelegram.BR_2022_filtrado.parquet', engine='pyarrow')"
   ]
  },
  {
   "cell_type": "markdown",
   "id": "8a4557a1",
   "metadata": {},
   "source": [
    "---"
   ]
  },
  {
   "cell_type": "markdown",
   "id": "254f46dd",
   "metadata": {},
   "source": [
    "### **(d)** Exportar os dados para o DuckDB. "
   ]
  },
  {
   "cell_type": "markdown",
   "id": "c753dc55",
   "metadata": {},
   "source": [
    "Nesta etapa, exportei o DataFrame anterior para um banco de dados DuckDB, que é um sistema de gerenciamento de banco de dados analítico leve e embutido. Com isso, realizei alguns passos importantes.\n",
    "\n",
    "Primeiramente, fiz a instalação e a importação do DuckDB:"
   ]
  },
  {
   "cell_type": "code",
   "execution_count": 11,
   "id": "ce131db5",
   "metadata": {},
   "outputs": [],
   "source": [
    "# !pip install duckdb -- Apenas se ainda não estiver instalado\n",
    "import duckdb"
   ]
  },
  {
   "cell_type": "markdown",
   "id": "8160d57a",
   "metadata": {},
   "source": [
    "Criação (ou conexão) com o banco DuckDB:"
   ]
  },
  {
   "cell_type": "code",
   "execution_count": 12,
   "id": "45f602de",
   "metadata": {},
   "outputs": [],
   "source": [
    "conn = duckdb.connect(\"fakeTelegram.BR_2022_dados.duckdb\") "
   ]
  },
  {
   "cell_type": "markdown",
   "id": "ba50e464",
   "metadata": {},
   "source": [
    "Exportação do `df_sem_trava_zap` para uma tabela do banco:"
   ]
  },
  {
   "cell_type": "code",
   "execution_count": 13,
   "id": "0d44cdb4",
   "metadata": {},
   "outputs": [
    {
     "data": {
      "application/vnd.jupyter.widget-view+json": {
       "model_id": "ba3b7e58ea7d4140809f67a65bf88d65",
       "version_major": 2,
       "version_minor": 0
      },
      "text/plain": [
       "FloatProgress(value=0.0, layout=Layout(width='auto'), style=ProgressStyle(bar_color='black'))"
      ]
     },
     "metadata": {},
     "output_type": "display_data"
    },
    {
     "data": {
      "text/plain": [
       "<duckdb.duckdb.DuckDBPyConnection at 0x21eebe3f670>"
      ]
     },
     "execution_count": 13,
     "metadata": {},
     "output_type": "execute_result"
    }
   ],
   "source": [
    "conn.register(\"df_sem_trava_zap\", df_sem_trava_zap)  # Registra o DataFrame como uma \"tabela temporária\"\n",
    "conn.execute(\"CREATE TABLE IF NOT EXISTS tabela_dados AS SELECT * FROM df_sem_trava_zap\")  # Exporta os dados"
   ]
  },
  {
   "cell_type": "markdown",
   "id": "8e317edf",
   "metadata": {},
   "source": [
    "Verificação dos dados no banco:"
   ]
  },
  {
   "cell_type": "code",
   "execution_count": 14,
   "id": "35a7f718",
   "metadata": {},
   "outputs": [
    {
     "data": {
      "application/vnd.microsoft.datawrangler.viewer.v0+json": {
       "columns": [
        {
         "name": "index",
         "rawType": "int64",
         "type": "integer"
        },
        {
         "name": "date_message",
         "rawType": "object",
         "type": "string"
        },
        {
         "name": "id_member_anonymous",
         "rawType": "object",
         "type": "unknown"
        },
        {
         "name": "id_group_anonymous",
         "rawType": "object",
         "type": "string"
        },
        {
         "name": "media",
         "rawType": "object",
         "type": "unknown"
        },
        {
         "name": "media_type",
         "rawType": "object",
         "type": "unknown"
        },
        {
         "name": "media_url",
         "rawType": "object",
         "type": "unknown"
        },
        {
         "name": "has_media",
         "rawType": "bool",
         "type": "boolean"
        },
        {
         "name": "has_media_url",
         "rawType": "bool",
         "type": "boolean"
        },
        {
         "name": "trava_zap",
         "rawType": "bool",
         "type": "boolean"
        },
        {
         "name": "text_content_anonymous",
         "rawType": "object",
         "type": "unknown"
        },
        {
         "name": "dataset_info_id",
         "rawType": "int64",
         "type": "integer"
        },
        {
         "name": "date_system",
         "rawType": "object",
         "type": "string"
        },
        {
         "name": "score_sentiment",
         "rawType": "float64",
         "type": "float"
        },
        {
         "name": "score_misinformation",
         "rawType": "float64",
         "type": "float"
        },
        {
         "name": "id_message",
         "rawType": "int64",
         "type": "integer"
        },
        {
         "name": "message_type",
         "rawType": "object",
         "type": "string"
        },
        {
         "name": "messenger",
         "rawType": "object",
         "type": "string"
        },
        {
         "name": "media_name",
         "rawType": "object",
         "type": "unknown"
        },
        {
         "name": "media_md5",
         "rawType": "object",
         "type": "unknown"
        }
       ],
       "conversionMethod": "pd.DataFrame",
       "ref": "ba58098a-9d58-4253-801b-db6557ae1fda",
       "rows": [
        [
         "0",
         "2022-10-05 06:25:04",
         "1078cc958f0febe28f4d03207660715f",
         "12283e08a2eb5789201e105b34489ee7",
         null,
         null,
         null,
         "False",
         "False",
         "False",
         "Então é Fato Renato o áudio que eu ouvi no whatsapp isso ocorreu em Niterói principalmente no bairro Fonseca ?",
         "5",
         "2022-10-05 06:25:28.863641",
         "0.0",
         null,
         "16385",
         "Texto",
         "telegram",
         null,
         null
        ],
        [
         "1",
         "2022-10-05 06:25:08",
         null,
         "12283e08a2eb5789201e105b34489ee7",
         null,
         null,
         null,
         "False",
         "False",
         "False",
         "Saiu no YouTube do presidente a 8 horas atrás, infelizmente não consigo enviar para cá, mas é facilmente verificável no YouTube do presidente",
         "5",
         "2022-10-05 06:25:28.926311",
         "0.0644",
         null,
         "16386",
         "Texto",
         "telegram",
         null,
         null
        ],
        [
         "2",
         "2022-10-05 06:26:28",
         "92a2d8fd7144074f659d1d29dc3751da",
         "9f2d7394334eb224c061c9740b5748fc",
         null,
         null,
         null,
         "False",
         "False",
         "False",
         "É isso, nossa parte já foi quase toda feita. No segundo turno completamos nossa parte desse teatro. Essa é uma guerra de 4* geração na dimensão humana e uma guerra espiritual do bem contra o mal na dimensão do Universo. Pensamento positivo é fundamental, pensem sempre em algo bom. Deus continua nos abençoando, nosso livre arbítrio completa o curso.",
         "5",
         "2022-10-05 06:26:29.361949",
         "-0.3551",
         "0.1572422223558243",
         "16366",
         "Texto",
         "telegram",
         null,
         null
        ],
        [
         "3",
         "2022-10-05 06:27:28",
         "d60aa38f62b4977426b70944af4aff72",
         "c8f2de56550ed0bf85249608b7ead93d",
         "94dca4cda503100ebfda7ce2bcc060eb.jpg",
         "image/jpg",
         null,
         "True",
         "False",
         "False",
         "GENTE ACHEI ELES EM UMA SEITA MAÇONÁRICA",
         "5",
         "2022-10-05 06:27:29.935624",
         "0.0",
         null,
         "19281",
         "Imagem",
         "telegram",
         null,
         "94dca4cda503100ebfda7ce2bcc060eb"
        ],
        [
         "4",
         "2022-10-05 06:27:44",
         "cd6979b0b5265f08468fa1689b6300ce",
         "e56ec342fc599ebb4ed89655eb6f03aa",
         "5ad5c8bbe9da93a37fecf3e5aa5b0637.jpg",
         "image/jpg",
         null,
         "True",
         "False",
         "False",
         null,
         "5",
         "2022-10-05 06:28:29.316325",
         null,
         null,
         "507185",
         "Imagem",
         "telegram",
         null,
         "5ad5c8bbe9da93a37fecf3e5aa5b0637"
        ]
       ],
       "shape": {
        "columns": 19,
        "rows": 5
       }
      },
      "text/html": [
       "<div>\n",
       "<style scoped>\n",
       "    .dataframe tbody tr th:only-of-type {\n",
       "        vertical-align: middle;\n",
       "    }\n",
       "\n",
       "    .dataframe tbody tr th {\n",
       "        vertical-align: top;\n",
       "    }\n",
       "\n",
       "    .dataframe thead th {\n",
       "        text-align: right;\n",
       "    }\n",
       "</style>\n",
       "<table border=\"1\" class=\"dataframe\">\n",
       "  <thead>\n",
       "    <tr style=\"text-align: right;\">\n",
       "      <th></th>\n",
       "      <th>date_message</th>\n",
       "      <th>id_member_anonymous</th>\n",
       "      <th>id_group_anonymous</th>\n",
       "      <th>media</th>\n",
       "      <th>media_type</th>\n",
       "      <th>media_url</th>\n",
       "      <th>has_media</th>\n",
       "      <th>has_media_url</th>\n",
       "      <th>trava_zap</th>\n",
       "      <th>text_content_anonymous</th>\n",
       "      <th>dataset_info_id</th>\n",
       "      <th>date_system</th>\n",
       "      <th>score_sentiment</th>\n",
       "      <th>score_misinformation</th>\n",
       "      <th>id_message</th>\n",
       "      <th>message_type</th>\n",
       "      <th>messenger</th>\n",
       "      <th>media_name</th>\n",
       "      <th>media_md5</th>\n",
       "    </tr>\n",
       "  </thead>\n",
       "  <tbody>\n",
       "    <tr>\n",
       "      <th>0</th>\n",
       "      <td>2022-10-05 06:25:04</td>\n",
       "      <td>1078cc958f0febe28f4d03207660715f</td>\n",
       "      <td>12283e08a2eb5789201e105b34489ee7</td>\n",
       "      <td>None</td>\n",
       "      <td>None</td>\n",
       "      <td>None</td>\n",
       "      <td>False</td>\n",
       "      <td>False</td>\n",
       "      <td>False</td>\n",
       "      <td>Então é Fato Renato o áudio que eu ouvi no wha...</td>\n",
       "      <td>5</td>\n",
       "      <td>2022-10-05 06:25:28.863641</td>\n",
       "      <td>0.0000</td>\n",
       "      <td>NaN</td>\n",
       "      <td>16385</td>\n",
       "      <td>Texto</td>\n",
       "      <td>telegram</td>\n",
       "      <td>None</td>\n",
       "      <td>None</td>\n",
       "    </tr>\n",
       "    <tr>\n",
       "      <th>1</th>\n",
       "      <td>2022-10-05 06:25:08</td>\n",
       "      <td>None</td>\n",
       "      <td>12283e08a2eb5789201e105b34489ee7</td>\n",
       "      <td>None</td>\n",
       "      <td>None</td>\n",
       "      <td>None</td>\n",
       "      <td>False</td>\n",
       "      <td>False</td>\n",
       "      <td>False</td>\n",
       "      <td>Saiu no YouTube do presidente a 8 horas atrás,...</td>\n",
       "      <td>5</td>\n",
       "      <td>2022-10-05 06:25:28.926311</td>\n",
       "      <td>0.0644</td>\n",
       "      <td>NaN</td>\n",
       "      <td>16386</td>\n",
       "      <td>Texto</td>\n",
       "      <td>telegram</td>\n",
       "      <td>None</td>\n",
       "      <td>None</td>\n",
       "    </tr>\n",
       "    <tr>\n",
       "      <th>2</th>\n",
       "      <td>2022-10-05 06:26:28</td>\n",
       "      <td>92a2d8fd7144074f659d1d29dc3751da</td>\n",
       "      <td>9f2d7394334eb224c061c9740b5748fc</td>\n",
       "      <td>None</td>\n",
       "      <td>None</td>\n",
       "      <td>None</td>\n",
       "      <td>False</td>\n",
       "      <td>False</td>\n",
       "      <td>False</td>\n",
       "      <td>É isso, nossa parte já foi quase toda feita. N...</td>\n",
       "      <td>5</td>\n",
       "      <td>2022-10-05 06:26:29.361949</td>\n",
       "      <td>-0.3551</td>\n",
       "      <td>0.157242</td>\n",
       "      <td>16366</td>\n",
       "      <td>Texto</td>\n",
       "      <td>telegram</td>\n",
       "      <td>None</td>\n",
       "      <td>None</td>\n",
       "    </tr>\n",
       "    <tr>\n",
       "      <th>3</th>\n",
       "      <td>2022-10-05 06:27:28</td>\n",
       "      <td>d60aa38f62b4977426b70944af4aff72</td>\n",
       "      <td>c8f2de56550ed0bf85249608b7ead93d</td>\n",
       "      <td>94dca4cda503100ebfda7ce2bcc060eb.jpg</td>\n",
       "      <td>image/jpg</td>\n",
       "      <td>None</td>\n",
       "      <td>True</td>\n",
       "      <td>False</td>\n",
       "      <td>False</td>\n",
       "      <td>GENTE ACHEI ELES EM UMA SEITA MAÇONÁRICA</td>\n",
       "      <td>5</td>\n",
       "      <td>2022-10-05 06:27:29.935624</td>\n",
       "      <td>0.0000</td>\n",
       "      <td>NaN</td>\n",
       "      <td>19281</td>\n",
       "      <td>Imagem</td>\n",
       "      <td>telegram</td>\n",
       "      <td>None</td>\n",
       "      <td>94dca4cda503100ebfda7ce2bcc060eb</td>\n",
       "    </tr>\n",
       "    <tr>\n",
       "      <th>4</th>\n",
       "      <td>2022-10-05 06:27:44</td>\n",
       "      <td>cd6979b0b5265f08468fa1689b6300ce</td>\n",
       "      <td>e56ec342fc599ebb4ed89655eb6f03aa</td>\n",
       "      <td>5ad5c8bbe9da93a37fecf3e5aa5b0637.jpg</td>\n",
       "      <td>image/jpg</td>\n",
       "      <td>None</td>\n",
       "      <td>True</td>\n",
       "      <td>False</td>\n",
       "      <td>False</td>\n",
       "      <td>None</td>\n",
       "      <td>5</td>\n",
       "      <td>2022-10-05 06:28:29.316325</td>\n",
       "      <td>NaN</td>\n",
       "      <td>NaN</td>\n",
       "      <td>507185</td>\n",
       "      <td>Imagem</td>\n",
       "      <td>telegram</td>\n",
       "      <td>None</td>\n",
       "      <td>5ad5c8bbe9da93a37fecf3e5aa5b0637</td>\n",
       "    </tr>\n",
       "  </tbody>\n",
       "</table>\n",
       "</div>"
      ],
      "text/plain": [
       "          date_message               id_member_anonymous  \\\n",
       "0  2022-10-05 06:25:04  1078cc958f0febe28f4d03207660715f   \n",
       "1  2022-10-05 06:25:08                              None   \n",
       "2  2022-10-05 06:26:28  92a2d8fd7144074f659d1d29dc3751da   \n",
       "3  2022-10-05 06:27:28  d60aa38f62b4977426b70944af4aff72   \n",
       "4  2022-10-05 06:27:44  cd6979b0b5265f08468fa1689b6300ce   \n",
       "\n",
       "                 id_group_anonymous                                 media  \\\n",
       "0  12283e08a2eb5789201e105b34489ee7                                  None   \n",
       "1  12283e08a2eb5789201e105b34489ee7                                  None   \n",
       "2  9f2d7394334eb224c061c9740b5748fc                                  None   \n",
       "3  c8f2de56550ed0bf85249608b7ead93d  94dca4cda503100ebfda7ce2bcc060eb.jpg   \n",
       "4  e56ec342fc599ebb4ed89655eb6f03aa  5ad5c8bbe9da93a37fecf3e5aa5b0637.jpg   \n",
       "\n",
       "  media_type media_url  has_media  has_media_url  trava_zap  \\\n",
       "0       None      None      False          False      False   \n",
       "1       None      None      False          False      False   \n",
       "2       None      None      False          False      False   \n",
       "3  image/jpg      None       True          False      False   \n",
       "4  image/jpg      None       True          False      False   \n",
       "\n",
       "                              text_content_anonymous  dataset_info_id  \\\n",
       "0  Então é Fato Renato o áudio que eu ouvi no wha...                5   \n",
       "1  Saiu no YouTube do presidente a 8 horas atrás,...                5   \n",
       "2  É isso, nossa parte já foi quase toda feita. N...                5   \n",
       "3           GENTE ACHEI ELES EM UMA SEITA MAÇONÁRICA                5   \n",
       "4                                               None                5   \n",
       "\n",
       "                  date_system  score_sentiment  score_misinformation  \\\n",
       "0  2022-10-05 06:25:28.863641           0.0000                   NaN   \n",
       "1  2022-10-05 06:25:28.926311           0.0644                   NaN   \n",
       "2  2022-10-05 06:26:29.361949          -0.3551              0.157242   \n",
       "3  2022-10-05 06:27:29.935624           0.0000                   NaN   \n",
       "4  2022-10-05 06:28:29.316325              NaN                   NaN   \n",
       "\n",
       "   id_message message_type messenger media_name  \\\n",
       "0       16385        Texto  telegram       None   \n",
       "1       16386        Texto  telegram       None   \n",
       "2       16366        Texto  telegram       None   \n",
       "3       19281       Imagem  telegram       None   \n",
       "4      507185       Imagem  telegram       None   \n",
       "\n",
       "                          media_md5  \n",
       "0                              None  \n",
       "1                              None  \n",
       "2                              None  \n",
       "3  94dca4cda503100ebfda7ce2bcc060eb  \n",
       "4  5ad5c8bbe9da93a37fecf3e5aa5b0637  "
      ]
     },
     "execution_count": 14,
     "metadata": {},
     "output_type": "execute_result"
    }
   ],
   "source": [
    "conn.execute(\"SELECT * FROM tabela_dados LIMIT 5\").fetchdf()"
   ]
  },
  {
   "cell_type": "markdown",
   "id": "a5c57fdf",
   "metadata": {},
   "source": [
    "Como os próximos itens são de recuperação de dados utilizando o DuckDB, não vamos encerrar a conexão neste item, mas sim no final do processo.\n",
    "\n",
    "---"
   ]
  },
  {
   "cell_type": "markdown",
   "id": "c6c42e58",
   "metadata": {},
   "source": [
    "### **(e)** Utlizando o DuckDB recupere:"
   ]
  },
  {
   "cell_type": "markdown",
   "id": "5a38a7fd",
   "metadata": {},
   "source": [
    "#### **1**. A quantidade de mensagens"
   ]
  },
  {
   "cell_type": "markdown",
   "id": "b8a5f8ce",
   "metadata": {},
   "source": [
    "Para resolver este item, podemos utilizar de consultas SQL. A primeira consulta realizada foi para contar o total de mensagens armazenadas na tabela `tabela_dados` do banco DuckDB. Cada linha da tabela representa uma mensagem única, enviada em grupos do Telegram relacionados ao contexto do dataset analisado.\n",
    "> A tabela `tabela_dados` contém **557.570 mensagens** e **19 atributos**, entre eles: `date_message`, `id_group_anonymous`, `has_media`, `trava_zap`, `text_content_anonymous`, entre outros que serão úteis nas análises a seguir."
   ]
  },
  {
   "cell_type": "code",
   "execution_count": 39,
   "id": "b28709c3",
   "metadata": {},
   "outputs": [
    {
     "data": {
      "application/vnd.microsoft.datawrangler.viewer.v0+json": {
       "columns": [
        {
         "name": "index",
         "rawType": "int64",
         "type": "integer"
        },
        {
         "name": "total_mensagens",
         "rawType": "int64",
         "type": "integer"
        }
       ],
       "conversionMethod": "pd.DataFrame",
       "ref": "513ba609-0e1f-459d-a2aa-cbc1beb7b0eb",
       "rows": [
        [
         "0",
         "557570"
        ]
       ],
       "shape": {
        "columns": 1,
        "rows": 1
       }
      },
      "text/html": [
       "<div>\n",
       "<style scoped>\n",
       "    .dataframe tbody tr th:only-of-type {\n",
       "        vertical-align: middle;\n",
       "    }\n",
       "\n",
       "    .dataframe tbody tr th {\n",
       "        vertical-align: top;\n",
       "    }\n",
       "\n",
       "    .dataframe thead th {\n",
       "        text-align: right;\n",
       "    }\n",
       "</style>\n",
       "<table border=\"1\" class=\"dataframe\">\n",
       "  <thead>\n",
       "    <tr style=\"text-align: right;\">\n",
       "      <th></th>\n",
       "      <th>total_mensagens</th>\n",
       "    </tr>\n",
       "  </thead>\n",
       "  <tbody>\n",
       "    <tr>\n",
       "      <th>0</th>\n",
       "      <td>557570</td>\n",
       "    </tr>\n",
       "  </tbody>\n",
       "</table>\n",
       "</div>"
      ],
      "text/plain": [
       "   total_mensagens\n",
       "0           557570"
      ]
     },
     "metadata": {},
     "output_type": "display_data"
    }
   ],
   "source": [
    "qtd_mensagem = conn.execute(\"SELECT COUNT(*) AS total_mensagens FROM tabela_dados\").fetchdf()\n",
    "display(qtd_mensagem)"
   ]
  },
  {
   "cell_type": "markdown",
   "id": "5154a7a3",
   "metadata": {},
   "source": [
    "Esta consulta realiza uma contagem multidimensional das mensagens, fornecendo diferentes perspectivas sobre a composição do dataset:"
   ]
  },
  {
   "cell_type": "code",
   "execution_count": 41,
   "id": "756ef2a4",
   "metadata": {},
   "outputs": [
    {
     "data": {
      "application/vnd.microsoft.datawrangler.viewer.v0+json": {
       "columns": [
        {
         "name": "index",
         "rawType": "int64",
         "type": "integer"
        },
        {
         "name": "mensagens_com_id_valido",
         "rawType": "int64",
         "type": "integer"
        },
        {
         "name": "mensagens_unicas",
         "rawType": "int64",
         "type": "integer"
        },
        {
         "name": "mensagens_textuais",
         "rawType": "float64",
         "type": "float"
        },
        {
         "name": "mensagens_com_midia",
         "rawType": "float64",
         "type": "float"
        }
       ],
       "conversionMethod": "pd.DataFrame",
       "ref": "52417412-e5b6-48e4-8431-fa0380f8f7d9",
       "rows": [
        [
         "0",
         "557570",
         "364000",
         "444201.0",
         "332604.0"
        ]
       ],
       "shape": {
        "columns": 4,
        "rows": 1
       }
      },
      "text/html": [
       "<div>\n",
       "<style scoped>\n",
       "    .dataframe tbody tr th:only-of-type {\n",
       "        vertical-align: middle;\n",
       "    }\n",
       "\n",
       "    .dataframe tbody tr th {\n",
       "        vertical-align: top;\n",
       "    }\n",
       "\n",
       "    .dataframe thead th {\n",
       "        text-align: right;\n",
       "    }\n",
       "</style>\n",
       "<table border=\"1\" class=\"dataframe\">\n",
       "  <thead>\n",
       "    <tr style=\"text-align: right;\">\n",
       "      <th></th>\n",
       "      <th>mensagens_com_id_valido</th>\n",
       "      <th>mensagens_unicas</th>\n",
       "      <th>mensagens_textuais</th>\n",
       "      <th>mensagens_com_midia</th>\n",
       "    </tr>\n",
       "  </thead>\n",
       "  <tbody>\n",
       "    <tr>\n",
       "      <th>0</th>\n",
       "      <td>557570</td>\n",
       "      <td>364000</td>\n",
       "      <td>444201.0</td>\n",
       "      <td>332604.0</td>\n",
       "    </tr>\n",
       "  </tbody>\n",
       "</table>\n",
       "</div>"
      ],
      "text/plain": [
       "   mensagens_com_id_valido  mensagens_unicas  mensagens_textuais  \\\n",
       "0                   557570            364000            444201.0   \n",
       "\n",
       "   mensagens_com_midia  \n",
       "0             332604.0  "
      ]
     },
     "metadata": {},
     "output_type": "display_data"
    }
   ],
   "source": [
    "# text_content_anonymous leva em consideração apenas mensagem de texto\n",
    "qtd_mensagem_adicional = conn.execute(\"\"\"\n",
    "    SELECT \n",
    "    COUNT(id_message) AS mensagens_com_id_valido,\n",
    "    COUNT(DISTINCT id_message) AS mensagens_unicas,\n",
    "    SUM(CASE WHEN text_content_anonymous IS NOT NULL THEN 1 ELSE 0 END) AS mensagens_textuais,\n",
    "    SUM(CASE WHEN has_media = TRUE THEN 1 ELSE 0 END) AS mensagens_com_midia\n",
    "    FROM tabela_dados\n",
    "\"\"\").fetchdf()\n",
    "\n",
    "display(qtd_mensagem_adicional)"
   ]
  },
  {
   "cell_type": "markdown",
   "id": "db447afb",
   "metadata": {},
   "source": [
    "---"
   ]
  },
  {
   "cell_type": "markdown",
   "id": "72127bef",
   "metadata": {},
   "source": [
    "#### **2**. A quantidade de usuários"
   ]
  },
  {
   "cell_type": "markdown",
   "id": "ca8d7c8f",
   "metadata": {},
   "source": [
    "Para recuperar a quantidade de usuários únicos no dataset, utilizamos a coluna `id_member_anonymous`, que contém identificadores anônimos dos membros que enviaram mensagens nos grupos do Telegram. A consulta SQL no DuckDB foi a seguinte:"
   ]
  },
  {
   "cell_type": "code",
   "execution_count": 33,
   "id": "15886935",
   "metadata": {},
   "outputs": [
    {
     "data": {
      "application/vnd.microsoft.datawrangler.viewer.v0+json": {
       "columns": [
        {
         "name": "index",
         "rawType": "int64",
         "type": "integer"
        },
        {
         "name": "total_usuarios_unicos",
         "rawType": "int64",
         "type": "integer"
        },
        {
         "name": "total_registros",
         "rawType": "int64",
         "type": "integer"
        },
        {
         "name": "percentual_identificados",
         "rawType": "float64",
         "type": "float"
        }
       ],
       "conversionMethod": "pd.DataFrame",
       "ref": "0c588fb1-846e-4122-97de-d264095235ff",
       "rows": [
        [
         "0",
         "14809",
         "557570",
         "2.66"
        ]
       ],
       "shape": {
        "columns": 3,
        "rows": 1
       }
      },
      "text/html": [
       "<div>\n",
       "<style scoped>\n",
       "    .dataframe tbody tr th:only-of-type {\n",
       "        vertical-align: middle;\n",
       "    }\n",
       "\n",
       "    .dataframe tbody tr th {\n",
       "        vertical-align: top;\n",
       "    }\n",
       "\n",
       "    .dataframe thead th {\n",
       "        text-align: right;\n",
       "    }\n",
       "</style>\n",
       "<table border=\"1\" class=\"dataframe\">\n",
       "  <thead>\n",
       "    <tr style=\"text-align: right;\">\n",
       "      <th></th>\n",
       "      <th>total_usuarios_unicos</th>\n",
       "      <th>total_registros</th>\n",
       "      <th>percentual_identificados</th>\n",
       "    </tr>\n",
       "  </thead>\n",
       "  <tbody>\n",
       "    <tr>\n",
       "      <th>0</th>\n",
       "      <td>14809</td>\n",
       "      <td>557570</td>\n",
       "      <td>2.66</td>\n",
       "    </tr>\n",
       "  </tbody>\n",
       "</table>\n",
       "</div>"
      ],
      "text/plain": [
       "   total_usuarios_unicos  total_registros  percentual_identificados\n",
       "0                  14809           557570                      2.66"
      ]
     },
     "metadata": {},
     "output_type": "display_data"
    }
   ],
   "source": [
    "# Consulta para contar usuários únicos\n",
    "qtd_usuarios = conn.execute(\"\"\"\n",
    "    SELECT \n",
    "    COUNT(DISTINCT id_member_anonymous) AS total_usuarios_unicos,\n",
    "    COUNT(*) AS total_registros,\n",
    "    ROUND(COUNT(DISTINCT id_member_anonymous) * 100.0 / COUNT(*), 2) AS percentual_identificados\n",
    "    FROM tabela_dados\n",
    "\"\"\").fetchdf()\n",
    "\n",
    "display(qtd_usuarios)"
   ]
  },
  {
   "cell_type": "markdown",
   "id": "788fe149",
   "metadata": {},
   "source": [
    "**Observações importantes**\n",
    "\n",
    "- Algumas mensagens possuem `id_member_anonymous` como `NULL`, indicando que o remetente é anônimo ou não identificado.\n",
    "\n",
    "- O número de usuários únicos é menor que o total de mensagens, pois um mesmo usuário pode ter enviado múltiplas mensagens."
   ]
  },
  {
   "cell_type": "code",
   "execution_count": 34,
   "id": "e4b1edbd",
   "metadata": {},
   "outputs": [
    {
     "data": {
      "application/vnd.microsoft.datawrangler.viewer.v0+json": {
       "columns": [
        {
         "name": "index",
         "rawType": "int64",
         "type": "integer"
        },
        {
         "name": "mensagens_anonimas",
         "rawType": "int64",
         "type": "integer"
        },
        {
         "name": "mensagens_identificadas",
         "rawType": "int64",
         "type": "integer"
        },
        {
         "name": "usuarios_unicos_identificados",
         "rawType": "int64",
         "type": "integer"
        }
       ],
       "conversionMethod": "pd.DataFrame",
       "ref": "7c1b5650-8c0d-4fa7-aad3-10ab8d4d53fa",
       "rows": [
        [
         "0",
         "323337",
         "234233",
         "14809"
        ]
       ],
       "shape": {
        "columns": 3,
        "rows": 1
       }
      },
      "text/html": [
       "<div>\n",
       "<style scoped>\n",
       "    .dataframe tbody tr th:only-of-type {\n",
       "        vertical-align: middle;\n",
       "    }\n",
       "\n",
       "    .dataframe tbody tr th {\n",
       "        vertical-align: top;\n",
       "    }\n",
       "\n",
       "    .dataframe thead th {\n",
       "        text-align: right;\n",
       "    }\n",
       "</style>\n",
       "<table border=\"1\" class=\"dataframe\">\n",
       "  <thead>\n",
       "    <tr style=\"text-align: right;\">\n",
       "      <th></th>\n",
       "      <th>mensagens_anonimas</th>\n",
       "      <th>mensagens_identificadas</th>\n",
       "      <th>usuarios_unicos_identificados</th>\n",
       "    </tr>\n",
       "  </thead>\n",
       "  <tbody>\n",
       "    <tr>\n",
       "      <th>0</th>\n",
       "      <td>323337</td>\n",
       "      <td>234233</td>\n",
       "      <td>14809</td>\n",
       "    </tr>\n",
       "  </tbody>\n",
       "</table>\n",
       "</div>"
      ],
      "text/plain": [
       "   mensagens_anonimas  mensagens_identificadas  usuarios_unicos_identificados\n",
       "0              323337                   234233                          14809"
      ]
     },
     "metadata": {},
     "output_type": "display_data"
    }
   ],
   "source": [
    "qtd_sem_id = conn.execute(\"\"\"\n",
    "    SELECT \n",
    "    COUNT(CASE WHEN id_member_anonymous IS NULL THEN 1 END) AS mensagens_anonimas,\n",
    "    COUNT(CASE WHEN id_member_anonymous IS NOT NULL THEN 1 END) AS mensagens_identificadas,\n",
    "    COUNT(DISTINCT id_member_anonymous) AS usuarios_unicos_identificados\n",
    "FROM tabela_dados\n",
    "\"\"\").fetchdf()\n",
    "\n",
    "display(qtd_sem_id)"
   ]
  },
  {
   "cell_type": "markdown",
   "id": "d63ce677",
   "metadata": {},
   "source": [
    "**Relação quantitativa:**\n",
    "\n",
    "- Total de mensagens não nulas: 444.201\n",
    "\n",
    "- Usuários únicos: 14.809\n",
    "\n",
    "- Mensagens sem identificação: 323.337\n",
    "\n",
    "---"
   ]
  },
  {
   "cell_type": "markdown",
   "id": "b0948a82",
   "metadata": {},
   "source": [
    "#### **3**. A quantidade de grupos"
   ]
  },
  {
   "cell_type": "markdown",
   "id": "ca5b6ce0",
   "metadata": {},
   "source": [
    "Para identificar a quantidade de grupos únicos no dataset, utilizamos a coluna `id_group_anonymous` que contém identificadores únicos dos grupos do Telegram."
   ]
  },
  {
   "cell_type": "code",
   "execution_count": 43,
   "id": "d7c11da1",
   "metadata": {},
   "outputs": [
    {
     "data": {
      "application/vnd.microsoft.datawrangler.viewer.v0+json": {
       "columns": [
        {
         "name": "index",
         "rawType": "int64",
         "type": "integer"
        },
        {
         "name": "total_grupos_unicos",
         "rawType": "int64",
         "type": "integer"
        }
       ],
       "conversionMethod": "pd.DataFrame",
       "ref": "2326b83a-33b1-4c4d-a805-b2d94c535e64",
       "rows": [
        [
         "0",
         "178"
        ]
       ],
       "shape": {
        "columns": 1,
        "rows": 1
       }
      },
      "text/html": [
       "<div>\n",
       "<style scoped>\n",
       "    .dataframe tbody tr th:only-of-type {\n",
       "        vertical-align: middle;\n",
       "    }\n",
       "\n",
       "    .dataframe tbody tr th {\n",
       "        vertical-align: top;\n",
       "    }\n",
       "\n",
       "    .dataframe thead th {\n",
       "        text-align: right;\n",
       "    }\n",
       "</style>\n",
       "<table border=\"1\" class=\"dataframe\">\n",
       "  <thead>\n",
       "    <tr style=\"text-align: right;\">\n",
       "      <th></th>\n",
       "      <th>total_grupos_unicos</th>\n",
       "    </tr>\n",
       "  </thead>\n",
       "  <tbody>\n",
       "    <tr>\n",
       "      <th>0</th>\n",
       "      <td>178</td>\n",
       "    </tr>\n",
       "  </tbody>\n",
       "</table>\n",
       "</div>"
      ],
      "text/plain": [
       "   total_grupos_unicos\n",
       "0                  178"
      ]
     },
     "metadata": {},
     "output_type": "display_data"
    }
   ],
   "source": [
    "qtd_grupos = conn.execute(\"SELECT COUNT(DISTINCT id_group_anonymous) AS total_grupos_unicos FROM tabela_dados\").fetchdf()\n",
    "display(qtd_grupos)"
   ]
  },
  {
   "cell_type": "markdown",
   "id": "f9092978",
   "metadata": {},
   "source": [
    "Sobre a coluna `id_group_anonymous`:\n",
    "\n",
    "- **Valores**: São hashes MD5 únicos para cada grupo.\n",
    "- **NULL**: Indica grupos não identificados (raro em seu dataset).\n",
    "\n",
    "Relação com outras métricas:\n",
    "\n",
    "- Cada grupo contém múltiplos `id_member_anonymous` (membros).\n",
    "- Está relacionado com `message_type` (tipo de conteúdo predominante no grupo).\n",
    "\n",
    "Dados técnicos:\n",
    "\n",
    "- **Cardinalidade esperada**: Muito menor que o total de mensagens.\n",
    "- **Tipo de dado**: TEXT (32 caracteres hexadecimais)."
   ]
  },
  {
   "cell_type": "code",
   "execution_count": 45,
   "id": "56246247",
   "metadata": {},
   "outputs": [
    {
     "data": {
      "application/vnd.microsoft.datawrangler.viewer.v0+json": {
       "columns": [
        {
         "name": "index",
         "rawType": "int64",
         "type": "integer"
        },
        {
         "name": "grupos_unicos",
         "rawType": "int64",
         "type": "integer"
        },
        {
         "name": "total_mensagens",
         "rawType": "int64",
         "type": "integer"
        },
        {
         "name": "media_mensagens_por_grupo",
         "rawType": "float64",
         "type": "float"
        }
       ],
       "conversionMethod": "pd.DataFrame",
       "ref": "e9dd4ee3-77b9-44a7-b0f1-d35049df174b",
       "rows": [
        [
         "0",
         "178",
         "557570",
         "3132.42"
        ]
       ],
       "shape": {
        "columns": 3,
        "rows": 1
       }
      },
      "text/html": [
       "<div>\n",
       "<style scoped>\n",
       "    .dataframe tbody tr th:only-of-type {\n",
       "        vertical-align: middle;\n",
       "    }\n",
       "\n",
       "    .dataframe tbody tr th {\n",
       "        vertical-align: top;\n",
       "    }\n",
       "\n",
       "    .dataframe thead th {\n",
       "        text-align: right;\n",
       "    }\n",
       "</style>\n",
       "<table border=\"1\" class=\"dataframe\">\n",
       "  <thead>\n",
       "    <tr style=\"text-align: right;\">\n",
       "      <th></th>\n",
       "      <th>grupos_unicos</th>\n",
       "      <th>total_mensagens</th>\n",
       "      <th>media_mensagens_por_grupo</th>\n",
       "    </tr>\n",
       "  </thead>\n",
       "  <tbody>\n",
       "    <tr>\n",
       "      <th>0</th>\n",
       "      <td>178</td>\n",
       "      <td>557570</td>\n",
       "      <td>3132.42</td>\n",
       "    </tr>\n",
       "  </tbody>\n",
       "</table>\n",
       "</div>"
      ],
      "text/plain": [
       "   grupos_unicos  total_mensagens  media_mensagens_por_grupo\n",
       "0            178           557570                    3132.42"
      ]
     },
     "metadata": {},
     "output_type": "display_data"
    }
   ],
   "source": [
    "distribuicao_grupos = conn.execute(\"\"\"\n",
    "    SELECT \n",
    "    COUNT(DISTINCT id_group_anonymous) AS grupos_unicos,\n",
    "    COUNT(*) AS total_mensagens,\n",
    "    ROUND(COUNT(*) * 1.0 / COUNT(DISTINCT id_group_anonymous), 2) AS media_mensagens_por_grupo\n",
    "    FROM tabela_dados                                                        \n",
    "\"\"\").fetchdf()\n",
    "\n",
    "display(distribuicao_grupos)"
   ]
  },
  {
   "cell_type": "markdown",
   "id": "b8978bbb",
   "metadata": {},
   "source": [
    "---"
   ]
  },
  {
   "cell_type": "markdown",
   "id": "e75a99ce",
   "metadata": {},
   "source": [
    "#### **4**. Quantidade de mensagens que possuem apenas texto"
   ]
  },
  {
   "cell_type": "markdown",
   "id": "96e812da",
   "metadata": {},
   "source": [
    "Esta métrica identifica mensagens **exclusivamente textuais**, ou seja, que não contêm nenhum tipo de mídia anexada. Portanto, utilizei dados de duas colunas: `text_content_anonymous` e `has_media = FALSE`.\n",
    "\n",
    "```sql\n",
    "SELECT\n",
    "    COUNT(*) AS mensagens_apenas_texto\n",
    "FROM tabela_dados\n",
    "WHERE \n",
    "    text_content_anonymous IS NOT NULL  -- Possui conteúdo textual\n",
    "    AND has_media = FALSE               -- Não possui mídia anexada"
   ]
  },
  {
   "cell_type": "code",
   "execution_count": null,
   "id": "6990904a",
   "metadata": {},
   "outputs": [
    {
     "data": {
      "application/vnd.microsoft.datawrangler.viewer.v0+json": {
       "columns": [
        {
         "name": "index",
         "rawType": "int64",
         "type": "integer"
        },
        {
         "name": "total_mensagens",
         "rawType": "int64",
         "type": "integer"
        },
        {
         "name": "mensagens_apenas_texto",
         "rawType": "float64",
         "type": "float"
        },
        {
         "name": "percentual_apenas_texto",
         "rawType": "float64",
         "type": "float"
        }
       ],
       "conversionMethod": "pd.DataFrame",
       "ref": "f79166ef-a7e3-4d71-924a-6c01cf1c6258",
       "rows": [
        [
         "0",
         "557570",
         "224966.0",
         "40.35"
        ]
       ],
       "shape": {
        "columns": 3,
        "rows": 1
       }
      },
      "text/html": [
       "<div>\n",
       "<style scoped>\n",
       "    .dataframe tbody tr th:only-of-type {\n",
       "        vertical-align: middle;\n",
       "    }\n",
       "\n",
       "    .dataframe tbody tr th {\n",
       "        vertical-align: top;\n",
       "    }\n",
       "\n",
       "    .dataframe thead th {\n",
       "        text-align: right;\n",
       "    }\n",
       "</style>\n",
       "<table border=\"1\" class=\"dataframe\">\n",
       "  <thead>\n",
       "    <tr style=\"text-align: right;\">\n",
       "      <th></th>\n",
       "      <th>total_mensagens</th>\n",
       "      <th>mensagens_apenas_texto</th>\n",
       "      <th>percentual_apenas_texto</th>\n",
       "    </tr>\n",
       "  </thead>\n",
       "  <tbody>\n",
       "    <tr>\n",
       "      <th>0</th>\n",
       "      <td>557570</td>\n",
       "      <td>224966.0</td>\n",
       "      <td>40.35</td>\n",
       "    </tr>\n",
       "  </tbody>\n",
       "</table>\n",
       "</div>"
      ],
      "text/plain": [
       "   total_mensagens  mensagens_apenas_texto  percentual_apenas_texto\n",
       "0           557570                224966.0                    40.35"
      ]
     },
     "metadata": {},
     "output_type": "display_data"
    }
   ],
   "source": [
    "qtd_mensagem_texto = conn.execute(\"\"\"\n",
    "    SELECT\n",
    "    COUNT(*) AS total_mensagens,\n",
    "    SUM(CASE WHEN text_content_anonymous IS NOT NULL AND has_media = FALSE THEN 1 ELSE 0 END) AS mensagens_apenas_texto,\n",
    "    ROUND(SUM(CASE WHEN text_content_anonymous IS NOT NULL AND has_media = FALSE THEN 1 ELSE 0 END) * 100.0 / COUNT(*), 2) AS percentual_apenas_texto\n",
    "    FROM tabela_dados                             \n",
    "\"\"\").fetchdf()\n",
    "\n",
    "display(qtd_mensagem_texto)"
   ]
  },
  {
   "cell_type": "markdown",
   "id": "f102073d",
   "metadata": {},
   "source": [
    "#### **5**. Quantidade de mensagens contendo mídias"
   ]
  },
  {
   "cell_type": "code",
   "execution_count": null,
   "id": "07e14267",
   "metadata": {},
   "outputs": [],
   "source": [
    "# SUM(CASE WHEN text_content_anonymous IS NULL AND has_media = TRUE THEN 1 ELSE 0 END) AS mensagens_apenas_midia,\n",
    "# SUM(CASE WHEN text_content_anonymous IS NOT NULL AND has_media = TRUE THEN 1 ELSE 0 END) AS mensagens_mistas"
   ]
  }
 ],
 "metadata": {
  "kernelspec": {
   "display_name": "Python 3",
   "language": "python",
   "name": "python3"
  },
  "language_info": {
   "codemirror_mode": {
    "name": "ipython",
    "version": 3
   },
   "file_extension": ".py",
   "mimetype": "text/x-python",
   "name": "python",
   "nbconvert_exporter": "python",
   "pygments_lexer": "ipython3",
   "version": "3.12.0"
  }
 },
 "nbformat": 4,
 "nbformat_minor": 5
}
